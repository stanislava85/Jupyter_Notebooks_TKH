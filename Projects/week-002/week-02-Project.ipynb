{
 "cells": [
  {
   "cell_type": "markdown",
   "metadata": {},
   "source": [
    "# Week 2 Project"
   ]
  },
  {
   "cell_type": "markdown",
   "metadata": {},
   "source": [
    "Our company \"Zeta\" has an algorithmic trading bot that purchases shares of stocks. We've been buying shares of TSLA and MSFT for a while now. Our bot buys 1 share at a time and the prices of each purchase is listed below."
   ]
  },
  {
   "cell_type": "code",
   "execution_count": 4,
   "metadata": {},
   "outputs": [
    {
     "name": "stdout",
     "output_type": "stream",
     "text": [
      "tsla prices are correct\n"
     ]
    }
   ],
   "source": [
    "tsla = [132.56, 105.2, 137.54, 124.31, 124.54, 108.52, 139.35, 121.49, 117.89, 100.79, 116.63, 108.02, 103.25, 105.72, 114.12, 128.8, 102.37, 114.9, 132.4, 135.3, 151.3, 134.8, 111.1, 132.1, 156.31, 114.58, 140.42, 127.02, 126.36, 132.64, 152.15, 126.19, 156.41, 148.95, 164.27, 129.99, 145.17, 151.98, 148.75, 144.75, 133.51, 146.97, 144.09, 129.79, 152.15, 161.55, 158.24, 157.89, 163.06, 180.86, 185.57, 198.29, 184.2, 183.68, 193.8, 201.32]\n",
    "\n",
    "# to verify your numbers are correct and have not been altered, uncomment and run the following:\n",
    "import hashlib; print(\"tsla prices are correct\" if hashlib.md5(str(tsla).encode()).hexdigest() == '2157a3cc6c68b3ae3e26ae3101cf2c44' else \"tsla prices are incorrect\")"
   ]
  },
  {
   "cell_type": "code",
   "execution_count": 5,
   "metadata": {},
   "outputs": [
    {
     "name": "stdout",
     "output_type": "stream",
     "text": [
      "msft prices are correct\n"
     ]
    }
   ],
   "source": [
    "msft = [167.69, 151.72, 141.38, 136.95, 146.5, 157.5, 177.42, 152.06, 147.97, 174.94, 162.73, 183.69, 139.53, 181.82, 167.49, 176.05, 179.25, 149.65, 183.38, 149.73, 151.2, 189.22, 166.28, 187.13, 195.46, 158.8, 154.24, 190.19, 153.23, 192.82, 176.67, 192.04, 177.19, 165.53, 184.44, 186.13, 199.71, 174.14, 175.61, 184.14, 205.52, 202.13, 180.19, 198.55, 204.91, 187.49, 183.52, 199.76, 212.38, 191.2, 222.39, 195.15, 185.7, 224.32, 195.49, 208.56, 184.11, 211.48, 207.77, 202.89, 186.68, 203.91, 234.01, 202.05, 205.86, 193.8, 213.51, 220.2, 234.56, 200.86, 206.04, 243.46, 243.3, 208.68, 220.96, 237.67, 208.42, 214.33, 251.64, 212.35, 217.35, 213.11, 251.61, 247.34, 234.95, 256.97, 235.53, 240.86, 213.03, 235.38, 257.89, 246.18, 234.4, 222.91, 253.5, 257.53, 266.9, 226.3, 230.97, 270.01]\n",
    "\n",
    "# to verify your numbers are correct and have not been altered, uncomment and run the following:\n",
    "import hashlib; print(\"msft prices are correct\" if hashlib.md5(str(msft).encode()).hexdigest() == '5e0b3acc2d380c957f9db6487c0f4807' else \"msft prices are incorrect\")"
   ]
  },
  {
   "cell_type": "markdown",
   "metadata": {},
   "source": [
    "### How many shares of TSLA did we buy?\n",
    "\n",
    "Note: remember that for each buy, we bought 1 share."
   ]
  },
  {
   "cell_type": "code",
   "execution_count": 9,
   "metadata": {},
   "outputs": [
    {
     "name": "stdout",
     "output_type": "stream",
     "text": [
      "56\n",
      "201.32\n"
     ]
    }
   ],
   "source": [
    "print(len(tsla))\n",
    "#print(tsla[55])"
   ]
  },
  {
   "cell_type": "markdown",
   "metadata": {},
   "source": [
    "### What was the average price of our TSLA shares?\n",
    "\n",
    "Average price = cost of all shares / number of shares"
   ]
  },
  {
   "cell_type": "code",
   "execution_count": 10,
   "metadata": {},
   "outputs": [
    {
     "name": "stdout",
     "output_type": "stream",
     "text": [
      "140.06982142857143\n"
     ]
    }
   ],
   "source": [
    "print((sum(tsla)) / 56)"
   ]
  },
  {
   "cell_type": "markdown",
   "metadata": {},
   "source": [
    "### What was the lowest price we paid for a share of TSLA?"
   ]
  },
  {
   "cell_type": "code",
   "execution_count": 11,
   "metadata": {},
   "outputs": [
    {
     "name": "stdout",
     "output_type": "stream",
     "text": [
      "100.79\n"
     ]
    }
   ],
   "source": [
    "print(min(tsla))"
   ]
  },
  {
   "cell_type": "markdown",
   "metadata": {},
   "source": [
    "### What was the highest price we paid for a share of TSLA?"
   ]
  },
  {
   "cell_type": "code",
   "execution_count": 12,
   "metadata": {},
   "outputs": [
    {
     "name": "stdout",
     "output_type": "stream",
     "text": [
      "201.32\n"
     ]
    }
   ],
   "source": [
    "print(max(tsla))"
   ]
  },
  {
   "cell_type": "markdown",
   "metadata": {},
   "source": [
    "### Sort the list of TSLA shares in place. What was the five lowest prices we paid for TSLA shares?"
   ]
  },
  {
   "cell_type": "code",
   "execution_count": 13,
   "metadata": {},
   "outputs": [
    {
     "name": "stdout",
     "output_type": "stream",
     "text": [
      "[100.79, 102.37, 103.25, 105.2, 105.72]\n"
     ]
    }
   ],
   "source": [
    "new = sorted(tsla)\n",
    "print(new[:5])\n"
   ]
  },
  {
   "cell_type": "markdown",
   "metadata": {},
   "source": [
    "### What were the five highest prices we paid for TSLA shares? \n",
    "\n",
    "Use a slice that includes a negative number"
   ]
  },
  {
   "cell_type": "code",
   "execution_count": 14,
   "metadata": {},
   "outputs": [
    {
     "name": "stdout",
     "output_type": "stream",
     "text": [
      "[184.2, 185.57, 193.8, 198.29, 201.32]\n"
     ]
    }
   ],
   "source": [
    "#print(len(new))\n",
    "print(new[-5:])\n"
   ]
  },
  {
   "cell_type": "markdown",
   "metadata": {},
   "source": [
    "### How many unique values do we have in our list of TSLA prices? "
   ]
  },
  {
   "cell_type": "code",
   "execution_count": 15,
   "metadata": {},
   "outputs": [
    {
     "name": "stdout",
     "output_type": "stream",
     "text": [
      "56\n",
      "55\n"
     ]
    }
   ],
   "source": [
    "#turning the original list into a set\n",
    "print(len(tsla))\n",
    "ss = set(tsla)\n",
    "\n",
    "#turning the set back into a list with the unique values and finding the length\n",
    "new_tsla = list(ss)\n",
    "print(len(new_tsla))"
   ]
  },
  {
   "cell_type": "markdown",
   "metadata": {},
   "source": [
    "### We have another algo running that also buys shares of TSLA. Using the following list and the set from before, output a list of the unique set of prices of the combined lists."
   ]
  },
  {
   "cell_type": "code",
   "execution_count": 16,
   "metadata": {},
   "outputs": [
    {
     "name": "stdout",
     "output_type": "stream",
     "text": [
      "other tsla prices are correct\n"
     ]
    }
   ],
   "source": [
    "other_tsla_list = [114.12, 128.8, 102.37, 114.9, 132.4, 135.3, 151.3, 134.8, 111.1, 132.1]\n",
    "\n",
    "# to verify the above numbers are correct and have not been altered, uncomment and run the following:\n",
    "import hashlib; print(\"other tsla prices are correct\" if hashlib.md5(str(other_tsla_list).encode()).hexdigest() == '9d855ef64203308925c4259ca8864cda' else \"other prices are incorrect\")"
   ]
  },
  {
   "cell_type": "code",
   "execution_count": 17,
   "metadata": {},
   "outputs": [
    {
     "name": "stdout",
     "output_type": "stream",
     "text": [
      "65\n"
     ]
    }
   ],
   "source": [
    "#joining the 2 lists and finding out the number of elements\n",
    "new_list = new_tsla + other_tsla_list\n",
    "#print(new_list)\n",
    "print(len(new_list))\n"
   ]
  },
  {
   "cell_type": "code",
   "execution_count": 18,
   "metadata": {},
   "outputs": [
    {
     "name": "stdout",
     "output_type": "stream",
     "text": [
      "55\n"
     ]
    }
   ],
   "source": [
    "#turnig the new list into a set and finding out the number of unique elements\n",
    "list_a = set(new_list)\n",
    "#print(list_a)\n",
    "print(len(list_a))"
   ]
  },
  {
   "cell_type": "markdown",
   "metadata": {},
   "source": [
    "### Create a dictionary from the list of TSLA prices. Use the index of the sorted list as the key."
   ]
  },
  {
   "cell_type": "code",
   "execution_count": 19,
   "metadata": {},
   "outputs": [
    {
     "name": "stdout",
     "output_type": "stream",
     "text": [
      "{0: 100.79, 1: 102.37, 2: 103.25, 3: 105.2, 4: 105.72, 5: 108.02, 6: 108.52, 7: 111.1, 8: 114.12, 9: 114.58, 10: 114.9, 11: 116.63, 12: 117.89, 13: 121.49, 14: 124.31, 15: 124.54, 16: 126.19, 17: 126.36, 18: 127.02, 19: 128.8, 20: 129.79, 21: 129.99, 22: 132.1, 23: 132.4, 24: 132.56, 25: 132.64, 26: 133.51, 27: 134.8, 28: 135.3, 29: 137.54, 30: 139.35, 31: 140.42, 32: 144.09, 33: 144.75, 34: 145.17, 35: 146.97, 36: 148.75, 37: 148.95, 38: 151.3, 39: 151.98, 40: 152.15, 41: 152.15, 42: 156.31, 43: 156.41, 44: 157.89, 45: 158.24, 46: 161.55, 47: 163.06, 48: 164.27, 49: 180.86, 50: 183.68, 51: 184.2, 52: 185.57, 53: 193.8, 54: 198.29, 55: 201.32}\n"
     ]
    }
   ],
   "source": [
    "#new = sorted(tsla)\n",
    "dict_tsla = { i : new[i] for i in range(0, len(new) ) }\n",
    "print(dict_tsla)"
   ]
  },
  {
   "cell_type": "markdown",
   "metadata": {},
   "source": [
    "### How many shares of MSFT did we buy? \n",
    "\n",
    "Note: remember that for each buy, we bought only 1 share."
   ]
  },
  {
   "cell_type": "code",
   "execution_count": 20,
   "metadata": {},
   "outputs": [
    {
     "name": "stdout",
     "output_type": "stream",
     "text": [
      "100\n"
     ]
    }
   ],
   "source": [
    "print(len(msft))\n",
    "#print(msft[99])"
   ]
  },
  {
   "cell_type": "markdown",
   "metadata": {},
   "source": [
    "### What was the average price of our MSFT shares?"
   ]
  },
  {
   "cell_type": "code",
   "execution_count": 21,
   "metadata": {},
   "outputs": [
    {
     "name": "stdout",
     "output_type": "stream",
     "text": [
      "199.4014\n"
     ]
    }
   ],
   "source": [
    "print((sum(msft)) / 100)"
   ]
  },
  {
   "cell_type": "markdown",
   "metadata": {},
   "source": [
    "### What was the lowest price we paid for a share of MSFT?"
   ]
  },
  {
   "cell_type": "code",
   "execution_count": 22,
   "metadata": {},
   "outputs": [
    {
     "name": "stdout",
     "output_type": "stream",
     "text": [
      "136.95\n"
     ]
    }
   ],
   "source": [
    "print(min(msft))"
   ]
  },
  {
   "cell_type": "markdown",
   "metadata": {},
   "source": [
    "### What was the highest price we paid for a share of MSFT?"
   ]
  },
  {
   "cell_type": "code",
   "execution_count": 23,
   "metadata": {},
   "outputs": [
    {
     "name": "stdout",
     "output_type": "stream",
     "text": [
      "270.01\n"
     ]
    }
   ],
   "source": [
    "print(max(msft))"
   ]
  },
  {
   "cell_type": "markdown",
   "metadata": {},
   "source": [
    "### Sort the list of MSFT prices in place. What were the five lowest prices we paid for MSFT shares?"
   ]
  },
  {
   "cell_type": "code",
   "execution_count": 24,
   "metadata": {},
   "outputs": [
    {
     "name": "stdout",
     "output_type": "stream",
     "text": [
      "[136.95, 139.53, 141.38, 146.5, 147.97]\n"
     ]
    }
   ],
   "source": [
    "new_1 = sorted(msft)\n",
    "print(new_1[:5])\n"
   ]
  },
  {
   "cell_type": "markdown",
   "metadata": {},
   "source": [
    "### What were the five highest prices we paid for MSFT shares? \n",
    "\n",
    "Use a slice that includes a negative number"
   ]
  },
  {
   "cell_type": "code",
   "execution_count": 25,
   "metadata": {},
   "outputs": [
    {
     "name": "stdout",
     "output_type": "stream",
     "text": [
      "[256.97, 257.53, 257.89, 266.9, 270.01]\n"
     ]
    }
   ],
   "source": [
    "print(new_1[-5:])\n"
   ]
  },
  {
   "cell_type": "markdown",
   "metadata": {},
   "source": [
    "### How many unique values do we have in our list of MSFT prices?"
   ]
  },
  {
   "cell_type": "code",
   "execution_count": 27,
   "metadata": {},
   "outputs": [
    {
     "name": "stdout",
     "output_type": "stream",
     "text": [
      "100\n",
      "100\n"
     ]
    }
   ],
   "source": [
    "#turning the original list into a set to fund the unique values\n",
    "sss = set(msft)\n",
    "print(len(sss))\n",
    "\n",
    "#turning the set back into a list and finding the length\n",
    "new_msft = list(sss)\n",
    "print(len(new_msft))"
   ]
  },
  {
   "cell_type": "markdown",
   "metadata": {},
   "source": [
    "### We have another algo running that also buys shares of TSLA. Using the following list and the set from before, output a list of the unique prices of the combined lists."
   ]
  },
  {
   "cell_type": "code",
   "execution_count": 28,
   "metadata": {},
   "outputs": [
    {
     "name": "stdout",
     "output_type": "stream",
     "text": [
      "other_msft_prices are correct\n"
     ]
    }
   ],
   "source": [
    "other_msft_list = [149.73, 151.2, 189.22, 166.28, 187.13, 195.46, 158.8, 154.24, 190.19, 153.23, 192.82, 176.67, 192.04, 177.19]\n",
    "\n",
    "# to verify the above numbers are correct and have not been altered, uncomment and run the following:\n",
    "import hashlib; print(\"other_msft_prices are correct\" if hashlib.md5(str(other_msft_list).encode()).hexdigest() == '2340257f15e1472379a92741c3a83fdd' else \"other msft prices are incorrect\")"
   ]
  },
  {
   "cell_type": "code",
   "execution_count": 29,
   "metadata": {},
   "outputs": [
    {
     "name": "stdout",
     "output_type": "stream",
     "text": [
      "110\n"
     ]
    }
   ],
   "source": [
    "#joining the 2 lists and finding out the number of elements\n",
    "new_list_1 = new_msft + other_tsla_list\n",
    "#print(new_list_1)\n",
    "print(len(new_list_1))\n",
    "#print(type(new_list_1))"
   ]
  },
  {
   "cell_type": "code",
   "execution_count": 30,
   "metadata": {},
   "outputs": [
    {
     "name": "stdout",
     "output_type": "stream",
     "text": [
      "110\n"
     ]
    }
   ],
   "source": [
    "#turnig the new list into a set and finding out the number of unique elements\n",
    "list_b = set(new_list_1)\n",
    "#print(list_b)\n",
    "print(len(list_b))\n",
    "#print(type(list_b))"
   ]
  },
  {
   "cell_type": "markdown",
   "metadata": {},
   "source": [
    "### Create a dictionary from the list of MSFT prices. Use the index of the sorted list as the key."
   ]
  },
  {
   "cell_type": "code",
   "execution_count": 31,
   "metadata": {},
   "outputs": [
    {
     "name": "stdout",
     "output_type": "stream",
     "text": [
      "{0: 136.95, 1: 139.53, 2: 141.38, 3: 146.5, 4: 147.97, 5: 149.65, 6: 149.73, 7: 151.2, 8: 151.72, 9: 152.06, 10: 153.23, 11: 154.24, 12: 157.5, 13: 158.8, 14: 162.73, 15: 165.53, 16: 166.28, 17: 167.49, 18: 167.69, 19: 174.14, 20: 174.94, 21: 175.61, 22: 176.05, 23: 176.67, 24: 177.19, 25: 177.42, 26: 179.25, 27: 180.19, 28: 181.82, 29: 183.38, 30: 183.52, 31: 183.69, 32: 184.11, 33: 184.14, 34: 184.44, 35: 185.7, 36: 186.13, 37: 186.68, 38: 187.13, 39: 187.49, 40: 189.22, 41: 190.19, 42: 191.2, 43: 192.04, 44: 192.82, 45: 193.8, 46: 195.15, 47: 195.46, 48: 195.49, 49: 198.55, 50: 199.71, 51: 199.76, 52: 200.86, 53: 202.05, 54: 202.13, 55: 202.89, 56: 203.91, 57: 204.91, 58: 205.52, 59: 205.86, 60: 206.04, 61: 207.77, 62: 208.42, 63: 208.56, 64: 208.68, 65: 211.48, 66: 212.35, 67: 212.38, 68: 213.03, 69: 213.11, 70: 213.51, 71: 214.33, 72: 217.35, 73: 220.2, 74: 220.96, 75: 222.39, 76: 222.91, 77: 224.32, 78: 226.3, 79: 230.97, 80: 234.01, 81: 234.4, 82: 234.56, 83: 234.95, 84: 235.38, 85: 235.53, 86: 237.67, 87: 240.86, 88: 243.3, 89: 243.46, 90: 246.18, 91: 247.34, 92: 251.61, 93: 251.64, 94: 253.5, 95: 256.97, 96: 257.53, 97: 257.89, 98: 266.9, 99: 270.01}\n"
     ]
    }
   ],
   "source": [
    "#new_1 = sorted(msft)\n",
    "dict_msft = { i : new_1[i] for i in range(0, len(new_1) ) }\n",
    "print(dict_msft)"
   ]
  },
  {
   "cell_type": "code",
   "execution_count": 32,
   "metadata": {},
   "outputs": [],
   "source": [
    "#print(dict_msft.keys())\n",
    "#print(dict_msft.values())"
   ]
  },
  {
   "cell_type": "code",
   "execution_count": null,
   "metadata": {},
   "outputs": [],
   "source": []
  }
 ],
 "metadata": {
  "kernelspec": {
   "display_name": "Python 3",
   "language": "python",
   "name": "python3"
  },
  "language_info": {
   "codemirror_mode": {
    "name": "ipython",
    "version": 3
   },
   "file_extension": ".py",
   "mimetype": "text/x-python",
   "name": "python",
   "nbconvert_exporter": "python",
   "pygments_lexer": "ipython3",
   "version": "3.8.3"
  }
 },
 "nbformat": 4,
 "nbformat_minor": 4
}
