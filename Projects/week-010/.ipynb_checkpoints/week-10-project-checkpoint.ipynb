{
 "cells": [
  {
   "cell_type": "markdown",
   "metadata": {},
   "source": [
    "<div style=\"background: #000;\n",
    "            color: #FFF;\n",
    "            margin: 0px;\n",
    "                padding: 10px 0px 20px 0px;\n",
    "            text-align: center; \n",
    "                \">\n",
    "    <h1>Week 10 Project</h1>\n",
    "</div>"
   ]
  },
  {
   "cell_type": "markdown",
   "metadata": {},
   "source": [
    "For your final project, you will:\n",
    "* Scrape data of significance (will need approval) and clean it up.\n",
    "* Automate the process of storing it in your database. \n",
    "* Create a flask application that will make our database accessible from the web. Your flask views can return html or json depending on your preference.\n",
    "\n",
    "### First deliverable for your final project:\n",
    "Due next week (data tbd)\n",
    "* The script that scrapes your data and stores it in your database.\n",
    "* The git repo to store your work with the script included.\n"
   ]
  },
  {
   "cell_type": "code",
   "execution_count": 15,
   "metadata": {},
   "outputs": [],
   "source": [
    "#from flask import Flask\n",
    "import requests\n",
    "from bs4 import BeautifulSoup\n",
    "import csv\n",
    "\n",
    "#app = Flask('webapp')\n",
    "url = 'https://worldpopulationreview.com/country-rankings/maternity-leave-by-country'  \n",
    "page = requests.get(url)\n",
    "soup = BeautifulSoup(page.content)\n",
    "table = soup.find(\"table\")"
   ]
  },
  {
   "cell_type": "code",
   "execution_count": 16,
   "metadata": {},
   "outputs": [
    {
     "data": {
      "text/plain": [
       "[['Bulgaria', '58.6', '90.00%', '6,948,445'],\n",
       " ['Greece', '43', '49.00%', '10,423,054'],\n",
       " ['United Kingdom', '39', '30.00%', '67,886,011'],\n",
       " ['Slovakia', '34', '75.00%', '5,459,642'],\n",
       " ['Croatia', '30', '100.00%', '4,105,267'],\n",
       " ['Czech Republic', '28', '61.00%', '10,708,981'],\n",
       " ['Ireland', '26', '26.00%', '4,937,786'],\n",
       " ['Hungary', '24', '70.00%', '9,660,351'],\n",
       " ['Italy', '21.7', '80.00%', '60,461,826'],\n",
       " ['Luxembourg', '20', '100.00%', '625,978'],\n",
       " ['Estonia', '20', '100.00%', '1,326,535'],\n",
       " ['Poland', '20', '100.00%', '37,846,611'],\n",
       " ['Malta', '18', '86.00%', '441,543'],\n",
       " ['Cyprus', '18', '75.00%', '1,207,359'],\n",
       " ['Lithuania', '18', '100.00%', '2,722,289'],\n",
       " ['New Zealand', '18', '46.00%', '4,822,233'],\n",
       " ['Denmark', '18', '53.00%', '5,792,202'],\n",
       " ['Chile', '18', '100.00%', '19,116,201'],\n",
       " ['Romania', '18', '85.00%', '19,237,691'],\n",
       " ['Australia', '18', '42.00%', '25,499,884'],\n",
       " ['Finland', '17.5', '74.00%', '5,540,720'],\n",
       " ['Costa Rica', '17.3', '100.00%', '5,094,118'],\n",
       " ['Latvia', '16', '80.00%', '1,886,198'],\n",
       " ['Austria', '16', '100.00%', '9,006,398'],\n",
       " ['Netherlands', '16', '100.00%', '17,134,872'],\n",
       " ['Canada', '16', '49.00%', '37,742,154'],\n",
       " ['Spain', '16', '100.00%', '46,754,778'],\n",
       " ['France', '16', '90.00%', '65,273,511'],\n",
       " ['Turkey', '16', '66.00%', '84,339,067'],\n",
       " ['Slovenia', '15', '100.00%', '2,078,938'],\n",
       " ['Israel', '15', '100.00%', '8,655,535'],\n",
       " ['Belgium', '15', '63.00%', '11,589,623'],\n",
       " ['Switzerland', '14', '58.00%', '8,654,622'],\n",
       " ['Germany', '14', '100.00%', '83,783,942'],\n",
       " ['Japan', '14', '67.00%', '126,476,461'],\n",
       " ['Iceland', '13', '68.00%', '341,243'],\n",
       " ['Norway', '13', '94.00%', '5,421,241'],\n",
       " ['Sweden', '12.9', '77.00%', '10,099,265'],\n",
       " ['South Korea', '12.9', '80.00%', '51,269,185'],\n",
       " ['Mexico', '12', '100.00%', '128,932,753'],\n",
       " ['Portugal', '6', '100.00%', '10,196,709'],\n",
       " ['United States', '', '0.00%', '331,002,651']]"
      ]
     },
     "execution_count": 16,
     "metadata": {},
     "output_type": "execute_result"
    }
   ],
   "source": [
    "# def get_all_tables(soup):\n",
    "#     \"\"\"Extracts and returns all tables in a soup object\"\"\"\n",
    "#     return soup.find_all(\"table\")\n",
    "\n",
    "#get_all_tables(soup)\n",
    "\n",
    "def get_table_headers(table):\n",
    "    \"\"\"Given a table soup, returns all the headers\"\"\"\n",
    "    headers = []\n",
    "    for th in table.find(\"tr\").find_all(\"th\"):\n",
    "        headers.append(th.text.strip())\n",
    "    return headers\n",
    "\n",
    "#get_table_headers(table)\n",
    "\n",
    "def get_table_rows(table):\n",
    "    \"\"\"Given a table, returns all its rows\"\"\"\n",
    "    rows = []\n",
    "    for tr in table.find_all(\"tr\")[1:]:\n",
    "        cells = []\n",
    "        # grab all td tags in this table row\n",
    "        tds = tr.find_all(\"td\")\n",
    "        if len(tds) == 0:\n",
    "            # if no td tags, search for th tags\n",
    "            # can be found especially in wikipedia tables below the table\n",
    "            ths = tr.find_all(\"th\")\n",
    "            for th in ths:\n",
    "                cells.append(th.text.strip())\n",
    "        else:\n",
    "            # use regular td tags\n",
    "            for td in tds:\n",
    "                cells.append(td.text.strip())\n",
    "        rows.append(cells)\n",
    "    return rows\n",
    "\n",
    "get_table_rows(table)"
   ]
  },
  {
   "cell_type": "code",
   "execution_count": 17,
   "metadata": {},
   "outputs": [],
   "source": [
    "def data_to_csv(URL):\n",
    "    with open(\"stanislava-maternity-leave.csv\", \"w\") as csvfile:\n",
    "        file = csv.writer(csvfile)\n",
    "        file.writerow([\"Country\",\"Weeks Paid\",'Payment Rate', 'Population 2020'])\n",
    "        file.writerows(get_table_rows(table))\n",
    "        \n",
    "data_to_csv(url)"
   ]
  },
  {
   "cell_type": "code",
   "execution_count": 70,
   "metadata": {},
   "outputs": [
    {
     "data": {
      "text/plain": [
       "[['Country', 'Weeks Paid', 'Payment Rate', 'Population 2020'],\n",
       " ['Bulgaria', '58.6', '90.00%', '6,948,445'],\n",
       " ['Greece', '43', '49.00%', '10,423,054'],\n",
       " ['United Kingdom', '39', '30.00%', '67,886,011'],\n",
       " ['Slovakia', '34', '75.00%', '5,459,642'],\n",
       " ['Croatia', '30', '100.00%', '4,105,267'],\n",
       " ['Czech Republic', '28', '61.00%', '10,708,981'],\n",
       " ['Ireland', '26', '26.00%', '4,937,786'],\n",
       " ['Hungary', '24', '70.00%', '9,660,351'],\n",
       " ['Italy', '21.7', '80.00%', '60,461,826'],\n",
       " ['Luxembourg', '20', '100.00%', '625,978'],\n",
       " ['Estonia', '20', '100.00%', '1,326,535'],\n",
       " ['Poland', '20', '100.00%', '37,846,611'],\n",
       " ['Malta', '18', '86.00%', '441,543'],\n",
       " ['Cyprus', '18', '75.00%', '1,207,359'],\n",
       " ['Lithuania', '18', '100.00%', '2,722,289'],\n",
       " ['New Zealand', '18', '46.00%', '4,822,233'],\n",
       " ['Denmark', '18', '53.00%', '5,792,202'],\n",
       " ['Chile', '18', '100.00%', '19,116,201'],\n",
       " ['Romania', '18', '85.00%', '19,237,691'],\n",
       " ['Australia', '18', '42.00%', '25,499,884'],\n",
       " ['Finland', '17.5', '74.00%', '5,540,720'],\n",
       " ['Costa Rica', '17.3', '100.00%', '5,094,118'],\n",
       " ['Latvia', '16', '80.00%', '1,886,198'],\n",
       " ['Austria', '16', '100.00%', '9,006,398'],\n",
       " ['Netherlands', '16', '100.00%', '17,134,872'],\n",
       " ['Canada', '16', '49.00%', '37,742,154'],\n",
       " ['Spain', '16', '100.00%', '46,754,778'],\n",
       " ['France', '16', '90.00%', '65,273,511'],\n",
       " ['Turkey', '16', '66.00%', '84,339,067'],\n",
       " ['Slovenia', '15', '100.00%', '2,078,938'],\n",
       " ['Israel', '15', '100.00%', '8,655,535'],\n",
       " ['Belgium', '15', '63.00%', '11,589,623'],\n",
       " ['Switzerland', '14', '58.00%', '8,654,622'],\n",
       " ['Germany', '14', '100.00%', '83,783,942'],\n",
       " ['Japan', '14', '67.00%', '126,476,461'],\n",
       " ['Iceland', '13', '68.00%', '341,243'],\n",
       " ['Norway', '13', '94.00%', '5,421,241'],\n",
       " ['Sweden', '12.9', '77.00%', '10,099,265'],\n",
       " ['South Korea', '12.9', '80.00%', '51,269,185'],\n",
       " ['Mexico', '12', '100.00%', '128,932,753'],\n",
       " ['Portugal', '6', '100.00%', '10,196,709'],\n",
       " ['United States', '', '0.00%', '331,002,651']]"
      ]
     },
     "execution_count": 70,
     "metadata": {},
     "output_type": "execute_result"
    }
   ],
   "source": [
    "#version 2, this script also works for scrapping the same url\n",
    "\n",
    "def tableDataText(table):    \n",
    "    \"\"\"Parses a html segment started with tag <table> followed \n",
    "    by multiple <tr> (table rows) and inner <td> (table data) tags. \n",
    "    It returns a list of rows with inner columns. \n",
    "    Accepts only one <th> (table header/data) in the first row.\n",
    "    \"\"\"\n",
    "    def rowgetDataText(tr, coltag='td'): # td (data) or th (header)       \n",
    "        return [td.get_text(strip=True) for td in tr.find_all(coltag)]  \n",
    "    rows = []\n",
    "    trs = table.find_all('tr')\n",
    "    headerow = rowgetDataText(trs[0], 'th')\n",
    "    if headerow: # if there is a header row include first\n",
    "        rows.append(headerow)\n",
    "        trs = trs[1:]\n",
    "    for tr in trs: # for every table row\n",
    "        rows.append(rowgetDataText(tr, 'td') ) # data row       \n",
    "    return rows\n",
    "\n",
    "tableDataText(soup.find(\"table\"))"
   ]
  },
  {
   "cell_type": "code",
   "execution_count": null,
   "metadata": {},
   "outputs": [],
   "source": []
  }
 ],
 "metadata": {
  "kernelspec": {
   "display_name": "Python 3",
   "language": "python",
   "name": "python3"
  },
  "language_info": {
   "codemirror_mode": {
    "name": "ipython",
    "version": 3
   },
   "file_extension": ".py",
   "mimetype": "text/x-python",
   "name": "python",
   "nbconvert_exporter": "python",
   "pygments_lexer": "ipython3",
   "version": "3.8.3"
  }
 },
 "nbformat": 4,
 "nbformat_minor": 4
}
