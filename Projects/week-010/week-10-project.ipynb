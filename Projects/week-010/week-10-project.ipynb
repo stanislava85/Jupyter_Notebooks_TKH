{
 "cells": [
  {
   "cell_type": "markdown",
   "metadata": {},
   "source": [
    "<div style=\"background: #000;\n",
    "            color: #FFF;\n",
    "            margin: 0px;\n",
    "                padding: 10px 0px 20px 0px;\n",
    "            text-align: center; \n",
    "                \">\n",
    "    <h1>Week 10 Project</h1>\n",
    "</div>"
   ]
  },
  {
   "cell_type": "markdown",
   "metadata": {},
   "source": [
    "For your final project, you will:\n",
    "* Scrape data of significance (will need approval) and clean it up.\n",
    "* Automate the process of storing it in your database. \n",
    "* Create a flask application that will make our database accessible from the web. Your flask views can return html or json depending on your preference.\n",
    "\n",
    "### First deliverable for your final project:\n",
    "Due next week (data tbd)\n",
    "* The script that scrapes your data and stores it in your database.\n",
    "* The git repo to store your work with the script included.\n"
   ]
  },
  {
   "cell_type": "code",
   "execution_count": 81,
   "metadata": {},
   "outputs": [],
   "source": [
    "import requests\n",
    "from bs4 import BeautifulSoup\n",
    "import csv\n",
    "\n",
    "url = 'https://worldpopulationreview.com/country-rankings/maternity-leave-by-country'  \n",
    "\n",
    "def Mat_Leave(url):\n",
    "    response = requests.get(url)\n",
    "    soup = BeautifulSoup(response.text)\n",
    "    table = soup.find(\"table\")\n",
    "    rows = table.find_all('tr')\n",
    "    th_td_list = []\n",
    "    for row in rows:\n",
    "        th = row.findAll('th')\n",
    "        tds = row.findAll('td')\n",
    "        th_td_data_row = []\n",
    "        for td in tds:\n",
    "            td_text = td.text.strip()\n",
    "            td_text = td_text.replace(',',\"\")\n",
    "            if td_text == 'n/a' or td_text == '':\n",
    "                td_text = None      \n",
    "            else:\n",
    "                td_text = td_text          \n",
    "            th_td_data_row.append(td_text)              \n",
    "        th_td_list.append(th_td_data_row)\n",
    "        th_td_list[0] = [\"Country\", \"Weeks Paid\", \"Payment Rate\", \"Population 2020\"]\n",
    "    return th_td_list\n",
    "\n",
    "#Mat_Leave(url)"
   ]
  },
  {
   "cell_type": "code",
   "execution_count": 82,
   "metadata": {},
   "outputs": [],
   "source": [
    "def data_to_csv(url):\n",
    "    with open(\"stanislava-maternity-leave.csv\", \"w\") as csvfile:\n",
    "        file = csv.writer(csvfile)\n",
    "        file.writerow([\"Country\",\"Weeks Paid\",'Payment Rate', 'Population 2020'])\n",
    "        file.writerows(Mat_Leave(url))\n",
    "        \n",
    "#if __name__ == '__main__':\n",
    "data_to_csv(url)"
   ]
  },
  {
   "cell_type": "code",
   "execution_count": null,
   "metadata": {},
   "outputs": [],
   "source": [
    "#older code before I got to the final version\n",
    "##########\n",
    "\n",
    "# import requests\n",
    "# from bs4 import BeautifulSoup\n",
    "# import csv\n",
    "\n",
    "# url = 'https://worldpopulationreview.com/country-rankings/maternity-leave-by-country'  \n",
    "# page = requests.get(url)\n",
    "# soup = BeautifulSoup(page.content)\n",
    "# table = soup.find(\"table\")"
   ]
  },
  {
   "cell_type": "code",
   "execution_count": null,
   "metadata": {},
   "outputs": [],
   "source": [
    "# # def get_all_tables(soup):\n",
    "# #     \"\"\"Extracts and returns all tables in a soup object\"\"\"\n",
    "# #     return soup.find_all(\"table\")\n",
    "\n",
    "# #get_all_tables(soup)\n",
    "\n",
    "# def get_table_headers(table):\n",
    "#     \"\"\"Given a table soup, returns all the headers\"\"\"\n",
    "#     headers = []\n",
    "#     for th in table.find(\"tr\").find_all(\"th\"):\n",
    "#         headers.append(th.text.strip())\n",
    "#     return headers\n",
    "\n",
    "# #get_table_headers(table)\n",
    "\n",
    "# def get_table_rows(table):\n",
    "#     \"\"\"Given a table, returns all its rows\"\"\"\n",
    "#     rows = []\n",
    "#     for tr in table.find_all(\"tr\")[1:]:\n",
    "#         cells = []\n",
    "#         # grab all td tags in this table row\n",
    "#         tds = tr.find_all(\"td\")\n",
    "#         if len(tds) == 0:\n",
    "#             # if no td tags, search for th tags\n",
    "#             # can be found especially in wikipedia tables below the table\n",
    "#             ths = tr.find_all(\"th\")\n",
    "#             for th in ths:\n",
    "#                 cells.append(th.text.strip())\n",
    "#         else:\n",
    "#             # use regular td tags\n",
    "#             for td in tds:\n",
    "#                 cells.append(td.text.strip())\n",
    "#         rows.append(cells)\n",
    "#     return rows\n",
    "\n",
    "# get_table_rows(table)"
   ]
  },
  {
   "cell_type": "code",
   "execution_count": null,
   "metadata": {},
   "outputs": [],
   "source": [
    "# #version 2, this script also works for scrapping the same url\n",
    "\n",
    "# def tableDataText(table):    \n",
    "#     \"\"\"Parses a html segment started with tag <table> followed \n",
    "#     by multiple <tr> (table rows) and inner <td> (table data) tags. \n",
    "#     It returns a list of rows with inner columns. \n",
    "#     Accepts only one <th> (table header/data) in the first row.\n",
    "#     \"\"\"\n",
    "#     def rowgetDataText(tr, coltag='td'): # td (data) or th (header)       \n",
    "#         return [td.get_text(strip=True) for td in tr.find_all(coltag)]  \n",
    "#     rows = []\n",
    "#     trs = table.find_all('tr')\n",
    "#     headerow = rowgetDataText(trs[0], 'th')\n",
    "#     if headerow: # if there is a header row include first\n",
    "#         rows.append(headerow)\n",
    "#         trs = trs[1:]\n",
    "#     for tr in trs: # for every table row\n",
    "#         rows.append(rowgetDataText(tr, 'td') ) # data row       \n",
    "#     return rows\n",
    "\n",
    "# tableDataText(soup.find(\"table\"))"
   ]
  },
  {
   "cell_type": "code",
   "execution_count": null,
   "metadata": {},
   "outputs": [],
   "source": []
  }
 ],
 "metadata": {
  "kernelspec": {
   "display_name": "Python 3",
   "language": "python",
   "name": "python3"
  },
  "language_info": {
   "codemirror_mode": {
    "name": "ipython",
    "version": 3
   },
   "file_extension": ".py",
   "mimetype": "text/x-python",
   "name": "python",
   "nbconvert_exporter": "python",
   "pygments_lexer": "ipython3",
   "version": "3.8.3"
  }
 },
 "nbformat": 4,
 "nbformat_minor": 4
}
