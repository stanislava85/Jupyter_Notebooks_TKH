{
 "cells": [
  {
   "cell_type": "markdown",
   "metadata": {},
   "source": [
    "<div style=\"background: #000;\n",
    "            color: #FFF;\n",
    "            margin: 0px;\n",
    "                padding: 10px 0px 20px 0px;\n",
    "            text-align: center; \n",
    "                \">\n",
    "    <h1>Week 8 - Project</h1>\n",
    "</div>"
   ]
  },
  {
   "cell_type": "markdown",
   "metadata": {},
   "source": [
    "#### Write a python script that:  \n",
    "- scrapes the following webpage:  \n",
    "https://en.wikipedia.org/wiki/Template:COVID-19_pandemic_data    \n",
    "- parses the html for the table of covid data  \n",
    "- fills missing values with `None`   \n",
    "- calculates the death and recovery rate for each  country   \n",
    "- writes the data in csv format to a file called:`{your-name}-covid-report.csv`\n",
    "\n",
    "Your csv file should contain the following \"header\" (and corresponding data):\n",
    "\n",
    "```csv\n",
    "country,cases,deaths,recoveries,death_rate,recovery_rate\n",
    "\n",
    "```\n",
    "\n",
    "Please ask for clarification if needed.\n"
   ]
  },
  {
   "cell_type": "code",
   "execution_count": 1,
   "metadata": {},
   "outputs": [],
   "source": [
    "import requests\n",
    "from bs4 import BeautifulSoup\n",
    "import csv\n",
    "\n",
    "url = \"https://en.wikipedia.org/wiki/Template:COVID-19_pandemic_data\"\n",
    "def CovidData(url):\n",
    "    response = requests.get(url)\n",
    "    soup = BeautifulSoup(response.text)\n",
    "    rows = soup.find('tbody').findAll('tr')[2:235]\n",
    "    th_td_list = []\n",
    "    for row in rows:\n",
    "        th = row.findAll('th')[1]\n",
    "        tds = row.findAll('td')[:-1]\n",
    "        th_td_data_row = []\n",
    "        th_td_data_row.append(th.text.strip().split('[')[0])\n",
    "        for td in tds:\n",
    "            td_text = td.text.strip()\n",
    "            td_text = ''.join(td_text.split(','))\n",
    "            if td_text == 'No data':\n",
    "                td_text = None\n",
    "            elif '.' in td_text:\n",
    "                count_digits = len(td_text) - td_text.index('.') - 1\n",
    "                td_text = int(''.join('9.492'.split('.'))) / 10 ** count_digits\n",
    "            else:\n",
    "                td_text = int(td_text)\n",
    "            th_td_data_row.append(td_text)\n",
    "        th_td_list.append(th_td_data_row)\n",
    "    for row_list in th_td_list[:-1]:\n",
    "        if row_list[2] != None and row_list[1] != None:\n",
    "            death_rate = float(\"%.3f\" % (row_list[2] / row_list[1]))\n",
    "        else:\n",
    "            death_rate = None\n",
    "        if row_list[3] != None and row_list[1] != None:\n",
    "            recovery_rate = float(\"%.3f\" % (row_list[3] / row_list[1]))\n",
    "        else:\n",
    "            recovery_rate = None\n",
    "        row_list.append(death_rate)\n",
    "        row_list.append(recovery_rate)\n",
    "    return th_td_list"
   ]
  },
  {
   "cell_type": "code",
   "execution_count": 2,
   "metadata": {},
   "outputs": [],
   "source": [
    "# writes the data in csv format to a file called:{your-name}-covid-report.csv\n",
    "def data_to_csv(url):\n",
    "    with open(\"stanislava-covid-report.csv\", \"w\") as csvfile:\n",
    "        file = csv.writer(csvfile)\n",
    "        file.writerow([\"Country\",\"Cases\",\"Deaths\",\"Recoveries\",\"Death Rate\",\"Recovery Rate\"])\n",
    "        file.writerows(CovidData(url))\n",
    "        \n",
    "data_to_csv(url)"
   ]
  },
  {
   "cell_type": "code",
   "execution_count": null,
   "metadata": {},
   "outputs": [],
   "source": []
  }
 ],
 "metadata": {
  "kernelspec": {
   "display_name": "Python 3",
   "language": "python",
   "name": "python3"
  },
  "language_info": {
   "codemirror_mode": {
    "name": "ipython",
    "version": 3
   },
   "file_extension": ".py",
   "mimetype": "text/x-python",
   "name": "python",
   "nbconvert_exporter": "python",
   "pygments_lexer": "ipython3",
   "version": "3.8.3"
  }
 },
 "nbformat": 4,
 "nbformat_minor": 4
}
