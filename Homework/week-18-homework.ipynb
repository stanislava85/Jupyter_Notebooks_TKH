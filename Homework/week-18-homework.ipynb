{
 "cells": [
  {
   "cell_type": "markdown",
   "metadata": {},
   "source": [
    "<div style=\"background: #000;\n",
    "            color: #FFF;\n",
    "            margin: 0px;\n",
    "            padding: 10px 0px 20px 0px;\n",
    "            text-align: center; \n",
    "                \">\n",
    "    <h1>Week 18 Homework</h1>\n",
    "</div>"
   ]
  },
  {
   "cell_type": "markdown",
   "metadata": {},
   "source": [
    "### Exercise 1\n",
    "\n",
    "Given two lists `A` and `B`, and `B` is an anagram of `A`. `B` is an anagram of `A` means `B` is made by randomizing the order of the elements in `A`.\n",
    "\n",
    "We want to find an index mapping `P`, from `A` to `B`. A mapping `P[i] = j` means the `i`th element in `A` appears in `B` at index `j`.\n",
    "\n",
    "These lists `A` and `B` may contain duplicates. If there are multiple answers, output any of them.\n",
    "\n",
    "For example, given \n",
    "```\n",
    "A = [12, 28, 46, 32, 50]\n",
    "B = [50, 12, 32, 46, 28]\n",
    "```\n",
    "We should return\n",
    "```\n",
    "[1, 4, 3, 2, 0]\n",
    "```\n",
    "as `P[0] = 1` because the `0`th element of `A` appears at `B[1]`, and `P[1] = 4` because the 1st element of `A` appears at `B[4]`, and so on. \n",
    "\n",
    "Note:\n",
    "\n",
    "    A, B have equal lengths in range [1, 100].\n",
    "    A[i], B[i] are integers in range [0, 10^5].\n"
   ]
  },
  {
   "cell_type": "code",
   "execution_count": 30,
   "metadata": {},
   "outputs": [
    {
     "name": "stdout",
     "output_type": "stream",
     "text": [
      "solution is correct\n"
     ]
    }
   ],
   "source": [
    "def ex1(A, B):\n",
    "    dict_for_b = dict(enumerate(B))\n",
    "    #print(dict_for_b)\n",
    "    index = []\n",
    "    for i in A:\n",
    "        #print(i)\n",
    "        for k,v in dict_for_b.items():\n",
    "                #print(k,v)\n",
    "            if i == v:\n",
    "                index.append(k)\n",
    "    return index\n",
    "        \n",
    "#ex1([12,28,46,32,50], [50,12,32,46,28])\n",
    "\n",
    "try:\n",
    "    assert(ex1([],[]) == [])\n",
    "    assert(ex1([1],[1]) == [0])\n",
    "    assert(ex1([12,28,46,32,50], [50,12,32,46,28]) == [1,4,3,2,0])\n",
    "    assert(ex1([1,2,3,4,5,6,7], [4,5,6,3,2,1,7]) == [5, 4, 3, 0, 1, 2, 6])\n",
    "    assert(ex1([21,12,5,34,15,46,57], [46,57,21,34,12,15,5]) == [2, 4, 6, 3, 5, 0, 1])\n",
    "    print(\"solution is correct\")\n",
    "except AssertionError:\n",
    "    print(\"solution is incorrect\")"
   ]
  },
  {
   "cell_type": "markdown",
   "metadata": {},
   "source": [
    "# Exercise 2\n",
    "\n",
    "In a array $A$ of size $2N$, there are $N+1$ unique elements, and exactly one of these elements is repeated $N$ times.\n",
    "\n",
    "Return the element repeated N times.\n",
    "\n",
    "\n",
    "\n",
    "Example 1:  \n",
    "Input: `[1,2,3,3]`\n",
    "Output: `3`\n",
    "\n",
    "Example 2:  \n",
    "Input: `[2,1,2,5,3,2]`\n",
    "Output: `2`\n",
    "\n",
    "Example 3:  \n",
    "Input: `[5,1,5,2,5,3,5,4]`\n",
    "Output: `5`\n",
    "\n"
   ]
  },
  {
   "cell_type": "code",
   "execution_count": 2,
   "metadata": {},
   "outputs": [
    {
     "name": "stdout",
     "output_type": "stream",
     "text": [
      "solution is correct\n"
     ]
    }
   ],
   "source": [
    "def ex2(l):\n",
    "    s = set()\n",
    "    for i in l:\n",
    "        if i not in s:\n",
    "            s.add(i)\n",
    "        else:\n",
    "            return i\n",
    "\n",
    "try:\n",
    "    assert(ex2([1,2,3,3]) == 3)\n",
    "    assert(ex2([2,1,2,5,3,2]) == 2)\n",
    "    assert(ex2([5,1,5,2,5,3,5,3]) == 5)\n",
    "    print(\"solution is correct\")\n",
    "except AssertionError:\n",
    "    print(\"solution is incorrect\")"
   ]
  },
  {
   "cell_type": "markdown",
   "metadata": {},
   "source": [
    "### Exercise 3\n",
    "\n",
    "Given a list of the scores of different students, `items`, where `items[i] = [ID_i, score_i]` represents one score from a student with `ID_i`, calculate each student's top five average.\n",
    "\n",
    "Return the answer as an array of pairs result, where `result[j] = [ID_j, topFiveAverage_j]` represents the student with IDj and their top five average. Sort result by `ID_j` in increasing order.\n",
    "\n",
    "A student's top five average is calculated by taking the sum of their top five scores and dividing it by 5 using integer division.\n",
    "\n",
    " \n",
    "\n",
    "Example 1:\n",
    "\n",
    "Input: \n",
    "`items = [[1,91],[1,92],[2,93],[2,97],[1,60],[2,77],[1,65],[1,87],[1,100],[2,100],[2,76]]`  \n",
    "Output: `[[1,87],[2,88]]`  \n",
    "Explanation:  \n",
    "The student with ID = 1 got scores 91, 92, 60, 65, 87, and 100. Their top five average is (100 + 92 + 91 + 87 + 65) / 5 = 87.\n",
    "The student with ID = 2 got scores 93, 97, 77, 100, and 76. Their top five average is (100 + 97 + 93 + 77 + 76) / 5 = 88.6, but with integer division their average converts to 88.\n",
    "\n",
    "Example 2:\n",
    "\n",
    "Input:  \n",
    "`items = [[1,100],[7,100],[1,100],[7,100],[1,100],[7,100],[1,100],[7,100],[1,100],[7,100]]`  \n",
    "Output:  \n",
    "`[[1,100],[7,100]]`  \n",
    "\n",
    " \n",
    "\n",
    "Constraints:\n",
    "\n",
    "    1 <= items.length <= 1000\n",
    "    items[i].length == 2\n",
    "    1 <= IDi <= 1000\n",
    "    0 <= scorei <= 100\n",
    "    For each ID_i, there will be at least five scores.\n",
    "\n"
   ]
  },
  {
   "cell_type": "code",
   "execution_count": 57,
   "metadata": {},
   "outputs": [
    {
     "name": "stdout",
     "output_type": "stream",
     "text": [
      "solution is correct\n"
     ]
    }
   ],
   "source": [
    "def ex2(l):\n",
    "    #print(type(l))\n",
    "    d = {}\n",
    "    lst = []   \n",
    "    for li in l:\n",
    "        #print(li)\n",
    "        if li[0] not in d:\n",
    "            d[li[0]] = [li[1]]\n",
    "        else:\n",
    "            d[li[0]].append(li[1])\n",
    "    #print(d)\n",
    "    for k,v in d.items():\n",
    "        v = sum(sorted(v, reverse=True)[:5]) //5\n",
    "        lst.append([k,v])\n",
    "    return lst\n",
    "\n",
    "\n",
    "\n",
    "#ex2(([[1,91],[1,92],[2,93],[2,97],[1,60],[2,77],[1,65],[1,87],[1,100],[2,100],[2,76]]))\n",
    "\n",
    "\n",
    "try:\n",
    "    assert(git \n",
    "    ex2([[1,91],[1,92],[2,93],[2,97],[1,60],[2,77],[1,65],\\\n",
    "         [1,87],[1,100],[2,100],[2,76]]) == [[1,87],[2,88]]\n",
    "    )\n",
    "    assert(\n",
    "    ex2([[1,100],[7,100],[1,100],[7,100],[1,100],[7,100],\\\n",
    "         [1,100],[7,100],[1,100],[7,100]]) == [[1,100],[7,100]]\n",
    "    )    \n",
    "    print(\"solution is correct\")\n",
    "except AssertionError:\n",
    "    print(\"solution is incorrect\")\n",
    "\n",
    "    \n",
    "    \n",
    "    \n",
    "# def ex2(l):\n",
    "#     ids = {}\n",
    "#     for i,v in l:\n",
    "#         try:\n",
    "#             ids[i].append(v)\n",
    "#         except:\n",
    "#             ids[i] = [v]\n",
    "            \n",
    "#         if len(ids[i]) > 5:\n",
    "#             ids[i].remove(min(ids[i]))\n",
    "            \n",
    "#     return [[k, sum(v) // 5] for k,v in ids.items()]"
   ]
  },
  {
   "cell_type": "code",
   "execution_count": null,
   "metadata": {},
   "outputs": [],
   "source": []
  }
 ],
 "metadata": {
  "kernelspec": {
   "display_name": "Python 3",
   "language": "python",
   "name": "python3"
  },
  "language_info": {
   "codemirror_mode": {
    "name": "ipython",
    "version": 3
   },
   "file_extension": ".py",
   "mimetype": "text/x-python",
   "name": "python",
   "nbconvert_exporter": "python",
   "pygments_lexer": "ipython3",
   "version": "3.8.3"
  }
 },
 "nbformat": 4,
 "nbformat_minor": 4
}
