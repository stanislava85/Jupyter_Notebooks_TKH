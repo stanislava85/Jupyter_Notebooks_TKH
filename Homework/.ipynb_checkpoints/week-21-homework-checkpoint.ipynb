{
 "cells": [
  {
   "cell_type": "markdown",
   "metadata": {},
   "source": [
    "<div style=\"background: #000;\n",
    "            color: #FFF;\n",
    "            margin: 0px;\n",
    "            padding: 10px 0px 20px 0px;\n",
    "            text-align: center; \n",
    "                \">\n",
    "    <h1 >Week 21 Homework</h1>\n",
    "</div>"
   ]
  },
  {
   "cell_type": "markdown",
   "metadata": {},
   "source": [
    "# Exercise 1\n"
   ]
  },
  {
   "cell_type": "markdown",
   "metadata": {},
   "source": [
    "Given a $m x n$ matrix grid which is sorted in non-increasing order **both row-wise and column-wise**, return the number of negative numbers in grid.\n",
    "\n",
    "**Example 1**:  \n",
    "**Input**: `grid = [[4,3,2,-1],[3,2,1,-1],[1,1,-1,-2],[-1,-1,-2,-3]]`  \n",
    "**Output**: 8  \n",
    "**Explanation**: There are 8 negatives number in the matrix.  \n",
    "\n",
    "**Example 2**:  \n",
    "**Input**: `grid = [[3,2],[1,0]]`  \n",
    "**Output**: 0  \n",
    "\n",
    "**Example 3**:  \n",
    "**Input**: `grid = [[1,-1],[-1,-1]]`   \n",
    "**Output**: 3  \n",
    "\n",
    "**Example 4**:  \n",
    "**Input**: `grid = [[-1]]`  \n",
    "**Output**: 1  \n",
    "\n",
    "**hint**: there's a way to do this that is worst case `O(m * log(n))` where m is the number of rows. And even this solution can be optimized if you consider the non-increasing order of both rows and columns.\n",
    "\n",
    "**side note**: there's an even quicker way to do all of this that can be done in one line but it's sorta cheating."
   ]
  },
  {
   "cell_type": "code",
   "execution_count": 25,
   "metadata": {},
   "outputs": [],
   "source": [
    "def exercise1(grid):\n",
    "    counter = 0\n",
    "    for row in range(len(grid)):\n",
    "        #print(grid[row])\n",
    "        for col in range(len(grid[0])):\n",
    "            #print(grid[col])\n",
    "            if grid[row][col] < 0:\n",
    "                counter += 1\n",
    "    return counter\n",
    "\n",
    "#exercise1([[4,3,2,-1],[3,2,1,-1],[1,1,-1,-2],[-1,-1,-2,-3]])"
   ]
  },
  {
   "cell_type": "code",
   "execution_count": 26,
   "metadata": {},
   "outputs": [
    {
     "name": "stderr",
     "output_type": "stream",
     "text": [
      "----------------------------------------------------------------------\n",
      "Ran 1 test in 0.000s\n",
      "\n",
      "OK\n"
     ]
    },
    {
     "data": {
      "text/plain": [
       "<unittest.main.TestProgram at 0x2910fb93c40>"
      ]
     },
     "execution_count": 26,
     "metadata": {},
     "output_type": "execute_result"
    }
   ],
   "source": [
    "import unittest\n",
    "\n",
    "class Test(unittest.TestCase):\n",
    "    def test(self):\n",
    "        args = {\n",
    "            # here we're using ret as keys and args as values\n",
    "            # because lists cannot be keys (since they're mutable)\n",
    "            8: [[4,3,2,-1],[3,2,1,-1],[1,1,-1,-2],[-1,-1,-2,-3]],\n",
    "            0: [[3,2],[1,0]],\n",
    "            3: [[1,-1],[-1,-1]],\n",
    "            1: [[-1]]\n",
    "        }\n",
    "        for ret, arg in args.items():\n",
    "            # subTest continues tests even if one fails\n",
    "            # also allows us to see arguments passed to test\n",
    "            with self.subTest(arg=arg, ret=ret):\n",
    "                self.assertEqual(exercise1(arg), ret)\n",
    "        \n",
    "\n",
    "unittest.main(argv=[''], verbosity=0, exit=False)"
   ]
  },
  {
   "cell_type": "code",
   "execution_count": 76,
   "metadata": {},
   "outputs": [],
   "source": [
    "#exercise 1, version 2\n",
    "def exercise1(grid):\n",
    "    lst=[]\n",
    "    neg_lst=[]\n",
    "    for row in grid:\n",
    "        #print(row)\n",
    "        for col in row:\n",
    "            #print(col)\n",
    "            lst.append(col)  #converting matrix to list\n",
    "            #print(col)\n",
    "    for i in lst:\n",
    "        if i<0:\n",
    "            neg_lst.append(i)   #appending only negatives\n",
    "    return len(neg_lst)\n",
    "\n",
    "#exercise1([[4,3,2,-1],[3,2,1,-1],[1,1,-1,-2],[-1,-1,-2,-3]])"
   ]
  },
  {
   "cell_type": "code",
   "execution_count": 77,
   "metadata": {},
   "outputs": [
    {
     "name": "stderr",
     "output_type": "stream",
     "text": [
      "----------------------------------------------------------------------\n",
      "Ran 1 test in 0.000s\n",
      "\n",
      "OK\n"
     ]
    },
    {
     "data": {
      "text/plain": [
       "<unittest.main.TestProgram at 0x2910fe02fd0>"
      ]
     },
     "execution_count": 77,
     "metadata": {},
     "output_type": "execute_result"
    }
   ],
   "source": [
    "import unittest\n",
    "\n",
    "class Test(unittest.TestCase):\n",
    "    def test(self):\n",
    "        args = {\n",
    "            # here we're using ret as keys and args as values\n",
    "            # because lists cannot be keys (since they're mutable)\n",
    "            8: [[4,3,2,-1],[3,2,1,-1],[1,1,-1,-2],[-1,-1,-2,-3]],\n",
    "            0: [[3,2],[1,0]],\n",
    "            3: [[1,-1],[-1,-1]],\n",
    "            1: [[-1]]\n",
    "        }\n",
    "        for ret, arg in args.items():\n",
    "            # subTest continues tests even if one fails\n",
    "            # also allows us to see arguments passed to test\n",
    "            with self.subTest(arg=arg, ret=ret):\n",
    "                self.assertEqual(exercise1(arg), ret)\n",
    "        \n",
    "\n",
    "unittest.main(argv=[''], verbosity=0, exit=False)"
   ]
  },
  {
   "cell_type": "markdown",
   "metadata": {},
   "source": [
    "# Exercise 2\n",
    "\n"
   ]
  },
  {
   "cell_type": "markdown",
   "metadata": {},
   "source": [
    "**Balanced** strings are those that have an equal quantity of `'L'` and `'R'` characters.\n",
    "\n",
    "Given a balanced string `s`, split it in the maximum amount of balanced strings.\n",
    "\n",
    "Return the maximum amount of split balanced strings.\n",
    "\n",
    "**Example 1**:\n",
    "\n",
    "**Input**: s = \"RLRRLLRLRL\"  \n",
    "**Output**: 4  \n",
    "**Explanation**: s can be split into \"RL\", \"RRLL\", \"RL\", \"RL\", each substring contains same number of 'L' and 'R'.\n",
    "\n",
    "**Example 2**:\n",
    "\n",
    "**Input**: s = \"RLLLLRRRLR\"  \n",
    "**Output**: 3  \n",
    "**Explanation**: s can be split into \"RL\", \"LLLRRR\", \"LR\", each substring contains same number of 'L' and 'R'.\n",
    "\n",
    "**Example 3**:\n",
    "\n",
    "**Input**: s = \"LLLLRRRR\"  \n",
    "**Output**: 1  \n",
    "**Explanation**: s can be split into \"LLLLRRRR\".\n",
    "\n",
    "**Example 4**:\n",
    "\n",
    "**Input**: s = \"RLRRRLLRLL\"  \n",
    "**Output**: 2  \n",
    "**Explanation**: s can be split into \"RL\", \"RRRLLRLL\", since each substring contains an equal number of 'L' and 'R'\n"
   ]
  },
  {
   "cell_type": "code",
   "execution_count": 72,
   "metadata": {},
   "outputs": [],
   "source": [
    "def exercise2(s):\n",
    "    total_count = 0\n",
    "    r_count = 0\n",
    "    l_count =0\n",
    "    for char in s:\n",
    "        if char == \"R\":\n",
    "            r_count += 1\n",
    "        elif char == \"L\":\n",
    "            l_count += 1\n",
    "        if r_count == l_count :\n",
    "            total_count += 1\n",
    "    return total_count\n",
    "        \n",
    "\n",
    "#exercise2(\"RLRRLLRLRL\")   \n",
    "#exercise2(\"LLLLRRRR\")"
   ]
  },
  {
   "cell_type": "code",
   "execution_count": 75,
   "metadata": {},
   "outputs": [
    {
     "name": "stderr",
     "output_type": "stream",
     "text": [
      "----------------------------------------------------------------------\n",
      "Ran 1 test in 0.000s\n",
      "\n",
      "OK\n"
     ]
    },
    {
     "data": {
      "text/plain": [
       "<unittest.main.TestProgram at 0x2910fde8850>"
      ]
     },
     "execution_count": 75,
     "metadata": {},
     "output_type": "execute_result"
    }
   ],
   "source": [
    "import unittest\n",
    "class Test(unittest.TestCase):\n",
    "    def test_exercise2(self):\n",
    "        args = {\n",
    "            \"\": 0,\n",
    "            \"RLRRLLRLRL\": 4,\n",
    "            \"RLLLLRRRLR\": 3,\n",
    "            \"LLLLRRRR\": 1,\n",
    "            \"RLRRRLLRLL\": 2,\n",
    "        }\n",
    "        for arg, ret in args.items():\n",
    "            # subTest continues tests even if one fails\n",
    "            # also allows us to see arguments passed to test\n",
    "            with self.subTest(arg=arg, ret=ret):\n",
    "                self.assertEqual(exercise2(arg), ret)\n",
    "unittest.main(argv=[''], verbosity=0, exit=False)"
   ]
  },
  {
   "cell_type": "markdown",
   "metadata": {},
   "source": [
    "# Exercise 3\n",
    "\n",
    "Implement a last in first out (LIFO) stack using only two queues. The implemented stack should support all the functions of a normal queue (push, top, pop, and empty).\n",
    "\n",
    "Implement the MyStack class:\n",
    "* `void push(int x)` Pushes element x to the top of the stack.\n",
    "* `int pop()` Removes the element on the top of the stack and returns it.\n",
    "* `int top()` Returns the element on the top of the stack.\n",
    "* `boolean empty()` Returns true if the stack is empty, false otherwise.  \n",
    "(`void push(int x)` is C/C++ style syntax that means function `push` takes an integer `x` and returns `void` meaning nothing; `int pop()` means function `pop` takes no arguments but returns an integer) \n",
    "\n",
    "\n",
    "Notes:\n",
    "* You must use only standard operations of a queue, which means only push to back, peek/pop from front, size, and is empty operations are valid.\n",
    "* Depending on your language, the queue may not be supported natively. You may simulate a queue using a list or deque (double-ended queue), as long as you use only a queue's standard operations."
   ]
  },
  {
   "cell_type": "code",
   "execution_count": 86,
   "metadata": {},
   "outputs": [],
   "source": [
    "from collections import deque\n",
    "\n",
    "class MyStack:\n",
    "    def __init__(self):\n",
    "        \"\"\"\n",
    "        Initialize your data structure here.\n",
    "        \"\"\"\n",
    "        self.stack = []   #creating an empty (stack) list\n",
    "        \n",
    "\n",
    "    def push(self, x: int) -> None:\n",
    "        \"\"\"\n",
    "        Push element x onto stack.\n",
    "        \"\"\"\n",
    "        self.x=x\n",
    "        self.stack.append(self.x)      #adding an element using append\n",
    "        \n",
    "\n",
    "    def pop(self) -> int:\n",
    "        \"\"\"\n",
    "        Removes the element on top of the stack and returns that element.\n",
    "        \"\"\"\n",
    "        if len(self.stack) > 0:       #removing the last Element Using pop\n",
    "            return self.stack.pop()\n",
    "\n",
    "    def top(self) -> int:\n",
    "        \"\"\"\n",
    "        Get the top element.\n",
    "        \"\"\"\n",
    "        if len(self.stack) > 0:       #if the list has items we return the item at the front of the list\n",
    "            return self.stack[len(self.stack) - 1]\n",
    "\n",
    "\n",
    "    def empty(self) -> bool:\n",
    "        \"\"\"\n",
    "        Returns whether the stack is empty.\n",
    "        \"\"\"\n",
    "        if len(self.stack) == 0:     #if the len of list is 0 it is empty & we return true, else we return false\n",
    "            return True \n",
    "        else:\n",
    "            return False\n",
    "\n",
    "           "
   ]
  },
  {
   "cell_type": "code",
   "execution_count": 87,
   "metadata": {},
   "outputs": [],
   "source": [
    "# Your MyStack object will be instantiated\n",
    "# and called using the following function:\n",
    "def test_stack(*args):\n",
    "    obj = MyStack()\n",
    "    for arg in args:\n",
    "        obj.push(arg)\n",
    "    pop = obj.pop()\n",
    "    top = obj.top()\n",
    "    empty = obj.empty()\n",
    "    return pop, top, empty"
   ]
  },
  {
   "cell_type": "code",
   "execution_count": 88,
   "metadata": {},
   "outputs": [
    {
     "data": {
      "text/plain": [
       "(6, 5, False)"
      ]
     },
     "execution_count": 88,
     "metadata": {},
     "output_type": "execute_result"
    }
   ],
   "source": [
    "test_stack(1,2,3,4,5,6)"
   ]
  },
  {
   "cell_type": "code",
   "execution_count": 89,
   "metadata": {},
   "outputs": [
    {
     "name": "stderr",
     "output_type": "stream",
     "text": [
      "----------------------------------------------------------------------\n",
      "Ran 1 test in 0.000s\n",
      "\n",
      "OK\n"
     ]
    },
    {
     "data": {
      "text/plain": [
       "<unittest.main.TestProgram at 0x29110545280>"
      ]
     },
     "execution_count": 89,
     "metadata": {},
     "output_type": "execute_result"
    }
   ],
   "source": [
    "import unittest\n",
    "\n",
    "class Test(unittest.TestCase):\n",
    "    def test_exercise3(self):\n",
    "        args = {\n",
    "            # key is arguments\n",
    "            # value is expected return\n",
    "            ():(None, None, True), \n",
    "            (1,): (1, None, True), \n",
    "            (1,2,3): (3, 2, False), \n",
    "            (3,4): (4, 3, False), \n",
    "            (1,2,3,4,5,6): (6, 5, False),\n",
    "        }\n",
    "        for arg, ret in args.items():\n",
    "            # subTest continues tests even if one fails\n",
    "            # also allows us to see arguments passed to test\n",
    "            with self.subTest(arg=arg, ret=ret):\n",
    "                \n",
    "                self.assertEqual(test_stack(*arg), ret)\n",
    "        \n",
    "unittest.main(argv=[''], verbosity=0, exit=False)"
   ]
  },
  {
   "cell_type": "code",
   "execution_count": null,
   "metadata": {},
   "outputs": [],
   "source": []
  }
 ],
 "metadata": {
  "kernelspec": {
   "display_name": "Python 3",
   "language": "python",
   "name": "python3"
  },
  "language_info": {
   "codemirror_mode": {
    "name": "ipython",
    "version": 3
   },
   "file_extension": ".py",
   "mimetype": "text/x-python",
   "name": "python",
   "nbconvert_exporter": "python",
   "pygments_lexer": "ipython3",
   "version": "3.8.3"
  }
 },
 "nbformat": 4,
 "nbformat_minor": 5
}
