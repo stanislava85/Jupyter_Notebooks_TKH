{
 "cells": [
  {
   "cell_type": "markdown",
   "metadata": {},
   "source": [
    "<div style=\"background: #000;\n",
    "            color: #FFF;\n",
    "            margin: 0px;\n",
    "                padding: 10px 0px 20px 0px;\n",
    "            text-align: center; \n",
    "                \">\n",
    "    <h1>Week 6 - Homework</h1>\n",
    "</div>\n",
    "\n",
    "<pre style=\"text-align:center;\">\n",
    "Exercise 1 is due Monday 10/26\n",
    "Exercise 2 is due Tuesday 10/27\n",
    "Exercise 3 is due Wednesday 10/28\n",
    "</pre>"
   ]
  },
  {
   "cell_type": "markdown",
   "metadata": {},
   "source": [
    "# Exercise 1\n",
    "\n",
    "Create a class called `Course` and a class called `Student` based on what you think they will need. Create a way to store 20 \"students\" (instances of the `Student` class into an instance of `Course` to represent our Data Science course. \n",
    "\n",
    "Demonstrate that your code works. Message on slack if stuck or need clarification."
   ]
  },
  {
   "cell_type": "code",
   "execution_count": 6,
   "metadata": {},
   "outputs": [
    {
     "name": "stdout",
     "output_type": "stream",
     "text": [
      "data science\n",
      "[Student name: (John Doe; Student ID: 3040), Student name: (Jane Brown; Student ID: 3041)]\n"
     ]
    },
    {
     "data": {
      "text/plain": [
       "[Student name: (John Doe; Student ID: 3040),\n",
       " Student name: (Jane Brown; Student ID: 3041),\n",
       " Student name: (juan Rodrigues; Student ID: 3042)]"
      ]
     },
     "execution_count": 6,
     "metadata": {},
     "output_type": "execute_result"
    }
   ],
   "source": [
    "class Student:\n",
    "    def __init__(self, student_name, student_id):\n",
    "        self.student_name = student_name\n",
    "        self.student_id = student_id\n",
    "        \n",
    "    def __repr__(self):\n",
    "        return f\"Student name: ({self.student_name}; Student ID: {self.student_id})\"\n",
    "    \n",
    "    def __str__(self):\n",
    "        return f\"<Student name:{self.student_name}, Student ID: {self.student_id};>\"\n",
    "        \n",
    "class Course:\n",
    "    def __init__(self, course_name, *student_to_add):\n",
    "        self.course_name = course_name   \n",
    "        self.class_list = list(student_to_add)\n",
    "        \n",
    "    def add_students(self, add_student):\n",
    "        if isinstance(add_student, Student):\n",
    "            self.class_list.append(add_student)\n",
    "        \n",
    "\n",
    "        \n",
    "student_1 = Student('John Doe', 3040)\n",
    "student_2 = Student('Jane Brown', 3041)\n",
    "course = Course('data science', student_1, student_2)\n",
    "print(course.course_name)\n",
    "print(course.class_list)\n",
    "student_3 = Student(\"juan Rodrigues\", 3042)\n",
    "course.add_students(student_3)\n",
    "course.class_list\n",
    "\n",
    "#student_to_add = [Student(f\"{x}\", f\"{y}\") for x in [\"a\", \"b\", \"c\"] for y in [\"d\", \"e\", \"f\"]]\n",
    "#course = Course(*student_to_add)\n",
    "#course.class_list"
   ]
  },
  {
   "cell_type": "markdown",
   "metadata": {},
   "source": [
    "# Exercise 2\n",
    "\n",
    "Create a class called `SafeFloat` that stores an attribute called `num` as an instance attribute set during initialization and sets `num_as_float` based on `num`\n",
    "\n",
    "Include the following three methods:\n",
    "\n",
    "`to_float` - that converts `num` to a float and stores that an attribute `num_as_float`. If `num` cannot be converted, set `num_as_float` to `None`. Do on mutate the original `num`, we'd like to keep it.\n",
    "\n",
    "`check_type` - that returns `True` if `num_as_float` is a float. It should create `num_as_float` if it doesn't exist. \n",
    "\n",
    "and a method that overrides the addition operator so that when instances of `SafeFloat` are added, `num_as_float` is used to add. Return the sum of the two instances or return `None` if the two cannot be added.\n",
    "\n",
    "Demonstrate that this works for strings, ints, bools and floats."
   ]
  },
  {
   "cell_type": "code",
   "execution_count": 70,
   "metadata": {},
   "outputs": [
    {
     "name": "stdout",
     "output_type": "stream",
     "text": [
      "24.0\n",
      "None\n",
      "True\n",
      "False\n",
      "None\n"
     ]
    }
   ],
   "source": [
    "class SafeFloat:\n",
    "    def __init__(self, num):\n",
    "        self.num = num\n",
    "        self.to_float()  #running the method that we already set\n",
    "                         #in python we can call a method before it's defined\n",
    "    def to_float(self):\n",
    "        if isinstance(self.num, str):\n",
    "            self.num_as_float = None\n",
    "        else:\n",
    "            self.num_as_float = float(self.num)\n",
    "            \n",
    "    def check_type(self):\n",
    "        self.to_float()\n",
    "        if isinstance(self.num_as_float, float):\n",
    "            return True\n",
    "        return False\n",
    "    \n",
    "    def __add__(self, other):\n",
    "        if isinstance(other, SafeFloat):\n",
    "            if self.check_type() and other.check_type():\n",
    "                return self.num_as_float + other.num_as_float\n",
    "    \n",
    "        \n",
    "e = SafeFloat(24)\n",
    "f = SafeFloat(\"str\")\n",
    "\n",
    "f.to_float()\n",
    "print(e.num_as_float)\n",
    "print(f.num_as_float)\n",
    "print(e.check_type())\n",
    "print(f.check_type())\n",
    "print(e + f)"
   ]
  },
  {
   "cell_type": "markdown",
   "metadata": {},
   "source": [
    "# Exercise 3\n",
    "\n",
    "Create a base class `Shape` and two classes that inherits that base class called `Triangle` and `Rectangle`. Consider what those two share in common (height and width) and use that to create your base class `Shape`. Create a method for base class called `area` that returns `None` for the base class. Override that method for `Triangle` and `Rectangle` so instances of those two classes can calculate the correct area.\n",
    "\n",
    "Demonstrate that your code works."
   ]
  },
  {
   "cell_type": "code",
   "execution_count": 54,
   "metadata": {},
   "outputs": [
    {
     "name": "stdout",
     "output_type": "stream",
     "text": [
      "None\n",
      "6\n",
      "25\n"
     ]
    }
   ],
   "source": [
    "class Shape:\n",
    "    def __init__(self, height, width):\n",
    "        self.height = height\n",
    "        self.width = width\n",
    "    \n",
    "    def area(self):\n",
    "        return None\n",
    "    \n",
    "    \n",
    "class Triangle(Shape):   #not using init in child class, will inherit the init fro parent class\n",
    "    \n",
    "    def area(self):\n",
    "        area = self.height * self.width * 0.5\n",
    "        print(int(area))\n",
    "    \n",
    "    \n",
    "class Rectangle(Shape):\n",
    "        \n",
    "    def area(self):\n",
    "        area = self.height * self.width\n",
    "        print(area)\n",
    "        \n",
    "        \n",
    "x = Shape(2,3)        \n",
    "print(x.area())\n",
    "a = Triangle(3,4)\n",
    "a.area()\n",
    "b = Rectangle(5,5)\n",
    "b.area()\n",
    "        "
   ]
  },
  {
   "cell_type": "code",
   "execution_count": null,
   "metadata": {},
   "outputs": [],
   "source": []
  }
 ],
 "metadata": {
  "kernelspec": {
   "display_name": "Python 3",
   "language": "python",
   "name": "python3"
  },
  "language_info": {
   "codemirror_mode": {
    "name": "ipython",
    "version": 3
   },
   "file_extension": ".py",
   "mimetype": "text/x-python",
   "name": "python",
   "nbconvert_exporter": "python",
   "pygments_lexer": "ipython3",
   "version": "3.8.3"
  }
 },
 "nbformat": 4,
 "nbformat_minor": 4
}
