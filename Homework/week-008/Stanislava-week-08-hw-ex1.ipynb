{
 "cells": [
  {
   "cell_type": "markdown",
   "metadata": {},
   "source": [
    "<div style=\"background: #000;\n",
    "            color: #FFF;\n",
    "            margin: 0px;\n",
    "                padding: 10px 0px 20px 0px;\n",
    "            text-align: center; \n",
    "                \">\n",
    "    <h1>Week 8 Homework</h1>\n",
    "</div>"
   ]
  },
  {
   "cell_type": "markdown",
   "metadata": {},
   "source": [
    "# Exercise 1:\n",
    "\n",
    "Fix the following code:"
   ]
  },
  {
   "cell_type": "code",
   "execution_count": 1,
   "metadata": {},
   "outputs": [
    {
     "name": "stdout",
     "output_type": "stream",
     "text": [
      "THE KNOWLEDGE HOUSE\n",
      "Connection:keep-alive\n",
      "Server:gunicorn/19.9.0\n",
      "Date:Mon, 09 Nov 2020 22:19:22 GMT\n",
      "X-Frame-Options:SAMEORIGIN\n",
      "Content-Length:89280\n",
      "Content-Type:text/html; charset=utf-8\n",
      "Via:1.1 vegur\n"
     ]
    }
   ],
   "source": [
    "import requests\n",
    "from bs4 import BeautifulSoup \n",
    "\n",
    "class Scraper:\n",
    "    def __init__(self, url):\n",
    "        self.url = url\n",
    "        self.scrape()\n",
    "        \n",
    "    def do_request(self):\n",
    "        response = requests.get(self.url)\n",
    "        self.headers = response.headers\n",
    "        self.text = response.text\n",
    "        \n",
    "    def get_response_attributes(self):\n",
    "        results = [self.headers, self.text]\n",
    "        return results\n",
    "    \n",
    "    def set_soup(self):\n",
    "        self.soup = BeautifulSoup(self.text)\n",
    "        return self.soup\n",
    "        \n",
    "    def scrape(self):\n",
    "        self.do_request()\n",
    "        return self.set_soup()\n",
    "    \n",
    "    @property\n",
    "    def title(self):\n",
    "        title = self.soup.find('title')\n",
    "        return title.text\n",
    "    \n",
    "    @property\n",
    "    def header(self):\n",
    "        temp = [f\"{key}:{value}\" for key,value in self.headers.items()]\n",
    "        return \"\\n\".join(temp)\n",
    "\n",
    "\n",
    "# DO NOT change the following code.\n",
    "# Your changes to the code above should allow\n",
    "# the code below to work without error.\n",
    "# hint: @\n",
    "s = Scraper('http://www.theknowledgehouse.org')\n",
    "print(s.title)\n",
    "print(s.header)"
   ]
  },
  {
   "cell_type": "code",
   "execution_count": null,
   "metadata": {},
   "outputs": [],
   "source": []
  }
 ],
 "metadata": {
  "kernelspec": {
   "display_name": "Python 3",
   "language": "python",
   "name": "python3"
  },
  "language_info": {
   "codemirror_mode": {
    "name": "ipython",
    "version": 3
   },
   "file_extension": ".py",
   "mimetype": "text/x-python",
   "name": "python",
   "nbconvert_exporter": "python",
   "pygments_lexer": "ipython3",
   "version": "3.8.3"
  }
 },
 "nbformat": 4,
 "nbformat_minor": 4
}
