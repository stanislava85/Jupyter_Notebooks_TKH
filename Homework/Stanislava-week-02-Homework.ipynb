{
 "cells": [
  {
   "cell_type": "markdown",
   "metadata": {},
   "source": [
    "# Week 2 HW\n",
    "\n",
    "Exercise 1 is due Monday.  \n",
    "Exercise 2 is due Tuesday.  \n",
    "Exercise 3 is due Wednesday.  "
   ]
  },
  {
   "cell_type": "markdown",
   "metadata": {},
   "source": [
    "# Exercise #1\n",
    "\n",
    "### Given the following variable `money_moves`"
   ]
  },
  {
   "cell_type": "code",
   "execution_count": 1,
   "metadata": {},
   "outputs": [],
   "source": [
    "money_moves = [\"fur coats\",\"money fans\",\"Diamonds\",\"MoNeY FaNs\",\"FUR COATS\",\"barrels of gold\"]"
   ]
  },
  {
   "cell_type": "markdown",
   "metadata": {},
   "source": [
    "### a. Print the list of unique elements. Then output the length."
   ]
  },
  {
   "cell_type": "code",
   "execution_count": 2,
   "metadata": {},
   "outputs": [
    {
     "name": "stdout",
     "output_type": "stream",
     "text": [
      "{'money fans', 'FUR COATS', 'fur coats', 'barrels of gold', 'MoNeY FaNs', 'Diamonds'}\n",
      "<class 'set'>\n",
      "6\n"
     ]
    }
   ],
   "source": [
    "# place code here\n",
    "#print(type(money_moves))\n",
    "uniquenames=set(money_moves)\n",
    "print(uniquenames)\n",
    "print(type(uniquenames))\n",
    "print(len(uniquenames))"
   ]
  },
  {
   "cell_type": "markdown",
   "metadata": {},
   "source": [
    "### b. Set the 4th and 5th elements of the original list in lowercase. Pop that value and append it to the end of the list. Print the list."
   ]
  },
  {
   "cell_type": "code",
   "execution_count": 3,
   "metadata": {},
   "outputs": [
    {
     "name": "stdout",
     "output_type": "stream",
     "text": [
      "['fur coats', 'money fans', 'Diamonds', 'MoNeY FaNs', 'FUR COATS', 'barrels of gold']\n",
      "money fans\n",
      "fur coats\n",
      "['fur coats', 'money fans', 'Diamonds', 'barrels of gold']\n",
      "['fur coats', 'money fans', 'Diamonds', 'barrels of gold', 'money fans']\n",
      "['fur coats', 'money fans', 'Diamonds', 'barrels of gold', 'money fans', 'fur coats']\n"
     ]
    }
   ],
   "source": [
    "#setting the 4th and 5th element to lowercase and popping them\n",
    "print(money_moves)\n",
    "aa = money_moves.pop(3).lower()\n",
    "print(aa)\n",
    "bb = money_moves.pop(3).lower()\n",
    "print(bb)\n",
    "\n",
    "#appending the values to the original list\n",
    "print(money_moves)\n",
    "money_moves.append(aa)\n",
    "print(money_moves)\n",
    "money_moves.append(bb)\n",
    "print(money_moves)\n"
   ]
  },
  {
   "cell_type": "markdown",
   "metadata": {},
   "source": [
    "### d. Create a new list, append odd number items from the original list`money_moves` and output the new list"
   ]
  },
  {
   "cell_type": "code",
   "execution_count": 4,
   "metadata": {},
   "outputs": [
    {
     "name": "stdout",
     "output_type": "stream",
     "text": [
      "['fur coats']\n",
      "['fur coats', 'Diamonds']\n",
      "['fur coats', 'Diamonds', 'FUR COATS']\n"
     ]
    }
   ],
   "source": [
    "#appending the odd number elements item 1 /at index 0/, item 3 /at index 2/ and item 5 /at index 4/\n",
    "money_moves = [\"fur coats\",\"money fans\",\"Diamonds\",\"MoNeY FaNs\",\"FUR COATS\",\"barrels of gold\"]\n",
    "new_list = []\n",
    "new_list.append(money_moves[0])\n",
    "print(new_list)\n",
    "new_list.append(money_moves[2])\n",
    "print(new_list)\n",
    "new_list.append(money_moves[4])\n",
    "print(new_list)\n",
    "\n",
    "#2nd version\n",
    "#new_list1 = money_moves[0::2]\n",
    "#new_list"
   ]
  },
  {
   "cell_type": "markdown",
   "metadata": {},
   "source": [
    "### e. Create a new dict. Add each item of `money_moves` to the dict using it's place in the list as the key for the dict. Print the dict."
   ]
  },
  {
   "cell_type": "code",
   "execution_count": 5,
   "metadata": {},
   "outputs": [],
   "source": [
    "money_moves = [\"fur coats\",\"money fans\",\"Diamonds\",\"MoNeY FaNs\",\"FUR COATS\",\"barrels of gold\"]\n"
   ]
  },
  {
   "cell_type": "code",
   "execution_count": 6,
   "metadata": {},
   "outputs": [
    {
     "name": "stdout",
     "output_type": "stream",
     "text": [
      "{0: 'fur coats', 1: 'money fans', 2: 'Diamonds', 3: 'MoNeY FaNs', 4: 'FUR COATS', 5: 'barrels of gold'}\n"
     ]
    }
   ],
   "source": [
    "new_dict = {}\n",
    "\n",
    "new_dict[0] = money_moves[0]\n",
    "new_dict[1] = money_moves[1]\n",
    "new_dict[2] = money_moves[2]\n",
    "new_dict[3] = money_moves[3]\n",
    "new_dict[4] = money_moves[4]\n",
    "new_dict[5] = money_moves[5]\n",
    "\n",
    "print(new_dict)\n",
    "\n",
    "#2nd version\n",
    "#dict_1 = dict(enumerate(money_moves))\n",
    "#dict_1"
   ]
  },
  {
   "cell_type": "code",
   "execution_count": null,
   "metadata": {},
   "outputs": [],
   "source": []
  },
  {
   "cell_type": "markdown",
   "metadata": {},
   "source": [
    "# Exercise 2\n",
    "\n",
    "### Given the string below:  "
   ]
  },
  {
   "cell_type": "code",
   "execution_count": 1,
   "metadata": {},
   "outputs": [],
   "source": [
    "original_string = \"Supercalifragilisticexpialadocious\""
   ]
  },
  {
   "cell_type": "markdown",
   "metadata": {},
   "source": [
    "### a. Extract the 3rd and 4th element separately. Return the two values in a tuple"
   ]
  },
  {
   "cell_type": "code",
   "execution_count": 2,
   "metadata": {},
   "outputs": [
    {
     "name": "stdout",
     "output_type": "stream",
     "text": [
      "p\n",
      "e\n",
      "('p', 'e')\n",
      "<class 'tuple'>\n"
     ]
    }
   ],
   "source": [
    "#extracting the 3rd /at index 2/ and 4th element /at index3/ of the str\n",
    "a = original_string[2]\n",
    "b = original_string[3]\n",
    "print(a)\n",
    "print(b)\n",
    "\n",
    "#concatenating the 2 strings into a new string\\\\longer version\\\\\n",
    "#c = a + b\n",
    "#print(type(c))\n",
    "#print(c)\n",
    "#turning the string into a tuple\n",
    "#cc = tuple(c)\n",
    "#print(cc)\n",
    "#print(type(cc))\n",
    "\n",
    "#Return the two values in a tuple\n",
    "new_tup = tuple(a) + tuple(b)\n",
    "print(new_tup)\n",
    "print(type(new_tup))"
   ]
  },
  {
   "cell_type": "markdown",
   "metadata": {},
   "source": [
    "### b. Extract the 3rd through 5th element, inclusive.   "
   ]
  },
  {
   "cell_type": "code",
   "execution_count": 3,
   "metadata": {},
   "outputs": [
    {
     "data": {
      "text/plain": [
       "'per'"
      ]
     },
     "execution_count": 3,
     "metadata": {},
     "output_type": "execute_result"
    }
   ],
   "source": [
    "original_string[2:5]"
   ]
  },
  {
   "cell_type": "markdown",
   "metadata": {},
   "source": [
    "### c. Extract the 3rd (inclusive) through 5th (exclusive) element.  "
   ]
  },
  {
   "cell_type": "code",
   "execution_count": 4,
   "metadata": {},
   "outputs": [
    {
     "data": {
      "text/plain": [
       "'pe'"
      ]
     },
     "execution_count": 4,
     "metadata": {},
     "output_type": "execute_result"
    }
   ],
   "source": [
    "original_string[2:4]"
   ]
  },
  {
   "cell_type": "markdown",
   "metadata": {},
   "source": [
    "### d. What is the index of \"S\"? How many elements in the list are \"S\"? Output the results as a tuple"
   ]
  },
  {
   "cell_type": "code",
   "execution_count": 5,
   "metadata": {},
   "outputs": [
    {
     "name": "stdout",
     "output_type": "stream",
     "text": [
      "(0,)\n",
      "<class 'tuple'>\n",
      "(0,)\n",
      "<class 'tuple'>\n"
     ]
    }
   ],
   "source": [
    "s = original_string.index(\"S\")\n",
    "s #just calling the element at that position already outputs it as a tuple\n",
    "\n",
    "#version 1, format a str to a tupple\n",
    "tup = s,\n",
    "\"{}\".format(*tup)\n",
    "print(tup)\n",
    "print(type(tup))\n",
    "\n",
    "#version 2, format a str to a list to a tuple\n",
    "new_s = tuple([s])\n",
    "print(new_s)\n",
    "print(type(new_s))"
   ]
  },
  {
   "cell_type": "markdown",
   "metadata": {},
   "source": [
    "### e. What are the last 3 elements of the string?  "
   ]
  },
  {
   "cell_type": "code",
   "execution_count": 38,
   "metadata": {},
   "outputs": [
    {
     "data": {
      "text/plain": [
       "'ous'"
      ]
     },
     "execution_count": 38,
     "metadata": {},
     "output_type": "execute_result"
    }
   ],
   "source": [
    "original_string[-3:]"
   ]
  },
  {
   "cell_type": "markdown",
   "metadata": {},
   "source": [
    "### f. Output the string backwards"
   ]
  },
  {
   "cell_type": "code",
   "execution_count": 39,
   "metadata": {},
   "outputs": [
    {
     "data": {
      "text/plain": [
       "'suoicodalaipxecitsiligarfilacrepuS'"
      ]
     },
     "execution_count": 39,
     "metadata": {},
     "output_type": "execute_result"
    }
   ],
   "source": [
    "original_string[::-1]"
   ]
  },
  {
   "cell_type": "markdown",
   "metadata": {},
   "source": [
    "# Exercise 3\n",
    "\n",
    "### Given the following code, fix it so the code outputs `\"hello\"`:\n",
    "\n",
    "Hint: for each, you just have to edit one line of code\n",
    "\n",
    "(Don't worry, you aren't meant to understand everything going on in them yet)"
   ]
  },
  {
   "cell_type": "code",
   "execution_count": 46,
   "metadata": {},
   "outputs": [
    {
     "name": "stdout",
     "output_type": "stream",
     "text": [
      "hello\n"
     ]
    }
   ],
   "source": [
    "def function(x):\n",
    "    if type(x) == str:\n",
    "        print(x)\n",
    "\n",
    "function(\"hello\")\n",
    "\n",
    "#changed the data type after == from bool to str"
   ]
  },
  {
   "cell_type": "code",
   "execution_count": 49,
   "metadata": {},
   "outputs": [
    {
     "data": {
      "text/plain": [
       "'hello'"
      ]
     },
     "execution_count": 49,
     "metadata": {},
     "output_type": "execute_result"
    }
   ],
   "source": [
    "s = [\"h\", \"e\", \"l\", \"l\", \"o\"]\n",
    "\"\".join(s)\n",
    "#added the join method after the \"\" to turn the list into a str"
   ]
  },
  {
   "cell_type": "code",
   "execution_count": 52,
   "metadata": {},
   "outputs": [
    {
     "data": {
      "text/plain": [
       "'hello'"
      ]
     },
     "execution_count": 52,
     "metadata": {},
     "output_type": "execute_result"
    }
   ],
   "source": [
    "a = True\n",
    "b = False\n",
    "c = True\n",
    "d = False\n",
    "\"hello\" if (b or a and b == d and b or c) else \"\"\n",
    "\n",
    "#changed the last element in the brackets from b to c, so that it will be true"
   ]
  },
  {
   "cell_type": "code",
   "execution_count": 62,
   "metadata": {},
   "outputs": [
    {
     "name": "stdout",
     "output_type": "stream",
     "text": [
      "hello\n",
      "\n"
     ]
    }
   ],
   "source": [
    "class Example:\n",
    "    def __init__(self, val):\n",
    "        self.a = val or print(\"hello\")\n",
    "    def say_hi(self):\n",
    "        print(\"hello\") if self.a == \"fixed\" else print(\"\")\n",
    "    def hello(self):\n",
    "        return \"olleh\".reverse()\n",
    "        \n",
    "e = Example(\"\")\n",
    "e.say_hi()\n",
    "\n",
    "#changed the operator in line 3 from AND to OR /self.a = val and print/\"hello\"//\n",
    "#so that even if the first part of the sentense is false it will still print hello"
   ]
  },
  {
   "cell_type": "code",
   "execution_count": null,
   "metadata": {},
   "outputs": [],
   "source": []
  }
 ],
 "metadata": {
  "kernelspec": {
   "display_name": "Python 3",
   "language": "python",
   "name": "python3"
  },
  "language_info": {
   "codemirror_mode": {
    "name": "ipython",
    "version": 3
   },
   "file_extension": ".py",
   "mimetype": "text/x-python",
   "name": "python",
   "nbconvert_exporter": "python",
   "pygments_lexer": "ipython3",
   "version": "3.8.3"
  }
 },
 "nbformat": 4,
 "nbformat_minor": 4
}
