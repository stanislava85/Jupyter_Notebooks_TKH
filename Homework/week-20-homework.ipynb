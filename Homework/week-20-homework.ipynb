{
 "cells": [
  {
   "cell_type": "markdown",
   "metadata": {},
   "source": [
    "<div style=\"background: #000;\n",
    "            color: #FFF;\n",
    "            margin: 0px;\n",
    "            padding: 10px 0px 20px 0px;\n",
    "            text-align: center; \n",
    "                \">\n",
    "    <h1 >Week 20 Homework</h1>\n",
    "</div>"
   ]
  },
  {
   "cell_type": "markdown",
   "metadata": {},
   "source": [
    "# Exercise 1\n"
   ]
  },
  {
   "cell_type": "markdown",
   "metadata": {},
   "source": [
    "You are given an integer $n$, the number of teams in a tournament that has strange rules:\n",
    "* If the current number of teams is even, each team gets paired with another team. A total of $n / 2$ matches are played, and $n / 2$ teams advance to the next round.\n",
    "* If the current number of teams is odd, one team randomly advances in the tournament, and the rest gets paired. A total of $(n - 1) / 2$ matches are played, and $(n - 1) / 2 + 1$ teams advance to the next round.\n",
    "\n",
    "Return the number of matches played in the tournament until a winner is decided.\n",
    "\n",
    "**Example 1**:\n",
    "\n",
    "*Input*: n = 7  \n",
    "*Output*: 6  \n",
    "*Explanation*: Details of the tournament:   \n",
    "- 1st Round: Teams = 7, Matches = 3, and 4 teams advance.\n",
    "- 2nd Round: Teams = 4, Matches = 2, and 2 teams advance.\n",
    "- 3rd Round: Teams = 2, Matches = 1, and 1 team is declared the winner.\n",
    "Total number of matches = 3 + 2 + 1 = 6.\n",
    "\n",
    "**Example 2**:\n",
    "\n",
    "*Input*: n = 14  \n",
    "*Output*: 13  \n",
    "*Explanation*: Details of the tournament:  \n",
    "- 1st Round: Teams = 14, Matches = 7, and 7 teams advance.\n",
    "- 2nd Round: Teams = 7, Matches = 3, and 4 teams advance.\n",
    "- 3rd Round: Teams = 4, Matches = 2, and 2 teams advance.\n",
    "- 4th Round: Teams = 2, Matches = 1, and 1 team is declared the winner.\n",
    "Total number of matches = 7 + 3 + 2 + 1 = 13.\n"
   ]
  },
  {
   "cell_type": "code",
   "execution_count": 45,
   "metadata": {},
   "outputs": [],
   "source": [
    "def exercise1(n):\n",
    "    games = 0\n",
    "    while n>1:\n",
    "        if n%2 == 1:   #odd number\n",
    "            games += (n-1)/2\n",
    "            n = (n-1)/2 + 1\n",
    "        else:\n",
    "            games += n/2    #even\n",
    "            n = n/2\n",
    "    return int(games)\n",
    "        \n",
    "#exercise1(14)"
   ]
  },
  {
   "cell_type": "code",
   "execution_count": 46,
   "metadata": {},
   "outputs": [
    {
     "name": "stderr",
     "output_type": "stream",
     "text": [
      "test (__main__.TestExercise1) ... ok\n",
      "\n",
      "----------------------------------------------------------------------\n",
      "Ran 1 test in 0.003s\n",
      "\n",
      "OK\n"
     ]
    },
    {
     "data": {
      "text/plain": [
       "<unittest.main.TestProgram at 0x2576b823670>"
      ]
     },
     "execution_count": 46,
     "metadata": {},
     "output_type": "execute_result"
    }
   ],
   "source": [
    "import unittest\n",
    "\n",
    "class TestExercise1(unittest.TestCase):\n",
    "    def test(self):\n",
    "        self.assertEqual(exercise1(0), 0)\n",
    "        self.assertEqual(exercise1(7), 6)\n",
    "        self.assertEqual(exercise1(6), 5)\n",
    "        self.assertEqual(exercise1(14), 13)\n",
    "        self.assertEqual(exercise1(12), 11)\n",
    "        \n",
    "\n",
    "unittest.main(argv=[''], verbosity=2, exit=False)"
   ]
  },
  {
   "cell_type": "markdown",
   "metadata": {},
   "source": [
    "# Exercise 2\n",
    "\n",
    "Given a sorted (in ascending order) integer array `nums` of $n$ elements and a target value, write a function to search target in `nums`. If target exists, then return its index, otherwise return `-1`.\n",
    "\n",
    "**Example 1**:\n",
    "\n",
    "*Input*: nums = [-1,0,3,5,9,12], target = 9\n",
    "*Output*: 4\n",
    "*Explanation*: 9 exists in nums and its index is 4\n",
    "\n",
    "**Example 2**:\n",
    "\n",
    "*Input*: nums = [-1,0,3,5,9,12], target = 2\n",
    "*Output*: -1\n",
    "*Explanation*: 2 does not exist in nums so return -1\n",
    "\n"
   ]
  },
  {
   "cell_type": "code",
   "execution_count": 25,
   "metadata": {},
   "outputs": [],
   "source": [
    "def exercise2(nums, target):\n",
    "    for i in range(len(nums)):\n",
    "        #print(i)\n",
    "        if nums[i] == target:\n",
    "            return i\n",
    "    return -1\n",
    "\n",
    "    \n",
    "#exercise2([1,1,1,1], 1)    \n",
    "#exercise2([1,2,3,4,5], 4)"
   ]
  },
  {
   "cell_type": "code",
   "execution_count": 26,
   "metadata": {},
   "outputs": [
    {
     "name": "stderr",
     "output_type": "stream",
     "text": [
      "test (__main__.TestExercise2) ... ok\n",
      "\n",
      "----------------------------------------------------------------------\n",
      "Ran 1 test in 0.004s\n",
      "\n",
      "OK\n"
     ]
    },
    {
     "data": {
      "text/plain": [
       "<unittest.main.TestProgram at 0x19554935970>"
      ]
     },
     "execution_count": 26,
     "metadata": {},
     "output_type": "execute_result"
    }
   ],
   "source": [
    "import unittest\n",
    "\n",
    "class TestExercise2(unittest.TestCase):\n",
    "    def test(self):\n",
    "        self.assertEqual(exercise2([1,2,3,4,5], 4), 3)\n",
    "        self.assertEqual(exercise2([1,3,4,5], 2), -1)\n",
    "        self.assertEqual(exercise2([1,1,1,1], 1), 0)\n",
    "        self.assertEqual(exercise2([], 2), -1)\n",
    "        self.assertEqual(exercise2([3,5,6], 3), 0)\n",
    "\n",
    "unittest.main(argv=[''], verbosity=2, exit=False)"
   ]
  },
  {
   "cell_type": "markdown",
   "metadata": {},
   "source": [
    "# Exercise 3\n",
    "\n",
    "There is a biker going on a road trip. The road trip consists of $n + 1$ points at different altitudes. The biker starts his trip on point $0$ with altitude equal $0$.\n",
    "\n",
    "You are given an integer array gain of length `n` where `gain[i]` is the net gain in altitude between points `i` and `i + 1` for all `(0 <= i < n)`. Return the highest altitude of a point.\n",
    "\n",
    "**Example 1**:\n",
    "\n",
    "*Input*: gain = [-5,1,5,0,-7]  \n",
    "*Output*: 1  \n",
    "*Explanation*: The altitudes are [0,-5,-4,1,1,-6]. The highest is 1.\n",
    "\n",
    "**Example 2**:\n",
    "\n",
    "*Input*: gain = [-4,-3,-2,-1,4,3,2]  \n",
    "*Output*: 0  \n",
    "*Explanation*: The altitudes are [0,-4,-7,-9,-10,-6,-3,-1]. The highest is 0.\n"
   ]
  },
  {
   "cell_type": "code",
   "execution_count": 54,
   "metadata": {},
   "outputs": [
    {
     "name": "stdout",
     "output_type": "stream",
     "text": [
      "-5\n"
     ]
    },
    {
     "ename": "NameError",
     "evalue": "name 'itertools' is not defined",
     "output_type": "error",
     "traceback": [
      "\u001b[1;31m---------------------------------------------------------------------------\u001b[0m",
      "\u001b[1;31mNameError\u001b[0m                                 Traceback (most recent call last)",
      "\u001b[1;32m<ipython-input-54-b0ad7e364da9>\u001b[0m in \u001b[0;36m<module>\u001b[1;34m\u001b[0m\n\u001b[0;32m      8\u001b[0m \u001b[1;33m\u001b[0m\u001b[0m\n\u001b[0;32m      9\u001b[0m \u001b[1;33m\u001b[0m\u001b[0m\n\u001b[1;32m---> 10\u001b[1;33m \u001b[0mexercise3\u001b[0m\u001b[1;33m(\u001b[0m\u001b[1;33m[\u001b[0m\u001b[1;33m-\u001b[0m\u001b[1;36m5\u001b[0m\u001b[1;33m,\u001b[0m\u001b[1;36m1\u001b[0m\u001b[1;33m,\u001b[0m\u001b[1;36m5\u001b[0m\u001b[1;33m,\u001b[0m\u001b[1;36m0\u001b[0m\u001b[1;33m,\u001b[0m\u001b[1;33m-\u001b[0m\u001b[1;36m7\u001b[0m\u001b[1;33m]\u001b[0m\u001b[1;33m)\u001b[0m\u001b[1;33m\u001b[0m\u001b[1;33m\u001b[0m\u001b[0m\n\u001b[0m",
      "\u001b[1;32m<ipython-input-54-b0ad7e364da9>\u001b[0m in \u001b[0;36mexercise3\u001b[1;34m(gain)\u001b[0m\n\u001b[0;32m      4\u001b[0m     \u001b[1;32mfor\u001b[0m \u001b[0mi\u001b[0m \u001b[1;32min\u001b[0m \u001b[0mrange\u001b[0m\u001b[1;33m(\u001b[0m\u001b[0mlen\u001b[0m\u001b[1;33m(\u001b[0m\u001b[0mgain\u001b[0m\u001b[1;33m)\u001b[0m\u001b[1;33m)\u001b[0m\u001b[1;33m:\u001b[0m\u001b[1;33m\u001b[0m\u001b[1;33m\u001b[0m\u001b[0m\n\u001b[0;32m      5\u001b[0m         \u001b[0mprint\u001b[0m\u001b[1;33m(\u001b[0m\u001b[0mgain\u001b[0m\u001b[1;33m[\u001b[0m\u001b[0mi\u001b[0m\u001b[1;33m]\u001b[0m\u001b[1;33m)\u001b[0m\u001b[1;33m\u001b[0m\u001b[1;33m\u001b[0m\u001b[0m\n\u001b[1;32m----> 6\u001b[1;33m         \u001b[0mresult\u001b[0m \u001b[1;33m=\u001b[0m \u001b[0mitertools\u001b[0m\u001b[1;33m.\u001b[0m\u001b[0maccumulate\u001b[0m\u001b[1;33m(\u001b[0m\u001b[0mgain\u001b[0m\u001b[1;33m,\u001b[0m \u001b[0mmax\u001b[0m\u001b[1;33m)\u001b[0m\u001b[1;33m\u001b[0m\u001b[1;33m\u001b[0m\u001b[0m\n\u001b[0m\u001b[0;32m      7\u001b[0m         \u001b[1;32mreturn\u001b[0m \u001b[0mresult\u001b[0m\u001b[1;33m\u001b[0m\u001b[1;33m\u001b[0m\u001b[0m\n\u001b[0;32m      8\u001b[0m \u001b[1;33m\u001b[0m\u001b[0m\n",
      "\u001b[1;31mNameError\u001b[0m: name 'itertools' is not defined"
     ]
    }
   ],
   "source": [
    "from itertools import accumulate\n",
    "\n",
    "def exercise3(gain) -> int:\n",
    "    for i in range(len(gain)):\n",
    "        print(gain[i])\n",
    "        result = itertools.accumulate(gain, max)\n",
    "        return result\n",
    "\n",
    "        \n",
    "exercise3([-5,1,5,0,-7])"
   ]
  },
  {
   "cell_type": "code",
   "execution_count": null,
   "metadata": {},
   "outputs": [],
   "source": [
    "import unittest\n",
    "\n",
    "class TestExercise3(unittest.TestCase):\n",
    "    def test(self):\n",
    "        self.assertEqual(exercise3([-5,1,5,0,-7]), 1)\n",
    "        self.assertEqual(exercise3([-5,-4,11,-5,-7]), 2)\n",
    "        self.assertEqual(exercise3([-4,-3,-2,-1,4,3,2]), 0)\n",
    "        self.assertEqual(exercise3([-3,1,2,0,-7]), 0)\n",
    "unittest.main(argv=[''], verbosity=2, exit=False)"
   ]
  },
  {
   "cell_type": "code",
   "execution_count": null,
   "metadata": {},
   "outputs": [],
   "source": []
  },
  {
   "cell_type": "code",
   "execution_count": null,
   "metadata": {},
   "outputs": [],
   "source": []
  }
 ],
 "metadata": {
  "kernelspec": {
   "display_name": "Python 3",
   "language": "python",
   "name": "python3"
  },
  "language_info": {
   "codemirror_mode": {
    "name": "ipython",
    "version": 3
   },
   "file_extension": ".py",
   "mimetype": "text/x-python",
   "name": "python",
   "nbconvert_exporter": "python",
   "pygments_lexer": "ipython3",
   "version": "3.8.3"
  }
 },
 "nbformat": 4,
 "nbformat_minor": 5
}
