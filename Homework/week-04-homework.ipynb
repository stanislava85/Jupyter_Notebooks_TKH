{
 "cells": [
  {
   "cell_type": "markdown",
   "metadata": {},
   "source": [
    "<div style=\"background: #000;\n",
    "            color: #FFF;\n",
    "            margin: 0px;\n",
    "                padding: 10px 0px 20px 0px;\n",
    "            text-align: center; \n",
    "                \">\n",
    "    <h1>Week 4 - Homework</h1>\n",
    "</div>\n",
    "\n",
    "<hr>\n",
    "<pre style=\"text-align: center;\">\n",
    "<h3>Due Tuesday before class time.</h3>\n",
    "Be prepared to present Exercise 1 and 2 on Tuesday.\n",
    "Be prepared to present Exercise 3 and 4 on Tuesday.\n",
    "</pre>\n",
    "<hr>\n"
   ]
  },
  {
   "cell_type": "markdown",
   "metadata": {},
   "source": [
    "# Exercise 1\n",
    "\n",
    "Create a function that takes both postional arguments and a keyword arguments. "
   ]
  },
  {
   "cell_type": "code",
   "execution_count": 2,
   "metadata": {
    "scrolled": true
   },
   "outputs": [
    {
     "name": "stdout",
     "output_type": "stream",
     "text": [
      "This is a sentence\n"
     ]
    }
   ],
   "source": [
    "def arg_func(arg1, arg2, kwarg1=\"This\", kwarg2=\"is\"):\n",
    "    print(kwarg1, kwarg2, arg1, arg2)\n",
    "    \n",
    "arg_func(\"a\", \"sentence\")"
   ]
  },
  {
   "cell_type": "markdown",
   "metadata": {},
   "source": [
    "# Exercise 2\n",
    "\n",
    "Fix the following function so that it takes an arbitrary number of arguments. Demonstrate this function works by unpacking `lst` into the function as 11 arguements."
   ]
  },
  {
   "cell_type": "code",
   "execution_count": 10,
   "metadata": {},
   "outputs": [
    {
     "data": {
      "text/plain": [
       "['1', '2', '3', '4', '5', '6', '7', '8', '9', '10']"
      ]
     },
     "execution_count": 10,
     "metadata": {},
     "output_type": "execute_result"
    }
   ],
   "source": [
    "lst = [1,2,3,4,5,6,7,8,9,10]\n",
    "\n",
    "def values(*args):\n",
    "    new_list = []\n",
    "    for i in args:\n",
    "        new_list.append(str(i))\n",
    "    return new_list\n",
    "\n",
    "values(*lst)\n",
    "\n",
    "#unpacking the list\n",
    "#adding the asterix before the variable in the function, lets us input a different/random number of arguments each time"
   ]
  },
  {
   "cell_type": "markdown",
   "metadata": {},
   "source": [
    "# Exercise 3\n",
    "\n",
    "Write a function that has an algorithm that is worst case 0(n)."
   ]
  },
  {
   "cell_type": "code",
   "execution_count": 16,
   "metadata": {},
   "outputs": [
    {
     "data": {
      "text/plain": [
       "25"
      ]
     },
     "execution_count": 16,
     "metadata": {},
     "output_type": "execute_result"
    }
   ],
   "source": [
    "def function(list_1):\n",
    "    length = len(list_1)\n",
    "    new_list = []\n",
    "    for i in range(length):\n",
    "        for j in range(length):\n",
    "            tup = (list_1[i], list_1[j], list_1[i] == list_1[j])\n",
    "            new_list.append(tup)\n",
    "    return new_list\n",
    "             \n",
    "function([i for i in range(5)])\n",
    "len(s)\n",
    "\n"
   ]
  },
  {
   "cell_type": "markdown",
   "metadata": {},
   "source": [
    "# Exercise 4\n",
    "\n",
    "Write a function called `summer` that takes an arbitrary number of keyword arguments and then adds any arguments that are ints/floats to produce a sum.\n",
    "\n",
    "Hint:  \n",
    "`summer(**{a=True, b=1})` would return 1.   \n",
    "`summer(**{c=3, d=\"4\" })` would return 3."
   ]
  },
  {
   "cell_type": "code",
   "execution_count": 52,
   "metadata": {},
   "outputs": [
    {
     "name": "stdout",
     "output_type": "stream",
     "text": [
      "14.0\n"
     ]
    }
   ],
   "source": [
    "def summer(*args, **kwargs):\n",
    "    #for i in args:\n",
    "        #print(sum(args))\n",
    "    #for kwarg, val in kwargs.items():\n",
    "        #print(int(sum(kwargs.values())))\n",
    "    print(sum(args) + int(sum(kwargs.values())))\n",
    "    \n",
    "summer(4.0, 5, a=2.0, b=3)"
   ]
  },
  {
   "cell_type": "markdown",
   "metadata": {},
   "source": [
    "# Bonus\n",
    "\n",
    "Create a function that returns a lambda function. Show how it can be used to create new functions. Can you turn this into a decorator?\n",
    "\n",
    "Hint: see example from `week-04-class-02.ipynb` with the `mytripler` function"
   ]
  },
  {
   "cell_type": "code",
   "execution_count": 3,
   "metadata": {},
   "outputs": [
    {
     "name": "stdout",
     "output_type": "stream",
     "text": [
      "9\n",
      "12\n"
     ]
    },
    {
     "data": {
      "text/plain": [
       "8"
      ]
     },
     "execution_count": 3,
     "metadata": {},
     "output_type": "execute_result"
    }
   ],
   "source": [
    "func_minus_one = lambda a, b: a * (b - 1)\n",
    "\n",
    "def new_func(b): \n",
    "    return lambda a : a * (b - 1)\n",
    "\n",
    "variable = new_func(5)\n",
    "\n",
    "print(func_minus_one(3,4))\n",
    "print(variable(3))\n",
    "new_func(3)(4)\n"
   ]
  },
  {
   "cell_type": "code",
   "execution_count": 2,
   "metadata": {},
   "outputs": [
    {
     "name": "stdout",
     "output_type": "stream",
     "text": [
      "<a>this is inner content for html</a>\n"
     ]
    }
   ],
   "source": [
    "def decorator_function(func):\n",
    "    def wrapper(name):\n",
    "        print(f\"<a>{func(name)}</a>\")\n",
    "    return wrapper\n",
    "\n",
    "@decorator_function\n",
    "def function_A(name):\n",
    "    return name\n",
    "    \n",
    "function_A(\"this is inner content for html\")"
   ]
  },
  {
   "cell_type": "code",
   "execution_count": 4,
   "metadata": {},
   "outputs": [
    {
     "name": "stdout",
     "output_type": "stream",
     "text": [
      "<h1>inner content</h1>\n"
     ]
    }
   ],
   "source": [
    "def tagger(tag_name):\n",
    "    def decorator_function(func):\n",
    "        def wrapper(name):\n",
    "            print(f\"<{tag_name}>{func(name)}</{tag_name}>\")\n",
    "        return wrapper\n",
    "    return decorator_function\n",
    "\n",
    "@tagger('h1')\n",
    "def function_A(name):\n",
    "    return name\n",
    "    \n",
    "function_A(\"inner content\")"
   ]
  },
  {
   "cell_type": "code",
   "execution_count": null,
   "metadata": {},
   "outputs": [],
   "source": []
  }
 ],
 "metadata": {
  "kernelspec": {
   "display_name": "Python 3",
   "language": "python",
   "name": "python3"
  },
  "language_info": {
   "codemirror_mode": {
    "name": "ipython",
    "version": 3
   },
   "file_extension": ".py",
   "mimetype": "text/x-python",
   "name": "python",
   "nbconvert_exporter": "python",
   "pygments_lexer": "ipython3",
   "version": "3.8.3"
  }
 },
 "nbformat": 4,
 "nbformat_minor": 4
}
