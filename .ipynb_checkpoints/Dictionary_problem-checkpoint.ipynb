{
 "cells": [
  {
   "cell_type": "code",
   "execution_count": 8,
   "metadata": {},
   "outputs": [
    {
     "name": "stdout",
     "output_type": "stream",
     "text": [
      "redmond, washington alo alto, california cupertino, california mountain view, california seattle, washington\n",
      "dict_keys(['msft', 'tlsa', 'aapl', 'goog', 'amzn'])\n",
      "Microsoft is located in redmond, washington\n",
      "Tesla is located in alo alto, california\n",
      "Apple is located in cupertino, california\n",
      "Google is located in mountain view, california\n",
      "Amazon is located in seattle, washington\n"
     ]
    }
   ],
   "source": [
    "#Write a series of python statements that will:\n",
    "#1. Access the value for key \"location\" of each element of dictionary `companies`\n",
    "#2. Access the value of the key name of each element of dict companies\n",
    "#3.Print the following \"<COMPANY NAME>, is located in <COMPANY LOCATION>\" for each dictionary element.\n",
    "\n",
    "\n",
    "companies = {'msft': {'name' : 'Microsoft','ceo':'satya nadella','location':'redmond, washington'},'tlsa': {'name' : 'Tesla','ceo':'lon musk','location':'alo alto, california'},\n",
    "'aapl': {'name': \"Apple\",\n",
    "       \"ceo\":\"tim cook\",\n",
    "       \"location\":\"cupertino, california\"\n",
    "   },\n",
    "   \"goog\": {\n",
    "        \"name\":\"Google\",\n",
    "       \"ceo\":\"sundar pichai\",\n",
    "       \"location\": \"mountain view, california\"\n",
    "   },\n",
    "   \"amzn\": {\n",
    "       \"name\":\"Amazon\",\n",
    "       \"ceo\":\"jeff bezos\",\n",
    "       \"location\":\"seattle, washington\"}\n",
    "}\n",
    "\n",
    "msft = companies['msft']['location']\n",
    "tlsa = companies['tlsa']['location']\n",
    "aapl = companies['aapl']['location']\n",
    "goog = companies['goog']['location']\n",
    "amzn = companies['amzn']['location']\n",
    "print(msft, tlsa, aapl, goog, amzn)\n",
    "keys = companies.keys()\n",
    "print(keys)\n",
    "print(companies['msft']['name'] + \" is located in \" + msft)\n",
    "print(companies['tlsa']['name'] + \" is located in \" + tlsa)\n",
    "print(companies['aapl']['name'] + \" is located in \" + aapl)\n",
    "print(companies['goog']['name'] + \" is located in \" + goog)\n",
    "print(companies['amzn']['name'] + \" is located in \" + amzn)\n"
   ]
  },
  {
   "cell_type": "code",
   "execution_count": null,
   "metadata": {},
   "outputs": [],
   "source": []
  }
 ],
 "metadata": {
  "kernelspec": {
   "display_name": "Python 3",
   "language": "python",
   "name": "python3"
  },
  "language_info": {
   "codemirror_mode": {
    "name": "ipython",
    "version": 3
   },
   "file_extension": ".py",
   "mimetype": "text/x-python",
   "name": "python",
   "nbconvert_exporter": "python",
   "pygments_lexer": "ipython3",
   "version": "3.8.3"
  }
 },
 "nbformat": 4,
 "nbformat_minor": 4
}
