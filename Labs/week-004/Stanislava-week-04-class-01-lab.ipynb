{
 "cells": [
  {
   "cell_type": "markdown",
   "metadata": {},
   "source": [
    "<div style=\"background: #000;\n",
    "            color: #FFF;\n",
    "            margin: 0px;\n",
    "                padding: 10px 0px 20px 0px;\n",
    "            text-align: center; \n",
    "                \">\n",
    "    <h1>Lab</h1>\n",
    "</div>\n"
   ]
  },
  {
   "cell_type": "markdown",
   "metadata": {},
   "source": [
    "# Question 1 \n",
    "\n",
    "We'd like to create a function that takes a number and outputs the number with it's ordinal indictator (e.g. 1 -> 1st, 2 -> 2nd, and so on).\n",
    "\n",
    "Walk us through the steps we might need to take. DO NOT write any code. Try writing what we call \"pseudocode\"."
   ]
  },
  {
   "cell_type": "markdown",
   "metadata": {},
   "source": [
    "First we will create the main function and then inside (indented) we will use range function and specify the start and the ending inside the range function. Then we will do a for loop to go inside the range function- we will check the last digit of each number. \n",
    "\n",
    "We will turn the integer into a string and check for the last element of each str (index = -1). We will start with conditional statements: \n",
    "- 1st one will cover value 4 <= number <= 20 which all end in \"th\". If that is true, we will print the current number the loops went throught plus \"th\".\n",
    "- The second one will cover 0 < number < 4 ,\"st\", \"nd\", \"rd\". If the last digit of the number falls between 1 and 3 : if digit is 1 = print number +\"st\", if digit is 2 print number + \"nd\", if digit is 3, print number + \"rd\"\n",
    "- else : everything else (covering the rest of all numbers)- print the number + \"th\".\n",
    "\n"
   ]
  },
  {
   "cell_type": "markdown",
   "metadata": {},
   "source": [
    "# Exercise 1\n",
    "\n",
    "Create a function that takes two parameters and returns a list."
   ]
  },
  {
   "cell_type": "code",
   "execution_count": 2,
   "metadata": {},
   "outputs": [
    {
     "data": {
      "text/plain": [
       "[25, 56]"
      ]
     },
     "execution_count": 2,
     "metadata": {},
     "output_type": "execute_result"
    }
   ],
   "source": [
    "def function_two(arg1, arg2):\n",
    "    return [arg1, arg2]\n",
    "function_two(25,56)\n"
   ]
  },
  {
   "cell_type": "markdown",
   "metadata": {},
   "source": [
    "# Exercise 2\n"
   ]
  },
  {
   "cell_type": "markdown",
   "metadata": {},
   "source": [
    "Create a function that will return the list of square roots from numbers from 1 to `n` (where `n` is the input)\n",
    "\n"
   ]
  },
  {
   "cell_type": "code",
   "execution_count": 3,
   "metadata": {},
   "outputs": [
    {
     "data": {
      "text/plain": [
       "[1.0, 1.4142135623730951, 1.7320508075688772, 2.0]"
      ]
     },
     "execution_count": 3,
     "metadata": {},
     "output_type": "execute_result"
    }
   ],
   "source": [
    "import math\n",
    "\n",
    "def square_roots(n):\n",
    "    return [math.sqrt(i) for i in range(1,n+1)]\n",
    "square_roots(4)\n"
   ]
  },
  {
   "cell_type": "markdown",
   "metadata": {},
   "source": [
    "# Exercise 3\n",
    "\n",
    "Create a mad-lib that instead of using the `input` function, uses keyword arguments."
   ]
  },
  {
   "cell_type": "code",
   "execution_count": 6,
   "metadata": {},
   "outputs": [
    {
     "name": "stdout",
     "output_type": "stream",
     "text": [
      "Oscar is 45 years old.\n"
     ]
    }
   ],
   "source": [
    "def mad_lib(name= \"Oscar\", age= 45):\n",
    "    print(f\"{name} is {age} years old.\")\n",
    "mad_lib()\n"
   ]
  },
  {
   "cell_type": "markdown",
   "metadata": {},
   "source": [
    "# Exercise 4\n",
    "\n",
    "Create a function that takes `n` as the input and returns a `n`x`n` matrix where all the values are zeros. "
   ]
  },
  {
   "cell_type": "code",
   "execution_count": 10,
   "metadata": {},
   "outputs": [
    {
     "name": "stdout",
     "output_type": "stream",
     "text": [
      "[0, 0]\n",
      "[0, 0]\n"
     ]
    },
    {
     "data": {
      "text/plain": [
       "[[0, 0], [0, 0]]"
      ]
     },
     "execution_count": 10,
     "metadata": {},
     "output_type": "execute_result"
    }
   ],
   "source": [
    "#method 1\n",
    "\n",
    "def n_times_n(post1, post2):\n",
    "    matrix= [[post1,post2],[post1,post2]] \n",
    "    for i in matrix:\n",
    "        print(i)\n",
    "n_times_n(0,0)\n",
    "\n",
    "\n",
    "#method 2\n",
    "def matrix(n):\n",
    "    l_1 = []\n",
    "    for i in range(n):\n",
    "        l_1.append(0)\n",
    "    l_2 = []\n",
    "    for i in range(n):\n",
    "        l_2.append(l_1)\n",
    "    return(l_2)\n",
    "\n",
    "matrix(2)\n",
    "\n"
   ]
  },
  {
   "cell_type": "markdown",
   "metadata": {},
   "source": [
    "# Exercise 5\n",
    "\n",
    "Find an exercise from a previous lab and convert it into a function demonstrating the ability to define the function and call it using the correct arguments/keywords"
   ]
  },
  {
   "cell_type": "markdown",
   "metadata": {},
   "source": [
    "Given the following string, loop through and add up all the digits in the string:\n",
    "\n",
    "Sum should be 1271."
   ]
  },
  {
   "cell_type": "code",
   "execution_count": 5,
   "metadata": {},
   "outputs": [],
   "source": [
    "a = 'pmigec64kybmjge268yrt3r2b6zoq67oi9j8m7iu919pkg0y1zveazodkfuxfpfxqlasrcq1yfdyz5sj3hq7zdzbmur8eh83ezrqdwjddn01fq0tu7ffffn75srbv8vqrd6yo6rhj9xt8zssttyrduu42trkko87cs4j0pchid2ml73py5soblik1pwqzw75hcqdm4in5wzbc6h8ig2panrq93qm4wqqcj7cgp49aoyi4x8zhnkhohw25r1harhqj40g0gkr8fjzb6uypo8pv8dsrux214zv55z0jv8k7huniucccmbpuuze9be6ksfabofm31e1f33x7ofc2ceyxh2w1aysl6584trf0cxce2ev3ifxxuc1q4rivpfiu4i0o1s994nq4599hr9w44e6i8zh7xkfdrdo7ye94rbg69hp8fubdivfilw0yqg0xgzo6ftbszsim4d4k37qvsuet7k2l2n6c3uykqbzfl8xtxm225i7znpbclm3iy2rgk212csyicl8e81wm2df6w9blbdlm15uves0x0g3wn999n8cqrre9xpqt51fyyo1ctnlpgthmv89xhrt5qnyxq1ag8oqa42pxngew9wk0ikpwf2tts3iw6a1d9qjsneb04em5ce1xefz6xj549eaa9zls5rr1vdmuxolngbaawx9wwtona1yuc4u370zo8ofn4rci1gooqx2ddt77u1e1l10rpnpp0mzzlagj731alynwgux5wdy7gw33ddmgfzqhlk1jx9lx2ik8svkgrzrw9jhne8t4llwbp0fuw6nsdphe9n90dhj94cfcb1i2yo8lzqky4krezifhifw8lnhd59rhx04n2j4vkdn1g3ets3bl5k5k26ldgrxqnri7u1ubkttp0n3rxkop9z3qnxanz1u24cx5q5ld2ntc0c95n2thlz2xoxyppgs5xvjm08h3g22umil5ab8ktdnyqi938dx9d8b1pzcsvwpw853zh7w'"
   ]
  },
  {
   "cell_type": "code",
   "execution_count": 11,
   "metadata": {},
   "outputs": [
    {
     "data": {
      "text/plain": [
       "1271"
      ]
     },
     "execution_count": 11,
     "metadata": {},
     "output_type": "execute_result"
    }
   ],
   "source": [
    "def find_sum(a):\n",
    "    sum = 0\n",
    "    for i in a:\n",
    "        if i.isnumeric():\n",
    "            num = int(i)\n",
    "            #print(num)\n",
    "            sum += num\n",
    "    return sum\n",
    "find_sum(a)"
   ]
  },
  {
   "cell_type": "markdown",
   "metadata": {},
   "source": [
    "# Bonus:\n",
    "    \n",
    "Create a function that has a function within. Demonstrate how you might use this function in a real world application."
   ]
  },
  {
   "cell_type": "code",
   "execution_count": 34,
   "metadata": {},
   "outputs": [
    {
     "data": {
      "text/plain": [
       "9"
      ]
     },
     "execution_count": 34,
     "metadata": {},
     "output_type": "execute_result"
    }
   ],
   "source": [
    "def func_1(a):\n",
    "    def func_2(x):\n",
    "        return a+x\n",
    "    return func_2\n",
    "\n",
    "func_1(5)(4)\n",
    "\n",
    "# we would use a function like that when we constantly need to change the values of the variables but still need to do the \n",
    "#same operation, it'll save us time."
   ]
  },
  {
   "cell_type": "code",
   "execution_count": null,
   "metadata": {},
   "outputs": [],
   "source": []
  }
 ],
 "metadata": {
  "kernelspec": {
   "display_name": "Python 3",
   "language": "python",
   "name": "python3"
  },
  "language_info": {
   "codemirror_mode": {
    "name": "ipython",
    "version": 3
   },
   "file_extension": ".py",
   "mimetype": "text/x-python",
   "name": "python",
   "nbconvert_exporter": "python",
   "pygments_lexer": "ipython3",
   "version": "3.8.3"
  }
 },
 "nbformat": 4,
 "nbformat_minor": 4
}
