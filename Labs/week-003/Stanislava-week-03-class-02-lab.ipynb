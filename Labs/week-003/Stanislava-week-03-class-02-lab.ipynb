{
 "cells": [
  {
   "cell_type": "markdown",
   "metadata": {},
   "source": [
    "<div style=\"background: #000;\n",
    "            color: #FFF;\n",
    "            margin: 0px;\n",
    "                padding: 10px 0px 20px 0px;\n",
    "            text-align: center; \n",
    "                \">\n",
    "    <h1>Week 3 - Class -2 - Lab</h1>\n",
    "</div>\n"
   ]
  },
  {
   "cell_type": "markdown",
   "metadata": {},
   "source": [
    "# Question 1: \n",
    "\n",
    "If you wanted to loop through a list to find a value, what control structure could you use and why? Explain your example. (Doesn't need to work for all cases, just your particular case). <br>\n",
    "If I need to go throught each element in a list I would use a FOR LOOP. The for loop passes through each element in a list and searches for certain conditions, does something if these conditions are met or not, depending on the task. <br>\n",
    "Let's say I need to go through a list of names and ages and print the names of all people in the list who are 25 years old. I would use a for loop, which would go through the age of each person, check if that age is equal to 25, and if yes then print the corresponding person's name."
   ]
  },
  {
   "cell_type": "markdown",
   "metadata": {},
   "source": [
    "# Exercise 1:\n",
    "\n",
    "Given the following string, loop through and add up all the digits in the string:\n",
    "\n",
    "Sum should be 1271.\n"
   ]
  },
  {
   "cell_type": "code",
   "execution_count": 17,
   "metadata": {},
   "outputs": [],
   "source": [
    "a = 'pmigec64kybmjge268yrt3r2b6zoq67oi9j8m7iu919pkg0y1zveazodkfuxfpfxqlasrcq1yfdyz5sj3hq7zdzbmur8eh83ezrqdwjddn01fq0tu7ffffn75srbv8vqrd6yo6rhj9xt8zssttyrduu42trkko87cs4j0pchid2ml73py5soblik1pwqzw75hcqdm4in5wzbc6h8ig2panrq93qm4wqqcj7cgp49aoyi4x8zhnkhohw25r1harhqj40g0gkr8fjzb6uypo8pv8dsrux214zv55z0jv8k7huniucccmbpuuze9be6ksfabofm31e1f33x7ofc2ceyxh2w1aysl6584trf0cxce2ev3ifxxuc1q4rivpfiu4i0o1s994nq4599hr9w44e6i8zh7xkfdrdo7ye94rbg69hp8fubdivfilw0yqg0xgzo6ftbszsim4d4k37qvsuet7k2l2n6c3uykqbzfl8xtxm225i7znpbclm3iy2rgk212csyicl8e81wm2df6w9blbdlm15uves0x0g3wn999n8cqrre9xpqt51fyyo1ctnlpgthmv89xhrt5qnyxq1ag8oqa42pxngew9wk0ikpwf2tts3iw6a1d9qjsneb04em5ce1xefz6xj549eaa9zls5rr1vdmuxolngbaawx9wwtona1yuc4u370zo8ofn4rci1gooqx2ddt77u1e1l10rpnpp0mzzlagj731alynwgux5wdy7gw33ddmgfzqhlk1jx9lx2ik8svkgrzrw9jhne8t4llwbp0fuw6nsdphe9n90dhj94cfcb1i2yo8lzqky4krezifhifw8lnhd59rhx04n2j4vkdn1g3ets3bl5k5k26ldgrxqnri7u1ubkttp0n3rxkop9z3qnxanz1u24cx5q5ld2ntc0c95n2thlz2xoxyppgs5xvjm08h3g22umil5ab8ktdnyqi938dx9d8b1pzcsvwpw853zh7w'"
   ]
  },
  {
   "cell_type": "code",
   "execution_count": 19,
   "metadata": {},
   "outputs": [
    {
     "data": {
      "text/plain": [
       "1271"
      ]
     },
     "execution_count": 19,
     "metadata": {},
     "output_type": "execute_result"
    }
   ],
   "source": [
    "sum = 0\n",
    "for i in a:\n",
    "    if i.isnumeric():\n",
    "        num = int(i)\n",
    "        #print(num)\n",
    "        sum += num\n",
    "sum"
   ]
  },
  {
   "cell_type": "markdown",
   "metadata": {},
   "source": [
    "# Exercise 2:\n",
    "\n",
    "Given the dictionary `output`, for each company access the `'Price'` and  the `'Volume'` to print the following:\n",
    "\n",
    "```python\n",
    "print(f\"{<company>}\\t{<price>}\\t\\t{<volume>:,}\")\n",
    "```\n",
    "your output should print like the following:\n",
    "```\n",
    "TSLA\t419.07\t\t49,731,482,388\n",
    "```"
   ]
  },
  {
   "cell_type": "code",
   "execution_count": 34,
   "metadata": {},
   "outputs": [],
   "source": [
    "output = {\n",
    "    'TSLA': {\n",
    "        'Price': 419.07,\n",
    "        'Volume': 49731482388\n",
    "    },\n",
    "    'AAPL': {\n",
    "        'Price': 114.09,\n",
    "        'Volume': 96673239493\n",
    "    \n",
    "    },\n",
    "    'F': {\n",
    "        'Price': 6.57,\n",
    "        'Volume': 37086982332\n",
    "    },\n",
    "    'BAC': {\n",
    "        'Price': 23.77,\n",
    "        'Volume': 40639319988\n",
    "    }\n",
    "}"
   ]
  },
  {
   "cell_type": "code",
   "execution_count": 35,
   "metadata": {},
   "outputs": [
    {
     "name": "stdout",
     "output_type": "stream",
     "text": [
      "TSLA\t419.07\t\t49,731,482,388\n",
      "AAPL\t114.09\t\t96,673,239,493\n",
      "F\t6.57\t\t37,086,982,332\n",
      "BAC\t23.77\t\t40,639,319,988\n"
     ]
    }
   ],
   "source": [
    "for name,values in output.items():\n",
    "    #print(name, values)\n",
    "    #print(values['Price'])\n",
    "    #print(values['Volume'])\n",
    "    print(f\"{name}\\t{values['Price']}\\t\\t{values['Volume']:,}\")\n"
   ]
  },
  {
   "cell_type": "markdown",
   "metadata": {},
   "source": [
    "# Exercise 3\n",
    "\n",
    "Write a Python program which iterates the integers from 1 to 50. \n",
    "\n",
    "For multiples of three print \"Fizz\" instead of the number.  \n",
    "For the multiples of five print \"Buzz\".  \n",
    "For numbers which are multiples of both three and five print \"FizzBuzz\"."
   ]
  },
  {
   "cell_type": "code",
   "execution_count": 40,
   "metadata": {},
   "outputs": [
    {
     "name": "stdout",
     "output_type": "stream",
     "text": [
      "1\n",
      "2\n",
      "Fizz\n",
      "4\n",
      "Buzz\n",
      "Fizz\n",
      "7\n",
      "8\n",
      "Fizz\n",
      "Buzz\n",
      "11\n",
      "Fizz\n",
      "13\n",
      "14\n",
      "FizzBuzz\n",
      "16\n",
      "17\n",
      "Fizz\n",
      "19\n",
      "Buzz\n",
      "Fizz\n",
      "22\n",
      "23\n",
      "Fizz\n",
      "Buzz\n",
      "26\n",
      "Fizz\n",
      "28\n",
      "29\n",
      "FizzBuzz\n",
      "31\n",
      "32\n",
      "Fizz\n",
      "34\n",
      "Buzz\n",
      "Fizz\n",
      "37\n",
      "38\n",
      "Fizz\n",
      "Buzz\n",
      "41\n",
      "Fizz\n",
      "43\n",
      "44\n",
      "FizzBuzz\n",
      "46\n",
      "47\n",
      "Fizz\n",
      "49\n",
      "Buzz\n"
     ]
    }
   ],
   "source": [
    "for i in range(1,51):\n",
    "    #print(i)\n",
    "    if i % 3 == 0 and i % 5 == 0:\n",
    "        print(\"FizzBuzz\")\n",
    "    elif i % 3 == 0:\n",
    "        print(\"Fizz\")\n",
    "    elif i % 5 == 0:\n",
    "        print(\"Buzz\")\n",
    "    else:\n",
    "        print(i)"
   ]
  },
  {
   "cell_type": "markdown",
   "metadata": {},
   "source": [
    "# Exercise 4:\n",
    "\n",
    "Given the following list. Find the mean, median and mode."
   ]
  },
  {
   "cell_type": "code",
   "execution_count": 1,
   "metadata": {},
   "outputs": [],
   "source": [
    "a = [-243, 167, -159, -85, 51, 142, 131, -42, 148, 63, 46, 179, -29, 90, -213, 22, -156, 102, 183, 94, -1, -228, 2, -150, -65, -186, -164, 88, -146, 151, 240, -190, -218, -172, -214, 231, 91, 152, -154, 112, -109, 69, -59, 120, 83, 135, 145, 61, -189, -83, 86, 67, -183, 114, 51, 155, -39, 160, -180, 91, -103, 63, 205, -205, 192, 231, 135, 172, -45, -9, -19, 232, 205, -164, 189, 44, -96, -93, 101, 96, 121, -3, 139, -168, 135, 183, -70, 134, 144, 58, -213, -244, 168, -185, -226, -153, 145, -54, 222, 136, 54, -148, 174, 85, -239, -53, -54, -10, -67, -12, -181, 243, -24, -212, 121, -201, 144, 244, -215, -240, 161, -57, -120, 4, -50, -49, 122, -205, 163, 225, -212, 83, -38, -163, 10, 184, -85, -144, 124, 6, 185, -113, 224, 54, -76, -89, 200, -212, -75, 100, -228, 142, 38, 211, 108, 100, -98, 150, 13, -213, -181, 116, -213, -239, 193, -137, 166, -173, -17, 237, 106, -22, 199, -133, 99, -235, -3, -76, -219, -194, -53, 118, 248, -53, 169, 242, 11, -135, 236, 10, -34, -54, -130, -156, -30, -179, -47, -236, 55, -250, -205, 198, -180, 11, 159, -83, 232, -200, 46, -53, -202, -222, -76, -231, 98, 118, -47, 69, 101, -166, 123, 146, 28, 95, -122, 114, 177, 204, -60, 227, -136, -208, 173, -67, -96, -230, 65, -82, 165, 55, 205, -153, -173, 86, 178, -148, 221, -197, 83, -26, -6, 242, 104, 144, 47, -52, -105, 249, -73, 123, 54, 228, 64, -212, 35, -177, -249, -75, 221, -19, 99, -208, 107, 213, 76, 172, -181, -147, 100, 27, 179, -147, -34, 80, -28, 53, -30, -174, 40, 218, 125, 47, -4, -83, 230, 176, -170, 139, 86, -192, 22, 204, -193, 62, 10, 151, 228, 231, -80, 181, 205, -152, 40, 222, -181, 87, -177, -186, 51, 122, 68, 248, 170, -88, -77, -31, -246, 132, -36, -228, 214, 77, -225, 186, 21, 46, -162, -226, -212, 172, -173, 143, 112, -3, -128, -211, -49, -127, -209, 33, 48, 100, -101, 223, 222, 10, -52, -68, 244, -83, 175, 156, 232, -219, 121, -111, -217, 186, 19, -249, 213, 227, -182, -67, -46, -74, -239, 21, 88, -175, -81, -86, 129, -217, -205, -165, -23, 153, -62, 141, 173, 44, 172, 60, 13, -180, 20, 40, -42, 21, -183, -175, -47, -129, -28, 197, -118, 234, -142, 178, -138, 234, -192, 133, 150, -19, -81, 91, -64, -152, 201, 136, 9, -218, -140, -112, 192, 58, 154, -170, 29, -247, 215, 230, -146, 106, 209, -200, 180, 210, 217, 77, -96, 160, 231, -50, -208, 58, 231, 175, -56, 156, -170, -214, -227, -78, -90, -85, 122, 101, 240, -144, -177, -55, -89, -85, 127, -78, -171, -207, 122, -241, -185, 170, -21, 104, 79, 181, 172, -152, 12, -113, -249, -161, 165, 214, 21, -40, 163, 124, -242, -45, 213, 23, 155, -59, 245, -161, -52, -47, 245, -84, 144, -164, 235, -1, -121, -30, 131, -9, -115, 23, 86, -200, 151, 95, -114, -152, -172, 241, 72, 206, -23, -247, 11, -127, 40, 161, 99, -234, -137, 202, -223, -76, 139, -32, 107, 129, 157, -173, -169, -89, -104, 245, -90, 220, -88, -171, 245, -147, -107, 68, -53, -88, -82, -144, -110, 225, 239, 58, 40, 202, -11, -170, 137, 12, 116, 190, -39, -62, 73, 207, 149, 110, 30, -158, 20, 245, -183, -72, 128, -176, 85, 119, 105, 37, 18, 101, -78, -70, 210, -35, -99, 6, 199, -121, -125, 106, 188, -95, -226, -194, 181, -239, -33, 201, 147, -131, -217, -209, -78, -104, 8, 88, -21, -143, -149, -176, 203, 108, 65, 198, 247, 172, -64, 101, -221, 146, -5, 82, -211, -235, -105, 15, 145, 167, -195, -5, -182, 213, -211, 157, 125, -115, -83, -155, 244, -249, -96, 169, 141, -8, 71, 247, 1, 202, 214, 141, -15, 224, 175, -105, -198, 143, -43, -55, -236, 145, -228, 36, 6, 247, 26, -35, 142, 248, -38, -219, 36, 90, -128, 4, 212, -66, -89, 20, -68, -191, -219, -117, -206, -33, 117, -165, -165, -167, -236, -65, 165, 188, 178, 111, -100, -153, 150, -19, 74, 15, 112, 229, -114, -219, -44, -69, 144, -9, 68, 250, 188, -12, 73, 16, 210, 130, 190, -51, 178, -231, -207, -46, -40, 175, -47, 247, -87, 249, 122, -107, 4, -150, 217, 205, -167, -195, 159, 129, 57, 246, 188, -155, -136, -88, -198, 53, 115, 94, 71, 200, -199, 163, 203, -210, 46, -216, 6, 188, 0, 37, 130, -117, 201, -114, 69, 92, -175, -87, 250, 200, -6, 42, 105, 157, -13, 228, 192, 85, 114, 12, -49, 100, -161, 110, 87, 204, -82, 28, -216, -191, -20, 192, 63, 172, 175, -220, -92, 211, 99, 210, -54, 157, -40, -128, 14, 124, 52, -234, 145, -90, 210, 204, 98, -242, 125, -137, 39, -134, -2, 66, -68, -138, -84, 248, 37, -19, 63, -136, -55, -186, 231, 248, -99, 74, -186, 17, -36, 143, -73, -21, 124, 60, -239, 140, 113, -204, 220, -242, -71, -92, 160, -239, -39, 156, -151, 140, -84, 240, -236, 115, -222, -49, -172, -135, -227, -198, -26, 211, 237, -103, -154, 36, 153, -102, 45, 165, -67, -202, -202, -124, 177, -93, -3, 109, -65, 214, -248, 208, -212, 145, 210, -2, 100, 108, 157, 100, -163, -6, 145, 28, -128, 140, -187, 113, -162, 37, -212, 17, -180, -213, 158, -217, -18, 210, -113, 119, -103, 181, -34, -218, 245, -21, 19, -89, 45, 194, 214, -200, -38, 65, 149, -102, 223, 44, -150, 93, -181, 191, -92, -134, -17, 21, 138, -91, -248, 4, -172, 18, -128, 78, -151, 178, 25, 231, -145, -172, -150, 239, 244, -151, 233, 52, 201, 81, 134, 17, -93, 166, -121, -99, -5, 159, -40, 220, 28, -128, 6, -83, -172, 218, -247, 82, 149, 102, -241, -84, 126, -199, -205, -50, 48, -70]"
   ]
  },
  {
   "cell_type": "code",
   "execution_count": 2,
   "metadata": {},
   "outputs": [
    {
     "name": "stdout",
     "output_type": "stream",
     "text": [
      "6.783\n"
     ]
    }
   ],
   "source": [
    "sum = 0\n",
    "for num in a:\n",
    "    sum += num\n",
    "mean = sum/len(a)\n",
    "print(mean)\n"
   ]
  },
  {
   "cell_type": "code",
   "execution_count": 3,
   "metadata": {},
   "outputs": [
    {
     "name": "stdout",
     "output_type": "stream",
     "text": [
      "[-250, -249, -249, -249, -249, -248, -248, -247, -247, -247, -246, -244, -243, -242, -242, -242, -241, -241, -240, -239, -239, -239, -239, -239, -239, -236, -236, -236, -236, -235, -235, -234, -234, -231, -231, -230, -228, -228, -228, -228, -227, -227, -226, -226, -226, -225, -223, -222, -222, -221, -220, -219, -219, -219, -219, -219, -218, -218, -218, -217, -217, -217, -217, -216, -216, -215, -214, -214, -213, -213, -213, -213, -213, -212, -212, -212, -212, -212, -212, -212, -211, -211, -211, -210, -209, -209, -208, -208, -208, -207, -207, -206, -205, -205, -205, -205, -205, -204, -202, -202, -202, -201, -200, -200, -200, -200, -199, -199, -198, -198, -198, -197, -195, -195, -194, -194, -193, -192, -192, -191, -191, -190, -189, -187, -186, -186, -186, -186, -185, -185, -183, -183, -183, -182, -182, -181, -181, -181, -181, -181, -180, -180, -180, -180, -179, -177, -177, -177, -176, -176, -175, -175, -175, -174, -173, -173, -173, -173, -172, -172, -172, -172, -172, -172, -171, -171, -170, -170, -170, -170, -169, -168, -167, -167, -166, -165, -165, -165, -164, -164, -164, -163, -163, -162, -162, -161, -161, -161, -159, -158, -156, -156, -155, -155, -154, -154, -153, -153, -153, -152, -152, -152, -152, -151, -151, -151, -150, -150, -150, -150, -149, -148, -148, -147, -147, -147, -146, -146, -145, -144, -144, -144, -143, -142, -140, -138, -138, -137, -137, -137, -136, -136, -136, -135, -135, -134, -134, -133, -131, -130, -129, -128, -128, -128, -128, -128, -128, -127, -127, -125, -124, -122, -121, -121, -121, -120, -118, -117, -117, -115, -115, -114, -114, -114, -113, -113, -113, -112, -111, -110, -109, -107, -107, -105, -105, -105, -104, -104, -103, -103, -103, -102, -102, -101, -100, -99, -99, -99, -98, -96, -96, -96, -96, -95, -93, -93, -93, -92, -92, -92, -91, -90, -90, -90, -89, -89, -89, -89, -89, -88, -88, -88, -88, -87, -87, -86, -85, -85, -85, -85, -84, -84, -84, -84, -83, -83, -83, -83, -83, -83, -82, -82, -82, -81, -81, -80, -78, -78, -78, -78, -77, -76, -76, -76, -76, -75, -75, -74, -73, -73, -72, -71, -70, -70, -70, -69, -68, -68, -68, -67, -67, -67, -67, -66, -65, -65, -65, -64, -64, -62, -62, -60, -59, -59, -57, -56, -55, -55, -55, -54, -54, -54, -54, -53, -53, -53, -53, -53, -52, -52, -52, -51, -50, -50, -50, -49, -49, -49, -49, -47, -47, -47, -47, -47, -46, -46, -45, -45, -44, -43, -42, -42, -40, -40, -40, -40, -39, -39, -39, -38, -38, -38, -36, -36, -35, -35, -34, -34, -34, -33, -33, -32, -31, -30, -30, -30, -29, -28, -28, -26, -26, -24, -23, -23, -22, -21, -21, -21, -21, -20, -19, -19, -19, -19, -19, -18, -17, -17, -15, -13, -12, -12, -11, -10, -9, -9, -9, -8, -6, -6, -6, -5, -5, -5, -4, -3, -3, -3, -3, -2, -2, -1, -1, 0, 1, 2, 4, 4, 4, 4, 6, 6, 6, 6, 6, 8, 9, 10, 10, 10, 10, 11, 11, 11, 12, 12, 12, 13, 13, 14, 15, 15, 16, 17, 17, 17, 18, 18, 19, 19, 20, 20, 20, 21, 21, 21, 21, 21, 22, 22, 23, 23, 25, 26, 27, 28, 28, 28, 28, 29, 30, 33, 35, 36, 36, 36, 37, 37, 37, 37, 38, 39, 40, 40, 40, 40, 40, 42, 44, 44, 44, 45, 45, 46, 46, 46, 46, 47, 47, 48, 48, 51, 51, 51, 52, 52, 53, 53, 54, 54, 54, 55, 55, 57, 58, 58, 58, 58, 60, 60, 61, 62, 63, 63, 63, 63, 64, 65, 65, 65, 66, 67, 68, 68, 68, 69, 69, 69, 71, 71, 72, 73, 73, 74, 74, 76, 77, 77, 78, 79, 80, 81, 82, 82, 83, 83, 83, 85, 85, 85, 86, 86, 86, 86, 87, 87, 88, 88, 88, 90, 90, 91, 91, 91, 92, 93, 94, 94, 95, 95, 96, 98, 98, 99, 99, 99, 99, 100, 100, 100, 100, 100, 100, 100, 101, 101, 101, 101, 101, 102, 102, 104, 104, 105, 105, 106, 106, 106, 107, 107, 108, 108, 108, 109, 110, 110, 111, 112, 112, 112, 113, 113, 114, 114, 114, 115, 115, 116, 116, 117, 118, 118, 119, 119, 120, 121, 121, 121, 122, 122, 122, 122, 122, 123, 123, 124, 124, 124, 124, 125, 125, 125, 126, 127, 128, 129, 129, 129, 130, 130, 131, 131, 132, 133, 134, 134, 135, 135, 135, 136, 136, 137, 138, 139, 139, 139, 140, 140, 140, 141, 141, 141, 142, 142, 142, 143, 143, 143, 144, 144, 144, 144, 144, 145, 145, 145, 145, 145, 145, 145, 146, 146, 147, 148, 149, 149, 149, 150, 150, 150, 151, 151, 151, 152, 153, 153, 154, 155, 155, 156, 156, 156, 157, 157, 157, 157, 157, 158, 159, 159, 159, 160, 160, 160, 161, 161, 163, 163, 163, 165, 165, 165, 165, 166, 166, 167, 167, 168, 169, 169, 170, 170, 172, 172, 172, 172, 172, 172, 172, 173, 173, 174, 175, 175, 175, 175, 175, 176, 177, 177, 178, 178, 178, 178, 178, 179, 179, 180, 181, 181, 181, 181, 183, 183, 184, 185, 186, 186, 188, 188, 188, 188, 188, 189, 190, 190, 191, 192, 192, 192, 192, 193, 194, 197, 198, 198, 199, 199, 200, 200, 200, 201, 201, 201, 201, 202, 202, 202, 203, 203, 204, 204, 204, 204, 205, 205, 205, 205, 205, 206, 207, 208, 209, 210, 210, 210, 210, 210, 210, 210, 211, 211, 211, 212, 213, 213, 213, 213, 214, 214, 214, 214, 214, 215, 217, 217, 218, 218, 220, 220, 220, 221, 221, 222, 222, 222, 223, 223, 224, 224, 225, 225, 227, 227, 228, 228, 228, 229, 230, 230, 231, 231, 231, 231, 231, 231, 231, 232, 232, 232, 233, 234, 234, 235, 236, 237, 237, 239, 239, 240, 240, 240, 241, 242, 242, 243, 244, 244, 244, 244, 245, 245, 245, 245, 245, 245, 246, 247, 247, 247, 247, 248, 248, 248, 248, 248, 249, 249, 250, 250]\n",
      "10.0\n"
     ]
    }
   ],
   "source": [
    "length_of_a = len(a)\n",
    "#print(length_of_a)\n",
    "a.sort()\n",
    "\n",
    "if length_of_a % 2 == 0:\n",
    "    median_1 = a[len(a) // 2]\n",
    "    median_2 = a[len(a) // 2 - 1]\n",
    "    median = (median_1 + median_2) / 2\n",
    "else:\n",
    "    median = a[len(a) // 2]\n",
    "print(a)\n",
    "print(median)"
   ]
  },
  {
   "cell_type": "code",
   "execution_count": 11,
   "metadata": {
    "scrolled": true
   },
   "outputs": [
    {
     "name": "stdout",
     "output_type": "stream",
     "text": [
      "-212\n"
     ]
    }
   ],
   "source": [
    "mode = max(a, key = a.count)\n",
    "print(mode)"
   ]
  },
  {
   "cell_type": "markdown",
   "metadata": {},
   "source": [
    "# Bonus:\n",
    "\n",
    "Mini Monte Carlo\n",
    "\n",
    "Given the following two cells of code"
   ]
  },
  {
   "cell_type": "code",
   "execution_count": 25,
   "metadata": {},
   "outputs": [
    {
     "data": {
      "text/plain": [
       "0"
      ]
     },
     "execution_count": 25,
     "metadata": {},
     "output_type": "execute_result"
    }
   ],
   "source": [
    "import random\n",
    "random.randint(0,1)"
   ]
  },
  {
   "cell_type": "code",
   "execution_count": 26,
   "metadata": {},
   "outputs": [],
   "source": [
    "counts = {'heads':0,'tails':0}"
   ]
  },
  {
   "cell_type": "markdown",
   "metadata": {},
   "source": [
    "Using `random.randint(0,1)` to simulate coin flips, flip a coin 10 times and record the number of heads or tails you get. What percentage is that? Do the same thing again now with 1000 flips. What percentages do you get now? Try 10,000 flips."
   ]
  },
  {
   "cell_type": "code",
   "execution_count": 27,
   "metadata": {
    "scrolled": true
   },
   "outputs": [],
   "source": [
    "count = 0\n",
    "for key,value in counts.items():\n",
    "    #print(key,value)\n",
    "    if key == \"heads\":\n",
    "        counts['heads'] += 1\n",
    "    else:\n",
    "        counts['tails'] += 1\n",
    "    if count == 10:\n",
    "        break\n"
   ]
  },
  {
   "cell_type": "code",
   "execution_count": 28,
   "metadata": {},
   "outputs": [
    {
     "data": {
      "text/plain": [
       "{'heads': 1, 'tails': 1}"
      ]
     },
     "execution_count": 28,
     "metadata": {},
     "output_type": "execute_result"
    }
   ],
   "source": [
    "counts"
   ]
  },
  {
   "cell_type": "code",
   "execution_count": 29,
   "metadata": {
    "scrolled": true
   },
   "outputs": [
    {
     "data": {
      "text/plain": [
       "0.5"
      ]
     },
     "execution_count": 29,
     "metadata": {},
     "output_type": "execute_result"
    }
   ],
   "source": [
    "counts['heads']/sum(counts.values())"
   ]
  },
  {
   "cell_type": "markdown",
   "metadata": {},
   "source": [
    "### Extra - Not an exercise\n",
    "\n",
    "The code below uses a generator function to add one \"coin flip\" every time it is run. Instead of creating an iterable or a loop that contains ALL the values before we use it, we can generate a new value as we need. This can be powerful as it can be more efficient than looping through a large iterable for values we don't yet need.\n",
    "\n",
    "try using ctrl+enter on the cell with `next(mcs())` repeatedly. Notice how the probabi"
   ]
  },
  {
   "cell_type": "code",
   "execution_count": 1,
   "metadata": {},
   "outputs": [],
   "source": [
    "import random\n",
    "\n",
    "counts = {'heads':0, 'tails':0}\n",
    "errors = []\n",
    "\n",
    "def mcs():\n",
    "    if (r := random.randint(0,1)) == 1:\n",
    "        counts['heads'] += 1\n",
    "    else:\n",
    "        counts['tails'] += 1\n",
    "    trials = sum(counts.values())\n",
    "    probability = counts['heads']/trials\n",
    "    error = abs(probability-0.50)\n",
    "    errors.append(error)\n",
    "    total_error = sum(errors)/len(errors)\n",
    "    yield (\n",
    "        f\"trials: {trials} count: {counts['heads']}H \"\n",
    "        f\"{counts['tails']}T \"\n",
    "        f\"probability: {probability*100:0.2f}% \"\n",
    "        f\"error: {total_error:0.10f}\"\n",
    "    )\n",
    "    \n",
    "   "
   ]
  },
  {
   "cell_type": "code",
   "execution_count": 138,
   "metadata": {},
   "outputs": [
    {
     "data": {
      "text/plain": [
       "'trials: 137 count: 66H 71T probability: 48.18% error: 0.0341895258'"
      ]
     },
     "execution_count": 138,
     "metadata": {},
     "output_type": "execute_result"
    }
   ],
   "source": [
    "next(mcs())"
   ]
  }
 ],
 "metadata": {
  "kernelspec": {
   "display_name": "Python 3",
   "language": "python",
   "name": "python3"
  },
  "language_info": {
   "codemirror_mode": {
    "name": "ipython",
    "version": 3
   },
   "file_extension": ".py",
   "mimetype": "text/x-python",
   "name": "python",
   "nbconvert_exporter": "python",
   "pygments_lexer": "ipython3",
   "version": "3.8.3"
  }
 },
 "nbformat": 4,
 "nbformat_minor": 4
}
