{
 "cells": [
  {
   "cell_type": "markdown",
   "metadata": {},
   "source": [
    "<div style=\"background: #000;\n",
    "            color: #FFF;\n",
    "            margin: 0px;\n",
    "            margin-bottom: 10px;\n",
    "            padding: 10px 0px 20px 0px;\n",
    "            text-align: center; \n",
    "                \">\n",
    "    <h1>Week 33 Lab</h1> \n",
    "    <h3>05/19/21</h3>\n",
    "</div>\n",
    "\n",
    "# Exercise 1\n",
    "\n",
    "Make your own, very simple, package in python and use it in a `main.py` file like we did above. When completed, push it to github and then paste the link to your git repo containing the code below."
   ]
  },
  {
   "cell_type": "raw",
   "metadata": {},
   "source": []
  },
  {
   "cell_type": "markdown",
   "metadata": {},
   "source": [
    "# Exercise 2\n",
    "\n",
    "Create a function that takes an argument `file` (string that contains filename) and `dct` (dictionary) and writes each key/value pair in the dictionary in the following format:\n",
    "```\n",
    "key1:value1\n",
    "key2:value2\n",
    "```\n"
   ]
  },
  {
   "cell_type": "code",
   "execution_count": 4,
   "metadata": {},
   "outputs": [],
   "source": [
    "def dictionary_to_file(file, dct):\n",
    "    with open(file,'w') as note:\n",
    "        for k,v in dct.items():\n",
    "            note.write('{}:{}\\n'.format(k,v))\n",
    "\n",
    "dictionary_to_file('week-33-lab.txt', {'key1':'value1', 'key2':'value2'})"
   ]
  },
  {
   "cell_type": "markdown",
   "metadata": {},
   "source": [
    "# Exercise 3\n",
    "\n",
    "Create a queue from scratch (use a list; do not use `Queue`, `Deque` or any library)."
   ]
  },
  {
   "cell_type": "code",
   "execution_count": 27,
   "metadata": {},
   "outputs": [
    {
     "name": "stdout",
     "output_type": "stream",
     "text": [
      "1 added to the queue\n",
      "2 added to the queue\n",
      "3 added to the queue\n",
      "Front item 1 removed from the queue\n",
      "the first item in the quequ is: 2\n"
     ]
    },
    {
     "data": {
      "text/plain": [
       "'The items in the queue are [2, 3]'"
      ]
     },
     "execution_count": 27,
     "metadata": {},
     "output_type": "execute_result"
    }
   ],
   "source": [
    "class Queue:\n",
    "    def __init__(self):\n",
    "        self.queue = []\n",
    "        \n",
    "    def push(self, val):\n",
    "        self.queue.append(val)\n",
    "        print(f'{val} added to the queue')\n",
    "    \n",
    "    def pop(self):\n",
    "        if len(self.queue)>0:\n",
    "            pop=self.queue.pop(0)\n",
    "            print(f'Front item {pop} removed from the queue')\n",
    "        else:\n",
    "            print(\"Can't remove items, queue is empty\")\n",
    "    \n",
    "    def peek(self):\n",
    "        peek = self.queue[0]\n",
    "        print(f'the first item in the quequ is: {peek}')\n",
    "        \n",
    "    def length(self):\n",
    "        for i in self.queue:\n",
    "            return f'The items in the queue are {self.queue}'\n",
    "\n",
    "\n",
    "\n",
    "queue = Queue()\n",
    "queue.push(1)\n",
    "queue.push(2)\n",
    "queue.push(3)\n",
    "queue.pop()\n",
    "queue.peek()\n",
    "queue.length()"
   ]
  },
  {
   "cell_type": "markdown",
   "metadata": {},
   "source": [
    "# Exercise 4\n",
    "\n",
    "Create a function that performs a binary search on a list."
   ]
  },
  {
   "cell_type": "code",
   "execution_count": 39,
   "metadata": {},
   "outputs": [
    {
     "name": "stdout",
     "output_type": "stream",
     "text": [
      "Element is present at index 2\n"
     ]
    }
   ],
   "source": [
    "def binary_search(lst,val):\n",
    "    low, high = 0, len(lst)-1\n",
    "    while low <= high:\n",
    "        mid = high - ((high-low)//2)\n",
    "        if val < lst[mid]:\n",
    "            high = mid - 1\n",
    "        elif val > lst[mid]:\n",
    "            low = mid + 1\n",
    "        else:\n",
    "            return mid\n",
    "    else:\n",
    "        return -1\n",
    "    \n",
    "# Test array\n",
    "lst = [1,2,3,4,5,6,7,8,9]\n",
    "val = 3\n",
    " \n",
    "# Function call\n",
    "result = binary_search(lst, val)\n",
    " \n",
    "if result != -1:\n",
    "    print(\"Element is present at index\", str(result))\n",
    "else:\n",
    "    print(\"Element is not present in array\")"
   ]
  },
  {
   "cell_type": "markdown",
   "metadata": {},
   "source": [
    "# Exercise 5\n",
    "\n",
    "Create a function that takes one argument `url` and returns all the links (`<a>` tags) located on the page."
   ]
  },
  {
   "cell_type": "code",
   "execution_count": 36,
   "metadata": {},
   "outputs": [],
   "source": [
    "import requests\n",
    "from bs4 import BeautifulSoup\n",
    "\n",
    "url = 'https://scrimba.com/'"
   ]
  },
  {
   "cell_type": "code",
   "execution_count": 37,
   "metadata": {},
   "outputs": [
    {
     "name": "stdout",
     "output_type": "stream",
     "text": [
      "There are 97 a tags in the https://scrimba.com/ link\n"
     ]
    },
    {
     "data": {
      "text/plain": [
       "[<a class=\"d3tapubk button d3tapub\" href=\"/learn/frontend\">Try it out now!</a>,\n",
       " <a class=\"d3tapubl button d3tapub\" href=\"/learn/frontend\">Continue your journey</a>,\n",
       " <a class=\"d3tapub\" href=\"https://twitter.com/search?q=scrimba%20blowing&amp;src=typed_query\" target=\"blank\">blowing minds</a>,\n",
       " <a class=\"d3tapubx d3tapub\" href=\"/topic/popular\">Most popular courses</a>,\n",
       " <a class=\"card e3xbyqb\" href=\"/learn/frontend\" title=\"The Frontend Developer Career Path\"><art-pattern class=\"e3xbyqbd e3xbyqb kyd29zbc pattern live\" style=\"--kyd29zd: var(--lemon2)\"><span class=\"heading\">The Frontend Developer Career Path</span><div class=\"shapes\"><svg class=\"shape\" height=\"100\" preserveaspectratio=\"none\" style=\"width:40%;left:33%;top:58%;transform:translate3d(-50%,-50%,40px) rotate(-17deg) scale(var(--hs)) scaleY(0.89);opacity:0.25;--o:0.25;--c:var(--tiger5)\" viewbox=\"0 0 100 100\" width=\"100\"><path d=\"M48.3671 4.00414C61.7855 2.7251 76.745 -1.97133 86.4625 9.80638C97.2181 22.8423 100.354 43.9553 96.2873 62.0843C92.4299 79.2819 80.463 91.9101 66.9118 96.9691C55.504 101.228 45.1731 91.3023 34.2907 85.2291C22.5778 78.6925 6.96447 76.7547 3.05352 61.3315C-1.02481 45.2483 7.40784 28.3849 16.8479 16.442C25.0359 6.08323 36.8209 5.10471 48.3671 4.00414Z\"></path></svg><svg class=\"shape\" height=\"100\" preserveaspectratio=\"none\" style=\"width:56%;left:67%;top:51%;transform:translate3d(-50%,-50%,56px) rotate(-151deg) scale(var(--hs)) scaleY(0.76);opacity:0.4;--o:0.4;--c:var(--baby4)\" viewbox=\"0 0 100 100\" width=\"100\"><path d=\"M46.6443 2.02753C66.6399 1.53324 88.5794 7.59278 95.422 28.5087C102.874 51.2865 93.5364 76.7516 75.5776 90.4677C58.9651 103.156 37.2191 98.7293 21.1053 85.2685C5.82684 72.5056 -2.06419 50.8861 4.10887 30.7659C10.0345 11.4522 28.3111 2.48073 46.6443 2.02753Z\"></path></svg></div></art-pattern><span class=\"e3xbyqbe main e3xbyqb\"><div class=\"e3xbyqbf e3xbyqb\"><div class=\"e3xbyqb\">1087 lessons | 82 hours</div><div class=\"e3xbyqb\">with <b class=\"e3xbyqbg e3xbyqb\">Per Harald Borgen</b></div></div><img alt=\"Per Harald Borgen\" class=\"e3xbyqbh e3xbyqb\" loading=\"lazy\" src=\"/avatars/perborgen/64\"/></span><span class=\"e3xbyqbi e3xbyqb\"><span class=\"e3xbyqbj e3xbyqb\">Beginner</span><span class=\"status e3xbyqb\"></span></span></a>,\n",
       " <a class=\"card e3xbyqb\" href=\"/learn/react\" title=\"The React Bootcamp\"><art-pattern class=\"e3xbyqbd e3xbyqb kyd29zbc pattern live\" style=\"--kyd29zd: var(--mint3)\"><span class=\"heading\">The React Bootcamp</span><div class=\"shapes\"><svg class=\"shape\" height=\"100\" preserveaspectratio=\"none\" style=\"width:54%;left:66%;top:52%;transform:translate3d(-50%,-50%,54px) rotate(0deg) scale(var(--hs)) scaleY(1.25);opacity:0.5;--o:0.5;--c:var(--lilac3)\" viewbox=\"0 0 100 100\" width=\"100\"><path d=\"M46.6443 2.02753C66.6399 1.53324 88.5794 7.59278 95.422 28.5087C102.874 51.2865 93.5364 76.7516 75.5776 90.4677C58.9651 103.156 37.2191 98.7293 21.1053 85.2685C5.82684 72.5056 -2.06419 50.8861 4.10887 30.7659C10.0345 11.4522 28.3111 2.48073 46.6443 2.02753Z\"></path></svg><svg class=\"shape\" height=\"100\" preserveaspectratio=\"none\" style=\"width:24%;left:37%;top:86%;transform:translate3d(-50%,-50%,24px) rotate(-128deg) scale(var(--hs)) scaleY(1.05);opacity:0.35;--o:0.35;--c:var(--lilac4)\" viewbox=\"0 0 100 100\" width=\"100\"><path d=\"M46.6443 2.02753C66.6399 1.53324 88.5794 7.59278 95.422 28.5087C102.874 51.2865 93.5364 76.7516 75.5776 90.4677C58.9651 103.156 37.2191 98.7293 21.1053 85.2685C5.82684 72.5056 -2.06419 50.8861 4.10887 30.7659C10.0345 11.4522 28.3111 2.48073 46.6443 2.02753Z\"></path></svg><svg class=\"shape\" height=\"100\" preserveaspectratio=\"none\" style=\"width:14%;left:21%;top:95%;transform:translate3d(-50%,-50%,14px) rotate(-184deg) scale(var(--hs)) scaleY(0.9);opacity:0.4;--o:0.4;--c:var(--lilac4)\" viewbox=\"0 0 100 100\" width=\"100\"><path d=\"M46.6443 2.02753C66.6399 1.53324 88.5794 7.59278 95.422 28.5087C102.874 51.2865 93.5364 76.7516 75.5776 90.4677C58.9651 103.156 37.2191 98.7293 21.1053 85.2685C5.82684 72.5056 -2.06419 50.8861 4.10887 30.7659C10.0345 11.4522 28.3111 2.48073 46.6443 2.02753Z\"></path></svg></div></art-pattern><span class=\"e3xbyqbe main e3xbyqb\"><div class=\"e3xbyqbf e3xbyqb\"><div class=\"e3xbyqb\">128 lessons | 12 hours</div><div class=\"e3xbyqb\">with <b class=\"e3xbyqbg e3xbyqb\">Bob Ziroll</b></div></div><img alt=\"Bob Ziroll\" class=\"e3xbyqbh e3xbyqb\" loading=\"lazy\" src=\"/avatars/bobziroll/64\"/></span><span class=\"e3xbyqbi e3xbyqb\"><span class=\"e3xbyqbj e3xbyqb\">Advanced</span><span class=\"status e3xbyqb\"></span></span></a>,\n",
       " <a class=\"card e3xbyqb\" href=\"/learn/photoapp\" title=\"Build an Instagram Clone in React\"><art-pattern class=\"e3xbyqbd e3xbyqb kyd29zbc pattern live\" style=\"--kyd29zd: var(--baby3)\"><span class=\"heading\">Build an Instagram Clone in React</span><div class=\"shapes\"><svg class=\"shape\" height=\"100\" preserveaspectratio=\"none\" style=\"width:48%;left:51%;top:54%;transform:translate3d(-50%,-50%,48px) rotate(0deg) scale(var(--hs)) scaleY(0.64);opacity:0.25;--o:0.25;--c:var(--lilac6)\" viewbox=\"0 0 100 100\" width=\"100\"><path d=\"M37.1071 93.4379C22.0739 77.4689 -6.11936 67.1235 4.23023 32.2667C14.5654 -2.5414 37.3932 2.06224 56.2355 2.35359C71.9159 2.59605 95.9271 5.12767 97.8883 33.7149C99.859 62.4409 75.3031 75.878 59.7098 91.1998C51.5735 99.1945 43.6573 100.396 37.1071 93.4379Z\"></path></svg></div></art-pattern><span class=\"e3xbyqbe main e3xbyqb\"><div class=\"e3xbyqbf e3xbyqb\"><div class=\"e3xbyqb\">93 lessons | 9 hours</div><div class=\"e3xbyqb\">with <b class=\"e3xbyqbg e3xbyqb\">Karl Hadwen</b></div></div><img alt=\"Karl Hadwen\" class=\"e3xbyqbh e3xbyqb\" loading=\"lazy\" src=\"/avatars/uid/u42kLRTV/64\"/></span><span class=\"e3xbyqbi e3xbyqb\"><span class=\"e3xbyqbj e3xbyqb\">Advanced</span><span class=\"status e3xbyqb\"></span></span></a>,\n",
       " <a class=\"card e3xbyqb\" href=\"/learn/responsive\" title=\"The Responsive Web Design Bootcamp\"><art-pattern class=\"e3xbyqbd e3xbyqb kyd29zbc pattern live\" style=\"--kyd29zd: var(--mint2)\"><span class=\"heading\">The Responsive Web Design Bootcamp</span><div class=\"shapes\"><svg class=\"shape\" height=\"100\" preserveaspectratio=\"none\" style=\"width:48%;left:29%;top:50%;transform:translate3d(-50%,-50%,48px) rotate(0deg) scale(var(--hs)) scaleY(0.76);opacity:0.29;--o:0.29;--c:var(--lilac4)\" viewbox=\"0 0 100 100\" width=\"100\"><path d=\"M87.5194 12.6911C100.724 30.4477 100.024 56.2045 93.265 75.1548C86.9776 92.7838 73.2551 101.066 57.4621 96.9686C35.4989 91.2701 7.03718 81.4582 2.47942 51.5996C-1.94928 22.5864 25.2781 17.5186 44.0252 8.94122C58.235 2.43979 74.9374 -4.22816 87.5194 12.6911Z\"></path></svg><svg class=\"shape\" height=\"100\" preserveaspectratio=\"none\" style=\"width:20%;left:62%;top:76%;transform:translate3d(-50%,-50%,20px) rotate(0deg) scale(var(--hs)) scaleY(0.91);opacity:0.21;--o:0.21;--c:var(--lilac5)\" viewbox=\"0 0 100 100\" width=\"100\"><path d=\"M46.6443 2.02753C66.6399 1.53324 88.5794 7.59278 95.422 28.5087C102.874 51.2865 93.5364 76.7516 75.5776 90.4677C58.9651 103.156 37.2191 98.7293 21.1053 85.2685C5.82684 72.5056 -2.06419 50.8861 4.10887 30.7659C10.0345 11.4522 28.3111 2.48073 46.6443 2.02753Z\"></path></svg><svg class=\"shape\" height=\"100\" preserveaspectratio=\"none\" style=\"width:20%;left:85%;top:45%;transform:translate3d(-50%,-50%,20px) rotate(0deg) scale(var(--hs)) scaleY(2.06);opacity:0.2;--o:0.2;--c:var(--lilac5)\" viewbox=\"0 0 100 100\" width=\"100\"><path d=\"M46.6443 2.02753C66.6399 1.53324 88.5794 7.59278 95.422 28.5087C102.874 51.2865 93.5364 76.7516 75.5776 90.4677C58.9651 103.156 37.2191 98.7293 21.1053 85.2685C5.82684 72.5056 -2.06419 50.8861 4.10887 30.7659C10.0345 11.4522 28.3111 2.48073 46.6443 2.02753Z\"></path></svg></div></art-pattern><span class=\"e3xbyqbe main e3xbyqb\"><div class=\"e3xbyqbf e3xbyqb\"><div class=\"e3xbyqb\">174 lessons | 15 hours</div><div class=\"e3xbyqb\">with <b class=\"e3xbyqbg e3xbyqb\">Kevin Powell</b></div></div><img alt=\"Kevin Powell\" class=\"e3xbyqbh e3xbyqb\" loading=\"lazy\" src=\"/avatars/kevin-powell/64\"/></span><span class=\"e3xbyqbi e3xbyqb\"><span class=\"e3xbyqbj e3xbyqb\">Intermediate</span><span class=\"status e3xbyqb\"></span></span></a>,\n",
       " <a class=\"button white rounded d3tapub\" href=\"/topic/popular\">See all</a>,\n",
       " <a class=\"d3tapubx d3tapub\" href=\"/topic/bootcamps\">Bootcamps</a>,\n",
       " <a class=\"card e3xbyqb\" href=\"/learn/frontend\" title=\"The Frontend Developer Career Path\"><art-pattern class=\"e3xbyqbd e3xbyqb kyd29zbc pattern live\" style=\"--kyd29zd: var(--lemon2)\"><span class=\"heading\">The Frontend Developer Career Path</span><div class=\"shapes\"><svg class=\"shape\" height=\"100\" preserveaspectratio=\"none\" style=\"width:40%;left:33%;top:58%;transform:translate3d(-50%,-50%,40px) rotate(-17deg) scale(var(--hs)) scaleY(0.89);opacity:0.25;--o:0.25;--c:var(--tiger5)\" viewbox=\"0 0 100 100\" width=\"100\"><path d=\"M48.3671 4.00414C61.7855 2.7251 76.745 -1.97133 86.4625 9.80638C97.2181 22.8423 100.354 43.9553 96.2873 62.0843C92.4299 79.2819 80.463 91.9101 66.9118 96.9691C55.504 101.228 45.1731 91.3023 34.2907 85.2291C22.5778 78.6925 6.96447 76.7547 3.05352 61.3315C-1.02481 45.2483 7.40784 28.3849 16.8479 16.442C25.0359 6.08323 36.8209 5.10471 48.3671 4.00414Z\"></path></svg><svg class=\"shape\" height=\"100\" preserveaspectratio=\"none\" style=\"width:56%;left:67%;top:51%;transform:translate3d(-50%,-50%,56px) rotate(-151deg) scale(var(--hs)) scaleY(0.76);opacity:0.4;--o:0.4;--c:var(--baby4)\" viewbox=\"0 0 100 100\" width=\"100\"><path d=\"M46.6443 2.02753C66.6399 1.53324 88.5794 7.59278 95.422 28.5087C102.874 51.2865 93.5364 76.7516 75.5776 90.4677C58.9651 103.156 37.2191 98.7293 21.1053 85.2685C5.82684 72.5056 -2.06419 50.8861 4.10887 30.7659C10.0345 11.4522 28.3111 2.48073 46.6443 2.02753Z\"></path></svg></div></art-pattern><span class=\"e3xbyqbe main e3xbyqb\"><div class=\"e3xbyqbf e3xbyqb\"><div class=\"e3xbyqb\">1087 lessons | 82 hours</div><div class=\"e3xbyqb\">with <b class=\"e3xbyqbg e3xbyqb\">Per Harald Borgen</b></div></div><img alt=\"Per Harald Borgen\" class=\"e3xbyqbh e3xbyqb\" loading=\"lazy\" src=\"/avatars/perborgen/64\"/></span><span class=\"e3xbyqbi e3xbyqb\"><span class=\"e3xbyqbj e3xbyqb\">Beginner</span><span class=\"status e3xbyqb\"></span></span></a>,\n",
       " <a class=\"card e3xbyqb\" href=\"/learn/react\" title=\"The React Bootcamp\"><art-pattern class=\"e3xbyqbd e3xbyqb kyd29zbc pattern live\" style=\"--kyd29zd: var(--mint3)\"><span class=\"heading\">The React Bootcamp</span><div class=\"shapes\"><svg class=\"shape\" height=\"100\" preserveaspectratio=\"none\" style=\"width:54%;left:66%;top:52%;transform:translate3d(-50%,-50%,54px) rotate(0deg) scale(var(--hs)) scaleY(1.25);opacity:0.5;--o:0.5;--c:var(--lilac3)\" viewbox=\"0 0 100 100\" width=\"100\"><path d=\"M46.6443 2.02753C66.6399 1.53324 88.5794 7.59278 95.422 28.5087C102.874 51.2865 93.5364 76.7516 75.5776 90.4677C58.9651 103.156 37.2191 98.7293 21.1053 85.2685C5.82684 72.5056 -2.06419 50.8861 4.10887 30.7659C10.0345 11.4522 28.3111 2.48073 46.6443 2.02753Z\"></path></svg><svg class=\"shape\" height=\"100\" preserveaspectratio=\"none\" style=\"width:24%;left:37%;top:86%;transform:translate3d(-50%,-50%,24px) rotate(-128deg) scale(var(--hs)) scaleY(1.05);opacity:0.35;--o:0.35;--c:var(--lilac4)\" viewbox=\"0 0 100 100\" width=\"100\"><path d=\"M46.6443 2.02753C66.6399 1.53324 88.5794 7.59278 95.422 28.5087C102.874 51.2865 93.5364 76.7516 75.5776 90.4677C58.9651 103.156 37.2191 98.7293 21.1053 85.2685C5.82684 72.5056 -2.06419 50.8861 4.10887 30.7659C10.0345 11.4522 28.3111 2.48073 46.6443 2.02753Z\"></path></svg><svg class=\"shape\" height=\"100\" preserveaspectratio=\"none\" style=\"width:14%;left:21%;top:95%;transform:translate3d(-50%,-50%,14px) rotate(-184deg) scale(var(--hs)) scaleY(0.9);opacity:0.4;--o:0.4;--c:var(--lilac4)\" viewbox=\"0 0 100 100\" width=\"100\"><path d=\"M46.6443 2.02753C66.6399 1.53324 88.5794 7.59278 95.422 28.5087C102.874 51.2865 93.5364 76.7516 75.5776 90.4677C58.9651 103.156 37.2191 98.7293 21.1053 85.2685C5.82684 72.5056 -2.06419 50.8861 4.10887 30.7659C10.0345 11.4522 28.3111 2.48073 46.6443 2.02753Z\"></path></svg></div></art-pattern><span class=\"e3xbyqbe main e3xbyqb\"><div class=\"e3xbyqbf e3xbyqb\"><div class=\"e3xbyqb\">128 lessons | 12 hours</div><div class=\"e3xbyqb\">with <b class=\"e3xbyqbg e3xbyqb\">Bob Ziroll</b></div></div><img alt=\"Bob Ziroll\" class=\"e3xbyqbh e3xbyqb\" loading=\"lazy\" src=\"/avatars/bobziroll/64\"/></span><span class=\"e3xbyqbi e3xbyqb\"><span class=\"e3xbyqbj e3xbyqb\">Advanced</span><span class=\"status e3xbyqb\"></span></span></a>,\n",
       " <a class=\"card e3xbyqb\" href=\"/learn/responsive\" title=\"The Responsive Web Design Bootcamp\"><art-pattern class=\"e3xbyqbd e3xbyqb kyd29zbc pattern live\" style=\"--kyd29zd: var(--mint2)\"><span class=\"heading\">The Responsive Web Design Bootcamp</span><div class=\"shapes\"><svg class=\"shape\" height=\"100\" preserveaspectratio=\"none\" style=\"width:48%;left:29%;top:50%;transform:translate3d(-50%,-50%,48px) rotate(0deg) scale(var(--hs)) scaleY(0.76);opacity:0.29;--o:0.29;--c:var(--lilac4)\" viewbox=\"0 0 100 100\" width=\"100\"><path d=\"M87.5194 12.6911C100.724 30.4477 100.024 56.2045 93.265 75.1548C86.9776 92.7838 73.2551 101.066 57.4621 96.9686C35.4989 91.2701 7.03718 81.4582 2.47942 51.5996C-1.94928 22.5864 25.2781 17.5186 44.0252 8.94122C58.235 2.43979 74.9374 -4.22816 87.5194 12.6911Z\"></path></svg><svg class=\"shape\" height=\"100\" preserveaspectratio=\"none\" style=\"width:20%;left:62%;top:76%;transform:translate3d(-50%,-50%,20px) rotate(0deg) scale(var(--hs)) scaleY(0.91);opacity:0.21;--o:0.21;--c:var(--lilac5)\" viewbox=\"0 0 100 100\" width=\"100\"><path d=\"M46.6443 2.02753C66.6399 1.53324 88.5794 7.59278 95.422 28.5087C102.874 51.2865 93.5364 76.7516 75.5776 90.4677C58.9651 103.156 37.2191 98.7293 21.1053 85.2685C5.82684 72.5056 -2.06419 50.8861 4.10887 30.7659C10.0345 11.4522 28.3111 2.48073 46.6443 2.02753Z\"></path></svg><svg class=\"shape\" height=\"100\" preserveaspectratio=\"none\" style=\"width:20%;left:85%;top:45%;transform:translate3d(-50%,-50%,20px) rotate(0deg) scale(var(--hs)) scaleY(2.06);opacity:0.2;--o:0.2;--c:var(--lilac5)\" viewbox=\"0 0 100 100\" width=\"100\"><path d=\"M46.6443 2.02753C66.6399 1.53324 88.5794 7.59278 95.422 28.5087C102.874 51.2865 93.5364 76.7516 75.5776 90.4677C58.9651 103.156 37.2191 98.7293 21.1053 85.2685C5.82684 72.5056 -2.06419 50.8861 4.10887 30.7659C10.0345 11.4522 28.3111 2.48073 46.6443 2.02753Z\"></path></svg></div></art-pattern><span class=\"e3xbyqbe main e3xbyqb\"><div class=\"e3xbyqbf e3xbyqb\"><div class=\"e3xbyqb\">174 lessons | 15 hours</div><div class=\"e3xbyqb\">with <b class=\"e3xbyqbg e3xbyqb\">Kevin Powell</b></div></div><img alt=\"Kevin Powell\" class=\"e3xbyqbh e3xbyqb\" loading=\"lazy\" src=\"/avatars/kevin-powell/64\"/></span><span class=\"e3xbyqbi e3xbyqb\"><span class=\"e3xbyqbj e3xbyqb\">Intermediate</span><span class=\"status e3xbyqb\"></span></span></a>,\n",
       " <a class=\"card e3xbyqb\" href=\"/learn/designbootcamp\" title=\"The UI Design Bootcamp\"><art-pattern class=\"e3xbyqbd e3xbyqb kyd29zbc pattern live\" style=\"--kyd29zd: var(--baby3)\"><span class=\"heading\">The UI Design Bootcamp</span><div class=\"shapes\"><svg class=\"shape\" height=\"100\" preserveaspectratio=\"none\" style=\"width:52%;left:36%;top:46%;transform:translate3d(-50%,-50%,52px) rotate(0deg) scale(var(--hs)) scaleY(0.73);opacity:0.2;--o:0.2;--c:var(--lilac5)\" viewbox=\"0 0 100 100\" width=\"100\"><path d=\"M46.6443 2.02753C66.6399 1.53324 88.5794 7.59278 95.422 28.5087C102.874 51.2865 93.5364 76.7516 75.5776 90.4677C58.9651 103.156 37.2191 98.7293 21.1053 85.2685C5.82684 72.5056 -2.06419 50.8861 4.10887 30.7659C10.0345 11.4522 28.3111 2.48073 46.6443 2.02753Z\"></path></svg><svg class=\"shape\" height=\"100\" preserveaspectratio=\"none\" style=\"width:48%;left:71%;top:44%;transform:translate3d(-50%,-50%,48px) rotate(0deg) scale(var(--hs)) scaleY(0.64);opacity:0.25;--o:0.25;--c:var(--lilac4)\" viewbox=\"0 0 100 100\" width=\"100\"><path d=\"M13.4722 14.9548C27.7804 -2.67845 49.7337 0.345336 67.4 8.41128C84.5927 16.261 100.585 31.1761 97.6499 53.388C94.6973 75.7326 75.1119 89.9688 55.8613 95.735C37.5404 101.223 18.5249 97.0492 9.47335 79.7998C-0.70101 60.4107 -1.5127 33.4221 13.4722 14.9548Z\"></path></svg></div></art-pattern><span class=\"e3xbyqbe main e3xbyqb\"><div class=\"e3xbyqbf e3xbyqb\"><div class=\"e3xbyqb\">97 lessons | 8 hours</div><div class=\"e3xbyqb\">with <b class=\"e3xbyqbg e3xbyqb\">Gary Simon</b></div></div><img alt=\"Gary Simon\" class=\"e3xbyqbh e3xbyqb\" loading=\"lazy\" src=\"/avatars/designcourse/64\"/></span><span class=\"e3xbyqbi e3xbyqb\"><span class=\"e3xbyqbj e3xbyqb\">Intermediate</span><span class=\"status e3xbyqb\"></span></span></a>,\n",
       " <a class=\"button white rounded d3tapub\" href=\"/topic/bootcamps\">See all</a>,\n",
       " <a class=\"d3tapubx d3tapub\" href=\"/topic/free\">Freebies</a>,\n",
       " <a class=\"card e3xbyqb\" href=\"/learn/htmlcss\" title=\"HTML &amp; CSS Crash Course\"><art-pattern class=\"e3xbyqbd e3xbyqb kyd29zbc pattern live\" style=\"--kyd29zd: var(--coral3)\"><span class=\"heading\">HTML &amp; CSS Crash Course</span><div class=\"shapes\"><svg class=\"shape\" height=\"100\" preserveaspectratio=\"none\" style=\"width:48%;left:64%;top:78%;transform:translate3d(-50%,-50%,48px) rotate(0deg) scale(var(--hs)) scaleY(0.76);opacity:0.8;--o:0.8;--c:var(--coral1)\" viewbox=\"0 0 100 100\" width=\"100\"><path d=\"M13.4722 14.9548C27.7804 -2.67845 49.7337 0.345336 67.4 8.41128C84.5927 16.261 100.585 31.1761 97.6499 53.388C94.6973 75.7326 75.1119 89.9688 55.8613 95.735C37.5404 101.223 18.5249 97.0492 9.47335 79.7998C-0.70101 60.4107 -1.5127 33.4221 13.4722 14.9548Z\"></path></svg><svg class=\"shape\" height=\"100\" preserveaspectratio=\"none\" style=\"width:32%;left:91%;top:65%;transform:translate3d(-50%,-50%,32px) rotate(-119deg) scale(var(--hs)) scaleY(0.93);opacity:0.55;--o:0.55;--c:var(--coral1)\" viewbox=\"0 0 100 100\" width=\"100\"><path d=\"M48.3671 4.00414C61.7855 2.7251 76.745 -1.97133 86.4625 9.80638C97.2181 22.8423 100.354 43.9553 96.2873 62.0843C92.4299 79.2819 80.463 91.9101 66.9118 96.9691C55.504 101.228 45.1731 91.3023 34.2907 85.2291C22.5778 78.6925 6.96447 76.7547 3.05352 61.3315C-1.02481 45.2483 7.40784 28.3849 16.8479 16.442C25.0359 6.08323 36.8209 5.10471 48.3671 4.00414Z\"></path></svg></div></art-pattern><span class=\"e3xbyqbe main e3xbyqb\"><div class=\"e3xbyqbf e3xbyqb\"><div class=\"e3xbyqb\">31 lessons | 4 hours</div><div class=\"e3xbyqb\">with <b class=\"e3xbyqbg e3xbyqb\">Kevin Powell</b></div></div><img alt=\"Kevin Powell\" class=\"e3xbyqbh e3xbyqb\" loading=\"lazy\" src=\"/avatars/kevin-powell/64\"/></span><span class=\"e3xbyqbi e3xbyqb\"><span class=\"e3xbyqbj e3xbyqb\">Beginner</span><span class=\"status e3xbyqb\"></span></span></a>,\n",
       " <a class=\"card e3xbyqb\" href=\"/learn/learnreact\" title=\"Learn React for free\"><art-pattern class=\"e3xbyqbd e3xbyqb kyd29zbc pattern live\" style=\"--kyd29zd: var(--baby3)\"><span class=\"heading\">Learn React for free</span><div class=\"shapes\"><svg class=\"shape\" height=\"100\" preserveaspectratio=\"none\" style=\"width:12%;left:49%;top:45%;transform:translate3d(-50%,-50%,12px) rotate(-129deg) scale(var(--hs)) scaleY(1.05);opacity:0.2;--o:0.2;--c:var(--lilac5)\" viewbox=\"0 0 100 100\" width=\"100\"><path d=\"M48.3671 4.00414C61.7855 2.7251 76.745 -1.97133 86.4625 9.80638C97.2181 22.8423 100.354 43.9553 96.2873 62.0843C92.4299 79.2819 80.463 91.9101 66.9118 96.9691C55.504 101.228 45.1731 91.3023 34.2907 85.2291C22.5778 78.6925 6.96447 76.7547 3.05352 61.3315C-1.02481 45.2483 7.40784 28.3849 16.8479 16.442C25.0359 6.08323 36.8209 5.10471 48.3671 4.00414Z\"></path></svg><svg class=\"shape\" height=\"100\" preserveaspectratio=\"none\" style=\"width:50%;left:49%;top:46%;transform:translate3d(-50%,-50%,50px) rotate(-21deg) scale(var(--hs)) scaleY(1.05);opacity:0.25;--o:0.25;--c:var(--lilac5)\" viewbox=\"0 0 100 100\" width=\"100\"><path d=\"M13.4722 14.9548C27.7804 -2.67845 49.7337 0.345336 67.4 8.41128C84.5927 16.261 100.585 31.1761 97.6499 53.388C94.6973 75.7326 75.1119 89.9688 55.8613 95.735C37.5404 101.223 18.5249 97.0492 9.47335 79.7998C-0.70101 60.4107 -1.5127 33.4221 13.4722 14.9548Z\"></path></svg><svg class=\"shape\" height=\"100\" preserveaspectratio=\"none\" style=\"width:30%;left:48%;top:49%;transform:translate3d(-50%,-50%,30px) rotate(0deg) scale(var(--hs)) scaleY(0.84);opacity:0.35;--o:0.35;--c:var(--lilac4)\" viewbox=\"0 0 100 100\" width=\"100\"><path d=\"M48.3671 4.00414C61.7855 2.7251 76.745 -1.97133 86.4625 9.80638C97.2181 22.8423 100.354 43.9553 96.2873 62.0843C92.4299 79.2819 80.463 91.9101 66.9118 96.9691C55.504 101.228 45.1731 91.3023 34.2907 85.2291C22.5778 78.6925 6.96447 76.7547 3.05352 61.3315C-1.02481 45.2483 7.40784 28.3849 16.8479 16.442C25.0359 6.08323 36.8209 5.10471 48.3671 4.00414Z\"></path></svg></div></art-pattern><span class=\"e3xbyqbe main e3xbyqb\"><div class=\"e3xbyqbf e3xbyqb\"><div class=\"e3xbyqb\">59 lessons | 5 hours</div><div class=\"e3xbyqb\">with <b class=\"e3xbyqbg e3xbyqb\">Bob Ziroll</b></div></div><img alt=\"Bob Ziroll\" class=\"e3xbyqbh e3xbyqb\" loading=\"lazy\" src=\"/avatars/bobziroll/64\"/></span><span class=\"e3xbyqbi e3xbyqb\"><span class=\"e3xbyqbj e3xbyqb\">Intermediate</span><span class=\"status e3xbyqb\"></span></span></a>,\n",
       " <a class=\"card e3xbyqb\" href=\"/learn/design\" title=\"Learn UI Design Fundamentals\"><art-pattern class=\"e3xbyqbd e3xbyqb kyd29zbc pattern live\" style=\"--kyd29zd: var(--coral3)\"><span class=\"heading\">Learn UI Design Fundamentals</span><div class=\"shapes\"><svg class=\"shape\" height=\"100\" preserveaspectratio=\"none\" style=\"width:32%;left:33%;top:49%;transform:translate3d(-50%,-50%,32px) rotate(0deg) scale(var(--hs)) scaleY(0.61);opacity:0.39;--o:0.39;--c:var(--white)\" viewbox=\"0 0 100 100\" width=\"100\"><path d=\"M48.3671 4.00414C61.7855 2.7251 76.745 -1.97133 86.4625 9.80638C97.2181 22.8423 100.354 43.9553 96.2873 62.0843C92.4299 79.2819 80.463 91.9101 66.9118 96.9691C55.504 101.228 45.1731 91.3023 34.2907 85.2291C22.5778 78.6925 6.96447 76.7547 3.05352 61.3315C-1.02481 45.2483 7.40784 28.3849 16.8479 16.442C25.0359 6.08323 36.8209 5.10471 48.3671 4.00414Z\"></path></svg><svg class=\"shape\" height=\"100\" preserveaspectratio=\"none\" style=\"width:38%;left:98%;top:68%;transform:translate3d(-50%,-50%,38px) rotate(0deg) scale(var(--hs)) scaleY(0.81);opacity:0.35;--o:0.35;--c:var(--white)\" viewbox=\"0 0 100 100\" width=\"100\"><path d=\"M13.4722 14.9548C27.7804 -2.67845 49.7337 0.345336 67.4 8.41128C84.5927 16.261 100.585 31.1761 97.6499 53.388C94.6973 75.7326 75.1119 89.9688 55.8613 95.735C37.5404 101.223 18.5249 97.0492 9.47335 79.7998C-0.70101 60.4107 -1.5127 33.4221 13.4722 14.9548Z\"></path></svg><svg class=\"shape\" height=\"100\" preserveaspectratio=\"none\" style=\"width:48%;left:66%;top:50%;transform:translate3d(-50%,-50%,48px) rotate(0deg) scale(var(--hs)) scaleY(0.64);opacity:0.5;--o:0.5;--c:var(--white)\" viewbox=\"0 0 100 100\" width=\"100\"><path d=\"M13.4722 14.9548C27.7804 -2.67845 49.7337 0.345336 67.4 8.41128C84.5927 16.261 100.585 31.1761 97.6499 53.388C94.6973 75.7326 75.1119 89.9688 55.8613 95.735C37.5404 101.223 18.5249 97.0492 9.47335 79.7998C-0.70101 60.4107 -1.5127 33.4221 13.4722 14.9548Z\"></path></svg></div></art-pattern><span class=\"e3xbyqbe main e3xbyqb\"><div class=\"e3xbyqbf e3xbyqb\"><div class=\"e3xbyqb\">16 lessons | 1 hour</div><div class=\"e3xbyqb\">with <b class=\"e3xbyqbg e3xbyqb\">Gary Simon</b></div></div><img alt=\"Gary Simon\" class=\"e3xbyqbh e3xbyqb\" loading=\"lazy\" src=\"/avatars/designcourse/64\"/></span><span class=\"e3xbyqbi e3xbyqb\"><span class=\"e3xbyqbj e3xbyqb\">Intermediate</span><span class=\"status e3xbyqb\"></span></span></a>,\n",
       " <a class=\"card e3xbyqb\" href=\"/learn/flexbox\" title=\"Learn Flexbox for free\"><art-pattern class=\"e3xbyqbd e3xbyqb kyd29zbc pattern live\" style=\"--kyd29zd: var(--mint3)\"><span class=\"heading\">Learn Flexbox for free</span><div class=\"shapes\"><svg class=\"shape\" height=\"100\" preserveaspectratio=\"none\" style=\"width:50%;left:56%;top:56%;transform:translate3d(-50%,-50%,50px) rotate(0deg) scale(var(--hs)) scaleY(1.03);opacity:0.4;--o:0.4;--c:var(--mint5)\" viewbox=\"0 0 100 100\" width=\"100\"><path d=\"M46.6443 2.02753C66.6399 1.53324 88.5794 7.59278 95.422 28.5087C102.874 51.2865 93.5364 76.7516 75.5776 90.4677C58.9651 103.156 37.2191 98.7293 21.1053 85.2685C5.82684 72.5056 -2.06419 50.8861 4.10887 30.7659C10.0345 11.4522 28.3111 2.48073 46.6443 2.02753Z\"></path></svg><svg class=\"shape\" height=\"100\" preserveaspectratio=\"none\" style=\"width:42%;left:48%;top:55%;transform:translate3d(-50%,-50%,42px) rotate(-111deg) scale(var(--hs)) scaleY(0.95);opacity:0.3;--o:0.3;--c:var(--mint6)\" viewbox=\"0 0 100 100\" width=\"100\"><path d=\"M46.6443 2.02753C66.6399 1.53324 88.5794 7.59278 95.422 28.5087C102.874 51.2865 93.5364 76.7516 75.5776 90.4677C58.9651 103.156 37.2191 98.7293 21.1053 85.2685C5.82684 72.5056 -2.06419 50.8861 4.10887 30.7659C10.0345 11.4522 28.3111 2.48073 46.6443 2.02753Z\"></path></svg></div></art-pattern><span class=\"e3xbyqbe main e3xbyqb\"><div class=\"e3xbyqbf e3xbyqb\"><div class=\"e3xbyqb\">14 lessons | 51 min</div><div class=\"e3xbyqb\">with <b class=\"e3xbyqbg e3xbyqb\">Per Harald Borgen</b></div></div><img alt=\"Per Harald Borgen\" class=\"e3xbyqbh e3xbyqb\" loading=\"lazy\" src=\"/avatars/perborgen/64\"/></span><span class=\"e3xbyqbi e3xbyqb\"><span class=\"e3xbyqbj e3xbyqb\">Intermediate</span><span class=\"status e3xbyqb\"></span></span></a>,\n",
       " <a class=\"button white rounded d3tapub\" href=\"/topic/free\">See all</a>,\n",
       " <a class=\"d3tapubx d3tapub\" href=\"/topic/beginner\">New to Coding?</a>,\n",
       " <a class=\"card e3xbyqb\" href=\"/learn/frontend\" title=\"The Frontend Developer Career Path\"><art-pattern class=\"e3xbyqbd e3xbyqb kyd29zbc pattern live\" style=\"--kyd29zd: var(--lemon2)\"><span class=\"heading\">The Frontend Developer Career Path</span><div class=\"shapes\"><svg class=\"shape\" height=\"100\" preserveaspectratio=\"none\" style=\"width:40%;left:33%;top:58%;transform:translate3d(-50%,-50%,40px) rotate(-17deg) scale(var(--hs)) scaleY(0.89);opacity:0.25;--o:0.25;--c:var(--tiger5)\" viewbox=\"0 0 100 100\" width=\"100\"><path d=\"M48.3671 4.00414C61.7855 2.7251 76.745 -1.97133 86.4625 9.80638C97.2181 22.8423 100.354 43.9553 96.2873 62.0843C92.4299 79.2819 80.463 91.9101 66.9118 96.9691C55.504 101.228 45.1731 91.3023 34.2907 85.2291C22.5778 78.6925 6.96447 76.7547 3.05352 61.3315C-1.02481 45.2483 7.40784 28.3849 16.8479 16.442C25.0359 6.08323 36.8209 5.10471 48.3671 4.00414Z\"></path></svg><svg class=\"shape\" height=\"100\" preserveaspectratio=\"none\" style=\"width:56%;left:67%;top:51%;transform:translate3d(-50%,-50%,56px) rotate(-151deg) scale(var(--hs)) scaleY(0.76);opacity:0.4;--o:0.4;--c:var(--baby4)\" viewbox=\"0 0 100 100\" width=\"100\"><path d=\"M46.6443 2.02753C66.6399 1.53324 88.5794 7.59278 95.422 28.5087C102.874 51.2865 93.5364 76.7516 75.5776 90.4677C58.9651 103.156 37.2191 98.7293 21.1053 85.2685C5.82684 72.5056 -2.06419 50.8861 4.10887 30.7659C10.0345 11.4522 28.3111 2.48073 46.6443 2.02753Z\"></path></svg></div></art-pattern><span class=\"e3xbyqbe main e3xbyqb\"><div class=\"e3xbyqbf e3xbyqb\"><div class=\"e3xbyqb\">1087 lessons | 82 hours</div><div class=\"e3xbyqb\">with <b class=\"e3xbyqbg e3xbyqb\">Per Harald Borgen</b></div></div><img alt=\"Per Harald Borgen\" class=\"e3xbyqbh e3xbyqb\" loading=\"lazy\" src=\"/avatars/perborgen/64\"/></span><span class=\"e3xbyqbi e3xbyqb\"><span class=\"e3xbyqbj e3xbyqb\">Beginner</span><span class=\"status e3xbyqb\"></span></span></a>,\n",
       " <a class=\"card e3xbyqb\" href=\"/learn/htmlcss\" title=\"HTML &amp; CSS Crash Course\"><art-pattern class=\"e3xbyqbd e3xbyqb kyd29zbc pattern live\" style=\"--kyd29zd: var(--coral3)\"><span class=\"heading\">HTML &amp; CSS Crash Course</span><div class=\"shapes\"><svg class=\"shape\" height=\"100\" preserveaspectratio=\"none\" style=\"width:48%;left:64%;top:78%;transform:translate3d(-50%,-50%,48px) rotate(0deg) scale(var(--hs)) scaleY(0.76);opacity:0.8;--o:0.8;--c:var(--coral1)\" viewbox=\"0 0 100 100\" width=\"100\"><path d=\"M13.4722 14.9548C27.7804 -2.67845 49.7337 0.345336 67.4 8.41128C84.5927 16.261 100.585 31.1761 97.6499 53.388C94.6973 75.7326 75.1119 89.9688 55.8613 95.735C37.5404 101.223 18.5249 97.0492 9.47335 79.7998C-0.70101 60.4107 -1.5127 33.4221 13.4722 14.9548Z\"></path></svg><svg class=\"shape\" height=\"100\" preserveaspectratio=\"none\" style=\"width:32%;left:91%;top:65%;transform:translate3d(-50%,-50%,32px) rotate(-119deg) scale(var(--hs)) scaleY(0.93);opacity:0.55;--o:0.55;--c:var(--coral1)\" viewbox=\"0 0 100 100\" width=\"100\"><path d=\"M48.3671 4.00414C61.7855 2.7251 76.745 -1.97133 86.4625 9.80638C97.2181 22.8423 100.354 43.9553 96.2873 62.0843C92.4299 79.2819 80.463 91.9101 66.9118 96.9691C55.504 101.228 45.1731 91.3023 34.2907 85.2291C22.5778 78.6925 6.96447 76.7547 3.05352 61.3315C-1.02481 45.2483 7.40784 28.3849 16.8479 16.442C25.0359 6.08323 36.8209 5.10471 48.3671 4.00414Z\"></path></svg></div></art-pattern><span class=\"e3xbyqbe main e3xbyqb\"><div class=\"e3xbyqbf e3xbyqb\"><div class=\"e3xbyqb\">31 lessons | 4 hours</div><div class=\"e3xbyqb\">with <b class=\"e3xbyqbg e3xbyqb\">Kevin Powell</b></div></div><img alt=\"Kevin Powell\" class=\"e3xbyqbh e3xbyqb\" loading=\"lazy\" src=\"/avatars/kevin-powell/64\"/></span><span class=\"e3xbyqbi e3xbyqb\"><span class=\"e3xbyqbj e3xbyqb\">Beginner</span><span class=\"status e3xbyqb\"></span></span></a>,\n",
       " <a class=\"card e3xbyqb\" href=\"/learn/introtojavascript\" title=\"Introduction to JavaScript\"><art-pattern class=\"e3xbyqbd e3xbyqb kyd29zbc pattern live\" style=\"--kyd29zd: var(--lilac3)\"><span class=\"heading\">Introduction to JavaScript</span><div class=\"shapes\"><svg class=\"shape\" height=\"100\" preserveaspectratio=\"none\" style=\"width:48%;left:65%;top:52%;transform:translate3d(-50%,-50%,48px) rotate(0deg) scale(var(--hs)) scaleY(0.64);opacity:0.5;--o:0.5;--c:var(--white)\" viewbox=\"0 0 100 100\" width=\"100\"><path d=\"M13.4722 14.9548C27.7804 -2.67845 49.7337 0.345336 67.4 8.41128C84.5927 16.261 100.585 31.1761 97.6499 53.388C94.6973 75.7326 75.1119 89.9688 55.8613 95.735C37.5404 101.223 18.5249 97.0492 9.47335 79.7998C-0.70101 60.4107 -1.5127 33.4221 13.4722 14.9548Z\"></path></svg><svg class=\"shape\" height=\"100\" preserveaspectratio=\"none\" style=\"width:30%;left:36%;top:47%;transform:translate3d(-50%,-50%,30px) rotate(0deg) scale(var(--hs)) scaleY(0.84);opacity:0.4;--o:0.4;--c:var(--white)\" viewbox=\"0 0 100 100\" width=\"100\"><path d=\"M13.4722 14.9548C27.7804 -2.67845 49.7337 0.345336 67.4 8.41128C84.5927 16.261 100.585 31.1761 97.6499 53.388C94.6973 75.7326 75.1119 89.9688 55.8613 95.735C37.5404 101.223 18.5249 97.0492 9.47335 79.7998C-0.70101 60.4107 -1.5127 33.4221 13.4722 14.9548Z\"></path></svg><svg class=\"shape\" height=\"100\" preserveaspectratio=\"none\" style=\"width:66%;left:98%;top:72%;transform:translate3d(-50%,-50%,66px) rotate(15deg) scale(var(--hs)) scaleY(0.76);opacity:0.85;--o:0.85;--c:var(--white)\" viewbox=\"0 0 100 100\" width=\"100\"><path d=\"M13.4722 14.9548C27.7804 -2.67845 49.7337 0.345336 67.4 8.41128C84.5927 16.261 100.585 31.1761 97.6499 53.388C94.6973 75.7326 75.1119 89.9688 55.8613 95.735C37.5404 101.223 18.5249 97.0492 9.47335 79.7998C-0.70101 60.4107 -1.5127 33.4221 13.4722 14.9548Z\"></path></svg></div></art-pattern><span class=\"e3xbyqbe main e3xbyqb\"><div class=\"e3xbyqbf e3xbyqb\"><div class=\"e3xbyqb\">34 lessons | 1 hour</div><div class=\"e3xbyqb\">with <b class=\"e3xbyqbg e3xbyqb\">Dylan C. Israel</b></div></div><img alt=\"Dylan C. Israel\" class=\"e3xbyqbh e3xbyqb\" loading=\"lazy\" src=\"/avatars/PizzaPokerGuy/64\"/></span><span class=\"e3xbyqbi e3xbyqb\"><span class=\"e3xbyqbj e3xbyqb\">Beginner</span><span class=\"status e3xbyqb\"></span></span></a>,\n",
       " <a class=\"card e3xbyqb\" href=\"/learn/bootcampprimer\" title=\"The Coding Bootcamp Primer\"><art-pattern class=\"e3xbyqbd e3xbyqb kyd29zbc pattern live\" style=\"--kyd29zd: var(--baby3)\"><span class=\"heading\">The Coding Bootcamp Primer</span><div class=\"shapes\"><svg class=\"shape\" height=\"100\" preserveaspectratio=\"none\" style=\"width:32%;left:15%;top:84%;transform:translate3d(-50%,-50%,32px) rotate(0deg) scale(var(--hs)) scaleY(0.61);opacity:0.2;--o:0.2;--c:var(--tiger6)\" viewbox=\"0 0 100 100\" width=\"100\"><path d=\"M44.9691 4.79871C56.6118 5.67153 68.507 5.369 77.777 12.665C88.3572 20.9924 96.7262 32.7477 97.8277 46.4017C99.009 61.0447 94.0942 76.1464 83.7126 86.2421C73.5557 96.1193 58.9147 98.8044 44.9691 97.8045C32.0316 96.8769 19.396 91.4475 11.2764 81.0484C3.83447 71.517 5.54215 58.6033 4.83431 46.4017C4.04958 32.8746 -2.27931 16.9796 7.00157 7.35917C16.2873 -2.26621 31.8192 3.81289 44.9691 4.79871Z\"></path></svg><svg class=\"shape\" height=\"100\" preserveaspectratio=\"none\" style=\"width:32%;left:71%;top:77%;transform:translate3d(-50%,-50%,32px) rotate(0deg) scale(var(--hs)) scaleY(0.96);opacity:0.25;--o:0.25;--c:var(--tiger6)\" viewbox=\"0 0 100 100\" width=\"100\"><path d=\"M13.4722 14.9548C27.7804 -2.67845 49.7337 0.345336 67.4 8.41128C84.5927 16.261 100.585 31.1761 97.6499 53.388C94.6973 75.7326 75.1119 89.9688 55.8613 95.735C37.5404 101.223 18.5249 97.0492 9.47335 79.7998C-0.70101 60.4107 -1.5127 33.4221 13.4722 14.9548Z\"></path></svg><svg class=\"shape\" height=\"100\" preserveaspectratio=\"none\" style=\"width:18%;left:42%;top:90%;transform:translate3d(-50%,-50%,18px) rotate(0deg) scale(var(--hs)) scaleY(0.84);opacity:0.2;--o:0.2;--c:var(--tiger7)\" viewbox=\"0 0 100 100\" width=\"100\"><path d=\"M13.4722 14.9548C27.7804 -2.67845 49.7337 0.345336 67.4 8.41128C84.5927 16.261 100.585 31.1761 97.6499 53.388C94.6973 75.7326 75.1119 89.9688 55.8613 95.735C37.5404 101.223 18.5249 97.0492 9.47335 79.7998C-0.70101 60.4107 -1.5127 33.4221 13.4722 14.9548Z\"></path></svg><svg class=\"shape\" height=\"100\" preserveaspectratio=\"none\" style=\"width:18%;left:94%;top:91%;transform:translate3d(-50%,-50%,18px) rotate(0deg) scale(var(--hs)) scaleY(0.84);opacity:0.2;--o:0.2;--c:var(--tiger7)\" viewbox=\"0 0 100 100\" width=\"100\"><path d=\"M13.4722 14.9548C27.7804 -2.67845 49.7337 0.345336 67.4 8.41128C84.5927 16.261 100.585 31.1761 97.6499 53.388C94.6973 75.7326 75.1119 89.9688 55.8613 95.735C37.5404 101.223 18.5249 97.0492 9.47335 79.7998C-0.70101 60.4107 -1.5127 33.4221 13.4722 14.9548Z\"></path></svg></div></art-pattern><span class=\"e3xbyqbe main e3xbyqb\"><div class=\"e3xbyqbf e3xbyqb\"><div class=\"e3xbyqb\">65 lessons | 4 hours</div><div class=\"e3xbyqb\">with <b class=\"e3xbyqbg e3xbyqb\">V School</b></div></div><img alt=\"V School\" class=\"e3xbyqbh e3xbyqb\" loading=\"lazy\" src=\"/avatars/v-school/64\"/></span><span class=\"e3xbyqbi e3xbyqb\"><span class=\"e3xbyqbj e3xbyqb\">Beginner</span><span class=\"status e3xbyqb\"></span></span></a>,\n",
       " <a class=\"button white rounded d3tapub\" href=\"/topic/beginner\">See all</a>,\n",
       " <a class=\"d3tapubx d3tapub\" href=\"/topic/css\">CSS</a>,\n",
       " <a class=\"card e3xbyqb\" href=\"/learn/frontend\" title=\"The Frontend Developer Career Path\"><art-pattern class=\"e3xbyqbd e3xbyqb kyd29zbc pattern live\" style=\"--kyd29zd: var(--lemon2)\"><span class=\"heading\">The Frontend Developer Career Path</span><div class=\"shapes\"><svg class=\"shape\" height=\"100\" preserveaspectratio=\"none\" style=\"width:40%;left:33%;top:58%;transform:translate3d(-50%,-50%,40px) rotate(-17deg) scale(var(--hs)) scaleY(0.89);opacity:0.25;--o:0.25;--c:var(--tiger5)\" viewbox=\"0 0 100 100\" width=\"100\"><path d=\"M48.3671 4.00414C61.7855 2.7251 76.745 -1.97133 86.4625 9.80638C97.2181 22.8423 100.354 43.9553 96.2873 62.0843C92.4299 79.2819 80.463 91.9101 66.9118 96.9691C55.504 101.228 45.1731 91.3023 34.2907 85.2291C22.5778 78.6925 6.96447 76.7547 3.05352 61.3315C-1.02481 45.2483 7.40784 28.3849 16.8479 16.442C25.0359 6.08323 36.8209 5.10471 48.3671 4.00414Z\"></path></svg><svg class=\"shape\" height=\"100\" preserveaspectratio=\"none\" style=\"width:56%;left:67%;top:51%;transform:translate3d(-50%,-50%,56px) rotate(-151deg) scale(var(--hs)) scaleY(0.76);opacity:0.4;--o:0.4;--c:var(--baby4)\" viewbox=\"0 0 100 100\" width=\"100\"><path d=\"M46.6443 2.02753C66.6399 1.53324 88.5794 7.59278 95.422 28.5087C102.874 51.2865 93.5364 76.7516 75.5776 90.4677C58.9651 103.156 37.2191 98.7293 21.1053 85.2685C5.82684 72.5056 -2.06419 50.8861 4.10887 30.7659C10.0345 11.4522 28.3111 2.48073 46.6443 2.02753Z\"></path></svg></div></art-pattern><span class=\"e3xbyqbe main e3xbyqb\"><div class=\"e3xbyqbf e3xbyqb\"><div class=\"e3xbyqb\">1087 lessons | 82 hours</div><div class=\"e3xbyqb\">with <b class=\"e3xbyqbg e3xbyqb\">Per Harald Borgen</b></div></div><img alt=\"Per Harald Borgen\" class=\"e3xbyqbh e3xbyqb\" loading=\"lazy\" src=\"/avatars/perborgen/64\"/></span><span class=\"e3xbyqbi e3xbyqb\"><span class=\"e3xbyqbj e3xbyqb\">Beginner</span><span class=\"status e3xbyqb\"></span></span></a>,\n",
       " <a class=\"card e3xbyqb\" href=\"/learn/design\" title=\"Learn UI Design Fundamentals\"><art-pattern class=\"e3xbyqbd e3xbyqb kyd29zbc pattern live\" style=\"--kyd29zd: var(--coral3)\"><span class=\"heading\">Learn UI Design Fundamentals</span><div class=\"shapes\"><svg class=\"shape\" height=\"100\" preserveaspectratio=\"none\" style=\"width:32%;left:33%;top:49%;transform:translate3d(-50%,-50%,32px) rotate(0deg) scale(var(--hs)) scaleY(0.61);opacity:0.39;--o:0.39;--c:var(--white)\" viewbox=\"0 0 100 100\" width=\"100\"><path d=\"M48.3671 4.00414C61.7855 2.7251 76.745 -1.97133 86.4625 9.80638C97.2181 22.8423 100.354 43.9553 96.2873 62.0843C92.4299 79.2819 80.463 91.9101 66.9118 96.9691C55.504 101.228 45.1731 91.3023 34.2907 85.2291C22.5778 78.6925 6.96447 76.7547 3.05352 61.3315C-1.02481 45.2483 7.40784 28.3849 16.8479 16.442C25.0359 6.08323 36.8209 5.10471 48.3671 4.00414Z\"></path></svg><svg class=\"shape\" height=\"100\" preserveaspectratio=\"none\" style=\"width:38%;left:98%;top:68%;transform:translate3d(-50%,-50%,38px) rotate(0deg) scale(var(--hs)) scaleY(0.81);opacity:0.35;--o:0.35;--c:var(--white)\" viewbox=\"0 0 100 100\" width=\"100\"><path d=\"M13.4722 14.9548C27.7804 -2.67845 49.7337 0.345336 67.4 8.41128C84.5927 16.261 100.585 31.1761 97.6499 53.388C94.6973 75.7326 75.1119 89.9688 55.8613 95.735C37.5404 101.223 18.5249 97.0492 9.47335 79.7998C-0.70101 60.4107 -1.5127 33.4221 13.4722 14.9548Z\"></path></svg><svg class=\"shape\" height=\"100\" preserveaspectratio=\"none\" style=\"width:48%;left:66%;top:50%;transform:translate3d(-50%,-50%,48px) rotate(0deg) scale(var(--hs)) scaleY(0.64);opacity:0.5;--o:0.5;--c:var(--white)\" viewbox=\"0 0 100 100\" width=\"100\"><path d=\"M13.4722 14.9548C27.7804 -2.67845 49.7337 0.345336 67.4 8.41128C84.5927 16.261 100.585 31.1761 97.6499 53.388C94.6973 75.7326 75.1119 89.9688 55.8613 95.735C37.5404 101.223 18.5249 97.0492 9.47335 79.7998C-0.70101 60.4107 -1.5127 33.4221 13.4722 14.9548Z\"></path></svg></div></art-pattern><span class=\"e3xbyqbe main e3xbyqb\"><div class=\"e3xbyqbf e3xbyqb\"><div class=\"e3xbyqb\">16 lessons | 1 hour</div><div class=\"e3xbyqb\">with <b class=\"e3xbyqbg e3xbyqb\">Gary Simon</b></div></div><img alt=\"Gary Simon\" class=\"e3xbyqbh e3xbyqb\" loading=\"lazy\" src=\"/avatars/designcourse/64\"/></span><span class=\"e3xbyqbi e3xbyqb\"><span class=\"e3xbyqbj e3xbyqb\">Intermediate</span><span class=\"status e3xbyqb\"></span></span></a>,\n",
       " <a class=\"card e3xbyqb\" href=\"/learn/htmlcss\" title=\"HTML &amp; CSS Crash Course\"><art-pattern class=\"e3xbyqbd e3xbyqb kyd29zbc pattern live\" style=\"--kyd29zd: var(--coral3)\"><span class=\"heading\">HTML &amp; CSS Crash Course</span><div class=\"shapes\"><svg class=\"shape\" height=\"100\" preserveaspectratio=\"none\" style=\"width:48%;left:64%;top:78%;transform:translate3d(-50%,-50%,48px) rotate(0deg) scale(var(--hs)) scaleY(0.76);opacity:0.8;--o:0.8;--c:var(--coral1)\" viewbox=\"0 0 100 100\" width=\"100\"><path d=\"M13.4722 14.9548C27.7804 -2.67845 49.7337 0.345336 67.4 8.41128C84.5927 16.261 100.585 31.1761 97.6499 53.388C94.6973 75.7326 75.1119 89.9688 55.8613 95.735C37.5404 101.223 18.5249 97.0492 9.47335 79.7998C-0.70101 60.4107 -1.5127 33.4221 13.4722 14.9548Z\"></path></svg><svg class=\"shape\" height=\"100\" preserveaspectratio=\"none\" style=\"width:32%;left:91%;top:65%;transform:translate3d(-50%,-50%,32px) rotate(-119deg) scale(var(--hs)) scaleY(0.93);opacity:0.55;--o:0.55;--c:var(--coral1)\" viewbox=\"0 0 100 100\" width=\"100\"><path d=\"M48.3671 4.00414C61.7855 2.7251 76.745 -1.97133 86.4625 9.80638C97.2181 22.8423 100.354 43.9553 96.2873 62.0843C92.4299 79.2819 80.463 91.9101 66.9118 96.9691C55.504 101.228 45.1731 91.3023 34.2907 85.2291C22.5778 78.6925 6.96447 76.7547 3.05352 61.3315C-1.02481 45.2483 7.40784 28.3849 16.8479 16.442C25.0359 6.08323 36.8209 5.10471 48.3671 4.00414Z\"></path></svg></div></art-pattern><span class=\"e3xbyqbe main e3xbyqb\"><div class=\"e3xbyqbf e3xbyqb\"><div class=\"e3xbyqb\">31 lessons | 4 hours</div><div class=\"e3xbyqb\">with <b class=\"e3xbyqbg e3xbyqb\">Kevin Powell</b></div></div><img alt=\"Kevin Powell\" class=\"e3xbyqbh e3xbyqb\" loading=\"lazy\" src=\"/avatars/kevin-powell/64\"/></span><span class=\"e3xbyqbi e3xbyqb\"><span class=\"e3xbyqbj e3xbyqb\">Beginner</span><span class=\"status e3xbyqb\"></span></span></a>,\n",
       " <a class=\"card e3xbyqb\" href=\"/learn/flexbox\" title=\"Learn Flexbox for free\"><art-pattern class=\"e3xbyqbd e3xbyqb kyd29zbc pattern live\" style=\"--kyd29zd: var(--mint3)\"><span class=\"heading\">Learn Flexbox for free</span><div class=\"shapes\"><svg class=\"shape\" height=\"100\" preserveaspectratio=\"none\" style=\"width:50%;left:56%;top:56%;transform:translate3d(-50%,-50%,50px) rotate(0deg) scale(var(--hs)) scaleY(1.03);opacity:0.4;--o:0.4;--c:var(--mint5)\" viewbox=\"0 0 100 100\" width=\"100\"><path d=\"M46.6443 2.02753C66.6399 1.53324 88.5794 7.59278 95.422 28.5087C102.874 51.2865 93.5364 76.7516 75.5776 90.4677C58.9651 103.156 37.2191 98.7293 21.1053 85.2685C5.82684 72.5056 -2.06419 50.8861 4.10887 30.7659C10.0345 11.4522 28.3111 2.48073 46.6443 2.02753Z\"></path></svg><svg class=\"shape\" height=\"100\" preserveaspectratio=\"none\" style=\"width:42%;left:48%;top:55%;transform:translate3d(-50%,-50%,42px) rotate(-111deg) scale(var(--hs)) scaleY(0.95);opacity:0.3;--o:0.3;--c:var(--mint6)\" viewbox=\"0 0 100 100\" width=\"100\"><path d=\"M46.6443 2.02753C66.6399 1.53324 88.5794 7.59278 95.422 28.5087C102.874 51.2865 93.5364 76.7516 75.5776 90.4677C58.9651 103.156 37.2191 98.7293 21.1053 85.2685C5.82684 72.5056 -2.06419 50.8861 4.10887 30.7659C10.0345 11.4522 28.3111 2.48073 46.6443 2.02753Z\"></path></svg></div></art-pattern><span class=\"e3xbyqbe main e3xbyqb\"><div class=\"e3xbyqbf e3xbyqb\"><div class=\"e3xbyqb\">14 lessons | 51 min</div><div class=\"e3xbyqb\">with <b class=\"e3xbyqbg e3xbyqb\">Per Harald Borgen</b></div></div><img alt=\"Per Harald Borgen\" class=\"e3xbyqbh e3xbyqb\" loading=\"lazy\" src=\"/avatars/perborgen/64\"/></span><span class=\"e3xbyqbi e3xbyqb\"><span class=\"e3xbyqbj e3xbyqb\">Intermediate</span><span class=\"status e3xbyqb\"></span></span></a>,\n",
       " <a class=\"button white rounded d3tapub\" href=\"/topic/css\">See all</a>,\n",
       " <a class=\"d3tapubx d3tapub\" href=\"/topic/javascript\">JavaScript</a>,\n",
       " <a class=\"card e3xbyqb\" href=\"/learn/frontend\" title=\"The Frontend Developer Career Path\"><art-pattern class=\"e3xbyqbd e3xbyqb kyd29zbc pattern live\" style=\"--kyd29zd: var(--lemon2)\"><span class=\"heading\">The Frontend Developer Career Path</span><div class=\"shapes\"><svg class=\"shape\" height=\"100\" preserveaspectratio=\"none\" style=\"width:40%;left:33%;top:58%;transform:translate3d(-50%,-50%,40px) rotate(-17deg) scale(var(--hs)) scaleY(0.89);opacity:0.25;--o:0.25;--c:var(--tiger5)\" viewbox=\"0 0 100 100\" width=\"100\"><path d=\"M48.3671 4.00414C61.7855 2.7251 76.745 -1.97133 86.4625 9.80638C97.2181 22.8423 100.354 43.9553 96.2873 62.0843C92.4299 79.2819 80.463 91.9101 66.9118 96.9691C55.504 101.228 45.1731 91.3023 34.2907 85.2291C22.5778 78.6925 6.96447 76.7547 3.05352 61.3315C-1.02481 45.2483 7.40784 28.3849 16.8479 16.442C25.0359 6.08323 36.8209 5.10471 48.3671 4.00414Z\"></path></svg><svg class=\"shape\" height=\"100\" preserveaspectratio=\"none\" style=\"width:56%;left:67%;top:51%;transform:translate3d(-50%,-50%,56px) rotate(-151deg) scale(var(--hs)) scaleY(0.76);opacity:0.4;--o:0.4;--c:var(--baby4)\" viewbox=\"0 0 100 100\" width=\"100\"><path d=\"M46.6443 2.02753C66.6399 1.53324 88.5794 7.59278 95.422 28.5087C102.874 51.2865 93.5364 76.7516 75.5776 90.4677C58.9651 103.156 37.2191 98.7293 21.1053 85.2685C5.82684 72.5056 -2.06419 50.8861 4.10887 30.7659C10.0345 11.4522 28.3111 2.48073 46.6443 2.02753Z\"></path></svg></div></art-pattern><span class=\"e3xbyqbe main e3xbyqb\"><div class=\"e3xbyqbf e3xbyqb\"><div class=\"e3xbyqb\">1087 lessons | 82 hours</div><div class=\"e3xbyqb\">with <b class=\"e3xbyqbg e3xbyqb\">Per Harald Borgen</b></div></div><img alt=\"Per Harald Borgen\" class=\"e3xbyqbh e3xbyqb\" loading=\"lazy\" src=\"/avatars/perborgen/64\"/></span><span class=\"e3xbyqbi e3xbyqb\"><span class=\"e3xbyqbj e3xbyqb\">Beginner</span><span class=\"status e3xbyqb\"></span></span></a>,\n",
       " <a class=\"card e3xbyqb\" href=\"/learn/javascript\" title=\"The JavaScript Bootcamp\"><art-pattern class=\"e3xbyqbd e3xbyqb kyd29zbc pattern live\" style=\"--kyd29zd: var(--coral3)\"><span class=\"heading\">The JavaScript Bootcamp</span><div class=\"shapes\"><svg class=\"shape\" height=\"100\" preserveaspectratio=\"none\" style=\"width:26%;left:11%;top:72%;transform:translate3d(-50%,-50%,26px) rotate(0deg) scale(var(--hs)) scaleY(1.05);opacity:1.03;--o:1.03;--c:var(--coral1)\" viewbox=\"0 0 100 100\" width=\"100\"><path d=\"M46.6443 2.02753C66.6399 1.53324 88.5794 7.59278 95.422 28.5087C102.874 51.2865 93.5364 76.7516 75.5776 90.4677C58.9651 103.156 37.2191 98.7293 21.1053 85.2685C5.82684 72.5056 -2.06419 50.8861 4.10887 30.7659C10.0345 11.4522 28.3111 2.48073 46.6443 2.02753Z\"></path></svg><svg class=\"shape\" height=\"100\" preserveaspectratio=\"none\" style=\"width:31%;left:29%;top:44%;transform:translate3d(-50%,-50%,31px) rotate(0deg) scale(var(--hs)) scaleY(0.9);opacity:0.55;--o:0.55;--c:var(--coral1)\" viewbox=\"0 0 100 100\" width=\"100\"><path d=\"M46.6443 2.02753C66.6399 1.53324 88.5794 7.59278 95.422 28.5087C102.874 51.2865 93.5364 76.7516 75.5776 90.4677C58.9651 103.156 37.2191 98.7293 21.1053 85.2685C5.82684 72.5056 -2.06419 50.8861 4.10887 30.7659C10.0345 11.4522 28.3111 2.48073 46.6443 2.02753Z\"></path></svg><svg class=\"shape\" height=\"100\" preserveaspectratio=\"none\" style=\"width:30%;left:52%;top:18%;transform:translate3d(-50%,-50%,30px) rotate(0deg) scale(var(--hs)) scaleY(0.88);opacity:0.73;--o:0.73;--c:var(--coral1)\" viewbox=\"0 0 100 100\" width=\"100\"><path d=\"M46.6443 2.02753C66.6399 1.53324 88.5794 7.59278 95.422 28.5087C102.874 51.2865 93.5364 76.7516 75.5776 90.4677C58.9651 103.156 37.2191 98.7293 21.1053 85.2685C5.82684 72.5056 -2.06419 50.8861 4.10887 30.7659C10.0345 11.4522 28.3111 2.48073 46.6443 2.02753Z\"></path></svg><svg class=\"shape\" height=\"100\" preserveaspectratio=\"none\" style=\"width:25%;left:73%;top:32%;transform:translate3d(-50%,-50%,25px) rotate(0deg) scale(var(--hs)) scaleY(0.91);opacity:0.4;--o:0.4;--c:var(--coral1)\" viewbox=\"0 0 100 100\" width=\"100\"><path d=\"M46.6443 2.02753C66.6399 1.53324 88.5794 7.59278 95.422 28.5087C102.874 51.2865 93.5364 76.7516 75.5776 90.4677C58.9651 103.156 37.2191 98.7293 21.1053 85.2685C5.82684 72.5056 -2.06419 50.8861 4.10887 30.7659C10.0345 11.4522 28.3111 2.48073 46.6443 2.02753Z\"></path></svg></div></art-pattern><span class=\"e3xbyqbe main e3xbyqb\"><div class=\"e3xbyqbf e3xbyqb\"><div class=\"e3xbyqb\">112 lessons | 13 hours</div><div class=\"e3xbyqb\">with <b class=\"e3xbyqbg e3xbyqb\">Reed Barger</b></div></div><img alt=\"Reed Barger\" class=\"e3xbyqbh e3xbyqb\" loading=\"lazy\" src=\"/avatars/reedbarger/64\"/></span><span class=\"e3xbyqbi e3xbyqb\"><span class=\"e3xbyqbj e3xbyqb\">Intermediate</span><span class=\"status e3xbyqb\"></span></span></a>,\n",
       " <a class=\"card e3xbyqb\" href=\"/learn/introtojavascript\" title=\"Introduction to JavaScript\"><art-pattern class=\"e3xbyqbd e3xbyqb kyd29zbc pattern live\" style=\"--kyd29zd: var(--lilac3)\"><span class=\"heading\">Introduction to JavaScript</span><div class=\"shapes\"><svg class=\"shape\" height=\"100\" preserveaspectratio=\"none\" style=\"width:48%;left:65%;top:52%;transform:translate3d(-50%,-50%,48px) rotate(0deg) scale(var(--hs)) scaleY(0.64);opacity:0.5;--o:0.5;--c:var(--white)\" viewbox=\"0 0 100 100\" width=\"100\"><path d=\"M13.4722 14.9548C27.7804 -2.67845 49.7337 0.345336 67.4 8.41128C84.5927 16.261 100.585 31.1761 97.6499 53.388C94.6973 75.7326 75.1119 89.9688 55.8613 95.735C37.5404 101.223 18.5249 97.0492 9.47335 79.7998C-0.70101 60.4107 -1.5127 33.4221 13.4722 14.9548Z\"></path></svg><svg class=\"shape\" height=\"100\" preserveaspectratio=\"none\" style=\"width:30%;left:36%;top:47%;transform:translate3d(-50%,-50%,30px) rotate(0deg) scale(var(--hs)) scaleY(0.84);opacity:0.4;--o:0.4;--c:var(--white)\" viewbox=\"0 0 100 100\" width=\"100\"><path d=\"M13.4722 14.9548C27.7804 -2.67845 49.7337 0.345336 67.4 8.41128C84.5927 16.261 100.585 31.1761 97.6499 53.388C94.6973 75.7326 75.1119 89.9688 55.8613 95.735C37.5404 101.223 18.5249 97.0492 9.47335 79.7998C-0.70101 60.4107 -1.5127 33.4221 13.4722 14.9548Z\"></path></svg><svg class=\"shape\" height=\"100\" preserveaspectratio=\"none\" style=\"width:66%;left:98%;top:72%;transform:translate3d(-50%,-50%,66px) rotate(15deg) scale(var(--hs)) scaleY(0.76);opacity:0.85;--o:0.85;--c:var(--white)\" viewbox=\"0 0 100 100\" width=\"100\"><path d=\"M13.4722 14.9548C27.7804 -2.67845 49.7337 0.345336 67.4 8.41128C84.5927 16.261 100.585 31.1761 97.6499 53.388C94.6973 75.7326 75.1119 89.9688 55.8613 95.735C37.5404 101.223 18.5249 97.0492 9.47335 79.7998C-0.70101 60.4107 -1.5127 33.4221 13.4722 14.9548Z\"></path></svg></div></art-pattern><span class=\"e3xbyqbe main e3xbyqb\"><div class=\"e3xbyqbf e3xbyqb\"><div class=\"e3xbyqb\">34 lessons | 1 hour</div><div class=\"e3xbyqb\">with <b class=\"e3xbyqbg e3xbyqb\">Dylan C. Israel</b></div></div><img alt=\"Dylan C. Israel\" class=\"e3xbyqbh e3xbyqb\" loading=\"lazy\" src=\"/avatars/PizzaPokerGuy/64\"/></span><span class=\"e3xbyqbi e3xbyqb\"><span class=\"e3xbyqbj e3xbyqb\">Beginner</span><span class=\"status e3xbyqb\"></span></span></a>,\n",
       " <a class=\"card e3xbyqb\" href=\"/learn/snakegame\" title=\"Build a Snake Game in JavaScript\"><art-pattern class=\"e3xbyqbd e3xbyqb kyd29zbc pattern live\" style=\"--kyd29zd: var(--mint3)\"><span class=\"heading\">Build a Snake Game in JavaScript</span><div class=\"shapes\"><svg class=\"shape\" height=\"100\" preserveaspectratio=\"none\" style=\"width:80%;left:104%;top:50%;transform:translate3d(-50%,-50%,80px) rotate(-179deg) scale(var(--hs)) scaleY(0.4);opacity:0.25;--o:0.25;--c:var(--baby5)\" viewbox=\"0 0 100 100\" width=\"100\"><path d=\"M9.29261 5.23311C21.8211 -4.9955 35.5207 12.0092 49.7636 15.442C60.6519 18.0663 73.5169 14.3472 80.9487 22.5036C91.3853 33.9578 103.182 50.0749 95.5757 65.7208C88.0075 81.288 67.0064 78.5017 51.1777 83.7402C35.8226 88.8219 18.4865 104.422 6.87518 95.0759C-4.6975 85.7611 7.90853 65.3205 8.34065 49.2608C8.75633 33.8123 -3.15401 15.3948 9.29261 5.23311Z\"></path></svg><svg class=\"shape\" height=\"100\" preserveaspectratio=\"none\" style=\"width:20%;left:48%;top:48%;transform:translate3d(-50%,-50%,20px) rotate(-185deg) scale(var(--hs)) scaleY(0.86);opacity:0.3;--o:0.3;--c:var(--baby5)\" viewbox=\"0 0 100 100\" width=\"100\"><path d=\"M6.95017 8.19765C17.2058 -2.99805 33.6242 4.33116 47.5944 4.64098C59.4603 4.90413 71.9293 2.79464 81.026 9.84042C91.1166 17.656 97.371 29.9185 97.9336 43.6309C98.542 58.4598 95.0477 74.8387 84.1413 85.7687C73.505 96.428 58.2977 96.6126 44.3219 97.3589C30.7609 98.083 15.181 100.035 6.7788 89.8996C-1.3716 80.068 5.49946 64.2539 5.52818 50.5633C5.55888 35.9261 -3.3047 19.3926 6.95017 8.19765Z\"></path></svg></div></art-pattern><span class=\"e3xbyqbe main e3xbyqb\"><div class=\"e3xbyqbf e3xbyqb\"><div class=\"e3xbyqb\">28 lessons | 1 hour</div><div class=\"e3xbyqb\">with <b class=\"e3xbyqbg e3xbyqb\">Ania Kubow</b></div></div><img alt=\"Ania Kubow\" class=\"e3xbyqbh e3xbyqb\" loading=\"lazy\" src=\"/avatars/uid/uN32gmcm/64\"/></span><span class=\"e3xbyqbi e3xbyqb\"><span class=\"e3xbyqbj e3xbyqb\">Intermediate</span><span class=\"status e3xbyqb\"></span></span></a>,\n",
       " <a class=\"button white rounded d3tapub\" href=\"/topic/javascript\">See all</a>,\n",
       " <a class=\"d3tapubx d3tapub\" href=\"/topic/react\">React</a>,\n",
       " <a class=\"card e3xbyqb\" href=\"/learn/frontend\" title=\"The Frontend Developer Career Path\"><art-pattern class=\"e3xbyqbd e3xbyqb kyd29zbc pattern live\" style=\"--kyd29zd: var(--lemon2)\"><span class=\"heading\">The Frontend Developer Career Path</span><div class=\"shapes\"><svg class=\"shape\" height=\"100\" preserveaspectratio=\"none\" style=\"width:40%;left:33%;top:58%;transform:translate3d(-50%,-50%,40px) rotate(-17deg) scale(var(--hs)) scaleY(0.89);opacity:0.25;--o:0.25;--c:var(--tiger5)\" viewbox=\"0 0 100 100\" width=\"100\"><path d=\"M48.3671 4.00414C61.7855 2.7251 76.745 -1.97133 86.4625 9.80638C97.2181 22.8423 100.354 43.9553 96.2873 62.0843C92.4299 79.2819 80.463 91.9101 66.9118 96.9691C55.504 101.228 45.1731 91.3023 34.2907 85.2291C22.5778 78.6925 6.96447 76.7547 3.05352 61.3315C-1.02481 45.2483 7.40784 28.3849 16.8479 16.442C25.0359 6.08323 36.8209 5.10471 48.3671 4.00414Z\"></path></svg><svg class=\"shape\" height=\"100\" preserveaspectratio=\"none\" style=\"width:56%;left:67%;top:51%;transform:translate3d(-50%,-50%,56px) rotate(-151deg) scale(var(--hs)) scaleY(0.76);opacity:0.4;--o:0.4;--c:var(--baby4)\" viewbox=\"0 0 100 100\" width=\"100\"><path d=\"M46.6443 2.02753C66.6399 1.53324 88.5794 7.59278 95.422 28.5087C102.874 51.2865 93.5364 76.7516 75.5776 90.4677C58.9651 103.156 37.2191 98.7293 21.1053 85.2685C5.82684 72.5056 -2.06419 50.8861 4.10887 30.7659C10.0345 11.4522 28.3111 2.48073 46.6443 2.02753Z\"></path></svg></div></art-pattern><span class=\"e3xbyqbe main e3xbyqb\"><div class=\"e3xbyqbf e3xbyqb\"><div class=\"e3xbyqb\">1087 lessons | 82 hours</div><div class=\"e3xbyqb\">with <b class=\"e3xbyqbg e3xbyqb\">Per Harald Borgen</b></div></div><img alt=\"Per Harald Borgen\" class=\"e3xbyqbh e3xbyqb\" loading=\"lazy\" src=\"/avatars/perborgen/64\"/></span><span class=\"e3xbyqbi e3xbyqb\"><span class=\"e3xbyqbj e3xbyqb\">Beginner</span><span class=\"status e3xbyqb\"></span></span></a>,\n",
       " <a class=\"card e3xbyqb\" href=\"/learn/react\" title=\"The React Bootcamp\"><art-pattern class=\"e3xbyqbd e3xbyqb kyd29zbc pattern live\" style=\"--kyd29zd: var(--mint3)\"><span class=\"heading\">The React Bootcamp</span><div class=\"shapes\"><svg class=\"shape\" height=\"100\" preserveaspectratio=\"none\" style=\"width:54%;left:66%;top:52%;transform:translate3d(-50%,-50%,54px) rotate(0deg) scale(var(--hs)) scaleY(1.25);opacity:0.5;--o:0.5;--c:var(--lilac3)\" viewbox=\"0 0 100 100\" width=\"100\"><path d=\"M46.6443 2.02753C66.6399 1.53324 88.5794 7.59278 95.422 28.5087C102.874 51.2865 93.5364 76.7516 75.5776 90.4677C58.9651 103.156 37.2191 98.7293 21.1053 85.2685C5.82684 72.5056 -2.06419 50.8861 4.10887 30.7659C10.0345 11.4522 28.3111 2.48073 46.6443 2.02753Z\"></path></svg><svg class=\"shape\" height=\"100\" preserveaspectratio=\"none\" style=\"width:24%;left:37%;top:86%;transform:translate3d(-50%,-50%,24px) rotate(-128deg) scale(var(--hs)) scaleY(1.05);opacity:0.35;--o:0.35;--c:var(--lilac4)\" viewbox=\"0 0 100 100\" width=\"100\"><path d=\"M46.6443 2.02753C66.6399 1.53324 88.5794 7.59278 95.422 28.5087C102.874 51.2865 93.5364 76.7516 75.5776 90.4677C58.9651 103.156 37.2191 98.7293 21.1053 85.2685C5.82684 72.5056 -2.06419 50.8861 4.10887 30.7659C10.0345 11.4522 28.3111 2.48073 46.6443 2.02753Z\"></path></svg><svg class=\"shape\" height=\"100\" preserveaspectratio=\"none\" style=\"width:14%;left:21%;top:95%;transform:translate3d(-50%,-50%,14px) rotate(-184deg) scale(var(--hs)) scaleY(0.9);opacity:0.4;--o:0.4;--c:var(--lilac4)\" viewbox=\"0 0 100 100\" width=\"100\"><path d=\"M46.6443 2.02753C66.6399 1.53324 88.5794 7.59278 95.422 28.5087C102.874 51.2865 93.5364 76.7516 75.5776 90.4677C58.9651 103.156 37.2191 98.7293 21.1053 85.2685C5.82684 72.5056 -2.06419 50.8861 4.10887 30.7659C10.0345 11.4522 28.3111 2.48073 46.6443 2.02753Z\"></path></svg></div></art-pattern><span class=\"e3xbyqbe main e3xbyqb\"><div class=\"e3xbyqbf e3xbyqb\"><div class=\"e3xbyqb\">128 lessons | 12 hours</div><div class=\"e3xbyqb\">with <b class=\"e3xbyqbg e3xbyqb\">Bob Ziroll</b></div></div><img alt=\"Bob Ziroll\" class=\"e3xbyqbh e3xbyqb\" loading=\"lazy\" src=\"/avatars/bobziroll/64\"/></span><span class=\"e3xbyqbi e3xbyqb\"><span class=\"e3xbyqbj e3xbyqb\">Advanced</span><span class=\"status e3xbyqb\"></span></span></a>,\n",
       " <a class=\"card e3xbyqb\" href=\"/learn/learnreact\" title=\"Learn React for free\"><art-pattern class=\"e3xbyqbd e3xbyqb kyd29zbc pattern live\" style=\"--kyd29zd: var(--baby3)\"><span class=\"heading\">Learn React for free</span><div class=\"shapes\"><svg class=\"shape\" height=\"100\" preserveaspectratio=\"none\" style=\"width:12%;left:49%;top:45%;transform:translate3d(-50%,-50%,12px) rotate(-129deg) scale(var(--hs)) scaleY(1.05);opacity:0.2;--o:0.2;--c:var(--lilac5)\" viewbox=\"0 0 100 100\" width=\"100\"><path d=\"M48.3671 4.00414C61.7855 2.7251 76.745 -1.97133 86.4625 9.80638C97.2181 22.8423 100.354 43.9553 96.2873 62.0843C92.4299 79.2819 80.463 91.9101 66.9118 96.9691C55.504 101.228 45.1731 91.3023 34.2907 85.2291C22.5778 78.6925 6.96447 76.7547 3.05352 61.3315C-1.02481 45.2483 7.40784 28.3849 16.8479 16.442C25.0359 6.08323 36.8209 5.10471 48.3671 4.00414Z\"></path></svg><svg class=\"shape\" height=\"100\" preserveaspectratio=\"none\" style=\"width:50%;left:49%;top:46%;transform:translate3d(-50%,-50%,50px) rotate(-21deg) scale(var(--hs)) scaleY(1.05);opacity:0.25;--o:0.25;--c:var(--lilac5)\" viewbox=\"0 0 100 100\" width=\"100\"><path d=\"M13.4722 14.9548C27.7804 -2.67845 49.7337 0.345336 67.4 8.41128C84.5927 16.261 100.585 31.1761 97.6499 53.388C94.6973 75.7326 75.1119 89.9688 55.8613 95.735C37.5404 101.223 18.5249 97.0492 9.47335 79.7998C-0.70101 60.4107 -1.5127 33.4221 13.4722 14.9548Z\"></path></svg><svg class=\"shape\" height=\"100\" preserveaspectratio=\"none\" style=\"width:30%;left:48%;top:49%;transform:translate3d(-50%,-50%,30px) rotate(0deg) scale(var(--hs)) scaleY(0.84);opacity:0.35;--o:0.35;--c:var(--lilac4)\" viewbox=\"0 0 100 100\" width=\"100\"><path d=\"M48.3671 4.00414C61.7855 2.7251 76.745 -1.97133 86.4625 9.80638C97.2181 22.8423 100.354 43.9553 96.2873 62.0843C92.4299 79.2819 80.463 91.9101 66.9118 96.9691C55.504 101.228 45.1731 91.3023 34.2907 85.2291C22.5778 78.6925 6.96447 76.7547 3.05352 61.3315C-1.02481 45.2483 7.40784 28.3849 16.8479 16.442C25.0359 6.08323 36.8209 5.10471 48.3671 4.00414Z\"></path></svg></div></art-pattern><span class=\"e3xbyqbe main e3xbyqb\"><div class=\"e3xbyqbf e3xbyqb\"><div class=\"e3xbyqb\">59 lessons | 5 hours</div><div class=\"e3xbyqb\">with <b class=\"e3xbyqbg e3xbyqb\">Bob Ziroll</b></div></div><img alt=\"Bob Ziroll\" class=\"e3xbyqbh e3xbyqb\" loading=\"lazy\" src=\"/avatars/bobziroll/64\"/></span><span class=\"e3xbyqbi e3xbyqb\"><span class=\"e3xbyqbj e3xbyqb\">Intermediate</span><span class=\"status e3xbyqb\"></span></span></a>,\n",
       " <a class=\"card e3xbyqb\" href=\"/learn/reusablereact\" title=\"Building Reusable React\"><art-pattern class=\"e3xbyqbd e3xbyqb kyd29zbc pattern live\" style=\"--kyd29zd: var(--baby3)\"><span class=\"heading\">Building Reusable React</span><div class=\"shapes\"><svg class=\"shape\" height=\"100\" preserveaspectratio=\"none\" style=\"width:30%;left:42%;top:64%;transform:translate3d(-50%,-50%,30px) rotate(29deg) scale(var(--hs)) scaleY(1.3);opacity:0.2;--o:0.2;--c:var(--lilac5)\" viewbox=\"0 0 100 100\" width=\"100\"><path d=\"M46.6443 2.02753C66.6399 1.53324 88.5794 7.59278 95.422 28.5087C102.874 51.2865 93.5364 76.7516 75.5776 90.4677C58.9651 103.156 37.2191 98.7293 21.1053 85.2685C5.82684 72.5056 -2.06419 50.8861 4.10887 30.7659C10.0345 11.4522 28.3111 2.48073 46.6443 2.02753Z\"></path></svg><svg class=\"shape\" height=\"100\" preserveaspectratio=\"none\" style=\"width:42%;left:77%;top:51%;transform:translate3d(-50%,-50%,42px) rotate(42deg) scale(var(--hs)) scaleY(1.06);opacity:0.25;--o:0.25;--c:var(--lilac5)\" viewbox=\"0 0 100 100\" width=\"100\"><path d=\"M13.4722 14.9548C27.7804 -2.67845 49.7337 0.345336 67.4 8.41128C84.5927 16.261 100.585 31.1761 97.6499 53.388C94.6973 75.7326 75.1119 89.9688 55.8613 95.735C37.5404 101.223 18.5249 97.0492 9.47335 79.7998C-0.70101 60.4107 -1.5127 33.4221 13.4722 14.9548Z\"></path></svg><svg class=\"shape\" height=\"100\" preserveaspectratio=\"none\" style=\"width:30%;left:17%;top:75%;transform:translate3d(-50%,-50%,30px) rotate(0deg) scale(var(--hs)) scaleY(0.84);opacity:0.2;--o:0.2;--c:var(--lilac5)\" viewbox=\"0 0 100 100\" width=\"100\"><path d=\"M13.4722 14.9548C27.7804 -2.67845 49.7337 0.345336 67.4 8.41128C84.5927 16.261 100.585 31.1761 97.6499 53.388C94.6973 75.7326 75.1119 89.9688 55.8613 95.735C37.5404 101.223 18.5249 97.0492 9.47335 79.7998C-0.70101 60.4107 -1.5127 33.4221 13.4722 14.9548Z\"></path></svg></div></art-pattern><span class=\"e3xbyqbe main e3xbyqb\"><div class=\"e3xbyqbf e3xbyqb\"><div class=\"e3xbyqb\">31 lessons | 4 hours</div><div class=\"e3xbyqb\">with <b class=\"e3xbyqbg e3xbyqb\">Cassidy Williams</b></div></div><img alt=\"Cassidy Williams\" class=\"e3xbyqbh e3xbyqb\" loading=\"lazy\" src=\"/avatars/cassidoo/64\"/></span><span class=\"e3xbyqbi e3xbyqb\"><span class=\"e3xbyqbj e3xbyqb\">Advanced</span><span class=\"status e3xbyqb\"></span></span></a>,\n",
       " <a class=\"button white rounded d3tapub\" href=\"/topic/react\">See all</a>,\n",
       " <a class=\"d3tapubx d3tapub\" href=\"/topic/html\">HTML</a>,\n",
       " <a class=\"card e3xbyqb\" href=\"/learn/frontend\" title=\"The Frontend Developer Career Path\"><art-pattern class=\"e3xbyqbd e3xbyqb kyd29zbc pattern live\" style=\"--kyd29zd: var(--lemon2)\"><span class=\"heading\">The Frontend Developer Career Path</span><div class=\"shapes\"><svg class=\"shape\" height=\"100\" preserveaspectratio=\"none\" style=\"width:40%;left:33%;top:58%;transform:translate3d(-50%,-50%,40px) rotate(-17deg) scale(var(--hs)) scaleY(0.89);opacity:0.25;--o:0.25;--c:var(--tiger5)\" viewbox=\"0 0 100 100\" width=\"100\"><path d=\"M48.3671 4.00414C61.7855 2.7251 76.745 -1.97133 86.4625 9.80638C97.2181 22.8423 100.354 43.9553 96.2873 62.0843C92.4299 79.2819 80.463 91.9101 66.9118 96.9691C55.504 101.228 45.1731 91.3023 34.2907 85.2291C22.5778 78.6925 6.96447 76.7547 3.05352 61.3315C-1.02481 45.2483 7.40784 28.3849 16.8479 16.442C25.0359 6.08323 36.8209 5.10471 48.3671 4.00414Z\"></path></svg><svg class=\"shape\" height=\"100\" preserveaspectratio=\"none\" style=\"width:56%;left:67%;top:51%;transform:translate3d(-50%,-50%,56px) rotate(-151deg) scale(var(--hs)) scaleY(0.76);opacity:0.4;--o:0.4;--c:var(--baby4)\" viewbox=\"0 0 100 100\" width=\"100\"><path d=\"M46.6443 2.02753C66.6399 1.53324 88.5794 7.59278 95.422 28.5087C102.874 51.2865 93.5364 76.7516 75.5776 90.4677C58.9651 103.156 37.2191 98.7293 21.1053 85.2685C5.82684 72.5056 -2.06419 50.8861 4.10887 30.7659C10.0345 11.4522 28.3111 2.48073 46.6443 2.02753Z\"></path></svg></div></art-pattern><span class=\"e3xbyqbe main e3xbyqb\"><div class=\"e3xbyqbf e3xbyqb\"><div class=\"e3xbyqb\">1087 lessons | 82 hours</div><div class=\"e3xbyqb\">with <b class=\"e3xbyqbg e3xbyqb\">Per Harald Borgen</b></div></div><img alt=\"Per Harald Borgen\" class=\"e3xbyqbh e3xbyqb\" loading=\"lazy\" src=\"/avatars/perborgen/64\"/></span><span class=\"e3xbyqbi e3xbyqb\"><span class=\"e3xbyqbj e3xbyqb\">Beginner</span><span class=\"status e3xbyqb\"></span></span></a>,\n",
       " <a class=\"card e3xbyqb\" href=\"/learn/responsive\" title=\"The Responsive Web Design Bootcamp\"><art-pattern class=\"e3xbyqbd e3xbyqb kyd29zbc pattern live\" style=\"--kyd29zd: var(--mint2)\"><span class=\"heading\">The Responsive Web Design Bootcamp</span><div class=\"shapes\"><svg class=\"shape\" height=\"100\" preserveaspectratio=\"none\" style=\"width:48%;left:29%;top:50%;transform:translate3d(-50%,-50%,48px) rotate(0deg) scale(var(--hs)) scaleY(0.76);opacity:0.29;--o:0.29;--c:var(--lilac4)\" viewbox=\"0 0 100 100\" width=\"100\"><path d=\"M87.5194 12.6911C100.724 30.4477 100.024 56.2045 93.265 75.1548C86.9776 92.7838 73.2551 101.066 57.4621 96.9686C35.4989 91.2701 7.03718 81.4582 2.47942 51.5996C-1.94928 22.5864 25.2781 17.5186 44.0252 8.94122C58.235 2.43979 74.9374 -4.22816 87.5194 12.6911Z\"></path></svg><svg class=\"shape\" height=\"100\" preserveaspectratio=\"none\" style=\"width:20%;left:62%;top:76%;transform:translate3d(-50%,-50%,20px) rotate(0deg) scale(var(--hs)) scaleY(0.91);opacity:0.21;--o:0.21;--c:var(--lilac5)\" viewbox=\"0 0 100 100\" width=\"100\"><path d=\"M46.6443 2.02753C66.6399 1.53324 88.5794 7.59278 95.422 28.5087C102.874 51.2865 93.5364 76.7516 75.5776 90.4677C58.9651 103.156 37.2191 98.7293 21.1053 85.2685C5.82684 72.5056 -2.06419 50.8861 4.10887 30.7659C10.0345 11.4522 28.3111 2.48073 46.6443 2.02753Z\"></path></svg><svg class=\"shape\" height=\"100\" preserveaspectratio=\"none\" style=\"width:20%;left:85%;top:45%;transform:translate3d(-50%,-50%,20px) rotate(0deg) scale(var(--hs)) scaleY(2.06);opacity:0.2;--o:0.2;--c:var(--lilac5)\" viewbox=\"0 0 100 100\" width=\"100\"><path d=\"M46.6443 2.02753C66.6399 1.53324 88.5794 7.59278 95.422 28.5087C102.874 51.2865 93.5364 76.7516 75.5776 90.4677C58.9651 103.156 37.2191 98.7293 21.1053 85.2685C5.82684 72.5056 -2.06419 50.8861 4.10887 30.7659C10.0345 11.4522 28.3111 2.48073 46.6443 2.02753Z\"></path></svg></div></art-pattern><span class=\"e3xbyqbe main e3xbyqb\"><div class=\"e3xbyqbf e3xbyqb\"><div class=\"e3xbyqb\">174 lessons | 15 hours</div><div class=\"e3xbyqb\">with <b class=\"e3xbyqbg e3xbyqb\">Kevin Powell</b></div></div><img alt=\"Kevin Powell\" class=\"e3xbyqbh e3xbyqb\" loading=\"lazy\" src=\"/avatars/kevin-powell/64\"/></span><span class=\"e3xbyqbi e3xbyqb\"><span class=\"e3xbyqbj e3xbyqb\">Intermediate</span><span class=\"status e3xbyqb\"></span></span></a>,\n",
       " <a class=\"card e3xbyqb\" href=\"/learn/html\" title=\"Introduction to HTML\"><art-pattern class=\"e3xbyqbd e3xbyqb kyd29zbc pattern live\" style=\"--kyd29zd: var(--coral3)\"><span class=\"heading\">Introduction to HTML</span><div class=\"shapes\"><svg class=\"shape\" height=\"100\" preserveaspectratio=\"none\" style=\"width:40%;left:46%;top:46%;transform:translate3d(-50%,-50%,40px) rotate(0deg) scale(var(--hs)) scaleY(0.77);opacity:0.25;--o:0.25;--c:var(--baby5)\" viewbox=\"0 0 100 100\" width=\"100\"><path d=\"M13.4722 14.9548C27.7804 -2.67845 49.7337 0.345336 67.4 8.41128C84.5927 16.261 100.585 31.1761 97.6499 53.388C94.6973 75.7326 75.1119 89.9688 55.8613 95.735C37.5404 101.223 18.5249 97.0492 9.47335 79.7998C-0.70101 60.4107 -1.5127 33.4221 13.4722 14.9548Z\"></path></svg><svg class=\"shape\" height=\"100\" preserveaspectratio=\"none\" style=\"width:1%;left:0%;top:0%;transform:translate3d(-50%,-50%,1px) rotate(-3deg) scale(var(--hs)) scaleY(1);opacity:0;--o:0;--c:currentColor\" viewbox=\"0 0 100 100\" width=\"100\"><path></path></svg><svg class=\"shape\" height=\"100\" preserveaspectratio=\"none\" style=\"width:1%;left:0%;top:0%;transform:translate3d(-50%,-50%,1px) rotate(undefineddeg) scale(var(--hs)) scaleY(1);opacity:0;--o:0;--c:currentColor\" viewbox=\"0 0 100 100\" width=\"100\"><path></path></svg><svg class=\"shape\" height=\"100\" preserveaspectratio=\"none\" style=\"width:22%;left:48%;top:46%;transform:translate3d(-50%,-50%,22px) rotate(0deg) scale(var(--hs)) scaleY(1.04);opacity:0.25;--o:0.25;--c:var(--baby5)\" viewbox=\"0 0 100 100\" width=\"100\"><path d=\"M13.4722 14.9548C27.7804 -2.67845 49.7337 0.345336 67.4 8.41128C84.5927 16.261 100.585 31.1761 97.6499 53.388C94.6973 75.7326 75.1119 89.9688 55.8613 95.735C37.5404 101.223 18.5249 97.0492 9.47335 79.7998C-0.70101 60.4107 -1.5127 33.4221 13.4722 14.9548Z\"></path></svg><svg class=\"shape\" height=\"100\" preserveaspectratio=\"none\" style=\"width:1%;left:0%;top:0%;transform:translate3d(-50%,-50%,1px) rotate(undefineddeg) scale(var(--hs)) scaleY(1);opacity:0;--o:0;--c:currentColor\" viewbox=\"0 0 100 100\" width=\"100\"><path></path></svg><svg class=\"shape\" height=\"100\" preserveaspectratio=\"none\" style=\"width:52%;left:49%;top:48%;transform:translate3d(-50%,-50%,52px) rotate(0deg) scale(var(--hs)) scaleY(0.86);opacity:0.25;--o:0.25;--c:var(--baby5)\" viewbox=\"0 0 100 100\" width=\"100\"><path d=\"M13.4722 14.9548C27.7804 -2.67845 49.7337 0.345336 67.4 8.41128C84.5927 16.261 100.585 31.1761 97.6499 53.388C94.6973 75.7326 75.1119 89.9688 55.8613 95.735C37.5404 101.223 18.5249 97.0492 9.47335 79.7998C-0.70101 60.4107 -1.5127 33.4221 13.4722 14.9548Z\"></path></svg></div></art-pattern><span class=\"e3xbyqbe main e3xbyqb\"><div class=\"e3xbyqbf e3xbyqb\"><div class=\"e3xbyqb\">17 lessons | 56 min</div><div class=\"e3xbyqb\">with <b class=\"e3xbyqbg e3xbyqb\">Eric Vida</b></div></div><img alt=\"Eric Vida\" class=\"e3xbyqbh e3xbyqb\" loading=\"lazy\" src=\"/avatars/ericvida/64\"/></span><span class=\"e3xbyqbi e3xbyqb\"><span class=\"e3xbyqbj e3xbyqb\">Beginner</span><span class=\"status e3xbyqb\"></span></span></a>,\n",
       " <a class=\"card e3xbyqb\" href=\"/learn/htmlcss\" title=\"HTML &amp; CSS Crash Course\"><art-pattern class=\"e3xbyqbd e3xbyqb kyd29zbc pattern live\" style=\"--kyd29zd: var(--coral3)\"><span class=\"heading\">HTML &amp; CSS Crash Course</span><div class=\"shapes\"><svg class=\"shape\" height=\"100\" preserveaspectratio=\"none\" style=\"width:48%;left:64%;top:78%;transform:translate3d(-50%,-50%,48px) rotate(0deg) scale(var(--hs)) scaleY(0.76);opacity:0.8;--o:0.8;--c:var(--coral1)\" viewbox=\"0 0 100 100\" width=\"100\"><path d=\"M13.4722 14.9548C27.7804 -2.67845 49.7337 0.345336 67.4 8.41128C84.5927 16.261 100.585 31.1761 97.6499 53.388C94.6973 75.7326 75.1119 89.9688 55.8613 95.735C37.5404 101.223 18.5249 97.0492 9.47335 79.7998C-0.70101 60.4107 -1.5127 33.4221 13.4722 14.9548Z\"></path></svg><svg class=\"shape\" height=\"100\" preserveaspectratio=\"none\" style=\"width:32%;left:91%;top:65%;transform:translate3d(-50%,-50%,32px) rotate(-119deg) scale(var(--hs)) scaleY(0.93);opacity:0.55;--o:0.55;--c:var(--coral1)\" viewbox=\"0 0 100 100\" width=\"100\"><path d=\"M48.3671 4.00414C61.7855 2.7251 76.745 -1.97133 86.4625 9.80638C97.2181 22.8423 100.354 43.9553 96.2873 62.0843C92.4299 79.2819 80.463 91.9101 66.9118 96.9691C55.504 101.228 45.1731 91.3023 34.2907 85.2291C22.5778 78.6925 6.96447 76.7547 3.05352 61.3315C-1.02481 45.2483 7.40784 28.3849 16.8479 16.442C25.0359 6.08323 36.8209 5.10471 48.3671 4.00414Z\"></path></svg></div></art-pattern><span class=\"e3xbyqbe main e3xbyqb\"><div class=\"e3xbyqbf e3xbyqb\"><div class=\"e3xbyqb\">31 lessons | 4 hours</div><div class=\"e3xbyqb\">with <b class=\"e3xbyqbg e3xbyqb\">Kevin Powell</b></div></div><img alt=\"Kevin Powell\" class=\"e3xbyqbh e3xbyqb\" loading=\"lazy\" src=\"/avatars/kevin-powell/64\"/></span><span class=\"e3xbyqbi e3xbyqb\"><span class=\"e3xbyqbj e3xbyqb\">Beginner</span><span class=\"status e3xbyqb\"></span></span></a>,\n",
       " <a class=\"button white rounded d3tapub\" href=\"/topic/html\">See all</a>,\n",
       " <a class=\"d3tapubx d3tapub\" href=\"/topic/computerscience\">Computer Science</a>,\n",
       " <a class=\"card e3xbyqb\" href=\"/learn/python\" title=\"Learn Python for free\"><art-pattern class=\"e3xbyqbd e3xbyqb kyd29zbc pattern live\" style=\"--kyd29zd: var(--mint3)\"><span class=\"heading\">Learn Python for free</span><div class=\"shapes\"><svg class=\"shape\" height=\"100\" preserveaspectratio=\"none\" style=\"width:48%;left:65%;top:45%;transform:translate3d(-50%,-50%,48px) rotate(0deg) scale(var(--hs)) scaleY(0.64);opacity:0.25;--o:0.25;--c:var(--lilac5)\" viewbox=\"0 0 100 100\" width=\"100\"><path d=\"M13.4722 14.9548C27.7804 -2.67845 49.7337 0.345336 67.4 8.41128C84.5927 16.261 100.585 31.1761 97.6499 53.388C94.6973 75.7326 75.1119 89.9688 55.8613 95.735C37.5404 101.223 18.5249 97.0492 9.47335 79.7998C-0.70101 60.4107 -1.5127 33.4221 13.4722 14.9548Z\"></path></svg><svg class=\"shape\" height=\"100\" preserveaspectratio=\"none\" style=\"width:26%;left:48%;top:75%;transform:translate3d(-50%,-50%,26px) rotate(0deg) scale(var(--hs)) scaleY(0.88);opacity:0.4;--o:0.4;--c:var(--lilac4)\" viewbox=\"0 0 100 100\" width=\"100\"><path d=\"M13.4722 14.9548C27.7804 -2.67845 49.7337 0.345336 67.4 8.41128C84.5927 16.261 100.585 31.1761 97.6499 53.388C94.6973 75.7326 75.1119 89.9688 55.8613 95.735C37.5404 101.223 18.5249 97.0492 9.47335 79.7998C-0.70101 60.4107 -1.5127 33.4221 13.4722 14.9548Z\"></path></svg><svg class=\"shape\" height=\"100\" preserveaspectratio=\"none\" style=\"width:1%;left:74%;top:88%;transform:translate3d(-50%,-50%,1px) rotate(undefineddeg) scale(var(--hs)) scaleY(1);opacity:0;--o:0;--c:currentColor\" viewbox=\"0 0 100 100\" width=\"100\"><path></path></svg></div></art-pattern><span class=\"e3xbyqbe main e3xbyqb\"><div class=\"e3xbyqbf e3xbyqb\"><div class=\"e3xbyqb\">59 lessons | 5 hours</div><div class=\"e3xbyqb\">with <b class=\"e3xbyqbg e3xbyqb\">Olof Paulson</b></div></div><img alt=\"Olof Paulson\" class=\"e3xbyqbh e3xbyqb\" loading=\"lazy\" src=\"/avatars/uid/uQWnMDTk/64\"/></span><span class=\"e3xbyqbi e3xbyqb\"><span class=\"e3xbyqbj e3xbyqb\">Beginner</span><span class=\"status e3xbyqb\"></span></span></a>,\n",
       " <a class=\"card e3xbyqb\" href=\"/learn/practicalmath\" title=\"Practical math for frontend developers\"><art-pattern class=\"e3xbyqbd e3xbyqb kyd29zbc pattern live\" style=\"--kyd29zd: var(--coral3)\"><span class=\"heading\">Practical math for frontend developers</span><div class=\"shapes\"><svg class=\"shape\" height=\"100\" preserveaspectratio=\"none\" style=\"width:20%;left:12%;top:83%;transform:translate3d(-50%,-50%,20px) rotate(0deg) scale(var(--hs)) scaleY(0.8);opacity:0.2;--o:0.2;--c:var(--lilac4)\" viewbox=\"0 0 100 100\" width=\"100\"><path d=\"M46.6443 2.02753C66.6399 1.53324 88.5794 7.59278 95.422 28.5087C102.874 51.2865 93.5364 76.7516 75.5776 90.4677C58.9651 103.156 37.2191 98.7293 21.1053 85.2685C5.82684 72.5056 -2.06419 50.8861 4.10887 30.7659C10.0345 11.4522 28.3111 2.48073 46.6443 2.02753Z\"></path></svg><svg class=\"shape\" height=\"100\" preserveaspectratio=\"none\" style=\"width:18%;left:87%;top:21%;transform:translate3d(-50%,-50%,18px) rotate(0deg) scale(var(--hs)) scaleY(0.89);opacity:0.2;--o:0.2;--c:var(--lilac5)\" viewbox=\"0 0 100 100\" width=\"100\"><path d=\"M87.5194 12.6911C100.724 30.4477 100.024 56.2045 93.265 75.1548C86.9776 92.7838 73.2551 101.066 57.4621 96.9686C35.4989 91.2701 7.03718 81.4582 2.47942 51.5996C-1.94928 22.5864 25.2781 17.5186 44.0252 8.94122C58.235 2.43979 74.9374 -4.22816 87.5194 12.6911Z\"></path></svg><svg class=\"shape\" height=\"100\" preserveaspectratio=\"none\" style=\"width:20%;left:69%;top:53%;transform:translate3d(-50%,-50%,20px) rotate(0deg) scale(var(--hs)) scaleY(0.74);opacity:0.2;--o:0.2;--c:var(--lilac5)\" viewbox=\"0 0 100 100\" width=\"100\"><path d=\"M46.6443 2.02753C66.6399 1.53324 88.5794 7.59278 95.422 28.5087C102.874 51.2865 93.5364 76.7516 75.5776 90.4677C58.9651 103.156 37.2191 98.7293 21.1053 85.2685C5.82684 72.5056 -2.06419 50.8861 4.10887 30.7659C10.0345 11.4522 28.3111 2.48073 46.6443 2.02753Z\"></path></svg><svg class=\"shape\" height=\"100\" preserveaspectratio=\"none\" style=\"width:20%;left:39%;top:23%;transform:translate3d(-50%,-50%,20px) rotate(0deg) scale(var(--hs)) scaleY(0.74);opacity:0.2;--o:0.2;--c:var(--lilac5)\" viewbox=\"0 0 100 100\" width=\"100\"><path d=\"M46.6443 2.02753C66.6399 1.53324 88.5794 7.59278 95.422 28.5087C102.874 51.2865 93.5364 76.7516 75.5776 90.4677C58.9651 103.156 37.2191 98.7293 21.1053 85.2685C5.82684 72.5056 -2.06419 50.8861 4.10887 30.7659C10.0345 11.4522 28.3111 2.48073 46.6443 2.02753Z\"></path></svg></div></art-pattern><span class=\"e3xbyqbe main e3xbyqb\"><div class=\"e3xbyqbf e3xbyqb\"><div class=\"e3xbyqb\">15 lessons | 1 hour</div><div class=\"e3xbyqb\">with <b class=\"e3xbyqbg e3xbyqb\">Ryan Gonyon</b></div></div><img alt=\"Ryan Gonyon\" class=\"e3xbyqbh e3xbyqb\" loading=\"lazy\" src=\"/avatars/Radical-Coder/64\"/></span><span class=\"e3xbyqbi e3xbyqb\"><span class=\"e3xbyqbj e3xbyqb\">Intermediate</span><span class=\"status e3xbyqb\"></span></span></a>,\n",
       " <a class=\"card e3xbyqb\" href=\"/learn/mergesort\" title=\"Learn Merge Sort in JavaScript\"><art-pattern class=\"e3xbyqbd e3xbyqb kyd29zbc pattern live\" style=\"--kyd29zd: var(--baby3)\"><span class=\"heading\">Learn Merge Sort in JavaScript</span><div class=\"shapes\"><svg class=\"shape\" height=\"100\" preserveaspectratio=\"none\" style=\"width:40%;left:54%;top:53%;transform:translate3d(-50%,-50%,40px) rotate(124deg) scale(var(--hs)) scaleY(0.91);opacity:0.4;--o:0.4;--c:var(--tiger4)\" viewbox=\"0 0 100 100\" width=\"100\"><path d=\"M46.6443 2.02753C66.6399 1.53324 88.5794 7.59278 95.422 28.5087C102.874 51.2865 93.5364 76.7516 75.5776 90.4677C58.9651 103.156 37.2191 98.7293 21.1053 85.2685C5.82684 72.5056 -2.06419 50.8861 4.10887 30.7659C10.0345 11.4522 28.3111 2.48073 46.6443 2.02753Z\"></path></svg><svg class=\"shape\" height=\"100\" preserveaspectratio=\"none\" style=\"width:34%;left:61%;top:51%;transform:translate3d(-50%,-50%,34px) rotate(0deg) scale(var(--hs)) scaleY(1.08);opacity:0.35;--o:0.35;--c:var(--tiger4)\" viewbox=\"0 0 100 100\" width=\"100\"><path d=\"M46.6443 2.02753C66.6399 1.53324 88.5794 7.59278 95.422 28.5087C102.874 51.2865 93.5364 76.7516 75.5776 90.4677C58.9651 103.156 37.2191 98.7293 21.1053 85.2685C5.82684 72.5056 -2.06419 50.8861 4.10887 30.7659C10.0345 11.4522 28.3111 2.48073 46.6443 2.02753Z\"></path></svg></div></art-pattern><span class=\"e3xbyqbe main e3xbyqb\"><div class=\"e3xbyqbf e3xbyqb\"><div class=\"e3xbyqb\">10 lessons | 58 min</div><div class=\"e3xbyqb\">with <b class=\"e3xbyqbg e3xbyqb\">Jonathan Lee Martin</b></div></div><img alt=\"Jonathan Lee Martin\" class=\"e3xbyqbh e3xbyqb\" loading=\"lazy\" src=\"/avatars/nybblr/64\"/></span><span class=\"e3xbyqbi e3xbyqb\"><span class=\"e3xbyqbj e3xbyqb\">Advanced</span><span class=\"status e3xbyqb\"></span></span></a>,\n",
       " <a class=\"card e3xbyqb\" href=\"/learn/algorithmsguide\" title=\"Learn Binary Search in JavaScript\"><art-pattern class=\"e3xbyqbd e3xbyqb kyd29zbc pattern live\" style=\"--kyd29zd: var(--baby3)\"><span class=\"heading\">Learn Binary Search in JavaScript</span><div class=\"shapes\"><svg class=\"shape\" height=\"100\" preserveaspectratio=\"none\" style=\"width:32%;left:39%;top:55%;transform:translate3d(-50%,-50%,32px) rotate(0deg) scale(var(--hs)) scaleY(0.61);opacity:0.2;--o:0.2;--c:var(--tiger4)\" viewbox=\"0 0 100 100\" width=\"100\"><path d=\"M48.3671 4.00414C61.7855 2.7251 76.745 -1.97133 86.4625 9.80638C97.2181 22.8423 100.354 43.9553 96.2873 62.0843C92.4299 79.2819 80.463 91.9101 66.9118 96.9691C55.504 101.228 45.1731 91.3023 34.2907 85.2291C22.5778 78.6925 6.96447 76.7547 3.05352 61.3315C-1.02481 45.2483 7.40784 28.3849 16.8479 16.442C25.0359 6.08323 36.8209 5.10471 48.3671 4.00414Z\"></path></svg><svg class=\"shape\" height=\"100\" preserveaspectratio=\"none\" style=\"width:48%;left:60%;top:51%;transform:translate3d(-50%,-50%,48px) rotate(0deg) scale(var(--hs)) scaleY(0.64);opacity:0.25;--o:0.25;--c:var(--tiger5)\" viewbox=\"0 0 100 100\" width=\"100\"><path d=\"M37.1071 93.4379C22.0739 77.4689 -6.11936 67.1235 4.23023 32.2667C14.5654 -2.5414 37.3932 2.06224 56.2355 2.35359C71.9159 2.59605 95.9271 5.12767 97.8883 33.7149C99.859 62.4409 75.3031 75.878 59.7098 91.1998C51.5735 99.1945 43.6573 100.396 37.1071 93.4379Z\"></path></svg><svg class=\"shape\" height=\"100\" preserveaspectratio=\"none\" style=\"width:18%;left:47%;top:74%;transform:translate3d(-50%,-50%,18px) rotate(0deg) scale(var(--hs)) scaleY(0.84);opacity:0.2;--o:0.2;--c:var(--tiger5)\" viewbox=\"0 0 100 100\" width=\"100\"><path d=\"M13.4722 14.9548C27.7804 -2.67845 49.7337 0.345336 67.4 8.41128C84.5927 16.261 100.585 31.1761 97.6499 53.388C94.6973 75.7326 75.1119 89.9688 55.8613 95.735C37.5404 101.223 18.5249 97.0492 9.47335 79.7998C-0.70101 60.4107 -1.5127 33.4221 13.4722 14.9548Z\"></path></svg></div></art-pattern><span class=\"e3xbyqbe main e3xbyqb\"><div class=\"e3xbyqbf e3xbyqb\"><div class=\"e3xbyqb\">11 lessons | 1 hour</div><div class=\"e3xbyqb\">with <b class=\"e3xbyqbg e3xbyqb\">Jonathan Lee Martin</b></div></div><img alt=\"Jonathan Lee Martin\" class=\"e3xbyqbh e3xbyqb\" loading=\"lazy\" src=\"/avatars/nybblr/64\"/></span><span class=\"e3xbyqbi e3xbyqb\"><span class=\"e3xbyqbj e3xbyqb\">Advanced</span><span class=\"status e3xbyqb\"></span></span></a>,\n",
       " <a class=\"button white rounded d3tapub\" href=\"/topic/computerscience\">See all</a>,\n",
       " <a class=\"d3tapubx d3tapub\" href=\"/topic/vue\">Vue</a>,\n",
       " <a class=\"card e3xbyqb\" href=\"/learn/vue\" title=\"The Vue Bootcamp\"><art-pattern class=\"e3xbyqbd e3xbyqb kyd29zbc pattern live\" style=\"--kyd29zd: var(--lilac3)\"><span class=\"heading\">The Vue Bootcamp</span><div class=\"shapes\"><svg class=\"shape\" height=\"100\" preserveaspectratio=\"none\" style=\"width:52%;left:56%;top:71%;transform:translate3d(-50%,-50%,52px) rotate(0deg) scale(var(--hs)) scaleY(0.88);opacity:0.3;--o:0.3;--c:var(--mint1)\" viewbox=\"0 0 100 100\" width=\"100\"><path d=\"M46.6443 2.02753C66.6399 1.53324 88.5794 7.59278 95.422 28.5087C102.874 51.2865 93.5364 76.7516 75.5776 90.4677C58.9651 103.156 37.2191 98.7293 21.1053 85.2685C5.82684 72.5056 -2.06419 50.8861 4.10887 30.7659C10.0345 11.4522 28.3111 2.48073 46.6443 2.02753Z\"></path></svg><svg class=\"shape\" height=\"100\" preserveaspectratio=\"none\" style=\"width:42%;left:57%;top:57%;transform:translate3d(-50%,-50%,42px) rotate(-10deg) scale(var(--hs)) scaleY(0.82);opacity:0.35;--o:0.35;--c:var(--mint2)\" viewbox=\"0 0 100 100\" width=\"100\"><path d=\"M46.6443 2.02753C66.6399 1.53324 88.5794 7.59278 95.422 28.5087C102.874 51.2865 93.5364 76.7516 75.5776 90.4677C58.9651 103.156 37.2191 98.7293 21.1053 85.2685C5.82684 72.5056 -2.06419 50.8861 4.10887 30.7659C10.0345 11.4522 28.3111 2.48073 46.6443 2.02753Z\"></path></svg></div></art-pattern><span class=\"e3xbyqbe main e3xbyqb\"><div class=\"e3xbyqbf e3xbyqb\"><div class=\"e3xbyqb\">81 lessons | 8 hours</div><div class=\"e3xbyqb\">with <b class=\"e3xbyqbg e3xbyqb\">Victor Gonzalez</b></div></div><img alt=\"Victor Gonzalez\" class=\"e3xbyqbh e3xbyqb\" loading=\"lazy\" src=\"/avatars/uid/u9Ld9du5/64\"/></span><span class=\"e3xbyqbi e3xbyqb\"><span class=\"e3xbyqbj e3xbyqb\">Intermediate</span><span class=\"status e3xbyqb\"></span></span></a>,\n",
       " <a class=\"card e3xbyqb\" href=\"/learn/vuetify\" title=\"Learn Vuetify for free\"><art-pattern class=\"e3xbyqbd e3xbyqb kyd29zbc pattern live\" style=\"--kyd29zd: var(--mint3)\"><span class=\"heading\">Learn Vuetify for free</span><div class=\"shapes\"><svg class=\"shape\" height=\"100\" preserveaspectratio=\"none\" style=\"width:18%;left:73%;top:60%;transform:translate3d(-50%,-50%,18px) rotate(0deg) scale(var(--hs)) scaleY(0.84);opacity:0.2;--o:0.2;--c:var(--lilac4)\" viewbox=\"0 0 100 100\" width=\"100\"><path d=\"M13.4722 14.9548C27.7804 -2.67845 49.7337 0.345336 67.4 8.41128C84.5927 16.261 100.585 31.1761 97.6499 53.388C94.6973 75.7326 75.1119 89.9688 55.8613 95.735C37.5404 101.223 18.5249 97.0492 9.47335 79.7998C-0.70101 60.4107 -1.5127 33.4221 13.4722 14.9548Z\"></path></svg><svg class=\"shape\" height=\"100\" preserveaspectratio=\"none\" style=\"width:18%;left:83%;top:68%;transform:translate3d(-50%,-50%,18px) rotate(0deg) scale(var(--hs)) scaleY(0.84);opacity:0.2;--o:0.2;--c:var(--lilac4)\" viewbox=\"0 0 100 100\" width=\"100\"><path d=\"M13.4722 14.9548C27.7804 -2.67845 49.7337 0.345336 67.4 8.41128C84.5927 16.261 100.585 31.1761 97.6499 53.388C94.6973 75.7326 75.1119 89.9688 55.8613 95.735C37.5404 101.223 18.5249 97.0492 9.47335 79.7998C-0.70101 60.4107 -1.5127 33.4221 13.4722 14.9548Z\"></path></svg><svg class=\"shape\" height=\"100\" preserveaspectratio=\"none\" style=\"width:18%;left:85%;top:49%;transform:translate3d(-50%,-50%,18px) rotate(0deg) scale(var(--hs)) scaleY(0.84);opacity:0.2;--o:0.2;--c:var(--lilac4)\" viewbox=\"0 0 100 100\" width=\"100\"><path d=\"M13.4722 14.9548C27.7804 -2.67845 49.7337 0.345336 67.4 8.41128C84.5927 16.261 100.585 31.1761 97.6499 53.388C94.6973 75.7326 75.1119 89.9688 55.8613 95.735C37.5404 101.223 18.5249 97.0492 9.47335 79.7998C-0.70101 60.4107 -1.5127 33.4221 13.4722 14.9548Z\"></path></svg></div></art-pattern><span class=\"e3xbyqbe main e3xbyqb\"><div class=\"e3xbyqbf e3xbyqb\"><div class=\"e3xbyqb\">18 lessons | 2 hours</div><div class=\"e3xbyqb\">with <b class=\"e3xbyqbg e3xbyqb\">Gwen Faraday</b></div></div><img alt=\"Gwen Faraday\" class=\"e3xbyqbh e3xbyqb\" loading=\"lazy\" src=\"/avatars/uid/uKQ9rWhD/64\"/></span><span class=\"e3xbyqbi e3xbyqb\"><span class=\"e3xbyqbj e3xbyqb\">Intermediate</span><span class=\"status e3xbyqb\"></span></span></a>,\n",
       " <a class=\"card e3xbyqb\" href=\"/learn/learnvue\" title=\"Learn Vue.js for free\"><art-pattern class=\"e3xbyqbd e3xbyqb kyd29zbc pattern live\" style=\"--kyd29zd: var(--coral2)\"><span class=\"heading\">Learn Vue.js for free</span><div class=\"shapes\"><svg class=\"shape\" height=\"100\" preserveaspectratio=\"none\" style=\"width:50%;left:79%;top:44%;transform:translate3d(-50%,-50%,50px) rotate(0deg) scale(var(--hs)) scaleY(0.91);opacity:0.25;--o:0.25;--c:var(--lilac6)\" viewbox=\"0 0 100 100\" width=\"100\"><path d=\"M13.4722 14.9548C27.7804 -2.67845 49.7337 0.345336 67.4 8.41128C84.5927 16.261 100.585 31.1761 97.6499 53.388C94.6973 75.7326 75.1119 89.9688 55.8613 95.735C37.5404 101.223 18.5249 97.0492 9.47335 79.7998C-0.70101 60.4107 -1.5127 33.4221 13.4722 14.9548Z\"></path></svg><svg class=\"shape\" height=\"100\" preserveaspectratio=\"none\" style=\"width:32%;left:15%;top:78%;transform:translate3d(-50%,-50%,32px) rotate(0deg) scale(var(--hs)) scaleY(0.61);opacity:0.2;--o:0.2;--c:var(--lilac5)\" viewbox=\"0 0 100 100\" width=\"100\"><path d=\"M48.3671 4.00414C61.7855 2.7251 76.745 -1.97133 86.4625 9.80638C97.2181 22.8423 100.354 43.9553 96.2873 62.0843C92.4299 79.2819 80.463 91.9101 66.9118 96.9691C55.504 101.228 45.1731 91.3023 34.2907 85.2291C22.5778 78.6925 6.96447 76.7547 3.05352 61.3315C-1.02481 45.2483 7.40784 28.3849 16.8479 16.442C25.0359 6.08323 36.8209 5.10471 48.3671 4.00414Z\"></path></svg></div></art-pattern><span class=\"e3xbyqbe main e3xbyqb\"><div class=\"e3xbyqbf e3xbyqb\"><div class=\"e3xbyqb\">12 lessons | 1 hour</div><div class=\"e3xbyqb\">with <b class=\"e3xbyqbg e3xbyqb\">Zaydek Gualtieri</b></div></div><img alt=\"Zaydek Gualtieri\" class=\"e3xbyqbh e3xbyqb\" loading=\"lazy\" src=\"/avatars/zaydek/64\"/></span><span class=\"e3xbyqbi e3xbyqb\"><span class=\"e3xbyqbj e3xbyqb\">Intermediate</span><span class=\"status e3xbyqb\"></span></span></a>,\n",
       " <a class=\"card e3xbyqb\" href=\"/learn/vuex\" title=\"Learn Vuex\"><art-pattern class=\"e3xbyqbd e3xbyqb kyd29zbc pattern live\" style=\"--kyd29zd: var(--lilac3)\"><span class=\"heading\">Learn Vuex</span><div class=\"shapes\"><svg class=\"shape\" height=\"100\" preserveaspectratio=\"none\" style=\"width:32%;left:39%;top:55%;transform:translate3d(-50%,-50%,32px) rotate(0deg) scale(var(--hs)) scaleY(0.61);opacity:0.2;--o:0.2;--c:var(--white)\" viewbox=\"0 0 100 100\" width=\"100\"><path d=\"M48.3671 4.00414C61.7855 2.7251 76.745 -1.97133 86.4625 9.80638C97.2181 22.8423 100.354 43.9553 96.2873 62.0843C92.4299 79.2819 80.463 91.9101 66.9118 96.9691C55.504 101.228 45.1731 91.3023 34.2907 85.2291C22.5778 78.6925 6.96447 76.7547 3.05352 61.3315C-1.02481 45.2483 7.40784 28.3849 16.8479 16.442C25.0359 6.08323 36.8209 5.10471 48.3671 4.00414Z\"></path></svg><svg class=\"shape\" height=\"100\" preserveaspectratio=\"none\" style=\"width:48%;left:22%;top:26%;transform:translate3d(-50%,-50%,48px) rotate(0deg) scale(var(--hs)) scaleY(0.64);opacity:0.41;--o:0.41;--c:var(--white)\" viewbox=\"0 0 100 100\" width=\"100\"><path d=\"M13.4722 14.9548C27.7804 -2.67845 49.7337 0.345336 67.4 8.41128C84.5927 16.261 100.585 31.1761 97.6499 53.388C94.6973 75.7326 75.1119 89.9688 55.8613 95.735C37.5404 101.223 18.5249 97.0492 9.47335 79.7998C-0.70101 60.4107 -1.5127 33.4221 13.4722 14.9548Z\"></path></svg><svg class=\"shape\" height=\"100\" preserveaspectratio=\"none\" style=\"width:18%;left:47%;top:74%;transform:translate3d(-50%,-50%,18px) rotate(0deg) scale(var(--hs)) scaleY(0.84);opacity:0.38;--o:0.38;--c:var(--white)\" viewbox=\"0 0 100 100\" width=\"100\"><path d=\"M13.4722 14.9548C27.7804 -2.67845 49.7337 0.345336 67.4 8.41128C84.5927 16.261 100.585 31.1761 97.6499 53.388C94.6973 75.7326 75.1119 89.9688 55.8613 95.735C37.5404 101.223 18.5249 97.0492 9.47335 79.7998C-0.70101 60.4107 -1.5127 33.4221 13.4722 14.9548Z\"></path></svg><svg class=\"shape\" height=\"100\" preserveaspectratio=\"none\" style=\"width:18%;left:47%;top:94%;transform:translate3d(-50%,-50%,18px) rotate(0deg) scale(var(--hs)) scaleY(0.84);opacity:0.2;--o:0.2;--c:var(--white)\" viewbox=\"0 0 100 100\" width=\"100\"><path d=\"M13.4722 14.9548C27.7804 -2.67845 49.7337 0.345336 67.4 8.41128C84.5927 16.261 100.585 31.1761 97.6499 53.388C94.6973 75.7326 75.1119 89.9688 55.8613 95.735C37.5404 101.223 18.5249 97.0492 9.47335 79.7998C-0.70101 60.4107 -1.5127 33.4221 13.4722 14.9548Z\"></path></svg></div></art-pattern><span class=\"e3xbyqbe main e3xbyqb\"><div class=\"e3xbyqbf e3xbyqb\"><div class=\"e3xbyqb\">13 lessons | 58 min</div><div class=\"e3xbyqb\">with <b class=\"e3xbyqbg e3xbyqb\">Connor Lindsey</b></div></div><img alt=\"Connor Lindsey\" class=\"e3xbyqbh e3xbyqb\" loading=\"lazy\" src=\"/avatars/connorlindsey/64\"/></span><span class=\"e3xbyqbi e3xbyqb\"><span class=\"e3xbyqbj e3xbyqb\">Intermediate</span><span class=\"status e3xbyqb\"></span></span></a>,\n",
       " <a class=\"button white rounded d3tapub\" href=\"/topic/vue\">See all</a>,\n",
       " <a class=\"d3tapubag button white d3tapub\" href=\"https://discord.gg/mF6PcNU\" target=\"blank\">Enter chat</a>,\n",
       " <a class=\"d3tapub\" href=\"/c/cJpvbMUB\"><img alt=\"video\" class=\"polaroid d3tapubak d3tapub\" loading=\"lazy\" src=\"/static/art/about-video-cover.jpg\"/></a>,\n",
       " <a class=\"d3tapubba button white d3tapub\" href=\"https://twitter.com/sindreaars\" rel=\"noreferrer\" target=\"blank\">Say hi @sindreaars</a>,\n",
       " <a class=\"d3tapubbb button white d3tapub\" href=\"https://twitter.com/perborgen\" rel=\"noreferrer\" target=\"blank\">Say hi @perborgen</a>,\n",
       " <a class=\"logo p7g3yfkm p7g3yfk\" href=\"/\" title=\"home\"><app-logo class=\"p7g3yfkn p7g3yfk ycpjff\"><svg class=\"ycpjff ycpjffcd\" fill=\"none\" height=\"72\" viewbox=\"0 0 108 72\" width=\"108\" xmlns=\"http://www.w3.org/2000/svg\"><rect class=\"ycpjff\" height=\"20\" rx=\"10\" width=\"60\" x=\"48\"></rect><rect class=\"ycpjff\" height=\"20\" rx=\"10\" width=\"60\" x=\"25\" y=\"52\"></rect><rect class=\"ycpjff\" height=\"20\" rx=\"10\" width=\"36\" x=\"49\" y=\"26\"></rect><rect class=\"ycpjff\" height=\"20\" rx=\"10\" width=\"20\" y=\"52\"></rect></svg></app-logo></a>,\n",
       " <a class=\"offer p7g3yfkq p7g3yfk\" href=\"#join\">Go Pro!</a>,\n",
       " <a class=\"button text n864keb\" href=\"/allcourses\">All courses</a>,\n",
       " <a class=\"button text n864keb\" href=\"#sign-in\">Sign in</a>,\n",
       " <a class=\"n864kebe button text n864keb\" href=\"#sign-up\">Sign up</a>,\n",
       " <a class=\"button text n864kebg n864keb\" href=\"/allcourses\">All courses</a>,\n",
       " <a class=\"item n864keb\" href=\"/dashboard?tab=overview\">Dashboard</a>,\n",
       " <a class=\"item n864keb\" href=\"/discord/connect\" target=\"_blank\">Connect to Discord</a>,\n",
       " <a class=\"item n864kebj n864keb\" href=\"/allcourses\">Find a course</a>,\n",
       " <a class=\"item n864keb\" href=\"/mybilling\">Billing</a>,\n",
       " <a class=\"item n864keb\">Settings</a>,\n",
       " <a class=\"item n864keb\" href=\"/new\">New scrim</a>,\n",
       " <a class=\"item n864keb\" href=\"/auth/logout\">Sign out</a>,\n",
       " <a class=\"dqem6cbf dqem6cb\" href=\"/\">Home</a>,\n",
       " <a class=\"dqem6cbg dqem6cb\" data-icon=\"discord\" href=\"https://discord.gg/Bs6SAv7\" rel=\"noreferrer\" target=\"_blank\">Discord </a>,\n",
       " <a class=\"dqem6cbh dqem6cb\" data-icon=\"twitter\" href=\"https://twitter.com/scrimba\" rel=\"noreferrer\" target=\"_blank\">Twitter </a>,\n",
       " <a class=\"dqem6cbi dqem6cb\" data-icon=\"youtube\" href=\"https://www.youtube.com/channel/UCNW7HDseZb6N3nKUEP6uLag\" rel=\"noreferrer\" target=\"_blank\">YouTube </a>,\n",
       " <a class=\"dqem6cb\" href=\"https://scrimba.com/articles\" rel=\"noreferrer\">Blog</a>,\n",
       " <a class=\"dqem6cb\" href=\"https://scrimba.zendesk.com/hc/en-us\" rel=\"noreferrer\" target=\"_blank\">FAQ</a>,\n",
       " <a class=\"dqem6cb\" href=\"https://github.com/scrimba/community/blob/master/TERMS.md\" rel=\"noreferrer\" target=\"_blank\">Terms</a>,\n",
       " <a class=\"dqem6cb\" href=\"https://github.com/scrimba/community/blob/master/PRIVACY.md\" rel=\"noreferrer\" target=\"_blank\">Privacy</a>,\n",
       " <a class=\"dqem6cb\" href=\"/allcourses\">All courses </a>,\n",
       " <a class=\"dqem6cb\" href=\"/allcourses?level=0\">Intro courses</a>,\n",
       " <a class=\"dqem6cb\" href=\"/allcourses?q=javascript\">Learn JavaScript</a>,\n",
       " <a class=\"dqem6cb\" href=\"/allcourses?q=react\">Learn React</a>,\n",
       " <a class=\"dqem6cb\" href=\"/about\">About us</a>,\n",
       " <a class=\"dqem6cb\" href=\"https://github.com/scrimba/community/blob/master/README.md#contact-us\" rel=\"noreferrer\" target=\"_blank\">Contact us</a>,\n",
       " <a class=\"dqem6cb\" href=\"https://discord.gg/Bs6SAv7\" rel=\"noreferrer\" target=\"_blank\">Support chat</a>,\n",
       " <a class=\"dqem6cb\" href=\"/gifts\">Gift membership</a>,\n",
       " <a class=\"title dqem6cb\" href=\"http://imba.io/\" rel=\"noreferrer\" target=\"_blank\">Imba</a>]"
      ]
     },
     "execution_count": 37,
     "metadata": {},
     "output_type": "execute_result"
    }
   ],
   "source": [
    "def scrape_links(url):\n",
    "    response = requests.get(url)\n",
    "    soup = BeautifulSoup(response.text)\n",
    "    a_tags = soup.find_all('a')\n",
    "    print(f'There are {len(a_tags)} a tags in the {url} link')\n",
    "    return a_tags\n",
    "\n",
    "scrape_links(url)"
   ]
  },
  {
   "cell_type": "markdown",
   "metadata": {},
   "source": [
    "# Exercise 6\n",
    "\n",
    "Create a generator function that takes an argument `n` (total number of squares to generator) returns the next square each time it yields a value. Demonstrate that it works."
   ]
  },
  {
   "cell_type": "code",
   "execution_count": 50,
   "metadata": {},
   "outputs": [],
   "source": [
    "def square_generator(n):\n",
    "    for i in range(n):\n",
    "        yield i ** 2\n",
    "        \n",
    "gen = square_generator(5)"
   ]
  },
  {
   "cell_type": "code",
   "execution_count": 51,
   "metadata": {},
   "outputs": [
    {
     "data": {
      "text/plain": [
       "0"
      ]
     },
     "execution_count": 51,
     "metadata": {},
     "output_type": "execute_result"
    }
   ],
   "source": [
    "next(gen)"
   ]
  },
  {
   "cell_type": "code",
   "execution_count": 52,
   "metadata": {},
   "outputs": [
    {
     "data": {
      "text/plain": [
       "1"
      ]
     },
     "execution_count": 52,
     "metadata": {},
     "output_type": "execute_result"
    }
   ],
   "source": [
    "next(gen)"
   ]
  },
  {
   "cell_type": "code",
   "execution_count": 53,
   "metadata": {},
   "outputs": [
    {
     "data": {
      "text/plain": [
       "4"
      ]
     },
     "execution_count": 53,
     "metadata": {},
     "output_type": "execute_result"
    }
   ],
   "source": [
    "next(gen)"
   ]
  },
  {
   "cell_type": "code",
   "execution_count": 54,
   "metadata": {},
   "outputs": [
    {
     "data": {
      "text/plain": [
       "9"
      ]
     },
     "execution_count": 54,
     "metadata": {},
     "output_type": "execute_result"
    }
   ],
   "source": [
    "next(gen)  #and so on"
   ]
  },
  {
   "cell_type": "markdown",
   "metadata": {},
   "source": [
    "# Exercise 7\n",
    "\n",
    "Look up a standard library module you've never used. Create a function that utilizes that library."
   ]
  },
  {
   "cell_type": "code",
   "execution_count": 55,
   "metadata": {},
   "outputs": [
    {
     "name": "stdout",
     "output_type": "stream",
     "text": [
      "This is my pickled object:\n",
      "b'\\x80\\x04\\x95!\\x00\\x00\\x00\\x00\\x00\\x00\\x00\\x8c\\x08__main__\\x94\\x8c\\rexample_class\\x94\\x93\\x94)\\x81\\x94.'\n",
      "\n",
      "This is a_dict of the unpickled object:\n",
      "{'first': 'a', 'second': 2, 'third': [1, 2, 3]}\n",
      "\n"
     ]
    }
   ],
   "source": [
    "#Serialization in Python\n",
    "#The serialization process is a way to convert a data structure into a linear form that can be stored or transmitted over a \n",
    "#network. Can be done by using the Pickle module to serialize and deserialize objects.\n",
    "\n",
    "#The example below shows how you can instantiate the class and pickle the instance to get a plain string. After pickling the\n",
    "#class, you can change the value of its attributes without affecting the pickled string. You can then unpickle the pickled \n",
    "#string in another variable, restoring an exact copy of the previously pickled class\n",
    "\n",
    "# pickling.py\n",
    "import pickle\n",
    "\n",
    "class example_class:\n",
    "    a_number = 35\n",
    "    a_string = \"hey\"\n",
    "    a_list = [1, 2, 3]\n",
    "    a_dict = {\"first\": \"a\", \"second\": 2, \"third\": [1, 2, 3]}\n",
    "    a_tuple = (22, 23)\n",
    "\n",
    "my_object = example_class()\n",
    "\n",
    "my_pickled_object = pickle.dumps(my_object)  # Pickling the object\n",
    "print(f\"This is my pickled object:\\n{my_pickled_object}\\n\")\n",
    "\n",
    "my_object.a_dict = None\n",
    "\n",
    "my_unpickled_object = pickle.loads(my_pickled_object)  # Unpickling the object\n",
    "print(\n",
    "    f\"This is a_dict of the unpickled object:\\n{my_unpickled_object.a_dict}\\n\")"
   ]
  },
  {
   "cell_type": "markdown",
   "metadata": {},
   "source": [
    "# Exercise 8\n",
    "\n",
    "Create a binary tree from scratch. It must have two methods, one that prints the tree and another that allows inserting. Inserting into this binary tree can be done using the method we covered in class (adding it to the left or right of nodes depending on comparisons)."
   ]
  },
  {
   "cell_type": "code",
   "execution_count": 58,
   "metadata": {},
   "outputs": [
    {
     "name": "stdout",
     "output_type": "stream",
     "text": [
      "left\n",
      "3\n",
      "right\n",
      "4\n",
      "5\n",
      "right\n",
      "7\n",
      "right\n",
      "8\n"
     ]
    }
   ],
   "source": [
    "class BinaryTree:\n",
    "    def __init__(self, data):\n",
    "        self.left = None\n",
    "        self.right = None\n",
    "        self.data = data\n",
    "\n",
    "    def add(self, data):\n",
    "        if data > self.data:\n",
    "            if self.right:\n",
    "                self.right.add(data)\n",
    "            else:\n",
    "                self.right = BinaryTree(data)\n",
    "        if data < self.data:\n",
    "            if self.left:\n",
    "                self.left.add(data)\n",
    "            else:\n",
    "                self.left = BinaryTree(data)\n",
    "        \n",
    "    def print(self):\n",
    "        if self.left:\n",
    "            print('left')\n",
    "            self.left.print()\n",
    "        print(self.data)\n",
    "        if self.right:\n",
    "            print('right')\n",
    "            self.right.print()  \n",
    "            \n",
    "bt = BinaryTree(5)\n",
    "bt.add(7)\n",
    "bt.add(8)\n",
    "bt.add(3)\n",
    "bt.add(4)\n",
    "bt.print()"
   ]
  },
  {
   "cell_type": "markdown",
   "metadata": {},
   "source": [
    "# Exercise 9\n",
    "\n",
    "Create a decorator function that times a function call. Use it to time the function below."
   ]
  },
  {
   "cell_type": "code",
   "execution_count": 80,
   "metadata": {},
   "outputs": [],
   "source": [
    "from time import time\n",
    "  \n",
    "def timer_func(func):\n",
    "    # This function shows the execution time of \n",
    "    # the function object passed\n",
    "    def wrap_func(*args, **kwargs):\n",
    "        t1 = time()\n",
    "        result = func(*args, **kwargs)\n",
    "        t2 = time()\n",
    "        print(f'Function {func.__name__} executed in {(t2-t1):.8f}s')\n",
    "        print(f'{t2-t1}')\n",
    "        return result\n",
    "    return wrap_func"
   ]
  },
  {
   "cell_type": "code",
   "execution_count": 81,
   "metadata": {},
   "outputs": [
    {
     "name": "stdout",
     "output_type": "stream",
     "text": [
      "Function func executed in 0.00000000s\n",
      "0.0\n"
     ]
    },
    {
     "data": {
      "text/plain": [
       "100"
      ]
     },
     "execution_count": 81,
     "metadata": {},
     "output_type": "execute_result"
    }
   ],
   "source": [
    "@timer_func\n",
    "def func(n):\n",
    "    return (n**2)\n",
    "\n",
    "func(10)"
   ]
  },
  {
   "cell_type": "markdown",
   "metadata": {},
   "source": [
    "# Exercise 10\n",
    "\n",
    "Show an example of currying functions: two regular functions and a third that uses the previous two."
   ]
  },
  {
   "cell_type": "code",
   "execution_count": 89,
   "metadata": {},
   "outputs": [
    {
     "data": {
      "text/plain": [
       "5"
      ]
     },
     "execution_count": 89,
     "metadata": {},
     "output_type": "execute_result"
    }
   ],
   "source": [
    "def multiply(a,b):\n",
    "    return a*b\n",
    "\n",
    "def add(a,b):\n",
    "    return a+b\n",
    "\n",
    "multiply(2,3)\n",
    "add(2,3)"
   ]
  },
  {
   "cell_type": "code",
   "execution_count": 94,
   "metadata": {},
   "outputs": [
    {
     "ename": "TypeError",
     "evalue": "add() missing 1 required positional argument: 'b'",
     "output_type": "error",
     "traceback": [
      "\u001b[1;31m---------------------------------------------------------------------------\u001b[0m",
      "\u001b[1;31mTypeError\u001b[0m                                 Traceback (most recent call last)",
      "\u001b[1;32m<ipython-input-94-5ccc018b7049>\u001b[0m in \u001b[0;36m<module>\u001b[1;34m\u001b[0m\n\u001b[0;32m      3\u001b[0m     \u001b[1;32mreturn\u001b[0m \u001b[0mx\u001b[0m\u001b[1;33m[\u001b[0m\u001b[1;36m0\u001b[0m\u001b[1;33m]\u001b[0m\u001b[1;33m\u001b[0m\u001b[1;33m\u001b[0m\u001b[0m\n\u001b[0;32m      4\u001b[0m \u001b[1;33m\u001b[0m\u001b[0m\n\u001b[1;32m----> 5\u001b[1;33m \u001b[0mdo_both\u001b[0m\u001b[1;33m(\u001b[0m\u001b[1;36m1\u001b[0m\u001b[1;33m,\u001b[0m\u001b[1;36m2\u001b[0m\u001b[1;33m)\u001b[0m\u001b[1;33m\u001b[0m\u001b[1;33m\u001b[0m\u001b[0m\n\u001b[0m",
      "\u001b[1;32m<ipython-input-94-5ccc018b7049>\u001b[0m in \u001b[0;36mdo_both\u001b[1;34m(a, b)\u001b[0m\n\u001b[0;32m      1\u001b[0m \u001b[1;32mdef\u001b[0m \u001b[0mdo_both\u001b[0m\u001b[1;33m(\u001b[0m\u001b[0ma\u001b[0m\u001b[1;33m,\u001b[0m\u001b[0mb\u001b[0m\u001b[1;33m)\u001b[0m\u001b[1;33m:\u001b[0m\u001b[1;33m\u001b[0m\u001b[1;33m\u001b[0m\u001b[0m\n\u001b[1;32m----> 2\u001b[1;33m     \u001b[0mx\u001b[0m \u001b[1;33m=\u001b[0m \u001b[0madd\u001b[0m\u001b[1;33m(\u001b[0m\u001b[0mmultiply\u001b[0m\u001b[1;33m(\u001b[0m\u001b[0ma\u001b[0m\u001b[1;33m,\u001b[0m\u001b[0mb\u001b[0m\u001b[1;33m)\u001b[0m\u001b[1;33m)\u001b[0m\u001b[1;33m\u001b[0m\u001b[1;33m\u001b[0m\u001b[0m\n\u001b[0m\u001b[0;32m      3\u001b[0m     \u001b[1;32mreturn\u001b[0m \u001b[0mx\u001b[0m\u001b[1;33m[\u001b[0m\u001b[1;36m0\u001b[0m\u001b[1;33m]\u001b[0m\u001b[1;33m\u001b[0m\u001b[1;33m\u001b[0m\u001b[0m\n\u001b[0;32m      4\u001b[0m \u001b[1;33m\u001b[0m\u001b[0m\n\u001b[0;32m      5\u001b[0m \u001b[0mdo_both\u001b[0m\u001b[1;33m(\u001b[0m\u001b[1;36m1\u001b[0m\u001b[1;33m,\u001b[0m\u001b[1;36m2\u001b[0m\u001b[1;33m)\u001b[0m\u001b[1;33m\u001b[0m\u001b[1;33m\u001b[0m\u001b[0m\n",
      "\u001b[1;31mTypeError\u001b[0m: add() missing 1 required positional argument: 'b'"
     ]
    }
   ],
   "source": [
    "def do_both(a,b):\n",
    "    x = add(multiply(a,b))\n",
    "    return x\n",
    "\n",
    "do_both(1,2)"
   ]
  },
  {
   "cell_type": "markdown",
   "metadata": {},
   "source": [
    "# Exercise 11\n",
    "\n",
    "What is a downside to functional programming? Explain your answer.\n",
    "\n",
    "If this question is difficult, consider what we can do with methods of a class that isn't easily possible with functions."
   ]
  },
  {
   "cell_type": "markdown",
   "metadata": {},
   "source": [
    "Answer:   \n",
    "\n",
    "Writing a pure function is fairly easy, especially if you’re into math and algebra. Still, combining those and „gluing“ them together to make a functional application is where it gets hard. It requires a lot of knowledge and skill, so it may take some time to master.    \n",
    "\n",
    "The most complicated concept in functional programming is probably the concept of recursion. You won’t be able to use loops with functional languages, so recursion is the only method you have for iteration. It’s a bit complicated and it may feel a bit unnatural for some people. It takes a lot of effort to master, and it’s pretty counter-intuitive.    \n",
    "\n",
    "Because of its fairly complex mathematical terminology, many people avoid getting into FP languages.  \n"
   ]
  },
  {
   "cell_type": "markdown",
   "metadata": {},
   "source": [
    "# Exercise 12\n",
    "\n",
    "Explain how `staticmethod` works and when we should use it."
   ]
  },
  {
   "cell_type": "markdown",
   "metadata": {},
   "source": [
    "It is available as a built-in function in Python and allows you to turn a regular method into the static. In other words, you can create a callable class using the static method and use it with some restrictions. It helps developers write code in a safe architectural way to prevent conflicts in the code.   \n",
    "It is a method which does not have access to the class state. In other words, the method confines to itself and cannot change the properties of the class instance without any workaround."
   ]
  },
  {
   "cell_type": "markdown",
   "metadata": {},
   "source": [
    "# Exercise 13\n",
    "\n",
    "Your boss has tasked you with making a simple bokeh dashboard to display some data. What python web framework would you use and why? What are the limitations of that framework? What does it provide as benefits? Explain your thought process."
   ]
  },
  {
   "cell_type": "markdown",
   "metadata": {},
   "source": [
    "For the framework I would use django. Django allows to display interactive charts in any view by adding the javascript links in the head of the base.html. All we have to do is:\n",
    "\n",
    "- Add js links to the 'head' of the base.html file;\n",
    "- Create a script that created the figure;\n",
    "- Import the script in the views.py file;\n",
    "- Create a view that uses that script and splits it using the components method from bokeh;\n",
    "- Create a url for that view;\n",
    "- Create an html that inherits from base.html and displays the two figure components."
   ]
  },
  {
   "cell_type": "markdown",
   "metadata": {},
   "source": [
    "# Exercise 14\n",
    "\n",
    "What would be a reason to not use python for a project?"
   ]
  },
  {
   "cell_type": "markdown",
   "metadata": {},
   "source": [
    "I know that Python isn't the fastest language, so if we are looking for speed we may have to opt in for a different low-level language. Python takes place with the help of an interpreter instead of the compiler as we have seen that Python code is executed line by line, which causes it to slow down.   \n",
    "Memory Consumption: For any memory intensive tasks Python is not a good choice. That is why it is not used for that purpose. Python’s memory consumption is also high, due to the flexibility of the data types."
   ]
  },
  {
   "cell_type": "markdown",
   "metadata": {},
   "source": [
    "# Exercise 15\n",
    "\n",
    "You are tasked with building a data pipeline that scrapes data, stores it in sql, processes it in numpy/pandas (think exploratory analysis and data cleanup) and uses the data in a K-Means clustering. Write out the steps you would take to complete this task, what the structure of your project would look like and what considerations should be made (e.g. what might become an issue, what decisions must we make, what steps would need to be done first, etc). \n",
    "\n"
   ]
  },
  {
   "cell_type": "markdown",
   "metadata": {},
   "source": [
    "I would most likely use Flask for this project.\n",
    "\n",
    "- The env - I would need to crete a python enviroument and activate it before I start working on the project\n",
    "- Create a script that scrapes the data and returns the cleaned list with each sublist as the next row (scraper.py)\n",
    "- In the app.py I would create a class that uses SQLAlchemy that would be the structure for the tables in the dataframe\n",
    "- In import_script.py, I would parse to the scraped data and add each sublist to the table.\n",
    "- Finally I would parse that data in ml.py using numpy, sklearn library to built a machine learning model.\n",
    "- Once the model it's built I could display the results in a view declared in app.py and created the template for the view using the @route\n",
    "- the requirements.txt is very important because it allows us to download the libraries once and next time just activate the enviroment.\n",
    "\n",
    "\n",
    "\n",
    "\n",
    "\n",
    "\n",
    "flask_app\n",
    "├── env\n",
    "│\n",
    "│\n",
    "├── static\n",
    "│   ├── style.css\n",
    "│   └── math.py\n",
    "│\n",
    "├── templates\n",
    "│   ├── base.html\n",
    "│   └── index.html\n",
    "│\n",
    "├── app.py\n",
    "│   \n",
    "├── scraper.py\n",
    "│\n",
    "├── import_script.py\n",
    "│\n",
    "├── ml.py│\n",
    "│\n",
    "│\n",
    "└── requirements.txt"
   ]
  }
 ],
 "metadata": {
  "kernelspec": {
   "display_name": "Python 3",
   "language": "python",
   "name": "python3"
  },
  "language_info": {
   "codemirror_mode": {
    "name": "ipython",
    "version": 3
   },
   "file_extension": ".py",
   "mimetype": "text/x-python",
   "name": "python",
   "nbconvert_exporter": "python",
   "pygments_lexer": "ipython3",
   "version": "3.8.3"
  }
 },
 "nbformat": 4,
 "nbformat_minor": 5
}
