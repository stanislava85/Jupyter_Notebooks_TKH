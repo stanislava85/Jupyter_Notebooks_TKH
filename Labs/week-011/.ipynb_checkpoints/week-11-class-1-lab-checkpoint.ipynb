{
 "cells": [
  {
   "cell_type": "markdown",
   "metadata": {},
   "source": [
    "# Week 11 Lab 1\n"
   ]
  },
  {
   "cell_type": "markdown",
   "metadata": {
    "jupyter": {
     "source_hidden": true
    }
   },
   "source": [
    "# Exercise 1\n",
    "\n",
    "We'd like to create a REST API for our Data Science students.\n",
    "\n",
    "Create a flask application that has three views that each take one of the following methods: 'GET', 'POST', 'DELETE'. Set up a similar REST API, storing your data to an dictionary. Your API should allow `GET` requests that return the dictionary, allow `POST` requests that add students and `DELETE` requests that remove students from the dictionary.\n",
    "\n",
    "Add your code to it's own github repo and submit the link to the repo."
   ]
  },
  {
   "cell_type": "code",
   "execution_count": null,
   "metadata": {},
   "outputs": [],
   "source": [
    "from flask import Flask, request, jsonify\n",
    "\n",
    "app = Flask(__name__)\n",
    "\n",
    "d = {}\n",
    "\n",
    "@app.route('/', methods=['GET'])\n",
    "def get_records():\n",
    "    return jsonify(d)\n",
    "\n",
    "@app.route('/', methods=['POST'])\n",
    "def create_record():\n",
    "    added = {}\n",
    "    for k,v in request.args.items():\n",
    "        if not k in d.keys():\n",
    "            added[k] = v\n",
    "            d[k] = v\n",
    "    return jsonify({\"added\": added, \"current\": d})\n",
    "\n",
    "@app.route('/', methods=['DELETE'])\n",
    "def delete_record():\n",
    "    deleted = {}\n",
    "    for k,v in request.args.items():\n",
    "        try:\n",
    "            d.pop(k)\n",
    "            deleted[k] = v\n",
    "        except:\n",
    "            continue\n",
    "    return jsonify({\"deleted\": deleted, \"current\": d})\n",
    "                \n",
    "if __name__ == '__main__':\n",
    "    app.run(debug=True)\n",
    "    \n",
    "#code also in flask_api.py"
   ]
  },
  {
   "cell_type": "code",
   "execution_count": 2,
   "metadata": {},
   "outputs": [
    {
     "data": {
      "text/plain": [
       "{}"
      ]
     },
     "execution_count": 2,
     "metadata": {},
     "output_type": "execute_result"
    }
   ],
   "source": [
    "# GET request\n",
    "import requests\n",
    "import json\n",
    "r = requests.get(\"http://127.0.0.1:5000/\")\n",
    "json_resp = json.loads(r.text)\n",
    "json_resp"
   ]
  },
  {
   "cell_type": "code",
   "execution_count": 3,
   "metadata": {},
   "outputs": [
    {
     "data": {
      "text/plain": [
       "{'added': {'1': 'Stanislava H', '2': 'Juan P', '3': 'Cariza M'},\n",
       " 'current': {'1': 'Stanislava H', '2': 'Juan P', '3': 'Cariza M'}}"
      ]
     },
     "execution_count": 3,
     "metadata": {},
     "output_type": "execute_result"
    }
   ],
   "source": [
    "# POST request\n",
    "\n",
    "import requests\n",
    "import json\n",
    "data = {\"1\": \"Stanislava H\", \"2\": \"Juan P\", \"3\":\"Cariza M\"}\n",
    "headers = {\"Content-Type\": \"application/json\"}\n",
    "r = requests.post(\"http://127.0.0.1:5000/\", params=data, headers=headers)\n",
    "json_resp = json.loads(r.text)\n",
    "json_resp"
   ]
  },
  {
   "cell_type": "code",
   "execution_count": 5,
   "metadata": {},
   "outputs": [
    {
     "data": {
      "text/plain": [
       "{'current': {'2': 'Juan P', '3': 'Cariza M'}, 'deleted': {'1': 'Stanislava H'}}"
      ]
     },
     "execution_count": 5,
     "metadata": {},
     "output_type": "execute_result"
    }
   ],
   "source": [
    "# DELETE request\n",
    "import requests\n",
    "import json\n",
    "data = {\"1\": \"Stanislava H\"}\n",
    "headers = {\"Content-Type\": \"application/json\"}\n",
    "r = requests.delete(\"http://127.0.0.1:5000/\", params=data, headers=headers)\n",
    "json_resp = json.loads(r.text)\n",
    "json_resp"
   ]
  },
  {
   "cell_type": "markdown",
   "metadata": {},
   "source": [
    "# Exercise 2\n",
    "\n",
    "Work on your project deliverable due Wednesday. If stuck consider some of these options:  \n",
    "* Social media websites (hackernews, reddit, easier to scrape clones like bibliogram.art and nitter.net)\n",
    "* Data from wikipedia (like we did with the covid data project)\n",
    "* Sports data (basketball-reference.com, baseball-reference.com, pro-football-reference.com)\n",
    "* stock or crypto data (coinmarketcap.com, crypto exchange API's, yahoo finance, nasdaq)"
   ]
  },
  {
   "cell_type": "code",
   "execution_count": null,
   "metadata": {},
   "outputs": [],
   "source": [
    "#working on it"
   ]
  }
 ],
 "metadata": {
  "kernelspec": {
   "display_name": "Python 3",
   "language": "python",
   "name": "python3"
  },
  "language_info": {
   "codemirror_mode": {
    "name": "ipython",
    "version": 3
   },
   "file_extension": ".py",
   "mimetype": "text/x-python",
   "name": "python",
   "nbconvert_exporter": "python",
   "pygments_lexer": "ipython3",
   "version": "3.8.3"
  }
 },
 "nbformat": 4,
 "nbformat_minor": 4
}
