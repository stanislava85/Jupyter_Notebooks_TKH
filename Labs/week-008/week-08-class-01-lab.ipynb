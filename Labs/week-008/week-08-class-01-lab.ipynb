{
 "cells": [
  {
   "cell_type": "markdown",
   "metadata": {},
   "source": [
    "<div style=\"background: #000;\n",
    "            color: #FFF;\n",
    "            margin: 0px;\n",
    "                padding: 10px 0px 20px 0px;\n",
    "            text-align: center; \n",
    "                \">\n",
    "    <h1>Week 8 - Class 1 - Lab</h1>\n",
    "</div>\n"
   ]
  },
  {
   "cell_type": "markdown",
   "metadata": {},
   "source": [
    "# Question 1:\n",
    "\n",
    "In your own words, describe what happens when you enter a url and press enter in your browser.\n",
    "\n",
    "(short answer is fine)"
   ]
  },
  {
   "cell_type": "raw",
   "metadata": {},
   "source": [
    "When I type a url address into my browser, first The browser looks for the IP address of the domain name in the DNS.\n",
    "Then the DNS checks the Browser Cache.\n",
    "If the corresponding IP is not there then the DNS checks the OS cache. \n",
    "If not there, the next stop tp check is my router's cache.\n",
    "If not there, then the ISP cache gets checked. If not found here also, then ISP’s DNS recursive search is done. In \"DNS recursive search\", a DNS server initiates a DNS query that communicates with several other DNS servers to find the IP address.\n",
    "When my browser receives the IP address, it will build a connection between the browser and the server using the internet protocol. The most common protocol used is TCP protocol. The connection is established using a three-way handshake.\n",
    "Aftr the connection is established, the content of the webpage is displayed in my browser."
   ]
  },
  {
   "cell_type": "markdown",
   "metadata": {},
   "source": [
    "# Exercise 1\n",
    "\n",
    "Create a function that takes a url, creates a `GET` request, executes it and then returns the content of the webpage."
   ]
  },
  {
   "cell_type": "code",
   "execution_count": null,
   "metadata": {},
   "outputs": [],
   "source": [
    "import requests"
   ]
  },
  {
   "cell_type": "code",
   "execution_count": null,
   "metadata": {},
   "outputs": [],
   "source": [
    "req_1 = requests.get(\"https://www.vote.org/\")"
   ]
  },
  {
   "cell_type": "code",
   "execution_count": null,
   "metadata": {},
   "outputs": [],
   "source": [
    "req_1.status_code"
   ]
  },
  {
   "cell_type": "code",
   "execution_count": null,
   "metadata": {},
   "outputs": [],
   "source": [
    "req_1.text"
   ]
  },
  {
   "cell_type": "markdown",
   "metadata": {},
   "source": [
    "# Exercise 2\n",
    "\n",
    "Create a function that takes two arguments (the content of a webpage and a html tag) and returns a list of all those tags from the webpage."
   ]
  },
  {
   "cell_type": "code",
   "execution_count": null,
   "metadata": {},
   "outputs": [],
   "source": [
    "import requests"
   ]
  },
  {
   "cell_type": "code",
   "execution_count": null,
   "metadata": {},
   "outputs": [],
   "source": [
    "def func1(content, html):\n",
    "    l = []\n",
    "    for html in content:\n",
    "        l.append(html)\n",
    "        return l\n",
    "    \n",
    "func1(req_1.text, '<html>')"
   ]
  },
  {
   "cell_type": "code",
   "execution_count": null,
   "metadata": {},
   "outputs": [],
   "source": [
    "req_1.text"
   ]
  },
  {
   "cell_type": "code",
   "execution_count": null,
   "metadata": {},
   "outputs": [],
   "source": [
    "import bs4"
   ]
  },
  {
   "cell_type": "code",
   "execution_count": null,
   "metadata": {},
   "outputs": [],
   "source": [
    "soup = bs4.BeautifulSoup(req_1.text)"
   ]
  },
  {
   "cell_type": "code",
   "execution_count": null,
   "metadata": {},
   "outputs": [],
   "source": [
    "soup.findAll('html')"
   ]
  },
  {
   "cell_type": "markdown",
   "metadata": {},
   "source": [
    "# Exercise 3\n",
    "\n",
    "Create a class called `Bot` that stores attributes `url`, and the methods from the previous exercises. Alter the methods to store attributes such as `status_code`, `headers` and `content` when the request is executed. Show that we're able to use this class to create instances of a bot that will scrape a website for data."
   ]
  },
  {
   "cell_type": "code",
   "execution_count": null,
   "metadata": {},
   "outputs": [],
   "source": [
    "import requests\n",
    "\n",
    "class Bot:\n",
    "    def __init__(self, url):\n",
    "        self.url = url\n",
    "    \n",
    "    def get(self):\n",
    "        return self.requests.get\n",
    "    \n",
    "    def status(self):\n",
    "        return self.status\n",
    "    \n",
    "    def headers(self):\n",
    "        return self.headers\n",
    "    \n",
    "    def content(self):\n",
    "        return self.text\n",
    "    \n",
    "a = Bot('https://www.vote.org/')\n",
    "a.content"
   ]
  },
  {
   "cell_type": "code",
   "execution_count": null,
   "metadata": {},
   "outputs": [],
   "source": []
  }
 ],
 "metadata": {
  "kernelspec": {
   "display_name": "Python 3",
   "language": "python",
   "name": "python3"
  },
  "language_info": {
   "codemirror_mode": {
    "name": "ipython",
    "version": 3
   },
   "file_extension": ".py",
   "mimetype": "text/x-python",
   "name": "python",
   "nbconvert_exporter": "python",
   "pygments_lexer": "ipython3",
   "version": "3.8.3"
  }
 },
 "nbformat": 4,
 "nbformat_minor": 4
}
