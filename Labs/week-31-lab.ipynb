{
 "cells": [
  {
   "cell_type": "markdown",
   "metadata": {},
   "source": [
    "<div style=\"background: #000;\n",
    "            color: #FFF;\n",
    "            margin: 0px;\n",
    "            margin-bottom: 10px;\n",
    "            padding: 10px 0px 20px 0px;\n",
    "            text-align: center; \">\n",
    "    <h1>Week 31 Lab</h1> \n",
    "</div>\n"
   ]
  },
  {
   "cell_type": "markdown",
   "metadata": {},
   "source": [
    "# Part 1 - Open Ended Questions\n",
    "\n",
    "### 1. What is dimensionality reduction? Why might we use it?"
   ]
  },
  {
   "cell_type": "markdown",
   "metadata": {},
   "source": [
    "Dimensionality reduction is the process of reducing the number of random variables under consideration, by obtaining a set of principal variables. It can be divided into feature selection and feature extraction.   \n",
    "Why might w use it?   \n",
    "In machine learning classification problems, there are often too many factors on the basis of which the final classification is done. These factors are basically variables called features. The higher the number of features, the harder it gets to visualize the training set and then work on it. Sometimes, most of these features are correlated, and hence redundant. This is where dimensionality reduction algorithms come into play."
   ]
  },
  {
   "cell_type": "markdown",
   "metadata": {},
   "source": [
    "### 2. What is Principal Component Analysis? In your own words."
   ]
  },
  {
   "cell_type": "markdown",
   "metadata": {},
   "source": [
    "Principal component analysis, or PCA, is a statistical procedure that allows you to summarize the information content in large data tables by means of a smaller set of “summary indices” that can be more easily visualized and analyzed."
   ]
  },
  {
   "cell_type": "markdown",
   "metadata": {},
   "source": [
    "### 3. What is a perceptron? Explain how it works (conceptually). "
   ]
  },
  {
   "cell_type": "markdown",
   "metadata": {},
   "source": [
    "A single-layer perceptron is the basic unit of a neural network. A perceptron consists of input values, weights and a bias, a weighted sum and activation function.    \n",
    "A perceptron works by taking in some numerical inputs along with what is known as weights and a bias. It then multiplies these inputs with the respective weights(this is known as the weighted sum). These products are then added together along with the bias. The activation function takes the weighted sum and the bias as inputs and returns a final output."
   ]
  },
  {
   "cell_type": "markdown",
   "metadata": {},
   "source": [
    "### 4. What is the `inertia_` attribute of a `KMeans` clustering object from sklearn? What is another name for it and what is it used to describe in K Means clustering? "
   ]
  },
  {
   "cell_type": "markdown",
   "metadata": {},
   "source": [
    "The KMeans algorithm clusters data by trying to separate samples in n groups of equal variance, minimizing a criterion known as the inertia or within-cluster sum-of-squares. The K-means algorithm aims to choose centroids that minimise the inertia, or within-cluster sum-of-squares criterion.    \n",
    "Inertia can be recognized as a measure of how internally coherent clusters are. It suffers from various drawbacks.\n"
   ]
  },
  {
   "cell_type": "markdown",
   "metadata": {},
   "source": [
    "### 5. What is the difference between classification and clustering?"
   ]
  },
  {
   "cell_type": "markdown",
   "metadata": {},
   "source": [
    "The key difference between clustering and classification is that clustering is an unsupervised learning technique that groups similar instances on the basis of features whereas classification is a supervised learning technique that assigns predefined tags to instances on the basis of features."
   ]
  },
  {
   "cell_type": "markdown",
   "metadata": {},
   "source": [
    "### 6. What is the curse of dimensionality? Try to include both how it applies to dimensionality reduction and how it applies to model performance."
   ]
  },
  {
   "cell_type": "markdown",
   "metadata": {},
   "source": [
    "variance vs bias trade off:   \n",
    "- increasing features, inreases variance because also picks up noise (not just signals)\n",
    "- decreasing features increases bias, cannot catch the signals well and predict\n",
    "\n",
    "The curse of dimentionality - it all ties to the variance vs bias trade off. As we add more dimentions this brings more issues to our model performance, on the other hand if we reduce the dimentions we may not get the right predictions from our model."
   ]
  },
  {
   "cell_type": "markdown",
   "metadata": {},
   "source": [
    "# Part 2 - Interview Questions"
   ]
  },
  {
   "cell_type": "markdown",
   "metadata": {},
   "source": [
    "### Exercise 1.\n",
    "\n",
    "```\n",
    "Table: Customers\n",
    "\n",
    "+---------------------+---------+\n",
    "| Column Name         | Type    |\n",
    "+---------------------+---------+\n",
    "| customer_id         | int     |\n",
    "| customer_name       | varchar |\n",
    "+---------------------+---------+\n",
    "customer_id is the primary key for this table.\n",
    "customer_name is the name of the customer.\n",
    "\n",
    " \n",
    "\n",
    "Table: Orders\n",
    "\n",
    "+---------------+---------+\n",
    "| Column Name   | Type    |\n",
    "+---------------+---------+\n",
    "| order_id      | int     |\n",
    "| customer_id   | int     |\n",
    "| product_name  | varchar |\n",
    "+---------------+---------+\n",
    "order_id is the primary key for this table.\n",
    "customer_id is the id of the customer who bought the product \"product_name\".\n",
    "```\n",
    "\n",
    "Write an SQL query to report the customer_id and customer_name of customers who bought products \"A\", \"B\" but did not buy the product \"C\" since we want to recommend them buy this product.\n",
    "\n",
    "Return the result table ordered by customer_id.\n",
    "\n",
    "The query result format is in the following example.\n",
    "\n",
    " \n",
    "```\n",
    "Customers table:\n",
    "+-------------+---------------+\n",
    "| customer_id | customer_name |\n",
    "+-------------+---------------+\n",
    "| 1           | Daniel        |\n",
    "| 2           | Diana         |\n",
    "| 3           | Elizabeth     |\n",
    "| 4           | Jhon          |\n",
    "+-------------+---------------+\n",
    "\n",
    "Orders table:\n",
    "+------------+--------------+---------------+\n",
    "| order_id   | customer_id  | product_name  |\n",
    "+------------+--------------+---------------+\n",
    "| 10         |     1        |     A         |\n",
    "| 20         |     1        |     B         |\n",
    "| 30         |     1        |     D         |\n",
    "| 40         |     1        |     C         |\n",
    "| 50         |     2        |     A         |\n",
    "| 60         |     3        |     A         |\n",
    "| 70         |     3        |     B         |\n",
    "| 80         |     3        |     D         |\n",
    "| 90         |     4        |     C         |\n",
    "+------------+--------------+---------------+\n",
    "\n",
    "Result table:\n",
    "+-------------+---------------+\n",
    "| customer_id | customer_name |\n",
    "+-------------+---------------+\n",
    "| 3           | Elizabeth     |\n",
    "+-------------+---------------+\n",
    "Only the customer_id with id 3 bought the product A and B but not the product C.\n",
    "```"
   ]
  },
  {
   "cell_type": "code",
   "execution_count": 1,
   "metadata": {},
   "outputs": [],
   "source": [
    "import sqlite3\n",
    "\n",
    "sql_commands = \\\n",
    "\"\"\"\n",
    "\n",
    "DROP TABLE IF EXISTS Customers;\n",
    "DROP TABLE IF EXISTS Orders;\n",
    "\n",
    "CREATE TABLE Customers (\n",
    " customer_id INTEGER NOT NULL PRIMARY KEY,\n",
    " customer_name NVARCHAR(30)\n",
    ");\n",
    "\n",
    "CREATE TABLE Orders (\n",
    " order_id INTEGER NOT NULL PRIMARY KEY,\n",
    " customer_id INTEGER NOT NULL,\n",
    " product_name VARCHAR(30)\n",
    ");\n",
    "\n",
    "INSERT INTO Customers (customer_id, customer_name ) VALUES ('1', 'Daniel');\n",
    "INSERT INTO Customers (customer_id, customer_name ) VALUES ('2', 'Diana');\n",
    "INSERT INTO Customers (customer_id, customer_name ) VALUES ('3', 'Elizabeth');\n",
    "INSERT INTO Customers (customer_id, customer_name ) VALUES ('4', 'Jhon');\n",
    "\n",
    "INSERT INTO Orders (order_id, customer_id, product_name) VALUES ('10', '1', 'A');\n",
    "INSERT INTO Orders (order_id, customer_id, product_name) VALUES ('20', '1', 'B');\n",
    "INSERT INTO Orders (order_id, customer_id, product_name) VALUES ('30', '1', 'D');\n",
    "INSERT INTO Orders (order_id, customer_id, product_name) VALUES ('40', '1', 'C');\n",
    "INSERT INTO Orders (order_id, customer_id, product_name) VALUES ('50', '2', 'A');\n",
    "INSERT INTO Orders (order_id, customer_id, product_name) VALUES ('60', '3', 'A');\n",
    "INSERT INTO Orders (order_id, customer_id, product_name) VALUES ('70', '3', 'B');\n",
    "INSERT INTO Orders (order_id, customer_id, product_name) VALUES ('80', '3', 'D');\n",
    "INSERT INTO Orders (order_id, customer_id, product_name) VALUES ('90', '4', 'C');\n",
    "\"\"\"\n",
    "\n",
    "db = sqlite3.connect('week-31-class.db')\n",
    "cursor = db.cursor()\n",
    "cursor.executescript(sql_commands)\n",
    "db.commit()\n",
    "db.close()"
   ]
  },
  {
   "cell_type": "code",
   "execution_count": 2,
   "metadata": {},
   "outputs": [],
   "source": [
    "# use this function for your answers.\n",
    "def with_conn(statement):\n",
    "    conn = sqlite3.connect('week-31-class.db')\n",
    "    with conn:\n",
    "        cur = conn.cursor()\n",
    "        cur.execute(statement)\n",
    "        result = cur.fetchall()\n",
    "        return result"
   ]
  },
  {
   "cell_type": "code",
   "execution_count": 3,
   "metadata": {},
   "outputs": [
    {
     "data": {
      "text/plain": [
       "[(1, 'Daniel'), (2, 'Diana'), (3, 'Elizabeth'), (4, 'Jhon')]"
      ]
     },
     "execution_count": 3,
     "metadata": {},
     "output_type": "execute_result"
    }
   ],
   "source": [
    "with_conn(\"SELECT * FROM Customers;\")"
   ]
  },
  {
   "cell_type": "code",
   "execution_count": 4,
   "metadata": {},
   "outputs": [
    {
     "data": {
      "text/plain": [
       "[(10, 1, 'A'),\n",
       " (20, 1, 'B'),\n",
       " (30, 1, 'D'),\n",
       " (40, 1, 'C'),\n",
       " (50, 2, 'A'),\n",
       " (60, 3, 'A'),\n",
       " (70, 3, 'B'),\n",
       " (80, 3, 'D'),\n",
       " (90, 4, 'C')]"
      ]
     },
     "execution_count": 4,
     "metadata": {},
     "output_type": "execute_result"
    }
   ],
   "source": [
    "with_conn(\"SELECT * FROM Orders;\")"
   ]
  },
  {
   "cell_type": "code",
   "execution_count": 33,
   "metadata": {},
   "outputs": [
    {
     "data": {
      "text/plain": [
       "[(1, 'Daniel', 'A'),\n",
       " (1, 'Daniel', 'B'),\n",
       " (1, 'Daniel', 'D'),\n",
       " (1, 'Daniel', 'C'),\n",
       " (2, 'Diana', 'A'),\n",
       " (3, 'Elizabeth', 'A'),\n",
       " (3, 'Elizabeth', 'B'),\n",
       " (3, 'Elizabeth', 'D'),\n",
       " (4, 'Jhon', 'C')]"
      ]
     },
     "execution_count": 33,
     "metadata": {},
     "output_type": "execute_result"
    }
   ],
   "source": [
    "with_conn(\"SELECT c.customer_id, c.customer_name, o.product_name FROM Customers as c, Orders as o WHERE c.customer_id=o.customer_id;\")"
   ]
  },
  {
   "cell_type": "code",
   "execution_count": 35,
   "metadata": {},
   "outputs": [
    {
     "data": {
      "text/plain": [
       "[(1,), (2,), (3,)]"
      ]
     },
     "execution_count": 35,
     "metadata": {},
     "output_type": "execute_result"
    }
   ],
   "source": [
    "with_conn(\"SELECT customer_id FROM Orders where product_name == 'A';\")"
   ]
  },
  {
   "cell_type": "code",
   "execution_count": 36,
   "metadata": {},
   "outputs": [
    {
     "data": {
      "text/plain": [
       "[(1,), (3,)]"
      ]
     },
     "execution_count": 36,
     "metadata": {},
     "output_type": "execute_result"
    }
   ],
   "source": [
    "with_conn(\"SELECT customer_id FROM Orders where product_name == 'B';\")"
   ]
  },
  {
   "cell_type": "code",
   "execution_count": 37,
   "metadata": {},
   "outputs": [
    {
     "data": {
      "text/plain": [
       "[(1,), (4,)]"
      ]
     },
     "execution_count": 37,
     "metadata": {},
     "output_type": "execute_result"
    }
   ],
   "source": [
    "with_conn(\"SELECT customer_id FROM Orders where product_name == 'C';\")"
   ]
  },
  {
   "cell_type": "code",
   "execution_count": 41,
   "metadata": {},
   "outputs": [
    {
     "data": {
      "text/plain": [
       "[(3, 'Elizabeth')]"
      ]
     },
     "execution_count": 41,
     "metadata": {},
     "output_type": "execute_result"
    }
   ],
   "source": [
    "with_conn(\"SELECT customer_id, customer_name FROM Customers WHERE customer_id IN (SELECT customer_id FROM Orders WHERE product_name == 'A') AND \\\n",
    "          customer_id IN (SELECT customer_id FROM Orders WHERE product_name == 'B') and \\\n",
    "          customer_id NOT IN (SELECT customer_id FROM Orders WHERE product_name == 'C');\")"
   ]
  },
  {
   "cell_type": "markdown",
   "metadata": {},
   "source": [
    "# Part 3 - Work on your ongoing django project\n",
    "\n",
    "Your project should have some models defined. Now you'll add a form that saves data entered to your models.\n",
    "\n",
    "To complete this section:\n",
    "* Create a model or update your models so you have one you'd like to use for your form\n",
    "* Create a form using `ModelForm` in your `<app>/forms.py` file.\n",
    "* Create or edit a view so that it uses that form (displaying it for `GET` requests or saving the data for a `POST` request if the form is valid.\n",
    "* Updating/creating a template that displays that page and the form.\n",
    "* Push these changes as a commit to your github repository.\n"
   ]
  },
  {
   "cell_type": "code",
   "execution_count": null,
   "metadata": {},
   "outputs": [],
   "source": [
    "#https://github.com/stanislava85/Django-mysite"
   ]
  },
  {
   "cell_type": "markdown",
   "metadata": {},
   "source": [
    "# Part 4 - Work on your final project\n",
    "\n",
    "You should have a topic chosen, datasets gathered and a plan for your database. Begin storing your data or putting together your database with the correct tables. \n",
    "\n",
    "There is no definitive deliverable but you should, at this point, have some of the following:\n",
    "* datasets you've gathered\n",
    "* initial exploratory data analysis in jupyter notebooks\n",
    "* an sqlite database containing your data and a python script for setting up your tables (you can use the python code we use for class problems as the basis of your script).\n",
    "* at least a text/markdown file including your research goal, steps documenting your process and including any notes you might have.\n",
    "\n",
    "If you are still stuck on your topic, data, or any other issue, this is your time to figure it out. Speak to teaching staff if you have any issues/concerns/questions. \n",
    "\n",
    "To complete this section:\n",
    "* Add the changes to your git repo\n",
    "* Submit as part of this lab the status and current progress being made towards your project. "
   ]
  },
  {
   "cell_type": "markdown",
   "metadata": {},
   "source": [
    "# Part 5 - Watch Statquest video on PCA.\n",
    "\n",
    "https://www.youtube.com/watch?v=_UVHneBUBW0"
   ]
  },
  {
   "cell_type": "code",
   "execution_count": null,
   "metadata": {},
   "outputs": [],
   "source": []
  },
  {
   "cell_type": "markdown",
   "metadata": {},
   "source": [
    "# Bonus\n",
    "\n",
    "In the cell below, write the code that performs a K Means clustering on the NIST Digits dataset from yesterday. Feel free to use the code samples from yesterday."
   ]
  },
  {
   "cell_type": "code",
   "execution_count": null,
   "metadata": {},
   "outputs": [],
   "source": []
  }
 ],
 "metadata": {
  "kernelspec": {
   "display_name": "Python 3",
   "language": "python",
   "name": "python3"
  },
  "language_info": {
   "codemirror_mode": {
    "name": "ipython",
    "version": 3
   },
   "file_extension": ".py",
   "mimetype": "text/x-python",
   "name": "python",
   "nbconvert_exporter": "python",
   "pygments_lexer": "ipython3",
   "version": "3.8.3"
  }
 },
 "nbformat": 4,
 "nbformat_minor": 5
}
