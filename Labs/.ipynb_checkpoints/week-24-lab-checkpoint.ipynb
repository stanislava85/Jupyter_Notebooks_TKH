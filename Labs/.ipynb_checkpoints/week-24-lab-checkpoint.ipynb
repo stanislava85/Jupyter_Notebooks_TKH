{
 "cells": [
  {
   "cell_type": "markdown",
   "metadata": {},
   "source": [
    "<div style=\"background: #000;\n",
    "            color: #FFF;\n",
    "            margin: 0px;\n",
    "            padding: 10px 0px 20px 0px;\n",
    "            text-align: center; \n",
    "                \">\n",
    "    <h1>Week 24 Lab</h1>\n",
    "</div>\n"
   ]
  },
  {
   "cell_type": "code",
   "execution_count": 2,
   "metadata": {},
   "outputs": [],
   "source": [
    "import pandas as pd\n",
    "import numpy as np\n",
    "import matplotlib.pyplot as plt"
   ]
  },
  {
   "cell_type": "markdown",
   "metadata": {},
   "source": [
    "## Part 1 - Python Problems\n",
    "<hr>"
   ]
  },
  {
   "cell_type": "markdown",
   "metadata": {},
   "source": [
    "### Exercise 1\n",
    "\n",
    "Create a function that takes a list of integers and calculates the mean. Use the following formula for calculating averages and not any `mean`/`average` method.\n",
    "\n",
    "$$ \\mu = {\\frac {1}{n}}\\sum _{i=1}^{n}a_{i}={\\frac {a_{1}+a_{2}+\\cdots +a_{n}}{n}}$$"
   ]
  },
  {
   "cell_type": "code",
   "execution_count": 9,
   "metadata": {},
   "outputs": [
    {
     "data": {
      "text/plain": [
       "5.0"
      ]
     },
     "execution_count": 9,
     "metadata": {},
     "output_type": "execute_result"
    }
   ],
   "source": [
    "example_list = [1,2,3,4,5,6,7,8,9]\n",
    "\n",
    "def func(example_list):     #or just return sum(example_list) / len(example_list)\n",
    "    val = np.array(example_list).mean()\n",
    "    return val\n",
    "\n",
    "func([1,2,3,4,5,6,7,8,9])   "
   ]
  },
  {
   "cell_type": "code",
   "execution_count": 14,
   "metadata": {},
   "outputs": [
    {
     "data": {
      "text/plain": [
       "5.0"
      ]
     },
     "execution_count": 14,
     "metadata": {},
     "output_type": "execute_result"
    }
   ],
   "source": [
    "np.average(example_list) #version 2"
   ]
  },
  {
   "cell_type": "markdown",
   "metadata": {},
   "source": [
    "### Exercise 2\n",
    "\n",
    "Create a class that operates like a stack.  "
   ]
  },
  {
   "cell_type": "code",
   "execution_count": 3,
   "metadata": {},
   "outputs": [
    {
     "name": "stdout",
     "output_type": "stream",
     "text": [
      "['a', 'b', 'c']\n",
      "['a', 'b']\n"
     ]
    },
    {
     "data": {
      "text/plain": [
       "2"
      ]
     },
     "execution_count": 3,
     "metadata": {},
     "output_type": "execute_result"
    }
   ],
   "source": [
    "class Stack:\n",
    "    def __init__(self):\n",
    "        self.items = []\n",
    "\n",
    "    def push(self, item):\n",
    "        self.items.append(item)\n",
    "        \n",
    "    def pop(self):\n",
    "        self.items.pop()\n",
    "\n",
    "    def length(self):\n",
    "        return len(self.items)\n",
    "\n",
    "\n",
    "dataStack = Stack()\n",
    "dataStack.push('a')\n",
    "dataStack.push('b')\n",
    "dataStack.push('c')\n",
    "print(dataStack.items)\n",
    "dataStack.pop()\n",
    "print(dataStack.items)\n",
    "dataStack.length()"
   ]
  },
  {
   "cell_type": "markdown",
   "metadata": {},
   "source": [
    "### Exercise 3\n",
    "\n",
    "Write a generator function which returns a few values and then use it to retrieve a value using `next` (the global function). "
   ]
  },
  {
   "cell_type": "code",
   "execution_count": 14,
   "metadata": {},
   "outputs": [],
   "source": [
    "def generator():\n",
    "    n = 1\n",
    "    print('This is printed first')  # Generator function contains yield statements\n",
    "    yield n\n",
    "\n",
    "    n += 2\n",
    "    print('This is printed second')\n",
    "    yield n\n",
    "\n",
    "    n += 3\n",
    "    print('This is printed at last')\n",
    "    yield n"
   ]
  },
  {
   "cell_type": "code",
   "execution_count": 19,
   "metadata": {},
   "outputs": [
    {
     "name": "stdout",
     "output_type": "stream",
     "text": [
      "This is printed first\n",
      "1\n",
      "This is printed second\n",
      "3\n",
      "This is printed at last\n",
      "6\n"
     ]
    }
   ],
   "source": [
    "for item in generator():\n",
    "    print(item)"
   ]
  },
  {
   "cell_type": "code",
   "execution_count": 20,
   "metadata": {},
   "outputs": [],
   "source": [
    "a = generator()"
   ]
  },
  {
   "cell_type": "code",
   "execution_count": 23,
   "metadata": {},
   "outputs": [
    {
     "name": "stdout",
     "output_type": "stream",
     "text": [
      "This is printed at last\n"
     ]
    },
    {
     "data": {
      "text/plain": [
       "6"
      ]
     },
     "execution_count": 23,
     "metadata": {},
     "output_type": "execute_result"
    }
   ],
   "source": [
    "next(a) #ran it 3 times"
   ]
  },
  {
   "cell_type": "code",
   "execution_count": 15,
   "metadata": {},
   "outputs": [],
   "source": [
    "#2nd generator, simpler\n",
    "\n",
    "lst = [1,2,3,4,5,6]\n",
    "def generator(lst):\n",
    "    for i in lst:\n",
    "        yield i\n",
    "\n",
    "b= generator(lst)"
   ]
  },
  {
   "cell_type": "code",
   "execution_count": 17,
   "metadata": {},
   "outputs": [
    {
     "data": {
      "text/plain": [
       "2"
      ]
     },
     "execution_count": 17,
     "metadata": {},
     "output_type": "execute_result"
    }
   ],
   "source": [
    "next(b) #ran it 2 times, previews the 2nd item in the list"
   ]
  },
  {
   "cell_type": "markdown",
   "metadata": {},
   "source": [
    "### Exercise 4\n",
    "\n",
    "Create a namedtuple `'Point'` that contains the points `x` and `y`."
   ]
  },
  {
   "cell_type": "code",
   "execution_count": 1,
   "metadata": {},
   "outputs": [],
   "source": [
    "from collections import namedtuple\n",
    "\n",
    "Point = namedtuple('Point', ['x', 'y'])"
   ]
  },
  {
   "cell_type": "code",
   "execution_count": 2,
   "metadata": {},
   "outputs": [],
   "source": [
    "p1 = Point(2,4)\n",
    "p2 = Point(3,7)"
   ]
  },
  {
   "cell_type": "code",
   "execution_count": 3,
   "metadata": {},
   "outputs": [
    {
     "name": "stdout",
     "output_type": "stream",
     "text": [
      "4\n",
      "3\n"
     ]
    }
   ],
   "source": [
    "print(p1[1]) #accesing the index of the instance\n",
    "print(p2.x)  #acessing the attribute value"
   ]
  },
  {
   "cell_type": "code",
   "execution_count": 12,
   "metadata": {},
   "outputs": [
    {
     "name": "stdout",
     "output_type": "stream",
     "text": [
      "('x', 'y')\n"
     ]
    }
   ],
   "source": [
    "print(Point._fields)   #using the fields method"
   ]
  },
  {
   "cell_type": "code",
   "execution_count": 8,
   "metadata": {},
   "outputs": [
    {
     "name": "stdout",
     "output_type": "stream",
     "text": [
      "Point(x='10', y='12')\n"
     ]
    }
   ],
   "source": [
    "p3 = Point._make([\"10\", '12'])  #make method to create an instance\n",
    "print(p3)"
   ]
  },
  {
   "cell_type": "code",
   "execution_count": 11,
   "metadata": {},
   "outputs": [
    {
     "name": "stdout",
     "output_type": "stream",
     "text": [
      "{'x': '10', 'y': '12'}\n"
     ]
    }
   ],
   "source": [
    "print(p3._asdict())  #printing values as a dict"
   ]
  },
  {
   "cell_type": "markdown",
   "metadata": {},
   "source": [
    "### Exercise 5\n",
    "\n",
    "Create a moving average class that:\n",
    "* has a method `add` that is used to add new values\n",
    "* has a method `avg` that calculates the average of the 5 most recently added values\n",
    "* has an attribute `values` that contain all values added\n",
    "* has an attribute `window` that contains the 5 most recently added values"
   ]
  },
  {
   "cell_type": "code",
   "execution_count": 1,
   "metadata": {},
   "outputs": [
    {
     "name": "stdout",
     "output_type": "stream",
     "text": [
      "[10]\n",
      "[10, 9, 8, 7, 6, 5]\n",
      "[9, 8, 7, 6, 5]\n"
     ]
    },
    {
     "data": {
      "text/plain": [
       "7.0"
      ]
     },
     "execution_count": 1,
     "metadata": {},
     "output_type": "execute_result"
    }
   ],
   "source": [
    "class MovingAverage:\n",
    "    def __init__(self,values=[], window=[]):\n",
    "        self.values =values\n",
    "        self.window =window\n",
    "        \n",
    "    def __add__(self,value):\n",
    "        self.values.append(value)\n",
    "        if len(self.values)>=5:\n",
    "            self.window =self.values[-5:]\n",
    "        else:\n",
    "             self.window=self.values\n",
    "        \n",
    "    def __avg__(self):\n",
    "        if len(self.values)>5:\n",
    "            self.window =self.values[-5:]\n",
    "            return sum(self.window) / 5\n",
    "        return sum(self.values) / len(self.values)\n",
    "    \n",
    "    \n",
    "mov1 = MovingAverage()\n",
    "mov1.__add__(10)\n",
    "print(mov1.values)\n",
    "mov1.__add__(9)\n",
    "mov1.__add__(8)\n",
    "mov1.__add__(7)\n",
    "mov1.__add__(6)\n",
    "mov1.__add__(5)\n",
    "print(mov1.values)\n",
    "print(mov1.window)\n",
    "mov1.__avg__()"
   ]
  },
  {
   "cell_type": "markdown",
   "metadata": {},
   "source": [
    "## Part 2 - Numpy Problems\n",
    "<hr>"
   ]
  },
  {
   "cell_type": "markdown",
   "metadata": {},
   "source": [
    "### Exercise 1\n",
    "\n",
    "Using numpy, create an array that contains the values of $y$ for each of the $x$ values ranging from 0 to 100.\n",
    "\n",
    "$$ y = 12x+4  $$"
   ]
  },
  {
   "cell_type": "code",
   "execution_count": 16,
   "metadata": {},
   "outputs": [
    {
     "data": {
      "text/plain": [
       "array([  0,   1,   2,   3,   4,   5,   6,   7,   8,   9,  10,  11,  12,\n",
       "        13,  14,  15,  16,  17,  18,  19,  20,  21,  22,  23,  24,  25,\n",
       "        26,  27,  28,  29,  30,  31,  32,  33,  34,  35,  36,  37,  38,\n",
       "        39,  40,  41,  42,  43,  44,  45,  46,  47,  48,  49,  50,  51,\n",
       "        52,  53,  54,  55,  56,  57,  58,  59,  60,  61,  62,  63,  64,\n",
       "        65,  66,  67,  68,  69,  70,  71,  72,  73,  74,  75,  76,  77,\n",
       "        78,  79,  80,  81,  82,  83,  84,  85,  86,  87,  88,  89,  90,\n",
       "        91,  92,  93,  94,  95,  96,  97,  98,  99, 100])"
      ]
     },
     "execution_count": 16,
     "metadata": {},
     "output_type": "execute_result"
    }
   ],
   "source": [
    "x = np.arange(0,101)\n",
    "x"
   ]
  },
  {
   "cell_type": "code",
   "execution_count": 18,
   "metadata": {},
   "outputs": [
    {
     "data": {
      "text/plain": [
       "array([   4,   16,   28,   40,   52,   64,   76,   88,  100,  112,  124,\n",
       "        136,  148,  160,  172,  184,  196,  208,  220,  232,  244,  256,\n",
       "        268,  280,  292,  304,  316,  328,  340,  352,  364,  376,  388,\n",
       "        400,  412,  424,  436,  448,  460,  472,  484,  496,  508,  520,\n",
       "        532,  544,  556,  568,  580,  592,  604,  616,  628,  640,  652,\n",
       "        664,  676,  688,  700,  712,  724,  736,  748,  760,  772,  784,\n",
       "        796,  808,  820,  832,  844,  856,  868,  880,  892,  904,  916,\n",
       "        928,  940,  952,  964,  976,  988, 1000, 1012, 1024, 1036, 1048,\n",
       "       1060, 1072, 1084, 1096, 1108, 1120, 1132, 1144, 1156, 1168, 1180,\n",
       "       1192, 1204])"
      ]
     },
     "execution_count": 18,
     "metadata": {},
     "output_type": "execute_result"
    }
   ],
   "source": [
    "y = 12*x +4\n",
    "y"
   ]
  },
  {
   "cell_type": "markdown",
   "metadata": {},
   "source": [
    "### Exercise 2\n",
    "\n",
    "Create a 2-dimensional numpy array that contains the numbers from 1 to 20 with even numbers in the first column and odd numbers in the second."
   ]
  },
  {
   "cell_type": "code",
   "execution_count": 4,
   "metadata": {},
   "outputs": [
    {
     "data": {
      "text/plain": [
       "array([[ 2,  1],\n",
       "       [ 4,  3],\n",
       "       [ 6,  5],\n",
       "       [ 8,  7],\n",
       "       [10,  9],\n",
       "       [12, 11],\n",
       "       [14, 13],\n",
       "       [16, 15],\n",
       "       [18, 17],\n",
       "       [20, 19]])"
      ]
     },
     "execution_count": 4,
     "metadata": {},
     "output_type": "execute_result"
    }
   ],
   "source": [
    "arr = np.arange(1, 21).reshape(10,2)\n",
    "arr\n",
    "arr[:, [1, 0]] = arr[:, [0, 1]] #swapping the 2 columns by index\n",
    "arr"
   ]
  },
  {
   "cell_type": "markdown",
   "metadata": {},
   "source": [
    "### Exercise 3\n",
    "\n",
    "Create a numpy array with random numbers between 0 and 1."
   ]
  },
  {
   "cell_type": "code",
   "execution_count": 48,
   "metadata": {},
   "outputs": [
    {
     "data": {
      "text/plain": [
       "array([[0.55119352, 0.26898891, 0.55411728, 0.56808478],\n",
       "       [0.30943861, 0.10289069, 0.2188055 , 0.09549812]])"
      ]
     },
     "execution_count": 48,
     "metadata": {},
     "output_type": "execute_result"
    }
   ],
   "source": [
    "np.random.rand(2,4)  #2d array of shape 2x4"
   ]
  },
  {
   "cell_type": "code",
   "execution_count": 49,
   "metadata": {},
   "outputs": [
    {
     "data": {
      "text/plain": [
       "array([0.45397065, 0.2865413 , 0.43135941, 0.65174982, 0.50267441,\n",
       "       0.6695887 , 0.62285104])"
      ]
     },
     "execution_count": 49,
     "metadata": {},
     "output_type": "execute_result"
    }
   ],
   "source": [
    "np.random.rand(7) #1d array"
   ]
  },
  {
   "cell_type": "code",
   "execution_count": null,
   "metadata": {},
   "outputs": [],
   "source": []
  },
  {
   "cell_type": "markdown",
   "metadata": {},
   "source": [
    "### Exercise 4\n",
    "\n",
    "Create an array that contains 100 numbers. All of them between 0 and 5. Then add that to an array that contains the numbers from 0 to 99."
   ]
  },
  {
   "cell_type": "code",
   "execution_count": 57,
   "metadata": {},
   "outputs": [
    {
     "data": {
      "text/plain": [
       "array([0.        , 0.05050505, 0.1010101 , 0.15151515, 0.2020202 ,\n",
       "       0.25252525, 0.3030303 , 0.35353535, 0.4040404 , 0.45454545,\n",
       "       0.50505051, 0.55555556, 0.60606061, 0.65656566, 0.70707071,\n",
       "       0.75757576, 0.80808081, 0.85858586, 0.90909091, 0.95959596,\n",
       "       1.01010101, 1.06060606, 1.11111111, 1.16161616, 1.21212121,\n",
       "       1.26262626, 1.31313131, 1.36363636, 1.41414141, 1.46464646,\n",
       "       1.51515152, 1.56565657, 1.61616162, 1.66666667, 1.71717172,\n",
       "       1.76767677, 1.81818182, 1.86868687, 1.91919192, 1.96969697,\n",
       "       2.02020202, 2.07070707, 2.12121212, 2.17171717, 2.22222222,\n",
       "       2.27272727, 2.32323232, 2.37373737, 2.42424242, 2.47474747,\n",
       "       2.52525253, 2.57575758, 2.62626263, 2.67676768, 2.72727273,\n",
       "       2.77777778, 2.82828283, 2.87878788, 2.92929293, 2.97979798,\n",
       "       3.03030303, 3.08080808, 3.13131313, 3.18181818, 3.23232323,\n",
       "       3.28282828, 3.33333333, 3.38383838, 3.43434343, 3.48484848,\n",
       "       3.53535354, 3.58585859, 3.63636364, 3.68686869, 3.73737374,\n",
       "       3.78787879, 3.83838384, 3.88888889, 3.93939394, 3.98989899,\n",
       "       4.04040404, 4.09090909, 4.14141414, 4.19191919, 4.24242424,\n",
       "       4.29292929, 4.34343434, 4.39393939, 4.44444444, 4.49494949,\n",
       "       4.54545455, 4.5959596 , 4.64646465, 4.6969697 , 4.74747475,\n",
       "       4.7979798 , 4.84848485, 4.8989899 , 4.94949495, 5.        ])"
      ]
     },
     "execution_count": 57,
     "metadata": {},
     "output_type": "execute_result"
    }
   ],
   "source": [
    "a = np.linspace(0, 5, num=100)\n",
    "a"
   ]
  },
  {
   "cell_type": "code",
   "execution_count": 58,
   "metadata": {},
   "outputs": [
    {
     "data": {
      "text/plain": [
       "array([ 0,  1,  2,  3,  4,  5,  6,  7,  8,  9, 10, 11, 12, 13, 14, 15, 16,\n",
       "       17, 18, 19, 20, 21, 22, 23, 24, 25, 26, 27, 28, 29, 30, 31, 32, 33,\n",
       "       34, 35, 36, 37, 38, 39, 40, 41, 42, 43, 44, 45, 46, 47, 48, 49, 50,\n",
       "       51, 52, 53, 54, 55, 56, 57, 58, 59, 60, 61, 62, 63, 64, 65, 66, 67,\n",
       "       68, 69, 70, 71, 72, 73, 74, 75, 76, 77, 78, 79, 80, 81, 82, 83, 84,\n",
       "       85, 86, 87, 88, 89, 90, 91, 92, 93, 94, 95, 96, 97, 98, 99])"
      ]
     },
     "execution_count": 58,
     "metadata": {},
     "output_type": "execute_result"
    }
   ],
   "source": [
    "b = np.arange(0, 100)\n",
    "b"
   ]
  },
  {
   "cell_type": "code",
   "execution_count": 59,
   "metadata": {},
   "outputs": [
    {
     "data": {
      "text/plain": [
       "array([  0.        ,   1.05050505,   2.1010101 ,   3.15151515,\n",
       "         4.2020202 ,   5.25252525,   6.3030303 ,   7.35353535,\n",
       "         8.4040404 ,   9.45454545,  10.50505051,  11.55555556,\n",
       "        12.60606061,  13.65656566,  14.70707071,  15.75757576,\n",
       "        16.80808081,  17.85858586,  18.90909091,  19.95959596,\n",
       "        21.01010101,  22.06060606,  23.11111111,  24.16161616,\n",
       "        25.21212121,  26.26262626,  27.31313131,  28.36363636,\n",
       "        29.41414141,  30.46464646,  31.51515152,  32.56565657,\n",
       "        33.61616162,  34.66666667,  35.71717172,  36.76767677,\n",
       "        37.81818182,  38.86868687,  39.91919192,  40.96969697,\n",
       "        42.02020202,  43.07070707,  44.12121212,  45.17171717,\n",
       "        46.22222222,  47.27272727,  48.32323232,  49.37373737,\n",
       "        50.42424242,  51.47474747,  52.52525253,  53.57575758,\n",
       "        54.62626263,  55.67676768,  56.72727273,  57.77777778,\n",
       "        58.82828283,  59.87878788,  60.92929293,  61.97979798,\n",
       "        63.03030303,  64.08080808,  65.13131313,  66.18181818,\n",
       "        67.23232323,  68.28282828,  69.33333333,  70.38383838,\n",
       "        71.43434343,  72.48484848,  73.53535354,  74.58585859,\n",
       "        75.63636364,  76.68686869,  77.73737374,  78.78787879,\n",
       "        79.83838384,  80.88888889,  81.93939394,  82.98989899,\n",
       "        84.04040404,  85.09090909,  86.14141414,  87.19191919,\n",
       "        88.24242424,  89.29292929,  90.34343434,  91.39393939,\n",
       "        92.44444444,  93.49494949,  94.54545455,  95.5959596 ,\n",
       "        96.64646465,  97.6969697 ,  98.74747475,  99.7979798 ,\n",
       "       100.84848485, 101.8989899 , 102.94949495, 104.        ])"
      ]
     },
     "execution_count": 59,
     "metadata": {},
     "output_type": "execute_result"
    }
   ],
   "source": [
    "a+b"
   ]
  },
  {
   "cell_type": "markdown",
   "metadata": {},
   "source": [
    "### Exercise 5\n",
    "\n",
    "Create a 10 by 10 matrix containing zeros. Then create a 10 by 10 matrix containing ones. Combine the two matrices so that the new dimensions are 20 by 10."
   ]
  },
  {
   "cell_type": "code",
   "execution_count": 64,
   "metadata": {},
   "outputs": [
    {
     "data": {
      "text/plain": [
       "array([[0., 0., 0., 0., 0., 0., 0., 0., 0., 0.],\n",
       "       [0., 0., 0., 0., 0., 0., 0., 0., 0., 0.],\n",
       "       [0., 0., 0., 0., 0., 0., 0., 0., 0., 0.],\n",
       "       [0., 0., 0., 0., 0., 0., 0., 0., 0., 0.],\n",
       "       [0., 0., 0., 0., 0., 0., 0., 0., 0., 0.],\n",
       "       [0., 0., 0., 0., 0., 0., 0., 0., 0., 0.],\n",
       "       [0., 0., 0., 0., 0., 0., 0., 0., 0., 0.],\n",
       "       [0., 0., 0., 0., 0., 0., 0., 0., 0., 0.],\n",
       "       [0., 0., 0., 0., 0., 0., 0., 0., 0., 0.],\n",
       "       [0., 0., 0., 0., 0., 0., 0., 0., 0., 0.]])"
      ]
     },
     "execution_count": 64,
     "metadata": {},
     "output_type": "execute_result"
    }
   ],
   "source": [
    "c =np.zeros((10,10))\n",
    "c"
   ]
  },
  {
   "cell_type": "code",
   "execution_count": 65,
   "metadata": {},
   "outputs": [
    {
     "data": {
      "text/plain": [
       "array([[1., 1., 1., 1., 1., 1., 1., 1., 1., 1.],\n",
       "       [1., 1., 1., 1., 1., 1., 1., 1., 1., 1.],\n",
       "       [1., 1., 1., 1., 1., 1., 1., 1., 1., 1.],\n",
       "       [1., 1., 1., 1., 1., 1., 1., 1., 1., 1.],\n",
       "       [1., 1., 1., 1., 1., 1., 1., 1., 1., 1.],\n",
       "       [1., 1., 1., 1., 1., 1., 1., 1., 1., 1.],\n",
       "       [1., 1., 1., 1., 1., 1., 1., 1., 1., 1.],\n",
       "       [1., 1., 1., 1., 1., 1., 1., 1., 1., 1.],\n",
       "       [1., 1., 1., 1., 1., 1., 1., 1., 1., 1.],\n",
       "       [1., 1., 1., 1., 1., 1., 1., 1., 1., 1.]])"
      ]
     },
     "execution_count": 65,
     "metadata": {},
     "output_type": "execute_result"
    }
   ],
   "source": [
    "d = np.ones((10,10))\n",
    "d"
   ]
  },
  {
   "cell_type": "code",
   "execution_count": 73,
   "metadata": {},
   "outputs": [
    {
     "data": {
      "text/plain": [
       "array([[0., 0., 0., 0., 0., 0., 0., 0., 0., 0.],\n",
       "       [0., 0., 0., 0., 0., 0., 0., 0., 0., 0.],\n",
       "       [0., 0., 0., 0., 0., 0., 0., 0., 0., 0.],\n",
       "       [0., 0., 0., 0., 0., 0., 0., 0., 0., 0.],\n",
       "       [0., 0., 0., 0., 0., 0., 0., 0., 0., 0.],\n",
       "       [0., 0., 0., 0., 0., 0., 0., 0., 0., 0.],\n",
       "       [0., 0., 0., 0., 0., 0., 0., 0., 0., 0.],\n",
       "       [0., 0., 0., 0., 0., 0., 0., 0., 0., 0.],\n",
       "       [0., 0., 0., 0., 0., 0., 0., 0., 0., 0.],\n",
       "       [0., 0., 0., 0., 0., 0., 0., 0., 0., 0.],\n",
       "       [1., 1., 1., 1., 1., 1., 1., 1., 1., 1.],\n",
       "       [1., 1., 1., 1., 1., 1., 1., 1., 1., 1.],\n",
       "       [1., 1., 1., 1., 1., 1., 1., 1., 1., 1.],\n",
       "       [1., 1., 1., 1., 1., 1., 1., 1., 1., 1.],\n",
       "       [1., 1., 1., 1., 1., 1., 1., 1., 1., 1.],\n",
       "       [1., 1., 1., 1., 1., 1., 1., 1., 1., 1.],\n",
       "       [1., 1., 1., 1., 1., 1., 1., 1., 1., 1.],\n",
       "       [1., 1., 1., 1., 1., 1., 1., 1., 1., 1.],\n",
       "       [1., 1., 1., 1., 1., 1., 1., 1., 1., 1.],\n",
       "       [1., 1., 1., 1., 1., 1., 1., 1., 1., 1.]])"
      ]
     },
     "execution_count": 73,
     "metadata": {},
     "output_type": "execute_result"
    }
   ],
   "source": [
    "e = np.concatenate((c, d))\n",
    "e   #new shape 20x10"
   ]
  },
  {
   "cell_type": "markdown",
   "metadata": {},
   "source": [
    "### Exercise 6\n",
    "\n",
    "Given the following numpy array, find the cumulative sum along the rows. Then find the cumulative sum along the columns. Then output the 2nd (1st index) column but only the first 10 rows. You should get a very recognizable pattern."
   ]
  },
  {
   "cell_type": "code",
   "execution_count": 3,
   "metadata": {},
   "outputs": [
    {
     "data": {
      "text/plain": [
       "array([[ 0,  1,  2,  3,  4,  5,  6,  7,  8,  9, 10],\n",
       "       [ 1,  2,  3,  4,  5,  6,  7,  8,  9, 10,  0],\n",
       "       [ 2,  3,  4,  5,  6,  7,  8,  9, 10,  0,  1],\n",
       "       [ 3,  4,  5,  6,  7,  8,  9, 10,  0,  1,  2],\n",
       "       [ 4,  5,  6,  7,  8,  9, 10,  0,  1,  2,  3],\n",
       "       [ 5,  6,  7,  8,  9, 10,  0,  1,  2,  3,  4],\n",
       "       [ 6,  7,  8,  9, 10,  0,  1,  2,  3,  4,  5],\n",
       "       [ 7,  8,  9, 10,  0,  1,  2,  3,  4,  5,  6],\n",
       "       [ 8,  9, 10,  0,  1,  2,  3,  4,  5,  6,  7],\n",
       "       [ 9, 10,  0,  1,  2,  3,  4,  5,  6,  7,  8],\n",
       "       [10,  0,  1,  2,  3,  4,  5,  6,  7,  8,  9]])"
      ]
     },
     "execution_count": 3,
     "metadata": {},
     "output_type": "execute_result"
    }
   ],
   "source": [
    "a = np.array([[0,1,2,3,4,5,6,7,8,9,10],[1,2,3,4,5,6,7,8,9,10,0], [2,3,4,5,6,7,8,9,10,0,1], [3,4,5,6,7,8,9,10,0,1,2],[4,5,6,7,8,9,10,0,1,2,3],[5,6,7,8,9,10,0,1,2,3,4],[6,7,8,9,10,0,1,2,3,4,5],[7,8,9,10,0,1,2,3,4,5,6],[8,9,10,0,1,2,3,4,5,6,7],[9,10,0,1,2,3,4,5,6,7,8],[10,0,1,2,3,4,5,6,7,8,9]])\n",
    "a\n"
   ]
  },
  {
   "cell_type": "code",
   "execution_count": 4,
   "metadata": {},
   "outputs": [
    {
     "data": {
      "text/plain": [
       "array([[ 0,  1,  2,  3,  4,  5,  6,  7,  8,  9, 10],\n",
       "       [ 1,  3,  5,  7,  9, 11, 13, 15, 17, 19, 10],\n",
       "       [ 3,  6,  9, 12, 15, 18, 21, 24, 27, 19, 11],\n",
       "       [ 6, 10, 14, 18, 22, 26, 30, 34, 27, 20, 13],\n",
       "       [10, 15, 20, 25, 30, 35, 40, 34, 28, 22, 16],\n",
       "       [15, 21, 27, 33, 39, 45, 40, 35, 30, 25, 20],\n",
       "       [21, 28, 35, 42, 49, 45, 41, 37, 33, 29, 25],\n",
       "       [28, 36, 44, 52, 49, 46, 43, 40, 37, 34, 31],\n",
       "       [36, 45, 54, 52, 50, 48, 46, 44, 42, 40, 38],\n",
       "       [45, 55, 54, 53, 52, 51, 50, 49, 48, 47, 46],\n",
       "       [55, 55, 55, 55, 55, 55, 55, 55, 55, 55, 55]], dtype=int32)"
      ]
     },
     "execution_count": 4,
     "metadata": {},
     "output_type": "execute_result"
    }
   ],
   "source": [
    "row_sum= np.cumsum(a, axis=0)\n",
    "row_sum"
   ]
  },
  {
   "cell_type": "code",
   "execution_count": 7,
   "metadata": {},
   "outputs": [
    {
     "data": {
      "text/plain": [
       "array([[  0,   1,   3,   6,  10,  15,  21,  28,  36,  45,  55],\n",
       "       [  1,   4,   9,  16,  25,  36,  49,  64,  81, 100, 110],\n",
       "       [  3,   9,  18,  30,  45,  63,  84, 108, 135, 154, 165],\n",
       "       [  6,  16,  30,  48,  70,  96, 126, 160, 187, 207, 220],\n",
       "       [ 10,  25,  45,  70, 100, 135, 175, 209, 237, 259, 275],\n",
       "       [ 15,  36,  63,  96, 135, 180, 220, 255, 285, 310, 330],\n",
       "       [ 21,  49,  84, 126, 175, 220, 261, 298, 331, 360, 385],\n",
       "       [ 28,  64, 108, 160, 209, 255, 298, 338, 375, 409, 440],\n",
       "       [ 36,  81, 135, 187, 237, 285, 331, 375, 417, 457, 495],\n",
       "       [ 45, 100, 154, 207, 259, 310, 360, 409, 457, 504, 550],\n",
       "       [ 55, 110, 165, 220, 275, 330, 385, 440, 495, 550, 605]],\n",
       "      dtype=int32)"
      ]
     },
     "execution_count": 7,
     "metadata": {},
     "output_type": "execute_result"
    }
   ],
   "source": [
    "sum_col = np.cumsum(row_sum, axis=1)\n",
    "sum_col"
   ]
  },
  {
   "cell_type": "code",
   "execution_count": 8,
   "metadata": {},
   "outputs": [
    {
     "data": {
      "text/plain": [
       "array([  1,   4,   9,  16,  25,  36,  49,  64,  81, 100], dtype=int32)"
      ]
     },
     "execution_count": 8,
     "metadata": {},
     "output_type": "execute_result"
    }
   ],
   "source": [
    "sum_col[:-1,1]   #only first 10 rows(:-1), 2nd column (index 1)"
   ]
  },
  {
   "cell_type": "markdown",
   "metadata": {},
   "source": [
    "### Exercise 7\n",
    "\n",
    "Using the following string. Turn it into a numpy array where all the letters are their own element."
   ]
  },
  {
   "cell_type": "code",
   "execution_count": 90,
   "metadata": {},
   "outputs": [
    {
     "data": {
      "text/plain": [
       "array(['h', 'e', 'l', 'l', 'o', 'w', 'o', 'r', 'l', 'd'], dtype='<U1')"
      ]
     },
     "execution_count": 90,
     "metadata": {},
     "output_type": "execute_result"
    }
   ],
   "source": [
    "s = \"helloworld\"\n",
    "np.array(list(s))"
   ]
  },
  {
   "cell_type": "markdown",
   "metadata": {},
   "source": [
    "### Exercise 8\n",
    "\n",
    "How would we flatten the following array?"
   ]
  },
  {
   "cell_type": "code",
   "execution_count": 95,
   "metadata": {},
   "outputs": [
    {
     "data": {
      "text/plain": [
       "array([1., 0., 0., 0., 0., 0., 0., 0., 0., 0., 0., 1., 0., 0., 0., 0., 0.,\n",
       "       0., 0., 0., 0., 0., 1., 0., 0., 0., 0., 0., 0., 0., 0., 0., 0., 1.,\n",
       "       0., 0., 0., 0., 0., 0., 0., 0., 0., 0., 1., 0., 0., 0., 0., 0., 0.,\n",
       "       0., 0., 0., 0., 1., 0., 0., 0., 0., 0., 0., 0., 0., 0., 0., 1., 0.,\n",
       "       0., 0., 0., 0., 0., 0., 0., 0., 0., 1., 0., 0., 0., 0., 0., 0., 0.,\n",
       "       0., 0., 0., 1., 0., 0., 0., 0., 0., 0., 0., 0., 0., 0., 1.])"
      ]
     },
     "execution_count": 95,
     "metadata": {},
     "output_type": "execute_result"
    }
   ],
   "source": [
    "a = np.eye(10)\n",
    "#a.flatten()\n",
    "a.ravel()   #same outpput for both\n",
    "\n",
    "# a.ravel():\n",
    "# (i) Return only reference/view of original array\n",
    "# (ii) If you modify the array you would notice that the value of original array also changes.\n",
    "# (iii) Ravel is faster than flatten() as it does not occupy any memory.\n",
    "# (iv) Ravel is a library-level function.\n",
    "\n",
    "# a.flatten() :\n",
    "# (i) Return copy of original array\n",
    "# (ii) If you modify any value of this array value of original array is not affected.\n",
    "# (iii) Flatten() is comparatively slower than ravel() as it occupies memory.\n",
    "# (iv) Flatten is a method of an ndarray object."
   ]
  },
  {
   "cell_type": "markdown",
   "metadata": {},
   "source": [
    "## Part 3 - Pandas Problems\n",
    "<hr>"
   ]
  },
  {
   "cell_type": "markdown",
   "metadata": {},
   "source": [
    "**1.** Create a dataframe using the following:"
   ]
  },
  {
   "cell_type": "code",
   "execution_count": 17,
   "metadata": {},
   "outputs": [],
   "source": [
    "lst = [['Red',4],['Blue',6],['Green',1],\\\n",
    "       ['Yellow',5],['White',3],['Black',2],]\n"
   ]
  },
  {
   "cell_type": "code",
   "execution_count": 18,
   "metadata": {},
   "outputs": [
    {
     "data": {
      "text/html": [
       "<div>\n",
       "<style scoped>\n",
       "    .dataframe tbody tr th:only-of-type {\n",
       "        vertical-align: middle;\n",
       "    }\n",
       "\n",
       "    .dataframe tbody tr th {\n",
       "        vertical-align: top;\n",
       "    }\n",
       "\n",
       "    .dataframe thead th {\n",
       "        text-align: right;\n",
       "    }\n",
       "</style>\n",
       "<table border=\"1\" class=\"dataframe\">\n",
       "  <thead>\n",
       "    <tr style=\"text-align: right;\">\n",
       "      <th></th>\n",
       "      <th>color</th>\n",
       "      <th>count</th>\n",
       "    </tr>\n",
       "  </thead>\n",
       "  <tbody>\n",
       "    <tr>\n",
       "      <th>0</th>\n",
       "      <td>Red</td>\n",
       "      <td>4</td>\n",
       "    </tr>\n",
       "    <tr>\n",
       "      <th>1</th>\n",
       "      <td>Blue</td>\n",
       "      <td>6</td>\n",
       "    </tr>\n",
       "    <tr>\n",
       "      <th>2</th>\n",
       "      <td>Green</td>\n",
       "      <td>1</td>\n",
       "    </tr>\n",
       "    <tr>\n",
       "      <th>3</th>\n",
       "      <td>Yellow</td>\n",
       "      <td>5</td>\n",
       "    </tr>\n",
       "    <tr>\n",
       "      <th>4</th>\n",
       "      <td>White</td>\n",
       "      <td>3</td>\n",
       "    </tr>\n",
       "    <tr>\n",
       "      <th>5</th>\n",
       "      <td>Black</td>\n",
       "      <td>2</td>\n",
       "    </tr>\n",
       "  </tbody>\n",
       "</table>\n",
       "</div>"
      ],
      "text/plain": [
       "    color  count\n",
       "0     Red      4\n",
       "1    Blue      6\n",
       "2   Green      1\n",
       "3  Yellow      5\n",
       "4   White      3\n",
       "5   Black      2"
      ]
     },
     "execution_count": 18,
     "metadata": {},
     "output_type": "execute_result"
    }
   ],
   "source": [
    "df = pd.DataFrame(lst,columns= [\"color\", \"count\"]) \n",
    "df "
   ]
  },
  {
   "cell_type": "markdown",
   "metadata": {},
   "source": [
    "**2.** Create a dataframe using the following:"
   ]
  },
  {
   "cell_type": "code",
   "execution_count": 19,
   "metadata": {},
   "outputs": [],
   "source": [
    "dct = {'red':4, 'blue':6, 'green':1,\\\n",
    "       'yellow':5, 'white':3, 'black':2 }\n"
   ]
  },
  {
   "cell_type": "code",
   "execution_count": 21,
   "metadata": {},
   "outputs": [
    {
     "data": {
      "text/html": [
       "<div>\n",
       "<style scoped>\n",
       "    .dataframe tbody tr th:only-of-type {\n",
       "        vertical-align: middle;\n",
       "    }\n",
       "\n",
       "    .dataframe tbody tr th {\n",
       "        vertical-align: top;\n",
       "    }\n",
       "\n",
       "    .dataframe thead th {\n",
       "        text-align: right;\n",
       "    }\n",
       "</style>\n",
       "<table border=\"1\" class=\"dataframe\">\n",
       "  <thead>\n",
       "    <tr style=\"text-align: right;\">\n",
       "      <th></th>\n",
       "      <th>color</th>\n",
       "      <th>amount</th>\n",
       "    </tr>\n",
       "  </thead>\n",
       "  <tbody>\n",
       "    <tr>\n",
       "      <th>0</th>\n",
       "      <td>red</td>\n",
       "      <td>4</td>\n",
       "    </tr>\n",
       "    <tr>\n",
       "      <th>1</th>\n",
       "      <td>blue</td>\n",
       "      <td>6</td>\n",
       "    </tr>\n",
       "    <tr>\n",
       "      <th>2</th>\n",
       "      <td>green</td>\n",
       "      <td>1</td>\n",
       "    </tr>\n",
       "    <tr>\n",
       "      <th>3</th>\n",
       "      <td>yellow</td>\n",
       "      <td>5</td>\n",
       "    </tr>\n",
       "    <tr>\n",
       "      <th>4</th>\n",
       "      <td>white</td>\n",
       "      <td>3</td>\n",
       "    </tr>\n",
       "    <tr>\n",
       "      <th>5</th>\n",
       "      <td>black</td>\n",
       "      <td>2</td>\n",
       "    </tr>\n",
       "  </tbody>\n",
       "</table>\n",
       "</div>"
      ],
      "text/plain": [
       "    color  amount\n",
       "0     red       4\n",
       "1    blue       6\n",
       "2   green       1\n",
       "3  yellow       5\n",
       "4   white       3\n",
       "5   black       2"
      ]
     },
     "execution_count": 21,
     "metadata": {},
     "output_type": "execute_result"
    }
   ],
   "source": [
    "df = pd.DataFrame(dct.items(), columns= [\"color\",\"amount\"]) \n",
    "df "
   ]
  },
  {
   "cell_type": "markdown",
   "metadata": {},
   "source": [
    "**The following exercises will use the dataset imported below:**\n"
   ]
  },
  {
   "cell_type": "code",
   "execution_count": 22,
   "metadata": {},
   "outputs": [
    {
     "data": {
      "text/html": [
       "<div>\n",
       "<style scoped>\n",
       "    .dataframe tbody tr th:only-of-type {\n",
       "        vertical-align: middle;\n",
       "    }\n",
       "\n",
       "    .dataframe tbody tr th {\n",
       "        vertical-align: top;\n",
       "    }\n",
       "\n",
       "    .dataframe thead th {\n",
       "        text-align: right;\n",
       "    }\n",
       "</style>\n",
       "<table border=\"1\" class=\"dataframe\">\n",
       "  <thead>\n",
       "    <tr style=\"text-align: right;\">\n",
       "      <th></th>\n",
       "      <th>year</th>\n",
       "      <th>make</th>\n",
       "      <th>model</th>\n",
       "      <th>number sold</th>\n",
       "      <th>price</th>\n",
       "      <th>revenue (in thousands)</th>\n",
       "    </tr>\n",
       "  </thead>\n",
       "  <tbody>\n",
       "    <tr>\n",
       "      <th>0</th>\n",
       "      <td>NaN</td>\n",
       "      <td>Toyota</td>\n",
       "      <td>Camry</td>\n",
       "      <td>336978.0</td>\n",
       "      <td>24765.0</td>\n",
       "      <td>NaN</td>\n",
       "    </tr>\n",
       "    <tr>\n",
       "      <th>1</th>\n",
       "      <td>2019.0</td>\n",
       "      <td>Toyota</td>\n",
       "      <td>Corolla</td>\n",
       "      <td>304850.0</td>\n",
       "      <td>NaN</td>\n",
       "      <td>4560556.00</td>\n",
       "    </tr>\n",
       "    <tr>\n",
       "      <th>2</th>\n",
       "      <td>2019.0</td>\n",
       "      <td>Toyota</td>\n",
       "      <td>Supra</td>\n",
       "      <td>NaN</td>\n",
       "      <td>35545.0</td>\n",
       "      <td>102511.78</td>\n",
       "    </tr>\n",
       "    <tr>\n",
       "      <th>3</th>\n",
       "      <td>2019.0</td>\n",
       "      <td>NaN</td>\n",
       "      <td>Avalon</td>\n",
       "      <td>NaN</td>\n",
       "      <td>36480.0</td>\n",
       "      <td>1012940.16</td>\n",
       "    </tr>\n",
       "  </tbody>\n",
       "</table>\n",
       "</div>"
      ],
      "text/plain": [
       "     year    make    model  number sold    price  revenue (in thousands)\n",
       "0     NaN  Toyota    Camry     336978.0  24765.0                     NaN\n",
       "1  2019.0  Toyota  Corolla     304850.0      NaN              4560556.00\n",
       "2  2019.0  Toyota    Supra          NaN  35545.0               102511.78\n",
       "3  2019.0     NaN   Avalon          NaN  36480.0              1012940.16"
      ]
     },
     "execution_count": 22,
     "metadata": {},
     "output_type": "execute_result"
    }
   ],
   "source": [
    "df = pd.DataFrame([[np.nan,'Toyota','Camry',336978, 24765,np.nan],[2019,'Toyota','Corolla',304850, np.nan,4560556],[2019,'Toyota','Supra',np.nan, 35545,102511.78],[2019,np.nan,'Avalon',np.nan ,36480,1012940.16]])\n",
    "df.columns = ['year', 'make', 'model', 'number sold', 'price', 'revenue (in thousands)']\n",
    "df"
   ]
  },
  {
   "cell_type": "markdown",
   "metadata": {},
   "source": [
    "### Exercise 4\n",
    "\n",
    "Fix the `year` column in the dataframe by replacing missing values with the average value of that column."
   ]
  },
  {
   "cell_type": "code",
   "execution_count": 23,
   "metadata": {},
   "outputs": [
    {
     "data": {
      "text/html": [
       "<div>\n",
       "<style scoped>\n",
       "    .dataframe tbody tr th:only-of-type {\n",
       "        vertical-align: middle;\n",
       "    }\n",
       "\n",
       "    .dataframe tbody tr th {\n",
       "        vertical-align: top;\n",
       "    }\n",
       "\n",
       "    .dataframe thead th {\n",
       "        text-align: right;\n",
       "    }\n",
       "</style>\n",
       "<table border=\"1\" class=\"dataframe\">\n",
       "  <thead>\n",
       "    <tr style=\"text-align: right;\">\n",
       "      <th></th>\n",
       "      <th>year</th>\n",
       "      <th>make</th>\n",
       "      <th>model</th>\n",
       "      <th>number sold</th>\n",
       "      <th>price</th>\n",
       "      <th>revenue (in thousands)</th>\n",
       "    </tr>\n",
       "  </thead>\n",
       "  <tbody>\n",
       "    <tr>\n",
       "      <th>0</th>\n",
       "      <td>2019.0</td>\n",
       "      <td>Toyota</td>\n",
       "      <td>Camry</td>\n",
       "      <td>336978.0</td>\n",
       "      <td>24765.0</td>\n",
       "      <td>NaN</td>\n",
       "    </tr>\n",
       "    <tr>\n",
       "      <th>1</th>\n",
       "      <td>2019.0</td>\n",
       "      <td>Toyota</td>\n",
       "      <td>Corolla</td>\n",
       "      <td>304850.0</td>\n",
       "      <td>NaN</td>\n",
       "      <td>4560556.00</td>\n",
       "    </tr>\n",
       "    <tr>\n",
       "      <th>2</th>\n",
       "      <td>2019.0</td>\n",
       "      <td>Toyota</td>\n",
       "      <td>Supra</td>\n",
       "      <td>NaN</td>\n",
       "      <td>35545.0</td>\n",
       "      <td>102511.78</td>\n",
       "    </tr>\n",
       "    <tr>\n",
       "      <th>3</th>\n",
       "      <td>2019.0</td>\n",
       "      <td>NaN</td>\n",
       "      <td>Avalon</td>\n",
       "      <td>NaN</td>\n",
       "      <td>36480.0</td>\n",
       "      <td>1012940.16</td>\n",
       "    </tr>\n",
       "  </tbody>\n",
       "</table>\n",
       "</div>"
      ],
      "text/plain": [
       "     year    make    model  number sold    price  revenue (in thousands)\n",
       "0  2019.0  Toyota    Camry     336978.0  24765.0                     NaN\n",
       "1  2019.0  Toyota  Corolla     304850.0      NaN              4560556.00\n",
       "2  2019.0  Toyota    Supra          NaN  35545.0               102511.78\n",
       "3  2019.0     NaN   Avalon          NaN  36480.0              1012940.16"
      ]
     },
     "execution_count": 23,
     "metadata": {},
     "output_type": "execute_result"
    }
   ],
   "source": [
    "df.loc[df[\"year\"].isnull(), 'year'] = df['year'].mean()\n",
    "df"
   ]
  },
  {
   "cell_type": "code",
   "execution_count": 24,
   "metadata": {},
   "outputs": [],
   "source": [
    "#or do\n",
    "#df[\"year\"] = df[\"year\"].fillna(df[\"year\"].mean())"
   ]
  },
  {
   "cell_type": "code",
   "execution_count": 26,
   "metadata": {},
   "outputs": [
    {
     "data": {
      "text/html": [
       "<div>\n",
       "<style scoped>\n",
       "    .dataframe tbody tr th:only-of-type {\n",
       "        vertical-align: middle;\n",
       "    }\n",
       "\n",
       "    .dataframe tbody tr th {\n",
       "        vertical-align: top;\n",
       "    }\n",
       "\n",
       "    .dataframe thead th {\n",
       "        text-align: right;\n",
       "    }\n",
       "</style>\n",
       "<table border=\"1\" class=\"dataframe\">\n",
       "  <thead>\n",
       "    <tr style=\"text-align: right;\">\n",
       "      <th></th>\n",
       "      <th>year</th>\n",
       "      <th>make</th>\n",
       "      <th>model</th>\n",
       "      <th>number sold</th>\n",
       "      <th>price</th>\n",
       "      <th>revenue (in thousands)</th>\n",
       "    </tr>\n",
       "  </thead>\n",
       "  <tbody>\n",
       "    <tr>\n",
       "      <th>0</th>\n",
       "      <td>2019</td>\n",
       "      <td>Toyota</td>\n",
       "      <td>Camry</td>\n",
       "      <td>336978.0</td>\n",
       "      <td>24765.0</td>\n",
       "      <td>NaN</td>\n",
       "    </tr>\n",
       "    <tr>\n",
       "      <th>1</th>\n",
       "      <td>2019</td>\n",
       "      <td>Toyota</td>\n",
       "      <td>Corolla</td>\n",
       "      <td>304850.0</td>\n",
       "      <td>NaN</td>\n",
       "      <td>4560556.00</td>\n",
       "    </tr>\n",
       "    <tr>\n",
       "      <th>2</th>\n",
       "      <td>2019</td>\n",
       "      <td>Toyota</td>\n",
       "      <td>Supra</td>\n",
       "      <td>NaN</td>\n",
       "      <td>35545.0</td>\n",
       "      <td>102511.78</td>\n",
       "    </tr>\n",
       "    <tr>\n",
       "      <th>3</th>\n",
       "      <td>2019</td>\n",
       "      <td>NaN</td>\n",
       "      <td>Avalon</td>\n",
       "      <td>NaN</td>\n",
       "      <td>36480.0</td>\n",
       "      <td>1012940.16</td>\n",
       "    </tr>\n",
       "  </tbody>\n",
       "</table>\n",
       "</div>"
      ],
      "text/plain": [
       "   year    make    model  number sold    price  revenue (in thousands)\n",
       "0  2019  Toyota    Camry     336978.0  24765.0                     NaN\n",
       "1  2019  Toyota  Corolla     304850.0      NaN              4560556.00\n",
       "2  2019  Toyota    Supra          NaN  35545.0               102511.78\n",
       "3  2019     NaN   Avalon          NaN  36480.0              1012940.16"
      ]
     },
     "execution_count": 26,
     "metadata": {},
     "output_type": "execute_result"
    }
   ],
   "source": [
    "df[\"year\"] = df[\"year\"].astype('int32')\n",
    "df"
   ]
  },
  {
   "cell_type": "markdown",
   "metadata": {},
   "source": [
    "### Exercise 5\n",
    "\n",
    "Fix the `'make'` column by replacing the missing value with the value that occurred most frequently (mode)."
   ]
  },
  {
   "cell_type": "code",
   "execution_count": 27,
   "metadata": {},
   "outputs": [
    {
     "data": {
      "text/html": [
       "<div>\n",
       "<style scoped>\n",
       "    .dataframe tbody tr th:only-of-type {\n",
       "        vertical-align: middle;\n",
       "    }\n",
       "\n",
       "    .dataframe tbody tr th {\n",
       "        vertical-align: top;\n",
       "    }\n",
       "\n",
       "    .dataframe thead th {\n",
       "        text-align: right;\n",
       "    }\n",
       "</style>\n",
       "<table border=\"1\" class=\"dataframe\">\n",
       "  <thead>\n",
       "    <tr style=\"text-align: right;\">\n",
       "      <th></th>\n",
       "      <th>year</th>\n",
       "      <th>make</th>\n",
       "      <th>model</th>\n",
       "      <th>number sold</th>\n",
       "      <th>price</th>\n",
       "      <th>revenue (in thousands)</th>\n",
       "    </tr>\n",
       "  </thead>\n",
       "  <tbody>\n",
       "    <tr>\n",
       "      <th>0</th>\n",
       "      <td>2019</td>\n",
       "      <td>Toyota</td>\n",
       "      <td>Camry</td>\n",
       "      <td>336978.0</td>\n",
       "      <td>24765.0</td>\n",
       "      <td>NaN</td>\n",
       "    </tr>\n",
       "    <tr>\n",
       "      <th>1</th>\n",
       "      <td>2019</td>\n",
       "      <td>Toyota</td>\n",
       "      <td>Corolla</td>\n",
       "      <td>304850.0</td>\n",
       "      <td>NaN</td>\n",
       "      <td>4560556.00</td>\n",
       "    </tr>\n",
       "    <tr>\n",
       "      <th>2</th>\n",
       "      <td>2019</td>\n",
       "      <td>Toyota</td>\n",
       "      <td>Supra</td>\n",
       "      <td>NaN</td>\n",
       "      <td>35545.0</td>\n",
       "      <td>102511.78</td>\n",
       "    </tr>\n",
       "    <tr>\n",
       "      <th>3</th>\n",
       "      <td>2019</td>\n",
       "      <td>Toyota</td>\n",
       "      <td>Avalon</td>\n",
       "      <td>NaN</td>\n",
       "      <td>36480.0</td>\n",
       "      <td>1012940.16</td>\n",
       "    </tr>\n",
       "  </tbody>\n",
       "</table>\n",
       "</div>"
      ],
      "text/plain": [
       "   year    make    model  number sold    price  revenue (in thousands)\n",
       "0  2019  Toyota    Camry     336978.0  24765.0                     NaN\n",
       "1  2019  Toyota  Corolla     304850.0      NaN              4560556.00\n",
       "2  2019  Toyota    Supra          NaN  35545.0               102511.78\n",
       "3  2019  Toyota   Avalon          NaN  36480.0              1012940.16"
      ]
     },
     "execution_count": 27,
     "metadata": {},
     "output_type": "execute_result"
    }
   ],
   "source": [
    "x = df[\"make\"].mode()[0]\n",
    "\n",
    "df[\"make\"].fillna(x, inplace = True)\n",
    "df"
   ]
  },
  {
   "cell_type": "code",
   "execution_count": null,
   "metadata": {},
   "outputs": [],
   "source": [
    "#or do\n",
    "#df[\"make\"] = df[\"make\"].fillna(df[\"make\"].mode()[0])"
   ]
  },
  {
   "cell_type": "markdown",
   "metadata": {},
   "source": [
    "### Exercise 6\n",
    "\n",
    "Fix the `'revenue (in thousands)'` column by calculating the approximate revenue. Remember that the value of `'revenue'` is in the 1000s.\n",
    "\n",
    "$$ \\textrm{revenue} = \\textrm{number sold} * \\textrm{price} $$"
   ]
  },
  {
   "cell_type": "code",
   "execution_count": 28,
   "metadata": {},
   "outputs": [],
   "source": [
    "df[\"revenue (in thousands)\"] = df[\"revenue (in thousands)\"].fillna((df[\"number sold\"]*df[\"price\"])/1000)"
   ]
  },
  {
   "cell_type": "code",
   "execution_count": 29,
   "metadata": {},
   "outputs": [
    {
     "data": {
      "text/html": [
       "<div>\n",
       "<style scoped>\n",
       "    .dataframe tbody tr th:only-of-type {\n",
       "        vertical-align: middle;\n",
       "    }\n",
       "\n",
       "    .dataframe tbody tr th {\n",
       "        vertical-align: top;\n",
       "    }\n",
       "\n",
       "    .dataframe thead th {\n",
       "        text-align: right;\n",
       "    }\n",
       "</style>\n",
       "<table border=\"1\" class=\"dataframe\">\n",
       "  <thead>\n",
       "    <tr style=\"text-align: right;\">\n",
       "      <th></th>\n",
       "      <th>year</th>\n",
       "      <th>make</th>\n",
       "      <th>model</th>\n",
       "      <th>number sold</th>\n",
       "      <th>price</th>\n",
       "      <th>revenue (in thousands)</th>\n",
       "    </tr>\n",
       "  </thead>\n",
       "  <tbody>\n",
       "    <tr>\n",
       "      <th>0</th>\n",
       "      <td>2019</td>\n",
       "      <td>Toyota</td>\n",
       "      <td>Camry</td>\n",
       "      <td>336978.0</td>\n",
       "      <td>24765.0</td>\n",
       "      <td>8345260.17</td>\n",
       "    </tr>\n",
       "    <tr>\n",
       "      <th>1</th>\n",
       "      <td>2019</td>\n",
       "      <td>Toyota</td>\n",
       "      <td>Corolla</td>\n",
       "      <td>304850.0</td>\n",
       "      <td>NaN</td>\n",
       "      <td>4560556.00</td>\n",
       "    </tr>\n",
       "    <tr>\n",
       "      <th>2</th>\n",
       "      <td>2019</td>\n",
       "      <td>Toyota</td>\n",
       "      <td>Supra</td>\n",
       "      <td>NaN</td>\n",
       "      <td>35545.0</td>\n",
       "      <td>102511.78</td>\n",
       "    </tr>\n",
       "    <tr>\n",
       "      <th>3</th>\n",
       "      <td>2019</td>\n",
       "      <td>Toyota</td>\n",
       "      <td>Avalon</td>\n",
       "      <td>NaN</td>\n",
       "      <td>36480.0</td>\n",
       "      <td>1012940.16</td>\n",
       "    </tr>\n",
       "  </tbody>\n",
       "</table>\n",
       "</div>"
      ],
      "text/plain": [
       "   year    make    model  number sold    price  revenue (in thousands)\n",
       "0  2019  Toyota    Camry     336978.0  24765.0              8345260.17\n",
       "1  2019  Toyota  Corolla     304850.0      NaN              4560556.00\n",
       "2  2019  Toyota    Supra          NaN  35545.0               102511.78\n",
       "3  2019  Toyota   Avalon          NaN  36480.0              1012940.16"
      ]
     },
     "execution_count": 29,
     "metadata": {},
     "output_type": "execute_result"
    }
   ],
   "source": [
    "df"
   ]
  },
  {
   "cell_type": "markdown",
   "metadata": {},
   "source": [
    "### Exercise 7\n",
    "\n",
    "Fix the `'price'` column by calculating the approximate price.\n",
    "\n",
    "$$ \\textrm{price} = \\frac{\\textrm{revenue}}{\\textrm{number sold}} $$"
   ]
  },
  {
   "cell_type": "code",
   "execution_count": 31,
   "metadata": {},
   "outputs": [
    {
     "data": {
      "text/html": [
       "<div>\n",
       "<style scoped>\n",
       "    .dataframe tbody tr th:only-of-type {\n",
       "        vertical-align: middle;\n",
       "    }\n",
       "\n",
       "    .dataframe tbody tr th {\n",
       "        vertical-align: top;\n",
       "    }\n",
       "\n",
       "    .dataframe thead th {\n",
       "        text-align: right;\n",
       "    }\n",
       "</style>\n",
       "<table border=\"1\" class=\"dataframe\">\n",
       "  <thead>\n",
       "    <tr style=\"text-align: right;\">\n",
       "      <th></th>\n",
       "      <th>year</th>\n",
       "      <th>make</th>\n",
       "      <th>model</th>\n",
       "      <th>number sold</th>\n",
       "      <th>price</th>\n",
       "      <th>revenue (in thousands)</th>\n",
       "    </tr>\n",
       "  </thead>\n",
       "  <tbody>\n",
       "    <tr>\n",
       "      <th>0</th>\n",
       "      <td>2019</td>\n",
       "      <td>Toyota</td>\n",
       "      <td>Camry</td>\n",
       "      <td>336978.0</td>\n",
       "      <td>24765.0</td>\n",
       "      <td>8345260.17</td>\n",
       "    </tr>\n",
       "    <tr>\n",
       "      <th>1</th>\n",
       "      <td>2019</td>\n",
       "      <td>Toyota</td>\n",
       "      <td>Corolla</td>\n",
       "      <td>304850.0</td>\n",
       "      <td>14960.0</td>\n",
       "      <td>4560556.00</td>\n",
       "    </tr>\n",
       "    <tr>\n",
       "      <th>2</th>\n",
       "      <td>2019</td>\n",
       "      <td>Toyota</td>\n",
       "      <td>Supra</td>\n",
       "      <td>NaN</td>\n",
       "      <td>35545.0</td>\n",
       "      <td>102511.78</td>\n",
       "    </tr>\n",
       "    <tr>\n",
       "      <th>3</th>\n",
       "      <td>2019</td>\n",
       "      <td>Toyota</td>\n",
       "      <td>Avalon</td>\n",
       "      <td>NaN</td>\n",
       "      <td>36480.0</td>\n",
       "      <td>1012940.16</td>\n",
       "    </tr>\n",
       "  </tbody>\n",
       "</table>\n",
       "</div>"
      ],
      "text/plain": [
       "   year    make    model  number sold    price  revenue (in thousands)\n",
       "0  2019  Toyota    Camry     336978.0  24765.0              8345260.17\n",
       "1  2019  Toyota  Corolla     304850.0  14960.0              4560556.00\n",
       "2  2019  Toyota    Supra          NaN  35545.0               102511.78\n",
       "3  2019  Toyota   Avalon          NaN  36480.0              1012940.16"
      ]
     },
     "execution_count": 31,
     "metadata": {},
     "output_type": "execute_result"
    }
   ],
   "source": [
    "df[\"price\"] = df[\"price\"].fillna((df[\"revenue (in thousands)\"]*1000) / df[\"number sold\"])\n",
    "df"
   ]
  },
  {
   "cell_type": "markdown",
   "metadata": {},
   "source": [
    "### Exercise 8\n",
    "\n",
    "Fix the `'number sold'` column by calculating the approximate number of vehicles sold.\n",
    "\n",
    "$$ \\textrm{number sold} = \\frac{\\textrm{revenue}}{\\textrm{price}} $$"
   ]
  },
  {
   "cell_type": "code",
   "execution_count": 32,
   "metadata": {},
   "outputs": [
    {
     "data": {
      "text/html": [
       "<div>\n",
       "<style scoped>\n",
       "    .dataframe tbody tr th:only-of-type {\n",
       "        vertical-align: middle;\n",
       "    }\n",
       "\n",
       "    .dataframe tbody tr th {\n",
       "        vertical-align: top;\n",
       "    }\n",
       "\n",
       "    .dataframe thead th {\n",
       "        text-align: right;\n",
       "    }\n",
       "</style>\n",
       "<table border=\"1\" class=\"dataframe\">\n",
       "  <thead>\n",
       "    <tr style=\"text-align: right;\">\n",
       "      <th></th>\n",
       "      <th>year</th>\n",
       "      <th>make</th>\n",
       "      <th>model</th>\n",
       "      <th>number sold</th>\n",
       "      <th>price</th>\n",
       "      <th>revenue (in thousands)</th>\n",
       "    </tr>\n",
       "  </thead>\n",
       "  <tbody>\n",
       "    <tr>\n",
       "      <th>0</th>\n",
       "      <td>2019</td>\n",
       "      <td>Toyota</td>\n",
       "      <td>Camry</td>\n",
       "      <td>336978.0</td>\n",
       "      <td>24765.0</td>\n",
       "      <td>8345260.17</td>\n",
       "    </tr>\n",
       "    <tr>\n",
       "      <th>1</th>\n",
       "      <td>2019</td>\n",
       "      <td>Toyota</td>\n",
       "      <td>Corolla</td>\n",
       "      <td>304850.0</td>\n",
       "      <td>14960.0</td>\n",
       "      <td>4560556.00</td>\n",
       "    </tr>\n",
       "    <tr>\n",
       "      <th>2</th>\n",
       "      <td>2019</td>\n",
       "      <td>Toyota</td>\n",
       "      <td>Supra</td>\n",
       "      <td>2884.0</td>\n",
       "      <td>35545.0</td>\n",
       "      <td>102511.78</td>\n",
       "    </tr>\n",
       "    <tr>\n",
       "      <th>3</th>\n",
       "      <td>2019</td>\n",
       "      <td>Toyota</td>\n",
       "      <td>Avalon</td>\n",
       "      <td>27767.0</td>\n",
       "      <td>36480.0</td>\n",
       "      <td>1012940.16</td>\n",
       "    </tr>\n",
       "  </tbody>\n",
       "</table>\n",
       "</div>"
      ],
      "text/plain": [
       "   year    make    model  number sold    price  revenue (in thousands)\n",
       "0  2019  Toyota    Camry     336978.0  24765.0              8345260.17\n",
       "1  2019  Toyota  Corolla     304850.0  14960.0              4560556.00\n",
       "2  2019  Toyota    Supra       2884.0  35545.0               102511.78\n",
       "3  2019  Toyota   Avalon      27767.0  36480.0              1012940.16"
      ]
     },
     "execution_count": 32,
     "metadata": {},
     "output_type": "execute_result"
    }
   ],
   "source": [
    "df['number sold']= df['number sold'].fillna((df['revenue (in thousands)']*1000) / df['price'])\n",
    "df"
   ]
  },
  {
   "cell_type": "code",
   "execution_count": null,
   "metadata": {},
   "outputs": [],
   "source": []
  }
 ],
 "metadata": {
  "kernelspec": {
   "display_name": "Python 3",
   "language": "python",
   "name": "python3"
  },
  "language_info": {
   "codemirror_mode": {
    "name": "ipython",
    "version": 3
   },
   "file_extension": ".py",
   "mimetype": "text/x-python",
   "name": "python",
   "nbconvert_exporter": "python",
   "pygments_lexer": "ipython3",
   "version": "3.8.3"
  }
 },
 "nbformat": 4,
 "nbformat_minor": 5
}
