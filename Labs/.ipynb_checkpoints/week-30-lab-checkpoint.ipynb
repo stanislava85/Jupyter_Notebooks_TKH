{
 "cells": [
  {
   "cell_type": "markdown",
   "metadata": {},
   "source": [
    "<div style=\"background: #000;\n",
    "            color: #FFF;\n",
    "            margin: 0px;\n",
    "            margin-bottom: 10px;\n",
    "            padding: 10px 0px 20px 0px;\n",
    "            text-align: center; \n",
    "                \">\n",
    "    <h1 >Week 30 Lab</h1>\n",
    "</div>\n",
    "\n"
   ]
  },
  {
   "cell_type": "markdown",
   "metadata": {},
   "source": [
    "# SQL\n",
    "\n",
    "### Exercise 1\n",
    "\n",
    "Write a SQL query to get the second highest salary from the Employee table.\n",
    "```\n",
    "+----+--------+\n",
    "| Id | Salary |\n",
    "+----+--------+\n",
    "| 1  | 100    |\n",
    "| 2  | 200    |\n",
    "| 3  | 300    |\n",
    "+----+--------+\n",
    "```\n",
    "For example, given the above Employee table, the query should return 200 as the second highest salary. If there is no second highest salary, then the query should return null.\n",
    "```\n",
    "+---------------------+\n",
    "| SecondHighestSalary |\n",
    "+---------------------+\n",
    "| 200                 |\n",
    "+---------------------+\n",
    "```\n"
   ]
  },
  {
   "cell_type": "code",
   "execution_count": 1,
   "metadata": {},
   "outputs": [],
   "source": [
    "import sqlite3\n",
    "\n",
    "sql_commands = \\\n",
    "\"\"\"\n",
    "DROP TABLE IF EXISTS Employee;\n",
    "\n",
    "CREATE TABLE Employee (\n",
    " Id INTEGER NOT NULL PRIMARY KEY,\n",
    " Salary INTEGER NOT NULL\n",
    ");\n",
    "\n",
    "INSERT INTO Employee (Id, Salary) values ('1', '100');\n",
    "INSERT INTO Employee (Id, Salary) values ('2', '200');\n",
    "INSERT INTO Employee (Id, Salary) values ('3', '300');\n",
    "\n",
    "\"\"\"\n",
    "db = sqlite3.connect('week-30-lab.db')\n",
    "cursor = db.cursor()\n",
    "cursor.executescript(sql_commands)\n",
    "db.commit()\n",
    "db.close()"
   ]
  },
  {
   "cell_type": "code",
   "execution_count": 2,
   "metadata": {},
   "outputs": [],
   "source": [
    "# use this function for your answers.\n",
    "def with_conn(statement):\n",
    "    conn = sqlite3.connect('week-30-lab.db')\n",
    "    with conn:\n",
    "        cur = conn.cursor()\n",
    "        cur.execute(statement)\n",
    "        result = cur.fetchall()\n",
    "        return result"
   ]
  },
  {
   "cell_type": "code",
   "execution_count": 3,
   "metadata": {},
   "outputs": [
    {
     "data": {
      "text/plain": [
       "[(200,)]"
      ]
     },
     "execution_count": 3,
     "metadata": {},
     "output_type": "execute_result"
    }
   ],
   "source": [
    "#with_conn('SELECT Salary FROM Employee WHERE id=2 or NULL')"
   ]
  },
  {
   "cell_type": "code",
   "execution_count": 11,
   "metadata": {},
   "outputs": [
    {
     "data": {
      "text/plain": [
       "[(200,)]"
      ]
     },
     "execution_count": 11,
     "metadata": {},
     "output_type": "execute_result"
    }
   ],
   "source": [
    "with_conn('SELECT MAX(Salary) FROM Employee WHERE Salary NOT IN (SELECT MAX(Salary) FROM Employee)')"
   ]
  },
  {
   "cell_type": "markdown",
   "metadata": {},
   "source": [
    "# Exercise 2\n",
    "\n",
    "Suppose that a website contains two tables, the Customers table and the Orders table. Write a SQL query to find all customers who never order anything.\n",
    "```\n",
    "Table: Customers.\n",
    "\n",
    "+----+-------+\n",
    "| Id | Name  |\n",
    "+----+-------+\n",
    "| 1  | Joe   |\n",
    "| 2  | Henry |\n",
    "| 3  | Sam   |\n",
    "| 4  | Max   |\n",
    "+----+-------+\n",
    "\n",
    "Table: Orders.\n",
    "\n",
    "+----+------------+\n",
    "| Id | CustomerId |\n",
    "+----+------------+\n",
    "| 1  | 3          |\n",
    "| 2  | 1          |\n",
    "+----+------------+\n",
    "```\n",
    "Using the above tables as example, return the following:\n",
    "```\n",
    "+-----------+\n",
    "| Customers |\n",
    "+-----------+\n",
    "| Henry     |\n",
    "| Max       |\n",
    "+-----------+\n",
    "```\n"
   ]
  },
  {
   "cell_type": "code",
   "execution_count": 5,
   "metadata": {},
   "outputs": [
    {
     "ename": "IntegrityError",
     "evalue": "FOREIGN KEY constraint failed",
     "output_type": "error",
     "traceback": [
      "\u001b[1;31m---------------------------------------------------------------------------\u001b[0m",
      "\u001b[1;31mIntegrityError\u001b[0m                            Traceback (most recent call last)",
      "\u001b[1;32m<ipython-input-5-5ff12facf9b1>\u001b[0m in \u001b[0;36m<module>\u001b[1;34m\u001b[0m\n\u001b[0;32m     28\u001b[0m \u001b[0mdb\u001b[0m \u001b[1;33m=\u001b[0m \u001b[0msqlite3\u001b[0m\u001b[1;33m.\u001b[0m\u001b[0mconnect\u001b[0m\u001b[1;33m(\u001b[0m\u001b[1;34m'week-30-lab.db'\u001b[0m\u001b[1;33m)\u001b[0m\u001b[1;33m\u001b[0m\u001b[1;33m\u001b[0m\u001b[0m\n\u001b[0;32m     29\u001b[0m \u001b[0mcursor\u001b[0m \u001b[1;33m=\u001b[0m \u001b[0mdb\u001b[0m\u001b[1;33m.\u001b[0m\u001b[0mcursor\u001b[0m\u001b[1;33m(\u001b[0m\u001b[1;33m)\u001b[0m\u001b[1;33m\u001b[0m\u001b[1;33m\u001b[0m\u001b[0m\n\u001b[1;32m---> 30\u001b[1;33m \u001b[0mcursor\u001b[0m\u001b[1;33m.\u001b[0m\u001b[0mexecutescript\u001b[0m\u001b[1;33m(\u001b[0m\u001b[0msql_commands\u001b[0m\u001b[1;33m)\u001b[0m\u001b[1;33m\u001b[0m\u001b[1;33m\u001b[0m\u001b[0m\n\u001b[0m\u001b[0;32m     31\u001b[0m \u001b[0mdb\u001b[0m\u001b[1;33m.\u001b[0m\u001b[0mcommit\u001b[0m\u001b[1;33m(\u001b[0m\u001b[1;33m)\u001b[0m\u001b[1;33m\u001b[0m\u001b[1;33m\u001b[0m\u001b[0m\n\u001b[0;32m     32\u001b[0m \u001b[0mdb\u001b[0m\u001b[1;33m.\u001b[0m\u001b[0mclose\u001b[0m\u001b[1;33m(\u001b[0m\u001b[1;33m)\u001b[0m\u001b[1;33m\u001b[0m\u001b[1;33m\u001b[0m\u001b[0m\n",
      "\u001b[1;31mIntegrityError\u001b[0m: FOREIGN KEY constraint failed"
     ]
    }
   ],
   "source": [
    "import sqlite3\n",
    "\n",
    "sql_commands = \\\n",
    "\"\"\"\n",
    "PRAGMA foreign_keys = ON;\n",
    "\n",
    "DROP TABLE IF EXISTS Customers;\n",
    "DROP TABLE IF EXISTS Orders;\n",
    "\n",
    "CREATE TABLE Customers (\n",
    " Id INTEGER NOT NULL PRIMARY KEY,\n",
    " Name NVARCHAR(255)\n",
    ");\n",
    "\n",
    "CREATE TABLE Orders (\n",
    " Id INTEGER NOT NULL PRIMARY KEY,\n",
    " CustomerId INTEGERY NOT NULL,\n",
    " FOREIGN KEY(CustomerId) REFERENCES Customers(Id)\n",
    ");\n",
    "\n",
    "INSERT INTO Customers (Id, Name) VALUES ('1', 'Joe');\n",
    "INSERT INTO Customers (Id, Name) VALUES ('2', 'Henry');\n",
    "INSERT INTO Customers (Id, Name) VALUES ('3', 'Sam');\n",
    "INSERT INTO Customers (Id, Name) VALUES ('4', 'Max');\n",
    "INSERT INTO Orders (Id, CustomerId) VALUES ('1', '3');\n",
    "INSERT INTO Orders (Id, CustomerId) VALUES ('2', '1');\n",
    "\"\"\"\n",
    "db = sqlite3.connect('week-30-lab.db')\n",
    "cursor = db.cursor()\n",
    "cursor.executescript(sql_commands)\n",
    "db.commit()\n",
    "db.close()"
   ]
  },
  {
   "cell_type": "code",
   "execution_count": 6,
   "metadata": {},
   "outputs": [],
   "source": [
    "# use this function for your answers.\n",
    "def with_conn(statement):\n",
    "    conn = sqlite3.connect('week-30-lab.db')\n",
    "    with conn:\n",
    "        cur = conn.cursor()\n",
    "        cur.execute(statement)\n",
    "        result = cur.fetchall()\n",
    "        return result"
   ]
  },
  {
   "cell_type": "code",
   "execution_count": 7,
   "metadata": {},
   "outputs": [
    {
     "data": {
      "text/plain": [
       "[(1, 'Joe'), (2, 'Henry'), (3, 'Sam'), (4, 'Max')]"
      ]
     },
     "execution_count": 7,
     "metadata": {},
     "output_type": "execute_result"
    }
   ],
   "source": [
    "with_conn('SELECT * FROM Customers')"
   ]
  },
  {
   "cell_type": "code",
   "execution_count": 8,
   "metadata": {},
   "outputs": [
    {
     "data": {
      "text/plain": [
       "[(1, 3), (2, 1)]"
      ]
     },
     "execution_count": 8,
     "metadata": {},
     "output_type": "execute_result"
    }
   ],
   "source": [
    "with_conn('SELECT * FROM Orders')"
   ]
  },
  {
   "cell_type": "code",
   "execution_count": 12,
   "metadata": {},
   "outputs": [
    {
     "data": {
      "text/plain": [
       "[('Henry',), ('Max',)]"
      ]
     },
     "execution_count": 12,
     "metadata": {},
     "output_type": "execute_result"
    }
   ],
   "source": [
    "with_conn('SELECT Name FROM Customers WHERE Name NOT IN (SELECT c.Name FROM Customers c, Orders o WHERE o.CustomerId= c.Id)')"
   ]
  },
  {
   "cell_type": "markdown",
   "metadata": {},
   "source": [
    "### Exercise 3\n",
    "\n",
    "Table `my_numbers` contains many numbers in column num including duplicated ones.\n",
    "Can you write a SQL query to find the biggest number, which only appears once.\n",
    "```\n",
    "+---+\n",
    "|num|\n",
    "+---+\n",
    "| 8 |\n",
    "| 8 |\n",
    "| 3 |\n",
    "| 3 |\n",
    "| 1 |\n",
    "| 4 |\n",
    "| 5 |\n",
    "| 6 | \n",
    "```\n",
    "For the sample data above, your query should return the following result:\n",
    "```\n",
    "+---+\n",
    "|num|\n",
    "+---+\n",
    "| 6 |\n",
    "```\n"
   ]
  },
  {
   "cell_type": "code",
   "execution_count": 13,
   "metadata": {},
   "outputs": [],
   "source": [
    "import sqlite3\n",
    "\n",
    "sql_commands = \\\n",
    "\"\"\"\n",
    "DROP TABLE IF EXISTS my_numbers;\n",
    "\n",
    "CREATE TABLE my_numbers (\n",
    " id INTEGER NOT NULL PRIMARY KEY,\n",
    " num INTEGER NOT NULL\n",
    ");\n",
    "\n",
    "INSERT INTO my_numbers (num) VALUES ('8');\n",
    "INSERT INTO my_numbers (num) VALUES ('8');\n",
    "INSERT INTO my_numbers (num) VALUES ('3');\n",
    "INSERT INTO my_numbers (num) VALUES ('3');\n",
    "INSERT INTO my_numbers (num) VALUES ('1');\n",
    "INSERT INTO my_numbers (num) VALUES ('4');\n",
    "INSERT INTO my_numbers (num) VALUES ('5');\n",
    "INSERT INTO my_numbers (num) VALUES ('6');\n",
    "\"\"\"\n",
    "db = sqlite3.connect('week-30-lab.db')\n",
    "cursor = db.cursor()\n",
    "cursor.executescript(sql_commands)\n",
    "db.commit()\n",
    "db.close()"
   ]
  },
  {
   "cell_type": "code",
   "execution_count": 14,
   "metadata": {},
   "outputs": [],
   "source": [
    "# use this function for your answers.\n",
    "def with_conn(statement):\n",
    "    conn = sqlite3.connect('week-30-lab.db')\n",
    "    with conn:\n",
    "        cur = conn.cursor()\n",
    "        cur.execute(statement)\n",
    "        result = cur.fetchall()\n",
    "        return result"
   ]
  },
  {
   "cell_type": "code",
   "execution_count": 15,
   "metadata": {},
   "outputs": [
    {
     "data": {
      "text/plain": [
       "[(8,), (8,), (3,), (3,), (1,), (4,), (5,), (6,)]"
      ]
     },
     "execution_count": 15,
     "metadata": {},
     "output_type": "execute_result"
    }
   ],
   "source": [
    "with_conn('SELECT num FROM my_numbers')"
   ]
  },
  {
   "cell_type": "code",
   "execution_count": 19,
   "metadata": {},
   "outputs": [
    {
     "data": {
      "text/plain": [
       "[(6,)]"
      ]
     },
     "execution_count": 19,
     "metadata": {},
     "output_type": "execute_result"
    }
   ],
   "source": [
    "with_conn(\"SELECT MAX(num) FROM my_numbers WHERE num IN (select num from my_numbers GROUP BY num HAVING COUNT(num)=1)\") "
   ]
  },
  {
   "cell_type": "markdown",
   "metadata": {},
   "source": [
    "### Exercise 4\n",
    "\n",
    "The `CompanyEmployee` table holds all employees including their managers. Every employee has an `Id`, and there is also a column for the manager `Id`.\n",
    "```\n",
    "+----+-------+--------+-----------+\n",
    "| Id | Name  | Salary | ManagerId |\n",
    "+----+-------+--------+-----------+\n",
    "| 1  | Joe   | 70000  | 3         |\n",
    "| 2  | Henry | 80000  | 4         |\n",
    "| 3  | Sam   | 60000  | NULL      |\n",
    "| 4  | Max   | 90000  | NULL      |\n",
    "+----+-------+--------+-----------+\n",
    "```\n",
    "Given the Employee table, write a SQL query that finds out employees who earn more than their managers. For the above table, Joe is the only employee who earns more than his manager.\n",
    "```\n",
    "+----------+\n",
    "| Employee |\n",
    "+----------+\n",
    "| Joe      |\n",
    "+----------+\n",
    "```\n",
    "\n"
   ]
  },
  {
   "cell_type": "code",
   "execution_count": 20,
   "metadata": {},
   "outputs": [],
   "source": [
    "import sqlite3\n",
    "\n",
    "sql_commands = \\\n",
    "\"\"\"\n",
    "DROP TABLE IF EXISTS CompanyEmployee;\n",
    "\n",
    "CREATE TABLE CompanyEmployee (\n",
    " Id INTEGER NOT NULL PRIMARY KEY,\n",
    " Name VARCHAR(50) NOT NULL,\n",
    " Salary INTEGER NOT NULL,\n",
    " ManagerId Integer\n",
    ");\n",
    "\n",
    "INSERT INTO CompanyEmployee (Id, Name, Salary, ManagerId) Values ('1', 'Joe', '70000', '3');\n",
    "INSERT INTO CompanyEmployee (Id, Name, Salary, ManagerId) Values ('2', 'Henry', '80000', '4');\n",
    "INSERT INTO CompanyEmployee (Id, Name, Salary) Values ('3', 'Sam', '60000');\n",
    "INSERT INTO CompanyEmployee (Id, Name, Salary) Values ('4', 'Max', '90000');\n",
    "\"\"\"\n",
    "db = sqlite3.connect('week-30-lab.db')\n",
    "cursor = db.cursor()\n",
    "cursor.executescript(sql_commands)\n",
    "db.commit()\n",
    "db.close()"
   ]
  },
  {
   "cell_type": "code",
   "execution_count": 21,
   "metadata": {},
   "outputs": [],
   "source": [
    "# use this function for your answers.\n",
    "def with_conn(statement):\n",
    "    conn = sqlite3.connect('week-30-lab.db')\n",
    "    with conn:\n",
    "        cur = conn.cursor()\n",
    "        cur.execute(statement)\n",
    "        result = cur.fetchall()\n",
    "        return result"
   ]
  },
  {
   "cell_type": "code",
   "execution_count": 22,
   "metadata": {},
   "outputs": [
    {
     "data": {
      "text/plain": [
       "[(1, 'Joe', 70000, 3),\n",
       " (2, 'Henry', 80000, 4),\n",
       " (3, 'Sam', 60000, None),\n",
       " (4, 'Max', 90000, None)]"
      ]
     },
     "execution_count": 22,
     "metadata": {},
     "output_type": "execute_result"
    }
   ],
   "source": [
    "with_conn('SELECT * FROM CompanyEmployee')"
   ]
  },
  {
   "cell_type": "code",
   "execution_count": 23,
   "metadata": {},
   "outputs": [
    {
     "data": {
      "text/plain": [
       "[('Joe',)]"
      ]
     },
     "execution_count": 23,
     "metadata": {},
     "output_type": "execute_result"
    }
   ],
   "source": [
    "with_conn('SELECT emp.Name FROM CompanyEmployee emp, CompanyEmployee mgr WHERE emp.ManagerId=mgr.Id AND emp.Salary > mgr.Salary')"
   ]
  },
  {
   "cell_type": "markdown",
   "metadata": {},
   "source": [
    "# Django Practice\n",
    "\n",
    "In your ongoing `Django` project (not the final project or the one from class this week). Create a `models.py` file in your main app and then add relevant models to your project. Once you get that to work (check that your models work by using `python manage.py shell` to work with your models), then try getting the following to work:\n",
    "\n",
    "In your `views.py` file, attempt to access one of your models via views like so:\n",
    "\n",
    "example\n",
    "\n",
    "```python\n",
    "from django.http import HttpResponse\n",
    "from django.shortcuts import render\n",
    "from <app>.models import User\n",
    "\n",
    "def listing(request):\n",
    "    data = {\n",
    "        \"users\": User.objects.all(),\n",
    "    }\n",
    "\n",
    "    # here we're passing the data to our template \n",
    "    # we can use tags in our template to display our data\n",
    "    return render(request, \"index.html\", data)\n",
    "```\n",
    "\n",
    "Complete the following:\n",
    "* Create two models in the `models.py` file of your app inside your project. Make the two models have some sort of relationship (one-to-one, many-to-many, many-to-one).\n",
    "* Add rows/entries to your tables/models via `python manage.py shell`\n",
    "* Create a view in our `views.py` file that uses your models in your views.\n",
    "\n",
    "When your code is working, commit it to github and submit the link with this notebook in your lab submission."
   ]
  },
  {
   "cell_type": "markdown",
   "metadata": {},
   "source": [
    "# Data Pipeline Project\n",
    "\n",
    "Continue working on your project. At this point you should have some initial data gathered and should be working on initial data analysis and cleanup. Begin planning how you would like to store your data and begin setting up your database and inputting your data.\n",
    "\n",
    "Submit in this lab:\n",
    "* your topic\n",
    "* information about your data gathered\n",
    "* a plan for your database including which tables you will need and what columns they require."
   ]
  },
  {
   "cell_type": "code",
   "execution_count": null,
   "metadata": {},
   "outputs": [],
   "source": []
  },
  {
   "cell_type": "markdown",
   "metadata": {},
   "source": [
    "# Work on your project due this weekend."
   ]
  },
  {
   "cell_type": "code",
   "execution_count": null,
   "metadata": {},
   "outputs": [],
   "source": []
  }
 ],
 "metadata": {
  "kernelspec": {
   "display_name": "Python 3",
   "language": "python",
   "name": "python3"
  },
  "language_info": {
   "codemirror_mode": {
    "name": "ipython",
    "version": 3
   },
   "file_extension": ".py",
   "mimetype": "text/x-python",
   "name": "python",
   "nbconvert_exporter": "python",
   "pygments_lexer": "ipython3",
   "version": "3.8.3"
  }
 },
 "nbformat": 4,
 "nbformat_minor": 5
}
