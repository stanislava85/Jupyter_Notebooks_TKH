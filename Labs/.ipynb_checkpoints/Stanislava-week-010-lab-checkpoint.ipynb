{
 "cells": [
  {
   "cell_type": "markdown",
   "metadata": {},
   "source": [
    "<div style=\"background: #000;\n",
    "            color: #FFF;\n",
    "            margin: 0px;\n",
    "                padding: 10px 0px 20px 0px;\n",
    "            text-align: center; \n",
    "                \">\n",
    "    <h1>Week 10 Lab</h1>\n",
    "</div>"
   ]
  },
  {
   "cell_type": "markdown",
   "metadata": {},
   "source": [
    "# Exercise 1\n",
    "\n",
    "Building off of your portfolio web application, we'd like to add a form to the page.\n",
    "Use the example flask application code to add a contact page to your web application with an associated form. If you already have a portfolio web app, then add a form of some sort to the same application you created a git repo for.\n",
    "\n",
    "Commit your code to that same repo and submit the link with your lab submission."
   ]
  },
  {
   "cell_type": "code",
   "execution_count": null,
   "metadata": {},
   "outputs": [],
   "source": [
    "@app.route('/contact', methods=[\"GET\", \"POST\"])\n",
    "def contact():\n",
    "    if request.method == 'POST':\n",
    "        un = request.form[\"name\"]\n",
    "        ms = request.form[\"message\"]\n",
    "        user = User(username=un, message=ms)\n",
    "        db.session.add(user)\n",
    "        db.session.commit()\n",
    "        return redirect(url_for('home'))\n",
    "    return render_template(\"contact.html\")\n",
    "\n",
    "\n",
    "#please refer to my github for the full code"
   ]
  },
  {
   "cell_type": "markdown",
   "metadata": {},
   "source": [
    "# Exercise 2\n",
    "\n",
    "Write a function that creates a sqlite database with a table `customer` with the following columns:\n",
    "* `name` - string of length 255 \n",
    "* `address` - string of length 255\n",
    "* `email` - string of length 255\n",
    "* `company` - string of length 255\n",
    "* `outstanding_invoices` - int"
   ]
  },
  {
   "cell_type": "code",
   "execution_count": 5,
   "metadata": {},
   "outputs": [],
   "source": [
    "from flask import Flask\n",
    "from flask_sqlalchemy import SQLAlchemy\n",
    "\n",
    "app = Flask(__name__)\n",
    "app.config['SQLALCHEMY_DATABASE_URI'] = 'sqlite:///flask_database_lab.db'\n",
    "app.config['SQLALCHEMY_TRACK_MODIFICATIONS'] = False\n",
    "db = SQLAlchemy(app)\n",
    "\n",
    "class Customer(db.Model):\n",
    "    id = db.Column(db.Integer, primary_key=True)\n",
    "    name = db.Column(db.String(255), nullable=False)\n",
    "    house_address = db.Column(db.String(255), nullable=False)\n",
    "    email = db.Column(db.String(255), nullable=False)\n",
    "    company = db.Column(db.String(255), nullable=False)\n",
    "    outstanding_invoices = db.Column(db.Integer, nullable=False)\n",
    "\n",
    "    def __repr__(self):\n",
    "        return f\"<Customer: Id: {self.id}, Name: {self.name}, Address: {self.address}, \\\n",
    "        Email: {self.email}, Company: {self.company}, Outstanding Invoices: {self.outstanding_invoices}>\"\n",
    "    \n",
    "db.create_all()\n",
    "\n",
    "new_customer = Customer(name=\"Ana\", house_address=\"123 Booth str\", email=\"ana@gmail.com\", company= \"google\", outstanding_invoices = 3)\n",
    "db.session.add(new_customer)\n",
    "db.session.commit()"
   ]
  },
  {
   "cell_type": "markdown",
   "metadata": {},
   "source": [
    "# Exercise 2\n",
    "\n",
    "Start to create a python script that scrapes the data from the source for your final project.\n",
    "\n",
    "Answer the following below for your lab submission:\n",
    "\n",
    "What is the source of your data?\n",
    "\n",
    "What is the page you will be scraping the data from?\n",
    "\n",
    "What sort of link/elements do you need to target in order to get your data?\n",
    "\n",
    "What will be the structure of your sqlite database?  \n",
    "\n",
    "What tables will you need?  \n",
    "\n",
    "What columns will those tables have?  \n",
    "\n",
    "What connections between tables might you need?"
   ]
  },
  {
   "cell_type": "code",
   "execution_count": null,
   "metadata": {},
   "outputs": [],
   "source": [
    "from flask import Flask\n",
    "import requests\n",
    "from bs4 import BeautifulSoup\n",
    "\n",
    "app = Flask('webapp')\n",
    "URL = 'https://worldpopulationreview.com/country-rankings/maternity-leave-by-country'  \n",
    "page = requests.get(URL)\n",
    "soup = BeautifulSoup(page.content)\n"
   ]
  },
  {
   "cell_type": "raw",
   "metadata": {},
   "source": [
    "I am targeting the table at the end of the landing page.\n",
    "Copy selector on that table is --> #dataTable > div.jsx-271796610.content.has-flag.container-fluid.horizontal-section-container.undefined > div > div.col-md-8 > div > div > div.jsx-2642336383.table-container > table\n",
    "My table will have 4 rows for each: country, weeks paid, payment rate, population\n",
    "The country column will be the key (main element) for each row.\n",
    "Currently, there are 42 countries (keys) on the website that need to be scraped. Therefore, I plan to have 42 rows/entries.\n",
    "I do not see any relations on the current table on the website, however maybe I could create some relations between the values\n",
    "and add a new column for them. For example, I could estimate the relation: weeks paid vs payment rate, and output some %.\n",
    "\n"
   ]
  },
  {
   "cell_type": "code",
   "execution_count": null,
   "metadata": {},
   "outputs": [],
   "source": []
  }
 ],
 "metadata": {
  "kernelspec": {
   "display_name": "Python 3",
   "language": "python",
   "name": "python3"
  },
  "language_info": {
   "codemirror_mode": {
    "name": "ipython",
    "version": 3
   },
   "file_extension": ".py",
   "mimetype": "text/x-python",
   "name": "python",
   "nbconvert_exporter": "python",
   "pygments_lexer": "ipython3",
   "version": "3.8.3"
  }
 },
 "nbformat": 4,
 "nbformat_minor": 4
}
