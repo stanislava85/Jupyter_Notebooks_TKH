{
 "cells": [
  {
   "cell_type": "markdown",
   "metadata": {},
   "source": [
    "<div style=\"background: #000;\n",
    "            color: #FFF;\n",
    "            margin: 0px;\n",
    "            padding: 10px 0px 20px 0px;\n",
    "            text-align: center; \n",
    "                \">\n",
    "    <h1 >Week 25 Lab</h1>\n",
    "</div>\n",
    "\n",
    "### Open Ended Questions:\n",
    "1. What do you understand by Machine Learning? What does it mean and how does it work?\n",
    "2. What are the different Algorithms techniques in Machine Learning?\n",
    "3. What is the difference between supervised and unsupervised machine learning?\n",
    "4. What is Overfitting in Machine Learning?\n",
    "5. What is the difference between classification and regression?\n",
    "6. In what situations would you use a linear regression? What do you need for a linear regression? Briefly explain the process\n",
    "7. In what situations would you use a logistic regression? What do you need for a logistic regression? Briefly explain the process\n",
    "8. What is cross validation? Why is it useful?\n",
    "9. Explain the Bias vs. Variance issue and how it affects our machine learning models.\n",
    "10. Explain the sklearn method `test_train_split`. Why do we use it?\n",
    "11. Why do we calculate errors for supervised learning? \n",
    "12. What is $R^{2}$ and why do we use it to analyze the fitness of our linear regressions?\n",
    "13. Explain what the metrics we use to evaluate the performance of our logistic regressions mean (accuracy, precision, recall). What is a confusion matrix and what does it help us understand?\n",
    "### "
   ]
  },
  {
   "cell_type": "raw",
   "metadata": {},
   "source": [
    "1. What do you understand by Machine Learning? What does it mean and how does it work?\n",
    " Machine learning is the process of cleaning, altering and preparing data for the purpose of building a model that predicts something. It is important to decide what features to include while building a model, the machine learning algorithm can be based on 1 independent feature/varible or multiple in order to predict our dependent variable. When creating a machine learning model we need to strive for a good \"score\", which will show that our model is accurate, based on comparing actual to predicted values. We need to create a good model but not a perfect one (overfitting), because if our model is too perfect it will be very accurate for the current data but it won't predict accurately when new data is plugged."
   ]
  },
  {
   "cell_type": "raw",
   "metadata": {},
   "source": [
    "2. What are the different Algorithms techniques in Machine Learning? \n",
    "supervised and unsuervised????"
   ]
  },
  {
   "cell_type": "raw",
   "metadata": {},
   "source": [
    "3. What is the difference between supervised and unsupervised machine learning?\n",
    "In supervised machine learning we try to reduce the errors. In unsupervised ML we try to maximize the similarities. \n",
    "We use supervised machine learning when the data is labeled and we know what we want to model. Unsupervised ML doesn't have labeleld data, so it is hard to know what we are looking for, it is good for finding hidden patterns."
   ]
  },
  {
   "cell_type": "raw",
   "metadata": {},
   "source": [
    "4. What is Overfitting in Machine Learning? \n",
    "Overfitting is when we make our model too perfect, so it performs very well with the given data. But if we decide to use it with new data it will perform poorly. "
   ]
  },
  {
   "cell_type": "raw",
   "metadata": {},
   "source": [
    "5. What is the difference between classification and regression? \n",
    "The difference is the output - in a regression, the output variable ‘y’ is numeric and continuous, in the classification algorithm, the output variable ‘y’ is discrete and categorical."
   ]
  },
  {
   "cell_type": "raw",
   "metadata": {},
   "source": [
    "6. In what situations would you use a linear regression? What do you need for a linear regression? Briefly explain the process. \n",
    "I would use a linear regression in a situation that the correlation between 2 variables (x,y) is closer to 1. This will show me high correlation between them. So, I would be able to predict Y based on X, and I could also add ultiple Xs that have good correlation to Y. In order to do that I will need a dataset with at least 2 columns with good correlation stats. I will try to predict one (Y), based on the other (X). I will take the data, plot it to confirm the linear correlation, then I will use 20% of the data to train my model andd the other 80% to test it. Once I do that with the appropritae python functions I'd comapre the the 2 charts/results --> X_test, y_test (actual) to X_test, y_pred (predicted) to see what's the r^2. The closer to 1 it is, the better the model is."
   ]
  },
  {
   "cell_type": "raw",
   "metadata": {},
   "source": [
    "7. In what situations would you use a logistic regression? What do you need for a logistic regression? Briefly explain the process. \n",
    "I would use a logistic regression in order to build a model that classifies data in 2 different cathegories. I would still need a linear sort of relationship between the X and Y values in order to do the log regression but the results here will have a binary outcome. "
   ]
  },
  {
   "cell_type": "raw",
   "metadata": {},
   "source": [
    "8. What is cross validation? Why is it useful? \n",
    "In cross-validation, the data is split multiple times and multiple models are trained. Cross validation is good because it makes sure that the random division of data (that tain_test_split performs) doesn't end up putting all the easy examples in one set and the hard one is other."
   ]
  },
  {
   "cell_type": "raw",
   "metadata": {},
   "source": [
    "9. Explain the Bias vs. Variance issue and how it affects our machine learning models.\n",
    "When we deal with complex predictions, we usually use large amount of data. In this case we end up with predictions that have Low Bias and High Variance. On the contrary, when we need to predict something not too complex we use less amount of data and we end up with High Bias and Low Variance results. \n",
    "Ideally, we need to find the sweet spot and balance the model complexity in order to have both low bias and low variance."
   ]
  },
  {
   "cell_type": "raw",
   "metadata": {},
   "source": [
    "10. Explain the sklearn method test_train_split. Why do we use it? \n",
    "We use this method in supervised ML, where we split our data into test and train data. The data we use to train our model is usually about 20%, the rest is for testing. With this function, you don't need to divide the dataset manually. By default, Sklearn train_test_split will make random partitions for the two subsets. Using the same dataset for both training and testing leaves room for miscalculations, thus increases the chances of inaccurate predictions.\n",
    "\n",
    "The train_test_split function allows you to break a dataset with ease while pursuing an ideal model."
   ]
  },
  {
   "cell_type": "raw",
   "metadata": {},
   "source": [
    "11. Why do we calculate errors for supervised learning? \n",
    "Every supervised learning problem encounters either bias or variance error. Once you know where(bias or variance) your model is doing wrong, it becomes easier to get the next direction and know how to improve it."
   ]
  },
  {
   "cell_type": "raw",
   "metadata": {},
   "source": [
    "12. What is  𝑅2  and why do we use it to analyze the fitness of our linear regressions? \n",
    "R2 is the goodness of fit, the Coefficient of Determination. R2 is the extent to which the variation in Y is explained by the variation in X. R2 is the ratio of the explained variance to the total variance. On adding a new variable the explained variance and hence the value of R2 will increase, or at least, will not decrease -- this is the problem of R2.\n",
    "\n",
    "R-squared is a statistical measure of how close the data are to the fitted regression line. R-squared is always between 0 and 100%: 0% indicates that the model explains NONE of the variability of the response data around its mean; 100% indicates that the model explains all the variability of the response data around its mean. \n",
    "We use r-squared to analyze how good is our model - In general, the higher the R-squared, the better the model fits your data. \n"
   ]
  },
  {
   "cell_type": "raw",
   "metadata": {},
   "source": [
    "13. Explain what the metrics we use to evaluate the performance of our logistic regressions mean (accuracy, precision, recall). What is a confusion matrix and what does it help us understand? \n",
    "Accuracy - What fraction of predictions did our model get righ. Precision - What proportion of positive identifications were actually correct. Recall - What proportion of actual positives were identified correctly. \n",
    "A confusion matrix is a table that is used to evaluate the performance of a classification model.  The fundamental of a confusion matrix is the number of correct and incorrect predictions are summed up class-wise."
   ]
  }
 ],
 "metadata": {
  "kernelspec": {
   "display_name": "Python 3",
   "language": "python",
   "name": "python3"
  },
  "language_info": {
   "codemirror_mode": {
    "name": "ipython",
    "version": 3
   },
   "file_extension": ".py",
   "mimetype": "text/x-python",
   "name": "python",
   "nbconvert_exporter": "python",
   "pygments_lexer": "ipython3",
   "version": "3.8.3"
  }
 },
 "nbformat": 4,
 "nbformat_minor": 5
}
