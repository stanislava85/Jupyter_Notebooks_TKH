{
 "cells": [
  {
   "cell_type": "markdown",
   "metadata": {},
   "source": [
    "<div style=\"background: #000;\n",
    "            color: #FFF;\n",
    "            margin: 0px;\n",
    "            margin-bottom: 10px;\n",
    "            padding: 10px 0px 20px 0px;\n",
    "            text-align: center; \n",
    "                \">\n",
    "    <h1>Week 29 Lab</h1> \n",
    "</div>"
   ]
  },
  {
   "cell_type": "markdown",
   "metadata": {},
   "source": [
    "# Interview Question practice"
   ]
  },
  {
   "cell_type": "markdown",
   "metadata": {},
   "source": [
    "### Exercise 1\n",
    "\n",
    "https://leetcode.com/problems/find-total-time-spent-by-each-employee/\n",
    "\n",
    "```\n",
    "+-------------+------+\n",
    "| Column Name | Type |\n",
    "+-------------+------+\n",
    "| emp_id      | int  |\n",
    "| event_day   | date |\n",
    "| in_time     | int  |\n",
    "| out_time    | int  |\n",
    "+-------------+------+\n",
    "(emp_id, event_day, in_time) is the primary key of this table.\n",
    "The table shows the employees' entries and exits in an office.\n",
    "event_day is the day at which this event happened, in_time is the minute at which the employee entered the office, and out_time is the minute at which they left the office.\n",
    "in_time and out_time are between 1 and 1440.\n",
    "It is guaranteed that no two events on the same day intersect in time, and in_time < out_time.\n",
    "```\n",
    "\n",
    "Write an SQL query to calculate the total time in minutes spent by each employee on each day at the office. Note that within one day, an employee can enter and leave more than once. The time spent in the office for a single entry is `out_time - in_time`.\n",
    "\n",
    "Return the result table in any order.\n",
    "\n",
    "The query result format is in the following example:\n",
    "\n",
    "```\n",
    "Employees table:\n",
    "+--------+------------+---------+----------+\n",
    "| emp_id | event_day  | in_time | out_time |\n",
    "+--------+------------+---------+----------+\n",
    "| 1      | 2020-11-28 | 4       | 32       |\n",
    "| 1      | 2020-11-28 | 55      | 200      |\n",
    "| 1      | 2020-12-03 | 1       | 42       |\n",
    "| 2      | 2020-11-28 | 3       | 33       |\n",
    "| 2      | 2020-12-09 | 47      | 74       |\n",
    "+--------+------------+---------+----------+\n",
    "Result table:\n",
    "+------------+--------+------------+\n",
    "| day        | emp_id | total_time |\n",
    "+------------+--------+------------+\n",
    "| 2020-11-28 | 1      | 173        |\n",
    "| 2020-11-28 | 2      | 30         |\n",
    "| 2020-12-03 | 1      | 41         |\n",
    "| 2020-12-09 | 2      | 27         |\n",
    "+------------+--------+------------+\n",
    "Employee 1 has three events: two on day 2020-11-28 with a total of (32 - 4) + (200 - 55) = 173, and one on day 2020-12-03 with a total of (42 - 1) = 41.\n",
    "Employee 2 has two events: one on day 2020-11-28 with a total of (33 - 3) = 30, and one on day 2020-12-09 with a total of (74 - 47) = 27.\n",
    "\n",
    "```"
   ]
  },
  {
   "cell_type": "code",
   "execution_count": 2,
   "metadata": {},
   "outputs": [],
   "source": [
    "import sqlite3\n",
    "\n",
    "sql_commands = \\\n",
    "\"\"\"\n",
    "DROP TABLE IF EXISTS employees;\n",
    "\n",
    "CREATE TABLE employees (\n",
    " emp_id INTEGER NOT NULL,\n",
    " event_day DATE NOT NULL,\n",
    " in_time INTEGER NOT NULL,\n",
    " out_time INTEGER NOT NULL\n",
    ");\n",
    "\n",
    "INSERT into employees (emp_id, event_day, in_time, out_time) values ('1', '2020-11-28', '4', '32');\n",
    "INSERT into employees (emp_id, event_day, in_time, out_time) values ('1', '2020-11-28', '55', '200');\n",
    "INSERT into employees (emp_id, event_day, in_time, out_time) values ('1', '2020-12-3', '1', '42');\n",
    "INSERT into employees (emp_id, event_day, in_time, out_time) values ('2', '2020-11-28', '3', '33');\n",
    "INSERT into employees (emp_id, event_day, in_time, out_time) values ('2', '2020-12-9', '47', '74');\n",
    "\n",
    "\"\"\"\n",
    "\n",
    "db = sqlite3.connect('employees.db')\n",
    "cursor = db.cursor()\n",
    "cursor.executescript(sql_commands)\n",
    "db.commit()\n",
    "db.close()"
   ]
  },
  {
   "cell_type": "code",
   "execution_count": 3,
   "metadata": {},
   "outputs": [],
   "source": [
    "# use this function for your answers.\n",
    "def with_conn(statement):\n",
    "    conn = sqlite3.connect('employees.db')\n",
    "    with conn:\n",
    "        cur = conn.cursor()\n",
    "        cur.execute(statement)\n",
    "        result = cur.fetchall()\n",
    "        return result "
   ]
  },
  {
   "cell_type": "code",
   "execution_count": 4,
   "metadata": {},
   "outputs": [],
   "source": [
    "# sql_commands = \\\n",
    "# \"\"\"\n",
    "# ALTER TABLE employees  \n",
    "# ADD total_time INTEGER NOT NULL;\n",
    "# \"\"\""
   ]
  },
  {
   "cell_type": "code",
   "execution_count": 5,
   "metadata": {},
   "outputs": [
    {
     "data": {
      "text/plain": [
       "[(1, '2020-11-28', 4, 32),\n",
       " (1, '2020-11-28', 55, 200),\n",
       " (1, '2020-12-3', 1, 42),\n",
       " (2, '2020-11-28', 3, 33),\n",
       " (2, '2020-12-9', 47, 74)]"
      ]
     },
     "execution_count": 5,
     "metadata": {},
     "output_type": "execute_result"
    }
   ],
   "source": [
    "with_conn('SELECT * FROM employees;')"
   ]
  },
  {
   "cell_type": "code",
   "execution_count": 9,
   "metadata": {},
   "outputs": [],
   "source": [
    "#with_conn(\"SELECT emp_id, event_day,(out_time - in_time) FROM employees WHERE emp_id = 1 ORDER BY event_day ASC;\")"
   ]
  },
  {
   "cell_type": "code",
   "execution_count": 10,
   "metadata": {},
   "outputs": [
    {
     "data": {
      "text/plain": [
       "[(1, '2020-11-28', 173),\n",
       " (2, '2020-11-28', 30),\n",
       " (1, '2020-12-3', 41),\n",
       " (2, '2020-12-9', 27)]"
      ]
     },
     "execution_count": 10,
     "metadata": {},
     "output_type": "execute_result"
    }
   ],
   "source": [
    "with_conn(\"SELECT emp_id, event_day, SUM(out_time - in_time) FROM employees WHERE (SELECT event_day from employees) GROUP BY event_day, emp_id;\")"
   ]
  },
  {
   "cell_type": "markdown",
   "metadata": {},
   "source": [
    "### Exercise 2 \n",
    "\n",
    "https://leetcode.com/problems/partition-array-into-three-parts-with-equal-sum\n",
    "\n",
    "Given an array of integers `arr`, return `True` if we can partition the array into three non-empty parts with equal sums.\n",
    "\n",
    "Formally, we can partition the array if we can find indexes `i + 1 < j` with `(arr[0] + arr[1] + ... + arr[i] == arr[i + 1] + arr[i + 2] + ... + arr[j - 1] == arr[j] + arr[j + 1] + ... + arr[arr.length - 1])`.\n",
    "\n",
    "**Example 1:**  \n",
    "\n",
    "Input: `arr = [0,2,1,-6,6,-7,9,1,2,0,1]`  \n",
    "Output: `True`\n",
    "Explanation: 0 + 2 + 1 = -6 + 6 - 7 + 9 + 1 = 2 + 0 + 1\n",
    "\n",
    "**Example 2:**  \n",
    "\n",
    "Input: `arr = [0,2,1,-6,6,7,9,-1,2,0,1]`  \n",
    "Output: `False`  \n",
    "\n",
    "**Example 3:**\n",
    "\n",
    "Input: `arr = [3,3,6,5,-2,2,5,1,-9,4]`\n",
    "Output: `True`\n",
    "Explanation: 3 + 3 = 6 = 5 - 2 + 2 + 5 + 1 - 9 + 4\n",
    "\n",
    " \n",
    "\n",
    "Constraints:\n",
    "* `3 <= arr.length <= 5 * 10**4`\n",
    "* `-104 <= arr[i] <= 10**4`\n",
    "\n",
    "\n"
   ]
  },
  {
   "cell_type": "code",
   "execution_count": 1,
   "metadata": {},
   "outputs": [
    {
     "name": "stdout",
     "output_type": "stream",
     "text": [
      "solution is correct\n"
     ]
    }
   ],
   "source": [
    "from typing import List\n",
    "\n",
    "def exercise2(arr: List[int] = [0,2,1,-6,6,-7,9,1,2,0,1]) -> bool:\n",
    "    s = sum(arr)  \n",
    "    if s%3 != 0:   # if the total sum doesn't divide into three, return false\n",
    "        return False   \n",
    "    each = s/3   # calculate sum of each part\n",
    "    temp, found = 0, 0   # count parts with right sum\n",
    "    for i in range(len(arr)):\n",
    "        temp+=arr[i]\n",
    "            \n",
    "        if temp == each:\n",
    "            temp = 0\n",
    "            found+=1\n",
    "                \n",
    "    if found >= 3:\n",
    "        return True \n",
    "    else:\n",
    "        return False\n",
    "        \n",
    "        \n",
    "#exercise2()\n",
    "\n",
    "try:\n",
    "    assert(exercise2() == True)\n",
    "    assert(exercise2([0,2,1,-6,6,7,9,-1,2,0,1]) == False)\n",
    "    assert(exercise2([3,3,6,5,-2,2,5,1,-9,4]) == True)\n",
    "    print(\"solution is correct\")\n",
    "except AssertionError:\n",
    "    print(\"solution is incorrect\")"
   ]
  },
  {
   "cell_type": "markdown",
   "metadata": {},
   "source": [
    "# Django Practice\n",
    "\n",
    "Using the django project you created during class last week (not your data-pipeline final project) and the notes from the lesson yesterday, create some views for your project including proper Django templates. You may use this project as:\n",
    "* a dummy website for practice\n",
    "* a web application for your portfolio\n",
    "* your own personal website or portfolio page\n",
    "* anything you'd like to build\n",
    "\n",
    "Requirements:\n",
    "* Create at least two views, each using its own template\n",
    "* Create a `base.html` template that each of the templates in the previous bulletpoint inherit from.\n",
    "\n",
    "When your initial views are ready, set the project up as a git repo and push it to github. Include the link with your lab submission.\n",
    "\n",
    "# Data Pipeline Project\n",
    "\n",
    "Continue working on your project. At this point you should have an idea of what sort of data you will be working with and should be in the process of gathering this data and preparing initial cleanup. Your project should be on github so commit any changes you make to your github project. We will be checking for commits made between today and sunday.\n",
    "\n",
    "# Work on `Week-29-Project`"
   ]
  },
  {
   "cell_type": "markdown",
   "metadata": {},
   "source": [
    "This is my Django-practice repo\n",
    "\n",
    "https://github.com/stanislava85/Django_website"
   ]
  },
  {
   "cell_type": "code",
   "execution_count": null,
   "metadata": {},
   "outputs": [],
   "source": []
  }
 ],
 "metadata": {
  "kernelspec": {
   "display_name": "Python 3",
   "language": "python",
   "name": "python3"
  },
  "language_info": {
   "codemirror_mode": {
    "name": "ipython",
    "version": 3
   },
   "file_extension": ".py",
   "mimetype": "text/x-python",
   "name": "python",
   "nbconvert_exporter": "python",
   "pygments_lexer": "ipython3",
   "version": "3.8.3"
  }
 },
 "nbformat": 4,
 "nbformat_minor": 5
}
