{
 "cells": [
  {
   "cell_type": "markdown",
   "metadata": {},
   "source": [
    "<div style=\"background: #000;\n",
    "            color: #FFF;\n",
    "            margin: 0px;\n",
    "            margin-bottom: 10px;\n",
    "            padding: 10px 0px 20px 0px;\n",
    "            text-align: center; \n",
    "                \">\n",
    "    <h1>Phase 3 Assessment</h1>\n",
    "</div>"
   ]
  },
  {
   "cell_type": "raw",
   "metadata": {},
   "source": [
    "Name: Stanislava Hristova"
   ]
  },
  {
   "cell_type": "markdown",
   "metadata": {},
   "source": [
    "Notes:\n",
    "\n",
    "Please be sure to leave your name in the filename or in this notebook so we know whose work belongs to who. \n",
    "\n",
    "Start with the questions you're able to answer first and then go back to any difficult exercises.\n",
    "\n",
    "For each section, be sure to answer (at minimum) the number of exercises needed per section."
   ]
  },
  {
   "cell_type": "markdown",
   "metadata": {},
   "source": [
    "1. Python Questions - choose **10** exercises out of 20\n",
    "2. SQL Questions - choose **5** exercises out of 10\n",
    "3. Data Science Questions - choose **5** exercises out of 10\n",
    "4. Machine Learning Questions - choose **5** open ended questions out of 10"
   ]
  },
  {
   "cell_type": "markdown",
   "metadata": {},
   "source": [
    "# Python Questions"
   ]
  },
  {
   "cell_type": "markdown",
   "metadata": {},
   "source": [
    "Complete 10 out of 20."
   ]
  },
  {
   "cell_type": "markdown",
   "metadata": {},
   "source": [
    "### Exercise 1\n",
    "\n",
    "Create a function that takes an arbitrary number of keyword arguments and returns two lists: one containing the keys and one containing the values."
   ]
  },
  {
   "cell_type": "code",
   "execution_count": 1,
   "metadata": {},
   "outputs": [
    {
     "name": "stdout",
     "output_type": "stream",
     "text": [
      "solution is correct\n"
     ]
    }
   ],
   "source": [
    "from typing import Tuple, List, Dict\n",
    "\n",
    "def exercise_1(**kwargs: Dict) -> Tuple[List, List]:\n",
    "    l1 = []\n",
    "    l2 = []\n",
    "    for i,j in kwargs.items():\n",
    "        #print(i,j)\n",
    "        l1.append(i)\n",
    "        l2.append(j)\n",
    "    return l1,l2\n",
    "    \n",
    "exercise_1(a=0, b=1, c=2)\n",
    "\n",
    "try:\n",
    "    assert(exercise_1() == ([],[]))\n",
    "    assert(isinstance(exercise_1(), Tuple))\n",
    "    assert(isinstance(exercise_1()[0], List))\n",
    "    assert(exercise_1(a=0) == (['a'], [0]))\n",
    "    assert(exercise_1(a=0, b=1) == (['a', 'b'], [0, 1]))\n",
    "    assert(exercise_1(a=0, b=1, c=2) == (['a', 'b', 'c'], [0, 1, 2]))\n",
    "    print(\"solution is correct\")\n",
    "except AssertionError:\n",
    "    print(\"solution is incorrect\")"
   ]
  },
  {
   "cell_type": "markdown",
   "metadata": {},
   "source": [
    "## Exercise 2\n",
    "\n",
    "Given the following list, use slicing to output the second half backwards. Assign it to `exercise_2`.\n",
    "\n",
    "Hint: start by outputting the list backwards."
   ]
  },
  {
   "cell_type": "code",
   "execution_count": 2,
   "metadata": {},
   "outputs": [
    {
     "name": "stdout",
     "output_type": "stream",
     "text": [
      "solution is correct\n"
     ]
    }
   ],
   "source": [
    "lst = [\"a\", \"b\", \"c\", 1, 2, 3]\n",
    "\n",
    "exercise_2 = lst[5:2:-1]\n",
    "\n",
    "\n",
    "try:\n",
    "    assert(exercise_2 == [3, 2, 1])\n",
    "    print(\"solution is correct\")\n",
    "except AssertionError:\n",
    "    print(\"solution is incorrect\")"
   ]
  },
  {
   "cell_type": "markdown",
   "metadata": {},
   "source": [
    "### Exercise 3\n",
    "\n",
    "Create a class called `Circle` that extends the class `Shape`. `Circle` should be initialized with the same arguments as `Shape` but also take a new argument called `radius`. Override the area method so that it calculates the area of a circle using that `radius`.\n",
    "\n",
    "The area of a circle is calculated using the following formula:\n",
    "\n",
    "$$ A = \\pi r^2$$"
   ]
  },
  {
   "cell_type": "code",
   "execution_count": 3,
   "metadata": {},
   "outputs": [
    {
     "name": "stdout",
     "output_type": "stream",
     "text": [
      "solution is correct\n"
     ]
    }
   ],
   "source": [
    "class Shape:\n",
    "    def __init__(self, color):\n",
    "        self.color = color\n",
    "        \n",
    "    def area(self):\n",
    "        pass\n",
    "    \n",
    "class Circle(Shape):\n",
    "    def __init__(self, color, radius):\n",
    "        Shape.__init__(self, color)\n",
    "        self.radius = radius\n",
    "    \n",
    "    def area(self):\n",
    "        return 3.14 * self.radius ** 2\n",
    "\n",
    "try:\n",
    "    c = Circle(\"red\", 10)\n",
    "    assert(c.area() == round(314))\n",
    "    print(\"solution is correct\")\n",
    "except AssertionError:\n",
    "    print(\"solution is incorrect\")"
   ]
  },
  {
   "cell_type": "markdown",
   "metadata": {},
   "source": [
    "### Exercise 4\n",
    "\n",
    "Create a dictionary comprehension that generates the following dictionary:\n",
    "```\n",
    "{0:'a', 1:'b', 2:'c', 3:'d', 4:'e'}\n",
    "```\n",
    "\n",
    "Assign the dictionary to `exercise_4`."
   ]
  },
  {
   "cell_type": "code",
   "execution_count": 4,
   "metadata": {},
   "outputs": [
    {
     "name": "stdout",
     "output_type": "stream",
     "text": [
      "solution is correct\n"
     ]
    }
   ],
   "source": [
    "v = ['a', 'b', 'c', 'd', 'e']\n",
    "exercise_4 = {k:v for k,v in enumerate(v)}\n",
    "\n",
    "try:\n",
    "    assert(exercise_4 == {0:'a', 1:'b', 2:'c', 3:'d', 4:'e'})\n",
    "    print(\"solution is correct\")\n",
    "except AssertionError:\n",
    "    print(\"solution is incorrect\")"
   ]
  },
  {
   "cell_type": "markdown",
   "metadata": {},
   "source": [
    "### Exercise 5.\n",
    "\n",
    "Create a lambda expression that takes `a`, `b`, `c` and `x` and calculates the following: \n",
    "\n",
    "$$  \\text{f} = \\frac{2ax^4 + 2bx^3 -2cx^2}{2x^2} $$\n",
    "\n",
    "Bonus points: Can you notice the issue you might have with this equation?"
   ]
  },
  {
   "cell_type": "code",
   "execution_count": 7,
   "metadata": {},
   "outputs": [
    {
     "name": "stdout",
     "output_type": "stream",
     "text": [
      "0.0\n",
      "80.0\n",
      "160.0\n",
      "208.0\n",
      "solution is incorrect\n"
     ]
    }
   ],
   "source": [
    "#no - come back and fix\n",
    "\n",
    "f = lambda a,b,c,x: 2*a*(x**4) + 2*b*(x**3) - 2*c*(x**2) / 2*(x^2)\n",
    "f\n",
    "\n",
    "print(f(0,0,0,2))\n",
    "print(f(2,1,0,2))\n",
    "print(f(5,0,0,2))\n",
    "print(f(5,3,4,2))\n",
    "\n",
    "try:\n",
    "    assert(f(0,0,0,2) == 0)\n",
    "    assert(f(2,1,0,2) == 10)\n",
    "    assert(f(5,0,0,2) == 20)\n",
    "    assert(f(5,3,4,2) == 22)\n",
    "    print(\"solution is correct\")\n",
    "except:\n",
    "    print(\"solution is incorrect\")"
   ]
  },
  {
   "cell_type": "markdown",
   "metadata": {},
   "source": [
    "bonus answer:"
   ]
  },
  {
   "cell_type": "code",
   "execution_count": null,
   "metadata": {},
   "outputs": [],
   "source": []
  },
  {
   "cell_type": "markdown",
   "metadata": {},
   "source": [
    "### Exercise 6.\n",
    "\n",
    "Create a function that outputs a list of all the even numbers from 1 to 500 that are also divisible by 3, 5 **OR** 7.\n",
    "\n",
    "note: there is an **\"or\"** in the statement above."
   ]
  },
  {
   "cell_type": "code",
   "execution_count": 8,
   "metadata": {},
   "outputs": [
    {
     "name": "stdout",
     "output_type": "stream",
     "text": [
      "solution is correct\n"
     ]
    }
   ],
   "source": [
    "from hashlib import sha256\n",
    "\n",
    "def exercise_6():\n",
    "    l = []\n",
    "    for num in range(1,501):\n",
    "        if num %2 == 0:\n",
    "            l.append(num)\n",
    "    l1=[]\n",
    "    for i in l:\n",
    "        if i%3 == 0 or i%5 == 0 or i%7 == 0:\n",
    "            l1.append(i)\n",
    "    return l1\n",
    "\n",
    "exercise_6()\n",
    "\n",
    "try:\n",
    "    assert(sha256(str(exercise_6()).encode('utf-8')).hexdigest() == \"a734160e2cde76ca5e8096e376f05d6c4819a06a23a7e03b1d79b348b4558ba6\" )\n",
    "    print(\"solution is correct\")\n",
    "except AssertionError:\n",
    "    print(\"solution is incorrect\")"
   ]
  },
  {
   "cell_type": "markdown",
   "metadata": {},
   "source": [
    "### Exercise 7.\n",
    "\n",
    "Add a method called `from_full_name` to the following function so that we are able to create an instance of the class by passing the a full name (string of first and last name separated by a space). Do not change anything from the try/except block below. Then create an instance using that method."
   ]
  },
  {
   "cell_type": "code",
   "execution_count": 9,
   "metadata": {},
   "outputs": [
    {
     "name": "stdout",
     "output_type": "stream",
     "text": [
      "solution should probably be correct (not guaranteed)\n"
     ]
    }
   ],
   "source": [
    "import inspect # this is necessary for checking your answer - ignore\n",
    "\n",
    "class Person:\n",
    "    def __init__(self, first_name= None, last_name=None):\n",
    "        self.first_name = first_name\n",
    "        self.last_name = last_name\n",
    "    \n",
    "    @classmethod\n",
    "    def from_full_name(cls, full_name):\n",
    "        first_name, last_name = full_name.split(' ')\n",
    "        return Person(first_name, last_name)\n",
    "\n",
    "try:\n",
    "    p = Person.from_full_name(\"A P\")\n",
    "    assert(getattr(p, 'first_name', None) == \"A\")\n",
    "    assert(getattr(p, 'last_name', None) == \"P\")\n",
    "    assert(inspect.ismethod(Person.from_full_name) and Person.from_full_name.__self__ is Person)\n",
    "    print(\"solution should probably be correct (not guaranteed)\")\n",
    "except AssertionError:\n",
    "    print(\"solution is incorrect\")  "
   ]
  },
  {
   "cell_type": "markdown",
   "metadata": {},
   "source": [
    "### Exercise 8\n",
    "\n",
    "The Towers of Hanoi is a mathematical puzzle whose solution can be found using recursion. There are three pegs which can hold stacks of disks of different diameters. A larger disk may never be stacked on top of a smaller. Starting with n disks on one peg, they must be moved to another peg one at a time.\n",
    "\n",
    "Write a function that calculates the smallest number of steps to move the stack.\n",
    "\n",
    "\n",
    "\n",
    "To calculate this, use the following function:\n",
    "\n",
    "\n",
    "$$ \\begin{equation*}\n",
    "\\text{hanoi}(n) = \\left\\{\n",
    "        \\begin{array}{ll}\n",
    "            1 & \\quad \\text{if} \\, n = 1 \\\\\n",
    "            2 * \\text{hanoi}(n-1) + 1 & \\quad \\text{if} \\, n > 1\n",
    "        \\end{array}\n",
    "    \\right.\n",
    "\\end{equation*} $$"
   ]
  },
  {
   "cell_type": "code",
   "execution_count": 10,
   "metadata": {},
   "outputs": [
    {
     "name": "stdout",
     "output_type": "stream",
     "text": [
      "solution is correct\n"
     ]
    }
   ],
   "source": [
    "def hanoi(n):\n",
    "    if n==1:\n",
    "        return 1\n",
    "    elif n>1:\n",
    "        return 2*hanoi(n-1)+1\n",
    "    \n",
    "try:\n",
    "    assert(hanoi(1) == 1)\n",
    "    assert(hanoi(4) == 15)\n",
    "    assert(hanoi(15) == 32767)\n",
    "    print(\"solution is correct\")\n",
    "except AssertionError:\n",
    "    print(\"solution is incorrect\")"
   ]
  },
  {
   "cell_type": "markdown",
   "metadata": {},
   "source": [
    "### Exercise 9\n",
    "\n",
    "Create a function that executes in $O(n^2)$."
   ]
  },
  {
   "cell_type": "code",
   "execution_count": 11,
   "metadata": {},
   "outputs": [
    {
     "name": "stdout",
     "output_type": "stream",
     "text": [
      "a 1\n",
      "a 2\n",
      "a 3\n",
      "b 1\n",
      "b 2\n",
      "b 3\n",
      "c 1\n",
      "c 2\n",
      "c 3\n"
     ]
    }
   ],
   "source": [
    "letters = [\"a\", \"b\", \"c\"]\n",
    "numbers = [\"1\", \"2\", \"3\"]\n",
    "\n",
    "for i in letters:\n",
    "    for j in numbers:\n",
    "        print(i, j)"
   ]
  },
  {
   "cell_type": "markdown",
   "metadata": {},
   "source": [
    "### Exercise 10 \n",
    "\n",
    "Implement a binary search algorithm in python. Use it to search through the given list for `10`.**"
   ]
  },
  {
   "cell_type": "code",
   "execution_count": 12,
   "metadata": {},
   "outputs": [],
   "source": [
    "given = [-10, -9, -8, -7, -6, -5, -4, -3, -2, -1, 0]\n",
    "\n",
    "assert(sorted(given) == given)"
   ]
  },
  {
   "cell_type": "code",
   "execution_count": 13,
   "metadata": {},
   "outputs": [
    {
     "name": "stdout",
     "output_type": "stream",
     "text": [
      "test passed\n"
     ]
    }
   ],
   "source": [
    "from typing import List\n",
    "\n",
    "def binary_search(l: List = given, s: int = 0) -> int:\n",
    "    low = 0\n",
    "    high = len(given) - 1\n",
    "    mid = 0\n",
    " \n",
    "    while low <= high:\n",
    " \n",
    "        mid = (high + low) // 2\n",
    "        if given[mid] < s:\n",
    "            low = mid + 1\n",
    "            \n",
    "        elif given[mid] > s:\n",
    "            high = mid - 1\n",
    "\n",
    "        else:\n",
    "            return mid\n",
    "\n",
    "    return -1\n",
    "    \n",
    "binary_search()\n",
    "binary_search(s=2)\n",
    "try:\n",
    "    assert(binary_search() == 10)\n",
    "    assert(binary_search(s=2) == -1)\n",
    "    assert(binary_search(s=-5) == 5)\n",
    "    print(\"test passed\")\n",
    "except AssertionError as e:\n",
    "    print(\"test failed\")"
   ]
  },
  {
   "cell_type": "markdown",
   "metadata": {},
   "source": [
    "### Exercise 11 \n",
    "\n",
    "Fix the following code so the function calls work."
   ]
  },
  {
   "cell_type": "code",
   "execution_count": 14,
   "metadata": {},
   "outputs": [
    {
     "name": "stdout",
     "output_type": "stream",
     "text": [
      "3\n",
      "4\n",
      "5\n",
      "7\n",
      "8\n"
     ]
    }
   ],
   "source": [
    "class BinaryTree:\n",
    "    def __init__(self, data):\n",
    "        self.left = None\n",
    "        self.right = None\n",
    "        self.data = data\n",
    "\n",
    "    def add(self, data):\n",
    "        if data > self.data:\n",
    "            if self.right is None:\n",
    "                self.right = BinaryTree(data)\n",
    "            else:\n",
    "                self.right.add(data)\n",
    "        if data < self.data:\n",
    "            if self.left is None:\n",
    "                self.left = BinaryTree(data)\n",
    "            else:\n",
    "                self.left.add(data)\n",
    "        \n",
    "    def print(self):\n",
    "        if self.left:\n",
    "            self.left.print()\n",
    "        print(self.data)\n",
    "        if self.right:\n",
    "            self.right.print()  \n",
    "            \n",
    "bt = BinaryTree(5)\n",
    "bt.add(7)\n",
    "bt.add(8)\n",
    "bt.add(3)\n",
    "bt.add(4)\n",
    "bt.print()\n",
    "# if your solution is correct,\n",
    "# you will see all the values [3,4,5,7,8] printed"
   ]
  },
  {
   "cell_type": "markdown",
   "metadata": {},
   "source": [
    "### Exercise 12\n",
    "\n",
    "Write a class that implements a stack. Use any method of your choosing. Your stack must have the following three methods: `push`, `pop`, `peek` (returns next value to be popped)."
   ]
  },
  {
   "cell_type": "code",
   "execution_count": 15,
   "metadata": {},
   "outputs": [
    {
     "name": "stdout",
     "output_type": "stream",
     "text": [
      "test passed\n"
     ]
    }
   ],
   "source": [
    "class Stack:\n",
    "    def __init__(self):\n",
    "        self.stack = []\n",
    "        \n",
    "    def push(self, val):\n",
    "        self.stack.append(val)\n",
    "        \n",
    "    def pop(self):\n",
    "        return self.stack.pop()\n",
    "    \n",
    "    def print(self):\n",
    "        print(self.stack)\n",
    "        \n",
    "    def peek(self):\n",
    "        return self.stack[-1]\n",
    "    \n",
    "# use the following to test your code    \n",
    "try:\n",
    "    s = Stack()\n",
    "    s.push(3)\n",
    "    s.push(4)\n",
    "    s.push(5)\n",
    "    assert(s.pop() == 5)\n",
    "    assert(s.peek() == 4)\n",
    "    print(\"test passed\")\n",
    "except AssertionError:\n",
    "    print(\"test failed.\")"
   ]
  },
  {
   "cell_type": "markdown",
   "metadata": {},
   "source": [
    "### Exercise 13\n",
    "\n",
    "Write a python function that calculates the expected value of the following dictionary containing outcomes (in dollars) and their probabilities.\n",
    "\n",
    "Let $X$ by a random variable with $k$ number of finite outcomes $x_1, x_2,...,x_k$ occurring with probability $p_1, p_1,...,p_k$, respectively. The **expectation** of $X$ is defined as:\n",
    "$$ E[X] = \\sum_{i=1}^{k}{x_i p_i} = x_1p_1 + x_2p_2 + ... + x_kp_k$$"
   ]
  },
  {
   "cell_type": "code",
   "execution_count": null,
   "metadata": {},
   "outputs": [],
   "source": [
    "# os are outcomes\n",
    "os = [-20.0, -10.0, 0.0, 10, 20]\n",
    "# ps are probabilities respectively\n",
    "ps = [0.20, 0.20, 0.20, 0.20, 0.20]\n",
    "\n",
    "def expected_value(outcomes = os, probabilities = ps):\n",
    "    pass\n",
    "\n",
    "try:\n",
    "    assert(expected_value() == 0.0)\n",
    "    print(\"test passed.\")\n",
    "except AssertionError:\n",
    "    print(\"test failed.\")"
   ]
  },
  {
   "cell_type": "markdown",
   "metadata": {},
   "source": [
    "### Exercise 14\n",
    "\n",
    "Create a dataclass called Vector that contains:\n",
    "* two attributes `x` and `y`\n",
    "* a method that overrides the addition operator so you can add two points together\n",
    "* a method called `distance` that calculates the distance between the two points using the distance formula we saw in class:\n",
    "\n",
    "$$ \\text{distance} = \\sqrt{(x_2-x_1)^{2} + (y_2-y_1)^{2} } $$\n"
   ]
  },
  {
   "cell_type": "code",
   "execution_count": null,
   "metadata": {},
   "outputs": [],
   "source": [
    "from typing import List\n",
    "from dataclasses import dataclass\n",
    "\n",
    "@dataclass\n",
    "class Vector:\n",
    "    pass\n",
    "    \n",
    "try:\n",
    "    v_1 = Vector(-4,-4)\n",
    "    v_2 = Vector(3,4)\n",
    "    assert(v_1 + v_2 == Vector(x=-1,y=0))\n",
    "    # this is basically calculating a \n",
    "    # 3-4-5 right triangle\n",
    "    v_1 = Vector(0,0)\n",
    "    v_2 = Vector(3,4)\n",
    "    assert(v_1.distance(v_2) == 5)\n",
    "    assert(v_2.distance(v_1) == 5)\n",
    "    print(\"tests passed\")\n",
    "except AssertionError:\n",
    "    print(\"test failed.\")"
   ]
  },
  {
   "cell_type": "markdown",
   "metadata": {},
   "source": [
    "### Exercise 15\n",
    "\n",
    "Create a generator function that takes a string and returns the next character of the string each time it yields a value."
   ]
  },
  {
   "cell_type": "code",
   "execution_count": 238,
   "metadata": {},
   "outputs": [
    {
     "name": "stdout",
     "output_type": "stream",
     "text": [
      "test passed\n"
     ]
    }
   ],
   "source": [
    "import types\n",
    "\n",
    "# this is needed for test; do not change\n",
    "s = \"really long string that has a lot of characters in it\"\n",
    "\n",
    "def exercise_15(string=s):\n",
    "    for i in s:\n",
    "        yield i\n",
    "\n",
    "try:\n",
    "    gen = exercise_15()\n",
    "    assert(isinstance(gen, types.GeneratorType))\n",
    "    assert((e:= next(gen)) == 'r')\n",
    "    assert(list(gen) == list(s)[1:])\n",
    "    print(\"test passed\")\n",
    "except:\n",
    "    print(\"test failed\")"
   ]
  },
  {
   "cell_type": "markdown",
   "metadata": {},
   "source": [
    "### Exercise 16\n",
    "\n",
    "Create a decorator function that when decorating a function, prints: \n",
    "```\n",
    "***STARTING FUNCTION***\n",
    "```\n",
    "before the function call and \n",
    "```\n",
    "***ENDING FUNCTION CALL***\n",
    "```\n",
    "after calling the function.\n",
    "\n",
    "For bonus points, print the time taken to call the function **and** what the return values are."
   ]
  },
  {
   "cell_type": "code",
   "execution_count": 255,
   "metadata": {},
   "outputs": [
    {
     "name": "stdout",
     "output_type": "stream",
     "text": [
      "***STARTING FUNCTION***\n",
      "***ENDING FUNCTION CALL***\n"
     ]
    },
    {
     "data": {
      "text/plain": [
       "10000000000000000000000"
      ]
     },
     "execution_count": 255,
     "metadata": {},
     "output_type": "execute_result"
    }
   ],
   "source": [
    "from time import time\n",
    "\n",
    "def decorator_function(func):\n",
    "    def wrap_func(*args, **kwargs):\n",
    "        print(\"***STARTING FUNCTION***\")\n",
    "        t1 = time()\n",
    "        result = func(*args, **kwargs)\n",
    "        t2 = time()\n",
    "#         print(f'Function {func.__name__} executed in {(t2-t1):.8f}s')\n",
    "#         print(f'{t2-t1}')\n",
    "        print('***ENDING FUNCTION CALL***')\n",
    "        return result\n",
    "        \n",
    "    return wrap_func\n",
    "\n",
    "        \n",
    "@decorator_function\n",
    "def func(n):\n",
    "    #time.sleep(1)\n",
    "    return n**2\n",
    "\n",
    "func(100_000_000_000)"
   ]
  },
  {
   "cell_type": "markdown",
   "metadata": {},
   "source": [
    "### Exercise 17\n",
    "\n",
    "Show an example of currying functions: two regular functions and a third that uses the previous two."
   ]
  },
  {
   "cell_type": "code",
   "execution_count": 18,
   "metadata": {},
   "outputs": [
    {
     "data": {
      "text/plain": [
       "3"
      ]
     },
     "execution_count": 18,
     "metadata": {},
     "output_type": "execute_result"
    }
   ],
   "source": [
    "def multiply(a,b):\n",
    "    return a*b\n",
    "\n",
    "def add(a,b):\n",
    "    return a+b\n",
    "\n",
    "multiply(1,2)\n",
    "add(1,2)\n"
   ]
  },
  {
   "cell_type": "code",
   "execution_count": 19,
   "metadata": {},
   "outputs": [
    {
     "data": {
      "text/plain": [
       "4"
      ]
     },
     "execution_count": 19,
     "metadata": {},
     "output_type": "execute_result"
    }
   ],
   "source": [
    "def do_both(a,b):\n",
    "    x = add(multiply(a,b),b)\n",
    "    return x\n",
    "\n",
    "do_both(1,2)"
   ]
  },
  {
   "cell_type": "markdown",
   "metadata": {},
   "source": [
    "### Exercise 18\n",
    "\n",
    "Create a function that takes a list of integers and calculates the mean. Use the following formula for calculating averages and not any `mean`/`average` method.\n",
    "\n",
    "$$ \\mu = {\\frac {1}{n}}\\sum _{i=1}^{n}a_{i}={\\frac {a_{1}+a_{2}+\\cdots +a_{n}}{n}}$$"
   ]
  },
  {
   "cell_type": "code",
   "execution_count": null,
   "metadata": {},
   "outputs": [],
   "source": [
    "example_list = [1,2,3,4,5,6,7,8,9]\n",
    "\n"
   ]
  },
  {
   "cell_type": "code",
   "execution_count": null,
   "metadata": {},
   "outputs": [],
   "source": []
  },
  {
   "cell_type": "markdown",
   "metadata": {},
   "source": [
    "### Exercise 19\n",
    "\n",
    "Create a function that uses your favorite standard library module."
   ]
  },
  {
   "cell_type": "code",
   "execution_count": null,
   "metadata": {},
   "outputs": [],
   "source": []
  },
  {
   "cell_type": "markdown",
   "metadata": {},
   "source": [
    "### Exercise 20\n",
    "\n",
    "You are tasked with building a data pipeline that scrapes data, stores it in sql, processes it in numpy/pandas (think exploratory analysis and data cleanup) and uses the data in a K-Means clustering. Write out the steps you would take to complete this task, what the structure of your project would look like and what considerations should be made (e.g. what might become an issue, what decisions must we make, what steps would need to be done first, etc). \n",
    "\n"
   ]
  },
  {
   "cell_type": "code",
   "execution_count": null,
   "metadata": {},
   "outputs": [],
   "source": []
  },
  {
   "cell_type": "markdown",
   "metadata": {},
   "source": [
    "# SQL"
   ]
  },
  {
   "cell_type": "markdown",
   "metadata": {},
   "source": [
    "### Exercise 1\n",
    "\n",
    "Fix the `CREATE` SQL query in the code below to create the following table\n",
    "```\n",
    "table: Employees\n",
    "+----+------+-----+--------+\n",
    "| Id | Name | Age | Salary |\n",
    "+----+------+-----+--------+\n",
    "Id is an integer primary key\n",
    "Name is a not null varchar\n",
    "Age is a not null integer\n",
    "Salary is a not null integer\n",
    "```\n"
   ]
  },
  {
   "cell_type": "code",
   "execution_count": 256,
   "metadata": {},
   "outputs": [
    {
     "ename": "OperationalError",
     "evalue": "near \"Age\": syntax error",
     "output_type": "error",
     "traceback": [
      "\u001b[1;31m---------------------------------------------------------------------------\u001b[0m",
      "\u001b[1;31mOperationalError\u001b[0m                          Traceback (most recent call last)",
      "\u001b[1;32m<ipython-input-256-34821ee7f384>\u001b[0m in \u001b[0;36m<module>\u001b[1;34m\u001b[0m\n\u001b[0;32m     20\u001b[0m \u001b[0mdb\u001b[0m \u001b[1;33m=\u001b[0m \u001b[0msqlite3\u001b[0m\u001b[1;33m.\u001b[0m\u001b[0mconnect\u001b[0m\u001b[1;33m(\u001b[0m\u001b[1;34m'phase-3-assessment.db'\u001b[0m\u001b[1;33m)\u001b[0m\u001b[1;33m\u001b[0m\u001b[1;33m\u001b[0m\u001b[0m\n\u001b[0;32m     21\u001b[0m \u001b[0mcursor\u001b[0m \u001b[1;33m=\u001b[0m \u001b[0mdb\u001b[0m\u001b[1;33m.\u001b[0m\u001b[0mcursor\u001b[0m\u001b[1;33m(\u001b[0m\u001b[1;33m)\u001b[0m\u001b[1;33m\u001b[0m\u001b[1;33m\u001b[0m\u001b[0m\n\u001b[1;32m---> 22\u001b[1;33m \u001b[0mcursor\u001b[0m\u001b[1;33m.\u001b[0m\u001b[0mexecutescript\u001b[0m\u001b[1;33m(\u001b[0m\u001b[0msql_commands\u001b[0m\u001b[1;33m)\u001b[0m\u001b[1;33m\u001b[0m\u001b[1;33m\u001b[0m\u001b[0m\n\u001b[0m\u001b[0;32m     23\u001b[0m \u001b[0mdb\u001b[0m\u001b[1;33m.\u001b[0m\u001b[0mcommit\u001b[0m\u001b[1;33m(\u001b[0m\u001b[1;33m)\u001b[0m\u001b[1;33m\u001b[0m\u001b[1;33m\u001b[0m\u001b[0m\n\u001b[0;32m     24\u001b[0m \u001b[0mdb\u001b[0m\u001b[1;33m.\u001b[0m\u001b[0mclose\u001b[0m\u001b[1;33m(\u001b[0m\u001b[1;33m)\u001b[0m\u001b[1;33m\u001b[0m\u001b[1;33m\u001b[0m\u001b[0m\n",
      "\u001b[1;31mOperationalError\u001b[0m: near \"Age\": syntax error"
     ]
    }
   ],
   "source": [
    "#come back to fix\n",
    "import sqlite3\n",
    "\n",
    "sql_commands = \\\n",
    "\"\"\"\n",
    "DROP TABLE IF EXISTS Employee;\n",
    "\n",
    "CREATE TABLE Employee (\n",
    " Id INTEGER NOT NULL PRIMARY KEY,\n",
    " Name VARCHAR(30) NOT NULL\n",
    " Age INTEGER\n",
    " Salary INTEGER\n",
    ");\n",
    "\n",
    "INSERT INTO Employee (Id, Name, Age, Salary) values ('1', 'Employee 1', '29', '100');\n",
    "INSERT INTO Employee (Id, Name, Age, Salary) values ('2', 'Employee 2', '41', '200');\n",
    "INSERT INTO Employee (Id, Name, Age, Salary) values ('3', 'Employee 3', '23', '300');\n",
    "\n",
    "\"\"\"\n",
    "db = sqlite3.connect('phase-3-assessment.db')\n",
    "cursor = db.cursor()\n",
    "cursor.executescript(sql_commands)\n",
    "db.commit()\n",
    "db.close()"
   ]
  },
  {
   "cell_type": "code",
   "execution_count": null,
   "metadata": {},
   "outputs": [],
   "source": [
    "# use this function for your answers.\n",
    "def with_conn(statement):\n",
    "    conn = sqlite3.connect('phase-3-assessment.db')\n",
    "    with conn:\n",
    "        cur = conn.cursor()\n",
    "        cur.execute(statement)\n",
    "        result = cur.fetchall()\n",
    "        return result"
   ]
  },
  {
   "cell_type": "code",
   "execution_count": null,
   "metadata": {},
   "outputs": [],
   "source": [
    "with_conn('SELECT * FROM Employee')"
   ]
  },
  {
   "cell_type": "code",
   "execution_count": null,
   "metadata": {},
   "outputs": [],
   "source": []
  },
  {
   "cell_type": "markdown",
   "metadata": {},
   "source": [
    "\n",
    "### Exercise 2\n",
    "\n",
    "Write a SQL query to get the highest salary from the Employee table.\n",
    "```\n",
    "+----+--------+\n",
    "| Id | Salary |\n",
    "+----+--------+\n",
    "| 1  | 100    |\n",
    "| 2  | 200    |\n",
    "| 3  | 300    |\n",
    "+----+--------+\n",
    "```\n",
    "For example, given the above Employee table, the query should return 300 as the second highest salary. If there is no second highest salary, then the query should return null.\n",
    "```\n",
    "+---------------------+\n",
    "| HighestSalary |\n",
    "+---------------------+\n",
    "| 300                 |\n",
    "+---------------------+\n",
    "```\n"
   ]
  },
  {
   "cell_type": "code",
   "execution_count": 21,
   "metadata": {},
   "outputs": [],
   "source": [
    "#second highest or highest? confusing prompt...\n",
    "import sqlite3\n",
    "\n",
    "sql_commands = \\\n",
    "\"\"\"\n",
    "DROP TABLE IF EXISTS Employee;\n",
    "\n",
    "CREATE TABLE Employee (\n",
    " Id INTEGER NOT NULL PRIMARY KEY,\n",
    " Salary INTEGER NOT NULL\n",
    ");\n",
    "\n",
    "INSERT INTO Employee (Id, Salary) values ('1', '100');\n",
    "INSERT INTO Employee (Id, Salary) values ('2', '200');\n",
    "INSERT INTO Employee (Id, Salary) values ('3', '300');\n",
    "\n",
    "\"\"\"\n",
    "db = sqlite3.connect('phase-3-assessment.db')\n",
    "cursor = db.cursor()\n",
    "cursor.executescript(sql_commands)\n",
    "db.commit()\n",
    "db.close()"
   ]
  },
  {
   "cell_type": "code",
   "execution_count": 22,
   "metadata": {},
   "outputs": [],
   "source": [
    "# use this function for your answers.\n",
    "def with_conn(statement):\n",
    "    conn = sqlite3.connect('phase-3-assessment.db')\n",
    "    with conn:\n",
    "        cur = conn.cursor()\n",
    "        cur.execute(statement)\n",
    "        result = cur.fetchall()\n",
    "        return result"
   ]
  },
  {
   "cell_type": "code",
   "execution_count": 23,
   "metadata": {},
   "outputs": [
    {
     "data": {
      "text/plain": [
       "[(1, 100), (2, 200), (3, 300)]"
      ]
     },
     "execution_count": 23,
     "metadata": {},
     "output_type": "execute_result"
    }
   ],
   "source": [
    "with_conn('SELECT * FROM Employee')"
   ]
  },
  {
   "cell_type": "code",
   "execution_count": 24,
   "metadata": {},
   "outputs": [
    {
     "data": {
      "text/plain": [
       "[(300,)]"
      ]
     },
     "execution_count": 24,
     "metadata": {},
     "output_type": "execute_result"
    }
   ],
   "source": [
    "with_conn('SELECT max(Salary) FROM Employee')   #this returns the highest salary"
   ]
  },
  {
   "cell_type": "code",
   "execution_count": 25,
   "metadata": {},
   "outputs": [
    {
     "data": {
      "text/plain": [
       "[(200,)]"
      ]
     },
     "execution_count": 25,
     "metadata": {},
     "output_type": "execute_result"
    }
   ],
   "source": [
    "with_conn('SELECT MAX(Salary) FROM Employee WHERE Salary NOT IN (SELECT MAX(Salary) FROM Employee)')  #this returns second highest salary"
   ]
  },
  {
   "cell_type": "markdown",
   "metadata": {},
   "source": [
    "### Exercise 3\n",
    "\n",
    "Write the SQL query/queries that updates the following table so that any user that has an email address is verified.\n",
    "```\n",
    "table: User\n",
    "+----+----------+---------+----------+\n",
    "| id | username |  email  | verified |\n",
    "+----+----------+---------+----------+\n",
    "| 1  | platano  | p@pm.me | false    |\n",
    "| 2  | unknown  | u@pm.me | false    |\n",
    "| 3  | malcolm  |         | false    |\n",
    "+----+----------+---------+----------+\n",
    "```\n"
   ]
  },
  {
   "cell_type": "code",
   "execution_count": 26,
   "metadata": {},
   "outputs": [],
   "source": [
    "import sqlite3\n",
    "\n",
    "sql_commands = \\\n",
    "\"\"\"\n",
    "DROP TABLE IF EXISTS User;\n",
    "\n",
    "CREATE TABLE User (\n",
    " id INTEGER NOT NULL PRIMARY KEY,\n",
    " username VARCHAR(30) NOT NULL,\n",
    " email VARCHAR(30),\n",
    " verified BOOL\n",
    ");\n",
    "\n",
    "INSERT INTO User (username, email, verified) VALUES ('platano', 'p@pm.me', 'false');\n",
    "INSERT INTO User (username, email, verified) VALUES ('unknown', 'u@pm.me', 'false');\n",
    "INSERT INTO User (username, verified) VALUES ('malcolm', 'false');\n",
    "\n",
    "\"\"\"\n",
    "db = sqlite3.connect('phase-3-assessment.db')\n",
    "cursor = db.cursor()\n",
    "cursor.executescript(sql_commands)\n",
    "db.commit()\n",
    "db.close()"
   ]
  },
  {
   "cell_type": "code",
   "execution_count": 27,
   "metadata": {},
   "outputs": [],
   "source": [
    "# use this function for your answers.\n",
    "def with_conn(statement):\n",
    "    conn = sqlite3.connect('phase-3-assessment.db')\n",
    "    with conn:\n",
    "        cur = conn.cursor()\n",
    "        cur.execute(statement)\n",
    "        result = cur.fetchall()\n",
    "        return result"
   ]
  },
  {
   "cell_type": "code",
   "execution_count": 28,
   "metadata": {},
   "outputs": [
    {
     "data": {
      "text/plain": [
       "[(1, 'platano', 'p@pm.me', 'false'),\n",
       " (2, 'unknown', 'u@pm.me', 'false'),\n",
       " (3, 'malcolm', None, 'false')]"
      ]
     },
     "execution_count": 28,
     "metadata": {},
     "output_type": "execute_result"
    }
   ],
   "source": [
    "with_conn('SELECT * FROM User')"
   ]
  },
  {
   "cell_type": "code",
   "execution_count": 29,
   "metadata": {},
   "outputs": [
    {
     "data": {
      "text/plain": [
       "[]"
      ]
     },
     "execution_count": 29,
     "metadata": {},
     "output_type": "execute_result"
    }
   ],
   "source": [
    "with_conn('UPDATE User SET verified=\"true\" WHERE email IS NOT NULL')"
   ]
  },
  {
   "cell_type": "code",
   "execution_count": 30,
   "metadata": {},
   "outputs": [
    {
     "data": {
      "text/plain": [
       "[(1, 'platano', 'p@pm.me', 'true'),\n",
       " (2, 'unknown', 'u@pm.me', 'true'),\n",
       " (3, 'malcolm', None, 'false')]"
      ]
     },
     "execution_count": 30,
     "metadata": {},
     "output_type": "execute_result"
    }
   ],
   "source": [
    "with_conn('SELECT * FROM User')"
   ]
  },
  {
   "cell_type": "markdown",
   "metadata": {},
   "source": [
    "### Exercise 4\n",
    "\n",
    "Write the SQL query/queries that deletes rows from the following table if the user that has no email.\n",
    "```\n",
    "table: User\n",
    "+----+----------+---------+----------+\n",
    "| id | username |  email  | verified |\n",
    "+----+----------+---------+----------+\n",
    "| 1  | platano  | p@pm.me | false    |\n",
    "| 2  | unknown  | u@pm.me | false    |\n",
    "| 3  | malcolm  |         | false    |\n",
    "+----+----------+---------+----------+\n",
    "```\n"
   ]
  },
  {
   "cell_type": "code",
   "execution_count": 263,
   "metadata": {},
   "outputs": [],
   "source": [
    "import sqlite3\n",
    "\n",
    "sql_commands = \\\n",
    "\"\"\"\n",
    "DROP TABLE IF EXISTS User;\n",
    "\n",
    "CREATE TABLE User (\n",
    " id INTEGER NOT NULL PRIMARY KEY,\n",
    " username VARCHAR(30) NOT NULL,\n",
    " email VARCHAR(30),\n",
    " verified BOOL\n",
    ");\n",
    "\n",
    "INSERT INTO User (username, email, verified) VALUES ('platano', 'p@pm.me', 'false');\n",
    "INSERT INTO User (username, email, verified) VALUES ('unknown', 'u@pm.me', 'false');\n",
    "INSERT INTO User (username, verified) VALUES ('malcolm', 'false');\n",
    "\n",
    "\"\"\"\n",
    "db = sqlite3.connect('phase-3-assessment.db')\n",
    "cursor = db.cursor()\n",
    "cursor.executescript(sql_commands)\n",
    "db.commit()\n",
    "db.close()"
   ]
  },
  {
   "cell_type": "code",
   "execution_count": 264,
   "metadata": {},
   "outputs": [],
   "source": [
    "# use this function for your answers.\n",
    "def with_conn(statement):\n",
    "    conn = sqlite3.connect('phase-3-assessment.db')\n",
    "    with conn:\n",
    "        cur = conn.cursor()\n",
    "        cur.execute(statement)\n",
    "        result = cur.fetchall()\n",
    "        return result"
   ]
  },
  {
   "cell_type": "code",
   "execution_count": 265,
   "metadata": {},
   "outputs": [
    {
     "data": {
      "text/plain": [
       "[(1, 'platano', 'p@pm.me', 'false'),\n",
       " (2, 'unknown', 'u@pm.me', 'false'),\n",
       " (3, 'malcolm', None, 'false')]"
      ]
     },
     "execution_count": 265,
     "metadata": {},
     "output_type": "execute_result"
    }
   ],
   "source": [
    "with_conn('SELECT * FROM User')"
   ]
  },
  {
   "cell_type": "code",
   "execution_count": 266,
   "metadata": {},
   "outputs": [
    {
     "data": {
      "text/plain": [
       "[]"
      ]
     },
     "execution_count": 266,
     "metadata": {},
     "output_type": "execute_result"
    }
   ],
   "source": [
    "with_conn('DELETE FROM User WHERE email IS NULL')"
   ]
  },
  {
   "cell_type": "code",
   "execution_count": 267,
   "metadata": {},
   "outputs": [
    {
     "data": {
      "text/plain": [
       "[(1, 'platano', 'p@pm.me', 'false'), (2, 'unknown', 'u@pm.me', 'false')]"
      ]
     },
     "execution_count": 267,
     "metadata": {},
     "output_type": "execute_result"
    }
   ],
   "source": [
    "with_conn('SELECT * FROM User')"
   ]
  },
  {
   "cell_type": "markdown",
   "metadata": {},
   "source": [
    "### Exercise 5\n",
    "\n",
    "Write the SQL query/queries that inserts 5 students into the following table. Use a select statement to demonstrate that it works.\n",
    "```\n",
    "table: User\n",
    "+----+----------+---------+----------+\n",
    "| id | username |  email  | verified |\n",
    "+----+----------+---------+----------+\n",
    "| 1  | platano  | p@pm.me | false    |\n",
    "| 2  | unknown  | u@pm.me | false    |\n",
    "| 3  | malcolm  |         | false    |\n",
    "+----+----------+---------+----------+\n",
    "```\n"
   ]
  },
  {
   "cell_type": "code",
   "execution_count": 268,
   "metadata": {},
   "outputs": [],
   "source": [
    "import sqlite3\n",
    "\n",
    "sql_commands = \\\n",
    "\"\"\"\n",
    "DROP TABLE IF EXISTS Student;\n",
    "\n",
    "CREATE TABLE Student (\n",
    " id INTEGER NOT NULL PRIMARY KEY,\n",
    " name VARCHAR(30) NOT NULL,\n",
    " class VARCHAR(30) NOT NULL,\n",
    " email VARCHAR(30),\n",
    " passing BOOL NOT NULL\n",
    ");\n",
    "\"\"\"\n",
    "db = sqlite3.connect('phase-3-assessment.db')\n",
    "cursor = db.cursor()\n",
    "cursor.executescript(sql_commands)\n",
    "db.commit()\n",
    "db.close()"
   ]
  },
  {
   "cell_type": "code",
   "execution_count": 269,
   "metadata": {},
   "outputs": [],
   "source": [
    "# use this function for your answers.\n",
    "def with_conn(statement):\n",
    "    conn = sqlite3.connect('phase-3-assessment.db')\n",
    "    with conn:\n",
    "        cur = conn.cursor()\n",
    "        cur.execute(statement)\n",
    "        result = cur.fetchall()\n",
    "        return result"
   ]
  },
  {
   "cell_type": "code",
   "execution_count": 279,
   "metadata": {},
   "outputs": [
    {
     "data": {
      "text/plain": [
       "[]"
      ]
     },
     "execution_count": 279,
     "metadata": {},
     "output_type": "execute_result"
    }
   ],
   "source": [
    "with_conn('INSERT INTO Student \\\n",
    "        VALUES(null,\"name 5\", \"class 3\", \"llmmkk.bb.org\", \"false\" )')   #run this 5 times for each new student"
   ]
  },
  {
   "cell_type": "code",
   "execution_count": 280,
   "metadata": {},
   "outputs": [
    {
     "data": {
      "text/plain": [
       "[(1, 'name 1', 'class 1', 'poop.me.me', 'true'),\n",
       " (2, 'name 2', 'class 2', 'akkmhop.me.com', 'true'),\n",
       " (3, 'name 3', 'class 2=1', 'aaaahop.me.org', 'true'),\n",
       " (4, 'name 4', 'class 2', 'blah.me.org', 'false'),\n",
       " (5, 'name 5', 'class 3', 'llmmkk.bb.org', 'false')]"
      ]
     },
     "execution_count": 280,
     "metadata": {},
     "output_type": "execute_result"
    }
   ],
   "source": [
    "with_conn('SELECT * FROM Student')"
   ]
  },
  {
   "cell_type": "code",
   "execution_count": null,
   "metadata": {},
   "outputs": [],
   "source": []
  },
  {
   "cell_type": "markdown",
   "metadata": {},
   "source": [
    "### Exercise 6\n",
    "\n",
    "Insert rows into the Student table using the rows in the People table.\n",
    "\n",
    "hint: Use a `SELECT` subquery.\n",
    "```\n",
    "table: Student\n",
    "+----+----------+---------+----------+\n",
    "| id | username |  email  | verified |\n",
    "+----+----------+---------+----------+\n",
    "| 1  | platano  | p@pm.me | false    |\n",
    "| 2  | unknown  | u@pm.me | false    |\n",
    "| 3  | malcolm  |         | false    |\n",
    "+----+----------+---------+----------+\n",
    "```\n"
   ]
  },
  {
   "cell_type": "code",
   "execution_count": 281,
   "metadata": {},
   "outputs": [],
   "source": [
    "import sqlite3\n",
    "\n",
    "sql_commands = \\\n",
    "\"\"\"\n",
    "DROP TABLE IF EXISTS Student;\n",
    "DROP TABLE IF EXISTS People;\n",
    "\n",
    "CREATE TABLE Student (\n",
    " id INTEGER NOT NULL PRIMARY KEY,\n",
    " name VARCHAR(30) NOT NULL,\n",
    " class VARCHAR(30),\n",
    " email VARCHAR(30),\n",
    " passing BOOL\n",
    ");\n",
    "\n",
    "Create TABLE People (\n",
    " id INTEGER NOT NULL PRIMARY KEY,\n",
    " name VARCHAR(30) NOT NULL,\n",
    " email VARCHAR(30) NOT NULL\n",
    ");\n",
    "\n",
    "INSERT INTO People (name, email) VALUES ('platano man', 'p@pm.me');\n",
    "INSERT INTO People (name, email) VALUES ('unknown person', 'u@pm.me');\n",
    "\n",
    "\"\"\"\n",
    "db = sqlite3.connect('phase-3-assessment.db')\n",
    "cursor = db.cursor()\n",
    "cursor.executescript(sql_commands)\n",
    "db.commit()\n",
    "db.close()"
   ]
  },
  {
   "cell_type": "code",
   "execution_count": 282,
   "metadata": {},
   "outputs": [],
   "source": [
    "# use this function for your answers.\n",
    "def with_conn(statement):\n",
    "    conn = sqlite3.connect('phase-3-assessment.db')\n",
    "    with conn:\n",
    "        cur = conn.cursor()\n",
    "        cur.execute(statement)\n",
    "        result = cur.fetchall()\n",
    "        return result"
   ]
  },
  {
   "cell_type": "code",
   "execution_count": 283,
   "metadata": {},
   "outputs": [
    {
     "data": {
      "text/plain": [
       "[]"
      ]
     },
     "execution_count": 283,
     "metadata": {},
     "output_type": "execute_result"
    }
   ],
   "source": [
    "with_conn('SELECT * FROM Student')"
   ]
  },
  {
   "cell_type": "code",
   "execution_count": 284,
   "metadata": {},
   "outputs": [
    {
     "data": {
      "text/plain": [
       "[(1, 'platano man', 'p@pm.me'), (2, 'unknown person', 'u@pm.me')]"
      ]
     },
     "execution_count": 284,
     "metadata": {},
     "output_type": "execute_result"
    }
   ],
   "source": [
    "with_conn('SELECT * FROM People')"
   ]
  },
  {
   "cell_type": "code",
   "execution_count": 286,
   "metadata": {},
   "outputs": [
    {
     "data": {
      "text/plain": [
       "[(1, 'platano man', 'p@pm.me'), (2, 'unknown person', 'u@pm.me')]"
      ]
     },
     "execution_count": 286,
     "metadata": {},
     "output_type": "execute_result"
    }
   ],
   "source": [
    "with_conn('SELECT id,name,email FROM People')"
   ]
  },
  {
   "cell_type": "code",
   "execution_count": 292,
   "metadata": {},
   "outputs": [],
   "source": [
    "# with_conn('INSERT INTO Student \\\n",
    "#         VALUES(SELECT p.id,p.name,p.email FROM People p, Student s WHERE s.id=p.id)') "
   ]
  },
  {
   "cell_type": "markdown",
   "metadata": {},
   "source": [
    "### Exercise 7\n",
    "\n",
    "Suppose that a website contains two tables, the Customers table and the Orders table. Write a SQL query to find all customers who never order anything.\n",
    "```\n",
    "Table: Customers.\n",
    "\n",
    "+----+-------+\n",
    "| Id | Name  |\n",
    "+----+-------+\n",
    "| 1  | Joe   |\n",
    "| 2  | Henry |\n",
    "| 3  | Sam   |\n",
    "| 4  | Max   |\n",
    "+----+-------+\n",
    "\n",
    "Table: Orders.\n",
    "\n",
    "+----+------------+\n",
    "| Id | CustomerId |\n",
    "+----+------------+\n",
    "| 1  | 3          |\n",
    "| 2  | 1          |\n",
    "+----+------------+\n",
    "```\n",
    "Using the above tables as example, return the following:\n",
    "```\n",
    "+-----------+\n",
    "| Customers |\n",
    "+-----------+\n",
    "| Henry     |\n",
    "| Max       |\n",
    "+-----------+\n",
    "```\n"
   ]
  },
  {
   "cell_type": "code",
   "execution_count": 218,
   "metadata": {},
   "outputs": [
    {
     "ename": "IntegrityError",
     "evalue": "FOREIGN KEY constraint failed",
     "output_type": "error",
     "traceback": [
      "\u001b[1;31m---------------------------------------------------------------------------\u001b[0m",
      "\u001b[1;31mIntegrityError\u001b[0m                            Traceback (most recent call last)",
      "\u001b[1;32m<ipython-input-218-0c53e9821a76>\u001b[0m in \u001b[0;36m<module>\u001b[1;34m\u001b[0m\n\u001b[0;32m     28\u001b[0m \u001b[0mdb\u001b[0m \u001b[1;33m=\u001b[0m \u001b[0msqlite3\u001b[0m\u001b[1;33m.\u001b[0m\u001b[0mconnect\u001b[0m\u001b[1;33m(\u001b[0m\u001b[1;34m'phase-3-assessment.db'\u001b[0m\u001b[1;33m)\u001b[0m\u001b[1;33m\u001b[0m\u001b[1;33m\u001b[0m\u001b[0m\n\u001b[0;32m     29\u001b[0m \u001b[0mcursor\u001b[0m \u001b[1;33m=\u001b[0m \u001b[0mdb\u001b[0m\u001b[1;33m.\u001b[0m\u001b[0mcursor\u001b[0m\u001b[1;33m(\u001b[0m\u001b[1;33m)\u001b[0m\u001b[1;33m\u001b[0m\u001b[1;33m\u001b[0m\u001b[0m\n\u001b[1;32m---> 30\u001b[1;33m \u001b[0mcursor\u001b[0m\u001b[1;33m.\u001b[0m\u001b[0mexecutescript\u001b[0m\u001b[1;33m(\u001b[0m\u001b[0msql_commands\u001b[0m\u001b[1;33m)\u001b[0m\u001b[1;33m\u001b[0m\u001b[1;33m\u001b[0m\u001b[0m\n\u001b[0m\u001b[0;32m     31\u001b[0m \u001b[0mdb\u001b[0m\u001b[1;33m.\u001b[0m\u001b[0mcommit\u001b[0m\u001b[1;33m(\u001b[0m\u001b[1;33m)\u001b[0m\u001b[1;33m\u001b[0m\u001b[1;33m\u001b[0m\u001b[0m\n\u001b[0;32m     32\u001b[0m \u001b[0mdb\u001b[0m\u001b[1;33m.\u001b[0m\u001b[0mclose\u001b[0m\u001b[1;33m(\u001b[0m\u001b[1;33m)\u001b[0m\u001b[1;33m\u001b[0m\u001b[1;33m\u001b[0m\u001b[0m\n",
      "\u001b[1;31mIntegrityError\u001b[0m: FOREIGN KEY constraint failed"
     ]
    }
   ],
   "source": [
    "import sqlite3\n",
    "\n",
    "sql_commands = \\\n",
    "\"\"\"\n",
    "PRAGMA foreign_keys = ON;\n",
    "\n",
    "DROP TABLE IF EXISTS Customers;\n",
    "DROP TABLE IF EXISTS Orders;\n",
    "\n",
    "CREATE TABLE Customers (\n",
    " Id INTEGER NOT NULL PRIMARY KEY,\n",
    " Name NVARCHAR(255)\n",
    ");\n",
    "\n",
    "CREATE TABLE Orders (\n",
    " Id INTEGER NOT NULL PRIMARY KEY,\n",
    " CustomerId INTEGERY NOT NULL,\n",
    " FOREIGN KEY(CustomerId) REFERENCES Customers(Id)\n",
    ");\n",
    "\n",
    "INSERT INTO Customers (Id, Name) VALUES ('1', 'Joe');\n",
    "INSERT INTO Customers (Id, Name) VALUES ('2', 'Henry');\n",
    "INSERT INTO Customers (Id, Name) VALUES ('3', 'Sam');\n",
    "INSERT INTO Customers (Id, Name) VALUES ('4', 'Max');\n",
    "INSERT INTO Orders (Id, CustomerId) VALUES ('1', '3');\n",
    "INSERT INTO Orders (Id, CustomerId) VALUES ('2', '1');\n",
    "\"\"\"\n",
    "db = sqlite3.connect('phase-3-assessment.db')\n",
    "cursor = db.cursor()\n",
    "cursor.executescript(sql_commands)\n",
    "db.commit()\n",
    "db.close()"
   ]
  },
  {
   "cell_type": "code",
   "execution_count": 219,
   "metadata": {},
   "outputs": [],
   "source": [
    "# use this function for your answers.\n",
    "def with_conn(statement):\n",
    "    conn = sqlite3.connect('phase-3-assessment.db')\n",
    "    with conn:\n",
    "        cur = conn.cursor()\n",
    "        cur.execute(statement)\n",
    "        result = cur.fetchall()\n",
    "        return result"
   ]
  },
  {
   "cell_type": "code",
   "execution_count": 220,
   "metadata": {},
   "outputs": [
    {
     "data": {
      "text/plain": [
       "[(1, 'Joe'), (2, 'Henry'), (3, 'Sam'), (4, 'Max')]"
      ]
     },
     "execution_count": 220,
     "metadata": {},
     "output_type": "execute_result"
    }
   ],
   "source": [
    "with_conn('SELECT * FROM Customers')"
   ]
  },
  {
   "cell_type": "code",
   "execution_count": 221,
   "metadata": {},
   "outputs": [
    {
     "data": {
      "text/plain": [
       "[(1, 3), (2, 1)]"
      ]
     },
     "execution_count": 221,
     "metadata": {},
     "output_type": "execute_result"
    }
   ],
   "source": [
    "with_conn('SELECT * FROM Orders')"
   ]
  },
  {
   "cell_type": "code",
   "execution_count": 222,
   "metadata": {},
   "outputs": [
    {
     "data": {
      "text/plain": [
       "[('Henry',), ('Max',)]"
      ]
     },
     "execution_count": 222,
     "metadata": {},
     "output_type": "execute_result"
    }
   ],
   "source": [
    "with_conn('SELECT Name FROM Customers WHERE Name NOT IN (SELECT c.Name FROM Customers c, Orders o WHERE o.CustomerId= c.Id)')"
   ]
  },
  {
   "cell_type": "code",
   "execution_count": null,
   "metadata": {},
   "outputs": [],
   "source": []
  },
  {
   "cell_type": "markdown",
   "metadata": {},
   "source": [
    "### Exercise 8\n",
    "\n",
    "Table `my_numbers` contains many numbers in column `num` including duplicated ones as well as a value in corresponding column `val`.\n",
    "Can you write a SQL query to find the biggest `num` for all rows that have val `A`.\n",
    "```\n",
    "+---+---+\n",
    "|num|val|\n",
    "+---+---+\n",
    "| 8 | A |\n",
    "| 7 | A |\n",
    "| 3 | A |\n",
    "| 3 | A |\n",
    "| 1 | B |\n",
    "| 4 | B |\n",
    "| 5 | B |\n",
    "| 6 | B |\n",
    "```\n",
    "For the sample data above, your query should return the following result:\n",
    "```\n",
    "+---+---+\n",
    "|num|val|\n",
    "+---+---+\n",
    "| 8 | A |\n",
    "```\n"
   ]
  },
  {
   "cell_type": "code",
   "execution_count": 58,
   "metadata": {},
   "outputs": [],
   "source": [
    "import sqlite3\n",
    "\n",
    "sql_commands = \\\n",
    "\"\"\"\n",
    "DROP TABLE IF EXISTS my_numbers;\n",
    "\n",
    "CREATE TABLE my_numbers (\n",
    " id INTEGER NOT NULL PRIMARY KEY,\n",
    " num INTEGER NOT NULL,\n",
    " val VARCHAR(1) NOT NULL\n",
    ");\n",
    "\n",
    "INSERT INTO my_numbers (num, val) VALUES ('8', 'A');\n",
    "INSERT INTO my_numbers (num, val) VALUES ('7', 'A');\n",
    "INSERT INTO my_numbers (num, val) VALUES ('3', 'A');\n",
    "INSERT INTO my_numbers (num, val) VALUES ('3', 'A');\n",
    "INSERT INTO my_numbers (num, val) VALUES ('1', 'B');\n",
    "INSERT INTO my_numbers (num, val) VALUES ('4', 'B');\n",
    "INSERT INTO my_numbers (num, val) VALUES ('5', 'B');\n",
    "INSERT INTO my_numbers (num, val) VALUES ('6', 'B');\n",
    "\"\"\"\n",
    "db = sqlite3.connect('phase-3-assessment.db')\n",
    "cursor = db.cursor()\n",
    "cursor.executescript(sql_commands)\n",
    "db.commit()\n",
    "db.close()"
   ]
  },
  {
   "cell_type": "code",
   "execution_count": 59,
   "metadata": {},
   "outputs": [],
   "source": [
    "# use this function for your answers.\n",
    "def with_conn(statement):\n",
    "    conn = sqlite3.connect('phase-3-assessment.db')\n",
    "    with conn:\n",
    "        cur = conn.cursor()\n",
    "        cur.execute(statement)\n",
    "        result = cur.fetchall()\n",
    "        return result"
   ]
  },
  {
   "cell_type": "code",
   "execution_count": 60,
   "metadata": {},
   "outputs": [
    {
     "data": {
      "text/plain": [
       "[(1, 8, 'A'),\n",
       " (2, 7, 'A'),\n",
       " (3, 3, 'A'),\n",
       " (4, 3, 'A'),\n",
       " (5, 1, 'B'),\n",
       " (6, 4, 'B'),\n",
       " (7, 5, 'B'),\n",
       " (8, 6, 'B')]"
      ]
     },
     "execution_count": 60,
     "metadata": {},
     "output_type": "execute_result"
    }
   ],
   "source": [
    "with_conn('SELECT * FROM my_numbers;')"
   ]
  },
  {
   "cell_type": "code",
   "execution_count": 62,
   "metadata": {},
   "outputs": [
    {
     "data": {
      "text/plain": [
       "[(8, 'A')]"
      ]
     },
     "execution_count": 62,
     "metadata": {},
     "output_type": "execute_result"
    }
   ],
   "source": [
    "with_conn('SELECT max(num),val FROM my_numbers WHERE val=\"A\";')"
   ]
  },
  {
   "cell_type": "markdown",
   "metadata": {},
   "source": [
    "### Exercise 9\n",
    "\n",
    "Table `numbers` contains many numbers in column `num`\n",
    "Can you write a SQL query that sums the `num` column for all rows that have vals that are `B`.\n",
    "```\n",
    "+---+---+\n",
    "|num|val|\n",
    "+---+---+\n",
    "| 8 | A |\n",
    "| 7 | A |\n",
    "| 3 | A |\n",
    "| 3 | A |\n",
    "| 1 | B |\n",
    "| 4 | B |\n",
    "| 5 | B |\n",
    "| 6 | B |\n",
    "```\n",
    "For the sample data above, your query should return the following result:\n",
    "```\n",
    "+---+---+\n",
    "|num|val|\n",
    "+---+---+\n",
    "| 8 | A |\n",
    "```\n"
   ]
  },
  {
   "cell_type": "code",
   "execution_count": 63,
   "metadata": {},
   "outputs": [],
   "source": [
    "#isn't the promp output confusing, it shows 'A'? I got 16 for the sum of 'B'.\n",
    "\n",
    "import sqlite3\n",
    "\n",
    "sql_commands = \\\n",
    "\"\"\"\n",
    "DROP TABLE IF EXISTS numbers;\n",
    "\n",
    "CREATE TABLE numbers (\n",
    " id INTEGER NOT NULL PRIMARY KEY,\n",
    " num INTEGER NOT NULL,\n",
    " val VARCHAR(1) NOT NULL\n",
    ");\n",
    "\n",
    "INSERT INTO numbers (num, val) VALUES ('8', 'A');\n",
    "INSERT INTO numbers (num, val) VALUES ('7', 'A');\n",
    "INSERT INTO numbers (num, val) VALUES ('3', 'A');\n",
    "INSERT INTO numbers (num, val) VALUES ('3', 'A');\n",
    "INSERT INTO numbers (num, val) VALUES ('1', 'B');\n",
    "INSERT INTO numbers (num, val) VALUES ('4', 'B');\n",
    "INSERT INTO numbers (num, val) VALUES ('5', 'B');\n",
    "INSERT INTO numbers (num, val) VALUES ('6', 'B');\n",
    "\"\"\"\n",
    "db = sqlite3.connect('phase-3-assessment.db')\n",
    "cursor = db.cursor()\n",
    "cursor.executescript(sql_commands)\n",
    "db.commit()\n",
    "db.close()"
   ]
  },
  {
   "cell_type": "code",
   "execution_count": 64,
   "metadata": {},
   "outputs": [],
   "source": [
    "# use this function for your answers.\n",
    "def with_conn(statement):\n",
    "    conn = sqlite3.connect('phase-3-assessment.db')\n",
    "    with conn:\n",
    "        cur = conn.cursor()\n",
    "        cur.execute(statement)\n",
    "        result = cur.fetchall()\n",
    "        return result"
   ]
  },
  {
   "cell_type": "code",
   "execution_count": 65,
   "metadata": {},
   "outputs": [
    {
     "data": {
      "text/plain": [
       "[(1, 8, 'A'),\n",
       " (2, 7, 'A'),\n",
       " (3, 3, 'A'),\n",
       " (4, 3, 'A'),\n",
       " (5, 1, 'B'),\n",
       " (6, 4, 'B'),\n",
       " (7, 5, 'B'),\n",
       " (8, 6, 'B')]"
      ]
     },
     "execution_count": 65,
     "metadata": {},
     "output_type": "execute_result"
    }
   ],
   "source": [
    "with_conn('SELECT * FROM numbers;')"
   ]
  },
  {
   "cell_type": "code",
   "execution_count": 66,
   "metadata": {},
   "outputs": [
    {
     "data": {
      "text/plain": [
       "[(16, 'B')]"
      ]
     },
     "execution_count": 66,
     "metadata": {},
     "output_type": "execute_result"
    }
   ],
   "source": [
    "with_conn('SELECT sum(num),val FROM my_numbers WHERE val=\"B\";')"
   ]
  },
  {
   "cell_type": "markdown",
   "metadata": {},
   "source": [
    "### Exercise 10\n",
    "\n",
    "```\n",
    "Table: Customers\n",
    "\n",
    "+---------------------+---------+\n",
    "| Column Name         | Type    |\n",
    "+---------------------+---------+\n",
    "| customer_id         | int     |\n",
    "| customer_name       | varchar |\n",
    "+---------------------+---------+\n",
    "customer_id is the primary key for this table.\n",
    "customer_name is the name of the customer.\n",
    "\n",
    " \n",
    "\n",
    "Table: Orders\n",
    "\n",
    "+---------------+---------+\n",
    "| Column Name   | Type    |\n",
    "+---------------+---------+\n",
    "| order_id      | int     |\n",
    "| customer_id   | int     |\n",
    "| product_name  | varchar |\n",
    "+---------------+---------+\n",
    "order_id is the primary key for this table.\n",
    "customer_id is the id of the customer who bought the product \"product_name\".\n",
    "```\n",
    "\n",
    "Write an SQL query to report the customer_id and customer_name of customers who bought products \"A\", \"B\" but did not buy the product \"C\" since we want to recommend them buy this product.\n",
    "\n",
    "Return the result table ordered by customer_id.\n",
    "\n",
    "The query result format is in the following example.\n",
    "\n",
    " \n",
    "```\n",
    "Customers table:\n",
    "+-------------+---------------+\n",
    "| customer_id | customer_name |\n",
    "+-------------+---------------+\n",
    "| 1           | Daniel        |\n",
    "| 2           | Diana         |\n",
    "| 3           | Elizabeth     |\n",
    "| 4           | Jhon          |\n",
    "+-------------+---------------+\n",
    "\n",
    "Orders table:\n",
    "+------------+--------------+---------------+\n",
    "| order_id   | customer_id  | product_name  |\n",
    "+------------+--------------+---------------+\n",
    "| 10         |     1        |     A         |\n",
    "| 20         |     1        |     B         |\n",
    "| 30         |     1        |     D         |\n",
    "| 40         |     1        |     C         |\n",
    "| 50         |     2        |     A         |\n",
    "| 60         |     3        |     A         |\n",
    "| 70         |     3        |     B         |\n",
    "| 80         |     3        |     D         |\n",
    "| 90         |     4        |     C         |\n",
    "+------------+--------------+---------------+\n",
    "\n",
    "Result table:\n",
    "+-------------+---------------+\n",
    "| customer_id | customer_name |\n",
    "+-------------+---------------+\n",
    "| 3           | Elizabeth     |\n",
    "+-------------+---------------+\n",
    "Only the customer_id with id 3 bought the product A and B but not the product C.\n",
    "```"
   ]
  },
  {
   "cell_type": "code",
   "execution_count": 223,
   "metadata": {},
   "outputs": [],
   "source": [
    "import sqlite3\n",
    "\n",
    "sql_commands = \\\n",
    "\"\"\"\n",
    "DROP TABLE IF EXISTS Customers;\n",
    "DROP TABLE IF EXISTS Orders;\n",
    "\n",
    "CREATE TABLE Customers (\n",
    " customer_id INTEGER NOT NULL PRIMARY KEY,\n",
    " customer_name NVARCHAR(30)\n",
    ");\n",
    "\n",
    "CREATE TABLE Orders (\n",
    " order_id INTEGER NOT NULL PRIMARY KEY,\n",
    " customer_id INTEGER NOT NULL,\n",
    " product_name VARCHAR(30)\n",
    ");\n",
    "\n",
    "INSERT INTO Customers (customer_id, customer_name ) VALUES ('1', 'Daniel');\n",
    "INSERT INTO Customers (customer_id, customer_name ) VALUES ('2', 'Diana');\n",
    "INSERT INTO Customers (customer_id, customer_name ) VALUES ('3', 'Elizabeth');\n",
    "INSERT INTO Customers (customer_id, customer_name ) VALUES ('4', 'Jhon');\n",
    "\n",
    "INSERT INTO Orders (order_id, customer_id, product_name) VALUES ('10', '1', 'A');\n",
    "INSERT INTO Orders (order_id, customer_id, product_name) VALUES ('20', '1', 'B');\n",
    "INSERT INTO Orders (order_id, customer_id, product_name) VALUES ('30', '1', 'D');\n",
    "INSERT INTO Orders (order_id, customer_id, product_name) VALUES ('40', '1', 'C');\n",
    "INSERT INTO Orders (order_id, customer_id, product_name) VALUES ('50', '2', 'A');\n",
    "INSERT INTO Orders (order_id, customer_id, product_name) VALUES ('60', '3', 'A');\n",
    "INSERT INTO Orders (order_id, customer_id, product_name) VALUES ('70', '3', 'B');\n",
    "INSERT INTO Orders (order_id, customer_id, product_name) VALUES ('80', '3', 'D');\n",
    "INSERT INTO Orders (order_id, customer_id, product_name) VALUES ('90', '4', 'C');\n",
    "\"\"\"\n",
    "\n",
    "db = sqlite3.connect('phase-3-assessment.db')\n",
    "cursor = db.cursor()\n",
    "cursor.executescript(sql_commands)\n",
    "db.commit()\n",
    "db.close()"
   ]
  },
  {
   "cell_type": "code",
   "execution_count": 224,
   "metadata": {},
   "outputs": [],
   "source": [
    "# use this function for your answers.\n",
    "def with_conn(statement):\n",
    "    conn = sqlite3.connect('phase-3-assessment.db')\n",
    "    with conn:\n",
    "        cur = conn.cursor()\n",
    "        cur.execute(statement)\n",
    "        result = cur.fetchall()\n",
    "        return result"
   ]
  },
  {
   "cell_type": "code",
   "execution_count": 225,
   "metadata": {},
   "outputs": [
    {
     "data": {
      "text/plain": [
       "[(1, 'Daniel'), (2, 'Diana'), (3, 'Elizabeth'), (4, 'Jhon')]"
      ]
     },
     "execution_count": 225,
     "metadata": {},
     "output_type": "execute_result"
    }
   ],
   "source": [
    "with_conn(\"SELECT * FROM Customers;\")"
   ]
  },
  {
   "cell_type": "code",
   "execution_count": 226,
   "metadata": {},
   "outputs": [
    {
     "data": {
      "text/plain": [
       "[(10, 1, 'A'),\n",
       " (20, 1, 'B'),\n",
       " (30, 1, 'D'),\n",
       " (40, 1, 'C'),\n",
       " (50, 2, 'A'),\n",
       " (60, 3, 'A'),\n",
       " (70, 3, 'B'),\n",
       " (80, 3, 'D'),\n",
       " (90, 4, 'C')]"
      ]
     },
     "execution_count": 226,
     "metadata": {},
     "output_type": "execute_result"
    }
   ],
   "source": [
    "with_conn(\"SELECT * FROM Orders;\")"
   ]
  },
  {
   "cell_type": "code",
   "execution_count": 230,
   "metadata": {},
   "outputs": [
    {
     "data": {
      "text/plain": [
       "[(1,), (1,), (2,), (3,), (3,)]"
      ]
     },
     "execution_count": 230,
     "metadata": {},
     "output_type": "execute_result"
    }
   ],
   "source": [
    "with_conn(\"SELECT customer_id FROM Orders where product_name='A' or product_name='B';\")"
   ]
  },
  {
   "cell_type": "markdown",
   "metadata": {},
   "source": [
    "# Data Science\n",
    "Complete 5 out of 10"
   ]
  },
  {
   "cell_type": "code",
   "execution_count": 67,
   "metadata": {},
   "outputs": [],
   "source": [
    "import numpy as np\n",
    "import pandas as pd\n",
    "import matplotlib.pyplot as plt\n",
    "import seaborn as sns\n",
    "# you can optionally choose to import and use bokeh"
   ]
  },
  {
   "cell_type": "markdown",
   "metadata": {},
   "source": [
    "### Exercise 1\n",
    "\n",
    "Create an array that contains the values of $y$ for each of the $x$ values ranging from 0 to 100. Then chart the relationship.\n",
    "\n",
    "$$ y = 25x+10  $$"
   ]
  },
  {
   "cell_type": "code",
   "execution_count": 69,
   "metadata": {},
   "outputs": [
    {
     "data": {
      "text/plain": [
       "array([  35,   60,   85,  110,  135,  160,  185,  210,  235,  260,  285,\n",
       "        310,  335,  360,  385,  410,  435,  460,  485,  510,  535,  560,\n",
       "        585,  610,  635,  660,  685,  710,  735,  760,  785,  810,  835,\n",
       "        860,  885,  910,  935,  960,  985, 1010, 1035, 1060, 1085, 1110,\n",
       "       1135, 1160, 1185, 1210, 1235, 1260, 1285, 1310, 1335, 1360, 1385,\n",
       "       1410, 1435, 1460, 1485, 1510, 1535, 1560, 1585, 1610, 1635, 1660,\n",
       "       1685, 1710, 1735, 1760, 1785, 1810, 1835, 1860, 1885, 1910, 1935,\n",
       "       1960, 1985, 2010, 2035, 2060, 2085, 2110, 2135, 2160, 2185, 2210,\n",
       "       2235, 2260, 2285, 2310, 2335, 2360, 2385, 2410, 2435, 2460, 2485,\n",
       "       2510])"
      ]
     },
     "execution_count": 69,
     "metadata": {},
     "output_type": "execute_result"
    }
   ],
   "source": [
    "x = np.arange(1,101)\n",
    "y = 25*x + 10\n",
    "y"
   ]
  },
  {
   "cell_type": "markdown",
   "metadata": {},
   "source": [
    "### Exercise 2\n",
    "\n",
    "Create a 2-dimensional array that contains the numbers from 1 to 20 with even numbers in the first column and odd numbers in the second."
   ]
  },
  {
   "cell_type": "code",
   "execution_count": 200,
   "metadata": {},
   "outputs": [
    {
     "data": {
      "text/plain": [
       "array([[ 2,  1],\n",
       "       [ 4,  3],\n",
       "       [ 6,  5],\n",
       "       [ 8,  7],\n",
       "       [10,  9],\n",
       "       [12, 11],\n",
       "       [14, 13],\n",
       "       [16, 15],\n",
       "       [18, 17],\n",
       "       [20, 19]])"
      ]
     },
     "execution_count": 200,
     "metadata": {},
     "output_type": "execute_result"
    }
   ],
   "source": [
    "arr = np.arange(1, 21).reshape(10,2)\n",
    "arr\n",
    "arr[:, [1, 0]] = arr[:, [0, 1]] #swapping the 2 columns by index\n",
    "arr"
   ]
  },
  {
   "cell_type": "markdown",
   "metadata": {},
   "source": [
    "### Exercise 3\n",
    "\n",
    "Create an array with random numbers between 0 and 1."
   ]
  },
  {
   "cell_type": "code",
   "execution_count": 98,
   "metadata": {},
   "outputs": [
    {
     "data": {
      "text/plain": [
       "array([0.97659711, 0.36930241, 0.72433186, 0.33598389, 0.92072578,\n",
       "       0.02618152, 0.26336723])"
      ]
     },
     "execution_count": 98,
     "metadata": {},
     "output_type": "execute_result"
    }
   ],
   "source": [
    " \n",
    "arr = np.random.rand(7)\n",
    "arr"
   ]
  },
  {
   "cell_type": "markdown",
   "metadata": {},
   "source": [
    "### Exercise 4\n",
    "\n",
    "Create an array that contains 10 numbers. All of them between 0 and 5. Then add that to an array that contains the numbers from 5 to 10."
   ]
  },
  {
   "cell_type": "code",
   "execution_count": 202,
   "metadata": {},
   "outputs": [
    {
     "data": {
      "text/plain": [
       "array([ 0.        ,  0.55555556,  1.11111111,  1.66666667,  2.22222222,\n",
       "        2.77777778,  3.33333333,  3.88888889,  4.44444444,  5.        ,\n",
       "        5.        ,  6.        ,  7.        ,  8.        ,  9.        ,\n",
       "       10.        ])"
      ]
     },
     "execution_count": 202,
     "metadata": {},
     "output_type": "execute_result"
    }
   ],
   "source": [
    "a = np.linspace(0,5,10)\n",
    "a\n",
    "b= np.arange(5,11)\n",
    "b\n",
    "e = np.concatenate((a, b))\n",
    "e"
   ]
  },
  {
   "cell_type": "markdown",
   "metadata": {},
   "source": [
    "### Exercise 5\n",
    "\n",
    "Given the following array, find the cumulative sum along the rows. Then find the cumulative sum along the columns. Then output the 2nd (1st index) column but only the first 10 rows. You should get a very recognizable pattern."
   ]
  },
  {
   "cell_type": "code",
   "execution_count": 203,
   "metadata": {},
   "outputs": [],
   "source": [
    "a = np.array([[0,1,2,3,4,5,6,7,8,9,10],[1,2,3,4,5,6,7,8,9,10,0], [2,3,4,5,6,7,8,9,10,0,1], [3,4,5,6,7,8,9,10,0,1,2],[4,5,6,7,8,9,10,0,1,2,3],[5,6,7,8,9,10,0,1,2,3,4],[6,7,8,9,10,0,1,2,3,4,5],[7,8,9,10,0,1,2,3,4,5,6],[8,9,10,0,1,2,3,4,5,6,7],[9,10,0,1,2,3,4,5,6,7,8],[10,0,1,2,3,4,5,6,7,8,9]])\n"
   ]
  },
  {
   "cell_type": "code",
   "execution_count": 204,
   "metadata": {},
   "outputs": [
    {
     "data": {
      "text/plain": [
       "array([[ 0,  1,  2,  3,  4,  5,  6,  7,  8,  9, 10],\n",
       "       [ 1,  3,  5,  7,  9, 11, 13, 15, 17, 19, 10],\n",
       "       [ 3,  6,  9, 12, 15, 18, 21, 24, 27, 19, 11],\n",
       "       [ 6, 10, 14, 18, 22, 26, 30, 34, 27, 20, 13],\n",
       "       [10, 15, 20, 25, 30, 35, 40, 34, 28, 22, 16],\n",
       "       [15, 21, 27, 33, 39, 45, 40, 35, 30, 25, 20],\n",
       "       [21, 28, 35, 42, 49, 45, 41, 37, 33, 29, 25],\n",
       "       [28, 36, 44, 52, 49, 46, 43, 40, 37, 34, 31],\n",
       "       [36, 45, 54, 52, 50, 48, 46, 44, 42, 40, 38],\n",
       "       [45, 55, 54, 53, 52, 51, 50, 49, 48, 47, 46],\n",
       "       [55, 55, 55, 55, 55, 55, 55, 55, 55, 55, 55]], dtype=int32)"
      ]
     },
     "execution_count": 204,
     "metadata": {},
     "output_type": "execute_result"
    }
   ],
   "source": [
    "row_sum= np.cumsum(a, axis=0)\n",
    "row_sum"
   ]
  },
  {
   "cell_type": "code",
   "execution_count": 205,
   "metadata": {},
   "outputs": [
    {
     "data": {
      "text/plain": [
       "array([[  0,   1,   3,   6,  10,  15,  21,  28,  36,  45,  55],\n",
       "       [  1,   4,   9,  16,  25,  36,  49,  64,  81, 100, 110],\n",
       "       [  3,   9,  18,  30,  45,  63,  84, 108, 135, 154, 165],\n",
       "       [  6,  16,  30,  48,  70,  96, 126, 160, 187, 207, 220],\n",
       "       [ 10,  25,  45,  70, 100, 135, 175, 209, 237, 259, 275],\n",
       "       [ 15,  36,  63,  96, 135, 180, 220, 255, 285, 310, 330],\n",
       "       [ 21,  49,  84, 126, 175, 220, 261, 298, 331, 360, 385],\n",
       "       [ 28,  64, 108, 160, 209, 255, 298, 338, 375, 409, 440],\n",
       "       [ 36,  81, 135, 187, 237, 285, 331, 375, 417, 457, 495],\n",
       "       [ 45, 100, 154, 207, 259, 310, 360, 409, 457, 504, 550],\n",
       "       [ 55, 110, 165, 220, 275, 330, 385, 440, 495, 550, 605]],\n",
       "      dtype=int32)"
      ]
     },
     "execution_count": 205,
     "metadata": {},
     "output_type": "execute_result"
    }
   ],
   "source": [
    "sum_col = np.cumsum(row_sum, axis=1)\n",
    "sum_col"
   ]
  },
  {
   "cell_type": "code",
   "execution_count": 206,
   "metadata": {},
   "outputs": [
    {
     "data": {
      "text/plain": [
       "array([  1,   4,   9,  16,  25,  36,  49,  64,  81, 100], dtype=int32)"
      ]
     },
     "execution_count": 206,
     "metadata": {},
     "output_type": "execute_result"
    }
   ],
   "source": [
    "sum_col[:-1,1]   #only first 10 rows(:-1), 2nd column (index 1)"
   ]
  },
  {
   "cell_type": "markdown",
   "metadata": {},
   "source": [
    "### Exercise 6"
   ]
  },
  {
   "cell_type": "markdown",
   "metadata": {},
   "source": [
    "Create a dataframe using the following:"
   ]
  },
  {
   "cell_type": "code",
   "execution_count": 119,
   "metadata": {},
   "outputs": [],
   "source": [
    "lst = [['Red',4],['Blue',6],['Green',1],\\\n",
    "       ['Yellow',5],['White',3],['Black',2],]\n"
   ]
  },
  {
   "cell_type": "code",
   "execution_count": 207,
   "metadata": {},
   "outputs": [
    {
     "data": {
      "text/html": [
       "<div>\n",
       "<style scoped>\n",
       "    .dataframe tbody tr th:only-of-type {\n",
       "        vertical-align: middle;\n",
       "    }\n",
       "\n",
       "    .dataframe tbody tr th {\n",
       "        vertical-align: top;\n",
       "    }\n",
       "\n",
       "    .dataframe thead th {\n",
       "        text-align: right;\n",
       "    }\n",
       "</style>\n",
       "<table border=\"1\" class=\"dataframe\">\n",
       "  <thead>\n",
       "    <tr style=\"text-align: right;\">\n",
       "      <th></th>\n",
       "      <th>color</th>\n",
       "      <th>count</th>\n",
       "    </tr>\n",
       "  </thead>\n",
       "  <tbody>\n",
       "    <tr>\n",
       "      <th>0</th>\n",
       "      <td>Red</td>\n",
       "      <td>4</td>\n",
       "    </tr>\n",
       "    <tr>\n",
       "      <th>1</th>\n",
       "      <td>Blue</td>\n",
       "      <td>6</td>\n",
       "    </tr>\n",
       "    <tr>\n",
       "      <th>2</th>\n",
       "      <td>Green</td>\n",
       "      <td>1</td>\n",
       "    </tr>\n",
       "    <tr>\n",
       "      <th>3</th>\n",
       "      <td>Yellow</td>\n",
       "      <td>5</td>\n",
       "    </tr>\n",
       "    <tr>\n",
       "      <th>4</th>\n",
       "      <td>White</td>\n",
       "      <td>3</td>\n",
       "    </tr>\n",
       "    <tr>\n",
       "      <th>5</th>\n",
       "      <td>Black</td>\n",
       "      <td>2</td>\n",
       "    </tr>\n",
       "  </tbody>\n",
       "</table>\n",
       "</div>"
      ],
      "text/plain": [
       "    color  count\n",
       "0     Red      4\n",
       "1    Blue      6\n",
       "2   Green      1\n",
       "3  Yellow      5\n",
       "4   White      3\n",
       "5   Black      2"
      ]
     },
     "execution_count": 207,
     "metadata": {},
     "output_type": "execute_result"
    }
   ],
   "source": [
    "df1 = pd.DataFrame(lst,columns= [\"color\", \"count\"]) \n",
    "df1 "
   ]
  },
  {
   "cell_type": "markdown",
   "metadata": {},
   "source": [
    "Create a dataframe using the following:"
   ]
  },
  {
   "cell_type": "code",
   "execution_count": 114,
   "metadata": {},
   "outputs": [],
   "source": [
    "dct = {'red':4, 'blue':6, 'green':1,\\\n",
    "       'yellow':5, 'white':3, 'black':2 }\n"
   ]
  },
  {
   "cell_type": "code",
   "execution_count": 208,
   "metadata": {},
   "outputs": [
    {
     "data": {
      "text/html": [
       "<div>\n",
       "<style scoped>\n",
       "    .dataframe tbody tr th:only-of-type {\n",
       "        vertical-align: middle;\n",
       "    }\n",
       "\n",
       "    .dataframe tbody tr th {\n",
       "        vertical-align: top;\n",
       "    }\n",
       "\n",
       "    .dataframe thead th {\n",
       "        text-align: right;\n",
       "    }\n",
       "</style>\n",
       "<table border=\"1\" class=\"dataframe\">\n",
       "  <thead>\n",
       "    <tr style=\"text-align: right;\">\n",
       "      <th></th>\n",
       "      <th>color</th>\n",
       "      <th>amount</th>\n",
       "    </tr>\n",
       "  </thead>\n",
       "  <tbody>\n",
       "    <tr>\n",
       "      <th>0</th>\n",
       "      <td>red</td>\n",
       "      <td>4</td>\n",
       "    </tr>\n",
       "    <tr>\n",
       "      <th>1</th>\n",
       "      <td>blue</td>\n",
       "      <td>6</td>\n",
       "    </tr>\n",
       "    <tr>\n",
       "      <th>2</th>\n",
       "      <td>green</td>\n",
       "      <td>1</td>\n",
       "    </tr>\n",
       "    <tr>\n",
       "      <th>3</th>\n",
       "      <td>yellow</td>\n",
       "      <td>5</td>\n",
       "    </tr>\n",
       "    <tr>\n",
       "      <th>4</th>\n",
       "      <td>white</td>\n",
       "      <td>3</td>\n",
       "    </tr>\n",
       "    <tr>\n",
       "      <th>5</th>\n",
       "      <td>black</td>\n",
       "      <td>2</td>\n",
       "    </tr>\n",
       "  </tbody>\n",
       "</table>\n",
       "</div>"
      ],
      "text/plain": [
       "    color  amount\n",
       "0     red       4\n",
       "1    blue       6\n",
       "2   green       1\n",
       "3  yellow       5\n",
       "4   white       3\n",
       "5   black       2"
      ]
     },
     "execution_count": 208,
     "metadata": {},
     "output_type": "execute_result"
    }
   ],
   "source": [
    "df2 = pd.DataFrame(dct.items(), columns= [\"color\",\"amount\"]) \n",
    "df2"
   ]
  },
  {
   "cell_type": "markdown",
   "metadata": {},
   "source": [
    "**The following exercises will use the dataset imported below:**"
   ]
  },
  {
   "cell_type": "code",
   "execution_count": 175,
   "metadata": {},
   "outputs": [
    {
     "data": {
      "text/html": [
       "<div>\n",
       "<style scoped>\n",
       "    .dataframe tbody tr th:only-of-type {\n",
       "        vertical-align: middle;\n",
       "    }\n",
       "\n",
       "    .dataframe tbody tr th {\n",
       "        vertical-align: top;\n",
       "    }\n",
       "\n",
       "    .dataframe thead th {\n",
       "        text-align: right;\n",
       "    }\n",
       "</style>\n",
       "<table border=\"1\" class=\"dataframe\">\n",
       "  <thead>\n",
       "    <tr style=\"text-align: right;\">\n",
       "      <th></th>\n",
       "      <th>year</th>\n",
       "      <th>make</th>\n",
       "      <th>model</th>\n",
       "      <th>number sold</th>\n",
       "      <th>price</th>\n",
       "      <th>revenue (in thousands)</th>\n",
       "    </tr>\n",
       "  </thead>\n",
       "  <tbody>\n",
       "    <tr>\n",
       "      <th>0</th>\n",
       "      <td>2019.0</td>\n",
       "      <td>Toyota</td>\n",
       "      <td>Camry</td>\n",
       "      <td>336978</td>\n",
       "      <td>24765.0</td>\n",
       "      <td>NaN</td>\n",
       "    </tr>\n",
       "    <tr>\n",
       "      <th>1</th>\n",
       "      <td>NaN</td>\n",
       "      <td>Toyota</td>\n",
       "      <td>Corolla</td>\n",
       "      <td>304850</td>\n",
       "      <td>NaN</td>\n",
       "      <td>4560556.00</td>\n",
       "    </tr>\n",
       "    <tr>\n",
       "      <th>2</th>\n",
       "      <td>2019.0</td>\n",
       "      <td>NaN</td>\n",
       "      <td>Supra</td>\n",
       "      <td>2884</td>\n",
       "      <td>35545.0</td>\n",
       "      <td>NaN</td>\n",
       "    </tr>\n",
       "    <tr>\n",
       "      <th>3</th>\n",
       "      <td>2019.0</td>\n",
       "      <td>Toyota</td>\n",
       "      <td>Avalon</td>\n",
       "      <td>27767</td>\n",
       "      <td>NaN</td>\n",
       "      <td>1012940.16</td>\n",
       "    </tr>\n",
       "  </tbody>\n",
       "</table>\n",
       "</div>"
      ],
      "text/plain": [
       "     year    make    model  number sold    price  revenue (in thousands)\n",
       "0  2019.0  Toyota    Camry       336978  24765.0                     NaN\n",
       "1     NaN  Toyota  Corolla       304850      NaN              4560556.00\n",
       "2  2019.0     NaN    Supra         2884  35545.0                     NaN\n",
       "3  2019.0  Toyota   Avalon        27767      NaN              1012940.16"
      ]
     },
     "execution_count": 175,
     "metadata": {},
     "output_type": "execute_result"
    }
   ],
   "source": [
    "df = pd.DataFrame([[2019,'Toyota','Camry',336978, 24765,np.nan],[np.NaN,'Toyota','Corolla',304850, np.nan,4560556],[2019,np.nan,'Supra',2884, 35545,np.nan],[2019,'Toyota','Avalon',27767 ,np.nan,1012940.16]])\n",
    "df.columns = ['year', 'make', 'model', 'number sold', 'price', 'revenue (in thousands)']\n",
    "df"
   ]
  },
  {
   "cell_type": "markdown",
   "metadata": {},
   "source": [
    "### Exercise 7\n",
    "\n",
    "a. Fix the `year` column in the dataframe by replacing missing values with the average value of that column."
   ]
  },
  {
   "cell_type": "code",
   "execution_count": 176,
   "metadata": {},
   "outputs": [
    {
     "data": {
      "text/plain": [
       "2019.0"
      ]
     },
     "execution_count": 176,
     "metadata": {},
     "output_type": "execute_result"
    }
   ],
   "source": [
    "df['year'].mean()"
   ]
  },
  {
   "cell_type": "code",
   "execution_count": 177,
   "metadata": {},
   "outputs": [
    {
     "data": {
      "text/html": [
       "<div>\n",
       "<style scoped>\n",
       "    .dataframe tbody tr th:only-of-type {\n",
       "        vertical-align: middle;\n",
       "    }\n",
       "\n",
       "    .dataframe tbody tr th {\n",
       "        vertical-align: top;\n",
       "    }\n",
       "\n",
       "    .dataframe thead th {\n",
       "        text-align: right;\n",
       "    }\n",
       "</style>\n",
       "<table border=\"1\" class=\"dataframe\">\n",
       "  <thead>\n",
       "    <tr style=\"text-align: right;\">\n",
       "      <th></th>\n",
       "      <th>year</th>\n",
       "      <th>make</th>\n",
       "      <th>model</th>\n",
       "      <th>number sold</th>\n",
       "      <th>price</th>\n",
       "      <th>revenue (in thousands)</th>\n",
       "    </tr>\n",
       "  </thead>\n",
       "  <tbody>\n",
       "    <tr>\n",
       "      <th>0</th>\n",
       "      <td>2019.0</td>\n",
       "      <td>Toyota</td>\n",
       "      <td>Camry</td>\n",
       "      <td>336978</td>\n",
       "      <td>24765.0</td>\n",
       "      <td>NaN</td>\n",
       "    </tr>\n",
       "    <tr>\n",
       "      <th>1</th>\n",
       "      <td>2019.0</td>\n",
       "      <td>Toyota</td>\n",
       "      <td>Corolla</td>\n",
       "      <td>304850</td>\n",
       "      <td>NaN</td>\n",
       "      <td>4560556.00</td>\n",
       "    </tr>\n",
       "    <tr>\n",
       "      <th>2</th>\n",
       "      <td>2019.0</td>\n",
       "      <td>NaN</td>\n",
       "      <td>Supra</td>\n",
       "      <td>2884</td>\n",
       "      <td>35545.0</td>\n",
       "      <td>NaN</td>\n",
       "    </tr>\n",
       "    <tr>\n",
       "      <th>3</th>\n",
       "      <td>2019.0</td>\n",
       "      <td>Toyota</td>\n",
       "      <td>Avalon</td>\n",
       "      <td>27767</td>\n",
       "      <td>NaN</td>\n",
       "      <td>1012940.16</td>\n",
       "    </tr>\n",
       "  </tbody>\n",
       "</table>\n",
       "</div>"
      ],
      "text/plain": [
       "     year    make    model  number sold    price  revenue (in thousands)\n",
       "0  2019.0  Toyota    Camry       336978  24765.0                     NaN\n",
       "1  2019.0  Toyota  Corolla       304850      NaN              4560556.00\n",
       "2  2019.0     NaN    Supra         2884  35545.0                     NaN\n",
       "3  2019.0  Toyota   Avalon        27767      NaN              1012940.16"
      ]
     },
     "execution_count": 177,
     "metadata": {},
     "output_type": "execute_result"
    }
   ],
   "source": [
    "df[\"year\"].fillna(value=df['year'].mean(), inplace=True)\n",
    "df"
   ]
  },
  {
   "cell_type": "code",
   "execution_count": 209,
   "metadata": {},
   "outputs": [
    {
     "data": {
      "text/html": [
       "<div>\n",
       "<style scoped>\n",
       "    .dataframe tbody tr th:only-of-type {\n",
       "        vertical-align: middle;\n",
       "    }\n",
       "\n",
       "    .dataframe tbody tr th {\n",
       "        vertical-align: top;\n",
       "    }\n",
       "\n",
       "    .dataframe thead th {\n",
       "        text-align: right;\n",
       "    }\n",
       "</style>\n",
       "<table border=\"1\" class=\"dataframe\">\n",
       "  <thead>\n",
       "    <tr style=\"text-align: right;\">\n",
       "      <th></th>\n",
       "      <th>year</th>\n",
       "      <th>make</th>\n",
       "      <th>model</th>\n",
       "      <th>number sold</th>\n",
       "      <th>price</th>\n",
       "      <th>revenue (in thousands)</th>\n",
       "    </tr>\n",
       "  </thead>\n",
       "  <tbody>\n",
       "    <tr>\n",
       "      <th>0</th>\n",
       "      <td>2019</td>\n",
       "      <td>Toyota</td>\n",
       "      <td>Camry</td>\n",
       "      <td>336978.0</td>\n",
       "      <td>24765.0</td>\n",
       "      <td>8.345260e+15</td>\n",
       "    </tr>\n",
       "    <tr>\n",
       "      <th>1</th>\n",
       "      <td>2019</td>\n",
       "      <td>Toyota</td>\n",
       "      <td>Corolla</td>\n",
       "      <td>304850.0</td>\n",
       "      <td>NaN</td>\n",
       "      <td>NaN</td>\n",
       "    </tr>\n",
       "    <tr>\n",
       "      <th>2</th>\n",
       "      <td>2019</td>\n",
       "      <td>NaN</td>\n",
       "      <td>Supra</td>\n",
       "      <td>2884.0</td>\n",
       "      <td>35545.0</td>\n",
       "      <td>1.025118e+14</td>\n",
       "    </tr>\n",
       "    <tr>\n",
       "      <th>3</th>\n",
       "      <td>2019</td>\n",
       "      <td>Toyota</td>\n",
       "      <td>Avalon</td>\n",
       "      <td>27767.0</td>\n",
       "      <td>NaN</td>\n",
       "      <td>NaN</td>\n",
       "    </tr>\n",
       "  </tbody>\n",
       "</table>\n",
       "</div>"
      ],
      "text/plain": [
       "   year    make    model  number sold    price  revenue (in thousands)\n",
       "0  2019  Toyota    Camry     336978.0  24765.0            8.345260e+15\n",
       "1  2019  Toyota  Corolla     304850.0      NaN                     NaN\n",
       "2  2019     NaN    Supra       2884.0  35545.0            1.025118e+14\n",
       "3  2019  Toyota   Avalon      27767.0      NaN                     NaN"
      ]
     },
     "execution_count": 209,
     "metadata": {},
     "output_type": "execute_result"
    }
   ],
   "source": [
    "df[\"year\"] = df[\"year\"].astype('int32')\n",
    "df"
   ]
  },
  {
   "cell_type": "markdown",
   "metadata": {},
   "source": [
    "\n",
    "b. Fix the `'make'` column by replacing the missing value with the value that occurred most frequently (mode)."
   ]
  },
  {
   "cell_type": "code",
   "execution_count": 187,
   "metadata": {},
   "outputs": [
    {
     "data": {
      "text/plain": [
       "0    Toyota\n",
       "dtype: object"
      ]
     },
     "execution_count": 187,
     "metadata": {},
     "output_type": "execute_result"
    }
   ],
   "source": [
    "df[\"make\"].mode()"
   ]
  },
  {
   "cell_type": "code",
   "execution_count": 210,
   "metadata": {},
   "outputs": [],
   "source": [
    "df[\"make\"] = df[\"make\"].fillna(df[\"make\"].mode()[0])"
   ]
  },
  {
   "cell_type": "code",
   "execution_count": 211,
   "metadata": {},
   "outputs": [
    {
     "data": {
      "text/html": [
       "<div>\n",
       "<style scoped>\n",
       "    .dataframe tbody tr th:only-of-type {\n",
       "        vertical-align: middle;\n",
       "    }\n",
       "\n",
       "    .dataframe tbody tr th {\n",
       "        vertical-align: top;\n",
       "    }\n",
       "\n",
       "    .dataframe thead th {\n",
       "        text-align: right;\n",
       "    }\n",
       "</style>\n",
       "<table border=\"1\" class=\"dataframe\">\n",
       "  <thead>\n",
       "    <tr style=\"text-align: right;\">\n",
       "      <th></th>\n",
       "      <th>year</th>\n",
       "      <th>make</th>\n",
       "      <th>model</th>\n",
       "      <th>number sold</th>\n",
       "      <th>price</th>\n",
       "      <th>revenue (in thousands)</th>\n",
       "    </tr>\n",
       "  </thead>\n",
       "  <tbody>\n",
       "    <tr>\n",
       "      <th>0</th>\n",
       "      <td>2019</td>\n",
       "      <td>Toyota</td>\n",
       "      <td>Camry</td>\n",
       "      <td>336978.0</td>\n",
       "      <td>24765.0</td>\n",
       "      <td>8.345260e+15</td>\n",
       "    </tr>\n",
       "    <tr>\n",
       "      <th>1</th>\n",
       "      <td>2019</td>\n",
       "      <td>Toyota</td>\n",
       "      <td>Corolla</td>\n",
       "      <td>304850.0</td>\n",
       "      <td>NaN</td>\n",
       "      <td>NaN</td>\n",
       "    </tr>\n",
       "    <tr>\n",
       "      <th>2</th>\n",
       "      <td>2019</td>\n",
       "      <td>Toyota</td>\n",
       "      <td>Supra</td>\n",
       "      <td>2884.0</td>\n",
       "      <td>35545.0</td>\n",
       "      <td>1.025118e+14</td>\n",
       "    </tr>\n",
       "    <tr>\n",
       "      <th>3</th>\n",
       "      <td>2019</td>\n",
       "      <td>Toyota</td>\n",
       "      <td>Avalon</td>\n",
       "      <td>27767.0</td>\n",
       "      <td>NaN</td>\n",
       "      <td>NaN</td>\n",
       "    </tr>\n",
       "  </tbody>\n",
       "</table>\n",
       "</div>"
      ],
      "text/plain": [
       "   year    make    model  number sold    price  revenue (in thousands)\n",
       "0  2019  Toyota    Camry     336978.0  24765.0            8.345260e+15\n",
       "1  2019  Toyota  Corolla     304850.0      NaN                     NaN\n",
       "2  2019  Toyota    Supra       2884.0  35545.0            1.025118e+14\n",
       "3  2019  Toyota   Avalon      27767.0      NaN                     NaN"
      ]
     },
     "execution_count": 211,
     "metadata": {},
     "output_type": "execute_result"
    }
   ],
   "source": [
    "df"
   ]
  },
  {
   "cell_type": "markdown",
   "metadata": {},
   "source": [
    "**note: for the following exercises, remember that revenue in the dataframe is the revenue divided by 1000 (so multiply by 1000 to get true revenue).**\n",
    "\n",
    "### Exercise 8\n",
    "\n",
    "Fix the `'revenue (in thousands)'` column by calculating the approximate revenue. Remember that the value of `'revenue'` is in the 1000s.\n",
    "\n",
    "$$ \\textrm{revenue} = \\textrm{number sold} * \\textrm{price} $$"
   ]
  },
  {
   "cell_type": "code",
   "execution_count": 212,
   "metadata": {},
   "outputs": [
    {
     "data": {
      "text/html": [
       "<div>\n",
       "<style scoped>\n",
       "    .dataframe tbody tr th:only-of-type {\n",
       "        vertical-align: middle;\n",
       "    }\n",
       "\n",
       "    .dataframe tbody tr th {\n",
       "        vertical-align: top;\n",
       "    }\n",
       "\n",
       "    .dataframe thead th {\n",
       "        text-align: right;\n",
       "    }\n",
       "</style>\n",
       "<table border=\"1\" class=\"dataframe\">\n",
       "  <thead>\n",
       "    <tr style=\"text-align: right;\">\n",
       "      <th></th>\n",
       "      <th>year</th>\n",
       "      <th>make</th>\n",
       "      <th>model</th>\n",
       "      <th>number sold</th>\n",
       "      <th>price</th>\n",
       "      <th>revenue (in thousands)</th>\n",
       "    </tr>\n",
       "  </thead>\n",
       "  <tbody>\n",
       "    <tr>\n",
       "      <th>0</th>\n",
       "      <td>2019</td>\n",
       "      <td>Toyota</td>\n",
       "      <td>Camry</td>\n",
       "      <td>336978.0</td>\n",
       "      <td>24765.0</td>\n",
       "      <td>8.345260e+15</td>\n",
       "    </tr>\n",
       "    <tr>\n",
       "      <th>1</th>\n",
       "      <td>2019</td>\n",
       "      <td>Toyota</td>\n",
       "      <td>Corolla</td>\n",
       "      <td>304850.0</td>\n",
       "      <td>NaN</td>\n",
       "      <td>NaN</td>\n",
       "    </tr>\n",
       "    <tr>\n",
       "      <th>2</th>\n",
       "      <td>2019</td>\n",
       "      <td>Toyota</td>\n",
       "      <td>Supra</td>\n",
       "      <td>2884.0</td>\n",
       "      <td>35545.0</td>\n",
       "      <td>1.025118e+14</td>\n",
       "    </tr>\n",
       "    <tr>\n",
       "      <th>3</th>\n",
       "      <td>2019</td>\n",
       "      <td>Toyota</td>\n",
       "      <td>Avalon</td>\n",
       "      <td>27767.0</td>\n",
       "      <td>NaN</td>\n",
       "      <td>NaN</td>\n",
       "    </tr>\n",
       "  </tbody>\n",
       "</table>\n",
       "</div>"
      ],
      "text/plain": [
       "   year    make    model  number sold    price  revenue (in thousands)\n",
       "0  2019  Toyota    Camry     336978.0  24765.0            8.345260e+15\n",
       "1  2019  Toyota  Corolla     304850.0      NaN                     NaN\n",
       "2  2019  Toyota    Supra       2884.0  35545.0            1.025118e+14\n",
       "3  2019  Toyota   Avalon      27767.0      NaN                     NaN"
      ]
     },
     "execution_count": 212,
     "metadata": {},
     "output_type": "execute_result"
    }
   ],
   "source": [
    "df[\"revenue (in thousands)\"] = df[\"revenue (in thousands)\"].fillna((df[\"number sold\"]*df[\"price\"])/1000)\n",
    "df"
   ]
  },
  {
   "cell_type": "code",
   "execution_count": 194,
   "metadata": {},
   "outputs": [],
   "source": [
    "df[\"revenue (in thousands)\"] = df[\"revenue (in thousands)\"] * 1000"
   ]
  },
  {
   "cell_type": "code",
   "execution_count": 195,
   "metadata": {},
   "outputs": [
    {
     "data": {
      "text/html": [
       "<div>\n",
       "<style scoped>\n",
       "    .dataframe tbody tr th:only-of-type {\n",
       "        vertical-align: middle;\n",
       "    }\n",
       "\n",
       "    .dataframe tbody tr th {\n",
       "        vertical-align: top;\n",
       "    }\n",
       "\n",
       "    .dataframe thead th {\n",
       "        text-align: right;\n",
       "    }\n",
       "</style>\n",
       "<table border=\"1\" class=\"dataframe\">\n",
       "  <thead>\n",
       "    <tr style=\"text-align: right;\">\n",
       "      <th></th>\n",
       "      <th>year</th>\n",
       "      <th>make</th>\n",
       "      <th>model</th>\n",
       "      <th>number sold</th>\n",
       "      <th>price</th>\n",
       "      <th>revenue (in thousands)</th>\n",
       "    </tr>\n",
       "  </thead>\n",
       "  <tbody>\n",
       "    <tr>\n",
       "      <th>0</th>\n",
       "      <td>2019.0</td>\n",
       "      <td>Toyota</td>\n",
       "      <td>Camry</td>\n",
       "      <td>336978</td>\n",
       "      <td>24765.0</td>\n",
       "      <td>8.345260e+15</td>\n",
       "    </tr>\n",
       "    <tr>\n",
       "      <th>1</th>\n",
       "      <td>2019.0</td>\n",
       "      <td>Toyota</td>\n",
       "      <td>Corolla</td>\n",
       "      <td>304850</td>\n",
       "      <td>NaN</td>\n",
       "      <td>NaN</td>\n",
       "    </tr>\n",
       "    <tr>\n",
       "      <th>2</th>\n",
       "      <td>2019.0</td>\n",
       "      <td>NaN</td>\n",
       "      <td>Supra</td>\n",
       "      <td>2884</td>\n",
       "      <td>35545.0</td>\n",
       "      <td>1.025118e+14</td>\n",
       "    </tr>\n",
       "    <tr>\n",
       "      <th>3</th>\n",
       "      <td>2019.0</td>\n",
       "      <td>Toyota</td>\n",
       "      <td>Avalon</td>\n",
       "      <td>27767</td>\n",
       "      <td>NaN</td>\n",
       "      <td>NaN</td>\n",
       "    </tr>\n",
       "  </tbody>\n",
       "</table>\n",
       "</div>"
      ],
      "text/plain": [
       "     year    make    model  number sold    price  revenue (in thousands)\n",
       "0  2019.0  Toyota    Camry       336978  24765.0            8.345260e+15\n",
       "1  2019.0  Toyota  Corolla       304850      NaN                     NaN\n",
       "2  2019.0     NaN    Supra         2884  35545.0            1.025118e+14\n",
       "3  2019.0  Toyota   Avalon        27767      NaN                     NaN"
      ]
     },
     "execution_count": 195,
     "metadata": {},
     "output_type": "execute_result"
    }
   ],
   "source": [
    "df"
   ]
  },
  {
   "cell_type": "markdown",
   "metadata": {},
   "source": [
    "### Exercise 9\n",
    "\n",
    "Fix the `'price'` column by calculating the approximate price.\n",
    "\n",
    "$$ \\textrm{price} = \\frac{\\textrm{revenue}}{\\textrm{number sold}} $$"
   ]
  },
  {
   "cell_type": "code",
   "execution_count": 213,
   "metadata": {},
   "outputs": [
    {
     "data": {
      "text/html": [
       "<div>\n",
       "<style scoped>\n",
       "    .dataframe tbody tr th:only-of-type {\n",
       "        vertical-align: middle;\n",
       "    }\n",
       "\n",
       "    .dataframe tbody tr th {\n",
       "        vertical-align: top;\n",
       "    }\n",
       "\n",
       "    .dataframe thead th {\n",
       "        text-align: right;\n",
       "    }\n",
       "</style>\n",
       "<table border=\"1\" class=\"dataframe\">\n",
       "  <thead>\n",
       "    <tr style=\"text-align: right;\">\n",
       "      <th></th>\n",
       "      <th>year</th>\n",
       "      <th>make</th>\n",
       "      <th>model</th>\n",
       "      <th>number sold</th>\n",
       "      <th>price</th>\n",
       "      <th>revenue (in thousands)</th>\n",
       "    </tr>\n",
       "  </thead>\n",
       "  <tbody>\n",
       "    <tr>\n",
       "      <th>0</th>\n",
       "      <td>2019</td>\n",
       "      <td>Toyota</td>\n",
       "      <td>Camry</td>\n",
       "      <td>336978.0</td>\n",
       "      <td>24765.0</td>\n",
       "      <td>8.345260e+15</td>\n",
       "    </tr>\n",
       "    <tr>\n",
       "      <th>1</th>\n",
       "      <td>2019</td>\n",
       "      <td>Toyota</td>\n",
       "      <td>Corolla</td>\n",
       "      <td>304850.0</td>\n",
       "      <td>NaN</td>\n",
       "      <td>NaN</td>\n",
       "    </tr>\n",
       "    <tr>\n",
       "      <th>2</th>\n",
       "      <td>2019</td>\n",
       "      <td>Toyota</td>\n",
       "      <td>Supra</td>\n",
       "      <td>2884.0</td>\n",
       "      <td>35545.0</td>\n",
       "      <td>1.025118e+14</td>\n",
       "    </tr>\n",
       "    <tr>\n",
       "      <th>3</th>\n",
       "      <td>2019</td>\n",
       "      <td>Toyota</td>\n",
       "      <td>Avalon</td>\n",
       "      <td>27767.0</td>\n",
       "      <td>NaN</td>\n",
       "      <td>NaN</td>\n",
       "    </tr>\n",
       "  </tbody>\n",
       "</table>\n",
       "</div>"
      ],
      "text/plain": [
       "   year    make    model  number sold    price  revenue (in thousands)\n",
       "0  2019  Toyota    Camry     336978.0  24765.0            8.345260e+15\n",
       "1  2019  Toyota  Corolla     304850.0      NaN                     NaN\n",
       "2  2019  Toyota    Supra       2884.0  35545.0            1.025118e+14\n",
       "3  2019  Toyota   Avalon      27767.0      NaN                     NaN"
      ]
     },
     "execution_count": 213,
     "metadata": {},
     "output_type": "execute_result"
    }
   ],
   "source": [
    "df[\"price\"] = df[\"price\"].fillna((df[\"revenue (in thousands)\"]*1000) / df[\"number sold\"])\n",
    "df"
   ]
  },
  {
   "cell_type": "markdown",
   "metadata": {},
   "source": [
    "### Exercise 10\n",
    "\n",
    "Fix the `'number sold'` column by calculating the approximate number of vehicles sold.\n",
    "\n",
    "$$ \\textrm{number sold} = \\frac{\\textrm{revenue}}{\\textrm{price}} $$"
   ]
  },
  {
   "cell_type": "code",
   "execution_count": 214,
   "metadata": {},
   "outputs": [
    {
     "data": {
      "text/html": [
       "<div>\n",
       "<style scoped>\n",
       "    .dataframe tbody tr th:only-of-type {\n",
       "        vertical-align: middle;\n",
       "    }\n",
       "\n",
       "    .dataframe tbody tr th {\n",
       "        vertical-align: top;\n",
       "    }\n",
       "\n",
       "    .dataframe thead th {\n",
       "        text-align: right;\n",
       "    }\n",
       "</style>\n",
       "<table border=\"1\" class=\"dataframe\">\n",
       "  <thead>\n",
       "    <tr style=\"text-align: right;\">\n",
       "      <th></th>\n",
       "      <th>year</th>\n",
       "      <th>make</th>\n",
       "      <th>model</th>\n",
       "      <th>number sold</th>\n",
       "      <th>price</th>\n",
       "      <th>revenue (in thousands)</th>\n",
       "    </tr>\n",
       "  </thead>\n",
       "  <tbody>\n",
       "    <tr>\n",
       "      <th>0</th>\n",
       "      <td>2019</td>\n",
       "      <td>Toyota</td>\n",
       "      <td>Camry</td>\n",
       "      <td>336978.0</td>\n",
       "      <td>24765.0</td>\n",
       "      <td>8.345260e+15</td>\n",
       "    </tr>\n",
       "    <tr>\n",
       "      <th>1</th>\n",
       "      <td>2019</td>\n",
       "      <td>Toyota</td>\n",
       "      <td>Corolla</td>\n",
       "      <td>304850.0</td>\n",
       "      <td>NaN</td>\n",
       "      <td>NaN</td>\n",
       "    </tr>\n",
       "    <tr>\n",
       "      <th>2</th>\n",
       "      <td>2019</td>\n",
       "      <td>Toyota</td>\n",
       "      <td>Supra</td>\n",
       "      <td>2884.0</td>\n",
       "      <td>35545.0</td>\n",
       "      <td>1.025118e+14</td>\n",
       "    </tr>\n",
       "    <tr>\n",
       "      <th>3</th>\n",
       "      <td>2019</td>\n",
       "      <td>Toyota</td>\n",
       "      <td>Avalon</td>\n",
       "      <td>27767.0</td>\n",
       "      <td>NaN</td>\n",
       "      <td>NaN</td>\n",
       "    </tr>\n",
       "  </tbody>\n",
       "</table>\n",
       "</div>"
      ],
      "text/plain": [
       "   year    make    model  number sold    price  revenue (in thousands)\n",
       "0  2019  Toyota    Camry     336978.0  24765.0            8.345260e+15\n",
       "1  2019  Toyota  Corolla     304850.0      NaN                     NaN\n",
       "2  2019  Toyota    Supra       2884.0  35545.0            1.025118e+14\n",
       "3  2019  Toyota   Avalon      27767.0      NaN                     NaN"
      ]
     },
     "execution_count": 214,
     "metadata": {},
     "output_type": "execute_result"
    }
   ],
   "source": [
    "df['number sold']= df['number sold'].fillna((df['revenue (in thousands)']*1000) / df['price'])\n",
    "df\n",
    "\n",
    "# df.loc[df[\"number sold\"].isnull(), 'number sold'] = df[\"revenue (in thousands)\"] / df['price']\n",
    "# df"
   ]
  },
  {
   "cell_type": "markdown",
   "metadata": {},
   "source": [
    "# Machine Learning Questions \n",
    "\n",
    "Answer 5 out of 10.\n",
    "\n",
    "**1. What is bias in a machine learning model? Why does increasing model complexity decrease bias? What concerns do we need to worry about when increasing model complexity to decrease bias?**"
   ]
  },
  {
   "cell_type": "markdown",
   "metadata": {},
   "source": [
    "Bias is the ML model's ability to learn the same thing incorrectly. If your ML model isn't able to pick up on signals effectively - then it's bias. Inscreasing model complexity decreases bias, we provide more info so we provide more features the model can respond to, pick up on signals and learn/perform better. However, If we add too many features we can run into oposite issue - we are adding signals but also adding noise - which causes variance in our model's output. By adding too many features we may add errors to our model due to that. We need to find the swett spot where we give our model enough info to pick up on signals but not to pick up on noise."
   ]
  },
  {
   "cell_type": "markdown",
   "metadata": {},
   "source": [
    "**2. What do we use a logistic regression for? What class of machine learning algorithms is logistic regression part of? Explain the main difference between this class of machine learning algorithm and alternatives.**"
   ]
  },
  {
   "cell_type": "markdown",
   "metadata": {},
   "source": [
    "We use Logistic Regression to put data in one of 2 categories, basically we are able to perform binary classification on data and predict in which of the 2 categories it'll fall. In order to perform logistic regression, the independent and dependent variables have to have a linear relationship. So, basically we use the linear regression and map it to the only 2 values on the Y axis.\n",
    "Logistic regression is part of Supervised ML.\n",
    "Supervised vs unsupervised ML difference - Unsupervised is a type of machine learning that uses unlabeled data. Because our data doesn't have the correctly labeled output, unsupervised machine learning algorithms can't rely on the \"correct answers\" to gauge its performance.So many unsupervised machine learning algorithms rely on discovering hidden patterns. In Superviced ML we try to maxinize the similarities. Supervised ML is a type of machine learning that involves the use of labeled data. Most supervised machine learning algorithms work by trying to minimize the errors when processing the data.\n",
    "There is also Semi-Supervised Machine Learning (utilizes both supervised and unsupervised machine learning algorithms) and Reinforcement Learning (concerned with how intelligent agents ought to take actions in an environment in order to maximize the notion of cumulative reward.)."
   ]
  },
  {
   "cell_type": "markdown",
   "metadata": {},
   "source": [
    "**3. Explain A/B testing. In what circumstances can you use it?**"
   ]
  },
  {
   "cell_type": "markdown",
   "metadata": {},
   "source": [
    "The homepage example in class.\n",
    "Creating 2 versions of a digital asset to see which one users respond to better. Examples of assets include a landing page, display ad, marketing email, and social post. In an A/B test, half of your audience automatically receives “version A” and half receives “version B” - which is the new/changed version. The performance of each version is based on conversion rate goals such as the percentage of people who click on a link, complete a form, or make a purchase. You can then determine whether changing the experience (from A to B) had a positive, negative, or no effect on visitor behavior."
   ]
  },
  {
   "cell_type": "markdown",
   "metadata": {},
   "source": [
    "**4. Explain what True Positive, False Positive, True Negative and False Negative means in the context of a classification model (these are the outputs of a confusion matrix).**"
   ]
  },
  {
   "cell_type": "markdown",
   "metadata": {},
   "source": [
    "If we refer to the pictures of dogs example rom class:   \n",
    "TP - is when the classification model classified something as something and that it really was, the model said it was a dog and it was a dog;   \n",
    "FP - says that it was a dog but it was not a dog;    \n",
    "TN- the model said it was not a dog and it was not a dog;   \n",
    "FN - model says it is not a dog but it actually is a dog"
   ]
  },
  {
   "cell_type": "markdown",
   "metadata": {},
   "source": [
    "**5. Explain the difference between overfitting and underfitting.**"
   ]
  },
  {
   "cell_type": "markdown",
   "metadata": {},
   "source": [
    "Overfitting and Underfitting are the two main problems that occur in machine learning and degrade the performance of the machine learning models. Overfitting occurs when our machine learning model tries to cover all the data points or more than the required data points present in the given dataset. Because of this, the model starts catching noise and inaccurate values present in the dataset, and all these factors reduce the efficiency and accuracy of the model. The overfitted model has low bias and high variance. The more we train our model, the more chances of occurring the overfitted model. Overfitting is the main problem that occurs in supervised learning. How to avoid the Overfitting in Model: Cross-Validation, Training with more data, Removing features, Early stopping the training, Regularization, Ensembling.   \n",
    "\n",
    "Underfitting occurs when our machine learning model is not able to capture the underlying trend of the data. In the case of underfitting, the model is not able to learn enough from the training data, and hence it reduces the accuracy and produces unreliable predictions.\n",
    "An underfitted model has high bias and low variance. How to avoid underfitting: By increasing the training time of the model, By increasing the number of features."
   ]
  },
  {
   "cell_type": "markdown",
   "metadata": {},
   "source": [
    "**6. How do you select the number of clusters for a clustering algorithm?**"
   ]
  },
  {
   "cell_type": "markdown",
   "metadata": {},
   "source": [
    "These methods include direct methods and statistical testing methods:\n",
    "Direct methods: consists of optimizing a criterion, such as the within cluster sums of squares or the average silhouette. The corresponding methods are named elbow and silhouette methods, respectively.\n",
    "Statistical testing methods: consists of comparing evidence against null hypothesis. An example is the gap statistic.   \n",
    "Elbow method - for k-means clustering, we run the algorhithm for different values of K and we compare it to see what the inertia is. When the inertia stops to drop that's probably the optimal number of clusters."
   ]
  },
  {
   "cell_type": "markdown",
   "metadata": {},
   "source": [
    "**7. Explain what a perceptron is and how it works.**"
   ]
  },
  {
   "cell_type": "markdown",
   "metadata": {},
   "source": [
    "A Perceptron is an algorithm for supervised learning of binary classifiers. This algorithm enables neurons to learn and processes elements in the training set one at a time.\n",
    "There are two types of Perceptrons: Single layer and Multilayer. Single layer Perceptrons can learn only linearly separable patterns. Multilayer Perceptrons or feedforward neural networks with two or more layers have the greater processing power.\n",
    "\n",
    "The Perceptron algorithm learns the weights for the input signals in order to draw a linear decision boundary. This enables you to distinguish between the two linearly separable classes +1 and -1."
   ]
  },
  {
   "cell_type": "markdown",
   "metadata": {},
   "source": [
    "**8. Explain why we would want to use dimensionality reduction. Use Principal Component Analysis in your response.**"
   ]
  },
  {
   "cell_type": "markdown",
   "metadata": {},
   "source": []
  },
  {
   "cell_type": "markdown",
   "metadata": {},
   "source": [
    "**9. Explain how supervised machine learning works.**"
   ]
  },
  {
   "cell_type": "markdown",
   "metadata": {},
   "source": [
    "A supervised ML model is prepared through a training process in which it is required to make predictions and it is corrected when those predictions are wrong.\n",
    "\n",
    "Input data is called training data and has a known label or result such as spam/not-spam or a stock price at a time.\n",
    "\n",
    "The training process continues until the model achieves a desired level of accuracy on the training data.\n",
    "\n",
    "Example problems: Classification and Regression."
   ]
  },
  {
   "cell_type": "markdown",
   "metadata": {},
   "source": [
    "**10. Explain why we split our data into training and testing data for supervised machine learning.**"
   ]
  },
  {
   "cell_type": "markdown",
   "metadata": {},
   "source": []
  }
 ],
 "metadata": {
  "kernelspec": {
   "display_name": "Python 3",
   "language": "python",
   "name": "python3"
  },
  "language_info": {
   "codemirror_mode": {
    "name": "ipython",
    "version": 3
   },
   "file_extension": ".py",
   "mimetype": "text/x-python",
   "name": "python",
   "nbconvert_exporter": "python",
   "pygments_lexer": "ipython3",
   "version": "3.8.3"
  }
 },
 "nbformat": 4,
 "nbformat_minor": 5
}
