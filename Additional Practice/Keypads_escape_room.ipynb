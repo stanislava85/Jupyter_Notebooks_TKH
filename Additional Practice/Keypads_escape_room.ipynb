{
 "cells": [
  {
   "cell_type": "markdown",
   "metadata": {},
   "source": [
    "1. Escape Room Keypads Problem Statement You're attempting to solve a puzzle in an Escape Room with your team where you need to open a door to get to the next stage. There are several doors, each with a different keypad on it. The keypads each have 7 keys, containing 7 distinct letters. Each keypad looks like this: Enter a word AELPSXY Enter The instructions state that one of the keypads will open the correct door leading to the next stage of the game. Your job is to find a word that unlocks the correct keypad. After struggling for some time, the Escape Room leader gave you a clue, that the first letter of the keypad is guaranteed to be in the word that opens the door. We will call this letter the \"key\" letter. The goal of this exercise is to come up with as many words as possible that your team can test out on the keypads and find the correct combination to go the next stage of the game. \n",
    "\n",
    "What you know: \n",
    "• The correct combination will be a valid English word. \n",
    "• The words are at least 5 letters long, with no maximum length. \n",
    "• The \"key\" letter will be in the correct answer. \n",
    "• The words do not contain any letters outside the seven letters on the keypad. \n",
    "• Letters may be reused, including the \"key\" letter. For our purposes, we'll express each set of keypad letters as a string of length 7, where the first letter Type here to search\n",
    "number of valid words in the corresponding lock. \n",
    "\n",
    "Constraints: \n",
    "• Both the wordlist and the keypad letters will be supplied in all capital letters. \n",
    "• All words in the wordlist will be of length 5 or greater. \n",
    "• Every sequence of keypad letters will be of exactly length 7. Every sequence of keypad letters will consist of 7 distinct letters. Performance of your solution is important! A naive solution will not get you full points - to score 100/100, you'll need something significantly faster. Example Input: wordlist: ['APPLE', PLEAS', 'PLEASE'] keypads: ['AELWXYZ', 'AELPXYZ', 'AELPSXY', 'SAELPRT', 'XAEBKSY'] Expected output: [0, 1, 3, 2, 0] \n",
    "Evnlanation: Type here to search BI\n",
    "number of valid words in the corresponding lock."
   ]
  },
  {
   "cell_type": "code",
   "execution_count": 1,
   "metadata": {},
   "outputs": [
    {
     "data": {
      "text/plain": [
       "[0, 1, 3, 3, 0]"
      ]
     },
     "execution_count": 1,
     "metadata": {},
     "output_type": "execute_result"
    }
   ],
   "source": [
    "def solve(wordlist, keypads):\n",
    "    result = []\n",
    "    for keypad in keypads:\n",
    "        hash = {'A':0, 'B':0, 'C':0, 'D':0, 'E':0, 'F':0, 'G':0, 'H':0, 'I':0, 'J':0, 'K':0, 'L':0, 'M':0, 'N':0, 'O':0, 'P':0, 'Q':0, 'R':0, 'S':0, 'T':0, 'U':0, 'V':0, 'W':0, 'X':0, 'Y':0, 'Z':0 }\n",
    "        count = 0\n",
    "        for letter in keypad:\n",
    "            hash[letter] += 1\n",
    "            #print(letter)\n",
    "  \n",
    "        for word in wordlist:\n",
    "            for i in range(len(word)):\n",
    "                if hash[word[i]] == 0:\n",
    "                    #print(hash[word[i]])\n",
    "                    break\n",
    "                elif (i == len(word) - 1) and (hash[word[i]] != 0):\n",
    "                    #print(len(word) - 1)\n",
    "                    #print(hash[word[i]])\n",
    "                    count += 1\n",
    "\n",
    "        result.append(count)\n",
    "    return result\n",
    "                    \n",
    "#solve(['APPLE', 'PLEAS', 'PLEASE'] , ['AELWXYZ', 'AELPXYZ', 'AELPSXY', 'SAELPRT', 'XAEBKSY'])\n",
    "wordlist= ['APPLE', 'PLEAS', 'PLEASE']\n",
    "keypads = ['AELWXYZ','AELPXYZ','AELPSXY','SAELPRT','XAEBSKY']\n",
    "solve(wordlist, keypads)"
   ]
  },
  {
   "cell_type": "code",
   "execution_count": null,
   "metadata": {},
   "outputs": [],
   "source": []
  }
 ],
 "metadata": {
  "kernelspec": {
   "display_name": "Python 3",
   "language": "python",
   "name": "python3"
  },
  "language_info": {
   "codemirror_mode": {
    "name": "ipython",
    "version": 3
   },
   "file_extension": ".py",
   "mimetype": "text/x-python",
   "name": "python",
   "nbconvert_exporter": "python",
   "pygments_lexer": "ipython3",
   "version": "3.8.3"
  }
 },
 "nbformat": 4,
 "nbformat_minor": 4
}
