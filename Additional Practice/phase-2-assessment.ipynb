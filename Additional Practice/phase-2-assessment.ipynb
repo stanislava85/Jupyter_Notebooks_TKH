{
 "cells": [
  {
   "cell_type": "markdown",
   "metadata": {},
   "source": [
    "<div style=\"background: #000;\n",
    "            color: #FFF;\n",
    "            margin: 0px;\n",
    "            padding: 10px 0px 20px 0px;\n",
    "            text-align: center; \n",
    "                \">\n",
    "    <h1>Phase 2 Practice Assessment</h1>\n",
    "</div>"
   ]
  },
  {
   "cell_type": "markdown",
   "metadata": {},
   "source": [
    "**Fill this out:**"
   ]
  },
  {
   "cell_type": "raw",
   "metadata": {},
   "source": [
    "name: Stanislava Hristova"
   ]
  },
  {
   "cell_type": "code",
   "execution_count": 3,
   "metadata": {},
   "outputs": [],
   "source": [
    "import pandas as pd\n",
    "import numpy as np\n",
    "import matplotlib.pyplot as plt\n",
    "import seaborn as sns"
   ]
  },
  {
   "cell_type": "markdown",
   "metadata": {},
   "source": [
    "# Multiple Choice Questions \n",
    "\n",
    "**[5% each; 25% total]**\n",
    "\n",
    "**1. If we dot multiplied the matrices below in the exact format they're in, what would the dimensions be?**\n",
    "\n",
    "$$ \\begin{bmatrix}\n",
    "a_1 & a_2 & a_3 \\\\\n",
    "b_1 & b_2 & b_3 \\\\\n",
    "\\end{bmatrix} \\cdot \\begin{bmatrix}\n",
    "a_1 & a_2 \\\\\n",
    "b_1 & b_2 \\\\\n",
    "c_1 & c_2 \\\\\n",
    "\\end{bmatrix}  $$\n",
    "\n",
    "**a.** 2x2.  \n",
    "**b.** 3x3.   \n",
    "**c.** 1x1.  \n",
    "**d.** 2x3."
   ]
  },
  {
   "cell_type": "raw",
   "metadata": {},
   "source": [
    "a. "
   ]
  },
  {
   "cell_type": "markdown",
   "metadata": {},
   "source": [
    "**2. What would we use to calculate the total number of ways we can arrange 6 students in a queue.**\n",
    "\n",
    "**a.** Factorial alone.  \n",
    "**b.** Permutation formula  \n",
    "**c.** Combination formula  \n",
    "**d.** Probability Mass Function    "
   ]
  },
  {
   "cell_type": "raw",
   "metadata": {},
   "source": [
    "It's factorial -a."
   ]
  },
  {
   "cell_type": "markdown",
   "metadata": {},
   "source": [
    "**3. Say we had two events: A and B. If we knew that event B had occurred, what would we use to find out what the probability was that A will also occur?**\n",
    "\n",
    "**a.** $P(A \\cup B)$.  \n",
    "**b.** $P(B \\cap A)$.    \n",
    "**c.** $P(B) + P(A)$.   \n",
    "**d.** $P(A|B)$.  "
   ]
  },
  {
   "cell_type": "raw",
   "metadata": {},
   "source": [
    "d."
   ]
  },
  {
   "cell_type": "markdown",
   "metadata": {},
   "source": [
    "**4. Based on the following code, what is `Dumpy`?**\n",
    "\n",
    "```python\n",
    "from typing import List\n",
    "from our_personal_typing_library import Dumpy\n",
    "\n",
    "def func(s: List, d: Dumpy) -> float:\n",
    "    for i in s:\n",
    "        d.add(i)\n",
    "    mu = d.mean()\n",
    "    return mu\n",
    "    \n",
    "func([0,0,0,4,5]) #outputs 4.5\n",
    "```\n",
    "\n",
    "\n",
    "**a.** A list of 5 values.    \n",
    "**b.** A queue that holds two values.  \n",
    "**c.** A stack that holds up to five values.  \n",
    "**d.** A dictionary.  "
   ]
  },
  {
   "cell_type": "raw",
   "metadata": {},
   "source": [
    "b."
   ]
  },
  {
   "cell_type": "markdown",
   "metadata": {},
   "source": [
    "**5. What's a (definite) consequence of underfitting?**\n",
    "\n",
    "**a.** Incorrect predictions   \n",
    "**b.** High bias  \n",
    "**c.** Getting fired    \n",
    "**d.** High variance  "
   ]
  },
  {
   "cell_type": "raw",
   "metadata": {},
   "source": [
    "a. "
   ]
  },
  {
   "cell_type": "markdown",
   "metadata": {},
   "source": [
    "# Python \n",
    "\n",
    "**[5% each; 25% total]** \n",
    "\n",
    "\n",
    "**1. Implement a binary search algorithm in python. Use it to search through the given list for `$`.**"
   ]
  },
  {
   "cell_type": "code",
   "execution_count": 109,
   "metadata": {},
   "outputs": [
    {
     "data": {
      "text/plain": [
       "[1, 2, 3, 4, 5, 6, 7, 10]"
      ]
     },
     "execution_count": 109,
     "metadata": {},
     "output_type": "execute_result"
    }
   ],
   "source": [
    "given = [1, 2, 3, 4, 5, 6, 7, 10]\n",
    "\n",
    "sorted(given)"
   ]
  },
  {
   "cell_type": "code",
   "execution_count": 177,
   "metadata": {},
   "outputs": [],
   "source": [
    "# needed for typing; not for the exercise\n",
    "from typing import List\n",
    "\n",
    "# fix this function:\n",
    "def binary_search(l:List = given, s:int = 10):\n",
    "\n",
    "    low = 0\n",
    "    high = len(given) - 1\n",
    "    mid = 0\n",
    " \n",
    "    while low <= high:\n",
    " \n",
    "        mid = (high + low) // 2\n",
    " \n",
    "        # If x is greater, ignore left half\n",
    "        if given[mid] < s:\n",
    "            low = mid + 1\n",
    " \n",
    "        # If x is smaller, ignore right half\n",
    "        elif given[mid] > s:\n",
    "            high = mid - 1\n",
    " \n",
    "        # means x is present at mid\n",
    "        else:\n",
    "            return mid\n",
    " \n",
    "    # If we reach here, then the element was not present\n",
    "    return -1\n",
    "\n",
    "#binary_search(given, 12)\n",
    "#binary_search(given, 2)\n",
    "#binary_search(given)\n",
    "\n",
    "#these test your solution\n",
    "try:\n",
    "    assert(binary_search() == 7)\n",
    "    assert(binary_search(s=2) == 1)\n",
    "    assert(binary_search(s=12) == -1)\n",
    "except AssertionError as e:\n",
    "    print(\"test failed\")"
   ]
  },
  {
   "cell_type": "code",
   "execution_count": null,
   "metadata": {},
   "outputs": [],
   "source": []
  },
  {
   "cell_type": "code",
   "execution_count": null,
   "metadata": {},
   "outputs": [],
   "source": []
  },
  {
   "cell_type": "markdown",
   "metadata": {},
   "source": [
    "**2. Fix the following code so the function calls work.**"
   ]
  },
  {
   "cell_type": "code",
   "execution_count": 1,
   "metadata": {},
   "outputs": [
    {
     "name": "stdout",
     "output_type": "stream",
     "text": [
      "3\n",
      "4\n",
      "5\n",
      "7\n",
      "8\n"
     ]
    }
   ],
   "source": [
    "class BinaryTree:\n",
    "    def __init__(self, data):\n",
    "        self.left = None\n",
    "        self.right = None\n",
    "        self.data = data\n",
    "\n",
    "    def add(self, data):\n",
    "        # fix this function:\n",
    "        if data > self.data:\n",
    "            if self.right is None:\n",
    "                self.right = BinaryTree(data)\n",
    "            else:\n",
    "                self.right.add(data)\n",
    "        if data < self.data:\n",
    "            if self.left is None:\n",
    "                self.left = BinaryTree(data)\n",
    "            else:\n",
    "                self.left.add(data)\n",
    "        # end of section that needs fixing\n",
    "        \n",
    "    def print(self):\n",
    "        if self.left:\n",
    "            self.left.print()\n",
    "        print(self.data)\n",
    "        if self.right:\n",
    "            self.right.print()  \n",
    "            \n",
    "bt = BinaryTree(5)\n",
    "bt.add(7)\n",
    "bt.add(8)\n",
    "bt.add(3)\n",
    "bt.add(4)\n",
    "bt.print()\n",
    "# if your solution is correct,\n",
    "# you will see all the values [3,4,5,7,8] printed"
   ]
  },
  {
   "cell_type": "markdown",
   "metadata": {},
   "source": [
    "**3. Write a class that implements a queue. Use any method of your choosing. Your queue must have the following three methods: `push`, `pop`, `peek` (returns next value to be popped).**"
   ]
  },
  {
   "cell_type": "code",
   "execution_count": 3,
   "metadata": {},
   "outputs": [],
   "source": [
    "# finish this class\n",
    "class Queue:\n",
    "    def __init__(self):\n",
    "        self.queue = list()\n",
    " \n",
    "    def push(self,value):  # Insert method to add element\n",
    "        if value not in self.queue:\n",
    "            self.queue.insert(0,value)\n",
    "            return True\n",
    "        return False\n",
    "\n",
    "    def pop(self):   # Pop method to remove element\n",
    "        if len(self.queue)>0:\n",
    "            return self.queue.pop()\n",
    "        return (\"No elements in Queue!\")\n",
    "    \n",
    "    def peek(self) -> int:\n",
    "        if len(self.queue) > 0:       #if the list has items we return the item at the front of the list\n",
    "            return self.queue[len(self.queue) - 1]\n",
    "\n",
    "# q = Queue()\n",
    "# q.push(3)\n",
    "# q.push(4)\n",
    "# q.push(5)        \n",
    "# q.pop()       \n",
    "# q.peek()\n",
    "\n",
    "#use the following to test your code    \n",
    "try:\n",
    "    q = Queue()\n",
    "    q.push(3)\n",
    "    q.push(4)\n",
    "    q.push(5)\n",
    "    assert(q.pop() == 3)\n",
    "    assert(q.peek() == 4)\n",
    "except AssertionError:\n",
    "    print(\"test failed.\")"
   ]
  },
  {
   "cell_type": "markdown",
   "metadata": {},
   "source": [
    "**4. Write a python function that calculates the expected value of the following dictionary containing outcomes (in dollars) and their probabilities.**\n",
    "\n",
    "Let $X$ by a random variable with $k$ number of finite outcomes $x_1, x_2,...,x_k$ occurring with probability $p_1, p_1,...,p_k$, respectively. The **expectation** of $X$ is defined as:\n",
    "$$ E[X] = \\sum_{i=1}^{k}{x_i p_i} = x_1p_1 + x_2p_2 + ... + x_kp_k$$"
   ]
  },
  {
   "cell_type": "code",
   "execution_count": 4,
   "metadata": {},
   "outputs": [],
   "source": [
    "# this is a dictionary\n",
    "# with key - outcomes or x's\n",
    "# and v - probabilities or p's\n",
    "probabilities = {\n",
    "    20: 0.20,\n",
    "    10: 0.20,\n",
    "    5:  0.20,\n",
    "    -10: 0.20,\n",
    "    -20: 0.20,\n",
    "}\n",
    "\n",
    "# fix this functionl\n",
    "\n",
    "def expected_value(d = probabilities):\n",
    "    l = []\n",
    "    tot=0\n",
    "    for x, y in d.items():\n",
    "        v=x*y\n",
    "        l.append(v)\n",
    "    #print(l)\n",
    "    for i in l:\n",
    "        return sum([i for i in l if isinstance(i, int) or isinstance(i, float)])\n",
    "\n",
    "    \n",
    "\n",
    "expected_value()\n",
    "\n",
    "#use this to test your code\n",
    "try:\n",
    "    assert(expected_value() == 1.0)\n",
    "except AssertionError:\n",
    "    print(\"test failed.\")"
   ]
  },
  {
   "cell_type": "markdown",
   "metadata": {},
   "source": [
    "**5. Create a dataclass called Point that contains:**\n",
    "* two attributes `x` and `y`\n",
    "* a method that overrides the addition operator so you can add two points together\n",
    "* a method called `distance` that calculates the distance between the two points using the distance formula we saw in class:\n",
    "\n",
    "$$ \\text{distance} = \\sqrt{(x_2-x_1)^{2} + (y_2-y_1)^{2} } $$\n"
   ]
  },
  {
   "cell_type": "code",
   "execution_count": 5,
   "metadata": {},
   "outputs": [],
   "source": [
    "from typing import List\n",
    "from dataclasses import dataclass\n",
    "\n",
    "# fix this class\n",
    "@dataclass\n",
    "class Point:\n",
    "    x: int\n",
    "    y: int\n",
    "        \n",
    "    def __add__(self, other):\n",
    "        return Point(self.x + other.x, self.y + other.y)\n",
    "    \n",
    "    def distance(self,other):\n",
    "        return ((other.x-self.x)**2 + (other.y - self.y)**2)**0.5  \n",
    "    \n",
    "p_1= Point(-4,-4)\n",
    "P_2 = Point(3,4)\n",
    "#p_1+P_2\n",
    "\n",
    "        \n",
    "\n",
    "    \n",
    "# use the following to test your answer\n",
    "try:\n",
    "    p_1 = Point(-4,-4)\n",
    "    p_2 = Point(3,4)\n",
    "    assert(p_1 + p_2 == Point(x=-1,y=0))\n",
    "    # this is basically calculating a \n",
    "    # 3-4-5 right triangle\n",
    "    p_1 = Point(0,0)\n",
    "    p_2 = Point(3,4)\n",
    "    assert(p_1.distance(p_2) == 5)\n",
    "    assert(p_2.distance(p_1) == 5)\n",
    "except AssertionError:\n",
    "    print(\"test failed.\")"
   ]
  },
  {
   "cell_type": "markdown",
   "metadata": {},
   "source": [
    "# Machine Learning Questions \n",
    "\n",
    "**1. What is bias in a machine learning model? Why does increasing model complexity decrease bias? What concerns do we need to worry about when increasing model complexity to decrease bias?**"
   ]
  },
  {
   "cell_type": "markdown",
   "metadata": {},
   "source": [
    "To make predictions, our model will analyze our data and find patterns in it. Using these patterns, we can make generalizations about certain instances in our data. Our model after training learns these patterns and applies them to the test set to predict them. Bias is the difference between our actual and predicted values. Bias is the simple assumptions that our model makes about our data to be able to predict new data. Bias - is the machine learning algorithm's ability to learn the same wrong thing.   \n",
    "If we add more features/complexity to our model, our machine learning algorithm can pick up on things we don't want it to and even if data is similar, the small discrepencies can cause a high variance in the outputs. However, that will also decrease our bias, because of the fact that we included more features in the model there is a better chance that our model will be more accurate.  \n",
    "So, for most accurate predictions we generally need to balance the model complexity in order to have both low bias and low variance.\n"
   ]
  },
  {
   "cell_type": "markdown",
   "metadata": {},
   "source": [
    "**2. What do we use a logistic regression for? What class of machine learning algorithms is logistic regression part of? Explain the main difference between this class of machine learning algorithm and alternatives.**"
   ]
  },
  {
   "cell_type": "markdown",
   "metadata": {},
   "source": [
    "We use Logistic Regression to put data in one of 2 categories, basically we are able to perform binary classification on data and predict in which of the 2 categories it'll fall. In order to perform logistic regression, the independent and dependent variables have to have a linear relationship. So, basically we use the linear regression and map it to the only 2 values on the Y axis.   \n",
    "Logistic regression is part of Supervised ML.   \n",
    "Supervised vs unsupervised ML difference - Unsupervised is a type of machine learning that uses unlabeled data. Because our data doesn't have the correctly labeled output, unsupervised machine learning algorithms can't rely on the \"correct answers\" to gauge its performance.So many unsupervised machine learning algorithms rely on discovering hidden patterns. In Superviced ML we try to maxinize the similarities. \n",
    "Supervised ML is a type of machine learning that involves the use of labeled data.  Most supervised machine learning algorithms work by trying to minimize the errors when processing the data.   \n",
    "There is also Semi-Supervised Machine Learning (utilizes both supervised and unsupervised machine learning algorithms) and Reinforcement Learning (concerned with how intelligent agents ought to take actions in an environment in order to maximize the notion of cumulative reward.)."
   ]
  },
  {
   "cell_type": "markdown",
   "metadata": {},
   "source": [
    "**3. What is underfitting? How does underfitting affect our machine learning models? What can we do to address underfitting?**"
   ]
  },
  {
   "cell_type": "markdown",
   "metadata": {},
   "source": [
    "When there is underfitting the model has failed to train properly on the data given and cannot predict new data either. \n",
    "Underfitting is when a machine learning model is not complex enough to accurately capture relationships between a dataset’s features and a target variable. An underfitted model results in problematic outcomes on new data, or data that it wasn’t trained on, and often performs poorly even on training data.   \n",
    "The way to address underfitting is to make the model more complex, but not too complex. We always need to strive for the balance on the graph where we will hit the lowest point of bais, variance and error. "
   ]
  },
  {
   "cell_type": "markdown",
   "metadata": {},
   "source": [
    "# Numpy\n",
    "\n",
    "**This section is worth 12.5%**\n",
    "\n",
    "**1. Given the following numpy array. Calculate the variance.**\n",
    "\n",
    "$$\\text{var(x)}= \\frac{1}{N}\\sum_{i=1}^{N}(x_i - \\mu)^{2}$$"
   ]
  },
  {
   "cell_type": "code",
   "execution_count": 260,
   "metadata": {},
   "outputs": [
    {
     "data": {
      "text/plain": [
       "24.0"
      ]
     },
     "execution_count": 260,
     "metadata": {},
     "output_type": "execute_result"
    }
   ],
   "source": [
    "n = np.array([10, 12, 23, 23, 16, 23, 21, 16])\n",
    "np.var(n)"
   ]
  },
  {
   "cell_type": "markdown",
   "metadata": {},
   "source": [
    "**2. Create a 3x5 matrix containing the multiples of 5.**\n"
   ]
  },
  {
   "cell_type": "code",
   "execution_count": 4,
   "metadata": {},
   "outputs": [
    {
     "data": {
      "text/plain": [
       "array([[ 5, 10, 15, 20, 25],\n",
       "       [30, 35, 40, 45, 50],\n",
       "       [55, 60, 65, 70, 75]])"
      ]
     },
     "execution_count": 4,
     "metadata": {},
     "output_type": "execute_result"
    }
   ],
   "source": [
    "np.arange(5,76,5).reshape(3,5)"
   ]
  },
  {
   "cell_type": "markdown",
   "metadata": {},
   "source": [
    "**3. Create an numpy array of 9 elements using arange and then use a single broadcast operation to make it an array of the integers from -4 to 4. Then use those values to generate the y-values of a parabola using the following formula:**\n",
    "\n",
    "$$ y = x^{2} + 4 $$"
   ]
  },
  {
   "cell_type": "code",
   "execution_count": 7,
   "metadata": {},
   "outputs": [
    {
     "data": {
      "text/plain": [
       "array([0, 1, 2, 3, 4, 5, 6, 7, 8])"
      ]
     },
     "execution_count": 7,
     "metadata": {},
     "output_type": "execute_result"
    }
   ],
   "source": [
    "a =np.arange(0,9)\n",
    "a"
   ]
  },
  {
   "cell_type": "code",
   "execution_count": 9,
   "metadata": {},
   "outputs": [
    {
     "data": {
      "text/plain": [
       "array([-4, -3, -2, -1,  0,  1,  2,  3,  4])"
      ]
     },
     "execution_count": 9,
     "metadata": {},
     "output_type": "execute_result"
    }
   ],
   "source": [
    "x = a -4\n",
    "x"
   ]
  },
  {
   "cell_type": "code",
   "execution_count": 10,
   "metadata": {},
   "outputs": [
    {
     "data": {
      "text/plain": [
       "array([20, 13,  8,  5,  4,  5,  8, 13, 20], dtype=int32)"
      ]
     },
     "execution_count": 10,
     "metadata": {},
     "output_type": "execute_result"
    }
   ],
   "source": [
    "y = x**2 + 4\n",
    "y"
   ]
  },
  {
   "cell_type": "markdown",
   "metadata": {},
   "source": [
    "**4. Slice the following numpy array to get the even rows and odd columns (0 is even). Rows/columns are even/odd if the index is even/odd.**"
   ]
  },
  {
   "cell_type": "code",
   "execution_count": 20,
   "metadata": {},
   "outputs": [
    {
     "data": {
      "text/plain": [
       "array([[ 2,  4,  6],\n",
       "       [14, 16, 18]])"
      ]
     },
     "execution_count": 20,
     "metadata": {},
     "output_type": "execute_result"
    }
   ],
   "source": [
    "n = np.array([[1,2,3,4,5,6],[7,8,9,10,11,12],[13,14,15,16,17,18],[19,20,21,22,23,24]])\n",
    "#even rows - 0,2\n",
    "#odd columns - 1,3,5\n",
    "n[::2, 1::2]"
   ]
  },
  {
   "cell_type": "markdown",
   "metadata": {},
   "source": [
    "**5. Create an array containing 101 values between 0 and 1. Then use a conditional slice to remove the value `0`. Once you have your array prepared, use it to calculate the y values for the following equation:**\n",
    "\n",
    "$$ y = 5x^{3} - 2x + 5 $$\n",
    "\n",
    "**When done with that, output the standard deviation of the y values.**"
   ]
  },
  {
   "cell_type": "code",
   "execution_count": 4,
   "metadata": {},
   "outputs": [
    {
     "data": {
      "text/plain": [
       "array([0.  , 0.01, 0.02, 0.03, 0.04, 0.05, 0.06, 0.07, 0.08, 0.09, 0.1 ,\n",
       "       0.11, 0.12, 0.13, 0.14, 0.15, 0.16, 0.17, 0.18, 0.19, 0.2 , 0.21,\n",
       "       0.22, 0.23, 0.24, 0.25, 0.26, 0.27, 0.28, 0.29, 0.3 , 0.31, 0.32,\n",
       "       0.33, 0.34, 0.35, 0.36, 0.37, 0.38, 0.39, 0.4 , 0.41, 0.42, 0.43,\n",
       "       0.44, 0.45, 0.46, 0.47, 0.48, 0.49, 0.5 , 0.51, 0.52, 0.53, 0.54,\n",
       "       0.55, 0.56, 0.57, 0.58, 0.59, 0.6 , 0.61, 0.62, 0.63, 0.64, 0.65,\n",
       "       0.66, 0.67, 0.68, 0.69, 0.7 , 0.71, 0.72, 0.73, 0.74, 0.75, 0.76,\n",
       "       0.77, 0.78, 0.79, 0.8 , 0.81, 0.82, 0.83, 0.84, 0.85, 0.86, 0.87,\n",
       "       0.88, 0.89, 0.9 , 0.91, 0.92, 0.93, 0.94, 0.95, 0.96, 0.97, 0.98,\n",
       "       0.99, 1.  ])"
      ]
     },
     "execution_count": 4,
     "metadata": {},
     "output_type": "execute_result"
    }
   ],
   "source": [
    "c = np.linspace(0,1,101)\n",
    "c"
   ]
  },
  {
   "cell_type": "code",
   "execution_count": 5,
   "metadata": {},
   "outputs": [
    {
     "data": {
      "text/plain": [
       "array([0.01, 0.02, 0.03, 0.04, 0.05, 0.06, 0.07, 0.08, 0.09, 0.1 , 0.11,\n",
       "       0.12, 0.13, 0.14, 0.15, 0.16, 0.17, 0.18, 0.19, 0.2 , 0.21, 0.22,\n",
       "       0.23, 0.24, 0.25, 0.26, 0.27, 0.28, 0.29, 0.3 , 0.31, 0.32, 0.33,\n",
       "       0.34, 0.35, 0.36, 0.37, 0.38, 0.39, 0.4 , 0.41, 0.42, 0.43, 0.44,\n",
       "       0.45, 0.46, 0.47, 0.48, 0.49, 0.5 , 0.51, 0.52, 0.53, 0.54, 0.55,\n",
       "       0.56, 0.57, 0.58, 0.59, 0.6 , 0.61, 0.62, 0.63, 0.64, 0.65, 0.66,\n",
       "       0.67, 0.68, 0.69, 0.7 , 0.71, 0.72, 0.73, 0.74, 0.75, 0.76, 0.77,\n",
       "       0.78, 0.79, 0.8 , 0.81, 0.82, 0.83, 0.84, 0.85, 0.86, 0.87, 0.88,\n",
       "       0.89, 0.9 , 0.91, 0.92, 0.93, 0.94, 0.95, 0.96, 0.97, 0.98, 0.99,\n",
       "       1.  ])"
      ]
     },
     "execution_count": 5,
     "metadata": {},
     "output_type": "execute_result"
    }
   ],
   "source": [
    "x = c[1:]\n",
    "x"
   ]
  },
  {
   "cell_type": "code",
   "execution_count": 6,
   "metadata": {},
   "outputs": [
    {
     "data": {
      "text/plain": [
       "array([4.980005, 4.96004 , 4.940135, 4.92032 , 4.900625, 4.88108 ,\n",
       "       4.861715, 4.84256 , 4.823645, 4.805   , 4.786655, 4.76864 ,\n",
       "       4.750985, 4.73372 , 4.716875, 4.70048 , 4.684565, 4.66916 ,\n",
       "       4.654295, 4.64    , 4.626305, 4.61324 , 4.600835, 4.58912 ,\n",
       "       4.578125, 4.56788 , 4.558415, 4.54976 , 4.541945, 4.535   ,\n",
       "       4.528955, 4.52384 , 4.519685, 4.51652 , 4.514375, 4.51328 ,\n",
       "       4.513265, 4.51436 , 4.516595, 4.52    , 4.524605, 4.53044 ,\n",
       "       4.537535, 4.54592 , 4.555625, 4.56668 , 4.579115, 4.59296 ,\n",
       "       4.608245, 4.625   , 4.643255, 4.66304 , 4.684385, 4.70732 ,\n",
       "       4.731875, 4.75808 , 4.785965, 4.81556 , 4.846895, 4.88    ,\n",
       "       4.914905, 4.95164 , 4.990235, 5.03072 , 5.073125, 5.11748 ,\n",
       "       5.163815, 5.21216 , 5.262545, 5.315   , 5.369555, 5.42624 ,\n",
       "       5.485085, 5.54612 , 5.609375, 5.67488 , 5.742665, 5.81276 ,\n",
       "       5.885195, 5.96    , 6.037205, 6.11684 , 6.198935, 6.28352 ,\n",
       "       6.370625, 6.46028 , 6.552515, 6.64736 , 6.744845, 6.845   ,\n",
       "       6.947855, 7.05344 , 7.161785, 7.27292 , 7.386875, 7.50368 ,\n",
       "       7.623365, 7.74596 , 7.871495, 8.      ])"
      ]
     },
     "execution_count": 6,
     "metadata": {},
     "output_type": "execute_result"
    }
   ],
   "source": [
    "y = 5 *(x**3) - (2*x) + 5\n",
    "y"
   ]
  },
  {
   "cell_type": "code",
   "execution_count": 10,
   "metadata": {},
   "outputs": [
    {
     "data": {
      "text/plain": [
       "0.9381474319836408"
      ]
     },
     "execution_count": 10,
     "metadata": {},
     "output_type": "execute_result"
    }
   ],
   "source": [
    "y.std()"
   ]
  },
  {
   "cell_type": "markdown",
   "metadata": {},
   "source": [
    "# Pandas \n",
    "\n",
    "**This section is worth 12.5%**\n",
    "\n",
    "The questions for this section use the dataframe below:"
   ]
  },
  {
   "cell_type": "code",
   "execution_count": 11,
   "metadata": {},
   "outputs": [
    {
     "data": {
      "text/html": [
       "<div>\n",
       "<style scoped>\n",
       "    .dataframe tbody tr th:only-of-type {\n",
       "        vertical-align: middle;\n",
       "    }\n",
       "\n",
       "    .dataframe tbody tr th {\n",
       "        vertical-align: top;\n",
       "    }\n",
       "\n",
       "    .dataframe thead th {\n",
       "        text-align: right;\n",
       "    }\n",
       "</style>\n",
       "<table border=\"1\" class=\"dataframe\">\n",
       "  <thead>\n",
       "    <tr style=\"text-align: right;\">\n",
       "      <th></th>\n",
       "      <th>country</th>\n",
       "      <th>continent</th>\n",
       "      <th>doses given</th>\n",
       "      <th>doses given per 100</th>\n",
       "      <th>percent vaccinated</th>\n",
       "      <th>percent fully vaccinated</th>\n",
       "    </tr>\n",
       "  </thead>\n",
       "  <tbody>\n",
       "    <tr>\n",
       "      <th>0</th>\n",
       "      <td>united states</td>\n",
       "      <td>north america</td>\n",
       "      <td>124481412</td>\n",
       "      <td>38.0</td>\n",
       "      <td>0.250</td>\n",
       "      <td>0.130</td>\n",
       "    </tr>\n",
       "    <tr>\n",
       "      <th>1</th>\n",
       "      <td>mainland china</td>\n",
       "      <td>asia</td>\n",
       "      <td>74956000</td>\n",
       "      <td>NaN</td>\n",
       "      <td>NaN</td>\n",
       "      <td>NaN</td>\n",
       "    </tr>\n",
       "    <tr>\n",
       "      <th>2</th>\n",
       "      <td>india</td>\n",
       "      <td>asia</td>\n",
       "      <td>45065998</td>\n",
       "      <td>3.3</td>\n",
       "      <td>0.028</td>\n",
       "      <td>0.006</td>\n",
       "    </tr>\n",
       "    <tr>\n",
       "      <th>3</th>\n",
       "      <td>united kingdom</td>\n",
       "      <td>europe</td>\n",
       "      <td>29859742</td>\n",
       "      <td>45.0</td>\n",
       "      <td>0.420</td>\n",
       "      <td>0.034</td>\n",
       "    </tr>\n",
       "    <tr>\n",
       "      <th>4</th>\n",
       "      <td>brazil</td>\n",
       "      <td>south america</td>\n",
       "      <td>13562176</td>\n",
       "      <td>6.5</td>\n",
       "      <td>0.049</td>\n",
       "      <td>0.016</td>\n",
       "    </tr>\n",
       "    <tr>\n",
       "      <th>5</th>\n",
       "      <td>israel</td>\n",
       "      <td>asia</td>\n",
       "      <td>9739025</td>\n",
       "      <td>110.0</td>\n",
       "      <td>0.580</td>\n",
       "      <td>0.510</td>\n",
       "    </tr>\n",
       "    <tr>\n",
       "      <th>6</th>\n",
       "      <td>chile</td>\n",
       "      <td>south america</td>\n",
       "      <td>8470866</td>\n",
       "      <td>45.0</td>\n",
       "      <td>0.300</td>\n",
       "      <td>0.150</td>\n",
       "    </tr>\n",
       "    <tr>\n",
       "      <th>7</th>\n",
       "      <td>mexico</td>\n",
       "      <td>north america</td>\n",
       "      <td>5612291</td>\n",
       "      <td>4.4</td>\n",
       "      <td>0.039</td>\n",
       "      <td>0.006</td>\n",
       "    </tr>\n",
       "    <tr>\n",
       "      <th>8</th>\n",
       "      <td>bangladesh</td>\n",
       "      <td>asia</td>\n",
       "      <td>4760747</td>\n",
       "      <td>3.0</td>\n",
       "      <td>0.030</td>\n",
       "      <td>NaN</td>\n",
       "    </tr>\n",
       "    <tr>\n",
       "      <th>9</th>\n",
       "      <td>canada</td>\n",
       "      <td>north america</td>\n",
       "      <td>3954285</td>\n",
       "      <td>11.0</td>\n",
       "      <td>0.090</td>\n",
       "      <td>0.017</td>\n",
       "    </tr>\n",
       "    <tr>\n",
       "      <th>10</th>\n",
       "      <td>argentina</td>\n",
       "      <td>south america</td>\n",
       "      <td>3119828</td>\n",
       "      <td>7.0</td>\n",
       "      <td>0.057</td>\n",
       "      <td>0.014</td>\n",
       "    </tr>\n",
       "    <tr>\n",
       "      <th>11</th>\n",
       "      <td>colombia</td>\n",
       "      <td>south america</td>\n",
       "      <td>1182098</td>\n",
       "      <td>2.4</td>\n",
       "      <td>0.023</td>\n",
       "      <td>0.001</td>\n",
       "    </tr>\n",
       "    <tr>\n",
       "      <th>12</th>\n",
       "      <td>switzerland</td>\n",
       "      <td>europe</td>\n",
       "      <td>1176875</td>\n",
       "      <td>14.0</td>\n",
       "      <td>0.087</td>\n",
       "      <td>0.051</td>\n",
       "    </tr>\n",
       "    <tr>\n",
       "      <th>13</th>\n",
       "      <td>dominican republic</td>\n",
       "      <td>north america</td>\n",
       "      <td>675000</td>\n",
       "      <td>5.8</td>\n",
       "      <td>0.064</td>\n",
       "      <td>NaN</td>\n",
       "    </tr>\n",
       "    <tr>\n",
       "      <th>14</th>\n",
       "      <td>peru</td>\n",
       "      <td>south america</td>\n",
       "      <td>623800</td>\n",
       "      <td>2.0</td>\n",
       "      <td>0.014</td>\n",
       "      <td>0.006</td>\n",
       "    </tr>\n",
       "    <tr>\n",
       "      <th>15</th>\n",
       "      <td>ghana</td>\n",
       "      <td>africa</td>\n",
       "      <td>420000</td>\n",
       "      <td>1.4</td>\n",
       "      <td>0.014</td>\n",
       "      <td>NaN</td>\n",
       "    </tr>\n",
       "    <tr>\n",
       "      <th>16</th>\n",
       "      <td>bulgaria</td>\n",
       "      <td>europe</td>\n",
       "      <td>368905</td>\n",
       "      <td>5.3</td>\n",
       "      <td>0.042</td>\n",
       "      <td>0.010</td>\n",
       "    </tr>\n",
       "    <tr>\n",
       "      <th>17</th>\n",
       "      <td>costa rica</td>\n",
       "      <td>south america</td>\n",
       "      <td>248082</td>\n",
       "      <td>5.0</td>\n",
       "      <td>0.038</td>\n",
       "      <td>0.012</td>\n",
       "    </tr>\n",
       "    <tr>\n",
       "      <th>18</th>\n",
       "      <td>south africa</td>\n",
       "      <td>africa</td>\n",
       "      <td>182983</td>\n",
       "      <td>0.3</td>\n",
       "      <td>0.003</td>\n",
       "      <td>NaN</td>\n",
       "    </tr>\n",
       "    <tr>\n",
       "      <th>19</th>\n",
       "      <td>jamaica</td>\n",
       "      <td>NaN</td>\n",
       "      <td>16096</td>\n",
       "      <td>0.5</td>\n",
       "      <td>0.005</td>\n",
       "      <td>NaN</td>\n",
       "    </tr>\n",
       "    <tr>\n",
       "      <th>20</th>\n",
       "      <td>guyana</td>\n",
       "      <td>south america</td>\n",
       "      <td>15524</td>\n",
       "      <td>2.0</td>\n",
       "      <td>0.020</td>\n",
       "      <td>NaN</td>\n",
       "    </tr>\n",
       "    <tr>\n",
       "      <th>21</th>\n",
       "      <td>nigeria</td>\n",
       "      <td>africa</td>\n",
       "      <td>8000</td>\n",
       "      <td>0.1</td>\n",
       "      <td>0.001</td>\n",
       "      <td>NaN</td>\n",
       "    </tr>\n",
       "    <tr>\n",
       "      <th>22</th>\n",
       "      <td>trinidad and tobago</td>\n",
       "      <td>south america</td>\n",
       "      <td>991</td>\n",
       "      <td>0.1</td>\n",
       "      <td>0.001</td>\n",
       "      <td>NaN</td>\n",
       "    </tr>\n",
       "  </tbody>\n",
       "</table>\n",
       "</div>"
      ],
      "text/plain": [
       "                country      continent  doses given  doses given per 100  \\\n",
       "0         united states  north america    124481412                 38.0   \n",
       "1        mainland china           asia     74956000                  NaN   \n",
       "2                 india           asia     45065998                  3.3   \n",
       "3        united kingdom         europe     29859742                 45.0   \n",
       "4                brazil  south america     13562176                  6.5   \n",
       "5                israel           asia      9739025                110.0   \n",
       "6                 chile  south america      8470866                 45.0   \n",
       "7                mexico  north america      5612291                  4.4   \n",
       "8            bangladesh           asia      4760747                  3.0   \n",
       "9                canada  north america      3954285                 11.0   \n",
       "10            argentina  south america      3119828                  7.0   \n",
       "11             colombia  south america      1182098                  2.4   \n",
       "12          switzerland         europe      1176875                 14.0   \n",
       "13   dominican republic  north america       675000                  5.8   \n",
       "14                 peru  south america       623800                  2.0   \n",
       "15                ghana         africa       420000                  1.4   \n",
       "16             bulgaria         europe       368905                  5.3   \n",
       "17           costa rica  south america       248082                  5.0   \n",
       "18         south africa         africa       182983                  0.3   \n",
       "19              jamaica            NaN        16096                  0.5   \n",
       "20               guyana  south america        15524                  2.0   \n",
       "21              nigeria         africa         8000                  0.1   \n",
       "22  trinidad and tobago  south america          991                  0.1   \n",
       "\n",
       "    percent vaccinated  percent fully vaccinated  \n",
       "0                0.250                     0.130  \n",
       "1                  NaN                       NaN  \n",
       "2                0.028                     0.006  \n",
       "3                0.420                     0.034  \n",
       "4                0.049                     0.016  \n",
       "5                0.580                     0.510  \n",
       "6                0.300                     0.150  \n",
       "7                0.039                     0.006  \n",
       "8                0.030                       NaN  \n",
       "9                0.090                     0.017  \n",
       "10               0.057                     0.014  \n",
       "11               0.023                     0.001  \n",
       "12               0.087                     0.051  \n",
       "13               0.064                       NaN  \n",
       "14               0.014                     0.006  \n",
       "15               0.014                       NaN  \n",
       "16               0.042                     0.010  \n",
       "17               0.038                     0.012  \n",
       "18               0.003                       NaN  \n",
       "19               0.005                       NaN  \n",
       "20               0.020                       NaN  \n",
       "21               0.001                       NaN  \n",
       "22               0.001                       NaN  "
      ]
     },
     "execution_count": 11,
     "metadata": {},
     "output_type": "execute_result"
    }
   ],
   "source": [
    "df = pd.DataFrame([\n",
    "['united states', \"north america\", 124481412, 38, 0.25, 0.13 ],\n",
    "['mainland china', \"asia\", 74956000],\n",
    "['india' , \"asia\", 45065998, 3.3, 0.028, 0.006],\n",
    "['united kingdom', \"europe\", 29859742, 45, 0.42, 0.034 ],\n",
    "['brazil', \"south america\",13562176, 6.5, 0.049, 0.016],\n",
    "['israel', \"asia\", 9739025, 110, 0.58, 0.51 ],\n",
    "['chile', \"south america\", 8470866, 45, 0.30, 0.15],\n",
    "['mexico', \"north america\",5612291, 4.4, 0.039, 0.006],\n",
    "['bangladesh', \"asia\", 4760747, 3, 0.03],\n",
    "['canada', \"north america\",3954285, 11, 0.09, 0.017],\n",
    "['argentina', 'south america', 3119828, 7, 0.057, 0.014],\n",
    "['colombia', 'south america', 1182098, 2.4, 0.023, 0.001],\n",
    "['switzerland', \"europe\",1176875, 14, 0.087, 0.051],\n",
    "['dominican republic', \"north america\", 675000, 5.8, 0.064],\n",
    "['peru', 'south america', 623800,  2, 0.014, 0.006],\n",
    "['ghana', 'africa', 420000, 1.4, 0.014],\n",
    "['bulgaria', \"europe\", 368905, 5.3, 0.042, 0.01],\n",
    "['costa rica', \"south america\", 248082, 5, 0.038, 0.012],\n",
    "['south africa', \"africa\",182983, 0.3, 0.003],\n",
    "['jamaica', np.nan, 16096, 0.5, 0.005],\n",
    "['guyana', \"south america\", 15524, 2, 0.02],\n",
    "['nigeria', 'africa', 8000, 0.1, 0.001],\n",
    "['trinidad and tobago', 'south america', 991, 0.1, 0.001],\n",
    "], columns=[\"country\", \"continent\", \"doses given\", \"doses given per 100\", \"percent vaccinated\", \"percent fully vaccinated\" ])\n",
    "df"
   ]
  },
  {
   "cell_type": "markdown",
   "metadata": {},
   "source": [
    "**1. Can you provide at least 3 pieces of information about the dataframe itself (memory usage, dimensions, number of missing values, etc)?**"
   ]
  },
  {
   "cell_type": "code",
   "execution_count": 12,
   "metadata": {},
   "outputs": [
    {
     "data": {
      "text/plain": [
       "(23, 6)"
      ]
     },
     "execution_count": 12,
     "metadata": {},
     "output_type": "execute_result"
    }
   ],
   "source": [
    "df.shape  # the df has 23 rows and 6 colums"
   ]
  },
  {
   "cell_type": "code",
   "execution_count": 13,
   "metadata": {},
   "outputs": [
    {
     "name": "stdout",
     "output_type": "stream",
     "text": [
      "<class 'pandas.core.frame.DataFrame'>\n",
      "RangeIndex: 23 entries, 0 to 22\n",
      "Data columns (total 6 columns):\n",
      " #   Column                    Non-Null Count  Dtype  \n",
      "---  ------                    --------------  -----  \n",
      " 0   country                   23 non-null     object \n",
      " 1   continent                 22 non-null     object \n",
      " 2   doses given               23 non-null     int64  \n",
      " 3   doses given per 100       22 non-null     float64\n",
      " 4   percent vaccinated        22 non-null     float64\n",
      " 5   percent fully vaccinated  14 non-null     float64\n",
      "dtypes: float64(3), int64(1), object(2)\n",
      "memory usage: 1.2+ KB\n"
     ]
    }
   ],
   "source": [
    "df.info()   #we have obj, int64 and float64 datatypes, some are empty, meory usage is 1.2+kb"
   ]
  },
  {
   "cell_type": "code",
   "execution_count": 14,
   "metadata": {},
   "outputs": [
    {
     "data": {
      "text/plain": [
       "country                     0\n",
       "continent                   1\n",
       "doses given                 0\n",
       "doses given per 100         1\n",
       "percent vaccinated          1\n",
       "percent fully vaccinated    9\n",
       "dtype: int64"
      ]
     },
     "execution_count": 14,
     "metadata": {},
     "output_type": "execute_result"
    }
   ],
   "source": [
    "df.isna().sum() #these are the number of empty values per column"
   ]
  },
  {
   "cell_type": "code",
   "execution_count": 15,
   "metadata": {},
   "outputs": [
    {
     "data": {
      "text/html": [
       "<div>\n",
       "<style scoped>\n",
       "    .dataframe tbody tr th:only-of-type {\n",
       "        vertical-align: middle;\n",
       "    }\n",
       "\n",
       "    .dataframe tbody tr th {\n",
       "        vertical-align: top;\n",
       "    }\n",
       "\n",
       "    .dataframe thead th {\n",
       "        text-align: right;\n",
       "    }\n",
       "</style>\n",
       "<table border=\"1\" class=\"dataframe\">\n",
       "  <thead>\n",
       "    <tr style=\"text-align: right;\">\n",
       "      <th></th>\n",
       "      <th>doses given</th>\n",
       "      <th>doses given per 100</th>\n",
       "      <th>percent vaccinated</th>\n",
       "      <th>percent fully vaccinated</th>\n",
       "    </tr>\n",
       "  </thead>\n",
       "  <tbody>\n",
       "    <tr>\n",
       "      <th>count</th>\n",
       "      <td>2.300000e+01</td>\n",
       "      <td>22.000000</td>\n",
       "      <td>22.000000</td>\n",
       "      <td>14.000000</td>\n",
       "    </tr>\n",
       "    <tr>\n",
       "      <th>mean</th>\n",
       "      <td>1.428264e+07</td>\n",
       "      <td>14.186364</td>\n",
       "      <td>0.097955</td>\n",
       "      <td>0.068786</td>\n",
       "    </tr>\n",
       "    <tr>\n",
       "      <th>std</th>\n",
       "      <td>2.998395e+07</td>\n",
       "      <td>25.557355</td>\n",
       "      <td>0.152346</td>\n",
       "      <td>0.135337</td>\n",
       "    </tr>\n",
       "    <tr>\n",
       "      <th>min</th>\n",
       "      <td>9.910000e+02</td>\n",
       "      <td>0.100000</td>\n",
       "      <td>0.001000</td>\n",
       "      <td>0.001000</td>\n",
       "    </tr>\n",
       "    <tr>\n",
       "      <th>25%</th>\n",
       "      <td>3.084935e+05</td>\n",
       "      <td>2.000000</td>\n",
       "      <td>0.015500</td>\n",
       "      <td>0.007000</td>\n",
       "    </tr>\n",
       "    <tr>\n",
       "      <th>50%</th>\n",
       "      <td>1.182098e+06</td>\n",
       "      <td>4.700000</td>\n",
       "      <td>0.038500</td>\n",
       "      <td>0.015000</td>\n",
       "    </tr>\n",
       "    <tr>\n",
       "      <th>75%</th>\n",
       "      <td>9.104946e+06</td>\n",
       "      <td>10.000000</td>\n",
       "      <td>0.081250</td>\n",
       "      <td>0.046750</td>\n",
       "    </tr>\n",
       "    <tr>\n",
       "      <th>max</th>\n",
       "      <td>1.244814e+08</td>\n",
       "      <td>110.000000</td>\n",
       "      <td>0.580000</td>\n",
       "      <td>0.510000</td>\n",
       "    </tr>\n",
       "  </tbody>\n",
       "</table>\n",
       "</div>"
      ],
      "text/plain": [
       "        doses given  doses given per 100  percent vaccinated  \\\n",
       "count  2.300000e+01            22.000000           22.000000   \n",
       "mean   1.428264e+07            14.186364            0.097955   \n",
       "std    2.998395e+07            25.557355            0.152346   \n",
       "min    9.910000e+02             0.100000            0.001000   \n",
       "25%    3.084935e+05             2.000000            0.015500   \n",
       "50%    1.182098e+06             4.700000            0.038500   \n",
       "75%    9.104946e+06            10.000000            0.081250   \n",
       "max    1.244814e+08           110.000000            0.580000   \n",
       "\n",
       "       percent fully vaccinated  \n",
       "count                 14.000000  \n",
       "mean                   0.068786  \n",
       "std                    0.135337  \n",
       "min                    0.001000  \n",
       "25%                    0.007000  \n",
       "50%                    0.015000  \n",
       "75%                    0.046750  \n",
       "max                    0.510000  "
      ]
     },
     "execution_count": 15,
     "metadata": {},
     "output_type": "execute_result"
    }
   ],
   "source": [
    "df.describe()  #some descriptive statistics per columns"
   ]
  },
  {
   "cell_type": "markdown",
   "metadata": {},
   "source": [
    "**2. Sort the dataframe by percent fully vaccinated in descending order.**"
   ]
  },
  {
   "cell_type": "code",
   "execution_count": 16,
   "metadata": {},
   "outputs": [
    {
     "data": {
      "text/html": [
       "<div>\n",
       "<style scoped>\n",
       "    .dataframe tbody tr th:only-of-type {\n",
       "        vertical-align: middle;\n",
       "    }\n",
       "\n",
       "    .dataframe tbody tr th {\n",
       "        vertical-align: top;\n",
       "    }\n",
       "\n",
       "    .dataframe thead th {\n",
       "        text-align: right;\n",
       "    }\n",
       "</style>\n",
       "<table border=\"1\" class=\"dataframe\">\n",
       "  <thead>\n",
       "    <tr style=\"text-align: right;\">\n",
       "      <th></th>\n",
       "      <th>country</th>\n",
       "      <th>continent</th>\n",
       "      <th>doses given</th>\n",
       "      <th>doses given per 100</th>\n",
       "      <th>percent vaccinated</th>\n",
       "      <th>percent fully vaccinated</th>\n",
       "    </tr>\n",
       "  </thead>\n",
       "  <tbody>\n",
       "    <tr>\n",
       "      <th>5</th>\n",
       "      <td>israel</td>\n",
       "      <td>asia</td>\n",
       "      <td>9739025</td>\n",
       "      <td>110.0</td>\n",
       "      <td>0.580</td>\n",
       "      <td>0.510</td>\n",
       "    </tr>\n",
       "    <tr>\n",
       "      <th>6</th>\n",
       "      <td>chile</td>\n",
       "      <td>south america</td>\n",
       "      <td>8470866</td>\n",
       "      <td>45.0</td>\n",
       "      <td>0.300</td>\n",
       "      <td>0.150</td>\n",
       "    </tr>\n",
       "    <tr>\n",
       "      <th>0</th>\n",
       "      <td>united states</td>\n",
       "      <td>north america</td>\n",
       "      <td>124481412</td>\n",
       "      <td>38.0</td>\n",
       "      <td>0.250</td>\n",
       "      <td>0.130</td>\n",
       "    </tr>\n",
       "    <tr>\n",
       "      <th>12</th>\n",
       "      <td>switzerland</td>\n",
       "      <td>europe</td>\n",
       "      <td>1176875</td>\n",
       "      <td>14.0</td>\n",
       "      <td>0.087</td>\n",
       "      <td>0.051</td>\n",
       "    </tr>\n",
       "    <tr>\n",
       "      <th>3</th>\n",
       "      <td>united kingdom</td>\n",
       "      <td>europe</td>\n",
       "      <td>29859742</td>\n",
       "      <td>45.0</td>\n",
       "      <td>0.420</td>\n",
       "      <td>0.034</td>\n",
       "    </tr>\n",
       "    <tr>\n",
       "      <th>9</th>\n",
       "      <td>canada</td>\n",
       "      <td>north america</td>\n",
       "      <td>3954285</td>\n",
       "      <td>11.0</td>\n",
       "      <td>0.090</td>\n",
       "      <td>0.017</td>\n",
       "    </tr>\n",
       "    <tr>\n",
       "      <th>4</th>\n",
       "      <td>brazil</td>\n",
       "      <td>south america</td>\n",
       "      <td>13562176</td>\n",
       "      <td>6.5</td>\n",
       "      <td>0.049</td>\n",
       "      <td>0.016</td>\n",
       "    </tr>\n",
       "    <tr>\n",
       "      <th>10</th>\n",
       "      <td>argentina</td>\n",
       "      <td>south america</td>\n",
       "      <td>3119828</td>\n",
       "      <td>7.0</td>\n",
       "      <td>0.057</td>\n",
       "      <td>0.014</td>\n",
       "    </tr>\n",
       "    <tr>\n",
       "      <th>17</th>\n",
       "      <td>costa rica</td>\n",
       "      <td>south america</td>\n",
       "      <td>248082</td>\n",
       "      <td>5.0</td>\n",
       "      <td>0.038</td>\n",
       "      <td>0.012</td>\n",
       "    </tr>\n",
       "    <tr>\n",
       "      <th>16</th>\n",
       "      <td>bulgaria</td>\n",
       "      <td>europe</td>\n",
       "      <td>368905</td>\n",
       "      <td>5.3</td>\n",
       "      <td>0.042</td>\n",
       "      <td>0.010</td>\n",
       "    </tr>\n",
       "    <tr>\n",
       "      <th>2</th>\n",
       "      <td>india</td>\n",
       "      <td>asia</td>\n",
       "      <td>45065998</td>\n",
       "      <td>3.3</td>\n",
       "      <td>0.028</td>\n",
       "      <td>0.006</td>\n",
       "    </tr>\n",
       "    <tr>\n",
       "      <th>7</th>\n",
       "      <td>mexico</td>\n",
       "      <td>north america</td>\n",
       "      <td>5612291</td>\n",
       "      <td>4.4</td>\n",
       "      <td>0.039</td>\n",
       "      <td>0.006</td>\n",
       "    </tr>\n",
       "    <tr>\n",
       "      <th>14</th>\n",
       "      <td>peru</td>\n",
       "      <td>south america</td>\n",
       "      <td>623800</td>\n",
       "      <td>2.0</td>\n",
       "      <td>0.014</td>\n",
       "      <td>0.006</td>\n",
       "    </tr>\n",
       "    <tr>\n",
       "      <th>11</th>\n",
       "      <td>colombia</td>\n",
       "      <td>south america</td>\n",
       "      <td>1182098</td>\n",
       "      <td>2.4</td>\n",
       "      <td>0.023</td>\n",
       "      <td>0.001</td>\n",
       "    </tr>\n",
       "    <tr>\n",
       "      <th>1</th>\n",
       "      <td>mainland china</td>\n",
       "      <td>asia</td>\n",
       "      <td>74956000</td>\n",
       "      <td>NaN</td>\n",
       "      <td>NaN</td>\n",
       "      <td>NaN</td>\n",
       "    </tr>\n",
       "    <tr>\n",
       "      <th>8</th>\n",
       "      <td>bangladesh</td>\n",
       "      <td>asia</td>\n",
       "      <td>4760747</td>\n",
       "      <td>3.0</td>\n",
       "      <td>0.030</td>\n",
       "      <td>NaN</td>\n",
       "    </tr>\n",
       "    <tr>\n",
       "      <th>13</th>\n",
       "      <td>dominican republic</td>\n",
       "      <td>north america</td>\n",
       "      <td>675000</td>\n",
       "      <td>5.8</td>\n",
       "      <td>0.064</td>\n",
       "      <td>NaN</td>\n",
       "    </tr>\n",
       "    <tr>\n",
       "      <th>15</th>\n",
       "      <td>ghana</td>\n",
       "      <td>africa</td>\n",
       "      <td>420000</td>\n",
       "      <td>1.4</td>\n",
       "      <td>0.014</td>\n",
       "      <td>NaN</td>\n",
       "    </tr>\n",
       "    <tr>\n",
       "      <th>18</th>\n",
       "      <td>south africa</td>\n",
       "      <td>africa</td>\n",
       "      <td>182983</td>\n",
       "      <td>0.3</td>\n",
       "      <td>0.003</td>\n",
       "      <td>NaN</td>\n",
       "    </tr>\n",
       "    <tr>\n",
       "      <th>19</th>\n",
       "      <td>jamaica</td>\n",
       "      <td>NaN</td>\n",
       "      <td>16096</td>\n",
       "      <td>0.5</td>\n",
       "      <td>0.005</td>\n",
       "      <td>NaN</td>\n",
       "    </tr>\n",
       "    <tr>\n",
       "      <th>20</th>\n",
       "      <td>guyana</td>\n",
       "      <td>south america</td>\n",
       "      <td>15524</td>\n",
       "      <td>2.0</td>\n",
       "      <td>0.020</td>\n",
       "      <td>NaN</td>\n",
       "    </tr>\n",
       "    <tr>\n",
       "      <th>21</th>\n",
       "      <td>nigeria</td>\n",
       "      <td>africa</td>\n",
       "      <td>8000</td>\n",
       "      <td>0.1</td>\n",
       "      <td>0.001</td>\n",
       "      <td>NaN</td>\n",
       "    </tr>\n",
       "    <tr>\n",
       "      <th>22</th>\n",
       "      <td>trinidad and tobago</td>\n",
       "      <td>south america</td>\n",
       "      <td>991</td>\n",
       "      <td>0.1</td>\n",
       "      <td>0.001</td>\n",
       "      <td>NaN</td>\n",
       "    </tr>\n",
       "  </tbody>\n",
       "</table>\n",
       "</div>"
      ],
      "text/plain": [
       "                country      continent  doses given  doses given per 100  \\\n",
       "5                israel           asia      9739025                110.0   \n",
       "6                 chile  south america      8470866                 45.0   \n",
       "0         united states  north america    124481412                 38.0   \n",
       "12          switzerland         europe      1176875                 14.0   \n",
       "3        united kingdom         europe     29859742                 45.0   \n",
       "9                canada  north america      3954285                 11.0   \n",
       "4                brazil  south america     13562176                  6.5   \n",
       "10            argentina  south america      3119828                  7.0   \n",
       "17           costa rica  south america       248082                  5.0   \n",
       "16             bulgaria         europe       368905                  5.3   \n",
       "2                 india           asia     45065998                  3.3   \n",
       "7                mexico  north america      5612291                  4.4   \n",
       "14                 peru  south america       623800                  2.0   \n",
       "11             colombia  south america      1182098                  2.4   \n",
       "1        mainland china           asia     74956000                  NaN   \n",
       "8            bangladesh           asia      4760747                  3.0   \n",
       "13   dominican republic  north america       675000                  5.8   \n",
       "15                ghana         africa       420000                  1.4   \n",
       "18         south africa         africa       182983                  0.3   \n",
       "19              jamaica            NaN        16096                  0.5   \n",
       "20               guyana  south america        15524                  2.0   \n",
       "21              nigeria         africa         8000                  0.1   \n",
       "22  trinidad and tobago  south america          991                  0.1   \n",
       "\n",
       "    percent vaccinated  percent fully vaccinated  \n",
       "5                0.580                     0.510  \n",
       "6                0.300                     0.150  \n",
       "0                0.250                     0.130  \n",
       "12               0.087                     0.051  \n",
       "3                0.420                     0.034  \n",
       "9                0.090                     0.017  \n",
       "4                0.049                     0.016  \n",
       "10               0.057                     0.014  \n",
       "17               0.038                     0.012  \n",
       "16               0.042                     0.010  \n",
       "2                0.028                     0.006  \n",
       "7                0.039                     0.006  \n",
       "14               0.014                     0.006  \n",
       "11               0.023                     0.001  \n",
       "1                  NaN                       NaN  \n",
       "8                0.030                       NaN  \n",
       "13               0.064                       NaN  \n",
       "15               0.014                       NaN  \n",
       "18               0.003                       NaN  \n",
       "19               0.005                       NaN  \n",
       "20               0.020                       NaN  \n",
       "21               0.001                       NaN  \n",
       "22               0.001                       NaN  "
      ]
     },
     "execution_count": 16,
     "metadata": {},
     "output_type": "execute_result"
    }
   ],
   "source": [
    "df.sort_values(by='percent fully vaccinated', ascending=False)"
   ]
  },
  {
   "cell_type": "markdown",
   "metadata": {},
   "source": [
    "**3. Make the charts with percentages a human readable format (meaning instead of `0.04` make it `4` or even `4%`).**"
   ]
  },
  {
   "cell_type": "code",
   "execution_count": 17,
   "metadata": {
    "scrolled": true
   },
   "outputs": [
    {
     "data": {
      "text/html": [
       "<div>\n",
       "<style scoped>\n",
       "    .dataframe tbody tr th:only-of-type {\n",
       "        vertical-align: middle;\n",
       "    }\n",
       "\n",
       "    .dataframe tbody tr th {\n",
       "        vertical-align: top;\n",
       "    }\n",
       "\n",
       "    .dataframe thead th {\n",
       "        text-align: right;\n",
       "    }\n",
       "</style>\n",
       "<table border=\"1\" class=\"dataframe\">\n",
       "  <thead>\n",
       "    <tr style=\"text-align: right;\">\n",
       "      <th></th>\n",
       "      <th>country</th>\n",
       "      <th>continent</th>\n",
       "      <th>doses given</th>\n",
       "      <th>doses given per 100</th>\n",
       "      <th>percent vaccinated</th>\n",
       "      <th>percent fully vaccinated</th>\n",
       "    </tr>\n",
       "  </thead>\n",
       "  <tbody>\n",
       "    <tr>\n",
       "      <th>0</th>\n",
       "      <td>united states</td>\n",
       "      <td>north america</td>\n",
       "      <td>124481412</td>\n",
       "      <td>38.0</td>\n",
       "      <td>25.0</td>\n",
       "      <td>0.130</td>\n",
       "    </tr>\n",
       "    <tr>\n",
       "      <th>1</th>\n",
       "      <td>mainland china</td>\n",
       "      <td>asia</td>\n",
       "      <td>74956000</td>\n",
       "      <td>NaN</td>\n",
       "      <td>NaN</td>\n",
       "      <td>NaN</td>\n",
       "    </tr>\n",
       "    <tr>\n",
       "      <th>2</th>\n",
       "      <td>india</td>\n",
       "      <td>asia</td>\n",
       "      <td>45065998</td>\n",
       "      <td>3.3</td>\n",
       "      <td>2.8</td>\n",
       "      <td>0.006</td>\n",
       "    </tr>\n",
       "    <tr>\n",
       "      <th>3</th>\n",
       "      <td>united kingdom</td>\n",
       "      <td>europe</td>\n",
       "      <td>29859742</td>\n",
       "      <td>45.0</td>\n",
       "      <td>42.0</td>\n",
       "      <td>0.034</td>\n",
       "    </tr>\n",
       "    <tr>\n",
       "      <th>4</th>\n",
       "      <td>brazil</td>\n",
       "      <td>south america</td>\n",
       "      <td>13562176</td>\n",
       "      <td>6.5</td>\n",
       "      <td>4.9</td>\n",
       "      <td>0.016</td>\n",
       "    </tr>\n",
       "    <tr>\n",
       "      <th>5</th>\n",
       "      <td>israel</td>\n",
       "      <td>asia</td>\n",
       "      <td>9739025</td>\n",
       "      <td>110.0</td>\n",
       "      <td>58.0</td>\n",
       "      <td>0.510</td>\n",
       "    </tr>\n",
       "    <tr>\n",
       "      <th>6</th>\n",
       "      <td>chile</td>\n",
       "      <td>south america</td>\n",
       "      <td>8470866</td>\n",
       "      <td>45.0</td>\n",
       "      <td>30.0</td>\n",
       "      <td>0.150</td>\n",
       "    </tr>\n",
       "    <tr>\n",
       "      <th>7</th>\n",
       "      <td>mexico</td>\n",
       "      <td>north america</td>\n",
       "      <td>5612291</td>\n",
       "      <td>4.4</td>\n",
       "      <td>3.9</td>\n",
       "      <td>0.006</td>\n",
       "    </tr>\n",
       "    <tr>\n",
       "      <th>8</th>\n",
       "      <td>bangladesh</td>\n",
       "      <td>asia</td>\n",
       "      <td>4760747</td>\n",
       "      <td>3.0</td>\n",
       "      <td>3.0</td>\n",
       "      <td>NaN</td>\n",
       "    </tr>\n",
       "    <tr>\n",
       "      <th>9</th>\n",
       "      <td>canada</td>\n",
       "      <td>north america</td>\n",
       "      <td>3954285</td>\n",
       "      <td>11.0</td>\n",
       "      <td>9.0</td>\n",
       "      <td>0.017</td>\n",
       "    </tr>\n",
       "    <tr>\n",
       "      <th>10</th>\n",
       "      <td>argentina</td>\n",
       "      <td>south america</td>\n",
       "      <td>3119828</td>\n",
       "      <td>7.0</td>\n",
       "      <td>5.7</td>\n",
       "      <td>0.014</td>\n",
       "    </tr>\n",
       "    <tr>\n",
       "      <th>11</th>\n",
       "      <td>colombia</td>\n",
       "      <td>south america</td>\n",
       "      <td>1182098</td>\n",
       "      <td>2.4</td>\n",
       "      <td>2.3</td>\n",
       "      <td>0.001</td>\n",
       "    </tr>\n",
       "    <tr>\n",
       "      <th>12</th>\n",
       "      <td>switzerland</td>\n",
       "      <td>europe</td>\n",
       "      <td>1176875</td>\n",
       "      <td>14.0</td>\n",
       "      <td>8.7</td>\n",
       "      <td>0.051</td>\n",
       "    </tr>\n",
       "    <tr>\n",
       "      <th>13</th>\n",
       "      <td>dominican republic</td>\n",
       "      <td>north america</td>\n",
       "      <td>675000</td>\n",
       "      <td>5.8</td>\n",
       "      <td>6.4</td>\n",
       "      <td>NaN</td>\n",
       "    </tr>\n",
       "    <tr>\n",
       "      <th>14</th>\n",
       "      <td>peru</td>\n",
       "      <td>south america</td>\n",
       "      <td>623800</td>\n",
       "      <td>2.0</td>\n",
       "      <td>1.4</td>\n",
       "      <td>0.006</td>\n",
       "    </tr>\n",
       "    <tr>\n",
       "      <th>15</th>\n",
       "      <td>ghana</td>\n",
       "      <td>africa</td>\n",
       "      <td>420000</td>\n",
       "      <td>1.4</td>\n",
       "      <td>1.4</td>\n",
       "      <td>NaN</td>\n",
       "    </tr>\n",
       "    <tr>\n",
       "      <th>16</th>\n",
       "      <td>bulgaria</td>\n",
       "      <td>europe</td>\n",
       "      <td>368905</td>\n",
       "      <td>5.3</td>\n",
       "      <td>4.2</td>\n",
       "      <td>0.010</td>\n",
       "    </tr>\n",
       "    <tr>\n",
       "      <th>17</th>\n",
       "      <td>costa rica</td>\n",
       "      <td>south america</td>\n",
       "      <td>248082</td>\n",
       "      <td>5.0</td>\n",
       "      <td>3.8</td>\n",
       "      <td>0.012</td>\n",
       "    </tr>\n",
       "    <tr>\n",
       "      <th>18</th>\n",
       "      <td>south africa</td>\n",
       "      <td>africa</td>\n",
       "      <td>182983</td>\n",
       "      <td>0.3</td>\n",
       "      <td>0.3</td>\n",
       "      <td>NaN</td>\n",
       "    </tr>\n",
       "    <tr>\n",
       "      <th>19</th>\n",
       "      <td>jamaica</td>\n",
       "      <td>NaN</td>\n",
       "      <td>16096</td>\n",
       "      <td>0.5</td>\n",
       "      <td>0.5</td>\n",
       "      <td>NaN</td>\n",
       "    </tr>\n",
       "    <tr>\n",
       "      <th>20</th>\n",
       "      <td>guyana</td>\n",
       "      <td>south america</td>\n",
       "      <td>15524</td>\n",
       "      <td>2.0</td>\n",
       "      <td>2.0</td>\n",
       "      <td>NaN</td>\n",
       "    </tr>\n",
       "    <tr>\n",
       "      <th>21</th>\n",
       "      <td>nigeria</td>\n",
       "      <td>africa</td>\n",
       "      <td>8000</td>\n",
       "      <td>0.1</td>\n",
       "      <td>0.1</td>\n",
       "      <td>NaN</td>\n",
       "    </tr>\n",
       "    <tr>\n",
       "      <th>22</th>\n",
       "      <td>trinidad and tobago</td>\n",
       "      <td>south america</td>\n",
       "      <td>991</td>\n",
       "      <td>0.1</td>\n",
       "      <td>0.1</td>\n",
       "      <td>NaN</td>\n",
       "    </tr>\n",
       "  </tbody>\n",
       "</table>\n",
       "</div>"
      ],
      "text/plain": [
       "                country      continent  doses given  doses given per 100  \\\n",
       "0         united states  north america    124481412                 38.0   \n",
       "1        mainland china           asia     74956000                  NaN   \n",
       "2                 india           asia     45065998                  3.3   \n",
       "3        united kingdom         europe     29859742                 45.0   \n",
       "4                brazil  south america     13562176                  6.5   \n",
       "5                israel           asia      9739025                110.0   \n",
       "6                 chile  south america      8470866                 45.0   \n",
       "7                mexico  north america      5612291                  4.4   \n",
       "8            bangladesh           asia      4760747                  3.0   \n",
       "9                canada  north america      3954285                 11.0   \n",
       "10            argentina  south america      3119828                  7.0   \n",
       "11             colombia  south america      1182098                  2.4   \n",
       "12          switzerland         europe      1176875                 14.0   \n",
       "13   dominican republic  north america       675000                  5.8   \n",
       "14                 peru  south america       623800                  2.0   \n",
       "15                ghana         africa       420000                  1.4   \n",
       "16             bulgaria         europe       368905                  5.3   \n",
       "17           costa rica  south america       248082                  5.0   \n",
       "18         south africa         africa       182983                  0.3   \n",
       "19              jamaica            NaN        16096                  0.5   \n",
       "20               guyana  south america        15524                  2.0   \n",
       "21              nigeria         africa         8000                  0.1   \n",
       "22  trinidad and tobago  south america          991                  0.1   \n",
       "\n",
       "    percent vaccinated  percent fully vaccinated  \n",
       "0                 25.0                     0.130  \n",
       "1                  NaN                       NaN  \n",
       "2                  2.8                     0.006  \n",
       "3                 42.0                     0.034  \n",
       "4                  4.9                     0.016  \n",
       "5                 58.0                     0.510  \n",
       "6                 30.0                     0.150  \n",
       "7                  3.9                     0.006  \n",
       "8                  3.0                       NaN  \n",
       "9                  9.0                     0.017  \n",
       "10                 5.7                     0.014  \n",
       "11                 2.3                     0.001  \n",
       "12                 8.7                     0.051  \n",
       "13                 6.4                       NaN  \n",
       "14                 1.4                     0.006  \n",
       "15                 1.4                       NaN  \n",
       "16                 4.2                     0.010  \n",
       "17                 3.8                     0.012  \n",
       "18                 0.3                       NaN  \n",
       "19                 0.5                       NaN  \n",
       "20                 2.0                       NaN  \n",
       "21                 0.1                       NaN  \n",
       "22                 0.1                       NaN  "
      ]
     },
     "execution_count": 17,
     "metadata": {},
     "output_type": "execute_result"
    }
   ],
   "source": [
    "df['percent vaccinated'] = df['percent vaccinated'] * 100\n",
    "df"
   ]
  },
  {
   "cell_type": "code",
   "execution_count": 18,
   "metadata": {
    "scrolled": true
   },
   "outputs": [
    {
     "data": {
      "text/html": [
       "<div>\n",
       "<style scoped>\n",
       "    .dataframe tbody tr th:only-of-type {\n",
       "        vertical-align: middle;\n",
       "    }\n",
       "\n",
       "    .dataframe tbody tr th {\n",
       "        vertical-align: top;\n",
       "    }\n",
       "\n",
       "    .dataframe thead th {\n",
       "        text-align: right;\n",
       "    }\n",
       "</style>\n",
       "<table border=\"1\" class=\"dataframe\">\n",
       "  <thead>\n",
       "    <tr style=\"text-align: right;\">\n",
       "      <th></th>\n",
       "      <th>country</th>\n",
       "      <th>continent</th>\n",
       "      <th>doses given</th>\n",
       "      <th>doses given per 100</th>\n",
       "      <th>percent vaccinated</th>\n",
       "      <th>percent fully vaccinated</th>\n",
       "    </tr>\n",
       "  </thead>\n",
       "  <tbody>\n",
       "    <tr>\n",
       "      <th>0</th>\n",
       "      <td>united states</td>\n",
       "      <td>north america</td>\n",
       "      <td>124481412</td>\n",
       "      <td>38.0</td>\n",
       "      <td>25.0</td>\n",
       "      <td>13.0</td>\n",
       "    </tr>\n",
       "    <tr>\n",
       "      <th>1</th>\n",
       "      <td>mainland china</td>\n",
       "      <td>asia</td>\n",
       "      <td>74956000</td>\n",
       "      <td>NaN</td>\n",
       "      <td>NaN</td>\n",
       "      <td>NaN</td>\n",
       "    </tr>\n",
       "    <tr>\n",
       "      <th>2</th>\n",
       "      <td>india</td>\n",
       "      <td>asia</td>\n",
       "      <td>45065998</td>\n",
       "      <td>3.3</td>\n",
       "      <td>2.8</td>\n",
       "      <td>0.6</td>\n",
       "    </tr>\n",
       "    <tr>\n",
       "      <th>3</th>\n",
       "      <td>united kingdom</td>\n",
       "      <td>europe</td>\n",
       "      <td>29859742</td>\n",
       "      <td>45.0</td>\n",
       "      <td>42.0</td>\n",
       "      <td>3.4</td>\n",
       "    </tr>\n",
       "    <tr>\n",
       "      <th>4</th>\n",
       "      <td>brazil</td>\n",
       "      <td>south america</td>\n",
       "      <td>13562176</td>\n",
       "      <td>6.5</td>\n",
       "      <td>4.9</td>\n",
       "      <td>1.6</td>\n",
       "    </tr>\n",
       "    <tr>\n",
       "      <th>5</th>\n",
       "      <td>israel</td>\n",
       "      <td>asia</td>\n",
       "      <td>9739025</td>\n",
       "      <td>110.0</td>\n",
       "      <td>58.0</td>\n",
       "      <td>51.0</td>\n",
       "    </tr>\n",
       "    <tr>\n",
       "      <th>6</th>\n",
       "      <td>chile</td>\n",
       "      <td>south america</td>\n",
       "      <td>8470866</td>\n",
       "      <td>45.0</td>\n",
       "      <td>30.0</td>\n",
       "      <td>15.0</td>\n",
       "    </tr>\n",
       "    <tr>\n",
       "      <th>7</th>\n",
       "      <td>mexico</td>\n",
       "      <td>north america</td>\n",
       "      <td>5612291</td>\n",
       "      <td>4.4</td>\n",
       "      <td>3.9</td>\n",
       "      <td>0.6</td>\n",
       "    </tr>\n",
       "    <tr>\n",
       "      <th>8</th>\n",
       "      <td>bangladesh</td>\n",
       "      <td>asia</td>\n",
       "      <td>4760747</td>\n",
       "      <td>3.0</td>\n",
       "      <td>3.0</td>\n",
       "      <td>NaN</td>\n",
       "    </tr>\n",
       "    <tr>\n",
       "      <th>9</th>\n",
       "      <td>canada</td>\n",
       "      <td>north america</td>\n",
       "      <td>3954285</td>\n",
       "      <td>11.0</td>\n",
       "      <td>9.0</td>\n",
       "      <td>1.7</td>\n",
       "    </tr>\n",
       "    <tr>\n",
       "      <th>10</th>\n",
       "      <td>argentina</td>\n",
       "      <td>south america</td>\n",
       "      <td>3119828</td>\n",
       "      <td>7.0</td>\n",
       "      <td>5.7</td>\n",
       "      <td>1.4</td>\n",
       "    </tr>\n",
       "    <tr>\n",
       "      <th>11</th>\n",
       "      <td>colombia</td>\n",
       "      <td>south america</td>\n",
       "      <td>1182098</td>\n",
       "      <td>2.4</td>\n",
       "      <td>2.3</td>\n",
       "      <td>0.1</td>\n",
       "    </tr>\n",
       "    <tr>\n",
       "      <th>12</th>\n",
       "      <td>switzerland</td>\n",
       "      <td>europe</td>\n",
       "      <td>1176875</td>\n",
       "      <td>14.0</td>\n",
       "      <td>8.7</td>\n",
       "      <td>5.1</td>\n",
       "    </tr>\n",
       "    <tr>\n",
       "      <th>13</th>\n",
       "      <td>dominican republic</td>\n",
       "      <td>north america</td>\n",
       "      <td>675000</td>\n",
       "      <td>5.8</td>\n",
       "      <td>6.4</td>\n",
       "      <td>NaN</td>\n",
       "    </tr>\n",
       "    <tr>\n",
       "      <th>14</th>\n",
       "      <td>peru</td>\n",
       "      <td>south america</td>\n",
       "      <td>623800</td>\n",
       "      <td>2.0</td>\n",
       "      <td>1.4</td>\n",
       "      <td>0.6</td>\n",
       "    </tr>\n",
       "    <tr>\n",
       "      <th>15</th>\n",
       "      <td>ghana</td>\n",
       "      <td>africa</td>\n",
       "      <td>420000</td>\n",
       "      <td>1.4</td>\n",
       "      <td>1.4</td>\n",
       "      <td>NaN</td>\n",
       "    </tr>\n",
       "    <tr>\n",
       "      <th>16</th>\n",
       "      <td>bulgaria</td>\n",
       "      <td>europe</td>\n",
       "      <td>368905</td>\n",
       "      <td>5.3</td>\n",
       "      <td>4.2</td>\n",
       "      <td>1.0</td>\n",
       "    </tr>\n",
       "    <tr>\n",
       "      <th>17</th>\n",
       "      <td>costa rica</td>\n",
       "      <td>south america</td>\n",
       "      <td>248082</td>\n",
       "      <td>5.0</td>\n",
       "      <td>3.8</td>\n",
       "      <td>1.2</td>\n",
       "    </tr>\n",
       "    <tr>\n",
       "      <th>18</th>\n",
       "      <td>south africa</td>\n",
       "      <td>africa</td>\n",
       "      <td>182983</td>\n",
       "      <td>0.3</td>\n",
       "      <td>0.3</td>\n",
       "      <td>NaN</td>\n",
       "    </tr>\n",
       "    <tr>\n",
       "      <th>19</th>\n",
       "      <td>jamaica</td>\n",
       "      <td>NaN</td>\n",
       "      <td>16096</td>\n",
       "      <td>0.5</td>\n",
       "      <td>0.5</td>\n",
       "      <td>NaN</td>\n",
       "    </tr>\n",
       "    <tr>\n",
       "      <th>20</th>\n",
       "      <td>guyana</td>\n",
       "      <td>south america</td>\n",
       "      <td>15524</td>\n",
       "      <td>2.0</td>\n",
       "      <td>2.0</td>\n",
       "      <td>NaN</td>\n",
       "    </tr>\n",
       "    <tr>\n",
       "      <th>21</th>\n",
       "      <td>nigeria</td>\n",
       "      <td>africa</td>\n",
       "      <td>8000</td>\n",
       "      <td>0.1</td>\n",
       "      <td>0.1</td>\n",
       "      <td>NaN</td>\n",
       "    </tr>\n",
       "    <tr>\n",
       "      <th>22</th>\n",
       "      <td>trinidad and tobago</td>\n",
       "      <td>south america</td>\n",
       "      <td>991</td>\n",
       "      <td>0.1</td>\n",
       "      <td>0.1</td>\n",
       "      <td>NaN</td>\n",
       "    </tr>\n",
       "  </tbody>\n",
       "</table>\n",
       "</div>"
      ],
      "text/plain": [
       "                country      continent  doses given  doses given per 100  \\\n",
       "0         united states  north america    124481412                 38.0   \n",
       "1        mainland china           asia     74956000                  NaN   \n",
       "2                 india           asia     45065998                  3.3   \n",
       "3        united kingdom         europe     29859742                 45.0   \n",
       "4                brazil  south america     13562176                  6.5   \n",
       "5                israel           asia      9739025                110.0   \n",
       "6                 chile  south america      8470866                 45.0   \n",
       "7                mexico  north america      5612291                  4.4   \n",
       "8            bangladesh           asia      4760747                  3.0   \n",
       "9                canada  north america      3954285                 11.0   \n",
       "10            argentina  south america      3119828                  7.0   \n",
       "11             colombia  south america      1182098                  2.4   \n",
       "12          switzerland         europe      1176875                 14.0   \n",
       "13   dominican republic  north america       675000                  5.8   \n",
       "14                 peru  south america       623800                  2.0   \n",
       "15                ghana         africa       420000                  1.4   \n",
       "16             bulgaria         europe       368905                  5.3   \n",
       "17           costa rica  south america       248082                  5.0   \n",
       "18         south africa         africa       182983                  0.3   \n",
       "19              jamaica            NaN        16096                  0.5   \n",
       "20               guyana  south america        15524                  2.0   \n",
       "21              nigeria         africa         8000                  0.1   \n",
       "22  trinidad and tobago  south america          991                  0.1   \n",
       "\n",
       "    percent vaccinated  percent fully vaccinated  \n",
       "0                 25.0                      13.0  \n",
       "1                  NaN                       NaN  \n",
       "2                  2.8                       0.6  \n",
       "3                 42.0                       3.4  \n",
       "4                  4.9                       1.6  \n",
       "5                 58.0                      51.0  \n",
       "6                 30.0                      15.0  \n",
       "7                  3.9                       0.6  \n",
       "8                  3.0                       NaN  \n",
       "9                  9.0                       1.7  \n",
       "10                 5.7                       1.4  \n",
       "11                 2.3                       0.1  \n",
       "12                 8.7                       5.1  \n",
       "13                 6.4                       NaN  \n",
       "14                 1.4                       0.6  \n",
       "15                 1.4                       NaN  \n",
       "16                 4.2                       1.0  \n",
       "17                 3.8                       1.2  \n",
       "18                 0.3                       NaN  \n",
       "19                 0.5                       NaN  \n",
       "20                 2.0                       NaN  \n",
       "21                 0.1                       NaN  \n",
       "22                 0.1                       NaN  "
      ]
     },
     "execution_count": 18,
     "metadata": {},
     "output_type": "execute_result"
    }
   ],
   "source": [
    "df['percent fully vaccinated'] = df['percent fully vaccinated'] * 100\n",
    "df"
   ]
  },
  {
   "cell_type": "markdown",
   "metadata": {},
   "source": [
    "**4. Even though it isn't very accurate (we're missing too many countries), what is the average number of doses given per continent?**"
   ]
  },
  {
   "cell_type": "code",
   "execution_count": 20,
   "metadata": {},
   "outputs": [
    {
     "data": {
      "text/plain": [
       "continent\n",
       "africa             203661\n",
       "asia             33630442\n",
       "europe           10468507\n",
       "north america    33680747\n",
       "south america     3402920\n",
       "Name: doses given, dtype: int32"
      ]
     },
     "execution_count": 20,
     "metadata": {},
     "output_type": "execute_result"
    }
   ],
   "source": [
    "df.groupby(\"continent\")[\"doses given\"].mean().astype('int32')   #or divide by 100 at the end"
   ]
  },
  {
   "cell_type": "markdown",
   "metadata": {},
   "source": [
    "**5. Slice the dataframe so we can have a copy of our dataframe that contains the following information.**\n",
    "* columns - `'country'`,`'doses given'`, and `'percent fully vaccinated'`\n",
    "* rows - all rows with more than 500,000 doses given."
   ]
  },
  {
   "cell_type": "code",
   "execution_count": 21,
   "metadata": {},
   "outputs": [
    {
     "data": {
      "text/html": [
       "<div>\n",
       "<style scoped>\n",
       "    .dataframe tbody tr th:only-of-type {\n",
       "        vertical-align: middle;\n",
       "    }\n",
       "\n",
       "    .dataframe tbody tr th {\n",
       "        vertical-align: top;\n",
       "    }\n",
       "\n",
       "    .dataframe thead th {\n",
       "        text-align: right;\n",
       "    }\n",
       "</style>\n",
       "<table border=\"1\" class=\"dataframe\">\n",
       "  <thead>\n",
       "    <tr style=\"text-align: right;\">\n",
       "      <th></th>\n",
       "      <th>country</th>\n",
       "      <th>doses given</th>\n",
       "      <th>percent fully vaccinated</th>\n",
       "    </tr>\n",
       "  </thead>\n",
       "  <tbody>\n",
       "    <tr>\n",
       "      <th>0</th>\n",
       "      <td>united states</td>\n",
       "      <td>124481412</td>\n",
       "      <td>13.0</td>\n",
       "    </tr>\n",
       "    <tr>\n",
       "      <th>1</th>\n",
       "      <td>mainland china</td>\n",
       "      <td>74956000</td>\n",
       "      <td>NaN</td>\n",
       "    </tr>\n",
       "    <tr>\n",
       "      <th>2</th>\n",
       "      <td>india</td>\n",
       "      <td>45065998</td>\n",
       "      <td>0.6</td>\n",
       "    </tr>\n",
       "    <tr>\n",
       "      <th>3</th>\n",
       "      <td>united kingdom</td>\n",
       "      <td>29859742</td>\n",
       "      <td>3.4</td>\n",
       "    </tr>\n",
       "    <tr>\n",
       "      <th>4</th>\n",
       "      <td>brazil</td>\n",
       "      <td>13562176</td>\n",
       "      <td>1.6</td>\n",
       "    </tr>\n",
       "    <tr>\n",
       "      <th>5</th>\n",
       "      <td>israel</td>\n",
       "      <td>9739025</td>\n",
       "      <td>51.0</td>\n",
       "    </tr>\n",
       "    <tr>\n",
       "      <th>6</th>\n",
       "      <td>chile</td>\n",
       "      <td>8470866</td>\n",
       "      <td>15.0</td>\n",
       "    </tr>\n",
       "    <tr>\n",
       "      <th>7</th>\n",
       "      <td>mexico</td>\n",
       "      <td>5612291</td>\n",
       "      <td>0.6</td>\n",
       "    </tr>\n",
       "    <tr>\n",
       "      <th>8</th>\n",
       "      <td>bangladesh</td>\n",
       "      <td>4760747</td>\n",
       "      <td>NaN</td>\n",
       "    </tr>\n",
       "    <tr>\n",
       "      <th>9</th>\n",
       "      <td>canada</td>\n",
       "      <td>3954285</td>\n",
       "      <td>1.7</td>\n",
       "    </tr>\n",
       "    <tr>\n",
       "      <th>10</th>\n",
       "      <td>argentina</td>\n",
       "      <td>3119828</td>\n",
       "      <td>1.4</td>\n",
       "    </tr>\n",
       "    <tr>\n",
       "      <th>11</th>\n",
       "      <td>colombia</td>\n",
       "      <td>1182098</td>\n",
       "      <td>0.1</td>\n",
       "    </tr>\n",
       "    <tr>\n",
       "      <th>12</th>\n",
       "      <td>switzerland</td>\n",
       "      <td>1176875</td>\n",
       "      <td>5.1</td>\n",
       "    </tr>\n",
       "    <tr>\n",
       "      <th>13</th>\n",
       "      <td>dominican republic</td>\n",
       "      <td>675000</td>\n",
       "      <td>NaN</td>\n",
       "    </tr>\n",
       "    <tr>\n",
       "      <th>14</th>\n",
       "      <td>peru</td>\n",
       "      <td>623800</td>\n",
       "      <td>0.6</td>\n",
       "    </tr>\n",
       "  </tbody>\n",
       "</table>\n",
       "</div>"
      ],
      "text/plain": [
       "               country  doses given  percent fully vaccinated\n",
       "0        united states    124481412                      13.0\n",
       "1       mainland china     74956000                       NaN\n",
       "2                india     45065998                       0.6\n",
       "3       united kingdom     29859742                       3.4\n",
       "4               brazil     13562176                       1.6\n",
       "5               israel      9739025                      51.0\n",
       "6                chile      8470866                      15.0\n",
       "7               mexico      5612291                       0.6\n",
       "8           bangladesh      4760747                       NaN\n",
       "9               canada      3954285                       1.7\n",
       "10           argentina      3119828                       1.4\n",
       "11            colombia      1182098                       0.1\n",
       "12         switzerland      1176875                       5.1\n",
       "13  dominican republic       675000                       NaN\n",
       "14                peru       623800                       0.6"
      ]
     },
     "execution_count": 21,
     "metadata": {},
     "output_type": "execute_result"
    }
   ],
   "source": [
    "new_df =df.loc[df[\"doses given\"] > 500000, ['country','doses given', 'percent fully vaccinated']] \n",
    "new_df"
   ]
  },
  {
   "cell_type": "markdown",
   "metadata": {},
   "source": [
    "# SQL \n",
    "\n",
    "Our company has a number of positions on our books. We want to add some positions to it. Add the following  information (making sure to use new cells so your work can be saved as you won't submit the db file). Keep in mind that direction means if we've bought or sold the stock (`0` means we sold it short, `1` means we bought it).\n",
    "\n",
    "Add the following:\n",
    "\n",
    "```\n",
    "We bought 200 shares of GME at $50.\n",
    "We sold 500 shares of AMD at $75.\n",
    "We bought 1 share of BRK at $380000.00.\n",
    "```"
   ]
  },
  {
   "cell_type": "code",
   "execution_count": 137,
   "metadata": {},
   "outputs": [],
   "source": [
    "# run this cell to set up your sqlite3 db.\n",
    "import sqlite3\n",
    "\n",
    "sql_commands = \\\n",
    "\"\"\"\n",
    "DROP TABLE IF EXISTS stocks;\n",
    "\n",
    "CREATE TABLE stocks (\n",
    " id INTEGER PRIMARY KEY,\n",
    " ticker TEXT NOT NULL,\n",
    " position TEXT NOT NULL,\n",
    " price FLOAT NOT NULL,\n",
    " direction BOOLEAN NOT NULL\n",
    ");\n",
    "\n",
    "INSERT INTO stocks \n",
    "(ticker, position, price, direction)\n",
    "VALUES \n",
    "('TSLA', 100, 700.00, 0),\n",
    "('VIX', 19,  292.00, 1),\n",
    "('SPY', 167, 395.00, 0);\n",
    "\"\"\"\n",
    "\n",
    "db = sqlite3.connect('stocks.db')\n",
    "cursor = db.cursor()\n",
    "cursor.executescript(sql_commands)\n",
    "db.commit()\n",
    "db.close()"
   ]
  },
  {
   "cell_type": "code",
   "execution_count": 138,
   "metadata": {},
   "outputs": [],
   "source": [
    "# use this function for your answers.\n",
    "def with_conn(statement):\n",
    "    conn = sqlite3.connect('stocks.db')\n",
    "    with conn:\n",
    "        cur = conn.cursor()\n",
    "        cur.execute(statement)\n",
    "        result = cur.fetchall()\n",
    "        return result"
   ]
  },
  {
   "cell_type": "code",
   "execution_count": 139,
   "metadata": {},
   "outputs": [
    {
     "data": {
      "text/plain": [
       "[('stocks',)]"
      ]
     },
     "execution_count": 139,
     "metadata": {},
     "output_type": "execute_result"
    }
   ],
   "source": [
    "with_conn(\"SELECT name FROM sqlite_master WHERE type='table';\")"
   ]
  },
  {
   "cell_type": "code",
   "execution_count": 140,
   "metadata": {},
   "outputs": [
    {
     "data": {
      "text/plain": [
       "[(1, 'TSLA', '100', 700.0, 0),\n",
       " (2, 'VIX', '19', 292.0, 1),\n",
       " (3, 'SPY', '167', 395.0, 0)]"
      ]
     },
     "execution_count": 140,
     "metadata": {},
     "output_type": "execute_result"
    }
   ],
   "source": [
    "with_conn('SELECT * FROM stocks;')  #0-sold  #1-bought"
   ]
  },
  {
   "cell_type": "code",
   "execution_count": 142,
   "metadata": {},
   "outputs": [
    {
     "data": {
      "text/plain": [
       "[]"
      ]
     },
     "execution_count": 142,
     "metadata": {},
     "output_type": "execute_result"
    }
   ],
   "source": [
    "with_conn(\"INSERT INTO stocks VALUES(Null, 'GME','200', 50.0, 1);\")  #, commit=True"
   ]
  },
  {
   "cell_type": "code",
   "execution_count": 143,
   "metadata": {},
   "outputs": [
    {
     "data": {
      "text/plain": [
       "[(1, 'TSLA', '100', 700.0, 0),\n",
       " (2, 'VIX', '19', 292.0, 1),\n",
       " (3, 'SPY', '167', 395.0, 0),\n",
       " (4, 'GME', '200', 50.0, 1)]"
      ]
     },
     "execution_count": 143,
     "metadata": {},
     "output_type": "execute_result"
    }
   ],
   "source": [
    "with_conn('SELECT * FROM stocks;')"
   ]
  },
  {
   "cell_type": "code",
   "execution_count": 147,
   "metadata": {},
   "outputs": [
    {
     "data": {
      "text/plain": [
       "[]"
      ]
     },
     "execution_count": 147,
     "metadata": {},
     "output_type": "execute_result"
    }
   ],
   "source": [
    "with_conn(\"INSERT INTO stocks VALUES(Null, 'AMD','500', 75.0, 0);\")"
   ]
  },
  {
   "cell_type": "code",
   "execution_count": 148,
   "metadata": {},
   "outputs": [
    {
     "data": {
      "text/plain": [
       "[(1, 'TSLA', '100', 700.0, 0),\n",
       " (2, 'VIX', '19', 292.0, 1),\n",
       " (3, 'SPY', '167', 395.0, 0),\n",
       " (4, 'GME', '200', 50.0, 1),\n",
       " (5, 'AMD', '500', 75.0, 0)]"
      ]
     },
     "execution_count": 148,
     "metadata": {},
     "output_type": "execute_result"
    }
   ],
   "source": [
    "with_conn('SELECT * FROM stocks;')"
   ]
  },
  {
   "cell_type": "code",
   "execution_count": 149,
   "metadata": {},
   "outputs": [
    {
     "data": {
      "text/plain": [
       "[]"
      ]
     },
     "execution_count": 149,
     "metadata": {},
     "output_type": "execute_result"
    }
   ],
   "source": [
    "with_conn(\"INSERT INTO stocks VALUES(Null, 'BRK','1', 380000.00, 1);\")"
   ]
  },
  {
   "cell_type": "code",
   "execution_count": 150,
   "metadata": {},
   "outputs": [
    {
     "data": {
      "text/plain": [
       "[(1, 'TSLA', '100', 700.0, 0),\n",
       " (2, 'VIX', '19', 292.0, 1),\n",
       " (3, 'SPY', '167', 395.0, 0),\n",
       " (4, 'GME', '200', 50.0, 1),\n",
       " (5, 'AMD', '500', 75.0, 0),\n",
       " (6, 'BRK', '1', 380000.0, 1)]"
      ]
     },
     "execution_count": 150,
     "metadata": {},
     "output_type": "execute_result"
    }
   ],
   "source": [
    "with_conn('SELECT * FROM stocks;')"
   ]
  },
  {
   "cell_type": "code",
   "execution_count": null,
   "metadata": {},
   "outputs": [],
   "source": [
    "##or just insert all with one command:\n",
    "# with_conn('INSERT INTO stocks (ticker, position, price, direction) \\\n",
    "#            VALUES \\\n",
    "#            (\"GME\", 200, 50, 1),(\"AMD\", 500, 75, 0),(\"BRK\", 1, 380000, 1);')\n"
   ]
  },
  {
   "cell_type": "raw",
   "metadata": {},
   "source": [
    "# Matplotlib \n",
    "**This section is worth 5%**\n",
    "\n",
    "Using the following dataset, create a chart of the data using the right chart to convey the information. Make sure your chart is professional looking, utilizing axis labeling and a proper title. "
   ]
  },
  {
   "cell_type": "code",
   "execution_count": null,
   "metadata": {},
   "outputs": [],
   "source": []
  },
  {
   "cell_type": "code",
   "execution_count": 151,
   "metadata": {},
   "outputs": [
    {
     "data": {
      "text/html": [
       "<div>\n",
       "<style scoped>\n",
       "    .dataframe tbody tr th:only-of-type {\n",
       "        vertical-align: middle;\n",
       "    }\n",
       "\n",
       "    .dataframe tbody tr th {\n",
       "        vertical-align: top;\n",
       "    }\n",
       "\n",
       "    .dataframe thead th {\n",
       "        text-align: right;\n",
       "    }\n",
       "</style>\n",
       "<table border=\"1\" class=\"dataframe\">\n",
       "  <thead>\n",
       "    <tr style=\"text-align: right;\">\n",
       "      <th></th>\n",
       "      <th>name</th>\n",
       "      <th>position</th>\n",
       "      <th>salary</th>\n",
       "      <th>years worked at company</th>\n",
       "      <th>percent of project</th>\n",
       "    </tr>\n",
       "  </thead>\n",
       "  <tbody>\n",
       "    <tr>\n",
       "      <th>0</th>\n",
       "      <td>alice</td>\n",
       "      <td>software engineer</td>\n",
       "      <td>120000</td>\n",
       "      <td>2.00</td>\n",
       "      <td>20</td>\n",
       "    </tr>\n",
       "    <tr>\n",
       "      <th>1</th>\n",
       "      <td>bob</td>\n",
       "      <td>data engineer</td>\n",
       "      <td>105000</td>\n",
       "      <td>1.75</td>\n",
       "      <td>15</td>\n",
       "    </tr>\n",
       "    <tr>\n",
       "      <th>2</th>\n",
       "      <td>carol</td>\n",
       "      <td>machine learning engineer</td>\n",
       "      <td>180000</td>\n",
       "      <td>3.00</td>\n",
       "      <td>20</td>\n",
       "    </tr>\n",
       "    <tr>\n",
       "      <th>3</th>\n",
       "      <td>davin</td>\n",
       "      <td>data scientist</td>\n",
       "      <td>120000</td>\n",
       "      <td>2.00</td>\n",
       "      <td>15</td>\n",
       "    </tr>\n",
       "    <tr>\n",
       "      <th>4</th>\n",
       "      <td>eric</td>\n",
       "      <td>assistant</td>\n",
       "      <td>60000</td>\n",
       "      <td>1.00</td>\n",
       "      <td>30</td>\n",
       "    </tr>\n",
       "  </tbody>\n",
       "</table>\n",
       "</div>"
      ],
      "text/plain": [
       "    name                   position  salary  years worked at company  \\\n",
       "0  alice          software engineer  120000                     2.00   \n",
       "1    bob              data engineer  105000                     1.75   \n",
       "2  carol  machine learning engineer  180000                     3.00   \n",
       "3  davin             data scientist  120000                     2.00   \n",
       "4   eric                  assistant   60000                     1.00   \n",
       "\n",
       "   percent of project  \n",
       "0                  20  \n",
       "1                  15  \n",
       "2                  20  \n",
       "3                  15  \n",
       "4                  30  "
      ]
     },
     "execution_count": 151,
     "metadata": {},
     "output_type": "execute_result"
    }
   ],
   "source": [
    "df = pd.DataFrame([['alice',\"software engineer\",120000, 2, 20],['bob',\"data engineer\", 105000, 1.75, 15], ['carol',\"machine learning engineer\", 180000, 3, 20], ['davin',\"data scientist\", 120000, 2, 15], ['eric',\"assistant\",60000, 1 ,30]], columns=['name', 'position', 'salary','years worked at company', 'percent of project'])\n",
    "df.head()"
   ]
  },
  {
   "cell_type": "code",
   "execution_count": 155,
   "metadata": {},
   "outputs": [
    {
     "data": {
      "image/png": "[encoded data removed]",
      "text/plain": [
       "<Figure size 1080x648 with 1 Axes>"
      ]
     },
     "metadata": {
      "needs_background": "light"
     },
     "output_type": "display_data"
    }
   ],
   "source": [
    "ax = df.groupby('name')[['years worked at company', 'percent of project']].sum().sort_values(by='years worked at company',ascending=False).plot.barh(stacked=True, figsize=(15,9))\n",
    "ax.set_ylabel(\"name\")\n",
    "ax.set_xlabel(\"Years worked / Percent of project\")\n",
    "ax.set_title(\"Years Worked and Percent Of Project Relationship\")\n",
    "#plt.legend(loc='upper right')\n",
    "plt.show()"
   ]
  },
  {
   "cell_type": "markdown",
   "metadata": {},
   "source": [
    "It's interesting to see that Eric, who worked the least at the company has contribited the most to Project/Projects."
   ]
  },
  {
   "cell_type": "code",
   "execution_count": null,
   "metadata": {},
   "outputs": [],
   "source": []
  }
 ],
 "metadata": {
  "kernelspec": {
   "display_name": "Python 3",
   "language": "python",
   "name": "python3"
  },
  "language_info": {
   "codemirror_mode": {
    "name": "ipython",
    "version": 3
   },
   "file_extension": ".py",
   "mimetype": "text/x-python",
   "name": "python",
   "nbconvert_exporter": "python",
   "pygments_lexer": "ipython3",
   "version": "3.8.3"
  }
 },
 "nbformat": 4,
 "nbformat_minor": 5
}
