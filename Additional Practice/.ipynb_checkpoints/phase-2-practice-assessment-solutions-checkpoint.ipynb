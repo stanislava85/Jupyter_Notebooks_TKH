{
 "cells": [
  {
   "cell_type": "markdown",
   "metadata": {},
   "source": [
    "<div style=\"background: #000;\n",
    "            color: #FFF;\n",
    "            margin: 0px;\n",
    "            padding: 10px 0px 20px 0px;\n",
    "            text-align: center; \n",
    "                \">\n",
    "    <h1>Phase 2 Practice Assessment</h1>\n",
    "</div>"
   ]
  },
  {
   "cell_type": "code",
   "execution_count": 13,
   "metadata": {},
   "outputs": [],
   "source": [
    "import pandas as pd\n",
    "import numpy as np\n",
    "import matplotlib.pyplot as plt\n",
    "import seaborn as sns"
   ]
  },
  {
   "cell_type": "markdown",
   "metadata": {},
   "source": [
    "# Multiple Choice Questions \n",
    "\n",
    "**[5% each; 25% total]**\n",
    "\n",
    "**1. What is a main benefit of test-driven development?**\n",
    "\n",
    "**a.** Less money needed  \n",
    "**b.** More fun   \n",
    "**c.** Slower development  \n",
    "**d.** Fewer bugs to deal with  "
   ]
  },
  {
   "cell_type": "markdown",
   "metadata": {},
   "source": [
    "**Answer is: d. Fewer bugs because you write tests preventing them that need to pass for you to complete writing code using a TDD methodology.**"
   ]
  },
  {
   "cell_type": "markdown",
   "metadata": {},
   "source": [
    "**2. What would we use to calculate the number of ways we could arrange 20 students into a 5 person committee if we didn't care about committees having the same 5 members?**\n",
    "\n",
    "**a.** Factorial  \n",
    "**b.** Permutation  \n",
    "**c.** Combination  \n",
    "**d.** Probability Mass Function  "
   ]
  },
  {
   "cell_type": "markdown",
   "metadata": {},
   "source": [
    "**Answer is: c. Combination**"
   ]
  },
  {
   "cell_type": "markdown",
   "metadata": {},
   "source": [
    "**3. What is the set of possible outcomes for a random variable called?**\n",
    "\n",
    "**a.** Event Space  \n",
    "**b.** Experiment    \n",
    "**c.** Sample Space   \n",
    "**d.** Probability Distribution  "
   ]
  },
  {
   "cell_type": "markdown",
   "metadata": {},
   "source": [
    "**Answer is: c. Sample Space**"
   ]
  },
  {
   "cell_type": "markdown",
   "metadata": {},
   "source": [
    "**4. Multiplying a matrix by its inverse results in what type of matrix**\n",
    "\n",
    "**a.** Square Matrix  \n",
    "**b.** The Matrix Trilogy  \n",
    "**c.** Zero Matrix  \n",
    "**d.** Identity Matrix  "
   ]
  },
  {
   "cell_type": "markdown",
   "metadata": {},
   "source": [
    "**Answer is: d. Identity Matrix**"
   ]
  },
  {
   "cell_type": "markdown",
   "metadata": {},
   "source": [
    "**5. What's a consequence of underfitting?**\n",
    "\n",
    "**a.** Incorrect predictions   \n",
    "**b.** High bias  \n",
    "**c.** Getting fired    \n",
    "**d.** High variance  "
   ]
  },
  {
   "cell_type": "markdown",
   "metadata": {},
   "source": [
    "**Answer is: a. incorrect predictions**"
   ]
  },
  {
   "cell_type": "markdown",
   "metadata": {},
   "source": [
    "# Python \n",
    "\n",
    "**[5% each; 25% total]** \n",
    "\n",
    "\n",
    "**1. Implement a binary tree in a python class that has the four methods we've covered.**"
   ]
  },
  {
   "cell_type": "code",
   "execution_count": null,
   "metadata": {},
   "outputs": [],
   "source": [
    "class BinaryTree:\n",
    "    def __init__(self, data):\n",
    "        self.left = None\n",
    "        self.right = None\n",
    "        self.data = data\n",
    "        \n",
    "    def insert(self, data):\n",
    "        if self.data:\n",
    "            if data < self.data:\n",
    "                if self.left is None:\n",
    "                    self.left = BinaryTree(data)\n",
    "                else:\n",
    "                    self.left.insert(data)\n",
    "            elif data > self.data:\n",
    "                if self.right is None:\n",
    "                    self.right = BinaryTree(data)\n",
    "                else:\n",
    "                    self.right.insert(data)\n",
    "            else:\n",
    "                print(\"duplicate, cannot be added\")\n",
    "        else:\n",
    "            self.data = data\n",
    "            \n",
    "    def print(self):\n",
    "        if self.left:\n",
    "            self.left.print()\n",
    "        print(self.data)\n",
    "        if self.right:\n",
    "            self.right.print()\n",
    "            \n",
    "tree = BinaryTree(12)\n",
    "tree.insert(6)\n",
    "tree.insert(2)\n",
    "tree.insert(3)\n",
    "tree.insert(8)\n",
    "tree.insert(7)\n",
    "tree.insert(9)\n",
    "tree.insert(16)\n",
    "tree.insert(13)\n",
    "tree.insert(15)\n",
    "tree.insert(20)\n",
    "\n",
    "tree.print()"
   ]
  },
  {
   "cell_type": "markdown",
   "metadata": {},
   "source": [
    "**2. Create a generator function that yields a power of 2 every time it's used. Demonstrate that it works.**"
   ]
  },
  {
   "cell_type": "code",
   "execution_count": 1,
   "metadata": {},
   "outputs": [],
   "source": [
    "def two_power_generator(n):\n",
    "    for i in range(0, n):\n",
    "        yield 2**i"
   ]
  },
  {
   "cell_type": "markdown",
   "metadata": {},
   "source": [
    "**some ways to demonstrate:**"
   ]
  },
  {
   "cell_type": "code",
   "execution_count": 2,
   "metadata": {},
   "outputs": [
    {
     "data": {
      "text/plain": [
       "<generator object two_power_generator at 0x00000257198FA190>"
      ]
     },
     "execution_count": 2,
     "metadata": {},
     "output_type": "execute_result"
    }
   ],
   "source": [
    "p = two_power_generator(5)\n",
    "p"
   ]
  },
  {
   "cell_type": "code",
   "execution_count": 5,
   "metadata": {},
   "outputs": [
    {
     "data": {
      "text/plain": [
       "4"
      ]
     },
     "execution_count": 5,
     "metadata": {},
     "output_type": "execute_result"
    }
   ],
   "source": [
    "next(p)"
   ]
  },
  {
   "cell_type": "code",
   "execution_count": 6,
   "metadata": {},
   "outputs": [
    {
     "data": {
      "text/plain": [
       "[1, 2, 4, 8, 16]"
      ]
     },
     "execution_count": 6,
     "metadata": {},
     "output_type": "execute_result"
    }
   ],
   "source": [
    "q = two_power_generator(5)\n",
    "list(q)"
   ]
  },
  {
   "cell_type": "code",
   "execution_count": 7,
   "metadata": {},
   "outputs": [
    {
     "name": "stdout",
     "output_type": "stream",
     "text": [
      "1\n",
      "2\n",
      "4\n",
      "8\n",
      "16\n"
     ]
    }
   ],
   "source": [
    "r = two_power_generator(5)\n",
    "for i in r:\n",
    "    print(i)"
   ]
  },
  {
   "cell_type": "markdown",
   "metadata": {},
   "source": [
    "**3. Convert the numbers 718 and 917 into binary values and then XOR them.**"
   ]
  },
  {
   "cell_type": "code",
   "execution_count": 8,
   "metadata": {},
   "outputs": [
    {
     "data": {
      "text/plain": [
       "347"
      ]
     },
     "execution_count": 8,
     "metadata": {},
     "output_type": "execute_result"
    }
   ],
   "source": [
    "718 ^ 917"
   ]
  },
  {
   "cell_type": "code",
   "execution_count": 9,
   "metadata": {},
   "outputs": [
    {
     "data": {
      "text/plain": [
       "('1011001110', '1110010101')"
      ]
     },
     "execution_count": 9,
     "metadata": {},
     "output_type": "execute_result"
    }
   ],
   "source": [
    "bin(718)[2:], bin(917)[2:]"
   ]
  },
  {
   "cell_type": "code",
   "execution_count": 10,
   "metadata": {},
   "outputs": [
    {
     "data": {
      "text/plain": [
       "347"
      ]
     },
     "execution_count": 10,
     "metadata": {},
     "output_type": "execute_result"
    }
   ],
   "source": [
    "int('0101011011', 2)"
   ]
  },
  {
   "cell_type": "raw",
   "metadata": {},
   "source": [
    "xor\n",
    "\n",
    "x|y|xor\n",
    "1|1| 0\n",
    "1|0| 1\n",
    "0|1| 1\n",
    "0|0| 0\n",
    "\n",
    "1 0 1 1 0 0 1 1 1 0\n",
    "1 1 1 0 0 1 0 1 0 1\n",
    "- - - - - - - - - -\n",
    "0 1 0 1 0 1 1 0 1 1 "
   ]
  },
  {
   "cell_type": "markdown",
   "metadata": {},
   "source": [
    "**4. Create a dataclass that has the following attributes: name, age, grade and course.**"
   ]
  },
  {
   "cell_type": "code",
   "execution_count": 11,
   "metadata": {},
   "outputs": [
    {
     "data": {
      "text/plain": [
       "('person', 32, 80.0, 'data science')"
      ]
     },
     "execution_count": 11,
     "metadata": {},
     "output_type": "execute_result"
    }
   ],
   "source": [
    "from dataclasses import dataclass\n",
    "\n",
    "@dataclass\n",
    "class Student:\n",
    "    name: str\n",
    "    age: int\n",
    "    grade: float\n",
    "    course: str\n",
    "        \n",
    "c = Student(\"person\", 32, 80.00, \"data science\")\n",
    "c.name, c.age, c.grade, c.course"
   ]
  },
  {
   "cell_type": "markdown",
   "metadata": {},
   "source": [
    "**5. Convert the following formula into a python function. Then use it to calculate the the standard deviation of the list.**\n",
    "\n",
    "$$ \\sigma = \\sqrt{\\frac{1}{N}\\sum_{i=1}^{N}(x_i - \\mu)^{2}}$$"
   ]
  },
  {
   "cell_type": "code",
   "execution_count": 14,
   "metadata": {},
   "outputs": [
    {
     "data": {
      "text/plain": [
       "True"
      ]
     },
     "execution_count": 14,
     "metadata": {},
     "output_type": "execute_result"
    }
   ],
   "source": [
    "l = [10, 12, 23, 23, 16, 23, 21, 16]\n",
    "\n",
    "def std_dev(l=l):\n",
    "    length = len(l)\n",
    "    mean = sum(l)/length\n",
    "    summation = 0\n",
    "    for i in l:\n",
    "        summation += (i - mean)**2\n",
    "    return (summation/length)**0.5\n",
    "\n",
    "std_dev() == np.std(l)"
   ]
  },
  {
   "cell_type": "markdown",
   "metadata": {},
   "source": [
    "# Machine Learning Questions \n",
    "\n",
    "**1. Why would we not want a macine learning model to perfectly fit the data we used to train it?**"
   ]
  },
  {
   "cell_type": "markdown",
   "metadata": {},
   "source": [
    "We might not want a machine learning model to perfectly fit the data we used to train it because that might be a sign of overfitting. Overfitting is if our model is too well fitted to the training data and as a consequent makes our model very good at predicting the training data but not very good at data it wasn't trained with. It isn't generalized enough to handle new data.\n",
    "\n",
    "Machine learning models are trying to find the signals in the noise. If you train a good model, it ignores noise and recognizes signals it can use to approach new data with. If you overfit a model, you've trained it to \"memorize the noise\" of the training data and that doesn't work with new data."
   ]
  },
  {
   "cell_type": "markdown",
   "metadata": {},
   "source": [
    "**2. What assumption must we make in order to do a linear regressions? Why do we make this assumption?**"
   ]
  },
  {
   "cell_type": "markdown",
   "metadata": {},
   "source": [
    "We make the assumption that the relationship between our independent variables (what we are trying to predict with) and the dependent variables (what we are trying to predict) are linear in nature. Meaning that for any increase or decrease in our independent variables, there is a steady, measurable increase or decrease in our dependent variables of an amount that is constant. \n",
    "\n",
    "We make this assumption because if it is true then this constant rate of change can be modeled by a linear function. A constant rate of change in a line is considered the slope of the function or the $m$ in the general equation of a line $y=mx+b$. In the equation for a linear regression, $y = \\beta_0 + \\beta_1x$, the slope is considered the **coefficient** written $\\beta_1$ typically. \n",
    "\n",
    "If our assumption is correct and we use a linear regression, we should be able to calculate coefficients that allow us to use the linear equations to calculate a predicted value of $y$ for any inputs of $x$."
   ]
  },
  {
   "cell_type": "markdown",
   "metadata": {},
   "source": [
    "**3. Explain what variance is and why increasing the complexity of our model causes it. What sacrifice might we make by lowering the complexity of our model?**"
   ]
  },
  {
   "cell_type": "markdown",
   "metadata": {},
   "source": [
    "Variance in the context of a machine learning model is how much the outputs of the model vary. Increasing the complexity of the model involves adding features and other information that our model might respond to. For example, if we add a new feature or more information, it gives our model something additional to respond to and that addition might cause the outputs to differ more than it would have. Two sets of inputs that had been returning the same output before might return different outputs given the new feature. However, new information might result in noise being incorrectly recognized as signals so as variance increases, so does our errors.\n",
    "\n",
    "The sacrifice we make by lowering the complexity of our model is that by doing so, we lower the amount of information the model can use. If we do not give it enough information (by decreasing complexity), our machine learning algorithm can't learn effectively and our model won't give the correct outputs. This causes higher errors as well. \n",
    "\n",
    "This conflict is called the bias versus variance tradeoff we must consider when creating machine learning models.\n",
    "\n"
   ]
  },
  {
   "cell_type": "markdown",
   "metadata": {},
   "source": [
    "# Numpy\n",
    "\n",
    "**This section is worth 12.5%**\n",
    "\n",
    "**1. Create an array of array of numbers from 1 to 100. Then use that array to get the results of the following formula for all of those values.**\n",
    "\n",
    "$$ y = x^{2}-x-6$$"
   ]
  },
  {
   "cell_type": "code",
   "execution_count": 15,
   "metadata": {},
   "outputs": [
    {
     "data": {
      "text/plain": [
       "array([  -6,   -4,    0,    6,   14,   24,   36,   50,   66,   84,  104,\n",
       "        126,  150,  176,  204,  234,  266,  300,  336,  374,  414,  456,\n",
       "        500,  546,  594,  644,  696,  750,  806,  864,  924,  986, 1050,\n",
       "       1116, 1184, 1254, 1326, 1400, 1476, 1554, 1634, 1716, 1800, 1886,\n",
       "       1974, 2064, 2156, 2250, 2346, 2444, 2544, 2646, 2750, 2856, 2964,\n",
       "       3074, 3186, 3300, 3416, 3534, 3654, 3776, 3900, 4026, 4154, 4284,\n",
       "       4416, 4550, 4686, 4824, 4964, 5106, 5250, 5396, 5544, 5694, 5846,\n",
       "       6000, 6156, 6314, 6474, 6636, 6800, 6966, 7134, 7304, 7476, 7650,\n",
       "       7826, 8004, 8184, 8366, 8550, 8736, 8924, 9114, 9306, 9500, 9696,\n",
       "       9894])"
      ]
     },
     "execution_count": 15,
     "metadata": {},
     "output_type": "execute_result"
    }
   ],
   "source": [
    "x = np.arange(1,101)\n",
    "\n",
    "y = x**2 - x - 6\n",
    "y"
   ]
  },
  {
   "cell_type": "markdown",
   "metadata": {},
   "source": [
    "**2. Create two arrays containing the following matrices. Then prove they are inverses.**\n",
    "\n",
    "$$ A = \\begin{bmatrix}\n",
    "5&2\\\\\n",
    "-7&-3\\\\\n",
    "\\end{bmatrix}$$\n",
    "\n",
    "$$ B = \\begin{bmatrix}\n",
    "3&2\\\\\n",
    "-7&-5\\\\\n",
    "\\end{bmatrix}$$"
   ]
  },
  {
   "cell_type": "code",
   "execution_count": 18,
   "metadata": {},
   "outputs": [
    {
     "data": {
      "text/plain": [
       "(array([[ 5,  2],\n",
       "        [-7, -3]]),\n",
       " array([[ 3,  2],\n",
       "        [-7, -5]]))"
      ]
     },
     "execution_count": 18,
     "metadata": {},
     "output_type": "execute_result"
    }
   ],
   "source": [
    "A = np.array([[5,2],[-7,-3]])\n",
    "B = np.array([[3,2],[-7,-5]])\n",
    "A,B\n"
   ]
  },
  {
   "cell_type": "code",
   "execution_count": 20,
   "metadata": {},
   "outputs": [
    {
     "data": {
      "text/plain": [
       "array([[ 3,  2],\n",
       "       [-7, -5]])"
      ]
     },
     "execution_count": 20,
     "metadata": {},
     "output_type": "execute_result"
    }
   ],
   "source": [
    "# A dot B gives a 2x2 identity matrix\n",
    "# because A dot A' == I\n",
    "# meaning A dot with its inverse equals the identity matrix\n",
    "A.dot(B)\n",
    "\n",
    "assert((A.dot(B) == np.eye(2)).all())"
   ]
  },
  {
   "cell_type": "markdown",
   "metadata": {},
   "source": [
    "**3. Create an array using the following matrix so we have the values from the odd rows of the even columns.**\n",
    "\n",
    "Odd rows meaning rows with odd indices. Even columns meaning columns with even indices."
   ]
  },
  {
   "cell_type": "code",
   "execution_count": 21,
   "metadata": {},
   "outputs": [
    {
     "data": {
      "text/plain": [
       "array([[ 1,  2,  3,  4,  5,  6,  7],\n",
       "       [ 8,  9, 10, 11, 12, 13, 14],\n",
       "       [15, 16, 17, 18, 19, 20, 21]])"
      ]
     },
     "execution_count": 21,
     "metadata": {},
     "output_type": "execute_result"
    }
   ],
   "source": [
    "a = np.array([[1,2,3,4,5,6,7],[8,9,10,11,12,13,14],[15,16,17,18,19,20,21]])\n",
    "a"
   ]
  },
  {
   "cell_type": "code",
   "execution_count": 22,
   "metadata": {},
   "outputs": [
    {
     "data": {
      "text/plain": [
       "array([[ 8, 10, 12, 14]])"
      ]
     },
     "execution_count": 22,
     "metadata": {},
     "output_type": "execute_result"
    }
   ],
   "source": [
    "a[1::2,::2]"
   ]
  },
  {
   "cell_type": "markdown",
   "metadata": {},
   "source": [
    "**4. Create a square matrix containing the first 9 values of the following function. Reverse it and then flatten it. Show all of your code.**\n",
    "\n",
    "$$ y = |x|$$\n"
   ]
  },
  {
   "cell_type": "code",
   "execution_count": null,
   "metadata": {},
   "outputs": [],
   "source": [
    "# y = |x| means y equals the absolute value of x \n",
    "# this is the same as saying y = x (for values of x that are greater than 0 since negative values become positive)\n",
    "# we can just use an arange to represent these values\n",
    "\n",
    "# this question is bad though. won't be asked.\n",
    "\n",
    "y = np.arange(9).reshape(3,3)"
   ]
  },
  {
   "cell_type": "code",
   "execution_count": null,
   "metadata": {},
   "outputs": [],
   "source": [
    "y[::-1,::-1].flatten()"
   ]
  },
  {
   "cell_type": "markdown",
   "metadata": {},
   "source": [
    "**5. Create a sqaure numpy array of random numbers. Sort the array and then concatenate it with a similar sized matrix of zeros. Then compute the mean. Show all work.**"
   ]
  },
  {
   "cell_type": "code",
   "execution_count": 27,
   "metadata": {},
   "outputs": [
    {
     "data": {
      "text/plain": [
       "array([[0.13825725, 0.34381749, 0.61807863],\n",
       "       [0.28881136, 0.35093854, 0.37033655],\n",
       "       [0.08813303, 0.62934508, 0.67299522],\n",
       "       [0.        , 0.        , 0.        ],\n",
       "       [0.        , 0.        , 0.        ],\n",
       "       [0.        , 0.        , 0.        ]])"
      ]
     },
     "execution_count": 27,
     "metadata": {},
     "output_type": "execute_result"
    }
   ],
   "source": [
    "d = np.random.random(9).reshape(3,3)\n",
    "d\n",
    "e = np.zeros(9).reshape(3,3)\n",
    "e\n",
    "d.sort(); e.sort()\n",
    "np.concatenate((d,e), axis=0)"
   ]
  },
  {
   "cell_type": "markdown",
   "metadata": {},
   "source": [
    "# Pandas \n",
    "\n",
    "**This section is worth 12.5%**\n",
    "\n",
    "The questions for this section use the dataframe below:"
   ]
  },
  {
   "cell_type": "code",
   "execution_count": 28,
   "metadata": {},
   "outputs": [
    {
     "data": {
      "text/html": [
       "<div>\n",
       "<style scoped>\n",
       "    .dataframe tbody tr th:only-of-type {\n",
       "        vertical-align: middle;\n",
       "    }\n",
       "\n",
       "    .dataframe tbody tr th {\n",
       "        vertical-align: top;\n",
       "    }\n",
       "\n",
       "    .dataframe thead th {\n",
       "        text-align: right;\n",
       "    }\n",
       "</style>\n",
       "<table border=\"1\" class=\"dataframe\">\n",
       "  <thead>\n",
       "    <tr style=\"text-align: right;\">\n",
       "      <th></th>\n",
       "      <th>student</th>\n",
       "      <th>hws completed</th>\n",
       "      <th>test grade</th>\n",
       "      <th>project grade</th>\n",
       "      <th>final grade</th>\n",
       "    </tr>\n",
       "  </thead>\n",
       "  <tbody>\n",
       "    <tr>\n",
       "      <th>0</th>\n",
       "      <td>alice</td>\n",
       "      <td>9</td>\n",
       "      <td>50</td>\n",
       "      <td>NaN</td>\n",
       "      <td>75.0</td>\n",
       "    </tr>\n",
       "    <tr>\n",
       "      <th>1</th>\n",
       "      <td>bob</td>\n",
       "      <td>5</td>\n",
       "      <td>75</td>\n",
       "      <td>NaN</td>\n",
       "      <td>65.0</td>\n",
       "    </tr>\n",
       "    <tr>\n",
       "      <th>2</th>\n",
       "      <td>carol</td>\n",
       "      <td>8</td>\n",
       "      <td>90</td>\n",
       "      <td>NaN</td>\n",
       "      <td>90.0</td>\n",
       "    </tr>\n",
       "    <tr>\n",
       "      <th>3</th>\n",
       "      <td>dave</td>\n",
       "      <td>8</td>\n",
       "      <td>85</td>\n",
       "      <td>90.0</td>\n",
       "      <td>85.0</td>\n",
       "    </tr>\n",
       "    <tr>\n",
       "      <th>4</th>\n",
       "      <td>erica</td>\n",
       "      <td>9</td>\n",
       "      <td>95</td>\n",
       "      <td>100.0</td>\n",
       "      <td>95.0</td>\n",
       "    </tr>\n",
       "    <tr>\n",
       "      <th>5</th>\n",
       "      <td>frank</td>\n",
       "      <td>0</td>\n",
       "      <td>30</td>\n",
       "      <td>60.0</td>\n",
       "      <td>30.0</td>\n",
       "    </tr>\n",
       "    <tr>\n",
       "      <th>6</th>\n",
       "      <td>gina</td>\n",
       "      <td>10</td>\n",
       "      <td>85</td>\n",
       "      <td>100.0</td>\n",
       "      <td>NaN</td>\n",
       "    </tr>\n",
       "    <tr>\n",
       "      <th>7</th>\n",
       "      <td>hector</td>\n",
       "      <td>10</td>\n",
       "      <td>95</td>\n",
       "      <td>NaN</td>\n",
       "      <td>95.0</td>\n",
       "    </tr>\n",
       "    <tr>\n",
       "      <th>8</th>\n",
       "      <td>ivan</td>\n",
       "      <td>9</td>\n",
       "      <td>85</td>\n",
       "      <td>90.0</td>\n",
       "      <td>NaN</td>\n",
       "    </tr>\n",
       "    <tr>\n",
       "      <th>9</th>\n",
       "      <td>john</td>\n",
       "      <td>5</td>\n",
       "      <td>70</td>\n",
       "      <td>80.0</td>\n",
       "      <td>NaN</td>\n",
       "    </tr>\n",
       "  </tbody>\n",
       "</table>\n",
       "</div>"
      ],
      "text/plain": [
       "  student  hws completed  test grade  project grade  final grade\n",
       "0   alice              9          50            NaN         75.0\n",
       "1     bob              5          75            NaN         65.0\n",
       "2   carol              8          90            NaN         90.0\n",
       "3    dave              8          85           90.0         85.0\n",
       "4   erica              9          95          100.0         95.0\n",
       "5   frank              0          30           60.0         30.0\n",
       "6    gina             10          85          100.0          NaN\n",
       "7  hector             10          95            NaN         95.0\n",
       "8    ivan              9          85           90.0          NaN\n",
       "9    john              5          70           80.0          NaN"
      ]
     },
     "execution_count": 28,
     "metadata": {},
     "output_type": "execute_result"
    }
   ],
   "source": [
    "df = pd.DataFrame([\n",
    "[\"alice\", 9, 50, np.nan,75],\n",
    "[\"bob\", 5, 75, np.nan, 65],\n",
    "[\"carol\", 8, 90, np.nan, 90],\n",
    "[\"dave\", 8, 85, 90, 85],\n",
    "[\"erica\", 9, 95, 100, 95],\n",
    "[\"frank\", 0, 30, 60, 30],\n",
    "[\"gina\", 10,85, 100, np.nan],\n",
    "[\"hector\", 10, 95, np.nan, 95],\n",
    "[\"ivan\", 9,85, 90, np.nan],\n",
    "[\"john\", 5,70, 80, np.nan]\n",
    "], columns=['student', 'hws completed', 'test grade', 'project grade', 'final grade'])\n",
    "\n",
    "df"
   ]
  },
  {
   "cell_type": "markdown",
   "metadata": {},
   "source": [
    "**1. Fix the `\"hws completed\"` column by turning the number of hws completed into a percentage (and optionally changing the column name to `\"hw grade\"` since it now represents the hw grade after fixing). There were 10 hws in the semester and students got 100% on each hw they completed.**"
   ]
  },
  {
   "cell_type": "code",
   "execution_count": 30,
   "metadata": {},
   "outputs": [
    {
     "data": {
      "text/html": [
       "<div>\n",
       "<style scoped>\n",
       "    .dataframe tbody tr th:only-of-type {\n",
       "        vertical-align: middle;\n",
       "    }\n",
       "\n",
       "    .dataframe tbody tr th {\n",
       "        vertical-align: top;\n",
       "    }\n",
       "\n",
       "    .dataframe thead th {\n",
       "        text-align: right;\n",
       "    }\n",
       "</style>\n",
       "<table border=\"1\" class=\"dataframe\">\n",
       "  <thead>\n",
       "    <tr style=\"text-align: right;\">\n",
       "      <th></th>\n",
       "      <th>student</th>\n",
       "      <th>hws completed</th>\n",
       "      <th>test grade</th>\n",
       "      <th>project grade</th>\n",
       "      <th>final grade</th>\n",
       "      <th>hw grade</th>\n",
       "    </tr>\n",
       "  </thead>\n",
       "  <tbody>\n",
       "    <tr>\n",
       "      <th>0</th>\n",
       "      <td>alice</td>\n",
       "      <td>9</td>\n",
       "      <td>50</td>\n",
       "      <td>NaN</td>\n",
       "      <td>75.0</td>\n",
       "      <td>90</td>\n",
       "    </tr>\n",
       "    <tr>\n",
       "      <th>1</th>\n",
       "      <td>bob</td>\n",
       "      <td>5</td>\n",
       "      <td>75</td>\n",
       "      <td>NaN</td>\n",
       "      <td>65.0</td>\n",
       "      <td>50</td>\n",
       "    </tr>\n",
       "    <tr>\n",
       "      <th>2</th>\n",
       "      <td>carol</td>\n",
       "      <td>8</td>\n",
       "      <td>90</td>\n",
       "      <td>NaN</td>\n",
       "      <td>90.0</td>\n",
       "      <td>80</td>\n",
       "    </tr>\n",
       "    <tr>\n",
       "      <th>3</th>\n",
       "      <td>dave</td>\n",
       "      <td>8</td>\n",
       "      <td>85</td>\n",
       "      <td>90.0</td>\n",
       "      <td>85.0</td>\n",
       "      <td>80</td>\n",
       "    </tr>\n",
       "    <tr>\n",
       "      <th>4</th>\n",
       "      <td>erica</td>\n",
       "      <td>9</td>\n",
       "      <td>95</td>\n",
       "      <td>100.0</td>\n",
       "      <td>95.0</td>\n",
       "      <td>90</td>\n",
       "    </tr>\n",
       "    <tr>\n",
       "      <th>5</th>\n",
       "      <td>frank</td>\n",
       "      <td>0</td>\n",
       "      <td>30</td>\n",
       "      <td>60.0</td>\n",
       "      <td>30.0</td>\n",
       "      <td>0</td>\n",
       "    </tr>\n",
       "    <tr>\n",
       "      <th>6</th>\n",
       "      <td>gina</td>\n",
       "      <td>10</td>\n",
       "      <td>85</td>\n",
       "      <td>100.0</td>\n",
       "      <td>NaN</td>\n",
       "      <td>100</td>\n",
       "    </tr>\n",
       "    <tr>\n",
       "      <th>7</th>\n",
       "      <td>hector</td>\n",
       "      <td>10</td>\n",
       "      <td>95</td>\n",
       "      <td>NaN</td>\n",
       "      <td>95.0</td>\n",
       "      <td>100</td>\n",
       "    </tr>\n",
       "    <tr>\n",
       "      <th>8</th>\n",
       "      <td>ivan</td>\n",
       "      <td>9</td>\n",
       "      <td>85</td>\n",
       "      <td>90.0</td>\n",
       "      <td>NaN</td>\n",
       "      <td>90</td>\n",
       "    </tr>\n",
       "    <tr>\n",
       "      <th>9</th>\n",
       "      <td>john</td>\n",
       "      <td>5</td>\n",
       "      <td>70</td>\n",
       "      <td>80.0</td>\n",
       "      <td>NaN</td>\n",
       "      <td>50</td>\n",
       "    </tr>\n",
       "  </tbody>\n",
       "</table>\n",
       "</div>"
      ],
      "text/plain": [
       "  student  hws completed  test grade  project grade  final grade  hw grade\n",
       "0   alice              9          50            NaN         75.0        90\n",
       "1     bob              5          75            NaN         65.0        50\n",
       "2   carol              8          90            NaN         90.0        80\n",
       "3    dave              8          85           90.0         85.0        80\n",
       "4   erica              9          95          100.0         95.0        90\n",
       "5   frank              0          30           60.0         30.0         0\n",
       "6    gina             10          85          100.0          NaN       100\n",
       "7  hector             10          95            NaN         95.0       100\n",
       "8    ivan              9          85           90.0          NaN        90\n",
       "9    john              5          70           80.0          NaN        50"
      ]
     },
     "execution_count": 30,
     "metadata": {},
     "output_type": "execute_result"
    }
   ],
   "source": [
    "df['hw grade'] = df['hws completed'] * 10\n",
    "df"
   ]
  },
  {
   "cell_type": "code",
   "execution_count": null,
   "metadata": {},
   "outputs": [],
   "source": [
    "df = df[[\"student\",\"hw grade\", \"test grade\",\"project grade\",\"final grade\"]]\n",
    "df"
   ]
  },
  {
   "cell_type": "markdown",
   "metadata": {},
   "source": [
    "**2. Fix the missing values in the column `\"project grade\"` using the following formula**.\n",
    "\n",
    "if \n",
    "\n",
    "$$ \\textbf{final grade} = \\frac{\\textbf{hw grade} + \\textbf{test grade} + \\textbf{project grade}}{3} $$\n",
    "\n",
    "then \n",
    "\n",
    "$$ 3 \\cdot \\text{final grade} = \\text{hw grade} + \\text{test grade} + \\textbf{project grade} $$ \n",
    "\n",
    "$$ (3 \\cdot \\text{final grade}) - \\text{hw grade} + \\text{test grade} =\\textbf{project grade} $$\n",
    "\n",
    "$$ \\textbf{project grade} = (3 \\cdot \\text{final grade}) - \\text{hw grade} - \\text{test grade} $$"
   ]
  },
  {
   "cell_type": "code",
   "execution_count": 31,
   "metadata": {},
   "outputs": [
    {
     "data": {
      "text/plain": [
       "0     85.0\n",
       "1     70.0\n",
       "2    100.0\n",
       "3     90.0\n",
       "4    100.0\n",
       "5     60.0\n",
       "6      NaN\n",
       "7     90.0\n",
       "8      NaN\n",
       "9      NaN\n",
       "dtype: float64"
      ]
     },
     "execution_count": 31,
     "metadata": {},
     "output_type": "execute_result"
    }
   ],
   "source": [
    "(3*df['final grade']) - df['hw grade'] - df['test grade']"
   ]
  },
  {
   "cell_type": "code",
   "execution_count": 32,
   "metadata": {},
   "outputs": [],
   "source": [
    "df['temp column'] = (3*df['final grade']) - df['hw grade'] - df['test grade']"
   ]
  },
  {
   "cell_type": "code",
   "execution_count": 33,
   "metadata": {},
   "outputs": [
    {
     "data": {
      "text/plain": [
       "0   NaN\n",
       "1   NaN\n",
       "2   NaN\n",
       "Name: project grade, dtype: float64"
      ]
     },
     "execution_count": 33,
     "metadata": {},
     "output_type": "execute_result"
    }
   ],
   "source": [
    "df.iloc[:3,3]"
   ]
  },
  {
   "cell_type": "code",
   "execution_count": 34,
   "metadata": {},
   "outputs": [
    {
     "data": {
      "text/plain": [
       "0    90\n",
       "1    50\n",
       "2    80\n",
       "Name: hw grade, dtype: int64"
      ]
     },
     "execution_count": 34,
     "metadata": {},
     "output_type": "execute_result"
    }
   ],
   "source": [
    "df.iloc[:3, 5]"
   ]
  },
  {
   "cell_type": "code",
   "execution_count": 35,
   "metadata": {},
   "outputs": [
    {
     "data": {
      "text/plain": [
       "nan"
      ]
     },
     "execution_count": 35,
     "metadata": {},
     "output_type": "execute_result"
    }
   ],
   "source": [
    "df.iloc[7,3]"
   ]
  },
  {
   "cell_type": "code",
   "execution_count": 36,
   "metadata": {},
   "outputs": [
    {
     "data": {
      "text/plain": [
       "100"
      ]
     },
     "execution_count": 36,
     "metadata": {},
     "output_type": "execute_result"
    }
   ],
   "source": [
    "df.iloc[7, 5]"
   ]
  },
  {
   "cell_type": "code",
   "execution_count": 37,
   "metadata": {},
   "outputs": [],
   "source": [
    "df.iloc[:3,3] = df.iloc[:3,5]"
   ]
  },
  {
   "cell_type": "code",
   "execution_count": 38,
   "metadata": {},
   "outputs": [],
   "source": [
    "df.iloc[7,3] = df.iloc[7,5]"
   ]
  },
  {
   "cell_type": "code",
   "execution_count": 39,
   "metadata": {},
   "outputs": [
    {
     "data": {
      "text/plain": [
       "Index(['student', 'hws completed', 'test grade', 'project grade',\n",
       "       'final grade', 'hw grade', 'temp column'],\n",
       "      dtype='object')"
      ]
     },
     "execution_count": 39,
     "metadata": {},
     "output_type": "execute_result"
    }
   ],
   "source": [
    "df.columns"
   ]
  },
  {
   "cell_type": "code",
   "execution_count": 40,
   "metadata": {},
   "outputs": [],
   "source": [
    "df = df[['student', 'hw grade', 'test grade', 'project grade', 'final grade']]"
   ]
  },
  {
   "cell_type": "code",
   "execution_count": 41,
   "metadata": {},
   "outputs": [
    {
     "data": {
      "text/html": [
       "<div>\n",
       "<style scoped>\n",
       "    .dataframe tbody tr th:only-of-type {\n",
       "        vertical-align: middle;\n",
       "    }\n",
       "\n",
       "    .dataframe tbody tr th {\n",
       "        vertical-align: top;\n",
       "    }\n",
       "\n",
       "    .dataframe thead th {\n",
       "        text-align: right;\n",
       "    }\n",
       "</style>\n",
       "<table border=\"1\" class=\"dataframe\">\n",
       "  <thead>\n",
       "    <tr style=\"text-align: right;\">\n",
       "      <th></th>\n",
       "      <th>student</th>\n",
       "      <th>hw grade</th>\n",
       "      <th>test grade</th>\n",
       "      <th>project grade</th>\n",
       "      <th>final grade</th>\n",
       "    </tr>\n",
       "  </thead>\n",
       "  <tbody>\n",
       "    <tr>\n",
       "      <th>0</th>\n",
       "      <td>alice</td>\n",
       "      <td>90</td>\n",
       "      <td>50</td>\n",
       "      <td>90.0</td>\n",
       "      <td>75.0</td>\n",
       "    </tr>\n",
       "    <tr>\n",
       "      <th>1</th>\n",
       "      <td>bob</td>\n",
       "      <td>50</td>\n",
       "      <td>75</td>\n",
       "      <td>50.0</td>\n",
       "      <td>65.0</td>\n",
       "    </tr>\n",
       "    <tr>\n",
       "      <th>2</th>\n",
       "      <td>carol</td>\n",
       "      <td>80</td>\n",
       "      <td>90</td>\n",
       "      <td>80.0</td>\n",
       "      <td>90.0</td>\n",
       "    </tr>\n",
       "    <tr>\n",
       "      <th>3</th>\n",
       "      <td>dave</td>\n",
       "      <td>80</td>\n",
       "      <td>85</td>\n",
       "      <td>90.0</td>\n",
       "      <td>85.0</td>\n",
       "    </tr>\n",
       "    <tr>\n",
       "      <th>4</th>\n",
       "      <td>erica</td>\n",
       "      <td>90</td>\n",
       "      <td>95</td>\n",
       "      <td>100.0</td>\n",
       "      <td>95.0</td>\n",
       "    </tr>\n",
       "    <tr>\n",
       "      <th>5</th>\n",
       "      <td>frank</td>\n",
       "      <td>0</td>\n",
       "      <td>30</td>\n",
       "      <td>60.0</td>\n",
       "      <td>30.0</td>\n",
       "    </tr>\n",
       "    <tr>\n",
       "      <th>6</th>\n",
       "      <td>gina</td>\n",
       "      <td>100</td>\n",
       "      <td>85</td>\n",
       "      <td>100.0</td>\n",
       "      <td>NaN</td>\n",
       "    </tr>\n",
       "    <tr>\n",
       "      <th>7</th>\n",
       "      <td>hector</td>\n",
       "      <td>100</td>\n",
       "      <td>95</td>\n",
       "      <td>100.0</td>\n",
       "      <td>95.0</td>\n",
       "    </tr>\n",
       "    <tr>\n",
       "      <th>8</th>\n",
       "      <td>ivan</td>\n",
       "      <td>90</td>\n",
       "      <td>85</td>\n",
       "      <td>90.0</td>\n",
       "      <td>NaN</td>\n",
       "    </tr>\n",
       "    <tr>\n",
       "      <th>9</th>\n",
       "      <td>john</td>\n",
       "      <td>50</td>\n",
       "      <td>70</td>\n",
       "      <td>80.0</td>\n",
       "      <td>NaN</td>\n",
       "    </tr>\n",
       "  </tbody>\n",
       "</table>\n",
       "</div>"
      ],
      "text/plain": [
       "  student  hw grade  test grade  project grade  final grade\n",
       "0   alice        90          50           90.0         75.0\n",
       "1     bob        50          75           50.0         65.0\n",
       "2   carol        80          90           80.0         90.0\n",
       "3    dave        80          85           90.0         85.0\n",
       "4   erica        90          95          100.0         95.0\n",
       "5   frank         0          30           60.0         30.0\n",
       "6    gina       100          85          100.0          NaN\n",
       "7  hector       100          95          100.0         95.0\n",
       "8    ivan        90          85           90.0          NaN\n",
       "9    john        50          70           80.0          NaN"
      ]
     },
     "execution_count": 41,
     "metadata": {},
     "output_type": "execute_result"
    }
   ],
   "source": [
    "df"
   ]
  },
  {
   "cell_type": "markdown",
   "metadata": {},
   "source": [
    "**3. Fix the missing values in the column `\"final grade\"` using the formula from the previous exercise.**"
   ]
  },
  {
   "cell_type": "code",
   "execution_count": 42,
   "metadata": {},
   "outputs": [
    {
     "name": "stderr",
     "output_type": "stream",
     "text": [
      "<ipython-input-42-2071b3e7d8ff>:1: SettingWithCopyWarning: \n",
      "A value is trying to be set on a copy of a slice from a DataFrame.\n",
      "Try using .loc[row_indexer,col_indexer] = value instead\n",
      "\n",
      "See the caveats in the documentation: https://pandas.pydata.org/pandas-docs/stable/user_guide/indexing.html#returning-a-view-versus-a-copy\n",
      "  df['final grade temp'] = (df['hw grade'] + df['test grade'] + df['project grade']) / 3\n"
     ]
    }
   ],
   "source": [
    "df['final grade temp'] = (df['hw grade'] + df['test grade'] + df['project grade']) / 3"
   ]
  },
  {
   "cell_type": "code",
   "execution_count": 43,
   "metadata": {},
   "outputs": [
    {
     "data": {
      "text/html": [
       "<div>\n",
       "<style scoped>\n",
       "    .dataframe tbody tr th:only-of-type {\n",
       "        vertical-align: middle;\n",
       "    }\n",
       "\n",
       "    .dataframe tbody tr th {\n",
       "        vertical-align: top;\n",
       "    }\n",
       "\n",
       "    .dataframe thead th {\n",
       "        text-align: right;\n",
       "    }\n",
       "</style>\n",
       "<table border=\"1\" class=\"dataframe\">\n",
       "  <thead>\n",
       "    <tr style=\"text-align: right;\">\n",
       "      <th></th>\n",
       "      <th>student</th>\n",
       "      <th>hw grade</th>\n",
       "      <th>test grade</th>\n",
       "      <th>project grade</th>\n",
       "      <th>final grade</th>\n",
       "      <th>final grade temp</th>\n",
       "    </tr>\n",
       "  </thead>\n",
       "  <tbody>\n",
       "    <tr>\n",
       "      <th>0</th>\n",
       "      <td>alice</td>\n",
       "      <td>90</td>\n",
       "      <td>50</td>\n",
       "      <td>90.0</td>\n",
       "      <td>75.0</td>\n",
       "      <td>76.666667</td>\n",
       "    </tr>\n",
       "    <tr>\n",
       "      <th>1</th>\n",
       "      <td>bob</td>\n",
       "      <td>50</td>\n",
       "      <td>75</td>\n",
       "      <td>50.0</td>\n",
       "      <td>65.0</td>\n",
       "      <td>58.333333</td>\n",
       "    </tr>\n",
       "    <tr>\n",
       "      <th>2</th>\n",
       "      <td>carol</td>\n",
       "      <td>80</td>\n",
       "      <td>90</td>\n",
       "      <td>80.0</td>\n",
       "      <td>90.0</td>\n",
       "      <td>83.333333</td>\n",
       "    </tr>\n",
       "    <tr>\n",
       "      <th>3</th>\n",
       "      <td>dave</td>\n",
       "      <td>80</td>\n",
       "      <td>85</td>\n",
       "      <td>90.0</td>\n",
       "      <td>85.0</td>\n",
       "      <td>85.000000</td>\n",
       "    </tr>\n",
       "    <tr>\n",
       "      <th>4</th>\n",
       "      <td>erica</td>\n",
       "      <td>90</td>\n",
       "      <td>95</td>\n",
       "      <td>100.0</td>\n",
       "      <td>95.0</td>\n",
       "      <td>95.000000</td>\n",
       "    </tr>\n",
       "    <tr>\n",
       "      <th>5</th>\n",
       "      <td>frank</td>\n",
       "      <td>0</td>\n",
       "      <td>30</td>\n",
       "      <td>60.0</td>\n",
       "      <td>30.0</td>\n",
       "      <td>30.000000</td>\n",
       "    </tr>\n",
       "    <tr>\n",
       "      <th>6</th>\n",
       "      <td>gina</td>\n",
       "      <td>100</td>\n",
       "      <td>85</td>\n",
       "      <td>100.0</td>\n",
       "      <td>NaN</td>\n",
       "      <td>95.000000</td>\n",
       "    </tr>\n",
       "    <tr>\n",
       "      <th>7</th>\n",
       "      <td>hector</td>\n",
       "      <td>100</td>\n",
       "      <td>95</td>\n",
       "      <td>100.0</td>\n",
       "      <td>95.0</td>\n",
       "      <td>98.333333</td>\n",
       "    </tr>\n",
       "    <tr>\n",
       "      <th>8</th>\n",
       "      <td>ivan</td>\n",
       "      <td>90</td>\n",
       "      <td>85</td>\n",
       "      <td>90.0</td>\n",
       "      <td>NaN</td>\n",
       "      <td>88.333333</td>\n",
       "    </tr>\n",
       "    <tr>\n",
       "      <th>9</th>\n",
       "      <td>john</td>\n",
       "      <td>50</td>\n",
       "      <td>70</td>\n",
       "      <td>80.0</td>\n",
       "      <td>NaN</td>\n",
       "      <td>66.666667</td>\n",
       "    </tr>\n",
       "  </tbody>\n",
       "</table>\n",
       "</div>"
      ],
      "text/plain": [
       "  student  hw grade  test grade  project grade  final grade  final grade temp\n",
       "0   alice        90          50           90.0         75.0         76.666667\n",
       "1     bob        50          75           50.0         65.0         58.333333\n",
       "2   carol        80          90           80.0         90.0         83.333333\n",
       "3    dave        80          85           90.0         85.0         85.000000\n",
       "4   erica        90          95          100.0         95.0         95.000000\n",
       "5   frank         0          30           60.0         30.0         30.000000\n",
       "6    gina       100          85          100.0          NaN         95.000000\n",
       "7  hector       100          95          100.0         95.0         98.333333\n",
       "8    ivan        90          85           90.0          NaN         88.333333\n",
       "9    john        50          70           80.0          NaN         66.666667"
      ]
     },
     "execution_count": 43,
     "metadata": {},
     "output_type": "execute_result"
    }
   ],
   "source": [
    "df"
   ]
  },
  {
   "cell_type": "code",
   "execution_count": 44,
   "metadata": {},
   "outputs": [
    {
     "data": {
      "text/plain": [
       "Index(['student', 'hw grade', 'test grade', 'project grade', 'final grade',\n",
       "       'final grade temp'],\n",
       "      dtype='object')"
      ]
     },
     "execution_count": 44,
     "metadata": {},
     "output_type": "execute_result"
    }
   ],
   "source": [
    "df.columns"
   ]
  },
  {
   "cell_type": "code",
   "execution_count": 45,
   "metadata": {},
   "outputs": [],
   "source": [
    "df = df[['student', 'hw grade', 'test grade', 'project grade',\n",
    "       'final grade temp']]"
   ]
  },
  {
   "cell_type": "code",
   "execution_count": 46,
   "metadata": {},
   "outputs": [],
   "source": [
    "df.columns = ['student', 'hw grade', 'test grade', 'project grade',\n",
    "       'final grade']"
   ]
  },
  {
   "cell_type": "code",
   "execution_count": 47,
   "metadata": {},
   "outputs": [
    {
     "data": {
      "text/html": [
       "<div>\n",
       "<style scoped>\n",
       "    .dataframe tbody tr th:only-of-type {\n",
       "        vertical-align: middle;\n",
       "    }\n",
       "\n",
       "    .dataframe tbody tr th {\n",
       "        vertical-align: top;\n",
       "    }\n",
       "\n",
       "    .dataframe thead th {\n",
       "        text-align: right;\n",
       "    }\n",
       "</style>\n",
       "<table border=\"1\" class=\"dataframe\">\n",
       "  <thead>\n",
       "    <tr style=\"text-align: right;\">\n",
       "      <th></th>\n",
       "      <th>student</th>\n",
       "      <th>hw grade</th>\n",
       "      <th>test grade</th>\n",
       "      <th>project grade</th>\n",
       "      <th>final grade</th>\n",
       "    </tr>\n",
       "  </thead>\n",
       "  <tbody>\n",
       "    <tr>\n",
       "      <th>0</th>\n",
       "      <td>alice</td>\n",
       "      <td>90</td>\n",
       "      <td>50</td>\n",
       "      <td>90.0</td>\n",
       "      <td>76.666667</td>\n",
       "    </tr>\n",
       "    <tr>\n",
       "      <th>1</th>\n",
       "      <td>bob</td>\n",
       "      <td>50</td>\n",
       "      <td>75</td>\n",
       "      <td>50.0</td>\n",
       "      <td>58.333333</td>\n",
       "    </tr>\n",
       "    <tr>\n",
       "      <th>2</th>\n",
       "      <td>carol</td>\n",
       "      <td>80</td>\n",
       "      <td>90</td>\n",
       "      <td>80.0</td>\n",
       "      <td>83.333333</td>\n",
       "    </tr>\n",
       "    <tr>\n",
       "      <th>3</th>\n",
       "      <td>dave</td>\n",
       "      <td>80</td>\n",
       "      <td>85</td>\n",
       "      <td>90.0</td>\n",
       "      <td>85.000000</td>\n",
       "    </tr>\n",
       "    <tr>\n",
       "      <th>4</th>\n",
       "      <td>erica</td>\n",
       "      <td>90</td>\n",
       "      <td>95</td>\n",
       "      <td>100.0</td>\n",
       "      <td>95.000000</td>\n",
       "    </tr>\n",
       "    <tr>\n",
       "      <th>5</th>\n",
       "      <td>frank</td>\n",
       "      <td>0</td>\n",
       "      <td>30</td>\n",
       "      <td>60.0</td>\n",
       "      <td>30.000000</td>\n",
       "    </tr>\n",
       "    <tr>\n",
       "      <th>6</th>\n",
       "      <td>gina</td>\n",
       "      <td>100</td>\n",
       "      <td>85</td>\n",
       "      <td>100.0</td>\n",
       "      <td>95.000000</td>\n",
       "    </tr>\n",
       "    <tr>\n",
       "      <th>7</th>\n",
       "      <td>hector</td>\n",
       "      <td>100</td>\n",
       "      <td>95</td>\n",
       "      <td>100.0</td>\n",
       "      <td>98.333333</td>\n",
       "    </tr>\n",
       "    <tr>\n",
       "      <th>8</th>\n",
       "      <td>ivan</td>\n",
       "      <td>90</td>\n",
       "      <td>85</td>\n",
       "      <td>90.0</td>\n",
       "      <td>88.333333</td>\n",
       "    </tr>\n",
       "    <tr>\n",
       "      <th>9</th>\n",
       "      <td>john</td>\n",
       "      <td>50</td>\n",
       "      <td>70</td>\n",
       "      <td>80.0</td>\n",
       "      <td>66.666667</td>\n",
       "    </tr>\n",
       "  </tbody>\n",
       "</table>\n",
       "</div>"
      ],
      "text/plain": [
       "  student  hw grade  test grade  project grade  final grade\n",
       "0   alice        90          50           90.0    76.666667\n",
       "1     bob        50          75           50.0    58.333333\n",
       "2   carol        80          90           80.0    83.333333\n",
       "3    dave        80          85           90.0    85.000000\n",
       "4   erica        90          95          100.0    95.000000\n",
       "5   frank         0          30           60.0    30.000000\n",
       "6    gina       100          85          100.0    95.000000\n",
       "7  hector       100          95          100.0    98.333333\n",
       "8    ivan        90          85           90.0    88.333333\n",
       "9    john        50          70           80.0    66.666667"
      ]
     },
     "execution_count": 47,
     "metadata": {},
     "output_type": "execute_result"
    }
   ],
   "source": [
    "df"
   ]
  },
  {
   "cell_type": "markdown",
   "metadata": {},
   "source": [
    "**4. Filter our dataframe and output the top 3 students by final grade.**"
   ]
  },
  {
   "cell_type": "code",
   "execution_count": 48,
   "metadata": {},
   "outputs": [
    {
     "data": {
      "text/html": [
       "<div>\n",
       "<style scoped>\n",
       "    .dataframe tbody tr th:only-of-type {\n",
       "        vertical-align: middle;\n",
       "    }\n",
       "\n",
       "    .dataframe tbody tr th {\n",
       "        vertical-align: top;\n",
       "    }\n",
       "\n",
       "    .dataframe thead th {\n",
       "        text-align: right;\n",
       "    }\n",
       "</style>\n",
       "<table border=\"1\" class=\"dataframe\">\n",
       "  <thead>\n",
       "    <tr style=\"text-align: right;\">\n",
       "      <th></th>\n",
       "      <th>student</th>\n",
       "      <th>hw grade</th>\n",
       "      <th>test grade</th>\n",
       "      <th>project grade</th>\n",
       "      <th>final grade</th>\n",
       "    </tr>\n",
       "  </thead>\n",
       "  <tbody>\n",
       "    <tr>\n",
       "      <th>7</th>\n",
       "      <td>hector</td>\n",
       "      <td>100</td>\n",
       "      <td>95</td>\n",
       "      <td>100.0</td>\n",
       "      <td>98.333333</td>\n",
       "    </tr>\n",
       "    <tr>\n",
       "      <th>4</th>\n",
       "      <td>erica</td>\n",
       "      <td>90</td>\n",
       "      <td>95</td>\n",
       "      <td>100.0</td>\n",
       "      <td>95.000000</td>\n",
       "    </tr>\n",
       "    <tr>\n",
       "      <th>6</th>\n",
       "      <td>gina</td>\n",
       "      <td>100</td>\n",
       "      <td>85</td>\n",
       "      <td>100.0</td>\n",
       "      <td>95.000000</td>\n",
       "    </tr>\n",
       "  </tbody>\n",
       "</table>\n",
       "</div>"
      ],
      "text/plain": [
       "  student  hw grade  test grade  project grade  final grade\n",
       "7  hector       100          95          100.0    98.333333\n",
       "4   erica        90          95          100.0    95.000000\n",
       "6    gina       100          85          100.0    95.000000"
      ]
     },
     "execution_count": 48,
     "metadata": {},
     "output_type": "execute_result"
    }
   ],
   "source": [
    "df.sort_values(by='final grade', ascending=False).head(3)"
   ]
  },
  {
   "cell_type": "markdown",
   "metadata": {},
   "source": [
    "**5. Calculate the average grade for each of our four columns.**"
   ]
  },
  {
   "cell_type": "code",
   "execution_count": 49,
   "metadata": {},
   "outputs": [
    {
     "data": {
      "text/plain": [
       "Index(['student', 'hw grade', 'test grade', 'project grade', 'final grade'], dtype='object')"
      ]
     },
     "execution_count": 49,
     "metadata": {},
     "output_type": "execute_result"
    }
   ],
   "source": [
    "df.columns"
   ]
  },
  {
   "cell_type": "code",
   "execution_count": 50,
   "metadata": {},
   "outputs": [
    {
     "name": "stdout",
     "output_type": "stream",
     "text": [
      "hw grade average: 73.0\n",
      "test grade average: 76.0\n",
      "project grade average: 84.0\n",
      "final grade average: 77.66666666666666\n"
     ]
    }
   ],
   "source": [
    "for i in ['hw grade', 'test grade', 'project grade', 'final grade']:\n",
    "    print(f\"{i} average: {np.mean(df[i])}\")"
   ]
  },
  {
   "cell_type": "markdown",
   "metadata": {},
   "source": [
    "# SQL \n",
    "\n",
    "Carol just received a job offer for a position as data scientist paying \\$140,000. Given the following sql database, update her information to reflect this new position."
   ]
  },
  {
   "cell_type": "code",
   "execution_count": 51,
   "metadata": {},
   "outputs": [],
   "source": [
    "# run this cell to set up your sqlite3 db.\n",
    "import sqlite3\n",
    "\n",
    "sql_commands = \\\n",
    "\"\"\"\n",
    "DROP TABLE IF EXISTS employees;\n",
    "\n",
    "CREATE TABLE employees (\n",
    " id INTEGER PRIMARY KEY,\n",
    " name TEXT NOT NULL,\n",
    " position TEXT NOT NULL,\n",
    " salary INTEGER NOT NULL\n",
    ");\n",
    "\n",
    "INSERT INTO employees \n",
    "(name, position, salary)\n",
    "VALUES \n",
    "('Alice', 'software engineer', 120000),\n",
    "('Bob', 'web developer',  80000),\n",
    "('Carol', 'intern', 10000);\n",
    "\"\"\"\n",
    "\n",
    "db = sqlite3.connect('employees.db')\n",
    "cursor = db.cursor()\n",
    "cursor.executescript(sql_commands)\n",
    "db.commit()\n",
    "db.close()"
   ]
  },
  {
   "cell_type": "code",
   "execution_count": 52,
   "metadata": {},
   "outputs": [],
   "source": [
    "# use this function for your answers.\n",
    "def with_conn(statement):\n",
    "    conn = sqlite3.connect('employees.db')\n",
    "    with conn:\n",
    "        cur = conn.cursor()\n",
    "        cur.execute(statement)\n",
    "        result = cur.fetchall()\n",
    "        return result "
   ]
  },
  {
   "cell_type": "code",
   "execution_count": 53,
   "metadata": {},
   "outputs": [
    {
     "data": {
      "text/plain": [
       "[(1, 'Alice', 'software engineer', 120000),\n",
       " (2, 'Bob', 'web developer', 80000),\n",
       " (3, 'Carol', 'intern', 10000)]"
      ]
     },
     "execution_count": 53,
     "metadata": {},
     "output_type": "execute_result"
    }
   ],
   "source": [
    "with_conn('SELECT * FROM employees;')"
   ]
  },
  {
   "cell_type": "code",
   "execution_count": 57,
   "metadata": {},
   "outputs": [
    {
     "data": {
      "text/plain": [
       "[]"
      ]
     },
     "execution_count": 57,
     "metadata": {},
     "output_type": "execute_result"
    }
   ],
   "source": [
    "with_conn('UPDATE employees SET position=\"data scientist\", salary=\"140000\" WHERE id=3;')"
   ]
  },
  {
   "cell_type": "code",
   "execution_count": 58,
   "metadata": {},
   "outputs": [
    {
     "data": {
      "text/plain": [
       "[(1, 'Alice', 'software engineer', 120000),\n",
       " (2, 'Bob', 'web developer', 80000),\n",
       " (3, 'Carol', 'data scientist', 140000)]"
      ]
     },
     "execution_count": 58,
     "metadata": {},
     "output_type": "execute_result"
    }
   ],
   "source": [
    "with_conn('SELECT * FROM employees;')"
   ]
  },
  {
   "cell_type": "markdown",
   "metadata": {},
   "source": [
    "# Matplotlib \n",
    "**This section is worth 5%**\n",
    "\n",
    "Using the following dataset, create a chart of the data using the right chart to convey the information. Make sure your chart is professional looking, utilizing axis labeling and a proper title. "
   ]
  },
  {
   "cell_type": "code",
   "execution_count": 59,
   "metadata": {},
   "outputs": [
    {
     "data": {
      "text/html": [
       "<div>\n",
       "<style scoped>\n",
       "    .dataframe tbody tr th:only-of-type {\n",
       "        vertical-align: middle;\n",
       "    }\n",
       "\n",
       "    .dataframe tbody tr th {\n",
       "        vertical-align: top;\n",
       "    }\n",
       "\n",
       "    .dataframe thead th {\n",
       "        text-align: right;\n",
       "    }\n",
       "</style>\n",
       "<table border=\"1\" class=\"dataframe\">\n",
       "  <thead>\n",
       "    <tr style=\"text-align: right;\">\n",
       "      <th></th>\n",
       "      <th>name</th>\n",
       "      <th>bitcoins</th>\n",
       "      <th>year started</th>\n",
       "      <th>public key</th>\n",
       "    </tr>\n",
       "  </thead>\n",
       "  <tbody>\n",
       "    <tr>\n",
       "      <th>0</th>\n",
       "      <td>alice</td>\n",
       "      <td>3.400000</td>\n",
       "      <td>2016</td>\n",
       "      <td>1LdRcdxfbSnmCYYNdeYpUnztiYzVfBEQeC</td>\n",
       "    </tr>\n",
       "    <tr>\n",
       "      <th>1</th>\n",
       "      <td>bob</td>\n",
       "      <td>0.455500</td>\n",
       "      <td>2018</td>\n",
       "      <td>12ib7dApVFvg82TXKycWBNpN8kFyiAN1dr</td>\n",
       "    </tr>\n",
       "    <tr>\n",
       "      <th>2</th>\n",
       "      <td>carol</td>\n",
       "      <td>5.424823</td>\n",
       "      <td>2015</td>\n",
       "      <td>1LdRcdxfbSnmCYYNdeYpUnztiYzVfBEQeC</td>\n",
       "    </tr>\n",
       "    <tr>\n",
       "      <th>3</th>\n",
       "      <td>davin</td>\n",
       "      <td>20.250000</td>\n",
       "      <td>2013</td>\n",
       "      <td>3ETUmNhL2JuCFFVNSpk8Bqx2eorxyP9FVh</td>\n",
       "    </tr>\n",
       "    <tr>\n",
       "      <th>4</th>\n",
       "      <td>eric</td>\n",
       "      <td>0.050000</td>\n",
       "      <td>2021</td>\n",
       "      <td>1LdRcdxfbSnmCYYNdeYpUnztiYzVfBEQeC</td>\n",
       "    </tr>\n",
       "  </tbody>\n",
       "</table>\n",
       "</div>"
      ],
      "text/plain": [
       "    name   bitcoins  year started                          public key\n",
       "0  alice   3.400000          2016  1LdRcdxfbSnmCYYNdeYpUnztiYzVfBEQeC\n",
       "1    bob   0.455500          2018  12ib7dApVFvg82TXKycWBNpN8kFyiAN1dr\n",
       "2  carol   5.424823          2015  1LdRcdxfbSnmCYYNdeYpUnztiYzVfBEQeC\n",
       "3  davin  20.250000          2013  3ETUmNhL2JuCFFVNSpk8Bqx2eorxyP9FVh\n",
       "4   eric   0.050000          2021  1LdRcdxfbSnmCYYNdeYpUnztiYzVfBEQeC"
      ]
     },
     "execution_count": 59,
     "metadata": {},
     "output_type": "execute_result"
    }
   ],
   "source": [
    "df = pd.DataFrame([['alice',3.4,2016, '1LdRcdxfbSnmCYYNdeYpUnztiYzVfBEQeC'],['bob',0.4555, 2018,'12ib7dApVFvg82TXKycWBNpN8kFyiAN1dr'], ['carol', 5.42482302, 2015, '1LdRcdxfbSnmCYYNdeYpUnztiYzVfBEQeC'], ['davin',20.25, 2013,'3ETUmNhL2JuCFFVNSpk8Bqx2eorxyP9FVh'], ['eric',0.05,2021, '1LdRcdxfbSnmCYYNdeYpUnztiYzVfBEQeC']], columns=['name', 'bitcoins', 'year started', 'public key'])\n",
    "df.head()"
   ]
  },
  {
   "cell_type": "code",
   "execution_count": 60,
   "metadata": {},
   "outputs": [
    {
     "data": {
      "image/png": "[encoded data removed]",
      "text/plain": [
       "<Figure size 1008x936 with 1 Axes>"
      ]
     },
     "metadata": {},
     "output_type": "display_data"
    }
   ],
   "source": [
    "fig, axes = plt.subplots(figsize=(14,13))\n",
    "axes.set(title=\"Amount of BTC held by everyone other than Davin\")\n",
    "axes.pie(df[df[\"bitcoins\"] < 20][\"bitcoins\"], labels=df[df[\"bitcoins\"] < 20][\"name\"],\\\n",
    "         explode=(0,0,0,0), shadow=True, startangle=310, autopct='%1.1f%%')\n",
    "plt.legend()\n",
    "plt.show()"
   ]
  },
  {
   "cell_type": "code",
   "execution_count": null,
   "metadata": {},
   "outputs": [],
   "source": []
  }
 ],
 "metadata": {
  "kernelspec": {
   "display_name": "Python 3",
   "language": "python",
   "name": "python3"
  },
  "language_info": {
   "codemirror_mode": {
    "name": "ipython",
    "version": 3
   },
   "file_extension": ".py",
   "mimetype": "text/x-python",
   "name": "python",
   "nbconvert_exporter": "python",
   "pygments_lexer": "ipython3",
   "version": "3.8.3"
  }
 },
 "nbformat": 4,
 "nbformat_minor": 5
}
