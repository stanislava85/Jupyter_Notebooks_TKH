{
 "cells": [
  {
   "cell_type": "code",
   "execution_count": null,
   "metadata": {},
   "outputs": [],
   "source": [
    "\n",
    "#how to convert a string into a integer and mantain the same amount of digits after decimal point\n",
    "number = '7.345'\n",
    "if '.' in number:\n",
    "    count_digits = len(number) - number.index('.') - 1\n",
    "new_number = int(''.join('7.345'.split('.'))) / 10 ** count_digits\n",
    "\n",
    "#how to remove commas in a string so we can then turn it into an integer\n",
    "''.join([elem for elem in '22,456,789' if elem != ','])"
   ]
  }
 ],
 "metadata": {
  "kernelspec": {
   "display_name": "Python 3",
   "language": "python",
   "name": "python3"
  },
  "language_info": {
   "codemirror_mode": {
    "name": "ipython",
    "version": 3
   },
   "file_extension": ".py",
   "mimetype": "text/x-python",
   "name": "python",
   "nbconvert_exporter": "python",
   "pygments_lexer": "ipython3",
   "version": "3.8.3"
  }
 },
 "nbformat": 4,
 "nbformat_minor": 4
}
