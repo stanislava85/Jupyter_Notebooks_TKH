{
 "cells": [
  {
   "cell_type": "code",
   "execution_count": 24,
   "metadata": {},
   "outputs": [
    {
     "name": "stdout",
     "output_type": "stream",
     "text": [
      "solution is correct\n"
     ]
    }
   ],
   "source": [
    "##Create a function that takes a list of strings and outputs a dictionary where the key is the string and \n",
    "##the value is the length of the corresponding string.\n",
    "\n",
    "l = ['', 'a', 'hello', 'world', 'python', 'data', 'science']\n",
    "def ex1(l):\n",
    "    d = {i:len(i) for i in l}\n",
    "    return d\n",
    "\n",
    "\n",
    "#ex1(l) \n",
    "    \n",
    "try:\n",
    "    assert(ex1(['']) == {'': 0})\n",
    "    assert(ex1(['a']) == {'a': 1})\n",
    "    assert(ex1(['hello', 'world']) == {'hello': 5, 'world': 5})\n",
    "    assert(ex1(['python', 'data', 'science']) == {'python': 6, 'data': 4, 'science': 7})\n",
    "    assert(ex1(['a']) == {'a': 1})\n",
    "    print(\"solution is correct\")\n",
    "except:\n",
    "    print(\"solution is incorrect\")"
   ]
  },
  {
   "cell_type": "code",
   "execution_count": 26,
   "metadata": {},
   "outputs": [
    {
     "data": {
      "text/plain": [
       "4"
      ]
     },
     "execution_count": 26,
     "metadata": {},
     "output_type": "execute_result"
    }
   ],
   "source": [
    "##create a Linked List Class\n",
    "\n",
    "class Node:\n",
    "    def __init__(self, data=None):\n",
    "        self.data = data\n",
    "        self.next = None\n",
    "        \n",
    "class LinkedList:\n",
    "    def __init__(self):\n",
    "        self.tail = None\n",
    "        self.head = None\n",
    "        self.count = 0\n",
    "        \n",
    "    def iterate_items(self):\n",
    "        current_item = self.head\n",
    "        while current_item:\n",
    "            val = current_item.data\n",
    "            current_item = current_item.next\n",
    "            yield val\n",
    "            \n",
    "    def append(self, data=None):\n",
    "        node = Node(data)\n",
    "        if self.tail:\n",
    "            self.tail.next = node\n",
    "            self.tail = node\n",
    "        else:\n",
    "            self.tail = node\n",
    "            self.head = node\n",
    "        self.count += 1\n",
    "        \n",
    "items = LinkedList()\n",
    "items.append('HTML')\n",
    "items.append('CSS')\n",
    "items.append('Javascript')\n",
    "items.append('Python')\n",
    "items.count\n",
    "for val in items.iterate_items():\n",
    "    print(val)    "
   ]
  },
  {
   "cell_type": "code",
   "execution_count": 27,
   "metadata": {},
   "outputs": [
    {
     "name": "stdout",
     "output_type": "stream",
     "text": [
      "solution is correct\n"
     ]
    }
   ],
   "source": [
    "s = {0,2,4,6,8,10}\n",
    "t = {0,1,3,5,7,9}\n",
    "\n",
    "m = s.intersection(t)\n",
    "\n",
    "try:\n",
    "    assert(m == {0})\n",
    "    print(\"solution is correct\")\n",
    "except:\n",
    "    print(\"solution is incorrect\")"
   ]
  },
  {
   "cell_type": "code",
   "execution_count": 39,
   "metadata": {},
   "outputs": [
    {
     "name": "stdout",
     "output_type": "stream",
     "text": [
      "solution is correct\n"
     ]
    }
   ],
   "source": [
    "##Fix the following class definition so that the code runs without error. (Only change the class definition).\n",
    "\n",
    "class Exercise5:\n",
    "    def __init__(self, num, lname, fname):\n",
    "        self.num = num\n",
    "        self.last_name = lname\n",
    "        self.first_name = fname\n",
    "        \n",
    "    @property\n",
    "    def get_attrs(self):\n",
    "        return [self.num, self.last_name, self.first_name]\n",
    "\n",
    "    \n",
    "instance = Exercise5('46', 'Biden', 'Joe')\n",
    "instance\n",
    "\n",
    "try:\n",
    "    assert(instance.get_attrs == ['46', 'Biden', 'Joe'])\n",
    "    print(\"solution is correct\")\n",
    "except:\n",
    "    print(\"solution is incorrect\")"
   ]
  },
  {
   "cell_type": "code",
   "execution_count": 49,
   "metadata": {},
   "outputs": [
    {
     "ename": "TypeError",
     "evalue": "isinstance() arg 2 must be a type or tuple of types",
     "output_type": "error",
     "traceback": [
      "\u001b[1;31m---------------------------------------------------------------------------\u001b[0m",
      "\u001b[1;31mTypeError\u001b[0m                                 Traceback (most recent call last)",
      "\u001b[1;32m<ipython-input-49-49eaa6ec101a>\u001b[0m in \u001b[0;36m<module>\u001b[1;34m\u001b[0m\n\u001b[0;32m     26\u001b[0m \u001b[0mtime3\u001b[0m \u001b[1;33m=\u001b[0m \u001b[0mTime\u001b[0m\u001b[1;33m(\u001b[0m\u001b[1;36m2\u001b[0m\u001b[1;33m,\u001b[0m \u001b[1;36m0\u001b[0m\u001b[1;33m)\u001b[0m\u001b[1;33m\u001b[0m\u001b[1;33m\u001b[0m\u001b[0m\n\u001b[0;32m     27\u001b[0m \u001b[1;33m\u001b[0m\u001b[0m\n\u001b[1;32m---> 28\u001b[1;33m \u001b[0mtime1\u001b[0m\u001b[1;33m.\u001b[0m\u001b[0m__add__\u001b[0m\u001b[1;33m(\u001b[0m\u001b[0mtime2\u001b[0m\u001b[1;33m)\u001b[0m\u001b[1;33m\u001b[0m\u001b[1;33m\u001b[0m\u001b[0m\n\u001b[0m\u001b[0;32m     29\u001b[0m \u001b[1;33m\u001b[0m\u001b[0m\n\u001b[0;32m     30\u001b[0m \u001b[1;31m# t3.__eq__(time3)\u001b[0m\u001b[1;33m\u001b[0m\u001b[1;33m\u001b[0m\u001b[1;33m\u001b[0m\u001b[0m\n",
      "\u001b[1;32m<ipython-input-49-49eaa6ec101a>\u001b[0m in \u001b[0;36m__add__\u001b[1;34m(self, other)\u001b[0m\n\u001b[0;32m     12\u001b[0m \u001b[1;33m\u001b[0m\u001b[0m\n\u001b[0;32m     13\u001b[0m     \u001b[1;32mdef\u001b[0m \u001b[0m__add__\u001b[0m\u001b[1;33m(\u001b[0m\u001b[0mself\u001b[0m\u001b[1;33m,\u001b[0m \u001b[0mother\u001b[0m\u001b[1;33m)\u001b[0m\u001b[1;33m:\u001b[0m\u001b[1;33m\u001b[0m\u001b[1;33m\u001b[0m\u001b[0m\n\u001b[1;32m---> 14\u001b[1;33m         \u001b[1;32mif\u001b[0m \u001b[0misinstance\u001b[0m\u001b[1;33m(\u001b[0m\u001b[0mTime\u001b[0m\u001b[1;33m,\u001b[0m \u001b[0mother\u001b[0m\u001b[1;33m)\u001b[0m\u001b[1;33m:\u001b[0m\u001b[1;33m\u001b[0m\u001b[1;33m\u001b[0m\u001b[0m\n\u001b[0m\u001b[0;32m     15\u001b[0m             \u001b[0madded_time\u001b[0m \u001b[1;33m=\u001b[0m \u001b[0mself\u001b[0m\u001b[1;33m.\u001b[0m\u001b[0mtotal_time\u001b[0m \u001b[1;33m+\u001b[0m \u001b[0mother\u001b[0m\u001b[1;33m.\u001b[0m\u001b[0mtotal_time\u001b[0m\u001b[1;33m\u001b[0m\u001b[1;33m\u001b[0m\u001b[0m\n\u001b[0;32m     16\u001b[0m             \u001b[1;32mreturn\u001b[0m \u001b[0mTime\u001b[0m\u001b[1;33m(\u001b[0m\u001b[0madded_time\u001b[0m \u001b[1;33m//\u001b[0m \u001b[1;36m60\u001b[0m\u001b[1;33m,\u001b[0m \u001b[0madded_time\u001b[0m \u001b[1;33m%\u001b[0m \u001b[1;36m60\u001b[0m\u001b[1;33m)\u001b[0m\u001b[1;33m\u001b[0m\u001b[1;33m\u001b[0m\u001b[0m\n",
      "\u001b[1;31mTypeError\u001b[0m: isinstance() arg 2 must be a type or tuple of types"
     ]
    }
   ],
   "source": [
    "##Create a class called Time that takes two arguments (hours and minutes) and sets them as instance attributes. Then create a function \n",
    "##that overloads the addition and equality operators so you can add the times together and then check if two instances are equal in time.\n",
    "\n",
    "class Time:\n",
    "    def __init__ (self, hours, minutes):\n",
    "        self.minutes = minutes\n",
    "        self.hours = hours\n",
    "        self.total_time = self.hours * 60 + self.minutes\n",
    "        \n",
    "    def __repr__(self):\n",
    "        return f\"<Time h:{self.hours} m:{self.minutes}>\"\n",
    "    \n",
    "    def __add__(self, other):\n",
    "        if isinstance(Time, other):\n",
    "            added_time = self.total_time + other.total_time\n",
    "            return Time(added_time // 60, added_time % 60)\n",
    "    \n",
    "    def __eq__(self,other):\n",
    "        if isinstance(other, Time):\n",
    "            return self.total_time == other.total_time\n",
    "        elif isinstance(other, tuple):\n",
    "            return other == ()\n",
    "\n",
    "time1 = Time(0, 30)\n",
    "time2 = Time(1, 30)\n",
    "time3 = Time(2, 0)\n",
    "\n",
    "time1.__add__(time2)\n",
    "\n",
    "# t3.__eq__(time3)\n",
    "\n",
    "# try:\n",
    "#     assert(time1 + time2 == time3)\n",
    "#     print(\"solution is correct\")\n",
    "# except:\n",
    "#     print(\"solution is incorrect\")"
   ]
  },
  {
   "cell_type": "code",
   "execution_count": 50,
   "metadata": {},
   "outputs": [
    {
     "name": "stdout",
     "output_type": "stream",
     "text": [
      "solution is correct\n"
     ]
    }
   ],
   "source": [
    "def ex8(*args):\n",
    "    return sum(args)\n",
    "        \n",
    "try:\n",
    "    assert(ex8(3,5,7) == 15)\n",
    "    assert(ex8(2,4) == 6)\n",
    "    assert(ex8(*range(10)) == 45)\n",
    "    print(\"solution is correct\")\n",
    "except:\n",
    "    print(\"solution is incorrect\")"
   ]
  },
  {
   "cell_type": "code",
   "execution_count": 57,
   "metadata": {},
   "outputs": [
    {
     "name": "stdout",
     "output_type": "stream",
     "text": [
      "solution is correct\n"
     ]
    }
   ],
   "source": [
    "def decorator(something):\n",
    "    def wrapper():\n",
    "        return (f\"<a>{something()}</a>\")\n",
    "    return wrapper\n",
    "\n",
    "@decorator\n",
    "def func():\n",
    "    return (\"hello world\")\n",
    "\n",
    "func()\n",
    "\n",
    "try:\n",
    "    assert(func() == '<a>hello world</a>')\n",
    "    print(\"solution is correct\")\n",
    "except:\n",
    "    print(\"solution is incorrect\")"
   ]
  },
  {
   "cell_type": "code",
   "execution_count": 91,
   "metadata": {},
   "outputs": [
    {
     "name": "stdout",
     "output_type": "stream",
     "text": [
      "solution is incorrect\n"
     ]
    }
   ],
   "source": [
    "#l = [(str(i), str(j)) for i in range(2) for j in range(2)]\n",
    "\n",
    "try:\n",
    "    assert(l == [('0', '0'), ('0', '1'), ('1', '0'), ('1', '1')])\n",
    "    print(\"solution is correct\")\n",
    "except:\n",
    "    print(\"solution is incorrect\")"
   ]
  },
  {
   "cell_type": "code",
   "execution_count": 89,
   "metadata": {},
   "outputs": [
    {
     "name": "stdout",
     "output_type": "stream",
     "text": [
      "solution is correct\n"
     ]
    }
   ],
   "source": [
    "lst = ['a', 'b', 'c']\n",
    "d = {i:['*'] for i in lst}\n",
    "d\n",
    "\n",
    "try:\n",
    "    assert(d == {'a': ['*'], 'b': ['*'], 'c': ['*']})\n",
    "    print(\"solution is correct\")\n",
    "except:\n",
    "    print(\"solution is incorrect\")"
   ]
  },
  {
   "cell_type": "code",
   "execution_count": 101,
   "metadata": {},
   "outputs": [
    {
     "name": "stdout",
     "output_type": "stream",
     "text": [
      "solution is correct\n"
     ]
    }
   ],
   "source": [
    "##Create a lambda expression that takes a and b and computes c:\n",
    "##a^2 + b^2 = c^2 \n",
    "\n",
    "from math import sqrt\n",
    "\n",
    "f = lambda a,b: sqrt(a**2 + b**2)\n",
    "\n",
    "\n",
    "try:\n",
    "    assert(f(3,4) == 5.0)\n",
    "    assert(f(5,12) == 13.0)\n",
    "    print(\"solution is correct\")\n",
    "except:\n",
    "    print(\"solution is incorrect\")"
   ]
  },
  {
   "cell_type": "code",
   "execution_count": 113,
   "metadata": {},
   "outputs": [
    {
     "name": "stdout",
     "output_type": "stream",
     "text": [
      "solution is correct\n"
     ]
    }
   ],
   "source": [
    "##Write a function that recursively calculates the following if n is greater than 0. If n is less than 0, return 0.5.\n",
    "## n = (n-1) + (n-1)\n",
    "\n",
    "def ex14(n):\n",
    "    if n < 0:\n",
    "        return 0.5\n",
    "    else:\n",
    "        return ex14(n-1) + ex14(n-1)\n",
    "        \n",
    "ex14(2)\n",
    "\n",
    "try:\n",
    "    assert(ex14(1) == 2**1)\n",
    "    assert(ex14(2) == 2**2) \n",
    "    assert(ex14(3) == 2**3) \n",
    "    assert(ex14(4) == 2**4) \n",
    "    assert(ex14(10) == 2**10) \n",
    "    print(\"solution is correct\")\n",
    "except:\n",
    "    print(\"solution is incorrect\")"
   ]
  },
  {
   "cell_type": "raw",
   "metadata": {},
   "source": []
  },
  {
   "cell_type": "code",
   "execution_count": 121,
   "metadata": {},
   "outputs": [
    {
     "data": {
      "text/plain": [
       "{'Date': 'Mon, 14 Dec 2020 17:29:50 GMT', 'Content-Type': 'text/html; charset=utf-8', 'Content-Length': '9593', 'Connection': 'keep-alive', 'Server': 'gunicorn/19.9.0', 'Access-Control-Allow-Origin': '*', 'Access-Control-Allow-Credentials': 'true'}"
      ]
     },
     "execution_count": 121,
     "metadata": {},
     "output_type": "execute_result"
    }
   ],
   "source": [
    "import requests\n",
    "\n",
    "\n",
    "def get_headers(url):\n",
    "    r = requests.get(url)\n",
    "    return r.headers\n",
    "    \n",
    "get_headers(\"https://www.httpbin.org\")"
   ]
  },
  {
   "cell_type": "code",
   "execution_count": 126,
   "metadata": {},
   "outputs": [
    {
     "name": "stdin",
     "output_type": "stream",
     "text": [
      "use this input juiwfhfaoofoiifahflashfsaihfipashfpiasncksncasihfiashfpaf\n"
     ]
    },
    {
     "name": "stdout",
     "output_type": "stream",
     "text": [
      "juiwfhfaoofoiifahflashfsaihfipashfpiasncksncasihfiashfpaf\n"
     ]
    }
   ],
   "source": [
    "##Write a ternary operator that sets the variable s to an input if the length of the input is greater than \n",
    "##25 characters, otherwise set s to None\n",
    "\n",
    "m = input(\"use this input\")\n",
    "\n",
    "if len(m) > 25:\n",
    "    s = m \n",
    "else:\n",
    "    s = None\n",
    "\n",
    "print(s)"
   ]
  },
  {
   "cell_type": "code",
   "execution_count": 132,
   "metadata": {},
   "outputs": [
    {
     "name": "stdout",
     "output_type": "stream",
     "text": [
      "{'menu': {'id': 'file', 'value': 'File', 'popup': {'menuitem': [{'value': 'New', 'onclick': 'CreateNewDoc()'}, {'value': 'Open', 'onclick': 'OpenDoc()'}, {'value': 'Close', 'onclick': 'CloseDoc()'}]}}}\n"
     ]
    },
    {
     "data": {
      "text/plain": [
       "[{'value': 'New', 'onclick': 'CreateNewDoc()'},\n",
       " {'value': 'Open', 'onclick': 'OpenDoc()'},\n",
       " {'value': 'Close', 'onclick': 'CloseDoc()'}]"
      ]
     },
     "execution_count": 132,
     "metadata": {},
     "output_type": "execute_result"
    }
   ],
   "source": [
    "##Using the json library, output the value of the key menuitem.\n",
    "import json\n",
    "\n",
    "\n",
    "s = \"\"\"{\"menu\": {\n",
    "  \"id\": \"file\",\n",
    "  \"value\": \"File\",\n",
    "  \"popup\": {\n",
    "    \"menuitem\": [\n",
    "      {\"value\": \"New\", \"onclick\": \"CreateNewDoc()\"},\n",
    "      {\"value\": \"Open\", \"onclick\": \"OpenDoc()\"},\n",
    "      {\"value\": \"Close\", \"onclick\": \"CloseDoc()\"}\n",
    "    ]\n",
    "  }\n",
    "}}\"\"\"\n",
    "\n",
    "\n",
    "d = json.loads(s)\n",
    "print(d)\n",
    "\n",
    "d[\"menu\"][\"popup\"][\"menuitem\"]"
   ]
  },
  {
   "cell_type": "code",
   "execution_count": 127,
   "metadata": {},
   "outputs": [
    {
     "name": "stdout",
     "output_type": "stream",
     "text": [
      "login1\n"
     ]
    }
   ],
   "source": [
    "import json\n",
    "import sys\n",
    "\n",
    "data={\n",
    "   \"status\": \"SUCCESS\",\n",
    "   \"device\": [\n",
    "         {\n",
    "             \"model\":\"XXXX-A\",\n",
    "             \"username\": \"login1\",\n",
    "             \"ip\": \"10.10.10.1\",\n",
    "             \"password\": \"123\",\n",
    "             \"device_type\": \"cisco_ios\"\n",
    "         },\n",
    "         {\n",
    "             \"model\":\"XXXX-A\",\n",
    "             \"username\": \"login2\",\n",
    "             \"ip\": \"10.10.10.2\",\n",
    "             \"password\": \"456\",\n",
    "             \"device_type\": \"cisco_ios\"\n",
    "         },\n",
    "         {\n",
    "             \"model\":\"XXXX-A\",\n",
    "             \"username\": \"login3\",\n",
    "             \"ip\": \"10.10.10.3\",\n",
    "             \"password\": \"test\",\n",
    "             \"device_type\": \"cisco_ios\"\n",
    "         }\n",
    "    ]\n",
    "}\n",
    "json_str = json.dumps(data)\n",
    "resp = json.loads(json_str)\n",
    "print (resp['device'][0]['username'])"
   ]
  },
  {
   "cell_type": "code",
   "execution_count": 137,
   "metadata": {},
   "outputs": [
    {
     "name": "stdout",
     "output_type": "stream",
     "text": [
      "solution is correct\n"
     ]
    }
   ],
   "source": [
    "##Using a slice, output the even numbers backwards\n",
    "\n",
    "s = [1,2,3,4,5,6,7,8,9,10]\n",
    "\n",
    "s = s[::-2]\n",
    "s\n",
    "\n",
    "try:\n",
    "    assert(s == [10, 8, 6, 4, 2])\n",
    "    print(\"solution is correct\")\n",
    "except:\n",
    "    print(\"solution is incorrect\")"
   ]
  },
  {
   "cell_type": "code",
   "execution_count": null,
   "metadata": {},
   "outputs": [],
   "source": []
  }
 ],
 "metadata": {
  "kernelspec": {
   "display_name": "Python 3",
   "language": "python",
   "name": "python3"
  },
  "language_info": {
   "codemirror_mode": {
    "name": "ipython",
    "version": 3
   },
   "file_extension": ".py",
   "mimetype": "text/x-python",
   "name": "python",
   "nbconvert_exporter": "python",
   "pygments_lexer": "ipython3",
   "version": "3.8.3"
  }
 },
 "nbformat": 4,
 "nbformat_minor": 4
}
