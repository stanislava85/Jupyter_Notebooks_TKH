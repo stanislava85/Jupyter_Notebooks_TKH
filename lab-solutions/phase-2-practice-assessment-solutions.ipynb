{
 "cells": [
  {
   "cell_type": "markdown",
   "id": "vocational-capital",
   "metadata": {},
   "source": [
    "<div style=\"background: #000;\n",
    "            color: #FFF;\n",
    "            margin: 0px;\n",
    "            padding: 10px 0px 20px 0px;\n",
    "            text-align: center; \n",
    "                \">\n",
    "    <h1>Phase 2 Practice Assessment</h1>\n",
    "</div>"
   ]
  },
  {
   "cell_type": "code",
   "execution_count": 2,
   "id": "boring-connecticut",
   "metadata": {},
   "outputs": [],
   "source": [
    "import pandas as pd\n",
    "import numpy as np\n",
    "import matplotlib.pyplot as plt\n",
    "import seaborn as sns"
   ]
  },
  {
   "cell_type": "markdown",
   "id": "nuclear-scheduling",
   "metadata": {},
   "source": [
    "# Multiple Choice Questions \n",
    "\n",
    "**[5% each; 25% total]**\n",
    "\n",
    "**1. What is a main benefit of test-driven development?**\n",
    "\n",
    "**a.** Less money needed  \n",
    "**b.** More fun   \n",
    "**c.** Slower development  \n",
    "**d.** Fewer bugs to deal with  "
   ]
  },
  {
   "cell_type": "raw",
   "id": "cutting-junior",
   "metadata": {},
   "source": []
  },
  {
   "cell_type": "markdown",
   "id": "western-resort",
   "metadata": {},
   "source": [
    "**2. What would we use to calculate the number of ways we could arrange 20 students into a 5 person committee if we didn't care about committees having the same 5 members?**\n",
    "\n",
    "**a.** Factorial  \n",
    "**b.** Permutation  \n",
    "**c.** Combination  \n",
    "**d.** Probability Mass Function  "
   ]
  },
  {
   "cell_type": "raw",
   "id": "occupational-rhythm",
   "metadata": {},
   "source": []
  },
  {
   "cell_type": "markdown",
   "id": "possible-regular",
   "metadata": {},
   "source": [
    "**3. What is the set of possible outcomes for a random variable called?**\n",
    "\n",
    "**a.** Event Space  \n",
    "**b.** Experiment    \n",
    "**c.** Sample Space   \n",
    "**d.** Probability Distribution  "
   ]
  },
  {
   "cell_type": "raw",
   "id": "informational-navigation",
   "metadata": {},
   "source": []
  },
  {
   "cell_type": "markdown",
   "id": "graphic-export",
   "metadata": {},
   "source": [
    "**4. Multiplying a matrix by its inverse results in what type of matrix**\n",
    "\n",
    "**a.** Square Matrix  \n",
    "**b.** The Matrix Trilogy  \n",
    "**c.** Zero Matrix  \n",
    "**d.** Identity Matrix  "
   ]
  },
  {
   "cell_type": "raw",
   "id": "found-somerset",
   "metadata": {},
   "source": []
  },
  {
   "cell_type": "markdown",
   "id": "interracial-significance",
   "metadata": {},
   "source": [
    "**5. What's a consequence of underfitting?**\n",
    "\n",
    "**a.** Incorrect predictions   \n",
    "**b.** High bias  \n",
    "**c.** Getting fired    \n",
    "**d.** High variance  "
   ]
  },
  {
   "cell_type": "raw",
   "id": "indoor-aging",
   "metadata": {},
   "source": []
  },
  {
   "cell_type": "markdown",
   "id": "vital-transformation",
   "metadata": {},
   "source": [
    "# Python \n",
    "\n",
    "**[5% each; 25% total]** \n",
    "\n",
    "\n",
    "**1. Implement a binary tree in a python class that has the four methods we've covered.**"
   ]
  },
  {
   "cell_type": "code",
   "execution_count": null,
   "id": "legendary-monitoring",
   "metadata": {},
   "outputs": [],
   "source": [
    "2**-1"
   ]
  },
  {
   "cell_type": "markdown",
   "id": "arabic-sacramento",
   "metadata": {},
   "source": [
    "**2. Create a generator function that yields a power of 2 every time it's used. Demonstrate that it works.**"
   ]
  },
  {
   "cell_type": "code",
   "execution_count": null,
   "id": "economic-cincinnati",
   "metadata": {},
   "outputs": [],
   "source": []
  },
  {
   "cell_type": "markdown",
   "id": "roman-prototype",
   "metadata": {},
   "source": [
    "**3. Convert the numbers 718 and 917 into binary values and then XOR them.**"
   ]
  },
  {
   "cell_type": "code",
   "execution_count": null,
   "id": "scientific-biography",
   "metadata": {},
   "outputs": [],
   "source": []
  },
  {
   "cell_type": "markdown",
   "id": "medium-beverage",
   "metadata": {},
   "source": [
    "**4. Create a dataclass that has the following attributes: name, age, grade and course.**"
   ]
  },
  {
   "cell_type": "code",
   "execution_count": null,
   "id": "genuine-department",
   "metadata": {},
   "outputs": [],
   "source": []
  },
  {
   "cell_type": "markdown",
   "id": "unauthorized-pacific",
   "metadata": {},
   "source": [
    "**5. Convert the following formula into a python function. Then use it to calculate the the standard deviation of the list.**\n",
    "\n",
    "$$ \\sigma = \\sqrt{\\frac{1}{N}\\sum_{i=1}^{N}(x_i - \\mu)^{2}}$$"
   ]
  },
  {
   "cell_type": "code",
   "execution_count": null,
   "id": "located-arthur",
   "metadata": {},
   "outputs": [],
   "source": [
    "l = [10, 12, 23, 23, 16, 23, 21, 16]\n"
   ]
  },
  {
   "cell_type": "markdown",
   "id": "included-america",
   "metadata": {},
   "source": [
    "# Machine Learning Questions \n",
    "\n",
    "**1. Why would we not want a macine learning model to perfectly fit the data we used to train it?**"
   ]
  },
  {
   "cell_type": "code",
   "execution_count": null,
   "id": "intermediate-transportation",
   "metadata": {},
   "outputs": [],
   "source": []
  },
  {
   "cell_type": "markdown",
   "id": "superb-logan",
   "metadata": {},
   "source": [
    "**2. What assumption must we make in order to do a linear regressions? Why do we make this assumption?**"
   ]
  },
  {
   "cell_type": "code",
   "execution_count": null,
   "id": "angry-muscle",
   "metadata": {},
   "outputs": [],
   "source": []
  },
  {
   "cell_type": "markdown",
   "id": "posted-assault",
   "metadata": {},
   "source": [
    "**3. Explain what variance is and why increasing the complexity of our model causes it. What sacrifice might we make by lowering the complexity of our model?**"
   ]
  },
  {
   "cell_type": "code",
   "execution_count": null,
   "id": "resident-caribbean",
   "metadata": {},
   "outputs": [],
   "source": []
  },
  {
   "cell_type": "markdown",
   "id": "asian-broadcasting",
   "metadata": {},
   "source": [
    "# Numpy\n",
    "\n",
    "**This section is worth 12.5%**\n",
    "\n",
    "**1. Create an array of array of numbers from 1 to 100. Then use that array to get the results of the following formula for all of those values.**\n",
    "\n",
    "$$ y = x^{2}-x-6$$"
   ]
  },
  {
   "cell_type": "code",
   "execution_count": null,
   "id": "ordinary-sacramento",
   "metadata": {},
   "outputs": [],
   "source": []
  },
  {
   "cell_type": "markdown",
   "id": "serious-brunswick",
   "metadata": {},
   "source": [
    "**2. Create two arrays containing the following matrices. Then prove they are inverses.**\n",
    "\n",
    "$$ A = \\begin{bmatrix}\n",
    "5&2\\\\\n",
    "-7&-3\\\\\n",
    "\\end{bmatrix}$$\n",
    "\n",
    "$$ B = \\begin{bmatrix}\n",
    "3&2\\\\\n",
    "-7&-5\\\\\n",
    "\\end{bmatrix}$$"
   ]
  },
  {
   "cell_type": "code",
   "execution_count": null,
   "id": "partial-lighter",
   "metadata": {},
   "outputs": [],
   "source": []
  },
  {
   "cell_type": "markdown",
   "id": "molecular-nebraska",
   "metadata": {},
   "source": [
    "**3. Create an array using the following matrix so we have the values from the odd rows of the even columns.**\n",
    "\n",
    "Odd rows meaning rows with odd indices. Even columns meaning columns with even indices."
   ]
  },
  {
   "cell_type": "code",
   "execution_count": null,
   "id": "silent-saturday",
   "metadata": {},
   "outputs": [],
   "source": [
    "a = np.array([[1,2,3,4,5,6,7],[8,9,10,11,12,13,14],[15,16,17,18,19,20,21]])\n",
    "a"
   ]
  },
  {
   "cell_type": "code",
   "execution_count": null,
   "id": "spiritual-checkout",
   "metadata": {},
   "outputs": [],
   "source": []
  },
  {
   "cell_type": "markdown",
   "id": "entertaining-quilt",
   "metadata": {},
   "source": [
    "**4. Create a square matrix containing the first 9 values of the following function. Reverse it and then flatten it. Show all of your code.**\n",
    "\n",
    "$$ y = |x|$$\n"
   ]
  },
  {
   "cell_type": "code",
   "execution_count": null,
   "id": "hindu-dispatch",
   "metadata": {},
   "outputs": [],
   "source": []
  },
  {
   "cell_type": "markdown",
   "id": "based-calculator",
   "metadata": {},
   "source": [
    "**5. Create a sqaure numpy array of random numbers. Sort the array and then concatenate it with a similar sized matrix of zeros. Then compute the mean. Show all work.**"
   ]
  },
  {
   "cell_type": "code",
   "execution_count": null,
   "id": "infrared-latitude",
   "metadata": {},
   "outputs": [],
   "source": []
  },
  {
   "cell_type": "markdown",
   "id": "banner-flexibility",
   "metadata": {},
   "source": [
    "# Pandas \n",
    "\n",
    "**This section is worth 12.5%**\n",
    "\n",
    "The questions for this section use the dataframe below:"
   ]
  },
  {
   "cell_type": "code",
   "execution_count": 4,
   "id": "developed-sample",
   "metadata": {},
   "outputs": [
    {
     "data": {
      "text/html": [
       "<div>\n",
       "<style scoped>\n",
       "    .dataframe tbody tr th:only-of-type {\n",
       "        vertical-align: middle;\n",
       "    }\n",
       "\n",
       "    .dataframe tbody tr th {\n",
       "        vertical-align: top;\n",
       "    }\n",
       "\n",
       "    .dataframe thead th {\n",
       "        text-align: right;\n",
       "    }\n",
       "</style>\n",
       "<table border=\"1\" class=\"dataframe\">\n",
       "  <thead>\n",
       "    <tr style=\"text-align: right;\">\n",
       "      <th></th>\n",
       "      <th>student</th>\n",
       "      <th>hws completed</th>\n",
       "      <th>test grade</th>\n",
       "      <th>project grade</th>\n",
       "      <th>final score</th>\n",
       "    </tr>\n",
       "  </thead>\n",
       "  <tbody>\n",
       "    <tr>\n",
       "      <th>0</th>\n",
       "      <td>alice</td>\n",
       "      <td>9</td>\n",
       "      <td>50</td>\n",
       "      <td>NaN</td>\n",
       "      <td>75.0</td>\n",
       "    </tr>\n",
       "    <tr>\n",
       "      <th>1</th>\n",
       "      <td>bob</td>\n",
       "      <td>5</td>\n",
       "      <td>75</td>\n",
       "      <td>NaN</td>\n",
       "      <td>65.0</td>\n",
       "    </tr>\n",
       "    <tr>\n",
       "      <th>2</th>\n",
       "      <td>carol</td>\n",
       "      <td>8</td>\n",
       "      <td>90</td>\n",
       "      <td>NaN</td>\n",
       "      <td>90.0</td>\n",
       "    </tr>\n",
       "    <tr>\n",
       "      <th>3</th>\n",
       "      <td>dave</td>\n",
       "      <td>8</td>\n",
       "      <td>85</td>\n",
       "      <td>90.0</td>\n",
       "      <td>85.0</td>\n",
       "    </tr>\n",
       "    <tr>\n",
       "      <th>4</th>\n",
       "      <td>erica</td>\n",
       "      <td>9</td>\n",
       "      <td>95</td>\n",
       "      <td>100.0</td>\n",
       "      <td>95.0</td>\n",
       "    </tr>\n",
       "    <tr>\n",
       "      <th>5</th>\n",
       "      <td>frank</td>\n",
       "      <td>0</td>\n",
       "      <td>30</td>\n",
       "      <td>60.0</td>\n",
       "      <td>30.0</td>\n",
       "    </tr>\n",
       "    <tr>\n",
       "      <th>6</th>\n",
       "      <td>gina</td>\n",
       "      <td>10</td>\n",
       "      <td>85</td>\n",
       "      <td>100.0</td>\n",
       "      <td>NaN</td>\n",
       "    </tr>\n",
       "    <tr>\n",
       "      <th>7</th>\n",
       "      <td>hector</td>\n",
       "      <td>10</td>\n",
       "      <td>95</td>\n",
       "      <td>NaN</td>\n",
       "      <td>95.0</td>\n",
       "    </tr>\n",
       "    <tr>\n",
       "      <th>8</th>\n",
       "      <td>ivan</td>\n",
       "      <td>9</td>\n",
       "      <td>85</td>\n",
       "      <td>90.0</td>\n",
       "      <td>NaN</td>\n",
       "    </tr>\n",
       "    <tr>\n",
       "      <th>9</th>\n",
       "      <td>john</td>\n",
       "      <td>5</td>\n",
       "      <td>70</td>\n",
       "      <td>80.0</td>\n",
       "      <td>NaN</td>\n",
       "    </tr>\n",
       "  </tbody>\n",
       "</table>\n",
       "</div>"
      ],
      "text/plain": [
       "  student  hws completed  test grade  project grade  final score\n",
       "0   alice              9          50            NaN         75.0\n",
       "1     bob              5          75            NaN         65.0\n",
       "2   carol              8          90            NaN         90.0\n",
       "3    dave              8          85           90.0         85.0\n",
       "4   erica              9          95          100.0         95.0\n",
       "5   frank              0          30           60.0         30.0\n",
       "6    gina             10          85          100.0          NaN\n",
       "7  hector             10          95            NaN         95.0\n",
       "8    ivan              9          85           90.0          NaN\n",
       "9    john              5          70           80.0          NaN"
      ]
     },
     "execution_count": 4,
     "metadata": {},
     "output_type": "execute_result"
    }
   ],
   "source": [
    "df = pd.DataFrame([\n",
    "[\"alice\", 9, 50, np.nan,75],\n",
    "[\"bob\", 5, 75, np.nan, 65],\n",
    "[\"carol\", 8, 90, np.nan, 90],\n",
    "[\"dave\", 8, 85, 90, 85],\n",
    "[\"erica\", 9, 95, 100, 95],\n",
    "[\"frank\", 0, 30, 60, 30],\n",
    "[\"gina\", 10,85, 100, np.nan],\n",
    "[\"hector\", 10, 95, np.nan, 95],\n",
    "[\"ivan\", 9,85, 90, np.nan],\n",
    "[\"john\", 5,70, 80, np.nan]\n",
    "], columns=['student', 'hws completed', 'test grade', 'project grade', 'final score'])\n",
    "\n",
    "df"
   ]
  },
  {
   "cell_type": "markdown",
   "id": "vocational-graduate",
   "metadata": {},
   "source": [
    "**1. Fix the `\"hws completed\"` column by turning the number of hws completed into a percentage (and optionally changing the column name to `\"hw grade\"` since it now represents the hw grade after fixing). There were 10 hws in the semester and students got 100% on each hw they completed.**"
   ]
  },
  {
   "cell_type": "code",
   "execution_count": 8,
   "id": "accessible-abuse",
   "metadata": {},
   "outputs": [
    {
     "data": {
      "text/plain": [
       "88.33333333333333"
      ]
     },
     "execution_count": 8,
     "metadata": {},
     "output_type": "execute_result"
    }
   ],
   "source": [
    "(90 + 85 + 90)/3"
   ]
  },
  {
   "cell_type": "markdown",
   "id": "dental-diagnosis",
   "metadata": {},
   "source": [
    "**2. Fix the missing values in the column `\"project grade\"` using the following formula**.\n",
    "\n",
    "$$ \\textbf{final grade} = \\frac{\\textbf{hw grade} + \\textbf{test grade} + \\textbf{project grade}}{3} $$"
   ]
  },
  {
   "cell_type": "code",
   "execution_count": null,
   "id": "settled-colleague",
   "metadata": {},
   "outputs": [],
   "source": []
  },
  {
   "cell_type": "markdown",
   "id": "freelance-ancient",
   "metadata": {},
   "source": [
    "**3. Fix the missing values in the column `\"final grade\"` using the formula from the previous exercise.**"
   ]
  },
  {
   "cell_type": "code",
   "execution_count": null,
   "id": "attempted-thermal",
   "metadata": {},
   "outputs": [],
   "source": []
  },
  {
   "cell_type": "markdown",
   "id": "respected-eating",
   "metadata": {},
   "source": [
    "**4. Filter our dataframe and output the top 3 students by final grade.**"
   ]
  },
  {
   "cell_type": "code",
   "execution_count": null,
   "id": "above-algebra",
   "metadata": {},
   "outputs": [],
   "source": []
  },
  {
   "cell_type": "markdown",
   "id": "viral-commissioner",
   "metadata": {},
   "source": [
    "**5. Calculate the average grade for each of our four columns.**"
   ]
  },
  {
   "cell_type": "code",
   "execution_count": null,
   "id": "tutorial-hepatitis",
   "metadata": {},
   "outputs": [],
   "source": []
  },
  {
   "cell_type": "markdown",
   "id": "favorite-citizen",
   "metadata": {},
   "source": [
    "# SQL \n",
    "\n",
    "Carol just received a job offer for a position as data scientist paying \\$140,000. Given the following sql database, update her information to reflect this new position."
   ]
  },
  {
   "cell_type": "code",
   "execution_count": null,
   "id": "hybrid-input",
   "metadata": {},
   "outputs": [],
   "source": [
    "# run this cell to set up your sqlite3 db.\n",
    "import sqlite3\n",
    "\n",
    "sql_commands = \\\n",
    "\"\"\"\n",
    "DROP TABLE IF EXISTS employees;\n",
    "\n",
    "CREATE TABLE employees (\n",
    " id INTEGER PRIMARY KEY,\n",
    " name TEXT NOT NULL,\n",
    " position TEXT NOT NULL,\n",
    " salary INTEGER NOT NULL\n",
    ");\n",
    "\n",
    "INSERT INTO employees \n",
    "(name, position, salary)\n",
    "VALUES \n",
    "('Alice', 'software engineer', 120000),\n",
    "('Bob', 'web developer',  80000),\n",
    "('Carol', 'intern', 10000);\n",
    "\"\"\"\n",
    "\n",
    "db = sqlite3.connect('employees.db')\n",
    "cursor = db.cursor()\n",
    "cursor.executescript(sql_commands)\n",
    "db.commit()\n",
    "db.close()"
   ]
  },
  {
   "cell_type": "code",
   "execution_count": null,
   "id": "southeast-patio",
   "metadata": {},
   "outputs": [],
   "source": [
    "# use this function for your answers.\n",
    "def with_conn(statement):\n",
    "    conn = sqlite3.connect('employees.db')\n",
    "    with conn:\n",
    "        cur = conn.cursor()\n",
    "        cur.execute(statement)\n",
    "        result = cur.fetchall()\n",
    "        return result "
   ]
  },
  {
   "cell_type": "code",
   "execution_count": null,
   "id": "diagnostic-thing",
   "metadata": {},
   "outputs": [],
   "source": [
    "with_conn(';')"
   ]
  },
  {
   "cell_type": "markdown",
   "id": "strategic-clause",
   "metadata": {},
   "source": [
    "# Matplotlib \n",
    "**This section is worth 5%**\n",
    "\n",
    "Using the following dataset, create a chart of the data using the right chart to convey the information. Make sure your chart is professional looking, utilizing axis labeling and a proper title. "
   ]
  },
  {
   "cell_type": "code",
   "execution_count": null,
   "id": "classical-fifteen",
   "metadata": {},
   "outputs": [],
   "source": [
    "df = pd.DataFrame([['alice',3.4,2016, '1LdRcdxfbSnmCYYNdeYpUnztiYzVfBEQeC'],['bob',0.4555, 2018,'12ib7dApVFvg82TXKycWBNpN8kFyiAN1dr'], ['carol', 5.42482302, 2015, '1LdRcdxfbSnmCYYNdeYpUnztiYzVfBEQeC'], ['davin',20.25, 2013,'3ETUmNhL2JuCFFVNSpk8Bqx2eorxyP9FVh'], ['eric',0.05,2021, '1LdRcdxfbSnmCYYNdeYpUnztiYzVfBEQeC']], columns=['name', 'bitcoins', 'year started', 'public key'])\n",
    "df.head()"
   ]
  },
  {
   "cell_type": "code",
   "execution_count": null,
   "id": "reduced-theater",
   "metadata": {},
   "outputs": [],
   "source": []
  }
 ],
 "metadata": {
  "kernelspec": {
   "display_name": "Python 3",
   "language": "python",
   "name": "python3"
  },
  "language_info": {
   "codemirror_mode": {
    "name": "ipython",
    "version": 3
   },
   "file_extension": ".py",
   "mimetype": "text/x-python",
   "name": "python",
   "nbconvert_exporter": "python",
   "pygments_lexer": "ipython3",
   "version": "3.9.1"
  }
 },
 "nbformat": 4,
 "nbformat_minor": 5
}
