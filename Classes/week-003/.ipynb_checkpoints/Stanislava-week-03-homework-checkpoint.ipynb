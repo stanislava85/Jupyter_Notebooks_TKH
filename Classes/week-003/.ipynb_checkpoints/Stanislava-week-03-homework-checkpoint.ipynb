{
 "cells": [
  {
   "cell_type": "markdown",
   "metadata": {},
   "source": [
    "<div style=\"background: #000;\n",
    "            color: #FFF;\n",
    "            margin: 0px;\n",
    "                padding: 10px 0px 20px 0px;\n",
    "            text-align: center; \n",
    "                \">\n",
    "    <h1>Week 3 - Homework</h1>\n",
    "</div>\n",
    "\n",
    "<hr>\n",
    "\n",
    "Exercise 1 and 2 will be presented Tuesday.  \n",
    "Exercise 3 and 4 will be presented Wednesday. \n",
    "<hr>"
   ]
  },
  {
   "cell_type": "markdown",
   "metadata": {},
   "source": [
    "# Exercise 1\n",
    "\n",
    "Write a for loop that sums the values of the following list and appends the different values to the correct list.\n",
    "\n",
    "Remember what we learned about the value of an `int` and `str`.\n",
    "\n",
    "Hint: try one part before the other."
   ]
  },
  {
   "cell_type": "code",
   "execution_count": 9,
   "metadata": {},
   "outputs": [
    {
     "name": "stdout",
     "output_type": "stream",
     "text": [
      "list_vals is correct\n"
     ]
    }
   ],
   "source": [
    "# list to sum\n",
    "list_vals = [82,True,'d',False,'v',7301,False,1,True,'x','F','w','Q','f',True]\n",
    "import hashlib;print(\"list_vals is correct\" if hashlib.md5(str(list_vals).encode()).hexdigest() == '867f5d64395c44f016668cc442fb650c' else \"list_vals is incorrect\")"
   ]
  },
  {
   "cell_type": "code",
   "execution_count": 20,
   "metadata": {},
   "outputs": [
    {
     "name": "stdout",
     "output_type": "stream",
     "text": [
      "8097\n",
      "5\n",
      "3\n",
      "7\n"
     ]
    }
   ],
   "source": [
    "list_for_bools = []\n",
    "list_for_ints = []\n",
    "list_for_chars = []\n",
    "sum_of_all = 0\n",
    "\n",
    "for i in list_vals:\n",
    "    if type(i) == bool:\n",
    "        list_for_bools.append(i)\n",
    "        #print(list_for_bools)\n",
    "    elif type(i) == int:\n",
    "        list_for_ints.append(i)\n",
    "        #print(list_for_ints)\n",
    "    else:\n",
    "        list_for_chars.append(i)\n",
    "        #print(list_for_chars)\n",
    "        \n",
    "#print(list_for_bools)\n",
    "#print(list_for_ints)\n",
    "#print(list_for_chars)\n",
    "        \n",
    "for i in list_vals:\n",
    "    if type(i) == int:\n",
    "        sum_of_all += i\n",
    "    elif type(i) == bool:\n",
    "        sum_of_all += i\n",
    "    else:\n",
    "        sum_of_all += ord(i)\n",
    "\n",
    "\n",
    "# use the following to output your results:\n",
    "print(sum_of_all)\n",
    "print(len(list_for_bools))\n",
    "print(len(list_for_ints))\n",
    "print(len(list_for_chars))"
   ]
  },
  {
   "cell_type": "markdown",
   "metadata": {},
   "source": [
    "### Notes: \n",
    "`sum == 8099`  \n",
    "`len(list_for_bools) == 3`  \n",
    "`len(list_for_ints) == 5`   \n",
    "`len(list_for_ints) == 7`   "
   ]
  },
  {
   "cell_type": "markdown",
   "metadata": {},
   "source": [
    "# Exercise 2\n",
    "\n",
    "Given a tuple of strings. Find the following value `x` and print it. The loop should end when `x` is found"
   ]
  },
  {
   "cell_type": "code",
   "execution_count": 2,
   "metadata": {},
   "outputs": [
    {
     "name": "stdout",
     "output_type": "stream",
     "text": [
      "steel\n",
      "collect\n",
      "capable\n",
      "------\n",
      "------\n"
     ]
    }
   ],
   "source": [
    "x = '------'\n",
    "\n",
    "tuple_of_strings = ('steel', 'collect', 'capable', '------', 'shelter', 'language', 'mug', 'flowers')\n",
    "\n",
    "# enter your code here:\n",
    "for i in list(tuple_of_strings):\n",
    "    print(i)\n",
    "    if i == x:\n",
    "        break\n",
    "#print(x)\n",
    "\n",
    "\n",
    "#using a while loop, method 2\n",
    "#found = False\n",
    "#i = 0\n",
    "#while not found:\n",
    "#    if tuple_of_strings[i] == x:\n",
    "#        print(tuple_of_strings[i])\n",
    "#        found = True\n",
    "#    i+=1\n"
   ]
  },
  {
   "cell_type": "markdown",
   "metadata": {},
   "source": [
    "# Exercise 3\n",
    "\n",
    "Create a game in python. \n",
    "\n",
    "Rules:  \n",
    "    1. You have 3 tries to guess a secret number.   \n",
    "    2. Each try you are prompted to input a number.  \n",
    "    3. You get a success message if you guess correctly and stop looping, else you subtract a try and go again.\n",
    "    "
   ]
  },
  {
   "cell_type": "code",
   "execution_count": 1,
   "metadata": {},
   "outputs": [],
   "source": [
    "##### use secret_number in your code but don't cheat\n",
    "\n"
   ]
  },
  {
   "cell_type": "code",
   "execution_count": 7,
   "metadata": {
    "scrolled": true
   },
   "outputs": [
    {
     "name": "stdout",
     "output_type": "stream",
     "text": [
      "2\n",
      "Guess a number between 0 and 3: 1\n",
      "You have 2 guesses left\n",
      "Guess a number between 0 and 3: 0\n",
      "You have 1 guesses left\n",
      "Guess a number between 0 and 3: 3\n",
      "You have 0 guesses left\n"
     ]
    }
   ],
   "source": [
    "import random\n",
    "secret_number = random.randint(0,3)\n",
    "print(secret_number)\n",
    "\n",
    "tries = 3\n",
    "for i in range(tries):\n",
    "    number = int(input(\"Guess a number between 0 and 3: \"))\n",
    "    if secret_number == number:\n",
    "        print(\"Well done, you guessed!\")\n",
    "        break\n",
    "    elif secret_number != number:\n",
    "        print(\"You have \" + str(tries -1) + \" guesses left\")\n",
    "        tries -= 1\n",
    "        if tries == 0:\n",
    "            break"
   ]
  },
  {
   "cell_type": "markdown",
   "metadata": {},
   "source": [
    "# Exercise 4\n",
    "\n",
    "a. \n",
    "Create a list comprehension that prints the following.\n",
    "```python\n",
    "[0, '*',2, '*', 4, '*', 6]\n",
    "\n",
    "```\n",
    "\n",
    "Hint: start from the most basic list comprehension  "
   ]
  },
  {
   "cell_type": "code",
   "execution_count": 5,
   "metadata": {},
   "outputs": [
    {
     "name": "stdout",
     "output_type": "stream",
     "text": [
      "[0]\n",
      "[0, 2]\n",
      "[0, 2, 4]\n",
      "[0, 2, 4, 6]\n",
      "[0, '*', 2, '*', 4, '*', 6]\n"
     ]
    }
   ],
   "source": [
    "l = []\n",
    "for i in range(0,7):\n",
    "    if int(i) % 2 == 0:\n",
    "        l.append(i)\n",
    "        print(l)\n",
    "    \n",
    "i = 1\n",
    "while i < len(l):\n",
    "    l.insert(i, '*')\n",
    "    i += 2\n",
    "print(l)\n",
    "\n",
    "\n",
    "# [i if i % == 0 else '*' for i in range(7)]"
   ]
  },
  {
   "cell_type": "markdown",
   "metadata": {},
   "source": [
    "b. Create a dict comprehension that prints the following:\n",
    "```python\n",
    "{'a': ['*', '*'], 'b': ['*', '*'],}\n",
    "\n",
    "```\n"
   ]
  },
  {
   "cell_type": "code",
   "execution_count": 6,
   "metadata": {},
   "outputs": [
    {
     "data": {
      "text/plain": [
       "{'a': ['*', '*'], 'b': ['*', '*']}"
      ]
     },
     "execution_count": 6,
     "metadata": {},
     "output_type": "execute_result"
    }
   ],
   "source": [
    "#d = {}\n",
    "l_1 = ['a', 'b']\n",
    "l_2 = [['*', '*'], ['*', '*']]\n",
    "\n",
    "d = {k:v for k,v in zip(l_1,l_2)}\n",
    "d"
   ]
  },
  {
   "cell_type": "code",
   "execution_count": 7,
   "metadata": {},
   "outputs": [],
   "source": [
    "\n",
    "l = ['a', 'b']\n",
    "s = '*'\n",
    "new_dict = {elem: [s] * 2 for elem in l}\n",
    "\n"
   ]
  },
  {
   "cell_type": "code",
   "execution_count": null,
   "metadata": {},
   "outputs": [],
   "source": []
  }
 ],
 "metadata": {
  "kernelspec": {
   "display_name": "Python 3",
   "language": "python",
   "name": "python3"
  },
  "language_info": {
   "codemirror_mode": {
    "name": "ipython",
    "version": 3
   },
   "file_extension": ".py",
   "mimetype": "text/x-python",
   "name": "python",
   "nbconvert_exporter": "python",
   "pygments_lexer": "ipython3",
   "version": "3.8.3"
  }
 },
 "nbformat": 4,
 "nbformat_minor": 4
}
