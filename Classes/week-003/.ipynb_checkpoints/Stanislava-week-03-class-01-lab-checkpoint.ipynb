{
 "cells": [
  {
   "cell_type": "markdown",
   "metadata": {},
   "source": [
    "<div style=\"background: #000;\n",
    "            color: #FFF;\n",
    "            margin: 0px;\n",
    "                padding: 10px 0px 20px 0px;\n",
    "            text-align: center; \n",
    "                \">\n",
    "    <h1>Week 3 - Class 1 - Lab</h1>\n",
    "</div>\n"
   ]
  },
  {
   "cell_type": "markdown",
   "metadata": {},
   "source": [
    "# Question 1\n",
    "    \n",
    "Why do we need control structures and conditionals? Name one scenario we've encountered in previous assignments that could have benefitted from the use of these things. How would it have helped? <br>\n",
    "We need control structures and conditionals in order to put conditions/restrictions/surroundings on statements when programming, which helps us better manipulate our code. <br>\n",
    "There was an exercise from last week, before we started exploring conditionals, where I had to use an AND statement to print a BOOL. It would have been easier and faster if I used and IF statement instead."
   ]
  },
  {
   "cell_type": "markdown",
   "metadata": {},
   "source": [
    "# Exercise 1\n",
    "\n",
    "Given the input variable, write conditional statements to return True if an element:\n",
    "* contains a string longer than 30.\n",
    "* is a number greater than 30.\n",
    "* is a string less than 30 characters containing a number.\n",
    "* otherwise store the value to a list."
   ]
  },
  {
   "cell_type": "code",
   "execution_count": 3,
   "metadata": {},
   "outputs": [
    {
     "name": "stdout",
     "output_type": "stream",
     "text": [
      "Please enter something: 398shf;S\n",
      "True\n",
      "[]\n"
     ]
    }
   ],
   "source": [
    "l = []\n",
    "x = input(\"Please enter something: \")\n",
    "if type(x) == str and len(x) > 30:\n",
    "        print(True)\n",
    "elif type(x) == int and int(x) > 30:\n",
    "        print(True)\n",
    "elif type(x) == str and len(x) < 30 and any(i.isdigit() for i in x):\n",
    "        print(True)                 \n",
    "else:\n",
    "    l.append(x)\n",
    "    \n",
    "print(l)\n",
    "\n",
    "#the last condition does not work, need to work on this"
   ]
  },
  {
   "cell_type": "markdown",
   "metadata": {},
   "source": [
    "# Exercise 2\n",
    "\n",
    "Create a \"switch\" statement that takes a number and prints \"fizz\" if the number is greater than 0 **and** even, \"buzz\" if greater than 0 and odd, an absolute value of the number if negative, \"ZERO\" if 0 and \"not a number\" otherwise. \n"
   ]
  },
  {
   "cell_type": "code",
   "execution_count": null,
   "metadata": {},
   "outputs": [],
   "source": [
    "y = input(\"Please enter a number: \")"
   ]
  },
  {
   "cell_type": "code",
   "execution_count": null,
   "metadata": {},
   "outputs": [],
   "source": [
    "if y.isnumeric():\n",
    "    y_num = int(y)\n",
    "    if y_num > 0 and y_num % 2 == 0:\n",
    "        print(\"fizz\")\n",
    "    elif y_num > 0 and y_num % 2 != 0:\n",
    "        print(\"buzz\")\n",
    "    elif y_num < 0:\n",
    "        print(abs(y_num))\n",
    "    elif y_num == 0:\n",
    "        print(\"ZERO\")\n",
    "else:\n",
    "    print(\"not a number\")"
   ]
  },
  {
   "cell_type": "markdown",
   "metadata": {},
   "source": [
    "# Exercise 3\n",
    "\n",
    "Using the following code. Write an if statement that takes the `value` returned by the `random_function` and does the following:\n",
    "* print \"true\" if False\n",
    "* print \"false\" if True,\n",
    "* sorts a string and prints it if the string is all lowercase\n",
    "* prints \"one char\" if there's a single uppercase character\n",
    "* prints \"string\" if the other two don't apply (hint: nest)\n",
    "* append the value to a list if a number greater or equal to 0.\n",
    "* add the absolute value of a negative number to a sum\n"
   ]
  },
  {
   "cell_type": "code",
   "execution_count": 167,
   "metadata": {},
   "outputs": [],
   "source": [
    "import random \n",
    "import string\n",
    "def random_string():\n",
    "    letters = string.ascii_letters\n",
    "    r = [random.choice(letters) for i in range(4)]\n",
    "    return \"\".join(r)\n",
    "def random_number():\n",
    "    return random.randint(-1000,1000)\n",
    "def random_bool():\n",
    "    return bool(random.randint(0,1))\n",
    "def random_function():\n",
    "    s = {\n",
    "        0: random_string(),\n",
    "        1: random_number(), \n",
    "        2: random_bool(),\n",
    "    }\n",
    "    return s[random.randint(0, 2)]"
   ]
  },
  {
   "cell_type": "code",
   "execution_count": 168,
   "metadata": {},
   "outputs": [
    {
     "name": "stdout",
     "output_type": "stream",
     "text": [
      "pIkO\n"
     ]
    },
    {
     "data": {
      "text/plain": [
       "str"
      ]
     },
     "execution_count": 168,
     "metadata": {},
     "output_type": "execute_result"
    }
   ],
   "source": [
    "value = random_function()\n",
    "print(value)\n",
    "type(value)"
   ]
  },
  {
   "cell_type": "code",
   "execution_count": 170,
   "metadata": {},
   "outputs": [
    {
     "name": "stdout",
     "output_type": "stream",
     "text": [
      "one char\n"
     ]
    }
   ],
   "source": [
    "l = []  \n",
    "count = 0\n",
    "\n",
    "if type(value) == bool:\n",
    "    if value == False:\n",
    "        print(\"true\")\n",
    "    elif value == True:\n",
    "        print(\"false\")\n",
    "    \n",
    "elif type(value) == str:\n",
    "    if value.islower():\n",
    "        print(sorted(value))\n",
    "    elif (i.isupper for i in value):\n",
    "        count +=1\n",
    "        if count == 1:\n",
    "            print(\"one char\")\n",
    "    else:\n",
    "        print(\"string\")\n",
    "\n",
    "elif type(value) == int:\n",
    "    if value >= 0:\n",
    "        print(l.append(value))\n",
    "    elif value < 0:\n",
    "        print(22 + 3 + abs(value))\n",
    "    "
   ]
  },
  {
   "cell_type": "code",
   "execution_count": null,
   "metadata": {},
   "outputs": [],
   "source": []
  },
  {
   "cell_type": "code",
   "execution_count": null,
   "metadata": {},
   "outputs": [],
   "source": []
  },
  {
   "cell_type": "code",
   "execution_count": null,
   "metadata": {},
   "outputs": [],
   "source": []
  }
 ],
 "metadata": {
  "kernelspec": {
   "display_name": "Python 3",
   "language": "python",
   "name": "python3"
  },
  "language_info": {
   "codemirror_mode": {
    "name": "ipython",
    "version": 3
   },
   "file_extension": ".py",
   "mimetype": "text/x-python",
   "name": "python",
   "nbconvert_exporter": "python",
   "pygments_lexer": "ipython3",
   "version": "3.8.3"
  }
 },
 "nbformat": 4,
 "nbformat_minor": 4
}
