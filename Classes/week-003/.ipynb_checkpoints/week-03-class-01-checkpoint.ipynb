{
 "cells": [
  {
   "cell_type": "markdown",
   "metadata": {},
   "source": [
    "<div style=\"background: #000;\n",
    "            color: #FFF;\n",
    "            margin: 0px;\n",
    "                padding: 10px 0px 20px 0px;\n",
    "            text-align: center; \n",
    "                \">\n",
    "    <h1> Week 3 - Day 1</h1>\n",
    "</div>\n",
    "\n",
    "## Objectives for this week:\n",
    "* If Statements, If and Elif\n",
    "* Conditional Statements, Nested Conditionals\n",
    "* While & For loops, Nested Loops\n",
    "* List Comprehension\n",
    "* Dictionaries\n",
    "\n",
    "## Todays Agenda\n",
    "* Homework Presentations\n",
    "* If statements, If and Elif\n",
    "* Conditional statements, Nested Conditionals\n",
    "* For loops introduction\n",
    "\n"
   ]
  },
  {
   "cell_type": "markdown",
   "metadata": {},
   "source": [
    "<div style=\"background: #000;\n",
    "            color: #FFF;\n",
    "            margin: 0px;\n",
    "                padding: 10px 0px 20px 0px;\n",
    "            text-align: center; \n",
    "                \">\n",
    "    <h1>Homework Presentations</h1>\n",
    "</div>"
   ]
  },
  {
   "cell_type": "markdown",
   "metadata": {},
   "source": [
    "# Exercise #1\n",
    "\n",
    "### Given the following variable `money_moves`"
   ]
  },
  {
   "cell_type": "code",
   "execution_count": null,
   "metadata": {},
   "outputs": [],
   "source": [
    "money_moves = [\"fur coats\",\"money fans\",\"Diamonds\",\"MoNeY FaNs\",\"FUR COATS\",\"barrels of gold\"]"
   ]
  },
  {
   "cell_type": "markdown",
   "metadata": {},
   "source": [
    "### a. Print the list of unique elements. Then output the length."
   ]
  },
  {
   "cell_type": "code",
   "execution_count": null,
   "metadata": {},
   "outputs": [],
   "source": [
    "# place code here\n"
   ]
  },
  {
   "cell_type": "markdown",
   "metadata": {},
   "source": [
    "### b. Set the 4th and 5th elements of the original list in lowercase. Pop that value and append it to the end of the list. Print the list."
   ]
  },
  {
   "cell_type": "code",
   "execution_count": null,
   "metadata": {},
   "outputs": [],
   "source": []
  },
  {
   "cell_type": "markdown",
   "metadata": {},
   "source": [
    "### d. Create a new list, append odd number items from the original list`money_moves` and output the new list"
   ]
  },
  {
   "cell_type": "code",
   "execution_count": null,
   "metadata": {},
   "outputs": [],
   "source": [
    "money_moves = [\"fur coats\",\"money fans\",\"Diamonds\",\"MoNeY FaNs\",\"FUR COATS\",\"barrels of gold\"]\n"
   ]
  },
  {
   "cell_type": "markdown",
   "metadata": {},
   "source": [
    "### e. Create a new dict. Add each item of `money_moves` to the dict using it's place in the list as the key for the dict. Print the dict."
   ]
  },
  {
   "cell_type": "code",
   "execution_count": null,
   "metadata": {},
   "outputs": [],
   "source": [
    "money_moves = [\"fur coats\",\"money fans\",\"Diamonds\",\"MoNeY FaNs\",\"FUR COATS\",\"barrels of gold\"]\n"
   ]
  },
  {
   "cell_type": "markdown",
   "metadata": {},
   "source": [
    "<div style=\"background: #000;\n",
    "            color: #FFF;\n",
    "            margin: 0 auto;\n",
    "\n",
    "                \">\n",
    "    <h1>Control Structures and Conditionals</h1>\n",
    "</div>"
   ]
  },
  {
   "cell_type": "markdown",
   "metadata": {},
   "source": [
    "# Control Structures and Conditionals\n",
    "\n",
    "## Code blocks\n",
    "\n",
    "A code block is a group of statements in code. In python, a code block is a group of statements with the same indentation\n",
    "\n",
    "```python\n",
    "    statement1\n",
    "    statement2\n",
    "    statement3\n",
    "```\n",
    "\n",
    "How would we run statement2 only if a condition is met in statement1? How would we go back to statement1 after statement3?\n",
    "\n",
    "In software engineering,  we need a way to organize our code blocks into reuseable segments. Running or looping through statements based on conditions\n",
    "\n",
    "## Control structures and conditionals are a way to set up the statements we've been using to go through specific steps based on conditions being met. \n",
    "\n",
    "\n",
    "## Examples of Control Structures in Python\n",
    "* `if` statement - runs code **if** a condition is met\n",
    "* `for` statement - runs code **for each** iteration that a condition isn't met.\n",
    "* `while` statement - runs code **while** a condition isn't met\n",
    "\n",
    "\n",
    "`if`\n",
    "\n",
    "```python\n",
    "    if True:\n",
    "        print(\"Hello World\")\n",
    "```\n",
    "\n",
    "`for`\n",
    "\n",
    "```python\n",
    "    for x in range(10):\n",
    "        print(\"Hello World\")\n",
    "```\n",
    "\n",
    "`while`\n",
    "```python\n",
    "\n",
    "    while True:\n",
    "        print(\"Hello World\")\n",
    "\n",
    "```\n"
   ]
  },
  {
   "cell_type": "markdown",
   "metadata": {},
   "source": [
    "# Conditionals"
   ]
  },
  {
   "cell_type": "markdown",
   "metadata": {},
   "source": [
    "# `and`"
   ]
  },
  {
   "cell_type": "code",
   "execution_count": 1,
   "metadata": {},
   "outputs": [
    {
     "data": {
      "text/plain": [
       "False"
      ]
     },
     "execution_count": 1,
     "metadata": {},
     "output_type": "execute_result"
    }
   ],
   "source": [
    "True and False"
   ]
  },
  {
   "cell_type": "markdown",
   "metadata": {},
   "source": [
    "# `or`"
   ]
  },
  {
   "cell_type": "code",
   "execution_count": 2,
   "metadata": {},
   "outputs": [
    {
     "data": {
      "text/plain": [
       "True"
      ]
     },
     "execution_count": 2,
     "metadata": {},
     "output_type": "execute_result"
    }
   ],
   "source": [
    "True or False"
   ]
  },
  {
   "cell_type": "markdown",
   "metadata": {},
   "source": [
    "# `==`"
   ]
  },
  {
   "cell_type": "code",
   "execution_count": 4,
   "metadata": {},
   "outputs": [
    {
     "data": {
      "text/plain": [
       "False"
      ]
     },
     "execution_count": 4,
     "metadata": {},
     "output_type": "execute_result"
    }
   ],
   "source": [
    "s = True and True\n",
    "t = True or False\n",
    "u = False\n",
    "s == t #== u #and not u\n"
   ]
  },
  {
   "cell_type": "code",
   "execution_count": 5,
   "metadata": {},
   "outputs": [
    {
     "data": {
      "text/plain": [
       "True"
      ]
     },
     "execution_count": 5,
     "metadata": {},
     "output_type": "execute_result"
    }
   ],
   "source": [
    "s = \"string\"\n",
    "t = \"string\"\n",
    "u = s[0:3] + t[3:6]\n",
    "s == t == u"
   ]
  },
  {
   "cell_type": "code",
   "execution_count": 6,
   "metadata": {},
   "outputs": [
    {
     "data": {
      "text/plain": [
       "True"
      ]
     },
     "execution_count": 6,
     "metadata": {},
     "output_type": "execute_result"
    }
   ],
   "source": [
    "s = \"abcd\"\n",
    "t = \"abcd\"\n",
    "u = \"cdba\"\n",
    "s == t == \"\".join(sorted(u))"
   ]
  },
  {
   "cell_type": "code",
   "execution_count": 7,
   "metadata": {},
   "outputs": [
    {
     "data": {
      "text/plain": [
       "True"
      ]
     },
     "execution_count": 7,
     "metadata": {},
     "output_type": "execute_result"
    }
   ],
   "source": [
    "s = 4\n",
    "t = 4\n",
    "u = 2\n",
    "s == t == 2 * u"
   ]
  },
  {
   "cell_type": "code",
   "execution_count": 8,
   "metadata": {},
   "outputs": [
    {
     "data": {
      "text/plain": [
       "True"
      ]
     },
     "execution_count": 8,
     "metadata": {},
     "output_type": "execute_result"
    }
   ],
   "source": [
    "s = [3,4,5]\n",
    "t = [3,4,5]\n",
    "u = [3,5,4]\n",
    "u.sort()\n",
    "s == t == u"
   ]
  },
  {
   "cell_type": "code",
   "execution_count": 9,
   "metadata": {},
   "outputs": [
    {
     "data": {
      "text/plain": [
       "False"
      ]
     },
     "execution_count": 9,
     "metadata": {},
     "output_type": "execute_result"
    }
   ],
   "source": [
    "s = (0,1,3)\n",
    "t = (0,1,3)\n",
    "u = (0,1,2)\n",
    "\n",
    "s == t == u"
   ]
  },
  {
   "cell_type": "code",
   "execution_count": 10,
   "metadata": {},
   "outputs": [
    {
     "data": {
      "text/plain": [
       "True"
      ]
     },
     "execution_count": 10,
     "metadata": {},
     "output_type": "execute_result"
    }
   ],
   "source": [
    "s = {'a':1, 'b':2}\n",
    "t = {'b':2, 'a':1}\n",
    "\n",
    "s == t\n",
    "#python goes hrough each value and compares by keys"
   ]
  },
  {
   "cell_type": "markdown",
   "metadata": {},
   "source": [
    "# `!=`"
   ]
  },
  {
   "cell_type": "code",
   "execution_count": 11,
   "metadata": {},
   "outputs": [
    {
     "data": {
      "text/plain": [
       "True"
      ]
     },
     "execution_count": 11,
     "metadata": {},
     "output_type": "execute_result"
    }
   ],
   "source": [
    "s = True\n",
    "u = False\n",
    "s != u\n"
   ]
  },
  {
   "cell_type": "code",
   "execution_count": 12,
   "metadata": {},
   "outputs": [
    {
     "data": {
      "text/plain": [
       "True"
      ]
     },
     "execution_count": 12,
     "metadata": {},
     "output_type": "execute_result"
    }
   ],
   "source": [
    "s = [0,1,2,3]\n",
    "t = [0,2,1,3]\n",
    "\n",
    "s != t"
   ]
  },
  {
   "cell_type": "code",
   "execution_count": 13,
   "metadata": {},
   "outputs": [
    {
     "data": {
      "text/plain": [
       "True"
      ]
     },
     "execution_count": 13,
     "metadata": {},
     "output_type": "execute_result"
    }
   ],
   "source": [
    "s = (0,1,3)\n",
    "t = (0,1,2)\n",
    "\n",
    "s != t "
   ]
  },
  {
   "cell_type": "markdown",
   "metadata": {},
   "source": [
    "# `>`/`<`"
   ]
  },
  {
   "cell_type": "code",
   "execution_count": 14,
   "metadata": {},
   "outputs": [
    {
     "data": {
      "text/plain": [
       "True"
      ]
     },
     "execution_count": 14,
     "metadata": {},
     "output_type": "execute_result"
    }
   ],
   "source": [
    "True > False"
   ]
  },
  {
   "cell_type": "code",
   "execution_count": 15,
   "metadata": {},
   "outputs": [
    {
     "data": {
      "text/plain": [
       "True"
      ]
     },
     "execution_count": 15,
     "metadata": {},
     "output_type": "execute_result"
    }
   ],
   "source": [
    "\"string5\" > \"string3\""
   ]
  },
  {
   "cell_type": "code",
   "execution_count": 16,
   "metadata": {},
   "outputs": [
    {
     "data": {
      "text/plain": [
       "True"
      ]
     },
     "execution_count": 16,
     "metadata": {},
     "output_type": "execute_result"
    }
   ],
   "source": [
    "[0,1,2,3,4] < [0,1,2,3,5]"
   ]
  },
  {
   "cell_type": "code",
   "execution_count": 17,
   "metadata": {},
   "outputs": [
    {
     "data": {
      "text/plain": [
       "True"
      ]
     },
     "execution_count": 17,
     "metadata": {},
     "output_type": "execute_result"
    }
   ],
   "source": [
    "(1,2,3) < (1,2,4)"
   ]
  },
  {
   "cell_type": "code",
   "execution_count": 18,
   "metadata": {},
   "outputs": [
    {
     "data": {
      "text/plain": [
       "True"
      ]
     },
     "execution_count": 18,
     "metadata": {},
     "output_type": "execute_result"
    }
   ],
   "source": [
    "(1,2, ('aa', 'ab')) < (1, 2, ('abc', 'a'), 4)"
   ]
  },
  {
   "cell_type": "markdown",
   "metadata": {},
   "source": [
    "# `>=`/`<=`"
   ]
  },
  {
   "cell_type": "code",
   "execution_count": 19,
   "metadata": {},
   "outputs": [
    {
     "data": {
      "text/plain": [
       "True"
      ]
     },
     "execution_count": 19,
     "metadata": {},
     "output_type": "execute_result"
    }
   ],
   "source": [
    "True >= False"
   ]
  },
  {
   "cell_type": "code",
   "execution_count": 20,
   "metadata": {},
   "outputs": [
    {
     "data": {
      "text/plain": [
       "True"
      ]
     },
     "execution_count": 20,
     "metadata": {},
     "output_type": "execute_result"
    }
   ],
   "source": [
    "\"string\" >= \"string\""
   ]
  },
  {
   "cell_type": "code",
   "execution_count": 21,
   "metadata": {},
   "outputs": [
    {
     "data": {
      "text/plain": [
       "True"
      ]
     },
     "execution_count": 21,
     "metadata": {},
     "output_type": "execute_result"
    }
   ],
   "source": [
    "[0,1,2,3,4] >= [0,1,2,3]"
   ]
  },
  {
   "cell_type": "code",
   "execution_count": 22,
   "metadata": {},
   "outputs": [
    {
     "data": {
      "text/plain": [
       "True"
      ]
     },
     "execution_count": 22,
     "metadata": {},
     "output_type": "execute_result"
    }
   ],
   "source": [
    "(1,2, ('abc', 'ab')) >= (1, 2, ('abc', 'a'), 4)"
   ]
  },
  {
   "cell_type": "markdown",
   "metadata": {},
   "source": [
    "# `is`"
   ]
  },
  {
   "cell_type": "code",
   "execution_count": 23,
   "metadata": {},
   "outputs": [
    {
     "data": {
      "text/plain": [
       "True"
      ]
     },
     "execution_count": 23,
     "metadata": {},
     "output_type": "execute_result"
    }
   ],
   "source": [
    "True is True"
   ]
  },
  {
   "cell_type": "code",
   "execution_count": 24,
   "metadata": {},
   "outputs": [
    {
     "data": {
      "text/plain": [
       "True"
      ]
     },
     "execution_count": 24,
     "metadata": {},
     "output_type": "execute_result"
    }
   ],
   "source": [
    "True is not False"
   ]
  },
  {
   "cell_type": "code",
   "execution_count": 27,
   "metadata": {},
   "outputs": [
    {
     "data": {
      "text/plain": [
       "True"
      ]
     },
     "execution_count": 27,
     "metadata": {},
     "output_type": "execute_result"
    }
   ],
   "source": [
    "True is not False"
   ]
  },
  {
   "cell_type": "code",
   "execution_count": 28,
   "metadata": {},
   "outputs": [
    {
     "data": {
      "text/plain": [
       "False"
      ]
     },
     "execution_count": 28,
     "metadata": {},
     "output_type": "execute_result"
    }
   ],
   "source": [
    "[] is None"
   ]
  },
  {
   "cell_type": "code",
   "execution_count": 29,
   "metadata": {},
   "outputs": [
    {
     "data": {
      "text/plain": [
       "True"
      ]
     },
     "execution_count": 29,
     "metadata": {},
     "output_type": "execute_result"
    }
   ],
   "source": [
    "None is None"
   ]
  },
  {
   "cell_type": "markdown",
   "metadata": {},
   "source": [
    "# `in`"
   ]
  },
  {
   "cell_type": "code",
   "execution_count": 30,
   "metadata": {},
   "outputs": [
    {
     "data": {
      "text/plain": [
       "True"
      ]
     },
     "execution_count": 30,
     "metadata": {},
     "output_type": "execute_result"
    }
   ],
   "source": [
    "\"in\" in \"string\""
   ]
  },
  {
   "cell_type": "code",
   "execution_count": 31,
   "metadata": {},
   "outputs": [
    {
     "data": {
      "text/plain": [
       "True"
      ]
     },
     "execution_count": 31,
     "metadata": {},
     "output_type": "execute_result"
    }
   ],
   "source": [
    "4 in [1,2,3,4]"
   ]
  },
  {
   "cell_type": "code",
   "execution_count": 32,
   "metadata": {},
   "outputs": [
    {
     "data": {
      "text/plain": [
       "True"
      ]
     },
     "execution_count": 32,
     "metadata": {},
     "output_type": "execute_result"
    }
   ],
   "source": [
    "4 in {3:'a', 4:'b'}"
   ]
  },
  {
   "cell_type": "code",
   "execution_count": 33,
   "metadata": {},
   "outputs": [
    {
     "data": {
      "text/plain": [
       "False"
      ]
     },
     "execution_count": 33,
     "metadata": {},
     "output_type": "execute_result"
    }
   ],
   "source": [
    "'a' in {3:'a', 4:'b'}"
   ]
  },
  {
   "cell_type": "code",
   "execution_count": 34,
   "metadata": {},
   "outputs": [
    {
     "data": {
      "text/plain": [
       "True"
      ]
     },
     "execution_count": 34,
     "metadata": {},
     "output_type": "execute_result"
    }
   ],
   "source": [
    "2 in (0,1,2)"
   ]
  },
  {
   "cell_type": "code",
   "execution_count": 35,
   "metadata": {},
   "outputs": [
    {
     "data": {
      "text/plain": [
       "True"
      ]
     },
     "execution_count": 35,
     "metadata": {},
     "output_type": "execute_result"
    }
   ],
   "source": [
    "True not in [False, False, False]"
   ]
  },
  {
   "cell_type": "markdown",
   "metadata": {},
   "source": [
    "# If statement\n",
    "\n",
    "    c = bool_statement\n",
    "    \n",
    "    ...\n",
    "    code block a\n",
    "    ...\n",
    "        \n",
    "        if c:\n",
    "            ...\n",
    "            code block a\n",
    "            ...\n",
    "            \n",
    "\n",
    "Remember when we covered (*insert logic problem reference here*)? \n",
    "We used multiple statements changing them based on the truth value"
   ]
  },
  {
   "cell_type": "code",
   "execution_count": 36,
   "metadata": {},
   "outputs": [
    {
     "name": "stdout",
     "output_type": "stream",
     "text": [
      "False\n"
     ]
    },
    {
     "data": {
      "text/plain": [
       "True"
      ]
     },
     "execution_count": 36,
     "metadata": {},
     "output_type": "execute_result"
    }
   ],
   "source": [
    "statement1 = False\n",
    "print(statement1)\n",
    "not statement1"
   ]
  },
  {
   "cell_type": "markdown",
   "metadata": {},
   "source": [
    "## If statements allow us to control code execution based on whether or not statement has a certain truth value"
   ]
  },
  {
   "cell_type": "markdown",
   "metadata": {},
   "source": [
    "# If Statements in python"
   ]
  },
  {
   "cell_type": "code",
   "execution_count": 37,
   "metadata": {},
   "outputs": [
    {
     "data": {
      "text/plain": [
       "'hello'"
      ]
     },
     "execution_count": 37,
     "metadata": {},
     "output_type": "execute_result"
    }
   ],
   "source": [
    "s = \"hello\" if 5 > 3 else \"goodbye\"\n",
    "s"
   ]
  },
  {
   "cell_type": "code",
   "execution_count": 39,
   "metadata": {},
   "outputs": [],
   "source": [
    "if statement1 is True:\n",
    "    print(statement2)\n",
    "    \n",
    "# above is valid python but not necessary\n",
    "\n",
    "if statement1:\n",
    "    print(statement2)"
   ]
  },
  {
   "cell_type": "markdown",
   "metadata": {},
   "source": [
    "# What about \"if not\""
   ]
  },
  {
   "cell_type": "code",
   "execution_count": 41,
   "metadata": {},
   "outputs": [
    {
     "name": "stdout",
     "output_type": "stream",
     "text": [
      "running statement2\n",
      "running statement2\n"
     ]
    }
   ],
   "source": [
    "statement1 = False\n",
    "statement2 = \"running statement2\"\n",
    " \n",
    "if not statement1:\n",
    "    print(statement2)\n",
    "    \n",
    "statement1 or print(statement2)\n",
    "\n",
    "#IF NOT equivalent to OR"
   ]
  },
  {
   "cell_type": "markdown",
   "metadata": {},
   "source": [
    "# `elif` and `else`\n",
    "\n",
    "\n",
    "```python\n",
    "\n",
    "    if statement1:\n",
    "        ...\n",
    "        code block a\n",
    "        ...\n",
    "    elif statement2:\n",
    "        ...\n",
    "        code block b\n",
    "        ...\n",
    "    else:\n",
    "        ...\n",
    "        code block c\n",
    "        ...\n",
    "```\n",
    "\n",
    "If statement 1 is true -> execute code block a  \n",
    "If statement 2 is true -> execute code block b  \n",
    "ELSE (if and only if the other two statements are false) -> execute code block c  \n"
   ]
  },
  {
   "cell_type": "code",
   "execution_count": 42,
   "metadata": {},
   "outputs": [
    {
     "name": "stdout",
     "output_type": "stream",
     "text": [
      "who knows?\n"
     ]
    }
   ],
   "source": [
    "# What about non-binary cases? Or default statement?\n",
    "\n",
    "# three colors\n",
    "\n",
    "blue = \"blue\"\n",
    "gray = \"gray\"\n",
    "red = \"red\"\n",
    "\n",
    "tshirt = \"brown\"\n",
    "\n",
    "if tshirt is blue:\n",
    "    print(blue)\n",
    "elif tshirt is gray:\n",
    "    print(grey)\n",
    "elif tshirt is red:\n",
    "    print(red)\n",
    "else:\n",
    "    print(\"who knows?\")"
   ]
  },
  {
   "cell_type": "markdown",
   "metadata": {},
   "source": [
    "# Example 1"
   ]
  },
  {
   "cell_type": "code",
   "execution_count": 1,
   "metadata": {},
   "outputs": [
    {
     "name": "stdout",
     "output_type": "stream",
     "text": [
      "Please enter a temperature in F:50\n"
     ]
    }
   ],
   "source": [
    "temp = int(input(\"Please enter a temperature in F:\"))"
   ]
  },
  {
   "cell_type": "code",
   "execution_count": 2,
   "metadata": {},
   "outputs": [
    {
     "name": "stdout",
     "output_type": "stream",
     "text": [
      "It's cold outside.\n"
     ]
    }
   ],
   "source": [
    "# How we can get this to print the forecast?\n",
    "\n",
    "# if, elif, else\n",
    "    \n",
    "#print(temp)\n",
    "\n",
    "if temp >= 80:\n",
    "    print(\"It's hot outside.\")\n",
    "elif temp <= 55:   \n",
    "    print(\"It's cold outside.\")\n",
    "else:\n",
    "    print(\"It's nice outside\")"
   ]
  },
  {
   "cell_type": "markdown",
   "metadata": {},
   "source": [
    "# Example 2 Nested conditionals"
   ]
  },
  {
   "cell_type": "markdown",
   "metadata": {},
   "source": [
    "# How can we:\n",
    "* print \"negative\" if a negative number\n",
    "* print \"positive\" if a positive number\n",
    "* convert values of a list to an integer"
   ]
  },
  {
   "cell_type": "code",
   "execution_count": 5,
   "metadata": {},
   "outputs": [],
   "source": [
    "s = [-34,20,['a', '3.0', 2],300,10,5]"
   ]
  },
  {
   "cell_type": "code",
   "execution_count": 6,
   "metadata": {},
   "outputs": [
    {
     "name": "stdout",
     "output_type": "stream",
     "text": [
      "negative\n",
      "positive\n",
      "it's a list, will continue tomorrow\n",
      "positive\n",
      "positive\n",
      "positive\n"
     ]
    }
   ],
   "source": [
    "for element in s:\n",
    "    if type(element) == int:\n",
    "        if element < 0:\n",
    "            print(\"negative\")\n",
    "        elif element > 0:\n",
    "            print(\"positive\")\n",
    "        else:\n",
    "            print(\"zero\")\n",
    "    elif type(element) == list:\n",
    "        #for item in element:\n",
    "            #if type(item) == str:\n",
    "                #item\n",
    "        print(\"it's a list, will continue tomorrow\")    \n",
    "    else:\n",
    "        print(\"incorrect value\")"
   ]
  },
  {
   "cell_type": "code",
   "execution_count": null,
   "metadata": {},
   "outputs": [],
   "source": []
  }
 ],
 "metadata": {
  "kernelspec": {
   "display_name": "Python 3",
   "language": "python",
   "name": "python3"
  },
  "language_info": {
   "codemirror_mode": {
    "name": "ipython",
    "version": 3
   },
   "file_extension": ".py",
   "mimetype": "text/x-python",
   "name": "python",
   "nbconvert_exporter": "python",
   "pygments_lexer": "ipython3",
   "version": "3.8.3"
  }
 },
 "nbformat": 4,
 "nbformat_minor": 4
}
