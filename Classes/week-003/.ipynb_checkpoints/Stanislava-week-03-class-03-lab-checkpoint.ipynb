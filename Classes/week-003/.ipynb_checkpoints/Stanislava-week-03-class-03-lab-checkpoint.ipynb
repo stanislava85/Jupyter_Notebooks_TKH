{
 "cells": [
  {
   "cell_type": "markdown",
   "metadata": {},
   "source": [
    "<div style=\"background: #000;\n",
    "            color: #FFF;\n",
    "            margin: 0px;\n",
    "                padding: 10px 0px 20px 0px;\n",
    "            text-align: center; \n",
    "                \">\n",
    "    <h1>Week 3 - Class 3 - Lab</h1>\n",
    "</div>\n"
   ]
  },
  {
   "cell_type": "markdown",
   "metadata": {},
   "source": [
    "# Question 1\n",
    "\n",
    "In your own words, describe an example where a `while` loop would be useful\n",
    "\n",
    "A while loop would be useful if we need to keep on looping through data/elements unil certain conditions are met. As far as the loop returns a boolean value of TRUE, the code inside it will keep repeating. We use this kind of loop when we don't know the exact number of times a code needs to be executed. We would have to set the condition to false to stop the 'while' loop, otherwise, the loop will execute the code infinitely. <br>\n",
    "\n",
    "A while loop would be useful for command line interface/interpreter. Or for example, if I am creating a program that fills in some data/text into a file, which size cannot exeed 5MB. I could use a while loop, which would run multiple times, with multiple inputs, until the size limit condition is met.\n"
   ]
  },
  {
   "cell_type": "markdown",
   "metadata": {},
   "source": [
    "# Exercise 1\n",
    "\n",
    "Using list comprehension, create a list with two for loops that generate the following output:\n",
    "\n",
    "```\n",
    "[('T', 'T'), ('T', 'F'), ('F', 'T'), ('F', 'F')]\n",
    "\n",
    "```"
   ]
  },
  {
   "cell_type": "code",
   "execution_count": 1,
   "metadata": {},
   "outputs": [
    {
     "data": {
      "text/plain": [
       "[('T', 'T'), ('T', 'F'), ('F', 'T'), ('F', 'F')]"
      ]
     },
     "execution_count": 1,
     "metadata": {},
     "output_type": "execute_result"
    }
   ],
   "source": [
    "#version 1\n",
    "#[(x,y) for x in ['T', 'F'] for y in ['T', 'F'] ]\n",
    "\n",
    "\n",
    "#version 2\n",
    "l = []\n",
    "for x in ['T', 'F']:\n",
    "    for y in ['T', 'F']:\n",
    "        l.append((x,y))\n",
    "l"
   ]
  },
  {
   "cell_type": "markdown",
   "metadata": {},
   "source": [
    "# Exercise 2 \n",
    "\n",
    "Using the following function, create a while loop that will take a variable `found` originally set to False, print \"still searching\" if not found and exit if the searching function returns True"
   ]
  },
  {
   "cell_type": "code",
   "execution_count": 16,
   "metadata": {},
   "outputs": [],
   "source": [
    "import random\n",
    "\n",
    "def searching_function():\n",
    "    random_int = random.randint(0,5)\n",
    "    if random_int == 4:\n",
    "        print(\"we found it!\")\n",
    "        return True\n",
    "    else:\n",
    "        return False"
   ]
  },
  {
   "cell_type": "code",
   "execution_count": 17,
   "metadata": {},
   "outputs": [
    {
     "name": "stdout",
     "output_type": "stream",
     "text": [
      "still searching\n",
      "still searching\n",
      "still searching\n",
      "still searching\n",
      "we found it!\n",
      "while loop completed\n"
     ]
    }
   ],
   "source": [
    "# enter your while loop code in this cell, rearranging the already included statements\n",
    "\n",
    "found = False\n",
    "while not found:\n",
    "    print(\"still searching\")\n",
    "    found = searching_function()\n",
    "\n",
    "print(\"while loop completed\")"
   ]
  },
  {
   "cell_type": "markdown",
   "metadata": {},
   "source": [
    "# Exercise 3\n",
    "\n",
    "Create a for loop that loops through the numbers from 0 to 100 printing them and exits the loop when it hits 25."
   ]
  },
  {
   "cell_type": "code",
   "execution_count": 18,
   "metadata": {},
   "outputs": [
    {
     "name": "stdout",
     "output_type": "stream",
     "text": [
      "1\n",
      "2\n",
      "3\n",
      "4\n",
      "5\n",
      "6\n",
      "7\n",
      "8\n",
      "9\n",
      "10\n",
      "11\n",
      "12\n",
      "13\n",
      "14\n",
      "15\n",
      "16\n",
      "17\n",
      "18\n",
      "19\n",
      "20\n",
      "21\n",
      "22\n",
      "23\n",
      "24\n",
      "25\n"
     ]
    }
   ],
   "source": [
    "for i in range(1, 100):\n",
    "    print(i)\n",
    "    if i == 25:\n",
    "        break\n",
    "        \n",
    " "
   ]
  },
  {
   "cell_type": "markdown",
   "metadata": {},
   "source": [
    "# Exercise 4\n",
    "\n",
    "Use one of the control structures we learned this week (if, for, and while) to output the following:\n",
    "```\n",
    "[[1],\n",
    " [1, 2],\n",
    " [1, 2, 3],\n",
    " [1, 2, 3, 4],\n",
    " [1, 2, 3, 4, 5],\n",
    " [1, 2, 3, 4, 5, 6],\n",
    " [1, 2, 3, 4, 5, 6, 7],\n",
    " [1, 2, 3, 4, 5, 6, 7, 8],\n",
    " [1, 2, 3, 4, 5, 6, 7, 8, 9],\n",
    " [1, 2, 3, 4, 5, 6, 7, 8, 9, 10],\n",
    " [1, 2, 3, 4, 5, 6, 7, 8, 9, 10, 11],\n",
    " [1, 2, 3, 4, 5, 6, 7, 8, 9, 10, 11, 12],\n",
    " [1, 2, 3, 4, 5, 6, 7, 8, 9, 10, 11, 12, 13],\n",
    " [1, 2, 3, 4, 5, 6, 7, 8, 9, 10, 11, 12, 13, 14],\n",
    " [1, 2, 3, 4, 5, 6, 7, 8, 9, 10, 11, 12, 13, 14, 15],\n",
    " [1, 2, 3, 4, 5, 6, 7, 8, 9, 10, 11, 12, 13, 14, 15, 16],\n",
    " [1, 2, 3, 4, 5, 6, 7, 8, 9, 10, 11, 12, 13, 14, 15, 16, 17],\n",
    " [1, 2, 3, 4, 5, 6, 7, 8, 9, 10, 11, 12, 13, 14, 15, 16, 17, 18],\n",
    " [1, 2, 3, 4, 5, 6, 7, 8, 9, 10, 11, 12, 13, 14, 15, 16, 17, 18, 19],\n",
    " [1, 2, 3, 4, 5, 6, 7, 8, 9, 10, 11, 12, 13, 14, 15, 16, 17, 18, 19, 20]]\n",
    " ```\n",
    " \n",
    "hint: while index is less than... \n"
   ]
  },
  {
   "cell_type": "code",
   "execution_count": 5,
   "metadata": {},
   "outputs": [
    {
     "data": {
      "text/plain": [
       "[[0, 1],\n",
       " [0, 1, 2],\n",
       " [0, 1, 2, 3],\n",
       " [0, 1, 2, 3, 4],\n",
       " [0, 1, 2, 3, 4, 5],\n",
       " [0, 1, 2, 3, 4, 5, 6],\n",
       " [0, 1, 2, 3, 4, 5, 6, 7],\n",
       " [0, 1, 2, 3, 4, 5, 6, 7, 8],\n",
       " [0, 1, 2, 3, 4, 5, 6, 7, 8, 9],\n",
       " [0, 1, 2, 3, 4, 5, 6, 7, 8, 9, 10],\n",
       " [0, 1, 2, 3, 4, 5, 6, 7, 8, 9, 10, 11],\n",
       " [0, 1, 2, 3, 4, 5, 6, 7, 8, 9, 10, 11, 12],\n",
       " [0, 1, 2, 3, 4, 5, 6, 7, 8, 9, 10, 11, 12, 13],\n",
       " [0, 1, 2, 3, 4, 5, 6, 7, 8, 9, 10, 11, 12, 13, 14],\n",
       " [0, 1, 2, 3, 4, 5, 6, 7, 8, 9, 10, 11, 12, 13, 14, 15],\n",
       " [0, 1, 2, 3, 4, 5, 6, 7, 8, 9, 10, 11, 12, 13, 14, 15, 16],\n",
       " [0, 1, 2, 3, 4, 5, 6, 7, 8, 9, 10, 11, 12, 13, 14, 15, 16, 17],\n",
       " [0, 1, 2, 3, 4, 5, 6, 7, 8, 9, 10, 11, 12, 13, 14, 15, 16, 17, 18],\n",
       " [0, 1, 2, 3, 4, 5, 6, 7, 8, 9, 10, 11, 12, 13, 14, 15, 16, 17, 18, 19],\n",
       " [0, 1, 2, 3, 4, 5, 6, 7, 8, 9, 10, 11, 12, 13, 14, 15, 16, 17, 18, 19, 20]]"
      ]
     },
     "execution_count": 5,
     "metadata": {},
     "output_type": "execute_result"
    }
   ],
   "source": [
    "index = 1\n",
    "i = []\n",
    "\n",
    "while index <= 20:\n",
    "    index += 1 \n",
    "    i.append([i for i in range(index)])\n",
    "\n",
    "i\n",
    "\n",
    "\n",
    "\n"
   ]
  },
  {
   "cell_type": "code",
   "execution_count": null,
   "metadata": {},
   "outputs": [],
   "source": []
  },
  {
   "cell_type": "code",
   "execution_count": null,
   "metadata": {},
   "outputs": [],
   "source": []
  }
 ],
 "metadata": {
  "kernelspec": {
   "display_name": "Python 3",
   "language": "python",
   "name": "python3"
  },
  "language_info": {
   "codemirror_mode": {
    "name": "ipython",
    "version": 3
   },
   "file_extension": ".py",
   "mimetype": "text/x-python",
   "name": "python",
   "nbconvert_exporter": "python",
   "pygments_lexer": "ipython3",
   "version": "3.8.3"
  }
 },
 "nbformat": 4,
 "nbformat_minor": 4
}
