{
 "cells": [
  {
   "cell_type": "markdown",
   "metadata": {},
   "source": [
    "<div style=\"background: #000;\n",
    "            color: #FFF;\n",
    "            margin: 0px;\n",
    "                padding: 10px 0px 20px 0px;\n",
    "            text-align: center; \n",
    "                \">\n",
    "    <span style=\"margin-left: -15px;\"><img src=\"https://tkhv2-static.s3.amazonaws.com/static-final/assets/img/sec_logo2sec.png\"></img></span>\n",
    "    <h2 style=\"margin: 0; padding: 0;\">Data Science Fellowship</h2>\n",
    "    <h1 style=\"padding: 0px 0px 0px 0px;\">Week 16 - Class 2 - 01/20!</h1>\n",
    "</div>"
   ]
  },
  {
   "cell_type": "markdown",
   "metadata": {},
   "source": [
    "## Objectives for this week:\n",
    "* Introduction to Data Science\n",
    "* Introduction to Statistical Analysis\n",
    "* Statistical Libraries in Python\n",
    "\n",
    "## Todays Agenda\n",
    "* Probability\n",
    "* Intro to linear algebra\n",
    "* Intro to data visualizations"
   ]
  },
  {
   "cell_type": "markdown",
   "metadata": {},
   "source": [
    "<a href=\"#\" id=\"hw\"></a>\n",
    "<div style=\"background: #000;\n",
    "            color: #FFF;\n",
    "            margin: 0px;\n",
    "                padding: 10px 0px 20px 0px;\n",
    "            text-align: center; \n",
    "                \">\n",
    "    <h1 style=\"padding: 0px 0px 0px 0px;\">Homework Presentations</h1>\n",
    "</div>"
   ]
  },
  {
   "cell_type": "markdown",
   "metadata": {},
   "source": [
    "### Exercise 2: \n",
    "(Due Jan 20th)\n",
    "\n",
    "Given integer array `nums`, return the third maximum number in this array. If the third maximum does not exist, return the maximum number.\n",
    "\n",
    "`Example 1:`  \n",
    "__Input__: nums = [3,2,1]  \n",
    "__Output__: 1  \n",
    "__Explanation__: The third maximum is 1.  \n",
    "\n",
    "`Example 2:`  \n",
    "__Input__: nums = [1,2]  \n",
    "__Output__: 2  \n",
    "__Explanation__: The third maximum does not exist, so the maximum (2) is returned instead.  \n",
    "\n",
    "`Example 3:`  \n",
    "__Input__: nums = [2,2,3,1]  \n",
    "__Output__: 1  \n",
    "__Explanation__: Note that the third maximum here means the third maximum distinct number.\n",
    "Both numbers with value 2 are both considered as second maximum.  \n",
    " \n",
    " "
   ]
  },
  {
   "cell_type": "code",
   "execution_count": null,
   "metadata": {},
   "outputs": [],
   "source": [
    "def ex2(nums):\n",
    "    nums = sorted(set(nums))\n",
    "    if len(nums) < 3: return nums[-1]\n",
    "    else: return nums[-3]\n",
    "\n",
    "print(ex2([3,2,1]))\n",
    "print(ex2([1,2]))\n",
    "print(ex2([2,2,3,1]))"
   ]
  },
  {
   "cell_type": "code",
   "execution_count": null,
   "metadata": {},
   "outputs": [],
   "source": [
    "try:\n",
    "    assert(ex2([3,2,1]) == 1)\n",
    "    assert(ex2([1,2]) == 2)\n",
    "    assert(ex2([2,2,3,1]) == 1)\n",
    "    print(\"solution is correct\")\n",
    "except AssertionError:\n",
    "    print(\"solution is incorrect\")"
   ]
  },
  {
   "cell_type": "markdown",
   "metadata": {},
   "source": [
    "<a href=\"#\" id=\"hw\"></a>\n",
    "<div style=\"background: #000;\n",
    "            color: #FFF;\n",
    "            margin-bottom: 10px;\n",
    "            padding: 10px 0px 20px 0px;\n",
    "            text-align: center; \n",
    "                \">\n",
    "    <h1 style=\"padding: 0px 0px 0px 0px;\">Probability</h1>\n",
    "</div>\n"
   ]
  },
  {
   "cell_type": "code",
   "execution_count": 1,
   "metadata": {},
   "outputs": [],
   "source": [
    "from fractions import Fraction\n",
    "\n",
    "def P(event, space): \n",
    "    \"The probability of an event, given a sample space of equiprobable outcomes.\"\n",
    "    return Fraction(len(event & space), \n",
    "                    len(space))\n",
    "\n",
    "D    = {1, 2, 3, 4, 5, 6}"
   ]
  },
  {
   "cell_type": "markdown",
   "metadata": {
    "button": false,
    "new_sheet": false,
    "run_control": {
     "read_only": false
    }
   },
   "source": [
    "\n",
    "\n",
    "# Urn Problems\n",
    "\n",
    "Around 1700, Jacob Bernoulli wrote about removing colored balls from an urn in his landmark treatise *[Ars Conjectandi](https://en.wikipedia.org/wiki/Ars_Conjectandi)*, and ever since then, explanations of probability have relied on [urn problems](https://www.google.com/webhp?sourceid=chrome-instant&ion=1&espv=2&ie=UTF-8#q=probability%20ball%20urn). (You'd think the urns would be empty by now.) \n",
    "\n",
    "![Jacob Bernoulli](http://www2.stetson.edu/~efriedma/periodictable/jpg/Bernoulli-Jacob.jpg)\n",
    "<center><a href=\"https://en.wikipedia.org/wiki/Jacob_Bernoulli\">Jacob Bernoulli</a><br>1700</center>\n",
    "\n",
    "For example, here is a three-part problem [adapted](http://mathforum.org/library/drmath/view/69151.html)  from mathforum.org:\n",
    "\n",
    "> An urn contains 23 balls: 8 white, 6 blue, and 9 red.  We select six balls at random (each possible selection is equally likely). What is the probability of each of these possible outcomes:\n",
    "\n",
    "> 1. all balls are red\n",
    "2. 3 are blue, 2 are white, and 1 is red\n",
    "3. exactly 4 balls are white\n",
    "\n",
    "So, an outcome is a set of 6 balls, and the sample space is the set of all possible 6 ball combinations. We'll solve each of the 3 parts using our `P` function, and also using basic arithmetic; that is, *counting*. Counting is a bit tricky because:\n",
    "- We have multiple balls of the same color. \n",
    "- An outcome is a *set* of balls, where order doesn't matter, not a *sequence*, where order matters.\n",
    "\n",
    "To account for the first issue, I'll have 8 different white balls labelled `'W1'` through `'W8'`, rather than having eight balls all labelled `'W'`.  That makes it clear that selecting `'W1'` is different from selecting `'W2'`.\n",
    "\n",
    "The second issue is handled automatically by the `P` function, but if I want to do calculations by hand, I will sometimes first count the number of *permutations* of balls, then get the number of *combinations* by dividing the number of permutations by *c*!, where *c* is the number of balls in a combination. For example, if I want to choose 2 white balls from the 8 available, there are 8 ways to choose a first white ball and 7 ways to choose a second, and therefore 8 &times; 7 = 56 permutations of two white balls. But there are only 56 / 2 = 28 combinations, because `(W1, W2)` is the same combination as `(W2, W1)`.\n",
    "\n",
    "We'll start by defining the contents of the urn:"
   ]
  },
  {
   "cell_type": "code",
   "execution_count": 2,
   "metadata": {
    "button": false,
    "collapsed": false,
    "jupyter": {
     "outputs_hidden": false
    },
    "new_sheet": false,
    "run_control": {
     "read_only": false
    }
   },
   "outputs": [],
   "source": [
    "def cross(A, B):\n",
    "    \"The set of ways of concatenating one item from collection A with one from B.\"\n",
    "    return {a + b \n",
    "            for a in A for b in B}"
   ]
  },
  {
   "cell_type": "code",
   "execution_count": 3,
   "metadata": {},
   "outputs": [
    {
     "data": {
      "text/plain": [
       "{'W1', 'W2', 'W3', 'W4'}"
      ]
     },
     "execution_count": 3,
     "metadata": {},
     "output_type": "execute_result"
    }
   ],
   "source": [
    "cross('W', '1234')"
   ]
  },
  {
   "cell_type": "code",
   "execution_count": 4,
   "metadata": {
    "button": false,
    "collapsed": false,
    "jupyter": {
     "outputs_hidden": false
    },
    "new_sheet": false,
    "run_control": {
     "read_only": false
    }
   },
   "outputs": [
    {
     "data": {
      "text/plain": [
       "{'B1',\n",
       " 'B2',\n",
       " 'B3',\n",
       " 'B4',\n",
       " 'B5',\n",
       " 'B6',\n",
       " 'R1',\n",
       " 'R2',\n",
       " 'R3',\n",
       " 'R4',\n",
       " 'R5',\n",
       " 'R6',\n",
       " 'R7',\n",
       " 'R8',\n",
       " 'R9',\n",
       " 'W1',\n",
       " 'W2',\n",
       " 'W3',\n",
       " 'W4',\n",
       " 'W5',\n",
       " 'W6',\n",
       " 'W7',\n",
       " 'W8'}"
      ]
     },
     "execution_count": 4,
     "metadata": {},
     "output_type": "execute_result"
    }
   ],
   "source": [
    "urn = cross('W', '12345678') | cross('B', '123456') | cross('R', '123456789') \n",
    "\n",
    "urn"
   ]
  },
  {
   "cell_type": "code",
   "execution_count": 5,
   "metadata": {
    "button": false,
    "collapsed": false,
    "jupyter": {
     "outputs_hidden": false
    },
    "new_sheet": false,
    "run_control": {
     "read_only": false
    }
   },
   "outputs": [
    {
     "data": {
      "text/plain": [
       "23"
      ]
     },
     "execution_count": 5,
     "metadata": {},
     "output_type": "execute_result"
    }
   ],
   "source": [
    "len(urn)"
   ]
  },
  {
   "cell_type": "markdown",
   "metadata": {
    "button": false,
    "new_sheet": false,
    "run_control": {
     "read_only": false
    }
   },
   "source": [
    "Now we can define the sample space, `U6`, as the set of all 6-ball combinations.  We use `itertools.combinations` to generate the combinations, and then join each combination into a string:"
   ]
  },
  {
   "cell_type": "code",
   "execution_count": 6,
   "metadata": {
    "button": false,
    "collapsed": false,
    "jupyter": {
     "outputs_hidden": false
    },
    "new_sheet": false,
    "run_control": {
     "read_only": false
    }
   },
   "outputs": [
    {
     "data": {
      "text/plain": [
       "100947"
      ]
     },
     "execution_count": 6,
     "metadata": {},
     "output_type": "execute_result"
    }
   ],
   "source": [
    "import itertools\n",
    "\n",
    "def combos(items, n):\n",
    "    \"All combinations of n items; each combo as a concatenated str.\"\n",
    "    return {' '.join(combo) \n",
    "            for combo in itertools.combinations(items, n)}\n",
    "\n",
    "U6 = combos(urn, 6)\n",
    "\n",
    "len(U6)"
   ]
  },
  {
   "cell_type": "markdown",
   "metadata": {
    "button": false,
    "new_sheet": false,
    "run_control": {
     "read_only": false
    }
   },
   "source": [
    "I don't want to print all 100,947 members of the sample space; let's just peek at a random sample of them:"
   ]
  },
  {
   "cell_type": "code",
   "execution_count": 7,
   "metadata": {
    "button": false,
    "collapsed": false,
    "jupyter": {
     "outputs_hidden": false
    },
    "new_sheet": false,
    "run_control": {
     "read_only": false
    }
   },
   "outputs": [
    {
     "data": {
      "text/plain": [
       "['R8 W6 W7 R2 R7 W4',\n",
       " 'R8 R5 R9 R2 W3 R7',\n",
       " 'R8 R3 B4 R9 B1 W4',\n",
       " 'B6 W6 R3 W3 W8 B3',\n",
       " 'B5 W6 B2 R6 W7 W1',\n",
       " 'W2 W6 R3 R2 B3 R7',\n",
       " 'W2 B5 R3 B4 B2 W8',\n",
       " 'R8 R3 R1 W5 W7 W1',\n",
       " 'R8 R5 W2 B1 W8 W4',\n",
       " 'B5 W6 R3 R4 B2 B1']"
      ]
     },
     "execution_count": 7,
     "metadata": {},
     "output_type": "execute_result"
    }
   ],
   "source": [
    "import random\n",
    "\n",
    "random.sample(U6, 10)"
   ]
  },
  {
   "cell_type": "markdown",
   "metadata": {
    "button": false,
    "new_sheet": false,
    "run_control": {
     "read_only": false
    }
   },
   "source": [
    "Is 100,947 really the right number of ways of choosing 6 out of 23 items, or  \"23 choose 6\", as  mathematicians [call it](https://en.wikipedia.org/wiki/Combination)?  Well, we can choose any of 23 for the first item, any of 22 for the second, and so on down to 18 for the sixth. But we don't care about the ordering of the six items, so we divide the product by 6! (the number of permutations of 6 things) giving us:\n",
    "\n",
    "$$23 ~\\mbox{choose}~ 6 = \\frac{23 \\cdot 22 \\cdot 21 \\cdot 20 \\cdot 19 \\cdot 18}{6!} = 100947$$\n",
    "\n",
    "Note that $23 \\cdot 22 \\cdot 21 \\cdot 20 \\cdot 19 \\cdot 18 = 23! \\;/\\; 17!$, so, generalizing, we can write:\n",
    "\n",
    "$$n ~\\mbox{choose}~ c = \\frac{n!}{(n - c)! \\cdot c!}$$\n",
    "\n",
    "And we can translate that to code and verify that 23 choose 6 is 100,947:"
   ]
  },
  {
   "cell_type": "raw",
   "metadata": {},
   "source": [
    "N = 23\n",
    "C = 6\n",
    "N-C 17\n",
    "\n",
    "23 * 22 * 21 * 20 *19 *18 *\n",
    "---\n",
    " 6!"
   ]
  },
  {
   "cell_type": "code",
   "execution_count": 10,
   "metadata": {
    "button": false,
    "new_sheet": false,
    "run_control": {
     "read_only": false
    }
   },
   "outputs": [],
   "source": [
    "from math import factorial\n",
    "\n",
    "def choose(n, c):\n",
    "    \"Number of ways to choose c items from a list of n items.\"\n",
    "    return factorial(n) // (factorial(n - c) * factorial(c))"
   ]
  },
  {
   "cell_type": "code",
   "execution_count": 11,
   "metadata": {
    "button": false,
    "collapsed": false,
    "jupyter": {
     "outputs_hidden": false
    },
    "new_sheet": false,
    "run_control": {
     "read_only": false
    }
   },
   "outputs": [
    {
     "data": {
      "text/plain": [
       "100947"
      ]
     },
     "execution_count": 11,
     "metadata": {},
     "output_type": "execute_result"
    }
   ],
   "source": [
    "choose(23, 6)"
   ]
  },
  {
   "cell_type": "markdown",
   "metadata": {
    "button": false,
    "new_sheet": false,
    "run_control": {
     "read_only": false
    }
   },
   "source": [
    "Now we're ready to answer the 4 problems: \n",
    "\n",
    "### Urn Problem 1: what's the probability of selecting 6 red balls? "
   ]
  },
  {
   "cell_type": "code",
   "execution_count": 12,
   "metadata": {
    "button": false,
    "collapsed": false,
    "jupyter": {
     "outputs_hidden": false
    },
    "new_sheet": false,
    "run_control": {
     "read_only": false
    }
   },
   "outputs": [
    {
     "data": {
      "text/plain": [
       "Fraction(4, 4807)"
      ]
     },
     "execution_count": 12,
     "metadata": {},
     "output_type": "execute_result"
    }
   ],
   "source": [
    "red6 = {s for s in U6 if s.count('R') == 6}\n",
    "\n",
    "P(red6, U6)"
   ]
  },
  {
   "cell_type": "code",
   "execution_count": 13,
   "metadata": {},
   "outputs": [
    {
     "data": {
      "text/plain": [
       "0.0008321198252548367"
      ]
     },
     "execution_count": 13,
     "metadata": {},
     "output_type": "execute_result"
    }
   ],
   "source": [
    "4/4807"
   ]
  },
  {
   "cell_type": "markdown",
   "metadata": {
    "button": false,
    "new_sheet": false,
    "run_control": {
     "read_only": false
    }
   },
   "source": [
    "Let's investigate a bit more. How many ways of getting 6 red balls are there?"
   ]
  },
  {
   "cell_type": "code",
   "execution_count": 14,
   "metadata": {
    "button": false,
    "collapsed": false,
    "jupyter": {
     "outputs_hidden": false
    },
    "new_sheet": false,
    "run_control": {
     "read_only": false
    }
   },
   "outputs": [
    {
     "data": {
      "text/plain": [
       "84"
      ]
     },
     "execution_count": 14,
     "metadata": {},
     "output_type": "execute_result"
    }
   ],
   "source": [
    "len(red6)"
   ]
  },
  {
   "cell_type": "markdown",
   "metadata": {
    "button": false,
    "new_sheet": false,
    "run_control": {
     "read_only": false
    }
   },
   "source": [
    "Why are there 84 ways?  Because there are 9 red balls in the urn, and we are asking how many ways we can choose 6 of them:"
   ]
  },
  {
   "cell_type": "code",
   "execution_count": 15,
   "metadata": {
    "button": false,
    "collapsed": false,
    "jupyter": {
     "outputs_hidden": false
    },
    "new_sheet": false,
    "run_control": {
     "read_only": false
    }
   },
   "outputs": [
    {
     "data": {
      "text/plain": [
       "84"
      ]
     },
     "execution_count": 15,
     "metadata": {},
     "output_type": "execute_result"
    }
   ],
   "source": [
    "choose(9, 6)"
   ]
  },
  {
   "cell_type": "markdown",
   "metadata": {
    "button": false,
    "new_sheet": false,
    "run_control": {
     "read_only": false
    }
   },
   "source": [
    "So the probabilty of 6 red balls is then just 9 choose 6 divided by the size of the sample space:"
   ]
  },
  {
   "cell_type": "code",
   "execution_count": 16,
   "metadata": {
    "button": false,
    "collapsed": false,
    "jupyter": {
     "outputs_hidden": false
    },
    "new_sheet": false,
    "run_control": {
     "read_only": false
    }
   },
   "outputs": [
    {
     "data": {
      "text/plain": [
       "True"
      ]
     },
     "execution_count": 16,
     "metadata": {},
     "output_type": "execute_result"
    }
   ],
   "source": [
    "P(red6, U6) == Fraction(choose(9, 6), \n",
    "                        len(U6))"
   ]
  },
  {
   "cell_type": "markdown",
   "metadata": {
    "button": false,
    "new_sheet": false,
    "run_control": {
     "read_only": false
    }
   },
   "source": [
    "### Urn Problem 2: what is the probability of 3 blue, 2 white, and 1 red?"
   ]
  },
  {
   "cell_type": "code",
   "execution_count": 17,
   "metadata": {
    "button": false,
    "collapsed": false,
    "jupyter": {
     "outputs_hidden": false
    },
    "new_sheet": false,
    "run_control": {
     "read_only": false
    }
   },
   "outputs": [
    {
     "data": {
      "text/plain": [
       "Fraction(240, 4807)"
      ]
     },
     "execution_count": 17,
     "metadata": {},
     "output_type": "execute_result"
    }
   ],
   "source": [
    "b3w2r1 = {s for s in U6 if\n",
    "          s.count('B') == 3 and s.count('W') == 2 and s.count('R') == 1}\n",
    "\n",
    "P(b3w2r1, U6)"
   ]
  },
  {
   "cell_type": "code",
   "execution_count": 18,
   "metadata": {},
   "outputs": [
    {
     "data": {
      "text/plain": [
       "0.0499271895152902"
      ]
     },
     "execution_count": 18,
     "metadata": {},
     "output_type": "execute_result"
    }
   ],
   "source": [
    "240/4807"
   ]
  },
  {
   "cell_type": "markdown",
   "metadata": {
    "button": false,
    "new_sheet": false,
    "run_control": {
     "read_only": false
    }
   },
   "source": [
    "We can get the same answer by counting how many ways we can choose 3 out of 6 blues, 2 out of 8 whites, and 1 out of 9 reds, and dividing by the number of possible selections:"
   ]
  },
  {
   "cell_type": "code",
   "execution_count": 19,
   "metadata": {
    "button": false,
    "collapsed": false,
    "jupyter": {
     "outputs_hidden": false
    },
    "new_sheet": false,
    "run_control": {
     "read_only": false
    }
   },
   "outputs": [
    {
     "data": {
      "text/plain": [
       "True"
      ]
     },
     "execution_count": 19,
     "metadata": {},
     "output_type": "execute_result"
    }
   ],
   "source": [
    "P(b3w2r1, U6) == Fraction(choose(6, 3) * choose(8, 2) * choose(9, 1), \n",
    "                          len(U6))"
   ]
  },
  {
   "cell_type": "markdown",
   "metadata": {
    "button": false,
    "new_sheet": false,
    "run_control": {
     "read_only": false
    }
   },
   "source": [
    "Here we don't need to divide by any factorials, because `choose` has already accounted for that. \n",
    "\n",
    "We can get the same answer by figuring: \"there are 6 ways to pick the first blue, 5 ways to pick the second blue, and 4 ways to pick the third; then 8 ways to pick the first white and 7 to pick the second; then 9 ways to pick a red. But the order `'B1, B2, B3'` should count as the same as `'B2, B3, B1'` and all the other orderings; so divide by 3! to account for the permutations of blues, by 2! to account for the permutations of whites, and by 100947 to get a probability:"
   ]
  },
  {
   "cell_type": "code",
   "execution_count": 21,
   "metadata": {
    "button": false,
    "collapsed": false,
    "jupyter": {
     "outputs_hidden": false
    },
    "new_sheet": false,
    "run_control": {
     "read_only": false
    }
   },
   "outputs": [
    {
     "data": {
      "text/plain": [
       "True"
      ]
     },
     "execution_count": 21,
     "metadata": {},
     "output_type": "execute_result"
    }
   ],
   "source": [
    " P(b3w2r1, U6) == Fraction((6 * 5 * 4) * (8 * 7) * 9, \n",
    "                           factorial(3) * factorial(2) * len(U6))"
   ]
  },
  {
   "cell_type": "markdown",
   "metadata": {
    "button": false,
    "new_sheet": false,
    "run_control": {
     "read_only": false
    }
   },
   "source": [
    "### Urn Problem 3: What is the probability of exactly 4 white balls?\n",
    "\n",
    "We can interpret this as choosing 4 out of the 8 white balls, and 2 out of the 15 non-white balls. Then we can solve it the same three ways:"
   ]
  },
  {
   "cell_type": "code",
   "execution_count": 22,
   "metadata": {
    "button": false,
    "collapsed": false,
    "jupyter": {
     "outputs_hidden": false
    },
    "new_sheet": false,
    "run_control": {
     "read_only": false
    }
   },
   "outputs": [
    {
     "data": {
      "text/plain": [
       "Fraction(350, 4807)"
      ]
     },
     "execution_count": 22,
     "metadata": {},
     "output_type": "execute_result"
    }
   ],
   "source": [
    "w4 = {s for s in U6 if\n",
    "      s.count('W') == 4}\n",
    "\n",
    "P(w4, U6)"
   ]
  },
  {
   "cell_type": "code",
   "execution_count": 26,
   "metadata": {},
   "outputs": [
    {
     "data": {
      "text/plain": [
       "7350"
      ]
     },
     "execution_count": 26,
     "metadata": {},
     "output_type": "execute_result"
    }
   ],
   "source": [
    "len(w4)"
   ]
  },
  {
   "cell_type": "code",
   "execution_count": 25,
   "metadata": {},
   "outputs": [
    {
     "data": {
      "text/plain": [
       "0.07281048470979821"
      ]
     },
     "execution_count": 25,
     "metadata": {},
     "output_type": "execute_result"
    }
   ],
   "source": [
    "350/4807"
   ]
  },
  {
   "cell_type": "code",
   "execution_count": 23,
   "metadata": {
    "button": false,
    "collapsed": false,
    "jupyter": {
     "outputs_hidden": false
    },
    "new_sheet": false,
    "run_control": {
     "read_only": false
    }
   },
   "outputs": [
    {
     "data": {
      "text/plain": [
       "True"
      ]
     },
     "execution_count": 23,
     "metadata": {},
     "output_type": "execute_result"
    }
   ],
   "source": [
    "P(w4, U6) == Fraction(choose(8, 4) * choose(15, 2),\n",
    "                      len(U6))"
   ]
  },
  {
   "cell_type": "code",
   "execution_count": 24,
   "metadata": {
    "button": false,
    "collapsed": false,
    "jupyter": {
     "outputs_hidden": false
    },
    "new_sheet": false,
    "run_control": {
     "read_only": false
    }
   },
   "outputs": [
    {
     "data": {
      "text/plain": [
       "True"
      ]
     },
     "execution_count": 24,
     "metadata": {},
     "output_type": "execute_result"
    }
   ],
   "source": [
    "P(w4, U6) == Fraction((8 * 7 * 6 * 5) * (15 * 14),   #ordering doesn't matter\n",
    "                      factorial(4) * factorial(2) * len(U6))"
   ]
  },
  {
   "cell_type": "markdown",
   "metadata": {
    "button": false,
    "new_sheet": false,
    "run_control": {
     "read_only": false
    }
   },
   "source": [
    "# Revised Version of `P`, with more general events\n",
    "\n",
    "To calculate the probability of an even die roll, I originally said\n",
    "\n",
    "    even = {2, 4, 6}\n",
    "    \n",
    "But that's inelegant&mdash;I had to explicitly enumerate all the even numbers from one to six. If I ever wanted to deal with a twelve or twenty-sided die, I would have to go back and change  `even`.  I would prefer to define `even` once and for all like this:"
   ]
  },
  {
   "cell_type": "code",
   "execution_count": 27,
   "metadata": {
    "button": false,
    "new_sheet": false,
    "run_control": {
     "read_only": false
    }
   },
   "outputs": [],
   "source": [
    "def even(n): return n % 2 == 0"
   ]
  },
  {
   "cell_type": "markdown",
   "metadata": {
    "button": false,
    "new_sheet": false,
    "run_control": {
     "read_only": false
    }
   },
   "source": [
    "Now in order to make `P(even, D)` work, I'll have to modify `P` to accept an event as either\n",
    "a *set* of outcomes (as before), or a *predicate* over outcomes&mdash;a function that returns true for an outcome that is in the event:"
   ]
  },
  {
   "cell_type": "code",
   "execution_count": 28,
   "metadata": {
    "button": false,
    "new_sheet": false,
    "run_control": {
     "read_only": false
    }
   },
   "outputs": [],
   "source": [
    "def P(event, space): \n",
    "    \"\"\"The probability of an event, given a sample space of equiprobable outcomes.\n",
    "    event can be either a set of outcomes, or a predicate (true for outcomes in the event).\"\"\"\n",
    "    if is_predicate(event):\n",
    "        event = such_that(event, space)\n",
    "    return Fraction(len(event & space), len(space))\n",
    "\n",
    "is_predicate = callable\n",
    "\n",
    "def such_that(predicate, collection): \n",
    "    \"The subset of elements in the collection for which the predicate is true.\"\n",
    "    return {e for e in collection if predicate(e)}"
   ]
  },
  {
   "cell_type": "markdown",
   "metadata": {
    "button": false,
    "new_sheet": false,
    "run_control": {
     "read_only": false
    }
   },
   "source": [
    "Here we see how `such_that`, the new `even` predicate, and the new `P` work:"
   ]
  },
  {
   "cell_type": "code",
   "execution_count": 29,
   "metadata": {
    "button": false,
    "collapsed": false,
    "jupyter": {
     "outputs_hidden": false
    },
    "new_sheet": false,
    "run_control": {
     "read_only": false
    }
   },
   "outputs": [
    {
     "data": {
      "text/plain": [
       "{2, 4, 6}"
      ]
     },
     "execution_count": 29,
     "metadata": {},
     "output_type": "execute_result"
    }
   ],
   "source": [
    "such_that(even, D)"
   ]
  },
  {
   "cell_type": "code",
   "execution_count": 30,
   "metadata": {
    "button": false,
    "collapsed": false,
    "jupyter": {
     "outputs_hidden": false
    },
    "new_sheet": false,
    "run_control": {
     "read_only": false
    }
   },
   "outputs": [
    {
     "data": {
      "text/plain": [
       "Fraction(1, 2)"
      ]
     },
     "execution_count": 30,
     "metadata": {},
     "output_type": "execute_result"
    }
   ],
   "source": [
    "P(even, D)"
   ]
  },
  {
   "cell_type": "code",
   "execution_count": 31,
   "metadata": {
    "button": false,
    "collapsed": false,
    "jupyter": {
     "outputs_hidden": false
    },
    "new_sheet": false,
    "run_control": {
     "read_only": false
    }
   },
   "outputs": [
    {
     "data": {
      "text/plain": [
       "{2, 4, 6, 8, 10, 12}"
      ]
     },
     "execution_count": 31,
     "metadata": {},
     "output_type": "execute_result"
    }
   ],
   "source": [
    "D12 = {1, 2, 3, 4, 5, 6, 7, 8, 9, 10, 11, 12}\n",
    "\n",
    "such_that(even, D12)"
   ]
  },
  {
   "cell_type": "code",
   "execution_count": 33,
   "metadata": {
    "button": false,
    "collapsed": false,
    "jupyter": {
     "outputs_hidden": false
    },
    "new_sheet": false,
    "run_control": {
     "read_only": false
    }
   },
   "outputs": [
    {
     "data": {
      "text/plain": [
       "Fraction(1, 2)"
      ]
     },
     "execution_count": 33,
     "metadata": {},
     "output_type": "execute_result"
    }
   ],
   "source": [
    "P(even, D12)"
   ]
  },
  {
   "cell_type": "markdown",
   "metadata": {
    "button": false,
    "new_sheet": false,
    "run_control": {
     "read_only": false
    }
   },
   "source": [
    "Note: `such_that` is just like the built-in function `filter`, except `such_that` returns a set.\n",
    "\n",
    "We can now define more interesting events using predicates; for example we can determine the probability that the sum of a three-dice roll is prime (using a definition of `is_prime` that is efficient enough for small `n`):"
   ]
  },
  {
   "cell_type": "code",
   "execution_count": 39,
   "metadata": {
    "button": false,
    "collapsed": false,
    "jupyter": {
     "outputs_hidden": false
    },
    "new_sheet": false,
    "run_control": {
     "read_only": false
    }
   },
   "outputs": [
    {
     "data": {
      "text/plain": [
       "Fraction(73, 216)"
      ]
     },
     "execution_count": 39,
     "metadata": {},
     "output_type": "execute_result"
    }
   ],
   "source": [
    "D3 = {(d1, d2, d3) for d1 in D for d2 in D for d3 in D}\n",
    "\n",
    "def prime_sum(outcome): return is_prime(sum(outcome))\n",
    "\n",
    "def is_prime(n): return n > 1 and not any(n % i == 0 for i in range(2, n))  #as long as 1 value is True, any will return True\n",
    "\n",
    "P(prime_sum, D3)"
   ]
  },
  {
   "cell_type": "code",
   "execution_count": 35,
   "metadata": {},
   "outputs": [
    {
     "data": {
      "text/plain": [
       "0.33796296296296297"
      ]
     },
     "execution_count": 35,
     "metadata": {},
     "output_type": "execute_result"
    }
   ],
   "source": [
    "73/216."
   ]
  },
  {
   "cell_type": "markdown",
   "metadata": {
    "button": false,
    "new_sheet": false,
    "run_control": {
     "read_only": false
    }
   },
   "source": [
    "# Card Problems\n",
    "\n",
    "Consider dealing a hand of five playing cards. We can define `deck` as a set of 52 cards, and `Hands` as the sample space of all combinations of 5 cards:"
   ]
  },
  {
   "cell_type": "code",
   "execution_count": 40,
   "metadata": {
    "button": false,
    "collapsed": false,
    "jupyter": {
     "outputs_hidden": false
    },
    "new_sheet": false,
    "run_control": {
     "read_only": false
    }
   },
   "outputs": [
    {
     "data": {
      "text/plain": [
       "52"
      ]
     },
     "execution_count": 40,
     "metadata": {},
     "output_type": "execute_result"
    }
   ],
   "source": [
    "suits = 'SHDC'\n",
    "ranks = 'A23456789TJQK'\n",
    "deck  = cross(ranks, suits)\n",
    "len(deck)"
   ]
  },
  {
   "cell_type": "code",
   "execution_count": 41,
   "metadata": {
    "scrolled": true
   },
   "outputs": [
    {
     "data": {
      "text/plain": [
       "{'2C',\n",
       " '2D',\n",
       " '2H',\n",
       " '2S',\n",
       " '3C',\n",
       " '3D',\n",
       " '3H',\n",
       " '3S',\n",
       " '4C',\n",
       " '4D',\n",
       " '4H',\n",
       " '4S',\n",
       " '5C',\n",
       " '5D',\n",
       " '5H',\n",
       " '5S',\n",
       " '6C',\n",
       " '6D',\n",
       " '6H',\n",
       " '6S',\n",
       " '7C',\n",
       " '7D',\n",
       " '7H',\n",
       " '7S',\n",
       " '8C',\n",
       " '8D',\n",
       " '8H',\n",
       " '8S',\n",
       " '9C',\n",
       " '9D',\n",
       " '9H',\n",
       " '9S',\n",
       " 'AC',\n",
       " 'AD',\n",
       " 'AH',\n",
       " 'AS',\n",
       " 'JC',\n",
       " 'JD',\n",
       " 'JH',\n",
       " 'JS',\n",
       " 'KC',\n",
       " 'KD',\n",
       " 'KH',\n",
       " 'KS',\n",
       " 'QC',\n",
       " 'QD',\n",
       " 'QH',\n",
       " 'QS',\n",
       " 'TC',\n",
       " 'TD',\n",
       " 'TH',\n",
       " 'TS'}"
      ]
     },
     "execution_count": 41,
     "metadata": {},
     "output_type": "execute_result"
    }
   ],
   "source": [
    "deck"
   ]
  },
  {
   "cell_type": "code",
   "execution_count": 42,
   "metadata": {
    "scrolled": true
   },
   "outputs": [
    {
     "data": {
      "text/plain": [
       "{'6S AS QD 7D QC',\n",
       " 'KD AD 8H 7S 5D',\n",
       " '8D 8C TC 3S KS',\n",
       " 'JH TH AD QD TD',\n",
       " 'AD 6C 4D 7D 9H',\n",
       " '6H 3C KH 7D QC',\n",
       " '6S JH KD 3S TD',\n",
       " '4S AH QS 5D KS',\n",
       " '2C 6D TH 7H JD',\n",
       " 'AS 9S 4D KH TD',\n",
       " 'AS 6D QH QD 9H',\n",
       " '9D 6S TS 3S JS',\n",
       " '6S 4S TC 5D 9C',\n",
       " '6S 3H 8D QH 9C',\n",
       " 'JC KD KC TS KH',\n",
       " 'AH 4C 7H KC 3C',\n",
       " '9D JC QS 5S 4H',\n",
       " '3H 8C 5C KS 7D',\n",
       " '2C 9S 7S 4H QC',\n",
       " '2C 3D 7S 3C JD',\n",
       " '2C 9S 4D AC QC',\n",
       " 'AS TH 8H 4H TD',\n",
       " '2C 5H 8S 6C QD',\n",
       " '3D 7C TH 5S JS',\n",
       " '3H 9S 8H KH AC',\n",
       " '6S TH QH 3C 4H',\n",
       " '9D 4S 6D 8H QD',\n",
       " '9D 6D 8C 2S 6C',\n",
       " '6D 7H 7S 6C TD',\n",
       " '3H JH 7C 7S TS',\n",
       " 'AS 8S KD TC KC',\n",
       " 'JC AS QS 3C QC',\n",
       " 'JH 8C TC 3S 9H',\n",
       " '3D 2S AD 4H JS',\n",
       " '7C 2D 5S TS 9H',\n",
       " 'JC 9S 3D TH 6C',\n",
       " '9D 6D 8C 7D TD',\n",
       " '8D 5C 9C 5S 3S',\n",
       " 'TH QH 2S 5D QC',\n",
       " '6S 7H KH JD QC',\n",
       " 'AS 5C AD 3C TS',\n",
       " '4S AH 5H 8H 3S',\n",
       " '6H AD JD 2H QC',\n",
       " '3H 6H QS TC 6C',\n",
       " '6S 3D QS TH 7H',\n",
       " '7C QS 3C KH QC',\n",
       " '7S KC 2D 4H QC',\n",
       " '6S 6D 6H 5D 9H',\n",
       " '6S 8S QH 6C TS',\n",
       " '9D 5H 2S KH 2H',\n",
       " 'JH 8H 9C 3S KH',\n",
       " '2C 9S 7H 3S 7D',\n",
       " '2S 9C 4D AC JD',\n",
       " 'JC AS 5H 8S QH',\n",
       " '3H AH 9S 4H KH',\n",
       " '3H 8D 6H QS KD',\n",
       " '6D 5D 5S AC JD',\n",
       " 'JC TH QH 9C JS',\n",
       " '4S AS KC 3C TS',\n",
       " '4S 3D 6C 5S TD',\n",
       " '6S 7C QS 8C TD',\n",
       " 'AH 3D AD 5D 9H',\n",
       " 'KC 7D AC 9H QC',\n",
       " '9D 6S 3H 5D JD',\n",
       " '4S 4C KD TH 2D',\n",
       " '5H 8D 6H AD TS',\n",
       " 'TH 5C 3C 3S AC',\n",
       " '5H 4C 7H 5S 2H',\n",
       " '4C 2S TC 8H 4H',\n",
       " '9D 5C TC JD TD',\n",
       " '7S 2D 4H KS JD',\n",
       " '6H 8C 5D 9C 4D',\n",
       " '8D 6H KC JS TD',\n",
       " '9S 4C 7C 7S 5S',\n",
       " '6S 5C 3S 4D JS',\n",
       " '2C 9S TH TD QC',\n",
       " '6D 8S 5S JS 9H',\n",
       " '7H 2S 7S KC KH',\n",
       " '6D 8C 2S 4H KS',\n",
       " '4C 7C QH 7H 8H',\n",
       " 'JC 3D QS KH 2H',\n",
       " '6S 8D 6D 2S 4D',\n",
       " 'JC AH 8D 4H 7D',\n",
       " 'AH 8C 4D JD QC',\n",
       " '2C 8S 2S AD TC',\n",
       " 'AH 8D 5C AC 9H',\n",
       " 'AH 6H AD AC 2H',\n",
       " 'AH AS 6D QH 5S',\n",
       " '5D 2D 9C 5S AC',\n",
       " '4S 6H TC TS 3S',\n",
       " '9D 2C QD JS 2H',\n",
       " '9D 4S KS 7D JS',\n",
       " 'JC AS 6H 4C TS',\n",
       " 'JH 6H 7C KC 9H',\n",
       " 'JC 3D KH 9H JD',\n",
       " 'JC 8H 2D QD JD',\n",
       " 'AH 8D 6D 9S 3D',\n",
       " '6D JH 7C TH KC',\n",
       " 'JC 5H 5D 3C TS',\n",
       " 'KD TS 3S AC 9H',\n",
       " '8D JH QH 9C QC',\n",
       " '5H JH QH 2H QC',\n",
       " '6S 6H QS KC 5S',\n",
       " '8S 7C 6C QD 3S',\n",
       " '4C 5C 5D JD 2H',\n",
       " 'TH 7H 3S 2H QC',\n",
       " '4S 8H 9C 5S JD',\n",
       " '8S 9S 3D 2S 5S',\n",
       " '2C 5H JH TH 6C',\n",
       " '3D 4C TH 2S JD',\n",
       " '7H 5S QD AC 9H',\n",
       " '2C 4C 7S 3S 4D',\n",
       " '4S 3D 3C 7D 9H',\n",
       " '7C 8C 2S 8H 7S',\n",
       " '4S TH 7S 4H JS',\n",
       " '9D JC 3H KS JD',\n",
       " '6S 6H 8H KC KS',\n",
       " 'JC 7H AD 3C QC',\n",
       " '4S 3D QS 9C JS',\n",
       " '6D 7C 8H 7D JS',\n",
       " 'JH 9S 7S 6C 5S',\n",
       " '7C 8C 5C 7H 5D',\n",
       " '6D JH QH TC AC',\n",
       " '3H AD KC 3S 2H',\n",
       " '7C 3S 4D JD QC',\n",
       " 'TC TS 4D KS JD',\n",
       " 'AH KD 7S KC AC',\n",
       " '2C TH 6C TS 4D',\n",
       " '9S 7C 3C 7D 2H',\n",
       " '6S 3C 6C QD 4H',\n",
       " '9D 8H KC KH QC',\n",
       " '6D KC 3C 7D JS',\n",
       " '5H 3D 8H 4H JD',\n",
       " '6S 4S TS AC TD',\n",
       " '2D 5S 3S 7D AC',\n",
       " 'JC 8D 3D 5S 2H',\n",
       " 'AS JH 8S TS KH',\n",
       " 'AH 6H TH 8C KC',\n",
       " '4S 3H 6D JH QD',\n",
       " '8S 3D QS 3C 9H',\n",
       " '7C 5C 5D 9C AC',\n",
       " 'AS KD 3S 4D TD',\n",
       " '8S 8C QH 7S 5D',\n",
       " 'AH 9S 7C KH 9H',\n",
       " 'JC 2C 8S 5D 6C',\n",
       " '3H KD 9C QD 4H',\n",
       " '6S 6H 8H 9C QD',\n",
       " 'AH 8D 9S 2D JD',\n",
       " '6H 4C 5C 6C 2H',\n",
       " '9D 5C AD 5D JD',\n",
       " 'TC 3C 5S JS TD',\n",
       " '9S 2S TS 3S JD',\n",
       " '5H TH TC 7S 3S',\n",
       " '9D 5H 7C QS 7H',\n",
       " '9S 4C 7C TC 3S',\n",
       " '4S TC 7S 3S JS',\n",
       " '6S 2C AS 8H 5S',\n",
       " '8D TH TC 9H QC',\n",
       " 'AS 3D 4C 8H KS',\n",
       " 'AH 8D 8S TC QC',\n",
       " '5H 6D 6H JD QC',\n",
       " 'JC AS 6H 2H QC',\n",
       " '3H AS 6D 3D 8H',\n",
       " '3H 5C 2D 5S QD',\n",
       " 'AH 5H 6H 4C 5C',\n",
       " 'JH 3D 7C AD JD',\n",
       " '2C QS KC 4D AC',\n",
       " '6S 8D 7S KS KH',\n",
       " '9D 6S JC TC 4D',\n",
       " 'AH 5C 3S KH QC',\n",
       " 'JH TH 5C TS 2H',\n",
       " 'JH KD 4H KH TD',\n",
       " 'JH 5C 2D TS AC',\n",
       " '2C 8C 5C 3S 2H',\n",
       " 'JC 6D 3D 9C 2H',\n",
       " '3H 8D 6H 7C 3C',\n",
       " '8S 7H KS JS TD',\n",
       " '6S QS KC 6C 4D',\n",
       " '4S 8D TH KH AC',\n",
       " '5H 8D 7H 6C KS',\n",
       " '3H AH 5H 8S 3D',\n",
       " '9S QS 7H 6C QC',\n",
       " '2C 8S 7H TS QC',\n",
       " '8S 8H 5S 4H AC',\n",
       " '2C AS 5C 6C 9C',\n",
       " '6D QS 7H 5S KH',\n",
       " '9D 5H 2S 2D KS',\n",
       " '3D TC 2D QD 9H',\n",
       " '4S JC 9S QH TS',\n",
       " 'AH 6D 7H 5D 4D',\n",
       " '9D 6H 2D QD 9H',\n",
       " 'AS 6D 9C 7D 9H',\n",
       " '9D 5H 5C 9C 5S',\n",
       " '2C 5H KD 6C KS',\n",
       " 'AH 5C KS KH 7D',\n",
       " '6D 5D 4D KH 2H',\n",
       " 'AH 6D QH 6C 9H',\n",
       " '3H 2C QH 7D AC',\n",
       " '7C QH KC 3C 6C',\n",
       " '3H JH 8S QS KS',\n",
       " 'AS 9S AC 9H TD',\n",
       " 'JC AS 3D 5C 3C',\n",
       " 'TH 7S KS AC 2H',\n",
       " 'AS 7C 7H 9H TD',\n",
       " 'QS QH 8H KS JD',\n",
       " '4S 2C 2S KH TD',\n",
       " '5H 9S 4C 8H 2D',\n",
       " '9S KC QD 4H JD',\n",
       " '6S 4S QS 5C 5D',\n",
       " '2C 5H 2S 2H TD',\n",
       " '6H QH TC 5S QD',\n",
       " 'JC 3D 4C 8H 5S',\n",
       " 'AH KC KS 2H TD',\n",
       " '3H 8S KD 7H 3C',\n",
       " '4C 8C AD TS 3S',\n",
       " '9S 4C QS KS 9H',\n",
       " '6S 6D 8S 4C QH',\n",
       " 'JH 7S 4H KH 2H',\n",
       " 'AS 6H 3D 4D QC',\n",
       " '3D TH AD TC 8H',\n",
       " '3H 6D 3C 2D 4H',\n",
       " '4C 7S 6C 7D 2H',\n",
       " '9D 4S 5H TH 2S',\n",
       " '6D KD 7S 7D 9H',\n",
       " '4S 8D 5C 3C 9C',\n",
       " '6H KD AD 9C 7D',\n",
       " 'AS 4C QD JS 9H',\n",
       " '9S 5D 6C TS 9H',\n",
       " '9D 8S TH 7H 2D',\n",
       " '5H 3C 9C 4H 4D',\n",
       " '4S JH 9S KC 3S',\n",
       " 'JC 5H 2S 6C TD',\n",
       " '8S TH 5D 5S KS',\n",
       " '8D 4C KD 3C KS',\n",
       " 'AS 6D 5D 4D KS',\n",
       " '4C 4H KS 9H QC',\n",
       " '4C 8C QH 4H 4D',\n",
       " '4S 6D AD 9C 4H',\n",
       " '2C TH KC 6C 4H',\n",
       " '3H 4C 5D 9C TD',\n",
       " '2C TC 5D 2D QD',\n",
       " '9D TH 5D JS QC',\n",
       " 'JC JH 3C 2D 6C',\n",
       " '6S JH 3D JS AC',\n",
       " 'JC AH 8S 3D KC',\n",
       " '9D JC 3H 4C KC',\n",
       " 'JH 8S TC KC 9C',\n",
       " 'AD 7S KC QD 7D',\n",
       " 'JH 6C 3S AC TD',\n",
       " '8D 4C AD JS 2H',\n",
       " '7C 8C 7H 2D TD',\n",
       " '8S 5C 8H 4D KS',\n",
       " '6S 4C 5C TC 9C',\n",
       " '4S JH 7C 8C 3C',\n",
       " '2C 8D 7C 6C 5S',\n",
       " '3H 6H 3C QD JD',\n",
       " '3H 2S QD 3S JS',\n",
       " '6D 7C QS AD JD',\n",
       " '4S 3H JH 4D AC',\n",
       " 'AH 9S 6C 3S 4H',\n",
       " '4C TC 6C AC 9H',\n",
       " '2C 6D 8S KD QC',\n",
       " '2C 4C TC 8H 5D',\n",
       " '6S 4S 5H QS 5C',\n",
       " '3H 4C TH QH 4D',\n",
       " '8S 6H 3S KS JD',\n",
       " 'JC 6D KC 5D 4H',\n",
       " 'KD TH 2D QD 4D',\n",
       " '3H KD 2S 9C 3S',\n",
       " '6S 5H 8D 7S TS',\n",
       " '6S TC QD TS 4D',\n",
       " '4S 2C 5H 6D 7D',\n",
       " '4S QH AD 5D TS',\n",
       " 'JH 7C TS JD 2H',\n",
       " '9D TC 7S QD 2H',\n",
       " '9D KD TH TC 9H',\n",
       " 'AS 2D TS 3S KH',\n",
       " '3H AH 8S 8H 4D',\n",
       " '5H 3D 4C QS 7H',\n",
       " 'JC 8S 8H 9C QC',\n",
       " 'AS 6H 7C 9C 9H',\n",
       " 'TH 5C 4D KS 7D',\n",
       " 'TH QH 7S KC JD',\n",
       " '9D 6D JH KS TD',\n",
       " '6S 3H 2C 5D 9C',\n",
       " '6D QS QH TS 7D',\n",
       " '9D AS TS KH 7D',\n",
       " '6S 5H 4D 2H QC',\n",
       " 'QH 5C 6C 9C TD',\n",
       " '4S 3H 5H 6H AD',\n",
       " '9D 8H 5S JS JD',\n",
       " 'JH 3D KD QD 3S',\n",
       " 'AS 5D 3C 6C 3S',\n",
       " 'QS TC KC KH 2H',\n",
       " '3H 8C KH 7D JS',\n",
       " '3D QS TH 3C 9C',\n",
       " '5H 6H QD 3S 7D',\n",
       " 'AS 8S 3C 5S 4D',\n",
       " '9D 6D AD 2D 9H',\n",
       " '4C KD 5C 8H 9C',\n",
       " '4C 7S KC 6C TS',\n",
       " '6S AH 8D QS 8C',\n",
       " '6S 8D 4C QH QC',\n",
       " 'AS 6H 5D 6C 2H',\n",
       " 'JC 6H 2S 7D 9H',\n",
       " '6C 5S QD 4D KS',\n",
       " '9D 2C 8S 6H 7H',\n",
       " '9D 3H AH QD JS',\n",
       " '4S 2C 9S QH 8H',\n",
       " '4C 7S 2D TS KH',\n",
       " '4S 3H 7C QH 6C',\n",
       " 'AS 5H AD 7S KC',\n",
       " '6S 8S 2S QD TD',\n",
       " 'JC JH 7H 4D JS',\n",
       " 'AH 5H 6D 9S TD',\n",
       " 'AS 5H 5D 2D TD',\n",
       " 'JH 9S QD KH 7D',\n",
       " '5H 8H 6C 9C 4D',\n",
       " 'JH 9S AD 7S TS',\n",
       " 'JC 9S KD 2D TD',\n",
       " '2C TH 5C 9C TS',\n",
       " 'JC 8D QH KC 7D',\n",
       " '8C QH 2S QD 9H',\n",
       " '5C 7H 5D 9C 4D',\n",
       " '2C AS 8D KD 9C',\n",
       " '3H 8S 5D 6C 7D',\n",
       " '3D 7C KD TC 2D',\n",
       " '2C 4C QH 2S 3S',\n",
       " 'AS 8S 5D 5S TS',\n",
       " 'JC 9S 2S TD QC',\n",
       " 'AH QH 7H 3C 9H',\n",
       " '9D JC 3H AH 9H',\n",
       " '2C 8S 7C 2S 4D',\n",
       " '9D KD KC JS TD',\n",
       " '3H 9S TH 5C 3C',\n",
       " 'AH 8D 3D 5C 8H',\n",
       " '8S 8H KC 9C 3S',\n",
       " '9D AH 4C 5D JD',\n",
       " '9D QH 5D 9C 7D',\n",
       " 'AS 4C 6C KS 9H',\n",
       " '9D AD 5S 4D KH',\n",
       " '6D 6H TH 7H 4H',\n",
       " '6D 5S 4H JD TD',\n",
       " '9D 3H 7H TC TD',\n",
       " '8S 9S QS 7S 4H',\n",
       " 'JC AS QH 7D QC',\n",
       " '9D 2C 2S 9C JD',\n",
       " '9D QS QH 2S 9H',\n",
       " 'JC 8D 4C AD JD',\n",
       " '6S AD 2D 5S JS',\n",
       " '8D 6D 6H 8C TD',\n",
       " '3D 4C 7S TS 4D',\n",
       " '8H KH JS 9H TD',\n",
       " '4S 7H 9C KS JS',\n",
       " 'AD 8H 2D 3S 7D',\n",
       " '2C QS TH QH 2D',\n",
       " '3D QS 7H 2D AC',\n",
       " '3H 5C 5D 3C 4H',\n",
       " '4S 5H 8S AD 3C',\n",
       " '5H 3C 5S AC JD',\n",
       " 'TC 5D TS 9H TD',\n",
       " '8S TH QH QD JD',\n",
       " '9D AH 7C 7S AC',\n",
       " '4S 5H 6C 5S 3S',\n",
       " '8S 7C 8C 7H QD',\n",
       " '9S 3D 9C TS KH',\n",
       " 'AH AS 9S TH TS',\n",
       " '9D 3H 7C AD KC',\n",
       " '2C AS QS 9C 5S',\n",
       " '8D 7S 6C 5S KS',\n",
       " '9D 4S 6D 7S 9H',\n",
       " '7C TC KC 5D JD',\n",
       " 'KD 7H 2S 5D KS',\n",
       " '9D 5C AD TC 7D',\n",
       " '5H 4C QS 2D 9C',\n",
       " '4S 8D QH 5D TD',\n",
       " '3D 5C 3S 4H 2H',\n",
       " '4S 6D 7H KC JS',\n",
       " 'JH 9S 3D QH JS',\n",
       " 'JC QS 5C KC KH',\n",
       " '8D QH 2S KC TS',\n",
       " 'JH KC 3C 7D 9H',\n",
       " '6H 2D 9C 5S JD',\n",
       " '3H 5H 6H KH QC',\n",
       " 'JC 8D JH KC AC',\n",
       " '4S 8H KC KS JD',\n",
       " '8S 4C 6C KH QC',\n",
       " 'AH QS TH 2S 7S',\n",
       " 'AH 8S QS 3C KH',\n",
       " '6S 5H TH KS TD',\n",
       " 'JC 8C 3S KS JS',\n",
       " '8S TH 8H QD 2H',\n",
       " '6S 5H QS KD KH',\n",
       " '6S QS AD 3S AC',\n",
       " 'QH 7H 5S QD KH',\n",
       " '9D 3H 2C 8C 4D',\n",
       " '6D 7C QS 8C 2D',\n",
       " '6S 4S AS 7S QC',\n",
       " '6D 7C TC 3C 4H',\n",
       " '4S JH 8S QD TS',\n",
       " '4S 8D TH KC AC',\n",
       " '4S AS QS TH 8C',\n",
       " '4S JC 7C KC QD',\n",
       " '9D 4S 2S 9C JD',\n",
       " '9S 4C KD 7D TD',\n",
       " 'TH 8H 6C 5S 4D',\n",
       " '8D KD 8C 5C 4H',\n",
       " '9D 6S 3D 3S KS',\n",
       " 'AS QD TS 7D AC',\n",
       " 'JH QH AD 2D QC',\n",
       " '3H 2C KD QH QD',\n",
       " '3H AH 6D KC 9H',\n",
       " '9D JC QS QH 6C',\n",
       " '5H 8H 6C 3S 4D',\n",
       " 'TH JS AC 9H 2H',\n",
       " '6S 8S 6H 4C AC',\n",
       " 'JC 3D KC KH JS',\n",
       " '9D 2C TH 4H 7D',\n",
       " '7C TH TC 5D 9C',\n",
       " '3H 6D 6H 2S 3C',\n",
       " 'QS 2S 2D QD KS',\n",
       " '8D KD TC 5D AC',\n",
       " '2C 8D 7C 7S 2D',\n",
       " 'AD 7S KC 2D JD',\n",
       " '8D JH 8C TS TD',\n",
       " '9D JC 6D 2S 7D',\n",
       " '4S JH 6H 8C 5S',\n",
       " '9D 7S 3S JS AC',\n",
       " 'TH 5C QD KS TD',\n",
       " '2C 8C TS 4H KS',\n",
       " '6S 8D 6C 4D JD',\n",
       " 'AH 2C 6H 6C QC',\n",
       " 'AS AD KH JS 2H',\n",
       " 'TH 2D 3S KS 7D',\n",
       " '6S 8H 5D 5S JS',\n",
       " '8S 9S 3D 5C 7H',\n",
       " '7S 2D 9C 5S TS',\n",
       " '3D 7H 2D 5S 9H',\n",
       " '9D 3H QS 7H QD',\n",
       " '9D 4C 5D 3C 4H',\n",
       " '6S QH 2S 4D KH',\n",
       " '8S 6H 5D 4D AC',\n",
       " 'JC 3H 3S 4D AC',\n",
       " '8D KC 5D 5S 9H',\n",
       " 'JH 7S QD JS AC',\n",
       " 'QH 8H KC 9C JS',\n",
       " 'KD 7H 5D 9H QC',\n",
       " 'KC 5D 3C 6C JD',\n",
       " '6D 6H TH TC 3S',\n",
       " '6H 5C AD 7S QD',\n",
       " '8S 3C 2D 6C 9C',\n",
       " '6S AS QS QD 4D',\n",
       " '6S 8D 8C 2S 5S',\n",
       " 'AD 7S 3C 2D AC',\n",
       " 'JC 7H KH 7D AC',\n",
       " 'AS 6H 4C KS 7D',\n",
       " '8S KC 3C 5S AC',\n",
       " '2C QS KD QH 3C',\n",
       " 'JH 8S TH AC TD',\n",
       " 'AS 5C TS 4D AC',\n",
       " '4S 7S 6C QD 9H',\n",
       " 'AS 9S 4C TS AC',\n",
       " '6D QH 3S KS JS',\n",
       " 'JH 3D 2D 4D 2H',\n",
       " '6S AS JH QD JD',\n",
       " '9D 8S 7H KS JD',\n",
       " 'JC 4C KC 5D QC',\n",
       " 'JH 7C 7S 6C AC',\n",
       " '4S 5H 3D 2S 8H',\n",
       " 'AS 8C 7H 9H JD',\n",
       " '5H 6C 3S KS JS',\n",
       " '8C 8H 7S 5D QC',\n",
       " 'AS 8S TC TS 4D',\n",
       " '6D 9S 6H TH 2H',\n",
       " '8D JH 7C KS 2H',\n",
       " '4S 3D 8H 5D QD',\n",
       " '9S 6H 3D QS AD',\n",
       " '6S 4C QS 5S QC',\n",
       " 'JC QH 8H 5D TS',\n",
       " '2D QD KH 7D TD',\n",
       " '5H JH 8S 7C TD',\n",
       " '6H 3D KD 8C 5C',\n",
       " '3D 4C 6C KH AC',\n",
       " '9S 4H KS KH AC',\n",
       " '4C 7C 7H 8H 5S',\n",
       " 'JH 5C 3C 6C JD',\n",
       " 'AH 5H 6H 8H 2D',\n",
       " '4S AS QH AD 7D',\n",
       " '4C 7S 3C 4H KS',\n",
       " 'AS 3D 5C 7S 9H',\n",
       " '5H 2S TS 3S 7D',\n",
       " '4S 2D KS AC 2H',\n",
       " '5H 8D 8S 4C AC',\n",
       " '6D 9S KD 2D 9C',\n",
       " '6D QH 5D 2D 7D',\n",
       " '8S 9S 7C KC 6C',\n",
       " 'AH 9S 6H TC JD',\n",
       " 'AH 4C QD TS 7D',\n",
       " '4S 4C 5D 6C 9C',\n",
       " '4S JH 5C 2S 4H',\n",
       " '2C 9S 2D 6C 3S',\n",
       " 'AH 6D 8C 2S 2D',\n",
       " '3H 5H 6D 5C 3C',\n",
       " 'TH QD TS TD QC',\n",
       " 'AH 4C 8C AD 4H',\n",
       " 'AS 7S KC 2D KH',\n",
       " 'JH 3D 2D QD 3S',\n",
       " '3H AH 8D 3D 9H',\n",
       " 'JC 6H 5D KH JS',\n",
       " '5H AD TC KC KS',\n",
       " 'TH 5C TS 4H 9H',\n",
       " '4S 8D 2S 3C QD',\n",
       " 'QH 5D 5S 3S 9H',\n",
       " '6S 7H 7S TS 2H',\n",
       " 'AH JH 9C TS 2H',\n",
       " '4S 6D 7S 2D QD',\n",
       " 'JC QS 7H 6C KH',\n",
       " '4S JC TC 4D 2H',\n",
       " 'JH QS TC 7S TS',\n",
       " '8H 7S 9C 2H TD',\n",
       " '9D KD TC 6C JS',\n",
       " '7H AD 3S KS KH',\n",
       " 'AH 2C 9S AD 8H',\n",
       " '4S 8S QS KH JD',\n",
       " '8S 9S 3D 4D JD',\n",
       " '6S 2S 8H KC QD',\n",
       " '9D 8C 8H JS 2H',\n",
       " 'JC KD QH 7H KS',\n",
       " '5H AD 5S QD TD',\n",
       " '2C 9S QS AC JD',\n",
       " 'AH 8D 3D 4D AC',\n",
       " '6S JC QH TC 3C',\n",
       " '3H 7S KC 9C 9H',\n",
       " 'JC JH 8S TH 7D',\n",
       " 'KD 7H 2S 8H 7S',\n",
       " '7H 9C 5S 7D QC',\n",
       " '6S KD 5S 2H QC',\n",
       " '9D 4S 5H KC 5S',\n",
       " 'AS 4C 5C 8H KS',\n",
       " 'JC TC 9C 7D AC',\n",
       " 'JC 8D 7S 2D QC',\n",
       " 'TH AD KC 5S 4H',\n",
       " '6S 8H 7S 3C 2D',\n",
       " '6S 8S 6C 5S JD',\n",
       " '3H 5H 7H 2S 4D',\n",
       " '8D 5C 2D 4H 7D',\n",
       " '6S 7S 9C 4H QC',\n",
       " 'JC 7H 8H QD 4H',\n",
       " 'JC 9S 5C 8H AC',\n",
       " 'AS QS 8H KS TD',\n",
       " '5C 3C 6C 9C 4D',\n",
       " 'JC 8S AD AC 9H',\n",
       " '4S 8S 7H TC 4D',\n",
       " '9S 6H 2S AD TS',\n",
       " '2C 3D 6C TS AC',\n",
       " '3D KD 8H AC 2H',\n",
       " '9D 3H AS 6D TD',\n",
       " '7C QS QH 7S KC',\n",
       " '9D KD 2S 7D AC',\n",
       " '7C 2D KH 9H 2H',\n",
       " '4S KD QH 6C 4H',\n",
       " 'JC AS 6H TS KS',\n",
       " '5C 2S AD KC 9C',\n",
       " 'AS 3D 8H 5D 3C',\n",
       " 'JH TC 6C 5S QD',\n",
       " '4C 7H AD 6C AC',\n",
       " 'TC 2D JS JD 2H',\n",
       " '8S 5C AD 7S 5S',\n",
       " '9D 8D JH KD 6C',\n",
       " '3H 8S 9S KD TC',\n",
       " 'JH 4C QS 7D AC',\n",
       " 'AS TC 8H KS 7D',\n",
       " '9D 6H 4C KC 4D',\n",
       " '8S 9S 3D 8H 7S',\n",
       " '4S 5D 6C TS QC',\n",
       " '9D 7H KC 6C 7D',\n",
       " 'AS 6D KD 8H 7D',\n",
       " '5H 3D 2S 6C TS',\n",
       " '2C 5H 8H 5D 4H',\n",
       " '2C 9S 4C QS TS',\n",
       " 'JH QH 2S 4H 2H',\n",
       " '5H 2S 5S 4D TD',\n",
       " 'JH QS TC 6C QC',\n",
       " '9D AH 5C 6C 9H',\n",
       " 'JC 5H 6D QD 7D',\n",
       " '6S JC KD KC KS',\n",
       " '3H 2C 3D 4C QC',\n",
       " '3H 5H AD 3C QD',\n",
       " '8D 3D 5S TS 7D',\n",
       " '9D 6S QH TC 7S',\n",
       " 'JH 5D 2D QD 2H',\n",
       " '8C 3C 9C KS AC',\n",
       " '6H QH 5C TC 7D',\n",
       " 'JC 8D 8C 9C 4D',\n",
       " '9D 8D 6H 5C JS',\n",
       " 'JH 8S QD KH AC',\n",
       " '4S TH TC 6C 4H',\n",
       " 'AH 8S 4C 7C JS',\n",
       " '3H AH 9C 7D QC',\n",
       " '8S 2S TC 4H KS',\n",
       " '2C 6D JH KH QC',\n",
       " '8S 8C QH TC AC',\n",
       " '3H 8H 2D 4D KS',\n",
       " '8S KD 2D KH 9H',\n",
       " '6S 9S TS 4D KH',\n",
       " '4S JC QH 8H 5S',\n",
       " '2C KD 7S 4D 2H',\n",
       " '3H AH 8S 3D 4C',\n",
       " '6H QH 9H JD QC',\n",
       " 'KD TC QD 4H QC',\n",
       " 'AS QH QD KS JS',\n",
       " 'QS 3C KS 7D TD',\n",
       " '5H 7C 7S 6C 2H',\n",
       " '2C JH 6H KC QC',\n",
       " '5H 8C QH AD 7S',\n",
       " 'JH 5D 9C 5S QD',\n",
       " '5H 8C 2S AC 9H',\n",
       " 'AS 2S 4H 7D AC',\n",
       " '9D 8C TC 3C 3S',\n",
       " '9D 6S AH JH 5D',\n",
       " 'JC 8S 8C AD 7D',\n",
       " 'JH QH TC 6C TD',\n",
       " 'AS 8D 7H 8H 3S',\n",
       " '6D 8S 2D 4H 4D',\n",
       " 'TC 8H 7S 2D 2H',\n",
       " '7C 5S QD TD QC',\n",
       " '6S JC 8S KH TD',\n",
       " 'AS KC 9C 2H QC',\n",
       " '5H 6D 3D 6C 5S',\n",
       " '8D QS 8H 6C KS',\n",
       " '4C TC 8H 3S 9H',\n",
       " '3H 8S 8H 5D 3C',\n",
       " 'QH 2S TS 4D 9H',\n",
       " '8D 7C AD 5S 7D',\n",
       " 'JC QS 5S QD TD',\n",
       " 'AH 6D TC TS QC',\n",
       " '6S 4S 2C 7S 3C',\n",
       " 'JC AH JH QH JS',\n",
       " 'JH 8S 8C 7H 4D',\n",
       " '9S KC 3C 9H QC',\n",
       " '9D 7H 8H KC 9C',\n",
       " 'TH 5C AD JD 2H',\n",
       " 'AS 6D 2S TS KH',\n",
       " '9D 3H 7C QD 9H',\n",
       " '9D 5D 4D JS AC',\n",
       " '2C AS 8S TH 2S',\n",
       " '9D 3H 8C 7D TD',\n",
       " '4S 3H 7C 9C 2H',\n",
       " '4S 7S KC 9C JS',\n",
       " 'AH 3D TH QD JS',\n",
       " '3H AD 7D TD QC',\n",
       " 'AS 8C 2D TS TD',\n",
       " 'JC 8D 4C 9H JD',\n",
       " 'AS JH 5D 3C 3S',\n",
       " '3H TH 5C QD TS',\n",
       " '9D 2C KC 6C QD',\n",
       " '6S QD TS 4H KS',\n",
       " '4S 5H TH 8H 9H',\n",
       " '2C QS 5C 7S 4D',\n",
       " '6D JH 8C 5C JD',\n",
       " 'AH 5H 2S 8H 4H',\n",
       " '8D TH 9C QD 2H',\n",
       " '2C TH QH 2D QC',\n",
       " '4S 8S KC AC QC',\n",
       " 'AS 8D JH 8H TD',\n",
       " '6D QS 4D KS KH',\n",
       " '9D JC 4C QH KC',\n",
       " 'JC 9S 3D TS 2H',\n",
       " '5H QS 2S 3C 9C',\n",
       " '3C 9C 3S 7D TD',\n",
       " '8D 7C KD AD 2H',\n",
       " 'JH 8C 9C TS TD',\n",
       " 'JC KD 7H AC 9H',\n",
       " '3D QS 9C JS TD',\n",
       " 'JC 9S 2S 3C 9H',\n",
       " '8S 3D 5D JS AC',\n",
       " '8S AD 5D 4H KS',\n",
       " '3H 9S QS QH 9H',\n",
       " '4S JH 9S 6H QS',\n",
       " '7C AD 3C TS AC',\n",
       " '6S 5C 5S TS KS',\n",
       " '8D TC TS KH QC',\n",
       " '8D 3D AD TS JS',\n",
       " '6S 3H 5C 7S TD',\n",
       " 'AS 6D 3D KS JD',\n",
       " 'JC 8S 9S 3C 7D',\n",
       " '5C 2S 3C JS AC',\n",
       " '2C AS 2S KC 6C',\n",
       " 'JC AH 6H 7C AD',\n",
       " 'KD TH QH 5C AC',\n",
       " '5H QH 5D 9C 4H',\n",
       " '5C TC 5D QD 4D',\n",
       " 'JC JH AD 8H 2H',\n",
       " '2C QS 8C 5D 9H',\n",
       " '3D AD 6C AC QC',\n",
       " '8S 9S AD JD TD',\n",
       " '2C 8H KC QD JS',\n",
       " '5H TH TS 4D 9H',\n",
       " '6H 7H 8H TS 4H',\n",
       " '4C KD 8C KH AC',\n",
       " 'AH 8D AD 2D AC',\n",
       " '9D JH QH JD TD',\n",
       " '9D 7C 7H 8H 9C',\n",
       " 'AS 6D 6H 3D TS',\n",
       " '6S AS 5H KC 9H',\n",
       " 'JH 5C 6C 9C TD',\n",
       " '6S 3H AH 2D JS',\n",
       " '3H 5C QD KH JS',\n",
       " '8S 4C QS 5C 4H',\n",
       " '9D AS 6D 4C 3C',\n",
       " '5H 8D 5D TS KH',\n",
       " '8S TH 2S 4D 2H',\n",
       " '9D 2C 3D 2S KC',\n",
       " 'AS 2S 7S 3C JS',\n",
       " 'JC 6H 3S 4H KS',\n",
       " 'AH JH 8C QH KC',\n",
       " 'QH 4D KS AC 2H',\n",
       " '9S 3D TS 3S 4H',\n",
       " 'JC 5C AD TC 6C',\n",
       " '2C 9S 3D 8H 7S',\n",
       " '5H QD KS KH JS',\n",
       " '3H 8D QS AD AC',\n",
       " '9D 8C QH QD 4D',\n",
       " '8C 7H 2S AC 2H',\n",
       " 'JH 2S 5D JD 2H',\n",
       " '9D 7C TH 7S QD',\n",
       " '4S 6H TC 3C 7D',\n",
       " '4S KD KC 5S 4H',\n",
       " '4S QH KC KS 9H',\n",
       " '6S 4S 6H 7S 7D',\n",
       " '6D KC KH 7D 9H',\n",
       " '7C 8C 7S 2D 4H',\n",
       " 'AS 3C 9C JS 9H',\n",
       " 'JC 9S 3D 7S AC',\n",
       " '4S 3H KC 5D 5S',\n",
       " '6D 8S 4C TH 5S',\n",
       " '9D 5H 4C QS QC',\n",
       " 'AS 2S 9C AC 2H',\n",
       " 'AH 6H QS AD 4D',\n",
       " '6S JC TH 6C QD',\n",
       " 'JC KS JS AC JD',\n",
       " 'AH 8D 8H 5D 3C',\n",
       " '6H 9C 4H 7D 9H',\n",
       " '5H 7C 8C 8H KH',\n",
       " '4S 7H 2S 5S TD',\n",
       " '3H AH 8C QH 9C',\n",
       " '4S 7H AD 3C 4H',\n",
       " '6S 8S KD 5S QD',\n",
       " '6S 4S JC KD 7D',\n",
       " 'AH 5H JH QS JD',\n",
       " 'TC KC JS AC TD',\n",
       " '6S 8C 2S QD 2H',\n",
       " '3H JH QH 4H 4D',\n",
       " '6S 4C 6C QD 3S',\n",
       " 'JC AH 2C JS 9H',\n",
       " '3D 7C 8C TC 3C',\n",
       " '2S KC 3C 6C AC',\n",
       " 'TH 5S KS KH 9H',\n",
       " '6S JC 9S QS KS',\n",
       " '8C 2S TC 4D 9H',\n",
       " '2C 8D 8S QH 5S',\n",
       " '9D QS KD 8H 2H',\n",
       " '3D QS TH 3C AC',\n",
       " '6S AH 6H KC 4D',\n",
       " '8D KD QD 4H JD',\n",
       " '9S 6H 5C JD QC',\n",
       " 'JC 3H 5H 3D 2D',\n",
       " '6S 4S 9S 6H AD',\n",
       " 'AS AD 9C QD QC',\n",
       " '7C 5C AD 2D 6C',\n",
       " 'JC 6D 6H 8C KS',\n",
       " '3D TH 5C 3S JD',\n",
       " 'JH 4C QD 7D 2H',\n",
       " '9D TH TC 9C KH',\n",
       " 'AD 5D TS 3S QC',\n",
       " '9S 7H 4H 4D KS',\n",
       " '9D KC TS AC 9H',\n",
       " '6S JH 8S 4C TS',\n",
       " '4S JH 7C 5C 3C',\n",
       " 'AH 9C AC JD 2H',\n",
       " '2C 6H 2D 3S 7D',\n",
       " '8D 7C QS KD 8C',\n",
       " '3H AH 7C 5C KH',\n",
       " '4S 2C 4C 3C 7D',\n",
       " '4S 8S KC 5D KH',\n",
       " '3D 8C QH KH QC',\n",
       " 'JC 8D 6D 4C 5S',\n",
       " 'AS JH 5C 3C 6C',\n",
       " '7C KD AD 2D TD',\n",
       " 'QH 5D 3S 2H QC',\n",
       " '3H 4C QH 6C JS',\n",
       " '6H 7C QS 9H JD',\n",
       " '4S 8D 7C AD QC',\n",
       " '8D 6D 7S QD JD',\n",
       " 'TH QD TS JS TD',\n",
       " '9D 6S 3H 8H TD',\n",
       " '5H QS 8C KC 4H',\n",
       " '9D 6S 3H 8D AC',\n",
       " '2S KC 9C TS KS',\n",
       " '5H 7C KD 6C 9H',\n",
       " '8D 5D 4H 4D 9H',\n",
       " '9D 9S 6H KD KH',\n",
       " '4S 3H AS 7S TS',\n",
       " '4S 6D 8C 7H TD',\n",
       " '5H 7C 5S 7D 9H',\n",
       " '2C 6D JH 3D 2S',\n",
       " '9D 2C 5H 5C 8H',\n",
       " '3H 5H 8S AD JS',\n",
       " '3H 5D 2D JD TD',\n",
       " '9D 2C 6D 5C 3S',\n",
       " '3H 9S KD 5S AC',\n",
       " '5D 6C 9C 2H QC',\n",
       " '9S 2S 6C 9H 2H',\n",
       " 'KC 6C JS AC TD',\n",
       " '6H 8H 7S QD 2H',\n",
       " '2C 7C AD 5D 5S',\n",
       " '8C TC 6C 4D JD',\n",
       " 'JH 7C 2S 2D 2H',\n",
       " 'JC AH QS 4H KH',\n",
       " '6S 6H 4C 5D 5S',\n",
       " 'AD 7S 5D 6C KH',\n",
       " '7C 8C 2S 9C TS',\n",
       " '3H 2C QH 2S 2D',\n",
       " '9D 3H JH QH 5C',\n",
       " '3H 7H 2D KH QC',\n",
       " '4S 8D 3C 4D AC',\n",
       " '2C KC 6C 3S JD',\n",
       " '8D TH 8H 9C 7D',\n",
       " 'AH AS 5H 2D 4H',\n",
       " '3D QS KC 2D 4D',\n",
       " '4S 2C 6H AC 2H',\n",
       " 'JC AH QH QD JS',\n",
       " '9D 8S 8C 2D JD',\n",
       " '8S AD KC 3C 4H',\n",
       " '2C AS AD 5S 4H',\n",
       " '9D JC 3D KS 2H',\n",
       " '2C TC KC 5D 4H',\n",
       " 'AS 6D JH KC 3S',\n",
       " '9D AH 8H 6C 9C',\n",
       " '4S 5H 2D JD QC',\n",
       " '5H TH 5C TS 4D',\n",
       " '6S 5H 6D 6C 9H',\n",
       " '9D QH 4H AC QC',\n",
       " '3H 5H 7S 5D 3S',\n",
       " 'QS 2D 6C JS TD',\n",
       " '8D 6D QS 2S QD',\n",
       " '8S KD 3C 5S 4D',\n",
       " 'KD 6C QD 3S TD',\n",
       " '6H 3D TH 5C 5D',\n",
       " '6S QH AD TS 7D',\n",
       " '4S JC 8D 7H 2D',\n",
       " '8S 9S QS TS 4D',\n",
       " '2C JH 6H AD 2H',\n",
       " '4C 9C 4D KH AC',\n",
       " 'JH 9S 7H 8H 7S',\n",
       " '9D 2C 7H TC AC',\n",
       " '6S QH 5C TC 7D',\n",
       " 'AS 8C AD TC QD',\n",
       " '4S 6H 3D QS 6C',\n",
       " '6S 2S 4H 7D JD',\n",
       " '8D 7H 5D 3C JD',\n",
       " '9S 5D 4D 9H 2H',\n",
       " '4S 6H 3C 2D KS',\n",
       " '4C QS 8C 7S KC',\n",
       " '9D 6H AD 8H 5S',\n",
       " 'JC 4C KD 5S JS',\n",
       " '8C 5C 8H 3S JD',\n",
       " 'JC 3H KD 8C JD',\n",
       " 'AS TH TC TS KS',\n",
       " 'AH QS TC 4H 4D',\n",
       " '6C 5S 4H 7D 2H',\n",
       " '3D 7S KC TD QC',\n",
       " 'KD 7H 6C 3S TD',\n",
       " 'QH 7S 9C 7D QC',\n",
       " 'QH 5S QD JS QC',\n",
       " '9D AS 6H 8C KH',\n",
       " '6S 3H QS KD 6C',\n",
       " '6D 3D 8C 9C 2H',\n",
       " '9D 8D 9S AD JS',\n",
       " 'AS 8D QS AD 4H',\n",
       " '4S 3D 7H TC QD',\n",
       " '9D 4C QS 2S 4H',\n",
       " 'AH 4C AD JD 2H',\n",
       " '2C AD JS AC 9H',\n",
       " 'AH TH 8C 2S JD',\n",
       " '4C QH 5D 5S 9H',\n",
       " 'AS 7S 5D 2D 5S',\n",
       " '4S 2C 8S 8C KC',\n",
       " 'AS 8S 8C 7S 5S',\n",
       " '8D 5C 7H 2S TS',\n",
       " '3H AH 5H 3D 4H',\n",
       " '4C QH AD 5D QD',\n",
       " '2C 6H QS 2D QD',\n",
       " '5H 6D QS 3S AC',\n",
       " 'AH KD TH 2S AD',\n",
       " '9S 7C 5D TS 4D',\n",
       " 'JH QS 5C 4H 2H',\n",
       " '6D 5C 5S KH JS',\n",
       " '8D 8S 9C KH 2H',\n",
       " '8S TH 3C 6C 3S',\n",
       " '5H 6D TC 6C KH',\n",
       " '9D 4S 3D 8C 5S',\n",
       " 'JC 3H 8C 3C AC',\n",
       " '4S AH 6H AD KC',\n",
       " '6S 7S 9C 4H JD',\n",
       " 'JH 8S 9S 3S QC',\n",
       " '8C 2D 6C JD TD',\n",
       " '2S AD 8H KC TS',\n",
       " 'AH 2C 6H 3S JS',\n",
       " 'AS 5H 2S 9H QC',\n",
       " 'AH 8D QS 8C QD',\n",
       " '3D KD 5S 3S KS',\n",
       " '4C TH 7H AD KS',\n",
       " '3C 5S TS 2H TD',\n",
       " 'AH 8C 3C 6C JD',\n",
       " '5H 3D 5D AC JD',\n",
       " 'JC QS 6C 9C JD',\n",
       " '6S AS 8C AD 2H',\n",
       " '8D 7C 8C 2S 3C',\n",
       " '6S 7H TC 3C KH',\n",
       " 'AS KC 4D AC 2H',\n",
       " '6S 6D KD TH 7D',\n",
       " '5H 6D 8H QD KS',\n",
       " '8S TH 5D 7D AC',\n",
       " 'KC TS 7D AC JD',\n",
       " '6S 7C TC 9C TD',\n",
       " '2C 5H QH 9H QC',\n",
       " 'KC 3C 6C 5S AC',\n",
       " '5H 8S 7S QD 4H',\n",
       " '7C 5C 2S 4D 2H',\n",
       " '9D 3C QD 7D 9H',\n",
       " 'AH 9S 5D 7D 2H',\n",
       " '4S 7H TC 5S KH',\n",
       " '6S AH KC 9C TD',\n",
       " '6S 5H 9S 2D 2H',\n",
       " 'JC 8S TH 2D 5S',\n",
       " '6S QD 3S KS JS',\n",
       " '4S 2C QS 2D 9C',\n",
       " '8D 9S 8C 6C 4D',\n",
       " 'AH 6D TH 8H KC',\n",
       " 'TC 7S 3C 6C QC',\n",
       " 'AH 3D JS 2H TD',\n",
       " 'JC 9S 2S TC 7S',\n",
       " '2C 5H 7C KD 8H',\n",
       " '3H 9S 4C QS QC',\n",
       " '4S 2C 7C KC 9H',\n",
       " '9S 5C 2S 8H TD',\n",
       " '9S 4C TH 7H 2S',\n",
       " 'AH 6D 8H KH TD',\n",
       " 'JC TH 5D 9C TD',\n",
       " '2C KD 4H JS 9H',\n",
       " '3D 4C KC 5D JS',\n",
       " 'AS 8S QS 6C KS',\n",
       " '5C 3S 4H 9H JD',\n",
       " '6S 3H 8D 7C 9H',\n",
       " 'AH JH 2S AD KC',\n",
       " 'QS QH AD KS JS',\n",
       " '9D AS JH AD 7S',\n",
       " '3H AH 7C 5D JS',\n",
       " '5H 6D 8S AC 9H',\n",
       " '6S 3H JH 9C 5S',\n",
       " '4S AH 7S KC 4D',\n",
       " 'AS QH 7S 5S TD',\n",
       " 'AH 5H 6D QS 7H',\n",
       " '7C AD 7S TS 7D',\n",
       " '6S 4S 2C 2S AC',\n",
       " '4C QH 3C 2D JS',\n",
       " 'TH 7S 2D QD KS',\n",
       " '5H 9S KD 3C KH',\n",
       " '9D 9S 7C 8C 9C',\n",
       " 'JC 2C 6D 5C TS',\n",
       " '3H 5H 6D 6C 9C',\n",
       " 'TH 5C 4D KH TD',\n",
       " 'AS 2S 7D 9H JD',\n",
       " '3D QS 4H JS QC',\n",
       " '9D 7H AD 2D KS',\n",
       " '5H 8C 5C TC 5S',\n",
       " '5H KD 5C KH AC',\n",
       " '5C 8H 4D 7D QC',\n",
       " '5H 2D 9C 5S AC',\n",
       " '2C AS QS 3C 5S',\n",
       " 'AS 6H 7H 7S 2H',\n",
       " '4C 7C 3C 3S 9H',\n",
       " '8D 8S QD KH JS',\n",
       " '9S QD 3S 4D JS',\n",
       " 'AS 8D TH AD KH',\n",
       " 'QS TC 8H 5D TD',\n",
       " 'KD TH 2S QD KH',\n",
       " '8D JH 9S AC TD',\n",
       " '7C 7H 4D KS JD',\n",
       " '7C TH KC 4H QC',\n",
       " '9D 5H 6D 4C 2H',\n",
       " 'JC 2C 8D 4C TH',\n",
       " 'AH 8D 4C 5C JS',\n",
       " '9D AH 8S 6H 5C',\n",
       " '9D 8D 8S 4C QD',\n",
       " 'JC 5S TS 7D AC',\n",
       " '9S 6H 7C TS 4D',\n",
       " '6S JH 6H 7C 7H',\n",
       " 'AS 6H AD 9C AC',\n",
       " ...}"
      ]
     },
     "execution_count": 42,
     "metadata": {},
     "output_type": "execute_result"
    }
   ],
   "source": [
    "import random\n",
    "\n",
    "Hands = combos(deck, 5)\n",
    "\n",
    "Hands"
   ]
  },
  {
   "cell_type": "code",
   "execution_count": 43,
   "metadata": {
    "button": false,
    "collapsed": false,
    "jupyter": {
     "outputs_hidden": false
    },
    "new_sheet": false,
    "run_control": {
     "read_only": false
    },
    "scrolled": true
   },
   "outputs": [
    {
     "data": {
      "text/plain": [
       "['AS TH 7H 7S 5D',\n",
       " '8C KC 2D KS 2H',\n",
       " '4S 6H 8C QD 3S',\n",
       " 'AS 2S 8H KH 9H',\n",
       " 'JC 6D TH 5D 3C']"
      ]
     },
     "execution_count": 43,
     "metadata": {},
     "output_type": "execute_result"
    }
   ],
   "source": [
    "Hands = combos(deck, 5)\n",
    "\n",
    "assert len(Hands) == choose(52, 5)\n",
    "\n",
    "random.sample(Hands, 5)"
   ]
  },
  {
   "cell_type": "markdown",
   "metadata": {
    "button": false,
    "new_sheet": false,
    "run_control": {
     "read_only": false
    }
   },
   "source": [
    "Now we can answer questions like the probability of being dealt a flush (5 cards of the same suit):"
   ]
  },
  {
   "cell_type": "code",
   "execution_count": 44,
   "metadata": {
    "button": false,
    "collapsed": false,
    "jupyter": {
     "outputs_hidden": false
    },
    "new_sheet": false,
    "run_control": {
     "read_only": false
    }
   },
   "outputs": [
    {
     "data": {
      "text/plain": [
       "Fraction(33, 16660)"
      ]
     },
     "execution_count": 44,
     "metadata": {},
     "output_type": "execute_result"
    }
   ],
   "source": [
    "def flush(hand):  #flush in poker - all cards in same suits\n",
    "    return any(hand.count(suit) == 5 for suit in suits)\n",
    "\n",
    "P(flush, Hands)"
   ]
  },
  {
   "cell_type": "code",
   "execution_count": 46,
   "metadata": {},
   "outputs": [
    {
     "data": {
      "text/plain": [
       "0.0019807923169267707"
      ]
     },
     "execution_count": 46,
     "metadata": {},
     "output_type": "execute_result"
    }
   ],
   "source": [
    "33/16660  #0.1%"
   ]
  },
  {
   "cell_type": "markdown",
   "metadata": {
    "button": false,
    "new_sheet": false,
    "run_control": {
     "read_only": false
    }
   },
   "source": [
    "Or the probability of four of a kind:"
   ]
  },
  {
   "cell_type": "code",
   "execution_count": 49,
   "metadata": {
    "button": false,
    "collapsed": false,
    "jupyter": {
     "outputs_hidden": false
    },
    "new_sheet": false,
    "run_control": {
     "read_only": false
    }
   },
   "outputs": [
    {
     "data": {
      "text/plain": [
       "Fraction(1, 4165)"
      ]
     },
     "execution_count": 49,
     "metadata": {},
     "output_type": "execute_result"
    }
   ],
   "source": [
    "def four_kind(hand):\n",
    "    return any(hand.count(rank) == 4 for rank in ranks)\n",
    "\n",
    "P(four_kind, Hands)"
   ]
  },
  {
   "cell_type": "code",
   "execution_count": 50,
   "metadata": {},
   "outputs": [
    {
     "data": {
      "text/plain": [
       "0.00024009603841536616"
      ]
     },
     "execution_count": 50,
     "metadata": {},
     "output_type": "execute_result"
    }
   ],
   "source": [
    "1/4165   #0.02%"
   ]
  },
  {
   "cell_type": "markdown",
   "metadata": {},
   "source": [
    "# Fermat and Pascal: Gambling, Triangles, and the Birth of Probability\n",
    "\n",
    "<table>\n",
    "<tr><td><img src=\"https://upload.wikimedia.org/wikipedia/commons/thumb/9/98/Pierre_de_Fermat2.png/140px-Pierre_de_Fermat2.png\"><center><a href=\"https://en.wikipedia.org/wiki/Pierre_de_Fermat\">Pierre de Fermat</a><br>1654\n",
    "<td><img src=\"https://www.umass.edu/wsp/images/pascal.jpg\"><center><a href=\"https://en.wikipedia.org/wiki/Blaise_Pascal\">Blaise Pascal]</a><br>1654\n",
    "</table>\n",
    "\n",
    "Consider a gambling game consisting of tossing a coin. Player H wins the game if 10 heads come up, and T wins if 10 tails come up. If the game is interrupted when H has 8 heads and T has 7 tails, how should the pot of money (which happens to be 100 Francs) be split?\n",
    "In 1654, Blaise Pascal and Pierre de Fermat corresponded on this problem, with Fermat [writing](http://mathforum.org/isaac/problems/prob1.html):\n",
    "\n",
    ">Dearest Blaise,\n",
    "\n",
    ">As to the problem of how to divide the 100 Francs, I think I have found a solution that you will find to be fair. Seeing as I needed only two points to win the game, and you needed 3, I think we can establish that after four more tosses of the coin, the game would have been over. For, in those four tosses, if you did not get the necessary 3 points for your victory, this would imply that I had in fact gained the necessary 2 points for my victory. In a similar manner, if I had not achieved the necessary 2 points for my victory, this would imply that you had in fact achieved at least 3 points and had therefore won the game. Thus, I believe the following list of possible endings to the game is exhaustive. I have denoted 'heads' by an 'h', and tails by a 't.' I have starred the outcomes that indicate a win for myself.\n",
    "\n",
    "    h h h h *       h h h t *       h h t h *       h h t t *\n",
    "    h t h h *       h t h t *       h t t h *       h t t t\n",
    "    t h h h *       t h h t *       t h t h *       t h t t\n",
    "    t t h h *       t t h t         t t t h         t t t t\n",
    "\n",
    ">I think you will agree that all of these outcomes are equally likely. Thus I believe that we should divide the stakes by the ration 11:5 in my favor, that is, I should receive (11/16)*100 = 68.75 Francs, while you should receive 31.25 Francs.\n",
    "\n",
    ">I hope all is well in Paris,\n",
    "\n",
    ">Your friend and colleague,\n",
    "\n",
    ">Pierre\n",
    "\n",
    "Pascal agreed with this solution, and [replied](http://mathforum.org/isaac/problems/prob2.html) with a generalization that made use of his previous invention, Pascal's Triangle. There's even [a book](https://smile.amazon.com/Unfinished-Game-Pascal-Fermat-Seventeenth-Century/dp/0465018963?sa-no-redirect=1) about it.\n",
    "\n",
    "We can solve the problem with the tools we have:"
   ]
  },
  {
   "cell_type": "code",
   "execution_count": 51,
   "metadata": {},
   "outputs": [],
   "source": [
    "def win_unfinished_game(Hneeds, Tneeds):\n",
    "    \"The probability that H will win the unfinished game, given the number of points needed by H and T to win.\"\n",
    "    def Hwins(outcome): return outcome.count('h') >= Hneeds\n",
    "    return P(Hwins, continuations(Hneeds, Tneeds))\n",
    "\n",
    "def continuations(Hneeds, Tneeds):\n",
    "    \"All continuations of a game where H needs `Hneeds` points to win and T needs `Tneeds`.\"\n",
    "    rounds = ['ht' for _ in range(Hneeds + Tneeds - 1)]\n",
    "    return set(itertools.product(*rounds))"
   ]
  },
  {
   "cell_type": "code",
   "execution_count": 52,
   "metadata": {
    "collapsed": false,
    "jupyter": {
     "outputs_hidden": false
    },
    "scrolled": true
   },
   "outputs": [
    {
     "data": {
      "text/plain": [
       "{('h', 'h', 'h', 'h'),\n",
       " ('h', 'h', 'h', 't'),\n",
       " ('h', 'h', 't', 'h'),\n",
       " ('h', 'h', 't', 't'),\n",
       " ('h', 't', 'h', 'h'),\n",
       " ('h', 't', 'h', 't'),\n",
       " ('h', 't', 't', 'h'),\n",
       " ('h', 't', 't', 't'),\n",
       " ('t', 'h', 'h', 'h'),\n",
       " ('t', 'h', 'h', 't'),\n",
       " ('t', 'h', 't', 'h'),\n",
       " ('t', 'h', 't', 't'),\n",
       " ('t', 't', 'h', 'h'),\n",
       " ('t', 't', 'h', 't'),\n",
       " ('t', 't', 't', 'h'),\n",
       " ('t', 't', 't', 't')}"
      ]
     },
     "execution_count": 52,
     "metadata": {},
     "output_type": "execute_result"
    }
   ],
   "source": [
    "continuations(2, 3)"
   ]
  },
  {
   "cell_type": "code",
   "execution_count": 53,
   "metadata": {
    "collapsed": false,
    "jupyter": {
     "outputs_hidden": false
    }
   },
   "outputs": [
    {
     "data": {
      "text/plain": [
       "Fraction(11, 16)"
      ]
     },
     "execution_count": 53,
     "metadata": {},
     "output_type": "execute_result"
    }
   ],
   "source": [
    "win_unfinished_game(2, 3)"
   ]
  },
  {
   "cell_type": "markdown",
   "metadata": {},
   "source": [
    "Our answer agrees with Pascal and Fermat; we're in good company!"
   ]
  },
  {
   "cell_type": "markdown",
   "metadata": {
    "button": false,
    "new_sheet": false,
    "run_control": {
     "read_only": false
    }
   },
   "source": [
    "# Non-Equiprobable Outcomes: Probability Distributions\n",
    "\n",
    "So far, we have made the assumption that every outcome in a sample space is equally likely. In real life, we often get outcomes that are not equiprobable. For example, the probability of a child being a girl is not exactly 1/2, and the probability is slightly different for a second child. An [article](http://people.kzoo.edu/barth/math105/moreboys.pdf) gives the following counts for two-child families in Denmark, where `GB` means a family where the first child is a girl and the second a boy:\n",
    "\n",
    "    GG: 121801    GB: 126840\n",
    "    BG: 127123    BB: 135138\n",
    "    \n",
    "We will introduce three more definitions:\n",
    "\n",
    "* [Frequency](https://en.wikipedia.org/wiki/Frequency_%28statistics%29): a number describing how often an outcome occurs. Can be a count like 121801, or a ratio like 0.515.\n",
    "\n",
    "* [Distribution](http://mathworld.wolfram.com/StatisticalDistribution.html): A mapping from outcome to frequency for each outcome in a sample space. \n",
    "\n",
    "* [Probability Distribution](https://en.wikipedia.org/wiki/Probability_distribution): A distribution that has been *normalized* so that the sum of the frequencies is 1.\n",
    "\n",
    "We define `ProbDist` to take the same kinds of arguments that `dict` does: either a mapping or an iterable of `(key, val)` pairs, and/or optional keyword arguments. "
   ]
  },
  {
   "cell_type": "code",
   "execution_count": 54,
   "metadata": {
    "button": false,
    "collapsed": false,
    "jupyter": {
     "outputs_hidden": false
    },
    "new_sheet": false,
    "run_control": {
     "read_only": false
    }
   },
   "outputs": [],
   "source": [
    "class ProbDist(dict):\n",
    "    \"A Probability Distribution; an {outcome: probability} mapping.\"\n",
    "    def __init__(self, mapping=(), **kwargs):\n",
    "        self.update(mapping, **kwargs)\n",
    "        # Make probabilities sum to 1.0; assert no negative probabilities\n",
    "        total = sum(self.values())\n",
    "        for outcome in self:\n",
    "            self[outcome] = self[outcome] / total\n",
    "            assert self[outcome] >= 0"
   ]
  },
  {
   "cell_type": "markdown",
   "metadata": {
    "button": false,
    "new_sheet": false,
    "run_control": {
     "read_only": false
    }
   },
   "source": [
    "We also need to modify the functions `P` and `such_that` to accept either a sample space  or a probability distribution as the second argument."
   ]
  },
  {
   "cell_type": "code",
   "execution_count": 55,
   "metadata": {
    "button": false,
    "new_sheet": false,
    "run_control": {
     "read_only": false
    }
   },
   "outputs": [],
   "source": [
    "def P(event, space): \n",
    "    \"\"\"The probability of an event, given a sample space of equiprobable outcomes. \n",
    "    event: a collection of outcomes, or a predicate that is true of outcomes in the event. \n",
    "    space: a set of outcomes or a probability distribution of {outcome: frequency} pairs.\"\"\"\n",
    "    if is_predicate(event):\n",
    "        event = such_that(event, space)\n",
    "    if isinstance(space, ProbDist):\n",
    "        return sum(space[o] for o in space if o in event)\n",
    "    else:\n",
    "        return Fraction(len(event & space), len(space))\n",
    "    \n",
    "def such_that(predicate, space): \n",
    "    \"\"\"The outcomes in the sample pace for which the predicate is true.\n",
    "    If space is a set, return a subset {outcome,...};\n",
    "    if space is a ProbDist, return a ProbDist {outcome: frequency,...};\n",
    "    in both cases only with outcomes where predicate(element) is true.\"\"\"\n",
    "    if isinstance(space, ProbDist):\n",
    "        return ProbDist({o:space[o] for o in space if predicate(o)})\n",
    "    else:\n",
    "        return {o for o in space if predicate(o)}"
   ]
  },
  {
   "cell_type": "markdown",
   "metadata": {
    "button": false,
    "new_sheet": false,
    "run_control": {
     "read_only": false
    }
   },
   "source": [
    "Here is the probability distribution for Danish two-child families:"
   ]
  },
  {
   "cell_type": "code",
   "execution_count": 56,
   "metadata": {
    "button": false,
    "collapsed": false,
    "jupyter": {
     "outputs_hidden": false
    },
    "new_sheet": false,
    "run_control": {
     "read_only": false
    }
   },
   "outputs": [
    {
     "data": {
      "text/plain": [
       "{'GG': 0.23840384261560926,\n",
       " 'GB': 0.24826679089140383,\n",
       " 'BG': 0.24882071317004043,\n",
       " 'BB': 0.2645086533229465}"
      ]
     },
     "execution_count": 56,
     "metadata": {},
     "output_type": "execute_result"
    }
   ],
   "source": [
    "DK = ProbDist(GG=121801, GB=126840,\n",
    "              BG=127123, BB=135138)\n",
    "DK"
   ]
  },
  {
   "cell_type": "markdown",
   "metadata": {
    "button": false,
    "new_sheet": false,
    "run_control": {
     "read_only": false
    }
   },
   "source": [
    "And here are some predicates that will allow us to answer some questions:"
   ]
  },
  {
   "cell_type": "code",
   "execution_count": 57,
   "metadata": {
    "button": false,
    "new_sheet": false,
    "run_control": {
     "read_only": false
    }
   },
   "outputs": [],
   "source": [
    "def first_girl(outcome):  return outcome[0] == 'G'\n",
    "def first_boy(outcome):   return outcome[0] == 'B'\n",
    "def second_girl(outcome): return outcome[1] == 'G'\n",
    "def second_boy(outcome):  return outcome[1] == 'B'\n",
    "def two_girls(outcome):   return outcome    == 'GG'"
   ]
  },
  {
   "cell_type": "code",
   "execution_count": 58,
   "metadata": {
    "button": false,
    "collapsed": false,
    "jupyter": {
     "outputs_hidden": false
    },
    "new_sheet": false,
    "run_control": {
     "read_only": false
    }
   },
   "outputs": [
    {
     "data": {
      "text/plain": [
       "0.4866706335070131"
      ]
     },
     "execution_count": 58,
     "metadata": {},
     "output_type": "execute_result"
    }
   ],
   "source": [
    "P(first_girl, DK)"
   ]
  },
  {
   "cell_type": "code",
   "execution_count": 59,
   "metadata": {
    "button": false,
    "collapsed": false,
    "jupyter": {
     "outputs_hidden": false
    },
    "new_sheet": false,
    "run_control": {
     "read_only": false
    }
   },
   "outputs": [
    {
     "data": {
      "text/plain": [
       "0.4872245557856497"
      ]
     },
     "execution_count": 59,
     "metadata": {},
     "output_type": "execute_result"
    }
   ],
   "source": [
    "P(second_girl, DK)"
   ]
  },
  {
   "cell_type": "markdown",
   "metadata": {
    "button": false,
    "new_sheet": false,
    "run_control": {
     "read_only": false
    }
   },
   "source": [
    "The above says that the probability of a girl is somewhere between 48% and 49%, but that it is slightly different between the first or second child."
   ]
  },
  {
   "cell_type": "code",
   "execution_count": 60,
   "metadata": {
    "button": false,
    "collapsed": false,
    "jupyter": {
     "outputs_hidden": false
    },
    "new_sheet": false,
    "run_control": {
     "read_only": false
    }
   },
   "outputs": [
    {
     "data": {
      "text/plain": [
       "(0.4898669165584115, 0.48471942072973107)"
      ]
     },
     "execution_count": 60,
     "metadata": {},
     "output_type": "execute_result"
    }
   ],
   "source": [
    "P(second_girl, such_that(first_girl, DK)), P(second_girl, such_that(first_boy, DK))"
   ]
  },
  {
   "cell_type": "code",
   "execution_count": 61,
   "metadata": {
    "button": false,
    "collapsed": false,
    "jupyter": {
     "outputs_hidden": false
    },
    "new_sheet": false,
    "run_control": {
     "read_only": false
    }
   },
   "outputs": [
    {
     "data": {
      "text/plain": [
       "(0.5101330834415885, 0.5152805792702689)"
      ]
     },
     "execution_count": 61,
     "metadata": {},
     "output_type": "execute_result"
    }
   ],
   "source": [
    "P(second_boy, such_that(first_girl, DK)), P(second_boy, such_that(first_boy, DK))"
   ]
  },
  {
   "cell_type": "markdown",
   "metadata": {
    "button": false,
    "new_sheet": false,
    "run_control": {
     "read_only": false
    }
   },
   "source": [
    "The above says that the sex of the second child is more likely to be the same as the first child, by about 1/2 a percentage point."
   ]
  },
  {
   "cell_type": "markdown",
   "metadata": {
    "button": false,
    "new_sheet": false,
    "run_control": {
     "read_only": false
    }
   },
   "source": [
    "# More Urn Problems: M&Ms and Bayes\n",
    "\n",
    "Here's another urn problem (or \"bag\" problem) [from](http://allendowney.blogspot.com/2011/10/my-favorite-bayess-theorem-problems.html) prolific Python/Probability author [Allen Downey ](http://allendowney.blogspot.com/):\n",
    "\n",
    "> The blue M&M was introduced in 1995.  Before then, the color mix in a bag of plain M&Ms was (30% Brown, 20% Yellow, 20% Red, 10% Green, 10% Orange, 10% Tan).  Afterward it was (24% Blue , 20% Green, 16% Orange, 14% Yellow, 13% Red, 13% Brown). \n",
    "A friend of mine has two bags of M&Ms, and he tells me that one is from 1994 and one from 1996.  He won't tell me which is which, but he gives me one M&M from each bag.  One is yellow and one is green.  What is the probability that the yellow M&M came from the 1994 bag?\n",
    "\n",
    "To solve this problem, we'll first represent probability distributions for each bag: `bag94` and `bag96`:"
   ]
  },
  {
   "cell_type": "code",
   "execution_count": null,
   "metadata": {
    "button": false,
    "collapsed": false,
    "jupyter": {
     "outputs_hidden": false
    },
    "new_sheet": false,
    "run_control": {
     "read_only": false
    }
   },
   "outputs": [],
   "source": [
    "bag94 = ProbDist(brown=30, yellow=20, red=20, green=10, orange=10, tan=10)\n",
    "bag96 = ProbDist(blue=24, green=20, orange=16, yellow=14, red=13, brown=13)"
   ]
  },
  {
   "cell_type": "markdown",
   "metadata": {
    "button": false,
    "new_sheet": false,
    "run_control": {
     "read_only": false
    }
   },
   "source": [
    "Next, define `MM` as the joint distribution&mdash;the sample space for picking one M&M from each bag. The outcome `'yellow green'` means that a yellow M&M was selected from the 1994 bag and a green one from the 1996 bag."
   ]
  },
  {
   "cell_type": "code",
   "execution_count": null,
   "metadata": {
    "button": false,
    "collapsed": false,
    "jupyter": {
     "outputs_hidden": false
    },
    "new_sheet": false,
    "run_control": {
     "read_only": false
    }
   },
   "outputs": [],
   "source": [
    "def joint(A, B, sep=''):\n",
    "    \"\"\"The joint distribution of two independent probability distributions. \n",
    "    Result is all entries of the form {a+sep+b: P(a)*P(b)}\"\"\"\n",
    "    return ProbDist({a + sep + b: A[a] * B[b]\n",
    "                    for a in A\n",
    "                    for b in B})\n",
    "\n",
    "MM = joint(bag94, bag96, ' ')\n",
    "MM"
   ]
  },
  {
   "cell_type": "markdown",
   "metadata": {
    "button": false,
    "new_sheet": false,
    "run_control": {
     "read_only": false
    }
   },
   "source": [
    "First we'll look at the \"One is yellow and one is green\" part:"
   ]
  },
  {
   "cell_type": "code",
   "execution_count": null,
   "metadata": {
    "button": false,
    "collapsed": false,
    "jupyter": {
     "outputs_hidden": false
    },
    "new_sheet": false,
    "run_control": {
     "read_only": false
    }
   },
   "outputs": [],
   "source": [
    "def yellow_and_green(outcome): return 'yellow' in outcome and 'green' in outcome\n",
    "\n",
    "such_that(yellow_and_green, MM)"
   ]
  },
  {
   "cell_type": "markdown",
   "metadata": {
    "button": false,
    "new_sheet": false,
    "run_control": {
     "read_only": false
    }
   },
   "source": [
    "Now we can answer the question: given that we got a yellow and a green (but don't know which comes from which bag), what is the probability that the yellow came from the 1994 bag?"
   ]
  },
  {
   "cell_type": "code",
   "execution_count": null,
   "metadata": {
    "button": false,
    "collapsed": false,
    "jupyter": {
     "outputs_hidden": false
    },
    "new_sheet": false,
    "run_control": {
     "read_only": false
    }
   },
   "outputs": [],
   "source": [
    "def yellow94(outcome): return outcome.startswith('yellow')\n",
    "\n",
    "P(yellow94, such_that(yellow_and_green, MM))"
   ]
  },
  {
   "cell_type": "markdown",
   "metadata": {
    "button": false,
    "new_sheet": false,
    "run_control": {
     "read_only": false
    }
   },
   "source": [
    "So there is a 74% chance that the yellow comes from the 1994 bag.\n",
    "\n",
    "Answering this question was straightforward: just like all the other probability problems, we simply create a sample space, and use `P` to pick out the probability of the event in question, given what we know about the outcome.\n",
    "But in a sense it is curious that we were able to solve this problem with the same methodology as the others: this problem comes from a section titled **My favorite Bayes's Theorem Problems**, so one would expect that we'd need to invoke Bayes Theorem to solve it.  The computation above shows that that is not necessary. \n",
    "\n",
    "![Bayes](http://img1.ph.126.net/xKZAzeOv_mI8a4Lwq7PHmw==/2547911489202312541.jpg)\n",
    "<center><a href=\"https://en.wikipedia.org/wiki/Thomas_Bayes\">Rev. Thomas Bayes</a><br>1701-1761\n",
    "</center>\n",
    "\n",
    "Of course, we *could* solve it using Bayes Theorem. Why is Bayes Theorem recommended? Because we are asked about the probability of an event given the evidence, which is not immediately available; however the probability of the evidence given the event is.  \n",
    "\n",
    "Before we see the colors of the M&Ms, there are two hypotheses, `A` and `B`, both with equal probability:\n",
    "\n",
    "    A: first M&M from 94 bag, second from 96 bag\n",
    "    B: first M&M from 96 bag, second from 94 bag\n",
    "    P(A) = P(B) = 0.5\n",
    "    \n",
    "Then we get some evidence:\n",
    "    \n",
    "    E: first M&M yellow, second green\n",
    "    \n",
    "We want to know the probability of hypothesis `A`, given the evidence:\n",
    "    \n",
    "    P(A | E)\n",
    "    \n",
    "That's not easy to calculate (except by enumerating the sample space). But Bayes Theorem says:\n",
    "    \n",
    "    P(A | E) = P(E | A) * P(A) / P(E)\n",
    "    \n",
    "The quantities on the right-hand-side are easier to calculate:\n",
    "    \n",
    "    P(E | A) = 0.20 * 0.20 = 0.04\n",
    "    P(E | B) = 0.10 * 0.14 = 0.014\n",
    "    P(A)     = 0.5\n",
    "    P(B)     = 0.5\n",
    "    P(E)     = P(E | A) * P(A) + P(E | B) * P(B) \n",
    "             = 0.04     * 0.5  + 0.014    * 0.5   =   0.027\n",
    "    \n",
    "And we can get a final answer:\n",
    "    \n",
    "    P(A | E) = P(E | A) * P(A) / P(E) \n",
    "             = 0.04     * 0.5  / 0.027 \n",
    "             = 0.7407407407\n",
    "             \n",
    "You have a choice: Bayes Theorem allows you to do less calculation at the cost of more algebra; that is a great trade-off if you are working with pencil and paper. Enumerating the state space allows you to do less algebra at the cost of more calculation; often a good trade-off if you have a computer. But regardless of the approach you use, it is important to understand Bayes theorem and how it works.\n",
    "\n",
    "There is one important question that Allen Downey does not address: *would you  eat twenty-year-old M&Ms*?\n",
    "&#128552;"
   ]
  },
  {
   "cell_type": "markdown",
   "metadata": {},
   "source": [
    "# Newton's Answer to a Problem by Pepys\n",
    "\n",
    "<table>\n",
    "<tr><td><img src=\"http://scienceworld.wolfram.com/biography/pics/Newton.jpg\"><center><a href=\"https://en.wikipedia.org/wiki/Isaac_Newton\">Isaac Newton</a><br>1693</center>\n",
    "<td><img src=\"https://upload.wikimedia.org/wikipedia/commons/thumb/f/f8/Samuel_Pepys_portrait.jpg/148px-Samuel_Pepys_portrait.jpg\"><center><a href=\"https://en.wikipedia.org/wiki/Samuel_Pepys\">Samuel Pepys</a><br>1693</center>\n",
    "</table>\n",
    "\n",
    "[This paper](http://fermatslibrary.com/s/isaac-newton-as-a-probabilist) explains how  Samuel Pepys wrote to Isaac Newton in 1693 to pose the problem:\n",
    "\n",
    "> Which of the following three propositions has the greatest chance of success? \n",
    "  1. Six fair dice are tossed independently and at least one “6” appears. \n",
    "  2. Twelve fair dice are tossed independently and at least two “6”s appear. \n",
    "  3. Eighteen fair dice are tossed independently and at least three “6”s appear.\n",
    "  \n",
    "Newton was able to answer the question correctly (although his reasoning was not quite right); let's see how we can do. Since we're only interested in whether a die comes up as \"6\" or not, we can define a single die and the joint distribution over *n* dice as follows:"
   ]
  },
  {
   "cell_type": "code",
   "execution_count": null,
   "metadata": {
    "collapsed": false,
    "jupyter": {
     "outputs_hidden": false
    }
   },
   "outputs": [],
   "source": [
    "die = ProbDist({'6':1/6, '-':5/6})\n",
    "\n",
    "print(die)"
   ]
  },
  {
   "cell_type": "code",
   "execution_count": null,
   "metadata": {
    "collapsed": false,
    "jupyter": {
     "outputs_hidden": false
    }
   },
   "outputs": [],
   "source": [
    "def dice(n, die):\n",
    "    \"Joint probability from tossing n dice.\"\n",
    "    if n == 1:\n",
    "        return die\n",
    "    else:\n",
    "        return joint(die, dice(n - 1, die))"
   ]
  },
  {
   "cell_type": "code",
   "execution_count": null,
   "metadata": {
    "collapsed": false,
    "jupyter": {
     "outputs_hidden": false
    }
   },
   "outputs": [],
   "source": [
    "dice(3, die)"
   ]
  },
  {
   "cell_type": "markdown",
   "metadata": {},
   "source": [
    "Now we are ready to determine which proposition is more likely to have the required number of sixes:"
   ]
  },
  {
   "cell_type": "code",
   "execution_count": null,
   "metadata": {},
   "outputs": [],
   "source": [
    "def at_least(k, result): return lambda s: s.count(result) >= k"
   ]
  },
  {
   "cell_type": "code",
   "execution_count": null,
   "metadata": {
    "collapsed": false,
    "jupyter": {
     "outputs_hidden": false
    }
   },
   "outputs": [],
   "source": [
    "P(at_least(1, '6'), dice(6, die))"
   ]
  },
  {
   "cell_type": "code",
   "execution_count": null,
   "metadata": {
    "collapsed": false,
    "jupyter": {
     "outputs_hidden": false
    }
   },
   "outputs": [],
   "source": [
    "P(at_least(2, '6'), dice(12, die))"
   ]
  },
  {
   "cell_type": "code",
   "execution_count": null,
   "metadata": {
    "collapsed": false,
    "jupyter": {
     "outputs_hidden": false
    }
   },
   "outputs": [],
   "source": [
    "P(at_least(4, '6'), dice(18, die))"
   ]
  },
  {
   "cell_type": "markdown",
   "metadata": {},
   "source": [
    "We reach the same conclusion Newton did, that the best chance is rolling six dice."
   ]
  },
  {
   "cell_type": "markdown",
   "metadata": {
    "button": false,
    "new_sheet": false,
    "run_control": {
     "read_only": false
    }
   },
   "source": [
    "<hr>\n",
    "\n",
    "# Simulation\n",
    "\n",
    "Sometimes it is inconvenient to explicitly define a sample space. Perhaps the sample space is infinite, or perhaps it is just very large and complicated, and we feel more confident in writing a program to *simulate* one pass through all the complications, rather than try to *enumerate* the complete sample space. *Random sampling* from the simulation\n",
    "can give an accurate estimate of the probability.\n",
    "\n",
    "# Simulating Monopoly\n",
    "\n",
    "![](http://buckwolf.org/a.abcnews.com/images/Entertainment/ho_hop_go_050111_t.jpg)<center>[Mr. Monopoly](https://en.wikipedia.org/wiki/Rich_Uncle_Pennybags)<br>1940&mdash;\n",
    "\n",
    "Consider [problem 84](https://projecteuler.net/problem=84) from the excellent [Project Euler](https://projecteuler.net), which asks for the probability that a player in the game Monopoly ends a roll on each of the squares on the board.  To answer this we need to take into account die rolls, chance and community chest cards, and going to jail (from the \"go to jail\" space, from a card, or from rolling doubles three times in a row). We do not need to take into account anything about buying or selling properties or exchanging money or winning or losing the game, because these don't change a player's location. We will assume that a player in jail will always pay to get out of jail immediately. \n",
    "\n",
    "A game of Monopoly can go on forever, so the sample space is infinite. But even if we limit the sample space to say, 1000 rolls, there are $21^{1000}$ such sequences of rolls (and even more possibilities when we consider drawing cards). So it is infeasible to explicitly represent the sample space.\n",
    "\n",
    "But it is fairly straightforward to implement a simulation and run it for, say, 400,000 rolls (so the average square will be landed on 10,000 times).  Here is the code for a simulation:"
   ]
  },
  {
   "cell_type": "code",
   "execution_count": null,
   "metadata": {
    "button": false,
    "collapsed": false,
    "jupyter": {
     "outputs_hidden": false
    },
    "new_sheet": false,
    "run_control": {
     "read_only": false
    }
   },
   "outputs": [],
   "source": [
    "from collections import Counter, deque\n",
    "import random\n",
    "\n",
    "# The board: a list of the names of the 40 squares\n",
    "# As specified by https://projecteuler.net/problem=84\n",
    "board = \"\"\"GO   A1 CC1 A2  T1 R1 B1  CH1 B2 B3\n",
    "           JAIL C1 U1  C2  C3 R2 D1  CC2 D2 D3 \n",
    "           FP   E1 CH2 E2  E3 R3 F1  F2  U2 F3 \n",
    "           G2J  G1 G2  CC3 G3 R4 CH3 H1  T2 H2\"\"\".split()\n",
    "\n",
    "def monopoly(steps):\n",
    "    \"\"\"Simulate given number of steps of Monopoly game, \n",
    "    yielding the number of the current square after each step.\"\"\"\n",
    "    goto(0) # start at GO\n",
    "    CC_deck = Deck('GO JAIL' + 14 * ' ?')\n",
    "    CH_deck = Deck('GO JAIL C1 E3 H2 R1 R R U -3' + 6 * ' ?')\n",
    "    doubles = 0\n",
    "    jail = board.index('JAIL')\n",
    "    for _ in range(steps):\n",
    "        d1, d2 = random.randint(1, 6), random.randint(1, 6)\n",
    "        goto(here + d1 + d2)\n",
    "        doubles = (doubles + 1) if (d1 == d2) else 0\n",
    "        if doubles == 3 or board[here] == 'G2J':  \n",
    "            goto(jail)\n",
    "        elif board[here].startswith('CC'):\n",
    "            do_card(CC_deck)\n",
    "        elif board[here].startswith('CH'):\n",
    "            do_card(CH_deck)\n",
    "        yield here         \n",
    "\n",
    "def goto(square):\n",
    "    \"Update the global variable 'here' to be square.\"\n",
    "    global here\n",
    "    here = square % len(board)\n",
    "                   \n",
    "def Deck(names):\n",
    "    \"Make a shuffled deck of cards, given a space-delimited string.\"\n",
    "    cards = names.split()\n",
    "    random.shuffle(cards)\n",
    "    return deque(cards)         \n",
    "\n",
    "def do_card(deck):\n",
    "    \"Take the top card from deck and do what it says.\"\n",
    "    global here\n",
    "    card = deck[0]             # The top card\n",
    "    deck.rotate(-1)            # Move top card to bottom of deck\n",
    "    if card == 'R' or card == 'U': \n",
    "        while not board[here].startswith(card):\n",
    "            goto(here + 1)     # Advance to next railroad or utility\n",
    "    elif card == '-3':\n",
    "        goto(here - 3)         # Go back 3 spaces\n",
    "    elif card != '?':\n",
    "        goto(board.index(card))# Go to destination named on card"
   ]
  },
  {
   "cell_type": "markdown",
   "metadata": {
    "button": false,
    "new_sheet": false,
    "run_control": {
     "read_only": false
    }
   },
   "source": [
    "And the results:"
   ]
  },
  {
   "cell_type": "code",
   "execution_count": null,
   "metadata": {
    "button": false,
    "collapsed": false,
    "jupyter": {
     "outputs_hidden": false
    },
    "new_sheet": false,
    "run_control": {
     "read_only": false
    }
   },
   "outputs": [],
   "source": [
    "results = list(monopoly(400000))"
   ]
  },
  {
   "cell_type": "markdown",
   "metadata": {
    "button": false,
    "new_sheet": false,
    "run_control": {
     "read_only": false
    }
   },
   "source": [
    "I'll show a histogram of the squares, with a dotted red line at the average:"
   ]
  },
  {
   "cell_type": "code",
   "execution_count": null,
   "metadata": {
    "button": false,
    "collapsed": false,
    "jupyter": {
     "outputs_hidden": false
    },
    "new_sheet": false,
    "run_control": {
     "read_only": false
    }
   },
   "outputs": [],
   "source": [
    "%matplotlib inline \n",
    "import matplotlib.pyplot as plt\n",
    "\n",
    "plt.hist(results, bins=40)\n",
    "avg = len(results) / 40\n",
    "plt.plot([0, 39], [avg, avg], 'r--');"
   ]
  },
  {
   "cell_type": "markdown",
   "metadata": {
    "button": false,
    "new_sheet": false,
    "run_control": {
     "read_only": false
    }
   },
   "source": [
    "Another way to see the results:"
   ]
  },
  {
   "cell_type": "code",
   "execution_count": null,
   "metadata": {
    "button": false,
    "collapsed": false,
    "jupyter": {
     "outputs_hidden": false
    },
    "new_sheet": false,
    "run_control": {
     "read_only": false
    }
   },
   "outputs": [],
   "source": [
    "ProbDist(Counter(board[i] for i in results))"
   ]
  },
  {
   "cell_type": "markdown",
   "metadata": {
    "button": false,
    "new_sheet": false,
    "run_control": {
     "read_only": false
    }
   },
   "source": [
    "There is one square far above average: `JAIL`, at a little over 6%. There are four squares far below average: the three chance squares, `CH1`, `CH2`, and `CH3`, at around 1% (because 10 of the 16 chance cards send the player away from the square), and the \"Go to Jail\" square, square number 30 on the plot, which has a frequency of 0 because you can't end a turn there. The other squares are around 2% to 3% each, which you would expect, because 100% / 40 = 2.5%."
   ]
  },
  {
   "cell_type": "markdown",
   "metadata": {},
   "source": [
    "# The Central Limit Theorem / Strength in Numbers Theorem\n",
    "\n",
    "So far, we have talked of an *outcome* as being a single state of the world. But it can be useful to break that state of the world down into components. We call these components **random variables**. For example, when we consider an experiment in which we roll two dice and observe their sum, we could model the situation with two random variables, one for each die. (Our representation of outcomes has been doing that implicitly all along, when we concatenate two parts of a string, but the concept of a random variable makes it official.)\n",
    "\n",
    "The **Central Limit Theorem** states that if you have a collection of random variables and sum them up, then the larger the collection, the closer the sum will be to a *normal distribution* (also called a *Gaussian distribution* or a *bell-shaped curve*). The theorem applies in all but a few pathological cases. \n",
    "\n",
    "As an example, let's take 5 random variables representing the per-game scores of 5 basketball players, and then sum them together to form the team score. Each random variable/player is represented as a function; calling the function returns a single sample from the distribution:\n"
   ]
  },
  {
   "cell_type": "code",
   "execution_count": null,
   "metadata": {
    "collapsed": false,
    "jupyter": {
     "outputs_hidden": false
    }
   },
   "outputs": [],
   "source": [
    "from random import gauss, triangular, choice, vonmisesvariate, uniform\n",
    "\n",
    "def SC(): return posint(gauss(15.1, 3) + 3 * triangular(1, 4, 13)) # 30.1\n",
    "def KT(): return posint(gauss(10.2, 3) + 3 * triangular(1, 3.5, 9)) # 22.1\n",
    "def DG(): return posint(vonmisesvariate(30, 2) * 3.08) # 14.0\n",
    "def HB(): return posint(gauss(6.7, 1.5) if choice((True, False)) else gauss(16.7, 2.5)) # 11.7\n",
    "def OT(): return posint(triangular(5, 17, 25) + uniform(0, 30) + gauss(6, 3)) # 37.0\n",
    "\n",
    "def posint(x): \"Positive integer\"; return max(0, int(round(x)))"
   ]
  },
  {
   "cell_type": "markdown",
   "metadata": {},
   "source": [
    "And here is a function to sample a random variable *k* times, show a histogram of the results, and return the mean:"
   ]
  },
  {
   "cell_type": "code",
   "execution_count": null,
   "metadata": {},
   "outputs": [],
   "source": [
    "from statistics import mean\n",
    "\n",
    "def repeated_hist(rv, bins=10, k=100000):\n",
    "    \"Repeat rv() k times and make a histogram of the results.\"\n",
    "    samples = [rv() for _ in range(k)]\n",
    "    plt.hist(samples, bins=bins)\n",
    "    return mean(samples)"
   ]
  },
  {
   "cell_type": "markdown",
   "metadata": {},
   "source": [
    "The two top-scoring players have scoring distributions that are slightly skewed from normal:"
   ]
  },
  {
   "cell_type": "code",
   "execution_count": null,
   "metadata": {
    "collapsed": false,
    "jupyter": {
     "outputs_hidden": false
    }
   },
   "outputs": [],
   "source": [
    "repeated_hist(SC, bins=range(60))"
   ]
  },
  {
   "cell_type": "code",
   "execution_count": null,
   "metadata": {
    "collapsed": false,
    "jupyter": {
     "outputs_hidden": false
    }
   },
   "outputs": [],
   "source": [
    "repeated_hist(KT, bins=range(60))"
   ]
  },
  {
   "cell_type": "markdown",
   "metadata": {},
   "source": [
    "The next two players have bi-modal distributions; some games they score a lot, some games not:"
   ]
  },
  {
   "cell_type": "code",
   "execution_count": null,
   "metadata": {
    "collapsed": false,
    "jupyter": {
     "outputs_hidden": false
    }
   },
   "outputs": [],
   "source": [
    "repeated_hist(DG, bins=range(60))"
   ]
  },
  {
   "cell_type": "code",
   "execution_count": null,
   "metadata": {
    "collapsed": false,
    "jupyter": {
     "outputs_hidden": false
    }
   },
   "outputs": [],
   "source": [
    "repeated_hist(HB, bins=range(60))"
   ]
  },
  {
   "cell_type": "markdown",
   "metadata": {},
   "source": [
    "The fifth \"player\" (actually the sum of all the other players on the team) looks like this:"
   ]
  },
  {
   "cell_type": "code",
   "execution_count": null,
   "metadata": {
    "collapsed": false,
    "jupyter": {
     "outputs_hidden": false
    }
   },
   "outputs": [],
   "source": [
    "repeated_hist(OT, bins=range(60))"
   ]
  },
  {
   "cell_type": "markdown",
   "metadata": {},
   "source": [
    "Now we define the team score to be the sum of the five players, and look at the distribution:"
   ]
  },
  {
   "cell_type": "code",
   "execution_count": null,
   "metadata": {
    "collapsed": false,
    "jupyter": {
     "outputs_hidden": false
    }
   },
   "outputs": [],
   "source": [
    "def GSW(): return SC() + KT() + DG() + HB() + OT()\n",
    "\n",
    "repeated_hist(GSW, bins=range(70, 160, 2))"
   ]
  },
  {
   "cell_type": "markdown",
   "metadata": {},
   "source": [
    "Sure enough, this looks very much like a normal distribution. The Central Limit Theorem appears to hold in this case. But I have to say \"Central Limit\" is not a very evocative name, so I propose we re-name this as the **Strength in Numbers Theorem**, to indicate the fact that if you have a lot of numbers, you tend to get the expected result."
   ]
  },
  {
   "cell_type": "markdown",
   "metadata": {
    "button": false,
    "new_sheet": false,
    "run_control": {
     "read_only": false
    }
   },
   "source": [
    "# Conclusion\n",
    "\n",
    "We've had an interesting tour and met some giants of the field: Laplace, Bernoulli, Fermat, Pascal, Bayes, Newton, ... even Mr. Monopoly and The Count.\n",
    "\n",
    "![The Count](http://img2.oncoloring.com/count-dracula-number-thir_518b77b54ba6c-p.gif)\n",
    "<center><a href=\"https://en.wikipedia.org/wiki/Count_von_Count\">The Count</a><br>1972&mdash;</center>\n",
    "\n",
    "The conclusion is: be explicit about what the problem says, and then methodical about defining the sample space, and finally be careful in counting the number of outcomes in the numerator and denominator. Easy as 1-2-3. "
   ]
  },
  {
   "cell_type": "markdown",
   "metadata": {},
   "source": [
    "# Let's review some of these concepts:\n",
    "\n",
    "\n",
    "- **[Experiment](https://en.wikipedia.org/wiki/Experiment_(probability_theory%29):**\n",
    "  An occurrence with an uncertain outcome that we can observe.\n",
    "  <br>*For example, rolling a die.*\n",
    "- **[Outcome](https://en.wikipedia.org/wiki/Outcome_(probability%29):**\n",
    "  The result of an experiment; one particular state of the world. What Laplace calls a \"case.\"\n",
    "  <br>*For example:* `4`.\n",
    "- **[Sample Space](https://en.wikipedia.org/wiki/Sample_space):**\n",
    "  The set of all possible outcomes for the experiment. \n",
    "  <br>*For example,* `{1, 2, 3, 4, 5, 6}`.\n",
    "- **[Event](https://en.wikipedia.org/wiki/Event_(probability_theory%29):**\n",
    "  A subset of possible outcomes that together have some property we are interested in.\n",
    "  <br>*For example, the event \"even die roll\" is the set of outcomes* `{2, 4, 6}`. \n",
    "- **[Probability](https://en.wikipedia.org/wiki/Probability_theory):**\n",
    "  As Laplace said, the probability of an event with respect to a sample space is the number of favorable cases (outcomes from the sample space that are in the event) divided by the total number of cases in the sample space. (This assumes that all outcomes in the sample space are equally likely.) Since it is a ratio, probability will always be a number between 0 (representing an impossible event) and 1 (representing a certain event).\n",
    "<br>*For example, the probability of an even die roll is 3/6 = 1/2.*\n",
    "\n",
    "- **[Combinations](https://en.wikipedia.org/wiki/Combination):**  a combination is a selection of items from a collection, such that the order of selection does not matter\n",
    "$$ choose(n,k) = {n \\choose k} = \\frac{n!}{(k!)(n-k!)} $$\n",
    "\n",
    "- **[Permutations](https://en.wikipedia.org/wiki/Permutation):** a permutation of a set is, loosely speaking, an arrangement of its members into a sequence or linear order, or if the set is already ordered, a rearrangement of its elements. The permutations of set `{1,2,3}` are `[(1,2,3),(1,3,2),(2,1,3),(2,3,1),(3,1,2),(3,2,1)]` or `3!`.\n",
    "\n",
    "### Some notes on set theory in probability:\n",
    "Given two sets $A$ and $B$:\n",
    "\n",
    "The intersection of the two sets are the outcomes that are in both A and B. It is written:\n",
    "$$ A \\cup B$$\n",
    "\n",
    "The union of the two sets are the outcomes that are in A or B. It is written\n",
    "$$ A \\cap B $$\n",
    "$$$$"
   ]
  },
  {
   "cell_type": "markdown",
   "metadata": {},
   "source": [
    "### Plotting mathematical functions"
   ]
  },
  {
   "cell_type": "code",
   "execution_count": null,
   "metadata": {},
   "outputs": [],
   "source": [
    "!pip install seaborn matplotlib"
   ]
  },
  {
   "cell_type": "code",
   "execution_count": 62,
   "metadata": {},
   "outputs": [
    {
     "name": "stdout",
     "output_type": "stream",
     "text": [
      "Collecting package metadata (current_repodata.json): ...working... done\n",
      "Solving environment: ...working... done\n",
      "\n",
      "# All requested packages already installed.\n",
      "\n"
     ]
    }
   ],
   "source": [
    "!conda install seaborn matplotlib"
   ]
  },
  {
   "cell_type": "code",
   "execution_count": 63,
   "metadata": {},
   "outputs": [],
   "source": [
    "%matplotlib inline\n",
    "import matplotlib.pyplot as plt"
   ]
  },
  {
   "cell_type": "code",
   "execution_count": 64,
   "metadata": {},
   "outputs": [],
   "source": [
    "import seaborn as sns"
   ]
  },
  {
   "cell_type": "code",
   "execution_count": 65,
   "metadata": {},
   "outputs": [],
   "source": [
    "import pandas as pd\n",
    "import numpy as np"
   ]
  },
  {
   "cell_type": "code",
   "execution_count": 66,
   "metadata": {},
   "outputs": [
    {
     "data": {
      "image/png": "[encoded data removed]",
      "text/plain": [
       "<Figure size 360x360 with 1 Axes>"
      ]
     },
     "metadata": {
      "needs_background": "light"
     },
     "output_type": "display_data"
    }
   ],
   "source": [
    "df = pd.DataFrame(dict(x=np.arange(500), y=np.arange(500) - 100))\n",
    "g = sns.relplot(x=\"x\", y=\"y\", kind=\"line\", data=df)"
   ]
  },
  {
   "cell_type": "code",
   "execution_count": 67,
   "metadata": {},
   "outputs": [
    {
     "data": {
      "text/plain": [
       "[<matplotlib.lines.Line2D at 0x24bfc8a5340>]"
      ]
     },
     "execution_count": 67,
     "metadata": {},
     "output_type": "execute_result"
    },
    {
     "data": {
      "image/png": "[encoded data removed]",
      "text/plain": [
       "<Figure size 432x288 with 1 Axes>"
      ]
     },
     "metadata": {
      "needs_background": "light"
     },
     "output_type": "display_data"
    }
   ],
   "source": [
    "x = np.arange(500)\n",
    "y = np.arange(500) - 100\n",
    "\n",
    "plt.plot(x,y)\n"
   ]
  },
  {
   "cell_type": "markdown",
   "metadata": {},
   "source": [
    "### What is the equation for these lines?\n",
    "\n",
    "$$ y = x - 100 $$\n",
    "\n",
    "### What is the x-intercept?\n",
    "\n",
    "To find the x-intercept, set $y=0$\n",
    "\n",
    "$$ 0 = x - 100 $$\n",
    "$$ 100 = x $$\n",
    "\n",
    "### What is the y-intercept?\n",
    "\n",
    "To find the y-intercept, set $x=0$\n",
    "\n",
    "$$ y = 0 - 100 $$\n",
    "$$ y = -100 $$"
   ]
  },
  {
   "cell_type": "markdown",
   "metadata": {},
   "source": [
    "## Let's slightly change the charts. (and adjust our code)."
   ]
  },
  {
   "cell_type": "code",
   "execution_count": 68,
   "metadata": {},
   "outputs": [],
   "source": [
    "x = 4 * np.arange(100)\n",
    "y = np.arange(100) - 100"
   ]
  },
  {
   "cell_type": "code",
   "execution_count": 69,
   "metadata": {},
   "outputs": [],
   "source": [
    "df = pd.DataFrame({'x':x,'y':y})"
   ]
  },
  {
   "cell_type": "code",
   "execution_count": 70,
   "metadata": {},
   "outputs": [
    {
     "data": {
      "image/png": "[encoded data removed]",
      "text/plain": [
       "<Figure size 360x360 with 1 Axes>"
      ]
     },
     "metadata": {
      "needs_background": "light"
     },
     "output_type": "display_data"
    }
   ],
   "source": [
    "g = sns.relplot(x=\"x\", y=\"y\", kind=\"line\", data=df)"
   ]
  },
  {
   "cell_type": "code",
   "execution_count": 71,
   "metadata": {},
   "outputs": [
    {
     "data": {
      "text/plain": [
       "[<matplotlib.lines.Line2D at 0x24bfc955640>]"
      ]
     },
     "execution_count": 71,
     "metadata": {},
     "output_type": "execute_result"
    },
    {
     "data": {
      "image/png": "[encoded data removed]",
      "text/plain": [
       "<Figure size 432x288 with 1 Axes>"
      ]
     },
     "metadata": {
      "needs_background": "light"
     },
     "output_type": "display_data"
    }
   ],
   "source": [
    "plt.plot(x,y)"
   ]
  },
  {
   "attachments": {
    "b68b8f7e-6800-4a1b-a9db-caf283b3a3a5.png": {
     "image/png": "[encoded data removed]"
    }
   },
   "cell_type": "markdown",
   "metadata": {},
   "source": [
    "### What is the equation for these lines?\n",
    "\n",
    "$$ y = 4x - 100 $$\n",
    "\n",
    "### What is the x-intercept?\n",
    "\n",
    "To find the x-intercept, set $y=0$\n",
    "\n",
    "$$ 0 = 4x - 100 $$\n",
    "$$ 100 = 4x $$\n",
    "$$ 25 = x $$ \n",
    "\n",
    "### What is the y-intercept?\n",
    "\n",
    "To find the y-intercept, set $x=0$\n",
    "\n",
    "$$ y = 4*0 - 100 $$\n",
    "$$ y = -100 $$\n",
    "\n",
    "### What is the slope?\n",
    "Let's take two points on the line.\n",
    "$$ (x,y) $$\n",
    "$$ (0, -100) $$\n",
    "$$ (25, 0) $$\n",
    "\n",
    "The equation for slope is:\n",
    "$$ \\frac{\\Delta{y}}{\\Delta{x}} $$\n",
    "\n",
    "$$ \\frac{y_2 - y_1}{x_2-x_1}$$\n",
    "So our slope can be calculated by:\n",
    "$$ \\frac{-100-0}{0-25}$$\n",
    "\n",
    "$$ \\frac{-100}{-25}$$\n",
    "\n",
    "$$ 4$$ \n",
    "\n",
    "### What is the (in)dependent variable?\n",
    "![image.png](attachment:b68b8f7e-6800-4a1b-a9db-caf283b3a3a5.png)\n",
    "\n",
    "In the context of Statistical learning, there are two types of data:\n",
    "* Independent variables: Data that can be controlled directly.\n",
    "* Dependent variables: Data that cannot be controlled directly.\n",
    "\n",
    "The data that can’t be controlled i.e. dependent variables need to predicted or estimated.\n",
    "\n",
    "The equation for a line is:\n",
    "$$ y= mx + c $$\n",
    "\n",
    "\n",
    "**y** is the dependent variable which needs to be predicted or estimated  \n",
    "**x** is the independent variable which is usually our inputs  \n",
    "**m** is the slope  \n",
    "**c** is the y-intercept\n",
    "\n",
    "For linear regressions, we use the following equation:\n",
    "$$ Y = \\beta_0 + \\beta_1X+\\epsilon$$\n",
    "$\\beta_0$ and $\\beta_1$ are two unknown constants that represent the intercept and slope. They are parameters.\n",
    "$\\epsilon$ is the error.\n"
   ]
  },
  {
   "cell_type": "code",
   "execution_count": 73,
   "metadata": {},
   "outputs": [
    {
     "data": {
      "text/html": [
       "<div>\n",
       "<style scoped>\n",
       "    .dataframe tbody tr th:only-of-type {\n",
       "        vertical-align: middle;\n",
       "    }\n",
       "\n",
       "    .dataframe tbody tr th {\n",
       "        vertical-align: top;\n",
       "    }\n",
       "\n",
       "    .dataframe thead th {\n",
       "        text-align: right;\n",
       "    }\n",
       "</style>\n",
       "<table border=\"1\" class=\"dataframe\">\n",
       "  <thead>\n",
       "    <tr style=\"text-align: right;\">\n",
       "      <th></th>\n",
       "      <th>gender</th>\n",
       "      <th>race/ethnicity</th>\n",
       "      <th>parental level of education</th>\n",
       "      <th>lunch</th>\n",
       "      <th>test preparation course</th>\n",
       "      <th>math score</th>\n",
       "      <th>reading score</th>\n",
       "      <th>writing score</th>\n",
       "    </tr>\n",
       "  </thead>\n",
       "  <tbody>\n",
       "    <tr>\n",
       "      <th>0</th>\n",
       "      <td>female</td>\n",
       "      <td>group B</td>\n",
       "      <td>bachelor's degree</td>\n",
       "      <td>standard</td>\n",
       "      <td>none</td>\n",
       "      <td>72</td>\n",
       "      <td>72</td>\n",
       "      <td>74</td>\n",
       "    </tr>\n",
       "    <tr>\n",
       "      <th>1</th>\n",
       "      <td>female</td>\n",
       "      <td>group C</td>\n",
       "      <td>some college</td>\n",
       "      <td>standard</td>\n",
       "      <td>completed</td>\n",
       "      <td>69</td>\n",
       "      <td>90</td>\n",
       "      <td>88</td>\n",
       "    </tr>\n",
       "    <tr>\n",
       "      <th>2</th>\n",
       "      <td>female</td>\n",
       "      <td>group B</td>\n",
       "      <td>master's degree</td>\n",
       "      <td>standard</td>\n",
       "      <td>none</td>\n",
       "      <td>90</td>\n",
       "      <td>95</td>\n",
       "      <td>93</td>\n",
       "    </tr>\n",
       "    <tr>\n",
       "      <th>3</th>\n",
       "      <td>male</td>\n",
       "      <td>group A</td>\n",
       "      <td>associate's degree</td>\n",
       "      <td>free/reduced</td>\n",
       "      <td>none</td>\n",
       "      <td>47</td>\n",
       "      <td>57</td>\n",
       "      <td>44</td>\n",
       "    </tr>\n",
       "    <tr>\n",
       "      <th>4</th>\n",
       "      <td>male</td>\n",
       "      <td>group C</td>\n",
       "      <td>some college</td>\n",
       "      <td>standard</td>\n",
       "      <td>none</td>\n",
       "      <td>76</td>\n",
       "      <td>78</td>\n",
       "      <td>75</td>\n",
       "    </tr>\n",
       "    <tr>\n",
       "      <th>...</th>\n",
       "      <td>...</td>\n",
       "      <td>...</td>\n",
       "      <td>...</td>\n",
       "      <td>...</td>\n",
       "      <td>...</td>\n",
       "      <td>...</td>\n",
       "      <td>...</td>\n",
       "      <td>...</td>\n",
       "    </tr>\n",
       "    <tr>\n",
       "      <th>995</th>\n",
       "      <td>female</td>\n",
       "      <td>group E</td>\n",
       "      <td>master's degree</td>\n",
       "      <td>standard</td>\n",
       "      <td>completed</td>\n",
       "      <td>88</td>\n",
       "      <td>99</td>\n",
       "      <td>95</td>\n",
       "    </tr>\n",
       "    <tr>\n",
       "      <th>996</th>\n",
       "      <td>male</td>\n",
       "      <td>group C</td>\n",
       "      <td>high school</td>\n",
       "      <td>free/reduced</td>\n",
       "      <td>none</td>\n",
       "      <td>62</td>\n",
       "      <td>55</td>\n",
       "      <td>55</td>\n",
       "    </tr>\n",
       "    <tr>\n",
       "      <th>997</th>\n",
       "      <td>female</td>\n",
       "      <td>group C</td>\n",
       "      <td>high school</td>\n",
       "      <td>free/reduced</td>\n",
       "      <td>completed</td>\n",
       "      <td>59</td>\n",
       "      <td>71</td>\n",
       "      <td>65</td>\n",
       "    </tr>\n",
       "    <tr>\n",
       "      <th>998</th>\n",
       "      <td>female</td>\n",
       "      <td>group D</td>\n",
       "      <td>some college</td>\n",
       "      <td>standard</td>\n",
       "      <td>completed</td>\n",
       "      <td>68</td>\n",
       "      <td>78</td>\n",
       "      <td>77</td>\n",
       "    </tr>\n",
       "    <tr>\n",
       "      <th>999</th>\n",
       "      <td>female</td>\n",
       "      <td>group D</td>\n",
       "      <td>some college</td>\n",
       "      <td>free/reduced</td>\n",
       "      <td>none</td>\n",
       "      <td>77</td>\n",
       "      <td>86</td>\n",
       "      <td>86</td>\n",
       "    </tr>\n",
       "  </tbody>\n",
       "</table>\n",
       "<p>1000 rows × 8 columns</p>\n",
       "</div>"
      ],
      "text/plain": [
       "     gender race/ethnicity parental level of education         lunch  \\\n",
       "0    female        group B           bachelor's degree      standard   \n",
       "1    female        group C                some college      standard   \n",
       "2    female        group B             master's degree      standard   \n",
       "3      male        group A          associate's degree  free/reduced   \n",
       "4      male        group C                some college      standard   \n",
       "..      ...            ...                         ...           ...   \n",
       "995  female        group E             master's degree      standard   \n",
       "996    male        group C                 high school  free/reduced   \n",
       "997  female        group C                 high school  free/reduced   \n",
       "998  female        group D                some college      standard   \n",
       "999  female        group D                some college  free/reduced   \n",
       "\n",
       "    test preparation course  math score  reading score  writing score  \n",
       "0                      none          72             72             74  \n",
       "1                 completed          69             90             88  \n",
       "2                      none          90             95             93  \n",
       "3                      none          47             57             44  \n",
       "4                      none          76             78             75  \n",
       "..                      ...         ...            ...            ...  \n",
       "995               completed          88             99             95  \n",
       "996                    none          62             55             55  \n",
       "997               completed          59             71             65  \n",
       "998               completed          68             78             77  \n",
       "999                    none          77             86             86  \n",
       "\n",
       "[1000 rows x 8 columns]"
      ]
     },
     "execution_count": 73,
     "metadata": {},
     "output_type": "execute_result"
    }
   ],
   "source": [
    "df = pd.read_csv('../week-015/grades.csv')\n",
    "df"
   ]
  },
  {
   "cell_type": "markdown",
   "metadata": {},
   "source": [
    "## Some chart types\n",
    "\n",
    "### Histograms and Density Plots\n",
    "\n",
    "A histogram is a graphical display of data using bars of different heights. In a histogram, each bar groups numbers into ranges. Taller bars show that more data falls in that range. A histogram displays the shape and spread of continuous sample data."
   ]
  },
  {
   "cell_type": "code",
   "execution_count": 74,
   "metadata": {},
   "outputs": [
    {
     "data": {
      "image/png": "[encoded data removed]",
      "text/plain": [
       "<Figure size 432x288 with 1 Axes>"
      ]
     },
     "metadata": {
      "needs_background": "light"
     },
     "output_type": "display_data"
    }
   ],
   "source": [
    "# matplotlib\n",
    "for col in ['math score', 'reading score', 'writing score']:\n",
    "    plt.hist(df[col], alpha=0.4)"
   ]
  },
  {
   "cell_type": "code",
   "execution_count": 75,
   "metadata": {},
   "outputs": [
    {
     "data": {
      "image/png": "[encoded data removed]",
      "text/plain": [
       "<Figure size 432x288 with 1 Axes>"
      ]
     },
     "metadata": {
      "needs_background": "light"
     },
     "output_type": "display_data"
    }
   ],
   "source": [
    "# seaborn\n",
    "for col in ['math score', 'reading score', 'writing score']:#, lunch \ttest preparation course \tmath score \treading score \twriting score'\n",
    "    sns.distplot(df[col])"
   ]
  },
  {
   "cell_type": "code",
   "execution_count": 76,
   "metadata": {},
   "outputs": [
    {
     "data": {
      "text/plain": [
       "<matplotlib.axes._subplots.AxesSubplot at 0x24bfcccbd00>"
      ]
     },
     "execution_count": 76,
     "metadata": {},
     "output_type": "execute_result"
    },
    {
     "data": {
      "image/png": "[encoded data removed]",
      "text/plain": [
       "<Figure size 432x288 with 1 Axes>"
      ]
     },
     "metadata": {
      "needs_background": "light"
     },
     "output_type": "display_data"
    }
   ],
   "source": [
    "sns.kdeplot(df['math score'])\n",
    "sns.kdeplot(df['writing score'])\n",
    "sns.kdeplot(df['reading score'])"
   ]
  },
  {
   "cell_type": "code",
   "execution_count": 77,
   "metadata": {},
   "outputs": [
    {
     "data": {
      "text/plain": [
       "<matplotlib.axes._subplots.AxesSubplot at 0x24bfcd5abb0>"
      ]
     },
     "execution_count": 77,
     "metadata": {},
     "output_type": "execute_result"
    },
    {
     "data": {
      "image/png": "[encoded data removed]",
      "text/plain": [
       "<Figure size 432x288 with 1 Axes>"
      ]
     },
     "metadata": {
      "needs_background": "light"
     },
     "output_type": "display_data"
    }
   ],
   "source": [
    "df[['math score', 'reading score', 'writing score']].plot(kind='kde')"
   ]
  },
  {
   "cell_type": "markdown",
   "metadata": {},
   "source": [
    "### Box Plots\n",
    "\n",
    "In descriptive statistics, a box plot or boxplot is a method for graphically depicting groups of numerical data through their quartiles. Box plots may also have lines extending from the boxes (whiskers) indicating variability outside the upper and lower quartiles"
   ]
  },
  {
   "cell_type": "code",
   "execution_count": 78,
   "metadata": {},
   "outputs": [
    {
     "data": {
      "text/plain": [
       "<matplotlib.axes._subplots.AxesSubplot at 0x24bfcdf38b0>"
      ]
     },
     "execution_count": 78,
     "metadata": {},
     "output_type": "execute_result"
    },
    {
     "data": {
      "image/png": "[encoded data removed]",
      "text/plain": [
       "<Figure size 432x288 with 1 Axes>"
      ]
     },
     "metadata": {
      "needs_background": "light"
     },
     "output_type": "display_data"
    }
   ],
   "source": [
    "df[['math score','reading score', 'writing score']].boxplot()  #it's very useful to see the really low scores"
   ]
  },
  {
   "cell_type": "code",
   "execution_count": 81,
   "metadata": {},
   "outputs": [
    {
     "data": {
      "text/html": [
       "<div>\n",
       "<style scoped>\n",
       "    .dataframe tbody tr th:only-of-type {\n",
       "        vertical-align: middle;\n",
       "    }\n",
       "\n",
       "    .dataframe tbody tr th {\n",
       "        vertical-align: top;\n",
       "    }\n",
       "\n",
       "    .dataframe thead th {\n",
       "        text-align: right;\n",
       "    }\n",
       "</style>\n",
       "<table border=\"1\" class=\"dataframe\">\n",
       "  <thead>\n",
       "    <tr style=\"text-align: right;\">\n",
       "      <th></th>\n",
       "      <th>gender</th>\n",
       "      <th>race/ethnicity</th>\n",
       "      <th>parental level of education</th>\n",
       "      <th>lunch</th>\n",
       "      <th>test preparation course</th>\n",
       "      <th>math score</th>\n",
       "      <th>reading score</th>\n",
       "      <th>writing score</th>\n",
       "    </tr>\n",
       "  </thead>\n",
       "  <tbody>\n",
       "    <tr>\n",
       "      <th>17</th>\n",
       "      <td>female</td>\n",
       "      <td>group B</td>\n",
       "      <td>some high school</td>\n",
       "      <td>free/reduced</td>\n",
       "      <td>none</td>\n",
       "      <td>18</td>\n",
       "      <td>32</td>\n",
       "      <td>28</td>\n",
       "    </tr>\n",
       "    <tr>\n",
       "      <th>59</th>\n",
       "      <td>female</td>\n",
       "      <td>group C</td>\n",
       "      <td>some high school</td>\n",
       "      <td>free/reduced</td>\n",
       "      <td>none</td>\n",
       "      <td>0</td>\n",
       "      <td>17</td>\n",
       "      <td>10</td>\n",
       "    </tr>\n",
       "    <tr>\n",
       "      <th>787</th>\n",
       "      <td>female</td>\n",
       "      <td>group B</td>\n",
       "      <td>some college</td>\n",
       "      <td>standard</td>\n",
       "      <td>none</td>\n",
       "      <td>19</td>\n",
       "      <td>38</td>\n",
       "      <td>32</td>\n",
       "    </tr>\n",
       "    <tr>\n",
       "      <th>980</th>\n",
       "      <td>female</td>\n",
       "      <td>group B</td>\n",
       "      <td>high school</td>\n",
       "      <td>free/reduced</td>\n",
       "      <td>none</td>\n",
       "      <td>8</td>\n",
       "      <td>24</td>\n",
       "      <td>23</td>\n",
       "    </tr>\n",
       "  </tbody>\n",
       "</table>\n",
       "</div>"
      ],
      "text/plain": [
       "     gender race/ethnicity parental level of education         lunch  \\\n",
       "17   female        group B            some high school  free/reduced   \n",
       "59   female        group C            some high school  free/reduced   \n",
       "787  female        group B                some college      standard   \n",
       "980  female        group B                 high school  free/reduced   \n",
       "\n",
       "    test preparation course  math score  reading score  writing score  \n",
       "17                     none          18             32             28  \n",
       "59                     none           0             17             10  \n",
       "787                    none          19             38             32  \n",
       "980                    none           8             24             23  "
      ]
     },
     "execution_count": 81,
     "metadata": {},
     "output_type": "execute_result"
    }
   ],
   "source": [
    "df[df['math score'] < 20]"
   ]
  },
  {
   "cell_type": "markdown",
   "metadata": {},
   "source": [
    "### Scatter Plots\n",
    "\n",
    "A scatter plot (aka scatter chart, scatter graph) uses dots to represent values for two different numeric variables. The position of each dot on the horizontal and vertical axis indicates values for an individual data point. Scatter plots are used to observe relationships between variables."
   ]
  },
  {
   "cell_type": "code",
   "execution_count": 82,
   "metadata": {},
   "outputs": [
    {
     "data": {
      "text/plain": [
       "<matplotlib.axes._subplots.AxesSubplot at 0x24bfcc2ee50>"
      ]
     },
     "execution_count": 82,
     "metadata": {},
     "output_type": "execute_result"
    },
    {
     "data": {
      "image/png": "[encoded data removed]",
      "text/plain": [
       "<Figure size 432x288 with 1 Axes>"
      ]
     },
     "metadata": {
      "needs_background": "light"
     },
     "output_type": "display_data"
    }
   ],
   "source": [
    "df.plot(x='reading score', y='math score',kind='scatter')"
   ]
  },
  {
   "cell_type": "markdown",
   "metadata": {},
   "source": [
    "<a href=\"#\" id=\"hw\"></a>\n",
    "<div style=\"background: #000;\n",
    "            color: #FFF;\n",
    "            margin-bottom: 10px;\n",
    "            padding: 10px 0px 20px 0px;\n",
    "            text-align: center; \n",
    "                \">\n",
    "    <h1 style=\"padding: 0px 0px 0px 0px;\">Futher Reading</h1>\n",
    "</div>\n",
    "\n",
    "https://seaborn.pydata.org/tutorial.html  \n",
    "https://pandas.pydata.org/pandas-docs/stable/user_guide/visualization.html  \n",
    "https://cs.brown.edu/courses/cs022/static/files/documents/sets.pdf   \n",
    "https://seeing-theory.brown.edu/basic-probability/index.html     \n",
    "https://seeing-theory.brown.edu/doc/basic-probability.pdf     \n",
    "\n",
    "[Probability Cheatsheet](https://github.com/georgearun/Data-Science--Cheat-Sheet/blob/master/Probability%20and%20Statistics/probability_cheatsheet.pdf)"
   ]
  },
  {
   "cell_type": "code",
   "execution_count": null,
   "metadata": {},
   "outputs": [],
   "source": []
  },
  {
   "cell_type": "code",
   "execution_count": null,
   "metadata": {},
   "outputs": [],
   "source": []
  }
 ],
 "metadata": {
  "kernelspec": {
   "display_name": "Python 3",
   "language": "python",
   "name": "python3"
  },
  "language_info": {
   "codemirror_mode": {
    "name": "ipython",
    "version": 3
   },
   "file_extension": ".py",
   "mimetype": "text/x-python",
   "name": "python",
   "nbconvert_exporter": "python",
   "pygments_lexer": "ipython3",
   "version": "3.8.3"
  }
 },
 "nbformat": 4,
 "nbformat_minor": 4
}
