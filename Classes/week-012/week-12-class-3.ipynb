{
 "cells": [
  {
   "cell_type": "markdown",
   "metadata": {},
   "source": [
    "<div style=\"background: #000;\n",
    "            color: #FFF;\n",
    "            margin: 0px;\n",
    "                padding: 10px 0px 20px 0px;\n",
    "            text-align: center; \n",
    "                \">\n",
    "    <h1>Week 12 - Class 3 - 12/02</h1>\n",
    "</div>\n",
    "\n",
    "## Objectives for this week:\n",
    "\n",
    "* Integrating models in views\n",
    "* Connecting our database to our API\n",
    "* Deploying our web applications\n",
    "\n",
    "Today's objective:\n",
    "* Deploying our web applications"
   ]
  },
  {
   "cell_type": "markdown",
   "metadata": {},
   "source": [
    "<div style=\"background: #000;\n",
    "            color: #FFF;\n",
    "            margin: 0px;\n",
    "                padding: 10px 0px 20px 0px;\n",
    "            text-align: center; \n",
    "                \">\n",
    "    <h1>Exercises</h1>\n",
    "</div>"
   ]
  },
  {
   "cell_type": "markdown",
   "metadata": {},
   "source": [
    "### Exercise 1\n",
    "\n",
    "Given a sorted array of distinct integers and a target value, return the index if the target is found. If not, return the index where it would be if it were inserted in order."
   ]
  },
  {
   "cell_type": "markdown",
   "metadata": {
    "jupyter": {
     "source_hidden": true
    }
   },
   "source": [
    "Example 1:\n",
    "```\n",
    "Input: nums = [1,3,5,6], target = 5\n",
    "Output: 2\n",
    "\n",
    "```\n",
    "Example 2:\n",
    "```\n",
    "Input: nums = [1,3,5,6], target = 2\n",
    "Output: 1\n",
    "```\n",
    "Example 3:\n",
    "```\n",
    "Input: nums = [1,3,5,6], target = 7\n",
    "Output: 4\n",
    "```\n",
    "Example 4:\n",
    "```\n",
    "Input: nums = [1,3,5,6], target = 0\n",
    "Output: 0\n",
    "```\n",
    "Example 5:\n",
    "```\n",
    "Input: nums = [1], target = 0\n",
    "Output: 0\n",
    "```"
   ]
  },
  {
   "cell_type": "code",
   "execution_count": 52,
   "metadata": {},
   "outputs": [],
   "source": [
    "def func(nums, target):\n",
    "    index = 0\n",
    "    while index < len(nums):\n",
    "        if nums[index] >= target:\n",
    "            return index \n",
    "        index += 1\n",
    "    return index\n",
    "    \n",
    "        \n",
    "        \n",
    "#func([1,3,5,6], 7)\n"
   ]
  },
  {
   "cell_type": "code",
   "execution_count": 53,
   "metadata": {},
   "outputs": [
    {
     "name": "stdout",
     "output_type": "stream",
     "text": [
      "solution is correct\n"
     ]
    }
   ],
   "source": [
    "try:\n",
    "    assert(func([1,3,5,6], 5) == 2)\n",
    "    assert(func([1,3,5,6], 2) == 1)\n",
    "    assert(func([1,3,5,6], 7) == 4)\n",
    "    assert(func([1,3,5,6], 0) == 0)\n",
    "    assert(func([1], 0) == 0)\n",
    "    print(\"solution is correct\")\n",
    "except:\n",
    "    print(\"solution is  incorrect\")"
   ]
  },
  {
   "cell_type": "code",
   "execution_count": 50,
   "metadata": {},
   "outputs": [],
   "source": [
    "#version 2\n",
    "\n",
    "def func(nums, target):\n",
    "    for index,value in enumerate(nums):\n",
    "        if value >= target:\n",
    "            return index\n",
    "    return len(nums)        #or return index + 1\n",
    "            \n",
    "        \n",
    "#func([1,3,5,6], 7)"
   ]
  },
  {
   "cell_type": "code",
   "execution_count": 51,
   "metadata": {},
   "outputs": [
    {
     "name": "stdout",
     "output_type": "stream",
     "text": [
      "solution is correct\n"
     ]
    }
   ],
   "source": [
    "try:\n",
    "    assert(func([1,3,5,6], 5) == 2)\n",
    "    assert(func([1,3,5,6], 2) == 1)\n",
    "    assert(func([1,3,5,6], 7) == 4)\n",
    "    assert(func([1,3,5,6], 0) == 0)\n",
    "    assert(func([1], 0) == 0)\n",
    "    print(\"solution is correct\")\n",
    "except:\n",
    "    print(\"solution is  incorrect\")"
   ]
  },
  {
   "cell_type": "markdown",
   "metadata": {},
   "source": [
    "# Exercise 2\n",
    "\n",
    "Determine whether an integer is a palindrome. An integer is a palindrome when it reads the same backward as forward."
   ]
  },
  {
   "cell_type": "markdown",
   "metadata": {},
   "source": [
    "Example 1\n",
    "```\n",
    "Input: x = 121\n",
    "Output: true\n",
    "```\n",
    "Example 2\n",
    "```\n",
    "Input: x = -121\n",
    "Output: false\n",
    "Explanation: From left to right, it reads -121. From right to left, it becomes 121-. Therefore it is not a palindrome.\n",
    "```\n",
    "Example 3\n",
    "```\n",
    "Input: x = 10\n",
    "Output: false\n",
    "Explanation: Reads 01 from right to left. Therefore it is not a palindrome.\n",
    "```\n",
    "Example 4\n",
    "```\n",
    "Input: x = -101\n",
    "Output: false\n",
    "```"
   ]
  },
  {
   "cell_type": "code",
   "execution_count": 67,
   "metadata": {},
   "outputs": [
    {
     "data": {
      "text/plain": [
       "True"
      ]
     },
     "execution_count": 67,
     "metadata": {},
     "output_type": "execute_result"
    }
   ],
   "source": [
    "def func2(x):\n",
    "    return str(x) == str(x)[::-1]\n",
    "        \n",
    "\n",
    "func2(121)\n"
   ]
  },
  {
   "cell_type": "code",
   "execution_count": 71,
   "metadata": {},
   "outputs": [
    {
     "data": {
      "text/plain": [
       "True"
      ]
     },
     "execution_count": 71,
     "metadata": {},
     "output_type": "execute_result"
    }
   ],
   "source": [
    "def func2(x):\n",
    "    if x < 0:\n",
    "        return False\n",
    "    l = []\n",
    "    while x > 0:\n",
    "        ones = x % 10\n",
    "        l.append(ones)\n",
    "        x //= 10\n",
    "    return l == l[::-1]\n",
    "           \n",
    "    \n",
    "func2(121)"
   ]
  },
  {
   "cell_type": "code",
   "execution_count": 72,
   "metadata": {},
   "outputs": [
    {
     "name": "stdout",
     "output_type": "stream",
     "text": [
      "solution is correct\n"
     ]
    }
   ],
   "source": [
    "try:\n",
    "    assert(func2(121) == True)\n",
    "    assert(func2(-121) == False)\n",
    "    assert(func2(10) == False)\n",
    "    assert(func2(-101) == False)\n",
    "    print(\"solution is correct\")\n",
    "except:\n",
    "    print(\"solution is  incorrect\")"
   ]
  },
  {
   "cell_type": "code",
   "execution_count": null,
   "metadata": {},
   "outputs": [],
   "source": [
    "# #version 3\n",
    "# num = input()\n",
    "# def num_palindro(num):\n",
    "#     if len(num) < 1:\n",
    "#         return True\n",
    "#     else:\n",
    "#         if num[0] == num[-1]:\n",
    "#             return num_palindro(num[1:-1])\n",
    "#         else:\n",
    "#             return False\n",
    "\n",
    "# num_palindro(num)\n"
   ]
  },
  {
   "cell_type": "markdown",
   "metadata": {},
   "source": [
    "# Preparing our application for deployment.\n",
    "\n"
   ]
  },
  {
   "cell_type": "markdown",
   "metadata": {},
   "source": [
    "1. Create your virtual env and set it up.\n",
    "2. Freeze your dependencies\n",
    "3. Set up .gitignore\n",
    "4. commit to your git repo\n",
    "\n",
    "### Creating your env\n",
    "In your project folder:  \n",
    "1.`python -m venv env`   \n",
    "2.`source env/bin/activate`  \n",
    "3. `pip install` all your dependencies (including `gunicorn`)\n",
    "\n",
    "### Freeze your dependencies\n",
    "\n",
    "`pip freeze > requirements.txt`\n",
    "\n",
    "### Set up .gitignore\n",
    "\n",
    "In your project folder, create a file called `.gitignore`.\n",
    "\n",
    "sample .gitignore:\n",
    "```\n",
    "# General\n",
    ".DS_Store\n",
    "\n",
    "# Environments\n",
    ".env\n",
    ".venv\n",
    "env/\n",
    "venv/\n",
    "ENV/\n",
    "\n",
    "# Python\n",
    "*.pyc\n",
    "\n",
    "# Jupyter Notebook\n",
    ".ipynb_checkpoints\n",
    "```\n",
    "\n",
    "python full example: https://github.com/github/gitignore/blob/master/Python.gitignore\n",
    "\n",
    "full repo of examples https://github.com/github/gitignore\n",
    "\n",
    "### Commit to your git repo\n"
   ]
  },
  {
   "cell_type": "markdown",
   "metadata": {},
   "source": [
    "# Deployment\n",
    "\n",
    "## Deploying to Heroku\n",
    "\n",
    "1. Sign up for heroku and log in.\n",
    "2. Create a `Procfile` and `runtime.txt` and commit them.\n",
    "3. Push to heroku either by using the heroku cli or by adding your github account to heroku and setting the repo through the web interface.\n",
    "\n",
    "### Creating a `Procfile` \n",
    "\n",
    "In order to run our application properly Heroku requires a special file that tells it what to do.\n",
    "\n",
    "For our project we'll need the following:\n",
    "\n",
    "```\n",
    "release: ./import-script.py\n",
    "worker: gunicorn -w 4 app:app\n",
    "\n",
    "```\n",
    "\n",
    "### Creating a `runtime.txt`\n",
    "\n",
    "This tells heroku which python version to use.\n",
    "\n",
    "example runtime.txt\n",
    "\n",
    "```\n",
    "python-3.8.6\n",
    "```\n",
    "\n",
    "### Pushing to heroku\n",
    "\n",
    "You'll either need to do `git push heroku master` (if you've installed the heroku cli) or `git push origin master` (if you've connected the git repo to heroku).\n",
    "\n",
    "### Check your url\n",
    "\n",
    "Visit `https://{your-project-name}.herokuapp.com/`"
   ]
  },
  {
   "cell_type": "markdown",
   "metadata": {},
   "source": [
    "## Deploying to PythonAnywhere\n",
    "\n",
    "1. Sign up for an account and log in.\n",
    "2. Open up the bash console and clone your git repo into that folder.\n",
    "3. Set up a virtualenv\n",
    "4. Set up web app and create your wsgi file on PythonAnywhere.\n",
    "\n",
    "\n",
    "### Setting up a virtualenv on PythonAnywhere\n",
    "\n",
    "In your bash console run:\n",
    "```\n",
    "mkvirtualenv --python=/usr/bin/python3.8.6 venv \n",
    "# or whichever version you prefer\n",
    "\n",
    "workon venv\n",
    "```\n",
    "\n",
    "You should see the `(venv)` we expect when a virtual env is active.\n",
    "\n",
    "Once you're in the virtual env, run:\n",
    "```\n",
    "pip install -r requirements.txt\n",
    "```\n",
    "\n",
    "### Setting up web app on pythonanywhere\n",
    "\n",
    "Go to the web app tab and click `Add a new web app`. Follow the steps to set it up selecting the right framework, version, and path. Your path will be the path to the folder your project is in on pythonanywhere.\n",
    "\n",
    "Python anywhere requires a WSGI file to be configured. You can find the link to it under the web tab. Change the file so it imports correctly (finding your project's app).\n",
    "\n",
    "example:\n",
    "```\n",
    "# This file contains the WSGI configuration required to serve up your\n",
    "# web application at http://<your-username>.pythonanywhere.com/\n",
    "# It works by setting the variable 'application' to a WSGI handler of some\n",
    "# description.\n",
    "#\n",
    "# The below has been auto-generated for your Flask project\n",
    "\n",
    "import sys\n",
    "\n",
    "# add your project directory to the sys.path\n",
    "project_home = '/home/username/mysite'\n",
    "if project_home not in sys.path:\n",
    "    sys.path = [project_home] + sys.path\n",
    "\n",
    "# import flask app but need to call it \"application\" for WSGI to work\n",
    "from flask_app import app as application  # noqa\n",
    "```\n",
    "fix the last line since `flask_app` probably won't be your project.\n",
    "\n",
    "Go to your link (which will be on the web tab)."
   ]
  },
  {
   "cell_type": "code",
   "execution_count": 25,
   "metadata": {},
   "outputs": [
    {
     "data": {
      "text/plain": [
       "[{'country': 'Bulgaria',\n",
       "  'payment rate': 90.0,\n",
       "  'population 2020': 6948445,\n",
       "  'weeks paid': 58.6},\n",
       " {'country': 'Greece',\n",
       "  'payment rate': 49.0,\n",
       "  'population 2020': 10423054,\n",
       "  'weeks paid': 43.0},\n",
       " {'country': 'United Kingdom',\n",
       "  'payment rate': 30.0,\n",
       "  'population 2020': 67886011,\n",
       "  'weeks paid': 39.0},\n",
       " {'country': 'Slovakia',\n",
       "  'payment rate': 75.0,\n",
       "  'population 2020': 5459642,\n",
       "  'weeks paid': 34.0},\n",
       " {'country': 'Croatia',\n",
       "  'payment rate': 100.0,\n",
       "  'population 2020': 4105267,\n",
       "  'weeks paid': 30.0},\n",
       " {'country': 'Czech Republic',\n",
       "  'payment rate': 61.0,\n",
       "  'population 2020': 10708981,\n",
       "  'weeks paid': 28.0},\n",
       " {'country': 'Ireland',\n",
       "  'payment rate': 26.0,\n",
       "  'population 2020': 4937786,\n",
       "  'weeks paid': 26.0},\n",
       " {'country': 'Hungary',\n",
       "  'payment rate': 70.0,\n",
       "  'population 2020': 9660351,\n",
       "  'weeks paid': 24.0},\n",
       " {'country': 'Italy',\n",
       "  'payment rate': 80.0,\n",
       "  'population 2020': 60461826,\n",
       "  'weeks paid': 21.7},\n",
       " {'country': 'Luxembourg',\n",
       "  'payment rate': 100.0,\n",
       "  'population 2020': 625978,\n",
       "  'weeks paid': 20.0},\n",
       " {'country': 'Estonia',\n",
       "  'payment rate': 100.0,\n",
       "  'population 2020': 1326535,\n",
       "  'weeks paid': 20.0},\n",
       " {'country': 'Poland',\n",
       "  'payment rate': 100.0,\n",
       "  'population 2020': 37846611,\n",
       "  'weeks paid': 20.0},\n",
       " {'country': 'Malta',\n",
       "  'payment rate': 86.0,\n",
       "  'population 2020': 441543,\n",
       "  'weeks paid': 18.0},\n",
       " {'country': 'Cyprus',\n",
       "  'payment rate': 75.0,\n",
       "  'population 2020': 1207359,\n",
       "  'weeks paid': 18.0},\n",
       " {'country': 'Lithuania',\n",
       "  'payment rate': 100.0,\n",
       "  'population 2020': 2722289,\n",
       "  'weeks paid': 18.0},\n",
       " {'country': 'New Zealand',\n",
       "  'payment rate': 46.0,\n",
       "  'population 2020': 4822233,\n",
       "  'weeks paid': 18.0},\n",
       " {'country': 'Denmark',\n",
       "  'payment rate': 53.0,\n",
       "  'population 2020': 5792202,\n",
       "  'weeks paid': 18.0},\n",
       " {'country': 'Chile',\n",
       "  'payment rate': 100.0,\n",
       "  'population 2020': 19116201,\n",
       "  'weeks paid': 18.0},\n",
       " {'country': 'Romania',\n",
       "  'payment rate': 85.0,\n",
       "  'population 2020': 19237691,\n",
       "  'weeks paid': 18.0},\n",
       " {'country': 'Australia',\n",
       "  'payment rate': 42.0,\n",
       "  'population 2020': 25499884,\n",
       "  'weeks paid': 18.0},\n",
       " {'country': 'Finland',\n",
       "  'payment rate': 74.0,\n",
       "  'population 2020': 5540720,\n",
       "  'weeks paid': 17.5},\n",
       " {'country': 'Costa Rica',\n",
       "  'payment rate': 100.0,\n",
       "  'population 2020': 5094118,\n",
       "  'weeks paid': 17.3},\n",
       " {'country': 'Latvia',\n",
       "  'payment rate': 80.0,\n",
       "  'population 2020': 1886198,\n",
       "  'weeks paid': 16.0},\n",
       " {'country': 'Austria',\n",
       "  'payment rate': 100.0,\n",
       "  'population 2020': 9006398,\n",
       "  'weeks paid': 16.0},\n",
       " {'country': 'Netherlands',\n",
       "  'payment rate': 100.0,\n",
       "  'population 2020': 17134872,\n",
       "  'weeks paid': 16.0},\n",
       " {'country': 'Canada',\n",
       "  'payment rate': 49.0,\n",
       "  'population 2020': 37742154,\n",
       "  'weeks paid': 16.0},\n",
       " {'country': 'Spain',\n",
       "  'payment rate': 100.0,\n",
       "  'population 2020': 46754778,\n",
       "  'weeks paid': 16.0},\n",
       " {'country': 'France',\n",
       "  'payment rate': 90.0,\n",
       "  'population 2020': 65273511,\n",
       "  'weeks paid': 16.0},\n",
       " {'country': 'Turkey',\n",
       "  'payment rate': 66.0,\n",
       "  'population 2020': 84339067,\n",
       "  'weeks paid': 16.0},\n",
       " {'country': 'Slovenia',\n",
       "  'payment rate': 100.0,\n",
       "  'population 2020': 2078938,\n",
       "  'weeks paid': 15.0},\n",
       " {'country': 'Israel',\n",
       "  'payment rate': 100.0,\n",
       "  'population 2020': 8655535,\n",
       "  'weeks paid': 15.0},\n",
       " {'country': 'Belgium',\n",
       "  'payment rate': 63.0,\n",
       "  'population 2020': 11589623,\n",
       "  'weeks paid': 15.0},\n",
       " {'country': 'Switzerland',\n",
       "  'payment rate': 58.0,\n",
       "  'population 2020': 8654622,\n",
       "  'weeks paid': 14.0},\n",
       " {'country': 'Germany',\n",
       "  'payment rate': 100.0,\n",
       "  'population 2020': 83783942,\n",
       "  'weeks paid': 14.0},\n",
       " {'country': 'Japan',\n",
       "  'payment rate': 67.0,\n",
       "  'population 2020': 126476461,\n",
       "  'weeks paid': 14.0},\n",
       " {'country': 'Iceland',\n",
       "  'payment rate': 68.0,\n",
       "  'population 2020': 341243,\n",
       "  'weeks paid': 13.0},\n",
       " {'country': 'Norway',\n",
       "  'payment rate': 94.0,\n",
       "  'population 2020': 5421241,\n",
       "  'weeks paid': 13.0},\n",
       " {'country': 'Sweden',\n",
       "  'payment rate': 77.0,\n",
       "  'population 2020': 10099265,\n",
       "  'weeks paid': 12.9},\n",
       " {'country': 'South Korea',\n",
       "  'payment rate': 80.0,\n",
       "  'population 2020': 51269185,\n",
       "  'weeks paid': 12.9},\n",
       " {'country': 'Mexico',\n",
       "  'payment rate': 100.0,\n",
       "  'population 2020': 128932753,\n",
       "  'weeks paid': 12.0},\n",
       " {'country': 'Portugal',\n",
       "  'payment rate': 100.0,\n",
       "  'population 2020': 10196709,\n",
       "  'weeks paid': 6.0},\n",
       " {'country': 'United States',\n",
       "  'payment rate': 0.0,\n",
       "  'population 2020': 331002651,\n",
       "  'weeks paid': 0.0}]"
      ]
     },
     "execution_count": 25,
     "metadata": {},
     "output_type": "execute_result"
    }
   ],
   "source": [
    "#Final Project Practice requests\n",
    "\n",
    "\n",
    "# GET request\n",
    "import requests       #works\n",
    "import json\n",
    "r = requests.get(\"http://127.0.0.1:5000/api\")\n",
    "json_resp = json.loads(r.text)\n",
    "json_resp\n"
   ]
  },
  {
   "cell_type": "code",
   "execution_count": 27,
   "metadata": {},
   "outputs": [
    {
     "ename": "JSONDecodeError",
     "evalue": "Expecting value: line 1 column 1 (char 0)",
     "output_type": "error",
     "traceback": [
      "\u001b[1;31m---------------------------------------------------------------------------\u001b[0m",
      "\u001b[1;31mJSONDecodeError\u001b[0m                           Traceback (most recent call last)",
      "\u001b[1;32m<ipython-input-27-d2b06d85b56d>\u001b[0m in \u001b[0;36m<module>\u001b[1;34m\u001b[0m\n\u001b[0;32m      3\u001b[0m \u001b[0mheaders\u001b[0m \u001b[1;33m=\u001b[0m \u001b[1;33m{\u001b[0m\u001b[1;34m\"Content-Type\"\u001b[0m\u001b[1;33m:\u001b[0m \u001b[1;34m\"application/json\"\u001b[0m\u001b[1;33m}\u001b[0m\u001b[1;33m\u001b[0m\u001b[1;33m\u001b[0m\u001b[0m\n\u001b[0;32m      4\u001b[0m \u001b[0mr\u001b[0m \u001b[1;33m=\u001b[0m \u001b[0mrequests\u001b[0m\u001b[1;33m.\u001b[0m\u001b[0mpost\u001b[0m\u001b[1;33m(\u001b[0m\u001b[1;34m\"http://127.0.0.1:5000/api\"\u001b[0m\u001b[1;33m,\u001b[0m \u001b[0mdata\u001b[0m\u001b[1;33m=\u001b[0m\u001b[0mdata\u001b[0m\u001b[1;33m,\u001b[0m \u001b[0mheaders\u001b[0m\u001b[1;33m=\u001b[0m\u001b[0mheaders\u001b[0m\u001b[1;33m)\u001b[0m\u001b[1;33m\u001b[0m\u001b[1;33m\u001b[0m\u001b[0m\n\u001b[1;32m----> 5\u001b[1;33m \u001b[0mjson_resp\u001b[0m \u001b[1;33m=\u001b[0m \u001b[0mjson\u001b[0m\u001b[1;33m.\u001b[0m\u001b[0mloads\u001b[0m\u001b[1;33m(\u001b[0m\u001b[0mr\u001b[0m\u001b[1;33m.\u001b[0m\u001b[0mtext\u001b[0m\u001b[1;33m)\u001b[0m\u001b[1;33m\u001b[0m\u001b[1;33m\u001b[0m\u001b[0m\n\u001b[0m\u001b[0;32m      6\u001b[0m \u001b[0mjson_resp\u001b[0m\u001b[1;33m\u001b[0m\u001b[1;33m\u001b[0m\u001b[0m\n",
      "\u001b[1;32m~\\anaconda3\\lib\\json\\__init__.py\u001b[0m in \u001b[0;36mloads\u001b[1;34m(s, cls, object_hook, parse_float, parse_int, parse_constant, object_pairs_hook, **kw)\u001b[0m\n\u001b[0;32m    355\u001b[0m             \u001b[0mparse_int\u001b[0m \u001b[1;32mis\u001b[0m \u001b[1;32mNone\u001b[0m \u001b[1;32mand\u001b[0m \u001b[0mparse_float\u001b[0m \u001b[1;32mis\u001b[0m \u001b[1;32mNone\u001b[0m \u001b[1;32mand\u001b[0m\u001b[1;33m\u001b[0m\u001b[1;33m\u001b[0m\u001b[0m\n\u001b[0;32m    356\u001b[0m             parse_constant is None and object_pairs_hook is None and not kw):\n\u001b[1;32m--> 357\u001b[1;33m         \u001b[1;32mreturn\u001b[0m \u001b[0m_default_decoder\u001b[0m\u001b[1;33m.\u001b[0m\u001b[0mdecode\u001b[0m\u001b[1;33m(\u001b[0m\u001b[0ms\u001b[0m\u001b[1;33m)\u001b[0m\u001b[1;33m\u001b[0m\u001b[1;33m\u001b[0m\u001b[0m\n\u001b[0m\u001b[0;32m    358\u001b[0m     \u001b[1;32mif\u001b[0m \u001b[0mcls\u001b[0m \u001b[1;32mis\u001b[0m \u001b[1;32mNone\u001b[0m\u001b[1;33m:\u001b[0m\u001b[1;33m\u001b[0m\u001b[1;33m\u001b[0m\u001b[0m\n\u001b[0;32m    359\u001b[0m         \u001b[0mcls\u001b[0m \u001b[1;33m=\u001b[0m \u001b[0mJSONDecoder\u001b[0m\u001b[1;33m\u001b[0m\u001b[1;33m\u001b[0m\u001b[0m\n",
      "\u001b[1;32m~\\anaconda3\\lib\\json\\decoder.py\u001b[0m in \u001b[0;36mdecode\u001b[1;34m(self, s, _w)\u001b[0m\n\u001b[0;32m    335\u001b[0m \u001b[1;33m\u001b[0m\u001b[0m\n\u001b[0;32m    336\u001b[0m         \"\"\"\n\u001b[1;32m--> 337\u001b[1;33m         \u001b[0mobj\u001b[0m\u001b[1;33m,\u001b[0m \u001b[0mend\u001b[0m \u001b[1;33m=\u001b[0m \u001b[0mself\u001b[0m\u001b[1;33m.\u001b[0m\u001b[0mraw_decode\u001b[0m\u001b[1;33m(\u001b[0m\u001b[0ms\u001b[0m\u001b[1;33m,\u001b[0m \u001b[0midx\u001b[0m\u001b[1;33m=\u001b[0m\u001b[0m_w\u001b[0m\u001b[1;33m(\u001b[0m\u001b[0ms\u001b[0m\u001b[1;33m,\u001b[0m \u001b[1;36m0\u001b[0m\u001b[1;33m)\u001b[0m\u001b[1;33m.\u001b[0m\u001b[0mend\u001b[0m\u001b[1;33m(\u001b[0m\u001b[1;33m)\u001b[0m\u001b[1;33m)\u001b[0m\u001b[1;33m\u001b[0m\u001b[1;33m\u001b[0m\u001b[0m\n\u001b[0m\u001b[0;32m    338\u001b[0m         \u001b[0mend\u001b[0m \u001b[1;33m=\u001b[0m \u001b[0m_w\u001b[0m\u001b[1;33m(\u001b[0m\u001b[0ms\u001b[0m\u001b[1;33m,\u001b[0m \u001b[0mend\u001b[0m\u001b[1;33m)\u001b[0m\u001b[1;33m.\u001b[0m\u001b[0mend\u001b[0m\u001b[1;33m(\u001b[0m\u001b[1;33m)\u001b[0m\u001b[1;33m\u001b[0m\u001b[1;33m\u001b[0m\u001b[0m\n\u001b[0;32m    339\u001b[0m         \u001b[1;32mif\u001b[0m \u001b[0mend\u001b[0m \u001b[1;33m!=\u001b[0m \u001b[0mlen\u001b[0m\u001b[1;33m(\u001b[0m\u001b[0ms\u001b[0m\u001b[1;33m)\u001b[0m\u001b[1;33m:\u001b[0m\u001b[1;33m\u001b[0m\u001b[1;33m\u001b[0m\u001b[0m\n",
      "\u001b[1;32m~\\anaconda3\\lib\\json\\decoder.py\u001b[0m in \u001b[0;36mraw_decode\u001b[1;34m(self, s, idx)\u001b[0m\n\u001b[0;32m    353\u001b[0m             \u001b[0mobj\u001b[0m\u001b[1;33m,\u001b[0m \u001b[0mend\u001b[0m \u001b[1;33m=\u001b[0m \u001b[0mself\u001b[0m\u001b[1;33m.\u001b[0m\u001b[0mscan_once\u001b[0m\u001b[1;33m(\u001b[0m\u001b[0ms\u001b[0m\u001b[1;33m,\u001b[0m \u001b[0midx\u001b[0m\u001b[1;33m)\u001b[0m\u001b[1;33m\u001b[0m\u001b[1;33m\u001b[0m\u001b[0m\n\u001b[0;32m    354\u001b[0m         \u001b[1;32mexcept\u001b[0m \u001b[0mStopIteration\u001b[0m \u001b[1;32mas\u001b[0m \u001b[0merr\u001b[0m\u001b[1;33m:\u001b[0m\u001b[1;33m\u001b[0m\u001b[1;33m\u001b[0m\u001b[0m\n\u001b[1;32m--> 355\u001b[1;33m             \u001b[1;32mraise\u001b[0m \u001b[0mJSONDecodeError\u001b[0m\u001b[1;33m(\u001b[0m\u001b[1;34m\"Expecting value\"\u001b[0m\u001b[1;33m,\u001b[0m \u001b[0ms\u001b[0m\u001b[1;33m,\u001b[0m \u001b[0merr\u001b[0m\u001b[1;33m.\u001b[0m\u001b[0mvalue\u001b[0m\u001b[1;33m)\u001b[0m \u001b[1;32mfrom\u001b[0m \u001b[1;32mNone\u001b[0m\u001b[1;33m\u001b[0m\u001b[1;33m\u001b[0m\u001b[0m\n\u001b[0m\u001b[0;32m    356\u001b[0m         \u001b[1;32mreturn\u001b[0m \u001b[0mobj\u001b[0m\u001b[1;33m,\u001b[0m \u001b[0mend\u001b[0m\u001b[1;33m\u001b[0m\u001b[1;33m\u001b[0m\u001b[0m\n",
      "\u001b[1;31mJSONDecodeError\u001b[0m: Expecting value: line 1 column 1 (char 0)"
     ]
    }
   ],
   "source": [
    "# POST request   #does not work\n",
    "data = {\"43\": \"Added country\"}\n",
    "headers = {\"Content-Type\": \"application/json\"}\n",
    "r = requests.post(\"http://127.0.0.1:5000/api\", data=data, headers=headers)\n",
    "json_resp = json.loads(r.text)\n",
    "json_resp"
   ]
  },
  {
   "cell_type": "code",
   "execution_count": 24,
   "metadata": {},
   "outputs": [
    {
     "ename": "JSONDecodeError",
     "evalue": "Expecting value: line 1 column 1 (char 0)",
     "output_type": "error",
     "traceback": [
      "\u001b[1;31m---------------------------------------------------------------------------\u001b[0m",
      "\u001b[1;31mJSONDecodeError\u001b[0m                           Traceback (most recent call last)",
      "\u001b[1;32m<ipython-input-24-6a8f0796000b>\u001b[0m in \u001b[0;36m<module>\u001b[1;34m\u001b[0m\n\u001b[0;32m      3\u001b[0m \u001b[0mheaders\u001b[0m \u001b[1;33m=\u001b[0m \u001b[1;33m{\u001b[0m\u001b[1;34m\"Content-Type\"\u001b[0m\u001b[1;33m:\u001b[0m \u001b[1;34m\"application/json\"\u001b[0m\u001b[1;33m}\u001b[0m\u001b[1;33m\u001b[0m\u001b[1;33m\u001b[0m\u001b[0m\n\u001b[0;32m      4\u001b[0m \u001b[0mr\u001b[0m \u001b[1;33m=\u001b[0m \u001b[0mrequests\u001b[0m\u001b[1;33m.\u001b[0m\u001b[0mdelete\u001b[0m\u001b[1;33m(\u001b[0m\u001b[1;34m\"http://127.0.0.1:5000/\"\u001b[0m\u001b[1;33m,\u001b[0m \u001b[0mparams\u001b[0m\u001b[1;33m=\u001b[0m\u001b[0mdata\u001b[0m\u001b[1;33m,\u001b[0m \u001b[0mheaders\u001b[0m\u001b[1;33m=\u001b[0m\u001b[0mheaders\u001b[0m\u001b[1;33m)\u001b[0m\u001b[1;33m\u001b[0m\u001b[1;33m\u001b[0m\u001b[0m\n\u001b[1;32m----> 5\u001b[1;33m \u001b[0mjson_resp\u001b[0m \u001b[1;33m=\u001b[0m \u001b[0mjson\u001b[0m\u001b[1;33m.\u001b[0m\u001b[0mloads\u001b[0m\u001b[1;33m(\u001b[0m\u001b[0mr\u001b[0m\u001b[1;33m.\u001b[0m\u001b[0mtext\u001b[0m\u001b[1;33m)\u001b[0m\u001b[1;33m\u001b[0m\u001b[1;33m\u001b[0m\u001b[0m\n\u001b[0m\u001b[0;32m      6\u001b[0m \u001b[0mjson_resp\u001b[0m\u001b[1;33m\u001b[0m\u001b[1;33m\u001b[0m\u001b[0m\n",
      "\u001b[1;32m~\\anaconda3\\lib\\json\\__init__.py\u001b[0m in \u001b[0;36mloads\u001b[1;34m(s, cls, object_hook, parse_float, parse_int, parse_constant, object_pairs_hook, **kw)\u001b[0m\n\u001b[0;32m    355\u001b[0m             \u001b[0mparse_int\u001b[0m \u001b[1;32mis\u001b[0m \u001b[1;32mNone\u001b[0m \u001b[1;32mand\u001b[0m \u001b[0mparse_float\u001b[0m \u001b[1;32mis\u001b[0m \u001b[1;32mNone\u001b[0m \u001b[1;32mand\u001b[0m\u001b[1;33m\u001b[0m\u001b[1;33m\u001b[0m\u001b[0m\n\u001b[0;32m    356\u001b[0m             parse_constant is None and object_pairs_hook is None and not kw):\n\u001b[1;32m--> 357\u001b[1;33m         \u001b[1;32mreturn\u001b[0m \u001b[0m_default_decoder\u001b[0m\u001b[1;33m.\u001b[0m\u001b[0mdecode\u001b[0m\u001b[1;33m(\u001b[0m\u001b[0ms\u001b[0m\u001b[1;33m)\u001b[0m\u001b[1;33m\u001b[0m\u001b[1;33m\u001b[0m\u001b[0m\n\u001b[0m\u001b[0;32m    358\u001b[0m     \u001b[1;32mif\u001b[0m \u001b[0mcls\u001b[0m \u001b[1;32mis\u001b[0m \u001b[1;32mNone\u001b[0m\u001b[1;33m:\u001b[0m\u001b[1;33m\u001b[0m\u001b[1;33m\u001b[0m\u001b[0m\n\u001b[0;32m    359\u001b[0m         \u001b[0mcls\u001b[0m \u001b[1;33m=\u001b[0m \u001b[0mJSONDecoder\u001b[0m\u001b[1;33m\u001b[0m\u001b[1;33m\u001b[0m\u001b[0m\n",
      "\u001b[1;32m~\\anaconda3\\lib\\json\\decoder.py\u001b[0m in \u001b[0;36mdecode\u001b[1;34m(self, s, _w)\u001b[0m\n\u001b[0;32m    335\u001b[0m \u001b[1;33m\u001b[0m\u001b[0m\n\u001b[0;32m    336\u001b[0m         \"\"\"\n\u001b[1;32m--> 337\u001b[1;33m         \u001b[0mobj\u001b[0m\u001b[1;33m,\u001b[0m \u001b[0mend\u001b[0m \u001b[1;33m=\u001b[0m \u001b[0mself\u001b[0m\u001b[1;33m.\u001b[0m\u001b[0mraw_decode\u001b[0m\u001b[1;33m(\u001b[0m\u001b[0ms\u001b[0m\u001b[1;33m,\u001b[0m \u001b[0midx\u001b[0m\u001b[1;33m=\u001b[0m\u001b[0m_w\u001b[0m\u001b[1;33m(\u001b[0m\u001b[0ms\u001b[0m\u001b[1;33m,\u001b[0m \u001b[1;36m0\u001b[0m\u001b[1;33m)\u001b[0m\u001b[1;33m.\u001b[0m\u001b[0mend\u001b[0m\u001b[1;33m(\u001b[0m\u001b[1;33m)\u001b[0m\u001b[1;33m)\u001b[0m\u001b[1;33m\u001b[0m\u001b[1;33m\u001b[0m\u001b[0m\n\u001b[0m\u001b[0;32m    338\u001b[0m         \u001b[0mend\u001b[0m \u001b[1;33m=\u001b[0m \u001b[0m_w\u001b[0m\u001b[1;33m(\u001b[0m\u001b[0ms\u001b[0m\u001b[1;33m,\u001b[0m \u001b[0mend\u001b[0m\u001b[1;33m)\u001b[0m\u001b[1;33m.\u001b[0m\u001b[0mend\u001b[0m\u001b[1;33m(\u001b[0m\u001b[1;33m)\u001b[0m\u001b[1;33m\u001b[0m\u001b[1;33m\u001b[0m\u001b[0m\n\u001b[0;32m    339\u001b[0m         \u001b[1;32mif\u001b[0m \u001b[0mend\u001b[0m \u001b[1;33m!=\u001b[0m \u001b[0mlen\u001b[0m\u001b[1;33m(\u001b[0m\u001b[0ms\u001b[0m\u001b[1;33m)\u001b[0m\u001b[1;33m:\u001b[0m\u001b[1;33m\u001b[0m\u001b[1;33m\u001b[0m\u001b[0m\n",
      "\u001b[1;32m~\\anaconda3\\lib\\json\\decoder.py\u001b[0m in \u001b[0;36mraw_decode\u001b[1;34m(self, s, idx)\u001b[0m\n\u001b[0;32m    353\u001b[0m             \u001b[0mobj\u001b[0m\u001b[1;33m,\u001b[0m \u001b[0mend\u001b[0m \u001b[1;33m=\u001b[0m \u001b[0mself\u001b[0m\u001b[1;33m.\u001b[0m\u001b[0mscan_once\u001b[0m\u001b[1;33m(\u001b[0m\u001b[0ms\u001b[0m\u001b[1;33m,\u001b[0m \u001b[0midx\u001b[0m\u001b[1;33m)\u001b[0m\u001b[1;33m\u001b[0m\u001b[1;33m\u001b[0m\u001b[0m\n\u001b[0;32m    354\u001b[0m         \u001b[1;32mexcept\u001b[0m \u001b[0mStopIteration\u001b[0m \u001b[1;32mas\u001b[0m \u001b[0merr\u001b[0m\u001b[1;33m:\u001b[0m\u001b[1;33m\u001b[0m\u001b[1;33m\u001b[0m\u001b[0m\n\u001b[1;32m--> 355\u001b[1;33m             \u001b[1;32mraise\u001b[0m \u001b[0mJSONDecodeError\u001b[0m\u001b[1;33m(\u001b[0m\u001b[1;34m\"Expecting value\"\u001b[0m\u001b[1;33m,\u001b[0m \u001b[0ms\u001b[0m\u001b[1;33m,\u001b[0m \u001b[0merr\u001b[0m\u001b[1;33m.\u001b[0m\u001b[0mvalue\u001b[0m\u001b[1;33m)\u001b[0m \u001b[1;32mfrom\u001b[0m \u001b[1;32mNone\u001b[0m\u001b[1;33m\u001b[0m\u001b[1;33m\u001b[0m\u001b[0m\n\u001b[0m\u001b[0;32m    356\u001b[0m         \u001b[1;32mreturn\u001b[0m \u001b[0mobj\u001b[0m\u001b[1;33m,\u001b[0m \u001b[0mend\u001b[0m\u001b[1;33m\u001b[0m\u001b[1;33m\u001b[0m\u001b[0m\n",
      "\u001b[1;31mJSONDecodeError\u001b[0m: Expecting value: line 1 column 1 (char 0)"
     ]
    }
   ],
   "source": [
    "# DELETE request\n",
    "data = {\"country\": \"Bulgaria\"}\n",
    "headers = {\"Content-Type\": \"application/json\"}\n",
    "r = requests.delete(\"http://127.0.0.1:5000/\", params=data, headers=headers)\n",
    "json_resp = json.loads(r.text)\n",
    "json_resp"
   ]
  },
  {
   "cell_type": "code",
   "execution_count": null,
   "metadata": {},
   "outputs": [],
   "source": []
  }
 ],
 "metadata": {
  "kernelspec": {
   "display_name": "Python 3",
   "language": "python",
   "name": "python3"
  },
  "language_info": {
   "codemirror_mode": {
    "name": "ipython",
    "version": 3
   },
   "file_extension": ".py",
   "mimetype": "text/x-python",
   "name": "python",
   "nbconvert_exporter": "python",
   "pygments_lexer": "ipython3",
   "version": "3.8.3"
  }
 },
 "nbformat": 4,
 "nbformat_minor": 4
}
