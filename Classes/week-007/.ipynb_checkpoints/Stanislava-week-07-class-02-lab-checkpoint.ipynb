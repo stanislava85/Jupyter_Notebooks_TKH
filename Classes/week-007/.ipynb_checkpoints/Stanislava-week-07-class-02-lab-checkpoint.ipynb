{
 "cells": [
  {
   "cell_type": "markdown",
   "metadata": {},
   "source": [
    "<div style=\"background: #000;\n",
    "            color: #FFF;\n",
    "            margin: 0px;\n",
    "                padding: 10px 0px 20px 0px;\n",
    "            text-align: center; \n",
    "                \">\n",
    "    <h1>Week 7 - Class 2 - Lab</h1>\n",
    "</div>\n"
   ]
  },
  {
   "cell_type": "markdown",
   "metadata": {},
   "source": [
    "# Question\n",
    "\n",
    "What is something we could make with the python we know now? Give an example of something and then describe what parts it might need (functions, classes, etc.) that would be necessary in order to get it to work. "
   ]
  },
  {
   "cell_type": "markdown",
   "metadata": {},
   "source": [
    "Now we can create our own scipts and import them as libraries. We could also run our py files from the terminal, which gives us more functionallity. Today we worked on creating a guessing game and running the script from the terminal. The same way, now we can run all of our code (saved as py file) from the terminal. I could go back and reuse some of my old labs come, create a py file of it in order to re-use it. \n",
    "I was thinking of going back to last week and refer to the Store Inventory exercise from one of our labs, turn it to py script, adjust inputs, and try to call it from the terminal. I could use it to create a store inventory by adding the name of the items and their value, or decrementing items that were sold."
   ]
  },
  {
   "cell_type": "markdown",
   "metadata": {},
   "source": [
    "# Exercise 1\n",
    "\n",
    "Create a class of your own creation. Use at least 3 attributes and 3 methods (excluding `__init__`). Bonus points if you use other dunder methods."
   ]
  },
  {
   "cell_type": "code",
   "execution_count": 47,
   "metadata": {},
   "outputs": [
    {
     "name": "stdout",
     "output_type": "stream",
     "text": [
      "My name is:  Stanislava Hristova\n",
      "My id is:  445\n",
      "My name is:  John Doe\n",
      "My id is:  449\n",
      "10\n",
      "3\n"
     ]
    }
   ],
   "source": [
    "#Example 1\n",
    "class Customer:   \n",
    "    def __init__(self, first_name=None, last_name= None):\n",
    "        self.first_name=first_name\n",
    "        self.last_name=last_name\n",
    "        \n",
    "    def set_id(self, id):\n",
    "        self.id=id\n",
    "        \n",
    "    def get_name(self):\n",
    "        return self.first_name + \" \" + self.last_name\n",
    "    \n",
    "    def get_id(self):\n",
    "        return self.id\n",
    "    \n",
    "    def __len__(self):\n",
    "        return len(self.id)\n",
    "    \n",
    "\n",
    "    \n",
    "c=Customer(\"Stanislava\", \"Hristova\")\n",
    "c.get_name()\n",
    "c.set_id(445)\n",
    "print(\"My name is: \", c.get_name())\n",
    "print(\"My id is: \", c.get_id())\n",
    "\n",
    "c_1= Customer(\"John\", \"Doe\")\n",
    "c_1.get_name()\n",
    "c_1.set_id(449)\n",
    "print(\"My name is: \", c_1.get_name())\n",
    "print(\"My id is: \", c_1.get_id())\n",
    "print(len(c.first_name))\n",
    "print(len(c_1.last_name))"
   ]
  },
  {
   "cell_type": "code",
   "execution_count": 50,
   "metadata": {},
   "outputs": [
    {
     "name": "stdout",
     "output_type": "stream",
     "text": [
      "Bank account has 1000 balance.\n",
      "Account Deleted\n",
      "Bank account has 1500 balance.\n",
      "Account Deleted\n",
      "Bank Account Name = Stanislava Hristova, Bank Account Balance = 1000\n",
      "Bank Account(Stanislava Hristova, 1500)\n",
      "1000\n",
      "1500\n",
      "False\n"
     ]
    }
   ],
   "source": [
    "#Example 2 / more practice\n",
    "class Bank:\n",
    "    def __init__(self, name, balance = 0):\n",
    "        self.name = name\n",
    "        self.balance = balance\n",
    "        print(f\"Bank account has {self.balance} balance.\")\n",
    "        \n",
    "    def get_balance(self):\n",
    "        return self.balance\n",
    "    \n",
    "    def __repr__(self):\n",
    "        return \"Bank Account({0}, {1})\".format(self.name, self.balance)\n",
    "    def __str__(self):\n",
    "        return \"Bank Account Name = {0}, Bank Account Balance = {1}\".format(self.name, self.balance)\n",
    "    \n",
    "    def __gt__(self, other):\n",
    "        return self.balance > other.get_balance()  #will return True or False\n",
    "        \n",
    "    def __del__(self):\n",
    "        self.balance = 0\n",
    "        print(\"Account Deleted\")\n",
    "    \n",
    "checkings = Bank(\"Stanislava Hristova\", 1000)\n",
    "savings = Bank(\"Stanislava Hristova\", 1500)\n",
    "print(str(checkings))\n",
    "print(repr(savings))\n",
    "print(checkings.get_balance())\n",
    "print(savings.get_balance())\n",
    "print(checkings > savings)"
   ]
  },
  {
   "cell_type": "markdown",
   "metadata": {},
   "source": [
    "Notes:\n",
    "For the following exercises, you will create a file name using the following function and then submit that file with this notebook.\n"
   ]
  },
  {
   "cell_type": "code",
   "execution_count": 54,
   "metadata": {},
   "outputs": [
    {
     "name": "stdout",
     "output_type": "stream",
     "text": [
      "Stanislava-module.py\n"
     ]
    }
   ],
   "source": [
    "produce_file_name = lambda name: print(f\"{name}-module.py\")   \n",
    "produce_file_name('Stanislava')"
   ]
  },
  {
   "cell_type": "markdown",
   "metadata": {},
   "source": [
    "# Exercise 2\n",
    "\n",
    "Create a module that is a commmand line script similar to our guessing game. Include at least 1 class with the related methods. Submit the `.py` file that runs your script with no errors."
   ]
  },
  {
   "cell_type": "markdown",
   "metadata": {},
   "source": [
    "### If finished, work on Project."
   ]
  },
  {
   "cell_type": "code",
   "execution_count": null,
   "metadata": {},
   "outputs": [],
   "source": []
  }
 ],
 "metadata": {
  "kernelspec": {
   "display_name": "Python 3",
   "language": "python",
   "name": "python3"
  },
  "language_info": {
   "codemirror_mode": {
    "name": "ipython",
    "version": 3
   },
   "file_extension": ".py",
   "mimetype": "text/x-python",
   "name": "python",
   "nbconvert_exporter": "python",
   "pygments_lexer": "ipython3",
   "version": "3.8.3"
  }
 },
 "nbformat": 4,
 "nbformat_minor": 4
}
