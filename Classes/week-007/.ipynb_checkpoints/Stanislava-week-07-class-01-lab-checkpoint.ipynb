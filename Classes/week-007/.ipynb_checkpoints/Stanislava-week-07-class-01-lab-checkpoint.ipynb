{
 "cells": [
  {
   "cell_type": "markdown",
   "metadata": {},
   "source": [
    "<div style=\"background: #000;\n",
    "            color: #FFF;\n",
    "            margin: 0px;\n",
    "                padding: 10px 0px 20px 0px;\n",
    "            text-align: center; \n",
    "                \">\n",
    "    <h1>Lab</h1>\n",
    "</div>\n"
   ]
  },
  {
   "cell_type": "markdown",
   "metadata": {},
   "source": [
    "# HW Exercise 1\n",
    "\n",
    "Create a class called `Course` and a class called `Student` based on what you think they will need. Create a way to store 20 \"students\" (instances of the `Student` class into an instance of `Course` to represent our Data Science course. \n",
    "\n",
    "Demonstrate that your code works. Message on slack if stuck or need clarification."
   ]
  },
  {
   "cell_type": "code",
   "execution_count": null,
   "metadata": {},
   "outputs": [],
   "source": []
  },
  {
   "cell_type": "markdown",
   "metadata": {},
   "source": [
    "# Complete previous weeks Labs"
   ]
  },
  {
   "cell_type": "markdown",
   "metadata": {},
   "source": [
    "# Question 1:\n",
    "\n",
    "Give an example of how we could use what we learned today in our python programming."
   ]
  },
  {
   "cell_type": "raw",
   "metadata": {},
   "source": [
    "We learned how to import, open and manipulate CSV and TXT files. Using CSV will be a big part of our capstone project, so learning about them is important. \n",
    "As data analyst we will be constantly importing modules to use as libraries, so learnig how and which to import is crucial.\n",
    "Today, We also learned that We can create our own PY file and import it, to use it as library."
   ]
  },
  {
   "cell_type": "markdown",
   "metadata": {},
   "source": [
    "# Exercise 1:\n",
    "\n",
    "Create a file called `sample.txt`. Create a function takes one argument that opens the file and writes that argument to it."
   ]
  },
  {
   "cell_type": "code",
   "execution_count": 18,
   "metadata": {},
   "outputs": [],
   "source": [
    "def func(arg):\n",
    "    outfile = open(\"sample.txt\", \"w\") \n",
    "\n",
    "    outfile.write(arg)\n",
    "\n",
    "    outfile.close()\n",
    "    \n",
    "func(\"hello\")"
   ]
  },
  {
   "cell_type": "markdown",
   "metadata": {},
   "source": [
    "# Exercise 2:\n",
    "    \n",
    "Create a function that takes an argument and opens the argument as a file and prints the contents.\n",
    "\n",
    "Demonstrate that this works for `sample.txt`"
   ]
  },
  {
   "cell_type": "code",
   "execution_count": 19,
   "metadata": {},
   "outputs": [
    {
     "name": "stdout",
     "output_type": "stream",
     "text": [
      "hello\n"
     ]
    }
   ],
   "source": [
    "def func():\n",
    "    outfile = open(\"sample.txt\", \"r\") \n",
    "\n",
    "    file_contents = outfile.read()\n",
    "    print(file_contents)\n",
    "    outfile.close()\n",
    "    \n",
    "func()"
   ]
  },
  {
   "cell_type": "markdown",
   "metadata": {},
   "source": [
    "# Week 6 Project\n",
    "\n",
    "#### For this project, you'll be using your solution exercise 2 from week-05-class-01-lab.ipynb and the following piece of code:"
   ]
  },
  {
   "cell_type": "code",
   "execution_count": 1,
   "metadata": {},
   "outputs": [
    {
     "data": {
      "text/plain": [
       "(0, 'rock')"
      ]
     },
     "execution_count": 1,
     "metadata": {},
     "output_type": "execute_result"
    }
   ],
   "source": [
    "import random\n",
    "def computers_turn():\n",
    "    choices = {\n",
    "        0: 'rock',\n",
    "        1: 'paper',\n",
    "        2: 'scissors',\n",
    "    }\n",
    "    turn = random.randint(0,2)\n",
    "    return (turn, choices[turn])\n",
    "\n",
    "computers_turn()"
   ]
  },
  {
   "cell_type": "markdown",
   "metadata": {},
   "source": [
    "#### Your solution for exercise 2"
   ]
  },
  {
   "cell_type": "code",
   "execution_count": 16,
   "metadata": {},
   "outputs": [
    {
     "name": "stdout",
     "output_type": "stream",
     "text": [
      "Please select R for rock, P for paper, or S for scissors: S\n",
      "computer's  choice is: (2, 'scissors')\n",
      "user's choice is: (2, 'scissors')\n"
     ]
    },
    {
     "data": {
      "text/plain": [
       "'Draw!'"
      ]
     },
     "execution_count": 16,
     "metadata": {},
     "output_type": "execute_result"
    }
   ],
   "source": [
    "import random\n",
    "def computers_turn():\n",
    "    choices = {\n",
    "        0: 'rock',\n",
    "        1: 'paper',\n",
    "        2: 'scissors',\n",
    "    }\n",
    "    turn = random.randint(0,2)\n",
    "    return (turn, choices[turn])\n",
    "\n",
    "\n",
    "computers_turn()\n",
    "\n",
    "def win_or_not():\n",
    "    user_input = input(\"Please select R for rock, P for paper, or S for scissors: \")\n",
    "    choices = {\n",
    "        \"R\": (0, 'rock'),\n",
    "        \"P\": (1, 'paper'),\n",
    "        \"S\": (2, 'scissors'),\n",
    "    }\n",
    "\n",
    "    computer_choice = computers_turn()\n",
    "    user_choice = choices[user_input]\n",
    "    print(f\"computer's  choice is: {computer_choice}\")\n",
    "    print(f\"user's choice is: {user_choice}\")\n",
    "        \n",
    "    if computer_choice == user_choice:\n",
    "        return \"Draw!\"\n",
    "    elif (user_choice[0] - computer_choice[0]) % 3 == 1:\n",
    "        return \"the user wins\"\n",
    "    elif (user_choice[0] - computer_choice[0]) % 3 == 2:\n",
    "        return \"the computer wins\"\n",
    "    else:\n",
    "        return \"fail\"\n",
    "\n",
    "\n",
    "win_or_not()"
   ]
  }
 ],
 "metadata": {
  "kernelspec": {
   "display_name": "Python 3",
   "language": "python",
   "name": "python3"
  },
  "language_info": {
   "codemirror_mode": {
    "name": "ipython",
    "version": 3
   },
   "file_extension": ".py",
   "mimetype": "text/x-python",
   "name": "python",
   "nbconvert_exporter": "python",
   "pygments_lexer": "ipython3",
   "version": "3.8.3"
  }
 },
 "nbformat": 4,
 "nbformat_minor": 4
}
