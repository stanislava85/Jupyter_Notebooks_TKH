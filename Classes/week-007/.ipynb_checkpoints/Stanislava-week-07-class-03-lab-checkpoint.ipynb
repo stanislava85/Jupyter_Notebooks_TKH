{
 "cells": [
  {
   "cell_type": "markdown",
   "metadata": {},
   "source": [
    "<div style=\"background: #000;\n",
    "            color: #FFF;\n",
    "            margin: 0px;\n",
    "                padding: 10px 0px 20px 0px;\n",
    "            text-align: center; \n",
    "                \">\n",
    "    <h1>Week 7 - Class 3 - Lab</h1>\n",
    "</div>\n"
   ]
  },
  {
   "cell_type": "markdown",
   "metadata": {},
   "source": [
    "# Question 1\n",
    "\n",
    "What is an example of a situation where you might want to use a `try`/`except`? Why?"
   ]
  },
  {
   "cell_type": "markdown",
   "metadata": {},
   "source": [
    "When an error occurs, or exception as we call it, Python will normally stop and generate an error message.\n",
    "These exceptions can be handled using the try statement, If the try block raises an error, the except block will be executed. Without the try block, the program will crash and raise an error. So it is good for catching errors, instead of printing the error message, we could print our own statement/message and not break the code.\n",
    "An example of good use would be to catch ImportError. Since we will be importing libraries/modules a lot, in case one does not import propperly, instead of crashing the code and generating an error I'd use try/except to catch it and generate my own message."
   ]
  },
  {
   "cell_type": "markdown",
   "metadata": {},
   "source": [
    "# Exercise 1\n",
    "\n",
    "Create a base class called `Person` that stores `name`, `birthday`, `age` and `location`. Create methods that allow you to change those attributes (change name, birthday, age and location).\n",
    "\n",
    "Then create a class that inherits from `Person` called `Employee` that stores everything that `Person` sets but also `income`, `position` and `office_location`. Create methods that allow you to change/set those three attributes.\n",
    "\n",
    "Demonstrate that the `Employee` class can change all the attributes mentioned above.\n",
    "\n",
    "Bonus Points: Create a class attribute called `raise` and set that to 10% company wide. Create a method that applies that raise to `income` and demonstrate that you can use it to give employees a raise (company wide and per employee)."
   ]
  },
  {
   "cell_type": "code",
   "execution_count": 32,
   "metadata": {},
   "outputs": [
    {
     "name": "stdout",
     "output_type": "stream",
     "text": [
      "Juan 12/12/1994 26 New York\n",
      "None\n",
      "Jane 23 50000\n"
     ]
    },
    {
     "data": {
      "text/plain": [
       "5000.0"
      ]
     },
     "execution_count": 32,
     "metadata": {},
     "output_type": "execute_result"
    }
   ],
   "source": [
    "class Person:\n",
    "    def __init__(self, name=None, birthday=None, age=None, location=None):\n",
    "        self.name  = name\n",
    "        self.birthday = birthday\n",
    "        self.age = age\n",
    "        self.location = location\n",
    "        \n",
    "    def set_name(self, name):\n",
    "        self.name= name\n",
    "        \n",
    "    def set_birthday(self, birthday):\n",
    "        self.birthday= birthday\n",
    "        \n",
    "    def set_age(self, age):\n",
    "        self.age= age\n",
    "        \n",
    "    def set_location(self, location):\n",
    "        self.location= location\n",
    "        \n",
    "class Employee(Person):\n",
    "    def __init__(self, income=None, position=None, office_location=None):\n",
    "        self.income = income\n",
    "        self.position = position\n",
    "        self.office_location = office_location\n",
    "        Person.__init__(self, name=None, birthday=None, age=None, location=None)\n",
    "    \n",
    "class Raise(Employee):\n",
    "    def companywide_raise(self):\n",
    "        raise_10 = self.income * 0.1\n",
    "        return raise_10\n",
    "        \n",
    "        \n",
    "\n",
    "e = Employee(80000, \"data scientist\", \"Manhattan, NY\")\n",
    "e.set_name(\"Juan\")\n",
    "e.set_birthday(\"12/12/1994\")\n",
    "e.set_age(26)\n",
    "e.set_location('New York')\n",
    "print(e.name, e.birthday, e.age, e.location)\n",
    "r = Raise()\n",
    "print(r.name)  #can also access attributes of Person\n",
    "r.name = \"Jane\"\n",
    "r.age = 23\n",
    "r.income = 50000\n",
    "print(r.name, r.age, r.income)  #the instance of class Raise can access attributes of both Person and Employee classes\n",
    "r.companywide_raise()  "
   ]
  },
  {
   "cell_type": "markdown",
   "metadata": {},
   "source": [
    "# Exercise 2\n",
    "\n",
    "Fix the following code by catching the `IndexError` using try/except."
   ]
  },
  {
   "cell_type": "code",
   "execution_count": 36,
   "metadata": {},
   "outputs": [
    {
     "name": "stdout",
     "output_type": "stream",
     "text": [
      "1\n",
      "2\n",
      "3\n",
      "4\n",
      "5\n",
      "6\n",
      "7\n",
      "8\n",
      "list index out of range\n"
     ]
    }
   ],
   "source": [
    "s = [[1,2,3], [4,5,6], [7,8]]\n",
    "\n",
    "for row in range(3):\n",
    "    for col in range(3):\n",
    "        try:\n",
    "            print(s[row][col])\n",
    "        except IndexError:\n",
    "            print('list index out of range')\n",
    "        #finally:\n",
    "            #print(\"done trying\")"
   ]
  },
  {
   "cell_type": "markdown",
   "metadata": {},
   "source": [
    "# Exercise 3\n",
    "\n",
    "Create a module that contains a single function. The function should be executable from the command line. It should take a series of `int`'s, sum them, and then output the result to the command line. Submit your *.py file with your name in the filename."
   ]
  },
  {
   "cell_type": "code",
   "execution_count": 39,
   "metadata": {},
   "outputs": [
    {
     "data": {
      "text/plain": [
       "12"
      ]
     },
     "execution_count": 39,
     "metadata": {},
     "output_type": "execute_result"
    }
   ],
   "source": [
    "#please refer to stanislava-week-7-lab-3.py"
   ]
  }
 ],
 "metadata": {
  "kernelspec": {
   "display_name": "Python 3",
   "language": "python",
   "name": "python3"
  },
  "language_info": {
   "codemirror_mode": {
    "name": "ipython",
    "version": 3
   },
   "file_extension": ".py",
   "mimetype": "text/x-python",
   "name": "python",
   "nbconvert_exporter": "python",
   "pygments_lexer": "ipython3",
   "version": "3.8.3"
  }
 },
 "nbformat": 4,
 "nbformat_minor": 4
}
