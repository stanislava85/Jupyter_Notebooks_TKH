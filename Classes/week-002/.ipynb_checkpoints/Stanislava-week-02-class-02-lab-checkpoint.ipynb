{
 "cells": [
  {
   "cell_type": "markdown",
   "metadata": {},
   "source": [
    "<div style=\"background: #000;\n",
    "            color: #FFF;\n",
    "            margin: 0px;\n",
    "                padding: 10px 0px 20px 0px;\n",
    "            text-align: center; \n",
    "                \">\n",
    "    <h1>Week 2 Class 2 Lab</h1>\n",
    "</div>"
   ]
  },
  {
   "cell_type": "markdown",
   "metadata": {},
   "source": [
    "# Question 1\n",
    "\n",
    "In your own words, explain the difference between lists and tuples. Explain a situation where it may be useful to use tuples instead of lists.\n",
    "<br> Tuples are immutable, they cannot be changed, whereas Lists are mutable (changable). Lots of the python built in methods/functions that work on Lists (like .append, .sort, del, etc.) do not work with Tuples. For Lists we use brackets [], for Tuples parenthesis (). Tuples are faster than Lists.\n",
    "<br> Tuples are very useful data structures, which when used in programming give the hint that data stored as a Tuple should NOT be changed. For example, we could use Tuples when creating a dictionary without keys to store data (for referance), by defining a constant set of values. I would use Tuples to create a referance for pages and lines in a book."
   ]
  },
  {
   "cell_type": "markdown",
   "metadata": {},
   "source": [
    "# Exercise 1\n",
    "\n",
    "Create a tuple with four values (ints or strings) or  in it. Unpack the tuple into four variables. Create a list with those four values. Turn the list into a string. Add that to the end of a separate string (create whatever you'd like). Now make a tuple  from  that string and output one element from it.\n",
    "\n",
    "Follow each step as described. Show all your work in python statements. "
   ]
  },
  {
   "cell_type": "code",
   "execution_count": 33,
   "metadata": {},
   "outputs": [
    {
     "name": "stdout",
     "output_type": "stream",
     "text": [
      "('Divine', 'romance', 9, 650)\n",
      "<class 'tuple'>\n",
      "Divine\n",
      "romance\n",
      "9\n",
      "650\n",
      "<class 'tuple'>\n",
      "['Divine', 'romance', 9, 650]\n",
      "<class 'list'>\n",
      "Divine romance 9 650\n",
      "<class 'str'>\n",
      "This is\n",
      "<class 'str'>\n",
      "This is Divine romance 9 650\n",
      "<class 'str'>\n",
      "('This', 'is', 'Divine', 'romance', '9', '650')\n",
      "<class 'tuple'>\n",
      "Divine\n"
     ]
    }
   ],
   "source": [
    "#creating a tuple\n",
    "t = (\"Divine\", \"romance\", 9, 650)\n",
    "print(t)\n",
    "print(type(t))\n",
    "\n",
    "#unpacking the tuple\n",
    "(book, genre, chapters, pages) = t\n",
    "print(book)\n",
    "print(genre)\n",
    "print(chapters)\n",
    "print(pages)\n",
    "print(type(t))\n",
    "\n",
    "#turning the tuple into a list\n",
    "l = list(t)\n",
    "print(l)\n",
    "print(type(l))\n",
    "\n",
    "\n",
    "#turning the list into a string\n",
    "s = ' '.join(str(e) for e in l)\n",
    "print(s)\n",
    "print(type(s))\n",
    "\n",
    "#creaing a new string\n",
    "st = \"This is\"\n",
    "print(st)\n",
    "print(type(st))\n",
    "#s_new = st.extend.(s)\n",
    "\n",
    "#concatenating the 2 strings\n",
    "new_str = st + \" \" + s\n",
    "print(new_str)\n",
    "print(type(new_str))\n",
    "\n",
    "#turning the new string into a tuple\n",
    "tt = tuple(map(str, new_str.split(\" \")))\n",
    "print(tt)\n",
    "print(type(tt))\n",
    "\n",
    "#accessing the 3rd element, index 2 of the tuple\n",
    "print(tt[2])\n"
   ]
  },
  {
   "cell_type": "markdown",
   "metadata": {},
   "source": [
    "# Exercise 2\n",
    "\n",
    "Given the following list. Use list indexing and operations to normalize the data so all values are floats.\n",
    "\n",
    "Convert alphabetical characters to their ordinal value."
   ]
  },
  {
   "cell_type": "code",
   "execution_count": 71,
   "metadata": {},
   "outputs": [
    {
     "name": "stdout",
     "output_type": "stream",
     "text": [
      "23.0\n",
      "95.0\n",
      "4.0\n",
      "718.0\n",
      "9.0\n",
      "35.0\n",
      "97.0\n",
      "40.0\n"
     ]
    }
   ],
   "source": [
    "a = ['23', 95, '4', 0x2ce, 9, '35', 'a', 40.0,]\n",
    "b = float(int(a[0]))\n",
    "print(b)\n",
    "c = float(a[1])\n",
    "print(c)\n",
    "d = float(int(a[2]))\n",
    "print(d)\n",
    "e = float(a[3])\n",
    "print(e)\n",
    "f = float(a[4])\n",
    "print(f)\n",
    "g = float(int(a[5]))\n",
    "print(g)\n",
    "h = float(ord(a[6]))\n",
    "print(h)\n",
    "j = a[7]\n",
    "print(j)"
   ]
  },
  {
   "cell_type": "markdown",
   "metadata": {},
   "source": [
    "# Exercise 3\n",
    "\n",
    "We would like to use a list as a queue. A queue in computer science is a structure that operates using FIFO (first in first out). As entries come in, they're added/inserted to the back of the queue. When the code processing the entries is ready for a new entry, it pulls/removes from the front of the queue. Similar to how lines at a supermarket work.\n",
    "\n",
    "Create an empty list to represent our queue. What list operation would allow us to add new entries at the back of the queue. What list operation would remove the first entry on the list? Write python code that creates an empty 'queue', add entries to the queue, and pulls from the front of the queue. \n",
    "\n",
    "Show these steps in a series of python statements. (No need to create a function or do anything we haven't covered in depth.)"
   ]
  },
  {
   "cell_type": "code",
   "execution_count": 14,
   "metadata": {},
   "outputs": [
    {
     "name": "stdout",
     "output_type": "stream",
     "text": [
      "[1]\n",
      "[1, 4]\n",
      "[1, 4, 5]\n",
      "[1, 4, 5, 8]\n",
      "[1, 4, 5, 8, 11]\n",
      "[4, 5, 8, 11]\n",
      "[5, 8, 11]\n",
      "[8, 11]\n"
     ]
    }
   ],
   "source": [
    "l = []\n",
    "#adding at the back of the list with append\n",
    "l.append(1)\n",
    "print(l)\n",
    "l.append(4)\n",
    "print(l)\n",
    "l.append(5)\n",
    "print(l)\n",
    "l.append(8)\n",
    "print(l)\n",
    "#we can also add at the back of the list with insert, if we know the number of already existing items\n",
    "l.insert(4, 11)\n",
    "print(l)\n",
    "#removing the first value of the list\n",
    "l.pop(0)\n",
    "print(l)\n",
    "#removing the first value AGAIN\n",
    "l.pop(0)\n",
    "print(l)\n",
    "l.pop(0)\n",
    "print(l)"
   ]
  },
  {
   "cell_type": "code",
   "execution_count": null,
   "metadata": {},
   "outputs": [],
   "source": []
  }
 ],
 "metadata": {
  "kernelspec": {
   "display_name": "Python 3",
   "language": "python",
   "name": "python3"
  },
  "language_info": {
   "codemirror_mode": {
    "name": "ipython",
    "version": 3
   },
   "file_extension": ".py",
   "mimetype": "text/x-python",
   "name": "python",
   "nbconvert_exporter": "python",
   "pygments_lexer": "ipython3",
   "version": "3.8.3"
  }
 },
 "nbformat": 4,
 "nbformat_minor": 4
}
