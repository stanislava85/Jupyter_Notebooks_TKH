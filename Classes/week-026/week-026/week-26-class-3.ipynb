{
 "cells": [
  {
   "cell_type": "markdown",
   "metadata": {},
   "source": [
    "<div style=\"background: #000;\n",
    "            color: #FFF;\n",
    "            margin: 0px;\n",
    "            padding: 10px 0px 20px 0px;\n",
    "            text-align: center; \n",
    "                \">\n",
    "    <h1 >Week 26 Class 3 03/24</h1>\n",
    "</div>\n",
    "\n",
    "## Objectives for this week:\n",
    "* Work on our projects"
   ]
  },
  {
   "cell_type": "markdown",
   "metadata": {},
   "source": [
    "# Useful links\n",
    "* [Kaggle Learn Section on Data Visualizations](https://www.kaggle.com/learn/data-visualization)\n",
    "* [Kaggle Learn Section on Machine Learning](https://www.kaggle.com/learn/intro-to-machine-learning)\n",
    "  - This is about decision trees which we haven't covered but the process is similar to what we've done and the notebooks are in the style you'll be submitting for your final project\n",
    "  - [How Models Work](https://www.kaggle.com/dansbecker/how-models-work)\n",
    "  - [Basic Data Exploration](https://www.kaggle.com/dansbecker/basic-data-exploration)\n",
    "  - [Your first machine learning model](https://www.kaggle.com/dansbecker/your-first-machine-learning-model)\n",
    "  - [Model Validation](https://www.kaggle.com/dansbecker/model-validation)\n",
    "  - [Underfitting and Overfitting](https://www.kaggle.com/dansbecker/underfitting-and-overfitting)\n",
    "* [How to make clean visualizations](https://www.kaggle.com/gaetanlopez/how-to-make-clean-visualizations)\n",
    "* [Statistical Analysis (including probability stuff we haven't covered)](https://www.kaggle.com/sstewart0/statistical-analysis)\n",
    "* [Exploratory Data Analysis on Iris Data](https://www.kaggle.com/sufyansadiq/exploratory-data-analysis-on-iris-flower-dataset)\n",
    "* [House Prices Predictions](https://www.kaggle.com/mandypham/house-prices-prediction)\n",
    "* [Data Exploration and Analysis](https://www.kaggle.com/ekami66/detailed-exploratory-data-analysis-with-python)\n",
    "* [Data Analysis using SQL](https://www.kaggle.com/dimarudov/data-analysis-using-sql)\n",
    "* [Exploratory Data Analysis](https://www.kaggle.com/anokas/exploratory-data-analysis-4)\n",
    "* [Detailed Data Analysis](https://www.kaggle.com/tannercarbonati/detailed-data-analysis-ensemble-modeling)\n",
    "* [Exploratory Data Analysis and Feature Extraction for Logistic Regression](https://www.kaggle.com/pmarcelino/data-analysis-and-feature-extraction-with-python)\n",
    "* [Exploratory Data Analysis for SHSAT](https://www.kaggle.com/randylaosat/simple-exploratory-data-analysis-passnyc)\n",
    "* [Sales Data Analysis Report](https://www.kaggle.com/loaiabdalslam/sales-data-analysis-report)\n",
    "* [Visual Data Analysis in Python](https://www.kaggle.com/kashnitsky/topic-2-visual-data-analysis-in-python)\n",
    "* [10 Simple hacks to speed up your data analysis](https://www.kaggle.com/parulpandey/10-simple-hacks-to-speed-up-your-data-analysis)\n",
    "* [Covid 19 Exploratory Data Analysis](https://www.kaggle.com/pawanbhandarkar/covid-19-eda-man-vs-disease)\n",
    "* [Data Science Full Pipeline](https://www.kaggle.com/gevorghovhannisyan/data-science-project-s-full-pipeline)\n",
    "* [Who will leave a job Machine Learning Example](https://www.kaggle.com/nkitgupta/who-will-leave-a-job)"
   ]
  },
  {
   "cell_type": "code",
   "execution_count": null,
   "metadata": {},
   "outputs": [],
   "source": []
  }
 ],
 "metadata": {
  "kernelspec": {
   "display_name": "Python 3",
   "language": "python",
   "name": "python3"
  },
  "language_info": {
   "codemirror_mode": {
    "name": "ipython",
    "version": 3
   },
   "file_extension": ".py",
   "mimetype": "text/x-python",
   "name": "python",
   "nbconvert_exporter": "python",
   "pygments_lexer": "ipython3",
   "version": "3.8.3"
  }
 },
 "nbformat": 4,
 "nbformat_minor": 5
}
