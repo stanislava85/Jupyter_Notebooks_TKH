{
 "cells": [
  {
   "cell_type": "markdown",
   "id": "adopted-fantasy",
   "metadata": {},
   "source": [
    "<div style=\"background: #000;\n",
    "            color: #FFF;\n",
    "            margin: 0px;\n",
    "            padding: 10px 0px 20px 0px;\n",
    "            text-align: center; \n",
    "                \">\n",
    "    <h1>Phase 2 Practice Assessment</h1>\n",
    "</div>"
   ]
  },
  {
   "cell_type": "markdown",
   "id": "religious-magic",
   "metadata": {},
   "source": [
    "**Fill this out**\n",
    "\n",
    "name:"
   ]
  },
  {
   "cell_type": "code",
   "execution_count": null,
   "id": "grave-palestinian",
   "metadata": {},
   "outputs": [],
   "source": [
    "import pandas as pd\n",
    "import numpy as np\n",
    "import matplotlib.pyplot as plt\n",
    "import seaborn as sns"
   ]
  },
  {
   "cell_type": "markdown",
   "id": "distant-seminar",
   "metadata": {},
   "source": [
    "# Multiple Choice Questions \n",
    "\n",
    "**[5% each; 25% total]**\n",
    "\n",
    "**1. If we dot multiplied the matrices below in the exact format they're in, what would the dimensions be?**\n",
    "\n",
    "$$ \\begin{bmatrix}\n",
    "a_1 & a_2 & a_3 \\\\\n",
    "b_1 & b_2 & b_3 \\\\\n",
    "\\end{bmatrix} \\cdot \\begin{bmatrix}\n",
    "a_1 & a_2 \\\\\n",
    "b_1 & b_2 \\\\\n",
    "c_1 & c_2 \\\\\n",
    "\\end{bmatrix}  $$\n",
    "\n",
    "**a.** 2x2.  \n",
    "**b.** 3x3.   \n",
    "**c.** 1x1.  \n",
    "**d.** 2x3."
   ]
  },
  {
   "cell_type": "raw",
   "id": "solved-array",
   "metadata": {},
   "source": [
    "a"
   ]
  },
  {
   "cell_type": "markdown",
   "id": "exciting-bride",
   "metadata": {},
   "source": [
    "**2. What would we use to calculate the total number of ways we can arrange 6 students in a queue.**\n",
    "\n",
    "**a.** Factorial alone.  \n",
    "**b.** Permutation formula  \n",
    "**c.** Combination formula  \n",
    "**d.** Probability Mass Function    "
   ]
  },
  {
   "cell_type": "raw",
   "id": "chicken-behavior",
   "metadata": {},
   "source": [
    "a - bad question"
   ]
  },
  {
   "cell_type": "markdown",
   "id": "accurate-blast",
   "metadata": {},
   "source": [
    "**3. Say we had two events: A and B. If we knew that event B had occurred, what would we use to find out what the probability was that A will also occur?**\n",
    "\n",
    "**a.** $P(A \\cup B)$.  \n",
    "**b.** $P(B \\cap A)$.    \n",
    "**c.** $P(B) + P(A)$.   \n",
    "**d.** $P(A|B)$.  "
   ]
  },
  {
   "cell_type": "raw",
   "id": "capital-chase",
   "metadata": {},
   "source": [
    "d"
   ]
  },
  {
   "cell_type": "markdown",
   "id": "impaired-position",
   "metadata": {},
   "source": [
    "**4. Based on the following code, what is `Dumpy`?**\n",
    "\n",
    "```python\n",
    "from typing import List\n",
    "from our_personal_typing_library import Dumpy\n",
    "\n",
    "def func(s: List, d: Dumpy) -> float:\n",
    "    for i in s:\n",
    "        d.add(i)\n",
    "    mu = d.mean()\n",
    "    return mu\n",
    "    \n",
    "func([0,0,0,4,5]) #outputs 4.5\n",
    "```\n",
    "\n",
    "\n",
    "**a.** A list of 5 values.    \n",
    "**b.** A queue that holds two values.  \n",
    "**c.** A stack that holds up to five values.  \n",
    "**d.** A dictionary.  "
   ]
  },
  {
   "cell_type": "raw",
   "id": "noted-suffering",
   "metadata": {},
   "source": [
    "b"
   ]
  },
  {
   "cell_type": "markdown",
   "id": "dedicated-quality",
   "metadata": {},
   "source": [
    "**5. What's a (definite) consequence of underfitting?**\n",
    "\n",
    "**a.** Incorrect predictions   \n",
    "**b.** High bias  \n",
    "**c.** Getting fired    \n",
    "**d.** High variance  "
   ]
  },
  {
   "cell_type": "raw",
   "id": "drawn-restriction",
   "metadata": {},
   "source": [
    "a or b\n",
    "\n",
    "bad question"
   ]
  },
  {
   "cell_type": "markdown",
   "id": "italic-nudist",
   "metadata": {},
   "source": [
    "# Python \n",
    "\n",
    "**[5% each; 25% total]** \n",
    "\n",
    "\n",
    "**1. Implement a binary search algorithm in python. Use it to search through the given list for `10`.**"
   ]
  },
  {
   "cell_type": "code",
   "execution_count": null,
   "id": "special-adapter",
   "metadata": {},
   "outputs": [],
   "source": [
    "given = [1, 2, 3, 4, 5, 6, 7, 10]\n",
    "\n",
    "sorted(given)"
   ]
  },
  {
   "cell_type": "code",
   "execution_count": null,
   "id": "familiar-eagle",
   "metadata": {},
   "outputs": [],
   "source": [
    "# needed for typing; not for the exercise\n",
    "from typing import List\n",
    "\n",
    "def binary_search(l: List = given, s: int = 10) -> int:\n",
    "    low, high = 0, len(l)-1\n",
    "    while low <= high:\n",
    "        mid = high - ((high-low)//2)\n",
    "        if s < l[mid]:\n",
    "            high = mid - 1\n",
    "        elif s > l[mid]:\n",
    "            low = mid + 1\n",
    "        else:\n",
    "            return mid\n",
    "    else:\n",
    "        return -1\n",
    "\n",
    "# these test your solution\n",
    "try:\n",
    "    assert(binary_search() == 7)\n",
    "    assert(binary_search(s=2) == 1)\n",
    "    assert(binary_search(s=12) == -1)\n",
    "except AssertionError as e:\n",
    "    print(\"test failed\")"
   ]
  },
  {
   "cell_type": "markdown",
   "id": "noted-compound",
   "metadata": {},
   "source": [
    "**2. Fix the following code so the function calls work.**"
   ]
  },
  {
   "cell_type": "code",
   "execution_count": null,
   "id": "centered-market",
   "metadata": {},
   "outputs": [],
   "source": [
    "class BinaryTree:\n",
    "    def __init__(self, data):\n",
    "        self.left = None\n",
    "        self.right = None\n",
    "        self.data = data\n",
    "\n",
    "    def add(self, data):\n",
    "        # fix this function:\n",
    "        if data > self.data:\n",
    "            if self.right:\n",
    "                self.right.add(data)\n",
    "            else:\n",
    "                self.right = BinaryTree(data)\n",
    "        if data < self.data:\n",
    "            if self.left:\n",
    "                self.left.add(data)\n",
    "            else:\n",
    "                self.left = BinaryTree(data)\n",
    "        # end of section that needs fixing\n",
    "        \n",
    "    def print(self):\n",
    "        if self.left:\n",
    "            self.left.print()\n",
    "        print(self.data)\n",
    "        if self.right:\n",
    "            self.right.print()  \n",
    "            \n",
    "bt = BinaryTree(5)\n",
    "bt.add(7)\n",
    "bt.add(8)\n",
    "bt.add(3)\n",
    "bt.add(4)\n",
    "bt.print()\n",
    "# if your solution is correct,\n",
    "# you will see all the values [3,4,5,7,8] printed"
   ]
  },
  {
   "cell_type": "markdown",
   "id": "boolean-extent",
   "metadata": {},
   "source": [
    "**3. Write a class that implements a queue. Use any method of your choosing. Your queue must have the following three methods: `push`, `pop`, `peek` (returns next value to be popped).**"
   ]
  },
  {
   "cell_type": "code",
   "execution_count": 3,
   "id": "obvious-course",
   "metadata": {},
   "outputs": [],
   "source": [
    "class Queue:\n",
    "    def __init__(self):\n",
    "        self.queue = []\n",
    "        \n",
    "    def push(self, val):\n",
    "        self.queue.append(val)\n",
    "    \n",
    "    def pop(self):\n",
    "        return self.queue.pop(0)\n",
    "    \n",
    "    def peek(self):\n",
    "        return self.queue[0]\n",
    "\n",
    "# use the following to test your code    \n",
    "try:\n",
    "    q = Queue()\n",
    "    q.push(3)\n",
    "    q.push(4)\n",
    "    q.push(5)\n",
    "    assert(q.pop() == 3)\n",
    "    assert(q.peek() == 4)\n",
    "except AssertionError:\n",
    "    print(\"test failed.\")"
   ]
  },
  {
   "cell_type": "markdown",
   "id": "charming-motion",
   "metadata": {},
   "source": [
    "**4. Write a python function that calculates the expected value of the following dictionary containing outcomes (in dollars) and their probabilities.**\n",
    "\n",
    "Let $X$ by a random variable with $k$ number of finite outcomes $x_1, x_2,...,x_k$ occurring with probability $p_1, p_1,...,p_k$, respectively. The **expectation** of $X$ is defined as:\n",
    "$$ E[X] = \\sum_{i=1}^{k}{x_i p_i} = x_1p_1 + x_2p_2 + ... + x_kp_k$$"
   ]
  },
  {
   "cell_type": "code",
   "execution_count": null,
   "id": "cooperative-council",
   "metadata": {},
   "outputs": [],
   "source": [
    "# this is a dictionary\n",
    "# with key - outcomes or x's\n",
    "# and v - probabilities or p's\n",
    "probabilities = {\n",
    "    20: 0.20,\n",
    "    10: 0.20,\n",
    "    5:  0.20,\n",
    "    -10: 0.20,\n",
    "    -20: 0.20,\n",
    "}\n",
    "\n",
    "def expected_value(d = probabilities):\n",
    "    summation = 0\n",
    "    for x,p in probabilities.items():\n",
    "        summation += x*p\n",
    "    return summation\n",
    "\n",
    "try:\n",
    "    assert(expected_value() == 1.0)\n",
    "except AssertionError:\n",
    "    print(\"test failed.\")"
   ]
  },
  {
   "cell_type": "markdown",
   "id": "obvious-determination",
   "metadata": {},
   "source": [
    "**5. Create a dataclass called Point that contains:**\n",
    "* two attributes `x` and `y`\n",
    "* a method that overrides the addition operator so you can add two points together\n",
    "* a method called `distance` that calculates the distance between the two points using the distance formula we saw in class:\n",
    "\n",
    "$$ \\text{distance} = \\sqrt{(x_2-x_1)^{2} + (y_2-y_1)^{2} } $$\n"
   ]
  },
  {
   "cell_type": "code",
   "execution_count": null,
   "id": "effective-sentence",
   "metadata": {},
   "outputs": [],
   "source": [
    "from typing import List\n",
    "from dataclasses import dataclass\n",
    "\n",
    "@dataclass\n",
    "class Point:\n",
    "    x: int\n",
    "    y: int\n",
    "        \n",
    "    def __add__(self, other):\n",
    "        return Point(self.x + other.x, self.y + other.y)\n",
    "    \n",
    "    def distance(self,other):\n",
    "        return ((other.x-self.x)**2 + (other.y - self.y)**2)**0.5   \n",
    "    \n",
    "try:\n",
    "    p_1 = Point(-4,-4)\n",
    "    p_2 = Point(3,4)\n",
    "    assert(p_1 + p_2 == Point(x=-1,y=0))\n",
    "    # this is basically calculating a \n",
    "    # 3-4-5 right triangle\n",
    "    p_1 = Point(0,0)\n",
    "    p_2 = Point(3,4)\n",
    "    assert(p_1.distance(p_2) == 5)\n",
    "    assert(p_2.distance(p_1) == 5)\n",
    "except AssertionError:\n",
    "    print(\"test failed.\")"
   ]
  },
  {
   "cell_type": "markdown",
   "id": "comparative-indianapolis",
   "metadata": {},
   "source": [
    "# Machine Learning Questions \n",
    "\n",
    "**1. What is bias in a machine learning model? Why does increasing model complexity decrease bias? What concerns do we need to worry about when increasing model complexity to decrease bias?**"
   ]
  },
  {
   "cell_type": "code",
   "execution_count": null,
   "id": "employed-bangkok",
   "metadata": {},
   "outputs": [],
   "source": []
  },
  {
   "cell_type": "markdown",
   "id": "atmospheric-nursery",
   "metadata": {},
   "source": [
    "**2. What do we use a logistic regression for? What class of machine learning algorithms is logistic regression part of? Explain the main difference between this class of machine learning algorithm and alternatives.**"
   ]
  },
  {
   "cell_type": "code",
   "execution_count": null,
   "id": "global-violation",
   "metadata": {},
   "outputs": [],
   "source": []
  },
  {
   "cell_type": "markdown",
   "id": "virtual-intermediate",
   "metadata": {},
   "source": [
    "**3. What is underfitting? How does underfitting affect our machine learning models? What can we do to address underfitting?**"
   ]
  },
  {
   "cell_type": "code",
   "execution_count": null,
   "id": "residential-detail",
   "metadata": {},
   "outputs": [],
   "source": []
  },
  {
   "cell_type": "markdown",
   "id": "blocked-taste",
   "metadata": {},
   "source": [
    "# Numpy\n",
    "\n",
    "**This section is worth 12.5%**\n",
    "\n",
    "**1. Given the following numpy array. Calculate the variance.**\n",
    "\n",
    "$$\\text{var(x)}= \\frac{1}{N}\\sum_{i=1}^{N}(x_i - \\mu)^{2}$$"
   ]
  },
  {
   "cell_type": "code",
   "execution_count": null,
   "id": "judicial-belle",
   "metadata": {},
   "outputs": [],
   "source": [
    "n = np.array([10, 12, 23, 23, 16, 23, 21, 16])\n",
    "n.var()"
   ]
  },
  {
   "cell_type": "markdown",
   "id": "apparent-neighbor",
   "metadata": {},
   "source": [
    "**2. Create a 3x5 matrix containing the multiples of 5.**\n"
   ]
  },
  {
   "cell_type": "code",
   "execution_count": null,
   "id": "systematic-infection",
   "metadata": {},
   "outputs": [],
   "source": [
    "np.arange(1,16).reshape(3,5) * 5"
   ]
  },
  {
   "cell_type": "markdown",
   "id": "characteristic-guitar",
   "metadata": {},
   "source": [
    "**3. Create an numpy array of 9 elements using arange and then use a single broadcast operation to make it an array of the integers from -4 to 4. Then use those values to generate the y-values of a parabola using the following formula:**\n",
    "\n",
    "$$ y = x^{2} + 4 $$"
   ]
  },
  {
   "cell_type": "code",
   "execution_count": null,
   "id": "separated-council",
   "metadata": {},
   "outputs": [],
   "source": [
    "x = np.arange(9) - 4\n",
    "y = x**2 + 4\n",
    "plt.plot(x,y)"
   ]
  },
  {
   "cell_type": "markdown",
   "id": "controversial-likelihood",
   "metadata": {},
   "source": [
    "**4. Slice the following numpy array to get the even rows and odd columns (0 is even). Rows/columns are even/odd if the index is even/odd.**"
   ]
  },
  {
   "cell_type": "code",
   "execution_count": null,
   "id": "juvenile-bumper",
   "metadata": {},
   "outputs": [],
   "source": [
    "n = np.array([[1,2,3,4,5,6],[7,8,9,10,11,12],[13,14,15,16,17,18],[19,20,21,22,23,24]])\n",
    "n[::2, 1::2]"
   ]
  },
  {
   "cell_type": "markdown",
   "id": "thermal-volunteer",
   "metadata": {},
   "source": [
    "**5. Create an array containing 101 values between 0 and 1. Then use a conditional slice to remove the value `0`. Once you have your array prepared, use it to calculate the y values for the following equation:**\n",
    "\n",
    "$$ y = 5x^{3} - 2x + 5 $$\n",
    "\n",
    "**When done with that, output the standard deviation of the y values.**"
   ]
  },
  {
   "cell_type": "code",
   "execution_count": null,
   "id": "wired-commercial",
   "metadata": {},
   "outputs": [],
   "source": [
    "n = np.linspace(0,1,101)\n",
    "n = n[n != 0] \n",
    "y = 5*n**3 - 2*n + 5\n",
    "y.std()"
   ]
  },
  {
   "cell_type": "markdown",
   "id": "ultimate-desktop",
   "metadata": {},
   "source": [
    "# Pandas \n",
    "\n",
    "**This section is worth 12.5%**\n",
    "\n",
    "The questions for this section use the dataframe below:"
   ]
  },
  {
   "cell_type": "code",
   "execution_count": null,
   "id": "reliable-amber",
   "metadata": {},
   "outputs": [],
   "source": [
    "df = pd.DataFrame([\n",
    "['united states', \"north america\", 124481412, 38, 0.25, 0.13 ],\n",
    "['mainland china', \"asia\", 74956000],\n",
    "['india' , \"asia\", 45065998, 3.3, 0.028, 0.006],\n",
    "['united kingdom', \"europe\", 29859742, 45, 0.42, 0.034 ],\n",
    "['brazil', \"south america\",13562176, 6.5, 0.049, 0.016],\n",
    "['israel', \"asia\", 9739025, 110, 0.58, 0.51 ],\n",
    "['chile', \"south america\", 8470866, 45, 0.30, 0.15],\n",
    "['mexico', \"north america\",5612291, 4.4, 0.039, 0.006],\n",
    "['bangladesh', \"asia\", 4760747, 3, 0.03],\n",
    "['canada', \"north america\",3954285, 11, 0.09, 0.017],\n",
    "['argentina', 'south america', 3119828, 7, 0.057, 0.014],\n",
    "['colombia', 'south america', 1182098, 2.4, 0.023, 0.001],\n",
    "['switzerland', \"europe\",1176875, 14, 0.087, 0.051],\n",
    "['dominican republic', \"north america\", 675000, 5.8, 0.064],\n",
    "['peru', 'south america', 623800,  2, 0.014, 0.006],\n",
    "['ghana', 'africa', 420000, 1.4, 0.014],\n",
    "['bulgaria', \"europe\", 368905, 5.3, 0.042, 0.01],\n",
    "['costa rica', \"south america\", 248082, 5, 0.038, 0.012],\n",
    "['south africa', \"africa\",182983, 0.3, 0.003],\n",
    "['jamaica', np.nan, 16096, 0.5, 0.005],\n",
    "['guyana', \"south america\", 15524, 2, 0.02],\n",
    "['nigeria', 'africa', 8000, 0.1, 0.001],\n",
    "['trinidad and tobago', 'south america', 991, 0.1, 0.001],\n",
    "], columns=[\"country\", \"continent\", \"doses given\", \"doses given per 100\", \"percent vaccinated\", \"percent fully vaccinated\" ])\n",
    "df"
   ]
  },
  {
   "cell_type": "markdown",
   "id": "superb-window",
   "metadata": {},
   "source": [
    "**1. Can you provide at least 3 pieces of information about the dataframe itself (memory usage, dimensions, number of missing values, etc)?**"
   ]
  },
  {
   "cell_type": "code",
   "execution_count": null,
   "id": "exempt-exercise",
   "metadata": {},
   "outputs": [],
   "source": [
    "df.info()"
   ]
  },
  {
   "cell_type": "code",
   "execution_count": null,
   "id": "atlantic-newark",
   "metadata": {},
   "outputs": [],
   "source": [
    "df.shape"
   ]
  },
  {
   "cell_type": "code",
   "execution_count": null,
   "id": "plain-spare",
   "metadata": {},
   "outputs": [],
   "source": [
    "df.isna().sum()"
   ]
  },
  {
   "cell_type": "markdown",
   "id": "finished-means",
   "metadata": {},
   "source": [
    "**2. Sort the dataframe by percent fully vaccinated in descending order.**"
   ]
  },
  {
   "cell_type": "code",
   "execution_count": null,
   "id": "generous-blink",
   "metadata": {},
   "outputs": [],
   "source": [
    "df.sort_values('percent fully vaccinated', ascending=False).head()"
   ]
  },
  {
   "cell_type": "markdown",
   "id": "upper-projector",
   "metadata": {},
   "source": [
    "**3. Make the charts with percentages a human readable format (meaning instead of `0.04` make it `4` or even `4%`).**"
   ]
  },
  {
   "cell_type": "code",
   "execution_count": null,
   "id": "buried-grocery",
   "metadata": {},
   "outputs": [],
   "source": [
    "df['percent vaccinated'] = df['percent vaccinated'] * 100\n",
    "df['percent fully vaccinated'] = df['percent fully vaccinated'] * 100\n",
    "df.head()"
   ]
  },
  {
   "cell_type": "markdown",
   "id": "interpreted-communication",
   "metadata": {},
   "source": [
    "**4. Even though it isn't very accurate (we're missing too many countries), what is the average number of doses given per continent?**"
   ]
  },
  {
   "cell_type": "code",
   "execution_count": null,
   "id": "european-series",
   "metadata": {},
   "outputs": [],
   "source": [
    "df.groupby('continent')['doses given'].mean()/100"
   ]
  },
  {
   "cell_type": "markdown",
   "id": "coastal-winning",
   "metadata": {},
   "source": [
    "**5. Slice the dataframe so we can have a copy of our dataframe that contains the following information.**\n",
    "* columns - `'country'`,`'doses given'`, and `'percent fully vaccinated'`\n",
    "* rows - all rows with more than 500,000 doses given."
   ]
  },
  {
   "cell_type": "code",
   "execution_count": null,
   "id": "northern-imperial",
   "metadata": {},
   "outputs": [],
   "source": [
    "df.loc[df['doses given'] > 500000, ['country', 'doses given', 'percent fully vaccinated']]"
   ]
  },
  {
   "cell_type": "markdown",
   "id": "arranged-drink",
   "metadata": {},
   "source": [
    "# SQL \n",
    "\n",
    "Our company has a number of positions on our books. We want to add some positions to it. Add the following  information (making sure to use new cells so your work can be saved as you won't submit the db file). Keep in mind that direction means if we've bought or sold the stock (`0` means we sold it short, `1` means we bought it).\n",
    "\n",
    "Add the following:\n",
    "\n",
    "```\n",
    "We bought 200 shares of GME at $50.\n",
    "We sold 500 shares of AMD at $75.\n",
    "We bought 1 share of BRK at $380000.00.\n",
    "```"
   ]
  },
  {
   "cell_type": "code",
   "execution_count": null,
   "id": "worst-stations",
   "metadata": {},
   "outputs": [],
   "source": [
    "# run this cell to set up your sqlite3 db.\n",
    "import sqlite3\n",
    "\n",
    "sql_commands = \\\n",
    "\"\"\"\n",
    "DROP TABLE IF EXISTS stocks;\n",
    "\n",
    "CREATE TABLE stocks (\n",
    " id INTEGER PRIMARY KEY,\n",
    " ticker TEXT NOT NULL,\n",
    " position TEXT NOT NULL,\n",
    " price FLOAT NOT NULL,\n",
    " direction BOOLEAN NOT NULL\n",
    ");\n",
    "\n",
    "INSERT INTO stocks \n",
    "(ticker, position, price, direction)\n",
    "VALUES \n",
    "('TSLA', 100, 700.00, 0),\n",
    "('VIX', 19,  292.00, 1),\n",
    "('SPY', 167, 395.00, 0);\n",
    "\"\"\"\n",
    "\n",
    "db = sqlite3.connect('stocks.db')\n",
    "cursor = db.cursor()\n",
    "cursor.executescript(sql_commands)\n",
    "db.commit()\n",
    "db.close()"
   ]
  },
  {
   "cell_type": "code",
   "execution_count": null,
   "id": "legitimate-hopkins",
   "metadata": {},
   "outputs": [],
   "source": [
    "# use this function for your answers.\n",
    "def with_conn(statement):\n",
    "    conn = sqlite3.connect('stocks.db')\n",
    "    with conn:\n",
    "        cur = conn.cursor()\n",
    "        cur.execute(statement)\n",
    "        result = cur.fetchall()\n",
    "        return result "
   ]
  },
  {
   "cell_type": "code",
   "execution_count": null,
   "id": "awful-particle",
   "metadata": {},
   "outputs": [],
   "source": [
    "with_conn('SELECT * FROM stocks;')"
   ]
  },
  {
   "cell_type": "raw",
   "id": "integral-pension",
   "metadata": {},
   "source": [
    "We bought 200 shares of GME at $50.\n",
    "We sold 500 shares of AMD at $75.\n",
    "We bought 1 share of BRK at $380000.00."
   ]
  },
  {
   "cell_type": "code",
   "execution_count": null,
   "id": "broken-camping",
   "metadata": {},
   "outputs": [],
   "source": [
    "with_conn('INSERT INTO stocks (ticker, position, price, direction) \\\n",
    "           VALUES \\\n",
    "           (\"GME\", 200, 50, 1),(\"AMD\", 500, 75, 0),(\"BRK\", 1, 380000, 1);')"
   ]
  },
  {
   "cell_type": "code",
   "execution_count": null,
   "id": "controlled-authorization",
   "metadata": {},
   "outputs": [],
   "source": [
    "with_conn(';')"
   ]
  },
  {
   "cell_type": "markdown",
   "id": "anticipated-memory",
   "metadata": {},
   "source": [
    "# Matplotlib \n",
    "**This section is worth 5%**\n",
    "\n",
    "Using the following dataset, create a chart of the data using the right chart to convey the information. Make sure your chart is professional looking, utilizing axis labeling and a proper title. "
   ]
  },
  {
   "cell_type": "code",
   "execution_count": null,
   "id": "operating-thirty",
   "metadata": {},
   "outputs": [],
   "source": [
    "df = pd.DataFrame([['alice',\"software engineer\",120000, 2, 20],['bob',\"data engineer\", 105000, 1.75, 15], ['carol',\"machine learning engineer\", 180000, 3, 20], ['davin',\"data scientist\", 120000, 2, 15], ['eric',\"assistant\",60000, 1 ,30]], columns=['name', 'position', 'salary','years worked at company', 'percent of project'])\n",
    "df.head()"
   ]
  },
  {
   "cell_type": "code",
   "execution_count": null,
   "id": "reverse-technician",
   "metadata": {},
   "outputs": [],
   "source": [
    "figure, axes = plt.subplots(figsize=(14,10))\n",
    "axes.barh(df['name'], df['salary'])\n",
    "axes.set(title=\"Salary by person\")\n",
    "axes.set_xlabel(\"salary\")\n",
    "axes.set_ylabel(\"person\")\n",
    "plt.show()"
   ]
  },
  {
   "cell_type": "code",
   "execution_count": null,
   "id": "genetic-idaho",
   "metadata": {},
   "outputs": [],
   "source": [
    "x = np.linspace(1,3,100)\n",
    "y = 60000*x \n",
    "plt.plot(x,y)\n",
    "plt.scatter(\"years worked at company\", \"salary\", data=df, c=\"r\")\n",
    "plt.title(\"relationship between years worked and salary\")\n",
    "plt.xlabel(\"years worked\")\n",
    "plt.ylabel(\"salary\")\n",
    "plt.show()"
   ]
  },
  {
   "cell_type": "code",
   "execution_count": null,
   "id": "academic-party",
   "metadata": {},
   "outputs": [],
   "source": []
  }
 ],
 "metadata": {
  "kernelspec": {
   "display_name": "Python 3",
   "language": "python",
   "name": "python3"
  },
  "language_info": {
   "codemirror_mode": {
    "name": "ipython",
    "version": 3
   },
   "file_extension": ".py",
   "mimetype": "text/x-python",
   "name": "python",
   "nbconvert_exporter": "python",
   "pygments_lexer": "ipython3",
   "version": "3.9.1"
  }
 },
 "nbformat": 4,
 "nbformat_minor": 5
}
