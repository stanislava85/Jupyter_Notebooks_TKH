{
 "cells": [
  {
   "cell_type": "markdown",
   "metadata": {},
   "source": [
    "<div style=\"background: #000;\n",
    "            color: #FFF;\n",
    "            margin: 0px;\n",
    "            padding: 10px 0px 20px 0px;\n",
    "            text-align: center; \n",
    "                \">\n",
    "    <h1>Python Interview Questions</h1>\n",
    "</div>"
   ]
  },
  {
   "cell_type": "markdown",
   "metadata": {},
   "source": [
    "Question 1: What is the difference between a list and tuple in Python? \n",
    "=="
   ]
  },
  {
   "cell_type": "markdown",
   "metadata": {},
   "source": [
    "Syntax of list and tuple is slightly different. Lists are surrounded by square brackets [] and Tuples are surrounded by parenthesis (). Lists are mutable whereas tuples are immutable. If you create a tuple you hint that the data in it shouldn't be changed. Lists have more fuctionalities and built in methods than tuples."
   ]
  },
  {
   "cell_type": "markdown",
   "metadata": {},
   "source": [
    "Question 2: What is pep 8?\n",
    "=="
   ]
  },
  {
   "cell_type": "markdown",
   "metadata": {},
   "source": [
    "A guide on how Python code should be written... best practices."
   ]
  },
  {
   "cell_type": "markdown",
   "metadata": {},
   "source": [
    "Question 3: What is a lambda function?\n",
    "=="
   ]
  },
  {
   "cell_type": "markdown",
   "metadata": {},
   "source": [
    "It's a way to create an annonimous function that is custom and reusable on the fly when programming."
   ]
  },
  {
   "cell_type": "markdown",
   "metadata": {},
   "source": [
    "Question 4: What does this mean: `*args`, `**kwargs`? And why would we use it?\n",
    "=="
   ]
  },
  {
   "cell_type": "markdown",
   "metadata": {},
   "source": [
    "args and kwargs allow you to pass an unspecified number of arguments to a function. Args are positional arguments they go in a tuple. Kwargs are key word arguments, that get assigned by key word and they are passed in a dictionary."
   ]
  },
  {
   "cell_type": "markdown",
   "metadata": {},
   "source": [
    "Question 5: What is Python really? You can (and are encouraged) make comparisons to other technologies in your answer. Talk about benefits and downsides of using Python\n",
    "=="
   ]
  },
  {
   "cell_type": "markdown",
   "metadata": {},
   "source": [
    "Python is a modern dynamic (no type declarations needed), interpreted (no compiling), object-oriented programming language, largerly used for statistical computations and machine learing purposes. It is also commonly used for automation in cybersecurity. I belive Python can be optimized, made fasted by using C extensions. It is pretty fast ...but also not."
   ]
  },
  {
   "cell_type": "markdown",
   "metadata": {},
   "source": [
    "Question 6: How do you keep track of different versions of your code?\n",
    "=="
   ]
  },
  {
   "cell_type": "markdown",
   "metadata": {},
   "source": [
    "I use version control software like Git and Github, where I store/back up a version of each piece of code I wrote. This makes it easy to go back to older code version of certain project if needed to."
   ]
  },
  {
   "cell_type": "markdown",
   "metadata": {},
   "source": [
    "Question 7: Explain Decorators and why we would use them.\n",
    "=="
   ]
  },
  {
   "cell_type": "markdown",
   "metadata": {},
   "source": [
    "Decorators wrap around a function and give it additional functionality."
   ]
  },
  {
   "cell_type": "markdown",
   "metadata": {},
   "source": [
    "Question 8: What is the difference between “is” and “==”?\n",
    "=="
   ]
  },
  {
   "cell_type": "markdown",
   "metadata": {},
   "source": [
    "Identity Operators: Python identity operators (is, is not) are used to compare objects based on their identity. In the CPython interpreter, which you’re most likely to be using, the identity of an object refers to its location in memory. Other interpreters may have different ways of defining identity.   \n",
    "Equality Operators: Python equality operators (==, !=) are used to compare objects based on their values. It invokes the __eq__() class method of the left object which defines the rules for checking equality. But generally, these rules are defined such that if two objects have the same value irrespective of their memory locations, the equality operator == results in True."
   ]
  },
  {
   "cell_type": "markdown",
   "metadata": {},
   "source": [
    "Question 9: What does “self” refer to in a class?\n",
    "=="
   ]
  },
  {
   "cell_type": "markdown",
   "metadata": {},
   "source": [
    "self represents the instance of the class. By using the “self” keyword we can access the attributes and methods of the class in python. It binds the attributes with the given arguments."
   ]
  },
  {
   "cell_type": "markdown",
   "metadata": {},
   "source": [
    "Question 10: What is you favorite library in Python?\n",
    "=="
   ]
  },
  {
   "cell_type": "markdown",
   "metadata": {},
   "source": [
    "Pandas - because it is very useful in data frame manipulation. Pandas provides high-performance data manipulation and analysis tool using its powerful data structures. Python with Pandas is used in a wide range of fields including academic and commercial domains including finance, economics, Statistics, analytics, etc."
   ]
  },
  {
   "cell_type": "markdown",
   "metadata": {},
   "source": [
    "Question 11: Describe testing and Test Driven Development\n",
    "=="
   ]
  },
  {
   "cell_type": "markdown",
   "metadata": {},
   "source": [
    "Test Driven Development - create the test before the code for the product itself. Testing is done usually during each sprint in the SDLC. Testing every single little piece of code, as it is being written, ensures a better functionality and quality of the end product. Every time more code needs to be added, for example to add more features to an MVP, testing is completed to make sure the code works correctly. Usually the testing is done by different department/individuals, not the engineers who wrote the code."
   ]
  },
  {
   "cell_type": "markdown",
   "metadata": {},
   "source": [
    "Question 12:  Why would you use NumPy arrays instead of lists in Python?\n",
    "=="
   ]
  },
  {
   "cell_type": "markdown",
   "metadata": {},
   "source": [
    "NumPy arrays have more functionality than Lists and it also uses less space.    \n",
    "<!-- With numpy arrays we could work in a few dimentions, not just one. We could reshape, re-arrange, transpose and etc. and array, we could do way more things. With lists, we could do slicing, sorting and etc, but all these we could do with NumPy as well. -->"
   ]
  },
  {
   "cell_type": "markdown",
   "metadata": {},
   "source": [
    "Question 13: What is the python “with” statement designed for?\n",
    "=="
   ]
  },
  {
   "cell_type": "markdown",
   "metadata": {},
   "source": [
    "with statement in Python is used in exception handling to make the code cleaner and much more readable. Makes sure it opens and closes files correctly.   \n",
    "__enter__   __exit__\n",
    "\n",
    "with open('file_path', 'w') as file:  \\\n",
    "   file.write('hello world !')"
   ]
  },
  {
   "cell_type": "markdown",
   "metadata": {},
   "source": [
    "Question 14: How would describe a stack and queue?\n",
    "=="
   ]
  },
  {
   "cell_type": "markdown",
   "metadata": {},
   "source": [
    "STACK is LIFO - just like a stack of plates in a restaurant. The last one that was put on the top of the plate tower will also be the first one to be reoved. Queues are just the opposite - FIFO, first in first out, just like a line of people in the supermarket, the one that got on the line first will be the first one to get to the register to pay.   \n",
    "You can use a queue to handle events that take time to process so they dont have to run when theyre created. meaning you might not want a user visiting your website to wait for a response. so you can add their requests to a queue and the server will process it as it can\n"
   ]
  },
  {
   "cell_type": "code",
   "execution_count": null,
   "metadata": {},
   "outputs": [],
   "source": []
  }
 ],
 "metadata": {
  "kernelspec": {
   "display_name": "Python 3",
   "language": "python",
   "name": "python3"
  },
  "language_info": {
   "codemirror_mode": {
    "name": "ipython",
    "version": 3
   },
   "file_extension": ".py",
   "mimetype": "text/x-python",
   "name": "python",
   "nbconvert_exporter": "python",
   "pygments_lexer": "ipython3",
   "version": "3.8.3"
  }
 },
 "nbformat": 4,
 "nbformat_minor": 4
}
