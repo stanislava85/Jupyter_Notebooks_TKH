{
 "cells": [
  {
   "cell_type": "markdown",
   "metadata": {},
   "source": [
    "<div style=\"background: #000;\n",
    "            color: #FFF;\n",
    "            margin: 0px;\n",
    "            padding: 10px 0px 20px 0px;\n",
    "            text-align: center; \n",
    "                \">\n",
    "    <h1 >Week 19 Class 2 02/02</h1>\n",
    "</div>\n",
    "\n",
    "## Objectives for this week:\n",
    "* Data Visualizations continued\n",
    "\n",
    "## Todays Agenda\n",
    "* SQL\n",
    "* Working with different data (csv, xls, json, sql)\n",
    "* Inputting/outputting  data in numpy/pandas\n",
    "* Ways to visualize data\n",
    "\n",
    "\n",
    "\n"
   ]
  },
  {
   "cell_type": "markdown",
   "metadata": {},
   "source": [
    "<div style=\"background: #000;\n",
    "            color: #FFF;\n",
    "            margin: 0px;\n",
    "            padding: 10px 0px 20px 0px;\n",
    "            text-align: center; \n",
    "                \">\n",
    "    <h1 >Homework Problem</h1>\n",
    "</div>"
   ]
  },
  {
   "cell_type": "markdown",
   "metadata": {},
   "source": [
    "# Exercise 2\n",
    "\n",
    "In a array $A$ of size $2N$, there are $N+1$ unique elements, and exactly one of these elements is repeated $N$ times.\n",
    "\n",
    "Return the element repeated N times.\n",
    "\n",
    "\n",
    "\n",
    "Example 1:  \n",
    "Input: `[1,2,3,3]`\n",
    "Output: `3`\n",
    "\n",
    "Example 2:  \n",
    "Input: `[2,1,2,5,3,2]`\n",
    "Output: `2`\n",
    "\n",
    "Example 3:  \n",
    "Input: `[5,1,5,2,5,3,5,4]`\n",
    "Output: `5`\n",
    "\n"
   ]
  },
  {
   "cell_type": "code",
   "execution_count": 3,
   "metadata": {},
   "outputs": [
    {
     "name": "stdout",
     "output_type": "stream",
     "text": [
      "solution is correct\n"
     ]
    }
   ],
   "source": [
    "def ex2(l):\n",
    "    for i in l:\n",
    "        if l.count(i) > 1:\n",
    "            return i\n",
    "\n",
    "try:\n",
    "    assert(ex2([1,2,3,3]) == 3)\n",
    "    assert(ex2([2,1,2,5,3,2]) == 2)\n",
    "    assert(ex2([5,1,5,2,5,3,5,3]) == 5)\n",
    "    print(\"solution is correct\")\n",
    "except AssertionError:\n",
    "    print(\"solution is incorrect\")"
   ]
  },
  {
   "cell_type": "markdown",
   "metadata": {},
   "source": [
    "<div style=\"background: #000;\n",
    "            color: #FFF;\n",
    "            margin: 0px;\n",
    "            padding: 10px 0px 20px 0px;\n",
    "            text-align: center; \n",
    "                \">\n",
    "    <h1>SQL</h1>\n",
    "</div>"
   ]
  },
  {
   "cell_type": "code",
   "execution_count": null,
   "metadata": {},
   "outputs": [],
   "source": [
    "import sqlite3\n",
    "\n",
    "conn = sqlite3.connect(\".db\")"
   ]
  },
  {
   "cell_type": "code",
   "execution_count": 67,
   "metadata": {},
   "outputs": [
    {
     "name": "stdout",
     "output_type": "stream",
     "text": [
      "pragma table_info(Robert'); DROP TABLE students;);\n"
     ]
    }
   ],
   "source": [
    "# our sql script\n",
    "\n",
    "import sqlite3\n",
    "from contextlib import closing\n",
    "\n",
    "db = 'new.db'\n",
    "\n",
    "def connection(db_name=None):\n",
    "    conn = None\n",
    "    try:\n",
    "        db_name = db_name or ':memory:'\n",
    "        conn = sqlite3.connect(db_name)\n",
    "        return conn\n",
    "    except Exception as e:\n",
    "        print(e)\n",
    "\n",
    "def execute(db, cmd, commit=False):\n",
    "    with closing(connection(db)) as conn:\n",
    "        with closing(conn.cursor()) as cursor:\n",
    "            try:\n",
    "                cur = cursor.execute(cmd).fetchall()\n",
    "                if commit:\n",
    "                    conn.commit()\n",
    "                    print(\"commit successful\")\n",
    "                else:\n",
    "                    return cur\n",
    "            except Exception as e:\n",
    "                print(e)\n",
    "    \n",
    "                \n",
    "def get_tables(db):\n",
    "    rows = execute(db, \"SELECT name from sqlite_master where type='table';\")\n",
    "    return [i[0] for i in rows]\n",
    "\n",
    "def get_cols(db, table):\n",
    "    return execute(db, f\"pragma table_info({table});\")"
   ]
  },
  {
   "cell_type": "markdown",
   "metadata": {},
   "source": [
    "### `CREATE`\n",
    "\n",
    "```sql\n",
    "-- Create a table called tablename1, with the two columns shown, for\n",
    "-- the database currently in use. Lots of other options are available\n",
    "-- for how you specify the columns, such as their datatypes.\n",
    "CREATE TABLE tablename1 (fname VARCHAR(20), lname VARCHAR(20));\n",
    "```"
   ]
  },
  {
   "cell_type": "code",
   "execution_count": 69,
   "metadata": {},
   "outputs": [
    {
     "name": "stdout",
     "output_type": "stream",
     "text": [
      "commit successful\n"
     ]
    }
   ],
   "source": [
    "db = 'new.db'\n",
    "\n",
    "execute(db, 'CREATE TABLE tablename1 (fname VARCHAR(20) NOT NULL, lname VARCHAR(20) NOT NULL);',\\\n",
    "        commit=True)"
   ]
  },
  {
   "cell_type": "code",
   "execution_count": 70,
   "metadata": {},
   "outputs": [
    {
     "data": {
      "text/plain": [
       "['tablename1']"
      ]
     },
     "execution_count": 70,
     "metadata": {},
     "output_type": "execute_result"
    }
   ],
   "source": [
    "get_tables(db)"
   ]
  },
  {
   "cell_type": "code",
   "execution_count": 71,
   "metadata": {},
   "outputs": [
    {
     "data": {
      "text/plain": [
       "[(0, 'fname', 'VARCHAR(20)', 1, None, 0),\n",
       " (1, 'lname', 'VARCHAR(20)', 1, None, 0)]"
      ]
     },
     "execution_count": 71,
     "metadata": {},
     "output_type": "execute_result"
    }
   ],
   "source": [
    "get_cols(db, 'tablename1')"
   ]
  },
  {
   "cell_type": "markdown",
   "metadata": {},
   "source": [
    "### `INSERT`\n",
    "\n",
    "```sql\n",
    "-- Insert a row of data into the table tablename1. This assumes that the\n",
    "-- table has been defined to accept these values as appropriate for it.\n",
    "INSERT INTO tablename1 VALUES('Unknown','Person');\n",
    "```"
   ]
  },
  {
   "cell_type": "code",
   "execution_count": 77,
   "metadata": {},
   "outputs": [
    {
     "name": "stdout",
     "output_type": "stream",
     "text": [
      "commit successful\n"
     ]
    }
   ],
   "source": [
    "execute(db, \"INSERT INTO tablename1 VALUES('Unknown','Person');\", commit=True)"
   ]
  },
  {
   "cell_type": "code",
   "execution_count": 78,
   "metadata": {},
   "outputs": [
    {
     "data": {
      "text/plain": [
       "[('Unknown', 'Person'),\n",
       " ('Unknown', 'Person'),\n",
       " ('Unknown', 'Person'),\n",
       " ('Unknown', 'Person'),\n",
       " ('Unknown', 'Person'),\n",
       " ('Unknown', 'Person')]"
      ]
     },
     "execution_count": 78,
     "metadata": {},
     "output_type": "execute_result"
    }
   ],
   "source": [
    "execute(db, \"SELECT * FROM tablename1;\")"
   ]
  },
  {
   "cell_type": "markdown",
   "metadata": {},
   "source": [
    "### `UPDATE`\n",
    "\n",
    "```sql\n",
    "-- In tablename1, change the fname value to 'John' and lname value\n",
    "-- to 'Doe' for all rows that have an lname value of 'Person'.\n",
    "UPDATE tablename1 SET fname='John' lname='Doe' WHERE lname='Person';\n",
    "```"
   ]
  },
  {
   "cell_type": "code",
   "execution_count": 79,
   "metadata": {},
   "outputs": [
    {
     "name": "stdout",
     "output_type": "stream",
     "text": [
      "commit successful\n"
     ]
    }
   ],
   "source": [
    "execute(db, \"UPDATE tablename1 SET fname='John', lname='Doe' WHERE lname='Person';\", commit=True)"
   ]
  },
  {
   "cell_type": "code",
   "execution_count": 80,
   "metadata": {},
   "outputs": [
    {
     "data": {
      "text/plain": [
       "[('John', 'Doe'),\n",
       " ('John', 'Doe'),\n",
       " ('John', 'Doe'),\n",
       " ('John', 'Doe'),\n",
       " ('John', 'Doe'),\n",
       " ('John', 'Doe')]"
      ]
     },
     "execution_count": 80,
     "metadata": {},
     "output_type": "execute_result"
    }
   ],
   "source": [
    "execute(db, \"SELECT * FROM tablename1;\")"
   ]
  },
  {
   "cell_type": "markdown",
   "metadata": {},
   "source": [
    "### `DELETE`\n",
    "```sql\n",
    "-- Delete rows from the tablename1 table\n",
    "-- where the lname value begins with 'M'.\n",
    "DELETE FROM tablename1 WHERE lname like 'D%';\n",
    "```"
   ]
  },
  {
   "cell_type": "code",
   "execution_count": null,
   "metadata": {},
   "outputs": [],
   "source": []
  },
  {
   "cell_type": "code",
   "execution_count": 34,
   "metadata": {},
   "outputs": [
    {
     "name": "stdout",
     "output_type": "stream",
     "text": [
      "commit successful\n"
     ]
    }
   ],
   "source": [
    "execute(db, \"DELETE FROM tablename1 WHERE lname like 'D%';\", \\\n",
    "        commit=True)"
   ]
  },
  {
   "cell_type": "code",
   "execution_count": null,
   "metadata": {},
   "outputs": [],
   "source": []
  },
  {
   "cell_type": "code",
   "execution_count": 57,
   "metadata": {},
   "outputs": [
    {
     "data": {
      "text/plain": [
       "[('John', 'Doe'),\n",
       " ('John', 'Doe'),\n",
       " ('John', 'Doe'),\n",
       " ('John', 'Doe'),\n",
       " ('John', 'Doe')]"
      ]
     },
     "execution_count": 57,
     "metadata": {},
     "output_type": "execute_result"
    }
   ],
   "source": [
    "execute(db, \"SELECT * FROM tablename1;\")"
   ]
  },
  {
   "cell_type": "markdown",
   "metadata": {},
   "source": [
    "```sql\n",
    "-- Delete all rows from the tablename1 table, leaving the empty table.\n",
    "DELETE FROM tablename1;\n",
    "```"
   ]
  },
  {
   "cell_type": "code",
   "execution_count": 58,
   "metadata": {},
   "outputs": [
    {
     "name": "stdout",
     "output_type": "stream",
     "text": [
      "commit successful\n"
     ]
    }
   ],
   "source": [
    "execute(db, \"DELETE FROM tablename1;\", commit=True)"
   ]
  },
  {
   "cell_type": "code",
   "execution_count": 60,
   "metadata": {},
   "outputs": [
    {
     "data": {
      "text/plain": [
       "[]"
      ]
     },
     "execution_count": 60,
     "metadata": {},
     "output_type": "execute_result"
    }
   ],
   "source": [
    "execute(db, \"SELECT * FROM tablename1;\")"
   ]
  },
  {
   "cell_type": "markdown",
   "metadata": {},
   "source": [
    "```sql\n",
    "-- Remove the entire tablename1 table.\n",
    "DROP TABLE tablename1;\n",
    "\n",
    "```"
   ]
  },
  {
   "cell_type": "code",
   "execution_count": 92,
   "metadata": {},
   "outputs": [
    {
     "name": "stdout",
     "output_type": "stream",
     "text": [
      "commit successful\n"
     ]
    }
   ],
   "source": [
    "execute(db, \"DROP TABLE tablename1;\", commit=True)"
   ]
  },
  {
   "cell_type": "code",
   "execution_count": 83,
   "metadata": {},
   "outputs": [
    {
     "name": "stdout",
     "output_type": "stream",
     "text": [
      "no such table: tablename1\n"
     ]
    }
   ],
   "source": [
    "execute(db, \"SELECT * FROM tablename1;\")"
   ]
  },
  {
   "cell_type": "markdown",
   "metadata": {},
   "source": [
    "### Restarting With Primary key\n",
    "\n",
    "We need to change our `CREATE` command:\n",
    "\n",
    "```sql\n",
    "-- Create a table called tablename1, with the two columns shown, for\n",
    "-- the database currently in use. Lots of other options are available\n",
    "-- for how you specify the columns, such as their datatypes.\n",
    "CREATE TABLE tablename1 (\n",
    "    id INTEGER PRIMARY KEY,\n",
    "    fname VARCHAR(20), \n",
    "    lname VARCHAR(20)\n",
    ");\n",
    "\n",
    "```"
   ]
  },
  {
   "cell_type": "code",
   "execution_count": 88,
   "metadata": {},
   "outputs": [
    {
     "data": {
      "text/plain": [
       "['tablename1']"
      ]
     },
     "execution_count": 88,
     "metadata": {},
     "output_type": "execute_result"
    }
   ],
   "source": [
    "# our sql script\n",
    "\n",
    "import sqlite3\n",
    "from contextlib import closing\n",
    "\n",
    "db = 'new.db'\n",
    "\n",
    "def connection(db_name=None):\n",
    "    conn = None\n",
    "    try:\n",
    "        db_name = db_name or ':memory:'\n",
    "        conn = sqlite3.connect(db_name)\n",
    "        return conn\n",
    "    except Exception as e:\n",
    "        print(e)\n",
    "\n",
    "def execute(db, cmd, commit=False):\n",
    "    with closing(connection(db)) as conn:\n",
    "        with closing(conn.cursor()) as cursor:\n",
    "            try:\n",
    "                cur = cursor.execute(cmd).fetchall()\n",
    "                if commit:\n",
    "                    conn.commit()\n",
    "                    print(\"commit successful\")\n",
    "                else:\n",
    "                    return cur\n",
    "            except Exception as e:\n",
    "                print(e)\n",
    "    \n",
    "                \n",
    "def get_tables(db):\n",
    "    rows = execute(db, \"SELECT name from sqlite_master where type='table';\")\n",
    "    return [i[0] for i in rows]\n",
    "\n",
    "def get_cols(db, table):\n",
    "    return execute(db, f\"pragma table_info({table});\")\n",
    "    \n",
    "\n",
    "get_tables(db)"
   ]
  },
  {
   "cell_type": "markdown",
   "metadata": {},
   "source": [
    "### `CREATE`\n",
    "\n",
    "```sql\n",
    "-- Create a table called tablename1, with the two columns shown, for\n",
    "-- the database currently in use. Lots of other options are available\n",
    "-- for how you specify the columns, such as their datatypes.\n",
    "CREATE TABLE tablename1 (id INTEGER PRIMARY KEY, fname VARCHAR(20), lname VARCHAR(20));\n",
    "```"
   ]
  },
  {
   "cell_type": "code",
   "execution_count": 147,
   "metadata": {},
   "outputs": [
    {
     "name": "stdout",
     "output_type": "stream",
     "text": [
      "commit successful\n"
     ]
    }
   ],
   "source": [
    "db = 'new.db'\n",
    "\n",
    "execute(db, 'CREATE TABLE tablename1\\\n",
    "            (id INTEGER PRIMARY KEY, \\\n",
    "             fname VARCHAR(20) NOT NULL, \\\n",
    "             lname VARCHAR(20) NOT NULL);',\\\n",
    "        commit=True)"
   ]
  },
  {
   "cell_type": "code",
   "execution_count": 148,
   "metadata": {},
   "outputs": [
    {
     "data": {
      "text/plain": [
       "['tablename1']"
      ]
     },
     "execution_count": 148,
     "metadata": {},
     "output_type": "execute_result"
    }
   ],
   "source": [
    "get_tables(db)"
   ]
  },
  {
   "cell_type": "markdown",
   "metadata": {},
   "source": [
    "### `INSERT`\n",
    "\n",
    "```sql\n",
    "-- Insert a row of data into the table tablename1. This assumes that the\n",
    "-- table has been defined to accept these values as appropriate for it.\n",
    "INSERT INTO tablename1 VALUES('Unknown','Person');\n",
    "```"
   ]
  },
  {
   "cell_type": "code",
   "execution_count": 149,
   "metadata": {},
   "outputs": [
    {
     "name": "stdout",
     "output_type": "stream",
     "text": [
      "NOT NULL constraint failed: tablename1.lname\n"
     ]
    }
   ],
   "source": [
    "execute(db, \"INSERT INTO tablename1 \\\n",
    "             VALUES(Null,'Unknown', Null);\", commit=True)"
   ]
  },
  {
   "cell_type": "code",
   "execution_count": 143,
   "metadata": {},
   "outputs": [
    {
     "data": {
      "text/plain": [
       "[(1, 'Unknown', None)]"
      ]
     },
     "execution_count": 143,
     "metadata": {},
     "output_type": "execute_result"
    }
   ],
   "source": [
    "execute(db, \"SELECT * FROM tablename1;\")"
   ]
  },
  {
   "cell_type": "markdown",
   "metadata": {},
   "source": [
    "### `UPDATE`\n",
    "\n",
    "```sql\n",
    "-- In tablename1, change the fname value to 'John' and lname value\n",
    "-- to 'Doe' for all rows that have an lname value of 'Person'.\n",
    "UPDATE tablename1 SET fname='John' lname='Doe' WHERE id=1;\n",
    "```"
   ]
  },
  {
   "cell_type": "code",
   "execution_count": 120,
   "metadata": {},
   "outputs": [
    {
     "name": "stdout",
     "output_type": "stream",
     "text": [
      "commit successful\n"
     ]
    }
   ],
   "source": [
    "execute(db, \"UPDATE tablename1 SET fname='John', lname='Doe' WHERE id = 10;\", commit=True)"
   ]
  },
  {
   "cell_type": "code",
   "execution_count": 121,
   "metadata": {},
   "outputs": [
    {
     "data": {
      "text/plain": [
       "[(1, 'John', 'Doe'),\n",
       " (2, 'Unknown', 'Person'),\n",
       " (3, 'Unknown', 'Person'),\n",
       " (4, 'Unknown', 'Person'),\n",
       " (5, 'Unknown', 'Person'),\n",
       " (6, 'Unknown', 'Person'),\n",
       " (10, 'John', 'Doe'),\n",
       " (11, 'Unknown', 'Person'),\n",
       " (12, 'Unknown', 'Person'),\n",
       " (13, 'Unknown', 'Person'),\n",
       " (14, 'Unknown', 'Person'),\n",
       " (15, 'Unknown', 'Person'),\n",
       " (16, 'Unknown', 'Person'),\n",
       " (17, 'Unknown', 'Person')]"
      ]
     },
     "execution_count": 121,
     "metadata": {},
     "output_type": "execute_result"
    }
   ],
   "source": [
    "execute(db, \"SELECT * FROM tablename1;\")"
   ]
  },
  {
   "cell_type": "markdown",
   "metadata": {},
   "source": [
    "### `DELETE`\n",
    "```sql\n",
    "-- Delete rows from the tablename1 table\n",
    "-- where the lname value begins with 'M'.\n",
    "DELETE FROM tablename1 WHERE id=3;\n",
    "```"
   ]
  },
  {
   "cell_type": "code",
   "execution_count": 124,
   "metadata": {},
   "outputs": [
    {
     "name": "stdout",
     "output_type": "stream",
     "text": [
      "commit successful\n"
     ]
    }
   ],
   "source": [
    "execute(db, \"DELETE FROM tablename1 WHERE id > 3;\", \\\n",
    "        commit=True)"
   ]
  },
  {
   "cell_type": "code",
   "execution_count": 126,
   "metadata": {},
   "outputs": [
    {
     "data": {
      "text/plain": [
       "[(1, 'John', 'Doe'), (2, 'Unknown', 'Person')]"
      ]
     },
     "execution_count": 126,
     "metadata": {},
     "output_type": "execute_result"
    }
   ],
   "source": [
    "execute(db, \"SELECT * FROM tablename1;\")"
   ]
  },
  {
   "cell_type": "markdown",
   "metadata": {},
   "source": [
    "```sql\n",
    "-- Delete all rows from the tablename1 table, leaving the empty table.\n",
    "DELETE FROM tablename1;\n",
    "```"
   ]
  },
  {
   "cell_type": "code",
   "execution_count": 144,
   "metadata": {},
   "outputs": [
    {
     "name": "stdout",
     "output_type": "stream",
     "text": [
      "commit successful\n"
     ]
    }
   ],
   "source": [
    "execute(db, \"DELETE FROM tablename1;\", commit=True)"
   ]
  },
  {
   "cell_type": "code",
   "execution_count": 128,
   "metadata": {},
   "outputs": [
    {
     "data": {
      "text/plain": [
       "[]"
      ]
     },
     "execution_count": 128,
     "metadata": {},
     "output_type": "execute_result"
    }
   ],
   "source": [
    "execute(db, \"SELECT * FROM tablename1;\")"
   ]
  },
  {
   "cell_type": "markdown",
   "metadata": {},
   "source": [
    "```sql\n",
    "-- Remove the entire tablename1 table.\n",
    "DROP TABLE tablename1;\n",
    "\n",
    "```"
   ]
  },
  {
   "cell_type": "code",
   "execution_count": 145,
   "metadata": {},
   "outputs": [
    {
     "name": "stdout",
     "output_type": "stream",
     "text": [
      "commit successful\n"
     ]
    }
   ],
   "source": [
    "execute(db, \"DROP TABLE tablename1;\", commit=True)"
   ]
  },
  {
   "cell_type": "code",
   "execution_count": 146,
   "metadata": {},
   "outputs": [
    {
     "name": "stdout",
     "output_type": "stream",
     "text": [
      "no such table: tablename1\n"
     ]
    }
   ],
   "source": [
    "execute(db, \"SELECT * FROM tablename1;\")"
   ]
  },
  {
   "cell_type": "markdown",
   "metadata": {},
   "source": [
    "# Using SQL with pandas"
   ]
  },
  {
   "cell_type": "markdown",
   "metadata": {},
   "source": [
    "### Importing from an sql db\n",
    "\n",
    "We'll need to import our libraries and connect to our db."
   ]
  },
  {
   "cell_type": "code",
   "execution_count": 152,
   "metadata": {},
   "outputs": [],
   "source": [
    "import pandas as pd\n",
    "import sqlite3 as sql"
   ]
  },
  {
   "cell_type": "code",
   "execution_count": 153,
   "metadata": {},
   "outputs": [],
   "source": [
    "def connection(db_name=None):\n",
    "    conn = None\n",
    "    try:\n",
    "        db_name = db_name or ':memory:'\n",
    "        conn = sqlite3.connect(db_name)\n",
    "        return conn\n",
    "    except Exception as e:\n",
    "        print(e)"
   ]
  },
  {
   "cell_type": "code",
   "execution_count": 181,
   "metadata": {},
   "outputs": [],
   "source": [
    "db = '../datasets/chinook.db'\n",
    "conn = connection(db)"
   ]
  },
  {
   "cell_type": "code",
   "execution_count": 155,
   "metadata": {},
   "outputs": [
    {
     "data": {
      "text/plain": [
       "<sqlite3.Connection at 0x789be73d0d50>"
      ]
     },
     "execution_count": 155,
     "metadata": {},
     "output_type": "execute_result"
    }
   ],
   "source": [
    "conn"
   ]
  },
  {
   "cell_type": "markdown",
   "metadata": {},
   "source": [
    "Then we can use `read_sql` to connect to our database.\n",
    "\n",
    "`read_sql(query, conn)`\n",
    "\n",
    "We'll need to pass in an SQL query to get information and the db connection."
   ]
  },
  {
   "cell_type": "code",
   "execution_count": 157,
   "metadata": {},
   "outputs": [
    {
     "name": "stdout",
     "output_type": "stream",
     "text": [
      "Help on function read_sql_table in module pandas.io.sql:\n",
      "\n",
      "read_sql_table(table_name, con, schema=None, index_col=None, coerce_float=True, parse_dates=None, columns=None, chunksize: Optional[int] = None) -> Union[pandas.core.frame.DataFrame, Iterator[pandas.core.frame.DataFrame]]\n",
      "    Read SQL database table into a DataFrame.\n",
      "    \n",
      "    Given a table name and a SQLAlchemy connectable, returns a DataFrame.\n",
      "    This function does not support DBAPI connections.\n",
      "    \n",
      "    Parameters\n",
      "    ----------\n",
      "    table_name : str\n",
      "        Name of SQL table in database.\n",
      "    con : SQLAlchemy connectable or str\n",
      "        A database URI could be provided as str.\n",
      "        SQLite DBAPI connection mode not supported.\n",
      "    schema : str, default None\n",
      "        Name of SQL schema in database to query (if database flavor\n",
      "        supports this). Uses default schema if None (default).\n",
      "    index_col : str or list of str, optional, default: None\n",
      "        Column(s) to set as index(MultiIndex).\n",
      "    coerce_float : bool, default True\n",
      "        Attempts to convert values of non-string, non-numeric objects (like\n",
      "        decimal.Decimal) to floating point. Can result in loss of Precision.\n",
      "    parse_dates : list or dict, default None\n",
      "        - List of column names to parse as dates.\n",
      "        - Dict of ``{column_name: format string}`` where format string is\n",
      "          strftime compatible in case of parsing string times or is one of\n",
      "          (D, s, ns, ms, us) in case of parsing integer timestamps.\n",
      "        - Dict of ``{column_name: arg dict}``, where the arg dict corresponds\n",
      "          to the keyword arguments of :func:`pandas.to_datetime`\n",
      "          Especially useful with databases without native Datetime support,\n",
      "          such as SQLite.\n",
      "    columns : list, default None\n",
      "        List of column names to select from SQL table.\n",
      "    chunksize : int, default None\n",
      "        If specified, returns an iterator where `chunksize` is the number of\n",
      "        rows to include in each chunk.\n",
      "    \n",
      "    Returns\n",
      "    -------\n",
      "    DataFrame or Iterator[DataFrame]\n",
      "        A SQL table is returned as two-dimensional data structure with labeled\n",
      "        axes.\n",
      "    \n",
      "    See Also\n",
      "    --------\n",
      "    read_sql_query : Read SQL query into a DataFrame.\n",
      "    read_sql : Read SQL query or database table into a DataFrame.\n",
      "    \n",
      "    Notes\n",
      "    -----\n",
      "    Any datetime values with time zone information will be converted to UTC.\n",
      "    \n",
      "    Examples\n",
      "    --------\n",
      "    >>> pd.read_sql_table('table_name', 'postgres:///db_name')  # doctest:+SKIP\n",
      "\n"
     ]
    }
   ],
   "source": [
    "help(pd.read_sql_table)"
   ]
  },
  {
   "cell_type": "code",
   "execution_count": 182,
   "metadata": {},
   "outputs": [
    {
     "data": {
      "text/html": [
       "<div>\n",
       "<style scoped>\n",
       "    .dataframe tbody tr th:only-of-type {\n",
       "        vertical-align: middle;\n",
       "    }\n",
       "\n",
       "    .dataframe tbody tr th {\n",
       "        vertical-align: top;\n",
       "    }\n",
       "\n",
       "    .dataframe thead th {\n",
       "        text-align: right;\n",
       "    }\n",
       "</style>\n",
       "<table border=\"1\" class=\"dataframe\">\n",
       "  <thead>\n",
       "    <tr style=\"text-align: right;\">\n",
       "      <th></th>\n",
       "      <th>EmployeeId</th>\n",
       "      <th>LastName</th>\n",
       "      <th>FirstName</th>\n",
       "      <th>Title</th>\n",
       "      <th>ReportsTo</th>\n",
       "      <th>BirthDate</th>\n",
       "      <th>HireDate</th>\n",
       "      <th>Address</th>\n",
       "      <th>City</th>\n",
       "      <th>State</th>\n",
       "      <th>Country</th>\n",
       "      <th>PostalCode</th>\n",
       "      <th>Phone</th>\n",
       "      <th>Fax</th>\n",
       "      <th>Email</th>\n",
       "    </tr>\n",
       "  </thead>\n",
       "  <tbody>\n",
       "    <tr>\n",
       "      <th>0</th>\n",
       "      <td>1</td>\n",
       "      <td>Adams</td>\n",
       "      <td>Andrew</td>\n",
       "      <td>General Manager</td>\n",
       "      <td>NaN</td>\n",
       "      <td>1962-02-18 00:00:00</td>\n",
       "      <td>2002-08-14 00:00:00</td>\n",
       "      <td>11120 Jasper Ave NW</td>\n",
       "      <td>Edmonton</td>\n",
       "      <td>AB</td>\n",
       "      <td>Canada</td>\n",
       "      <td>T5K 2N1</td>\n",
       "      <td>+1 (780) 428-9482</td>\n",
       "      <td>+1 (780) 428-3457</td>\n",
       "      <td>andrew@chinookcorp.com</td>\n",
       "    </tr>\n",
       "    <tr>\n",
       "      <th>1</th>\n",
       "      <td>2</td>\n",
       "      <td>Edwards</td>\n",
       "      <td>Nancy</td>\n",
       "      <td>Sales Manager</td>\n",
       "      <td>1.0</td>\n",
       "      <td>1958-12-08 00:00:00</td>\n",
       "      <td>2002-05-01 00:00:00</td>\n",
       "      <td>825 8 Ave SW</td>\n",
       "      <td>Calgary</td>\n",
       "      <td>AB</td>\n",
       "      <td>Canada</td>\n",
       "      <td>T2P 2T3</td>\n",
       "      <td>+1 (403) 262-3443</td>\n",
       "      <td>+1 (403) 262-3322</td>\n",
       "      <td>nancy@chinookcorp.com</td>\n",
       "    </tr>\n",
       "    <tr>\n",
       "      <th>2</th>\n",
       "      <td>3</td>\n",
       "      <td>Peacock</td>\n",
       "      <td>Jane</td>\n",
       "      <td>Sales Support Agent</td>\n",
       "      <td>2.0</td>\n",
       "      <td>1973-08-29 00:00:00</td>\n",
       "      <td>2002-04-01 00:00:00</td>\n",
       "      <td>1111 6 Ave SW</td>\n",
       "      <td>Calgary</td>\n",
       "      <td>AB</td>\n",
       "      <td>Canada</td>\n",
       "      <td>T2P 5M5</td>\n",
       "      <td>+1 (403) 262-3443</td>\n",
       "      <td>+1 (403) 262-6712</td>\n",
       "      <td>jane@chinookcorp.com</td>\n",
       "    </tr>\n",
       "    <tr>\n",
       "      <th>3</th>\n",
       "      <td>4</td>\n",
       "      <td>Park</td>\n",
       "      <td>Margaret</td>\n",
       "      <td>Sales Support Agent</td>\n",
       "      <td>2.0</td>\n",
       "      <td>1947-09-19 00:00:00</td>\n",
       "      <td>2003-05-03 00:00:00</td>\n",
       "      <td>683 10 Street SW</td>\n",
       "      <td>Calgary</td>\n",
       "      <td>AB</td>\n",
       "      <td>Canada</td>\n",
       "      <td>T2P 5G3</td>\n",
       "      <td>+1 (403) 263-4423</td>\n",
       "      <td>+1 (403) 263-4289</td>\n",
       "      <td>margaret@chinookcorp.com</td>\n",
       "    </tr>\n",
       "    <tr>\n",
       "      <th>4</th>\n",
       "      <td>5</td>\n",
       "      <td>Johnson</td>\n",
       "      <td>Steve</td>\n",
       "      <td>Sales Support Agent</td>\n",
       "      <td>2.0</td>\n",
       "      <td>1965-03-03 00:00:00</td>\n",
       "      <td>2003-10-17 00:00:00</td>\n",
       "      <td>7727B 41 Ave</td>\n",
       "      <td>Calgary</td>\n",
       "      <td>AB</td>\n",
       "      <td>Canada</td>\n",
       "      <td>T3B 1Y7</td>\n",
       "      <td>1 (780) 836-9987</td>\n",
       "      <td>1 (780) 836-9543</td>\n",
       "      <td>steve@chinookcorp.com</td>\n",
       "    </tr>\n",
       "    <tr>\n",
       "      <th>5</th>\n",
       "      <td>6</td>\n",
       "      <td>Mitchell</td>\n",
       "      <td>Michael</td>\n",
       "      <td>IT Manager</td>\n",
       "      <td>1.0</td>\n",
       "      <td>1973-07-01 00:00:00</td>\n",
       "      <td>2003-10-17 00:00:00</td>\n",
       "      <td>5827 Bowness Road NW</td>\n",
       "      <td>Calgary</td>\n",
       "      <td>AB</td>\n",
       "      <td>Canada</td>\n",
       "      <td>T3B 0C5</td>\n",
       "      <td>+1 (403) 246-9887</td>\n",
       "      <td>+1 (403) 246-9899</td>\n",
       "      <td>michael@chinookcorp.com</td>\n",
       "    </tr>\n",
       "    <tr>\n",
       "      <th>6</th>\n",
       "      <td>7</td>\n",
       "      <td>King</td>\n",
       "      <td>Robert</td>\n",
       "      <td>IT Staff</td>\n",
       "      <td>6.0</td>\n",
       "      <td>1970-05-29 00:00:00</td>\n",
       "      <td>2004-01-02 00:00:00</td>\n",
       "      <td>590 Columbia Boulevard West</td>\n",
       "      <td>Lethbridge</td>\n",
       "      <td>AB</td>\n",
       "      <td>Canada</td>\n",
       "      <td>T1K 5N8</td>\n",
       "      <td>+1 (403) 456-9986</td>\n",
       "      <td>+1 (403) 456-8485</td>\n",
       "      <td>robert@chinookcorp.com</td>\n",
       "    </tr>\n",
       "    <tr>\n",
       "      <th>7</th>\n",
       "      <td>8</td>\n",
       "      <td>Callahan</td>\n",
       "      <td>Laura</td>\n",
       "      <td>IT Staff</td>\n",
       "      <td>6.0</td>\n",
       "      <td>1968-01-09 00:00:00</td>\n",
       "      <td>2004-03-04 00:00:00</td>\n",
       "      <td>923 7 ST NW</td>\n",
       "      <td>Lethbridge</td>\n",
       "      <td>AB</td>\n",
       "      <td>Canada</td>\n",
       "      <td>T1H 1Y8</td>\n",
       "      <td>+1 (403) 467-3351</td>\n",
       "      <td>+1 (403) 467-8772</td>\n",
       "      <td>laura@chinookcorp.com</td>\n",
       "    </tr>\n",
       "  </tbody>\n",
       "</table>\n",
       "</div>"
      ],
      "text/plain": [
       "   EmployeeId  LastName FirstName                Title  ReportsTo  \\\n",
       "0           1     Adams    Andrew      General Manager        NaN   \n",
       "1           2   Edwards     Nancy        Sales Manager        1.0   \n",
       "2           3   Peacock      Jane  Sales Support Agent        2.0   \n",
       "3           4      Park  Margaret  Sales Support Agent        2.0   \n",
       "4           5   Johnson     Steve  Sales Support Agent        2.0   \n",
       "5           6  Mitchell   Michael           IT Manager        1.0   \n",
       "6           7      King    Robert             IT Staff        6.0   \n",
       "7           8  Callahan     Laura             IT Staff        6.0   \n",
       "\n",
       "             BirthDate             HireDate                      Address  \\\n",
       "0  1962-02-18 00:00:00  2002-08-14 00:00:00          11120 Jasper Ave NW   \n",
       "1  1958-12-08 00:00:00  2002-05-01 00:00:00                 825 8 Ave SW   \n",
       "2  1973-08-29 00:00:00  2002-04-01 00:00:00                1111 6 Ave SW   \n",
       "3  1947-09-19 00:00:00  2003-05-03 00:00:00             683 10 Street SW   \n",
       "4  1965-03-03 00:00:00  2003-10-17 00:00:00                 7727B 41 Ave   \n",
       "5  1973-07-01 00:00:00  2003-10-17 00:00:00         5827 Bowness Road NW   \n",
       "6  1970-05-29 00:00:00  2004-01-02 00:00:00  590 Columbia Boulevard West   \n",
       "7  1968-01-09 00:00:00  2004-03-04 00:00:00                  923 7 ST NW   \n",
       "\n",
       "         City State Country PostalCode              Phone                Fax  \\\n",
       "0    Edmonton    AB  Canada    T5K 2N1  +1 (780) 428-9482  +1 (780) 428-3457   \n",
       "1     Calgary    AB  Canada    T2P 2T3  +1 (403) 262-3443  +1 (403) 262-3322   \n",
       "2     Calgary    AB  Canada    T2P 5M5  +1 (403) 262-3443  +1 (403) 262-6712   \n",
       "3     Calgary    AB  Canada    T2P 5G3  +1 (403) 263-4423  +1 (403) 263-4289   \n",
       "4     Calgary    AB  Canada    T3B 1Y7   1 (780) 836-9987   1 (780) 836-9543   \n",
       "5     Calgary    AB  Canada    T3B 0C5  +1 (403) 246-9887  +1 (403) 246-9899   \n",
       "6  Lethbridge    AB  Canada    T1K 5N8  +1 (403) 456-9986  +1 (403) 456-8485   \n",
       "7  Lethbridge    AB  Canada    T1H 1Y8  +1 (403) 467-3351  +1 (403) 467-8772   \n",
       "\n",
       "                      Email  \n",
       "0    andrew@chinookcorp.com  \n",
       "1     nancy@chinookcorp.com  \n",
       "2      jane@chinookcorp.com  \n",
       "3  margaret@chinookcorp.com  \n",
       "4     steve@chinookcorp.com  \n",
       "5   michael@chinookcorp.com  \n",
       "6    robert@chinookcorp.com  \n",
       "7     laura@chinookcorp.com  "
      ]
     },
     "execution_count": 182,
     "metadata": {},
     "output_type": "execute_result"
    }
   ],
   "source": [
    "employees = pd.read_sql(\"SELECT * from employees\", conn)\n",
    "employees"
   ]
  },
  {
   "cell_type": "code",
   "execution_count": 183,
   "metadata": {
    "scrolled": true
   },
   "outputs": [
    {
     "data": {
      "text/html": [
       "<div>\n",
       "<style scoped>\n",
       "    .dataframe tbody tr th:only-of-type {\n",
       "        vertical-align: middle;\n",
       "    }\n",
       "\n",
       "    .dataframe tbody tr th {\n",
       "        vertical-align: top;\n",
       "    }\n",
       "\n",
       "    .dataframe thead th {\n",
       "        text-align: right;\n",
       "    }\n",
       "</style>\n",
       "<table border=\"1\" class=\"dataframe\">\n",
       "  <thead>\n",
       "    <tr style=\"text-align: right;\">\n",
       "      <th></th>\n",
       "      <th>CustomerId</th>\n",
       "      <th>FirstName</th>\n",
       "      <th>LastName</th>\n",
       "      <th>Company</th>\n",
       "      <th>Address</th>\n",
       "      <th>City</th>\n",
       "      <th>State</th>\n",
       "      <th>Country</th>\n",
       "      <th>PostalCode</th>\n",
       "      <th>Phone</th>\n",
       "      <th>Fax</th>\n",
       "      <th>Email</th>\n",
       "      <th>SupportRepId</th>\n",
       "    </tr>\n",
       "  </thead>\n",
       "  <tbody>\n",
       "    <tr>\n",
       "      <th>0</th>\n",
       "      <td>1</td>\n",
       "      <td>Luís</td>\n",
       "      <td>Gonçalves</td>\n",
       "      <td>Embraer - Empresa Brasileira de Aeronáutica S.A.</td>\n",
       "      <td>Av. Brigadeiro Faria Lima, 2170</td>\n",
       "      <td>São José dos Campos</td>\n",
       "      <td>SP</td>\n",
       "      <td>Brazil</td>\n",
       "      <td>12227-000</td>\n",
       "      <td>+55 (12) 3923-5555</td>\n",
       "      <td>+55 (12) 3923-5566</td>\n",
       "      <td>luisg@embraer.com.br</td>\n",
       "      <td>3</td>\n",
       "    </tr>\n",
       "    <tr>\n",
       "      <th>1</th>\n",
       "      <td>2</td>\n",
       "      <td>Leonie</td>\n",
       "      <td>Köhler</td>\n",
       "      <td>None</td>\n",
       "      <td>Theodor-Heuss-Straße 34</td>\n",
       "      <td>Stuttgart</td>\n",
       "      <td>None</td>\n",
       "      <td>Germany</td>\n",
       "      <td>70174</td>\n",
       "      <td>+49 0711 2842222</td>\n",
       "      <td>None</td>\n",
       "      <td>leonekohler@surfeu.de</td>\n",
       "      <td>5</td>\n",
       "    </tr>\n",
       "    <tr>\n",
       "      <th>2</th>\n",
       "      <td>3</td>\n",
       "      <td>François</td>\n",
       "      <td>Tremblay</td>\n",
       "      <td>None</td>\n",
       "      <td>1498 rue Bélanger</td>\n",
       "      <td>Montréal</td>\n",
       "      <td>QC</td>\n",
       "      <td>Canada</td>\n",
       "      <td>H2G 1A7</td>\n",
       "      <td>+1 (514) 721-4711</td>\n",
       "      <td>None</td>\n",
       "      <td>ftremblay@gmail.com</td>\n",
       "      <td>3</td>\n",
       "    </tr>\n",
       "    <tr>\n",
       "      <th>3</th>\n",
       "      <td>4</td>\n",
       "      <td>Bjørn</td>\n",
       "      <td>Hansen</td>\n",
       "      <td>None</td>\n",
       "      <td>Ullevålsveien 14</td>\n",
       "      <td>Oslo</td>\n",
       "      <td>None</td>\n",
       "      <td>Norway</td>\n",
       "      <td>0171</td>\n",
       "      <td>+47 22 44 22 22</td>\n",
       "      <td>None</td>\n",
       "      <td>bjorn.hansen@yahoo.no</td>\n",
       "      <td>4</td>\n",
       "    </tr>\n",
       "    <tr>\n",
       "      <th>4</th>\n",
       "      <td>5</td>\n",
       "      <td>František</td>\n",
       "      <td>Wichterlová</td>\n",
       "      <td>JetBrains s.r.o.</td>\n",
       "      <td>Klanova 9/506</td>\n",
       "      <td>Prague</td>\n",
       "      <td>None</td>\n",
       "      <td>Czech Republic</td>\n",
       "      <td>14700</td>\n",
       "      <td>+420 2 4172 5555</td>\n",
       "      <td>+420 2 4172 5555</td>\n",
       "      <td>frantisekw@jetbrains.com</td>\n",
       "      <td>4</td>\n",
       "    </tr>\n",
       "    <tr>\n",
       "      <th>5</th>\n",
       "      <td>6</td>\n",
       "      <td>Helena</td>\n",
       "      <td>Holý</td>\n",
       "      <td>None</td>\n",
       "      <td>Rilská 3174/6</td>\n",
       "      <td>Prague</td>\n",
       "      <td>None</td>\n",
       "      <td>Czech Republic</td>\n",
       "      <td>14300</td>\n",
       "      <td>+420 2 4177 0449</td>\n",
       "      <td>None</td>\n",
       "      <td>hholy@gmail.com</td>\n",
       "      <td>5</td>\n",
       "    </tr>\n",
       "    <tr>\n",
       "      <th>6</th>\n",
       "      <td>7</td>\n",
       "      <td>Astrid</td>\n",
       "      <td>Gruber</td>\n",
       "      <td>None</td>\n",
       "      <td>Rotenturmstraße 4, 1010 Innere Stadt</td>\n",
       "      <td>Vienne</td>\n",
       "      <td>None</td>\n",
       "      <td>Austria</td>\n",
       "      <td>1010</td>\n",
       "      <td>+43 01 5134505</td>\n",
       "      <td>None</td>\n",
       "      <td>astrid.gruber@apple.at</td>\n",
       "      <td>5</td>\n",
       "    </tr>\n",
       "    <tr>\n",
       "      <th>7</th>\n",
       "      <td>8</td>\n",
       "      <td>Daan</td>\n",
       "      <td>Peeters</td>\n",
       "      <td>None</td>\n",
       "      <td>Grétrystraat 63</td>\n",
       "      <td>Brussels</td>\n",
       "      <td>None</td>\n",
       "      <td>Belgium</td>\n",
       "      <td>1000</td>\n",
       "      <td>+32 02 219 03 03</td>\n",
       "      <td>None</td>\n",
       "      <td>daan_peeters@apple.be</td>\n",
       "      <td>4</td>\n",
       "    </tr>\n",
       "    <tr>\n",
       "      <th>8</th>\n",
       "      <td>9</td>\n",
       "      <td>Kara</td>\n",
       "      <td>Nielsen</td>\n",
       "      <td>None</td>\n",
       "      <td>Sønder Boulevard 51</td>\n",
       "      <td>Copenhagen</td>\n",
       "      <td>None</td>\n",
       "      <td>Denmark</td>\n",
       "      <td>1720</td>\n",
       "      <td>+453 3331 9991</td>\n",
       "      <td>None</td>\n",
       "      <td>kara.nielsen@jubii.dk</td>\n",
       "      <td>4</td>\n",
       "    </tr>\n",
       "    <tr>\n",
       "      <th>9</th>\n",
       "      <td>10</td>\n",
       "      <td>Eduardo</td>\n",
       "      <td>Martins</td>\n",
       "      <td>Woodstock Discos</td>\n",
       "      <td>Rua Dr. Falcão Filho, 155</td>\n",
       "      <td>São Paulo</td>\n",
       "      <td>SP</td>\n",
       "      <td>Brazil</td>\n",
       "      <td>01007-010</td>\n",
       "      <td>+55 (11) 3033-5446</td>\n",
       "      <td>+55 (11) 3033-4564</td>\n",
       "      <td>eduardo@woodstock.com.br</td>\n",
       "      <td>4</td>\n",
       "    </tr>\n",
       "    <tr>\n",
       "      <th>10</th>\n",
       "      <td>11</td>\n",
       "      <td>Alexandre</td>\n",
       "      <td>Rocha</td>\n",
       "      <td>Banco do Brasil S.A.</td>\n",
       "      <td>Av. Paulista, 2022</td>\n",
       "      <td>São Paulo</td>\n",
       "      <td>SP</td>\n",
       "      <td>Brazil</td>\n",
       "      <td>01310-200</td>\n",
       "      <td>+55 (11) 3055-3278</td>\n",
       "      <td>+55 (11) 3055-8131</td>\n",
       "      <td>alero@uol.com.br</td>\n",
       "      <td>5</td>\n",
       "    </tr>\n",
       "    <tr>\n",
       "      <th>11</th>\n",
       "      <td>12</td>\n",
       "      <td>Roberto</td>\n",
       "      <td>Almeida</td>\n",
       "      <td>Riotur</td>\n",
       "      <td>Praça Pio X, 119</td>\n",
       "      <td>Rio de Janeiro</td>\n",
       "      <td>RJ</td>\n",
       "      <td>Brazil</td>\n",
       "      <td>20040-020</td>\n",
       "      <td>+55 (21) 2271-7000</td>\n",
       "      <td>+55 (21) 2271-7070</td>\n",
       "      <td>roberto.almeida@riotur.gov.br</td>\n",
       "      <td>3</td>\n",
       "    </tr>\n",
       "    <tr>\n",
       "      <th>12</th>\n",
       "      <td>13</td>\n",
       "      <td>Fernanda</td>\n",
       "      <td>Ramos</td>\n",
       "      <td>None</td>\n",
       "      <td>Qe 7 Bloco G</td>\n",
       "      <td>Brasília</td>\n",
       "      <td>DF</td>\n",
       "      <td>Brazil</td>\n",
       "      <td>71020-677</td>\n",
       "      <td>+55 (61) 3363-5547</td>\n",
       "      <td>+55 (61) 3363-7855</td>\n",
       "      <td>fernadaramos4@uol.com.br</td>\n",
       "      <td>4</td>\n",
       "    </tr>\n",
       "    <tr>\n",
       "      <th>13</th>\n",
       "      <td>14</td>\n",
       "      <td>Mark</td>\n",
       "      <td>Philips</td>\n",
       "      <td>Telus</td>\n",
       "      <td>8210 111 ST NW</td>\n",
       "      <td>Edmonton</td>\n",
       "      <td>AB</td>\n",
       "      <td>Canada</td>\n",
       "      <td>T6G 2C7</td>\n",
       "      <td>+1 (780) 434-4554</td>\n",
       "      <td>+1 (780) 434-5565</td>\n",
       "      <td>mphilips12@shaw.ca</td>\n",
       "      <td>5</td>\n",
       "    </tr>\n",
       "    <tr>\n",
       "      <th>14</th>\n",
       "      <td>15</td>\n",
       "      <td>Jennifer</td>\n",
       "      <td>Peterson</td>\n",
       "      <td>Rogers Canada</td>\n",
       "      <td>700 W Pender Street</td>\n",
       "      <td>Vancouver</td>\n",
       "      <td>BC</td>\n",
       "      <td>Canada</td>\n",
       "      <td>V6C 1G8</td>\n",
       "      <td>+1 (604) 688-2255</td>\n",
       "      <td>+1 (604) 688-8756</td>\n",
       "      <td>jenniferp@rogers.ca</td>\n",
       "      <td>3</td>\n",
       "    </tr>\n",
       "    <tr>\n",
       "      <th>15</th>\n",
       "      <td>16</td>\n",
       "      <td>Frank</td>\n",
       "      <td>Harris</td>\n",
       "      <td>Google Inc.</td>\n",
       "      <td>1600 Amphitheatre Parkway</td>\n",
       "      <td>Mountain View</td>\n",
       "      <td>CA</td>\n",
       "      <td>USA</td>\n",
       "      <td>94043-1351</td>\n",
       "      <td>+1 (650) 253-0000</td>\n",
       "      <td>+1 (650) 253-0000</td>\n",
       "      <td>fharris@google.com</td>\n",
       "      <td>4</td>\n",
       "    </tr>\n",
       "    <tr>\n",
       "      <th>16</th>\n",
       "      <td>17</td>\n",
       "      <td>Jack</td>\n",
       "      <td>Smith</td>\n",
       "      <td>Microsoft Corporation</td>\n",
       "      <td>1 Microsoft Way</td>\n",
       "      <td>Redmond</td>\n",
       "      <td>WA</td>\n",
       "      <td>USA</td>\n",
       "      <td>98052-8300</td>\n",
       "      <td>+1 (425) 882-8080</td>\n",
       "      <td>+1 (425) 882-8081</td>\n",
       "      <td>jacksmith@microsoft.com</td>\n",
       "      <td>5</td>\n",
       "    </tr>\n",
       "    <tr>\n",
       "      <th>17</th>\n",
       "      <td>18</td>\n",
       "      <td>Michelle</td>\n",
       "      <td>Brooks</td>\n",
       "      <td>None</td>\n",
       "      <td>627 Broadway</td>\n",
       "      <td>New York</td>\n",
       "      <td>NY</td>\n",
       "      <td>USA</td>\n",
       "      <td>10012-2612</td>\n",
       "      <td>+1 (212) 221-3546</td>\n",
       "      <td>+1 (212) 221-4679</td>\n",
       "      <td>michelleb@aol.com</td>\n",
       "      <td>3</td>\n",
       "    </tr>\n",
       "    <tr>\n",
       "      <th>18</th>\n",
       "      <td>19</td>\n",
       "      <td>Tim</td>\n",
       "      <td>Goyer</td>\n",
       "      <td>Apple Inc.</td>\n",
       "      <td>1 Infinite Loop</td>\n",
       "      <td>Cupertino</td>\n",
       "      <td>CA</td>\n",
       "      <td>USA</td>\n",
       "      <td>95014</td>\n",
       "      <td>+1 (408) 996-1010</td>\n",
       "      <td>+1 (408) 996-1011</td>\n",
       "      <td>tgoyer@apple.com</td>\n",
       "      <td>3</td>\n",
       "    </tr>\n",
       "    <tr>\n",
       "      <th>19</th>\n",
       "      <td>20</td>\n",
       "      <td>Dan</td>\n",
       "      <td>Miller</td>\n",
       "      <td>None</td>\n",
       "      <td>541 Del Medio Avenue</td>\n",
       "      <td>Mountain View</td>\n",
       "      <td>CA</td>\n",
       "      <td>USA</td>\n",
       "      <td>94040-111</td>\n",
       "      <td>+1 (650) 644-3358</td>\n",
       "      <td>None</td>\n",
       "      <td>dmiller@comcast.com</td>\n",
       "      <td>4</td>\n",
       "    </tr>\n",
       "    <tr>\n",
       "      <th>20</th>\n",
       "      <td>21</td>\n",
       "      <td>Kathy</td>\n",
       "      <td>Chase</td>\n",
       "      <td>None</td>\n",
       "      <td>801 W 4th Street</td>\n",
       "      <td>Reno</td>\n",
       "      <td>NV</td>\n",
       "      <td>USA</td>\n",
       "      <td>89503</td>\n",
       "      <td>+1 (775) 223-7665</td>\n",
       "      <td>None</td>\n",
       "      <td>kachase@hotmail.com</td>\n",
       "      <td>5</td>\n",
       "    </tr>\n",
       "    <tr>\n",
       "      <th>21</th>\n",
       "      <td>22</td>\n",
       "      <td>Heather</td>\n",
       "      <td>Leacock</td>\n",
       "      <td>None</td>\n",
       "      <td>120 S Orange Ave</td>\n",
       "      <td>Orlando</td>\n",
       "      <td>FL</td>\n",
       "      <td>USA</td>\n",
       "      <td>32801</td>\n",
       "      <td>+1 (407) 999-7788</td>\n",
       "      <td>None</td>\n",
       "      <td>hleacock@gmail.com</td>\n",
       "      <td>4</td>\n",
       "    </tr>\n",
       "    <tr>\n",
       "      <th>22</th>\n",
       "      <td>23</td>\n",
       "      <td>John</td>\n",
       "      <td>Gordon</td>\n",
       "      <td>None</td>\n",
       "      <td>69 Salem Street</td>\n",
       "      <td>Boston</td>\n",
       "      <td>MA</td>\n",
       "      <td>USA</td>\n",
       "      <td>2113</td>\n",
       "      <td>+1 (617) 522-1333</td>\n",
       "      <td>None</td>\n",
       "      <td>johngordon22@yahoo.com</td>\n",
       "      <td>4</td>\n",
       "    </tr>\n",
       "    <tr>\n",
       "      <th>23</th>\n",
       "      <td>24</td>\n",
       "      <td>Frank</td>\n",
       "      <td>Ralston</td>\n",
       "      <td>None</td>\n",
       "      <td>162 E Superior Street</td>\n",
       "      <td>Chicago</td>\n",
       "      <td>IL</td>\n",
       "      <td>USA</td>\n",
       "      <td>60611</td>\n",
       "      <td>+1 (312) 332-3232</td>\n",
       "      <td>None</td>\n",
       "      <td>fralston@gmail.com</td>\n",
       "      <td>3</td>\n",
       "    </tr>\n",
       "    <tr>\n",
       "      <th>24</th>\n",
       "      <td>25</td>\n",
       "      <td>Victor</td>\n",
       "      <td>Stevens</td>\n",
       "      <td>None</td>\n",
       "      <td>319 N. Frances Street</td>\n",
       "      <td>Madison</td>\n",
       "      <td>WI</td>\n",
       "      <td>USA</td>\n",
       "      <td>53703</td>\n",
       "      <td>+1 (608) 257-0597</td>\n",
       "      <td>None</td>\n",
       "      <td>vstevens@yahoo.com</td>\n",
       "      <td>5</td>\n",
       "    </tr>\n",
       "    <tr>\n",
       "      <th>25</th>\n",
       "      <td>26</td>\n",
       "      <td>Richard</td>\n",
       "      <td>Cunningham</td>\n",
       "      <td>None</td>\n",
       "      <td>2211 W Berry Street</td>\n",
       "      <td>Fort Worth</td>\n",
       "      <td>TX</td>\n",
       "      <td>USA</td>\n",
       "      <td>76110</td>\n",
       "      <td>+1 (817) 924-7272</td>\n",
       "      <td>None</td>\n",
       "      <td>ricunningham@hotmail.com</td>\n",
       "      <td>4</td>\n",
       "    </tr>\n",
       "    <tr>\n",
       "      <th>26</th>\n",
       "      <td>27</td>\n",
       "      <td>Patrick</td>\n",
       "      <td>Gray</td>\n",
       "      <td>None</td>\n",
       "      <td>1033 N Park Ave</td>\n",
       "      <td>Tucson</td>\n",
       "      <td>AZ</td>\n",
       "      <td>USA</td>\n",
       "      <td>85719</td>\n",
       "      <td>+1 (520) 622-4200</td>\n",
       "      <td>None</td>\n",
       "      <td>patrick.gray@aol.com</td>\n",
       "      <td>4</td>\n",
       "    </tr>\n",
       "    <tr>\n",
       "      <th>27</th>\n",
       "      <td>28</td>\n",
       "      <td>Julia</td>\n",
       "      <td>Barnett</td>\n",
       "      <td>None</td>\n",
       "      <td>302 S 700 E</td>\n",
       "      <td>Salt Lake City</td>\n",
       "      <td>UT</td>\n",
       "      <td>USA</td>\n",
       "      <td>84102</td>\n",
       "      <td>+1 (801) 531-7272</td>\n",
       "      <td>None</td>\n",
       "      <td>jubarnett@gmail.com</td>\n",
       "      <td>5</td>\n",
       "    </tr>\n",
       "    <tr>\n",
       "      <th>28</th>\n",
       "      <td>29</td>\n",
       "      <td>Robert</td>\n",
       "      <td>Brown</td>\n",
       "      <td>None</td>\n",
       "      <td>796 Dundas Street West</td>\n",
       "      <td>Toronto</td>\n",
       "      <td>ON</td>\n",
       "      <td>Canada</td>\n",
       "      <td>M6J 1V1</td>\n",
       "      <td>+1 (416) 363-8888</td>\n",
       "      <td>None</td>\n",
       "      <td>robbrown@shaw.ca</td>\n",
       "      <td>3</td>\n",
       "    </tr>\n",
       "    <tr>\n",
       "      <th>29</th>\n",
       "      <td>30</td>\n",
       "      <td>Edward</td>\n",
       "      <td>Francis</td>\n",
       "      <td>None</td>\n",
       "      <td>230 Elgin Street</td>\n",
       "      <td>Ottawa</td>\n",
       "      <td>ON</td>\n",
       "      <td>Canada</td>\n",
       "      <td>K2P 1L7</td>\n",
       "      <td>+1 (613) 234-3322</td>\n",
       "      <td>None</td>\n",
       "      <td>edfrancis@yachoo.ca</td>\n",
       "      <td>3</td>\n",
       "    </tr>\n",
       "    <tr>\n",
       "      <th>30</th>\n",
       "      <td>31</td>\n",
       "      <td>Martha</td>\n",
       "      <td>Silk</td>\n",
       "      <td>None</td>\n",
       "      <td>194A Chain Lake Drive</td>\n",
       "      <td>Halifax</td>\n",
       "      <td>NS</td>\n",
       "      <td>Canada</td>\n",
       "      <td>B3S 1C5</td>\n",
       "      <td>+1 (902) 450-0450</td>\n",
       "      <td>None</td>\n",
       "      <td>marthasilk@gmail.com</td>\n",
       "      <td>5</td>\n",
       "    </tr>\n",
       "    <tr>\n",
       "      <th>31</th>\n",
       "      <td>32</td>\n",
       "      <td>Aaron</td>\n",
       "      <td>Mitchell</td>\n",
       "      <td>None</td>\n",
       "      <td>696 Osborne Street</td>\n",
       "      <td>Winnipeg</td>\n",
       "      <td>MB</td>\n",
       "      <td>Canada</td>\n",
       "      <td>R3L 2B9</td>\n",
       "      <td>+1 (204) 452-6452</td>\n",
       "      <td>None</td>\n",
       "      <td>aaronmitchell@yahoo.ca</td>\n",
       "      <td>4</td>\n",
       "    </tr>\n",
       "    <tr>\n",
       "      <th>32</th>\n",
       "      <td>33</td>\n",
       "      <td>Ellie</td>\n",
       "      <td>Sullivan</td>\n",
       "      <td>None</td>\n",
       "      <td>5112 48 Street</td>\n",
       "      <td>Yellowknife</td>\n",
       "      <td>NT</td>\n",
       "      <td>Canada</td>\n",
       "      <td>X1A 1N6</td>\n",
       "      <td>+1 (867) 920-2233</td>\n",
       "      <td>None</td>\n",
       "      <td>ellie.sullivan@shaw.ca</td>\n",
       "      <td>3</td>\n",
       "    </tr>\n",
       "    <tr>\n",
       "      <th>33</th>\n",
       "      <td>34</td>\n",
       "      <td>João</td>\n",
       "      <td>Fernandes</td>\n",
       "      <td>None</td>\n",
       "      <td>Rua da Assunção 53</td>\n",
       "      <td>Lisbon</td>\n",
       "      <td>None</td>\n",
       "      <td>Portugal</td>\n",
       "      <td>None</td>\n",
       "      <td>+351 (213) 466-111</td>\n",
       "      <td>None</td>\n",
       "      <td>jfernandes@yahoo.pt</td>\n",
       "      <td>4</td>\n",
       "    </tr>\n",
       "    <tr>\n",
       "      <th>34</th>\n",
       "      <td>35</td>\n",
       "      <td>Madalena</td>\n",
       "      <td>Sampaio</td>\n",
       "      <td>None</td>\n",
       "      <td>Rua dos Campeões Europeus de Viena, 4350</td>\n",
       "      <td>Porto</td>\n",
       "      <td>None</td>\n",
       "      <td>Portugal</td>\n",
       "      <td>None</td>\n",
       "      <td>+351 (225) 022-448</td>\n",
       "      <td>None</td>\n",
       "      <td>masampaio@sapo.pt</td>\n",
       "      <td>4</td>\n",
       "    </tr>\n",
       "    <tr>\n",
       "      <th>35</th>\n",
       "      <td>36</td>\n",
       "      <td>Hannah</td>\n",
       "      <td>Schneider</td>\n",
       "      <td>None</td>\n",
       "      <td>Tauentzienstraße 8</td>\n",
       "      <td>Berlin</td>\n",
       "      <td>None</td>\n",
       "      <td>Germany</td>\n",
       "      <td>10789</td>\n",
       "      <td>+49 030 26550280</td>\n",
       "      <td>None</td>\n",
       "      <td>hannah.schneider@yahoo.de</td>\n",
       "      <td>5</td>\n",
       "    </tr>\n",
       "    <tr>\n",
       "      <th>36</th>\n",
       "      <td>37</td>\n",
       "      <td>Fynn</td>\n",
       "      <td>Zimmermann</td>\n",
       "      <td>None</td>\n",
       "      <td>Berger Straße 10</td>\n",
       "      <td>Frankfurt</td>\n",
       "      <td>None</td>\n",
       "      <td>Germany</td>\n",
       "      <td>60316</td>\n",
       "      <td>+49 069 40598889</td>\n",
       "      <td>None</td>\n",
       "      <td>fzimmermann@yahoo.de</td>\n",
       "      <td>3</td>\n",
       "    </tr>\n",
       "    <tr>\n",
       "      <th>37</th>\n",
       "      <td>38</td>\n",
       "      <td>Niklas</td>\n",
       "      <td>Schröder</td>\n",
       "      <td>None</td>\n",
       "      <td>Barbarossastraße 19</td>\n",
       "      <td>Berlin</td>\n",
       "      <td>None</td>\n",
       "      <td>Germany</td>\n",
       "      <td>10779</td>\n",
       "      <td>+49 030 2141444</td>\n",
       "      <td>None</td>\n",
       "      <td>nschroder@surfeu.de</td>\n",
       "      <td>3</td>\n",
       "    </tr>\n",
       "    <tr>\n",
       "      <th>38</th>\n",
       "      <td>39</td>\n",
       "      <td>Camille</td>\n",
       "      <td>Bernard</td>\n",
       "      <td>None</td>\n",
       "      <td>4, Rue Milton</td>\n",
       "      <td>Paris</td>\n",
       "      <td>None</td>\n",
       "      <td>France</td>\n",
       "      <td>75009</td>\n",
       "      <td>+33 01 49 70 65 65</td>\n",
       "      <td>None</td>\n",
       "      <td>camille.bernard@yahoo.fr</td>\n",
       "      <td>4</td>\n",
       "    </tr>\n",
       "    <tr>\n",
       "      <th>39</th>\n",
       "      <td>40</td>\n",
       "      <td>Dominique</td>\n",
       "      <td>Lefebvre</td>\n",
       "      <td>None</td>\n",
       "      <td>8, Rue Hanovre</td>\n",
       "      <td>Paris</td>\n",
       "      <td>None</td>\n",
       "      <td>France</td>\n",
       "      <td>75002</td>\n",
       "      <td>+33 01 47 42 71 71</td>\n",
       "      <td>None</td>\n",
       "      <td>dominiquelefebvre@gmail.com</td>\n",
       "      <td>4</td>\n",
       "    </tr>\n",
       "    <tr>\n",
       "      <th>40</th>\n",
       "      <td>41</td>\n",
       "      <td>Marc</td>\n",
       "      <td>Dubois</td>\n",
       "      <td>None</td>\n",
       "      <td>11, Place Bellecour</td>\n",
       "      <td>Lyon</td>\n",
       "      <td>None</td>\n",
       "      <td>France</td>\n",
       "      <td>69002</td>\n",
       "      <td>+33 04 78 30 30 30</td>\n",
       "      <td>None</td>\n",
       "      <td>marc.dubois@hotmail.com</td>\n",
       "      <td>5</td>\n",
       "    </tr>\n",
       "    <tr>\n",
       "      <th>41</th>\n",
       "      <td>42</td>\n",
       "      <td>Wyatt</td>\n",
       "      <td>Girard</td>\n",
       "      <td>None</td>\n",
       "      <td>9, Place Louis Barthou</td>\n",
       "      <td>Bordeaux</td>\n",
       "      <td>None</td>\n",
       "      <td>France</td>\n",
       "      <td>33000</td>\n",
       "      <td>+33 05 56 96 96 96</td>\n",
       "      <td>None</td>\n",
       "      <td>wyatt.girard@yahoo.fr</td>\n",
       "      <td>3</td>\n",
       "    </tr>\n",
       "    <tr>\n",
       "      <th>42</th>\n",
       "      <td>43</td>\n",
       "      <td>Isabelle</td>\n",
       "      <td>Mercier</td>\n",
       "      <td>None</td>\n",
       "      <td>68, Rue Jouvence</td>\n",
       "      <td>Dijon</td>\n",
       "      <td>None</td>\n",
       "      <td>France</td>\n",
       "      <td>21000</td>\n",
       "      <td>+33 03 80 73 66 99</td>\n",
       "      <td>None</td>\n",
       "      <td>isabelle_mercier@apple.fr</td>\n",
       "      <td>3</td>\n",
       "    </tr>\n",
       "    <tr>\n",
       "      <th>43</th>\n",
       "      <td>44</td>\n",
       "      <td>Terhi</td>\n",
       "      <td>Hämäläinen</td>\n",
       "      <td>None</td>\n",
       "      <td>Porthaninkatu 9</td>\n",
       "      <td>Helsinki</td>\n",
       "      <td>None</td>\n",
       "      <td>Finland</td>\n",
       "      <td>00530</td>\n",
       "      <td>+358 09 870 2000</td>\n",
       "      <td>None</td>\n",
       "      <td>terhi.hamalainen@apple.fi</td>\n",
       "      <td>3</td>\n",
       "    </tr>\n",
       "    <tr>\n",
       "      <th>44</th>\n",
       "      <td>45</td>\n",
       "      <td>Ladislav</td>\n",
       "      <td>Kovács</td>\n",
       "      <td>None</td>\n",
       "      <td>Erzsébet krt. 58.</td>\n",
       "      <td>Budapest</td>\n",
       "      <td>None</td>\n",
       "      <td>Hungary</td>\n",
       "      <td>H-1073</td>\n",
       "      <td>None</td>\n",
       "      <td>None</td>\n",
       "      <td>ladislav_kovacs@apple.hu</td>\n",
       "      <td>3</td>\n",
       "    </tr>\n",
       "    <tr>\n",
       "      <th>45</th>\n",
       "      <td>46</td>\n",
       "      <td>Hugh</td>\n",
       "      <td>O'Reilly</td>\n",
       "      <td>None</td>\n",
       "      <td>3 Chatham Street</td>\n",
       "      <td>Dublin</td>\n",
       "      <td>Dublin</td>\n",
       "      <td>Ireland</td>\n",
       "      <td>None</td>\n",
       "      <td>+353 01 6792424</td>\n",
       "      <td>None</td>\n",
       "      <td>hughoreilly@apple.ie</td>\n",
       "      <td>3</td>\n",
       "    </tr>\n",
       "    <tr>\n",
       "      <th>46</th>\n",
       "      <td>47</td>\n",
       "      <td>Lucas</td>\n",
       "      <td>Mancini</td>\n",
       "      <td>None</td>\n",
       "      <td>Via Degli Scipioni, 43</td>\n",
       "      <td>Rome</td>\n",
       "      <td>RM</td>\n",
       "      <td>Italy</td>\n",
       "      <td>00192</td>\n",
       "      <td>+39 06 39733434</td>\n",
       "      <td>None</td>\n",
       "      <td>lucas.mancini@yahoo.it</td>\n",
       "      <td>5</td>\n",
       "    </tr>\n",
       "    <tr>\n",
       "      <th>47</th>\n",
       "      <td>48</td>\n",
       "      <td>Johannes</td>\n",
       "      <td>Van der Berg</td>\n",
       "      <td>None</td>\n",
       "      <td>Lijnbaansgracht 120bg</td>\n",
       "      <td>Amsterdam</td>\n",
       "      <td>VV</td>\n",
       "      <td>Netherlands</td>\n",
       "      <td>1016</td>\n",
       "      <td>+31 020 6223130</td>\n",
       "      <td>None</td>\n",
       "      <td>johavanderberg@yahoo.nl</td>\n",
       "      <td>5</td>\n",
       "    </tr>\n",
       "    <tr>\n",
       "      <th>48</th>\n",
       "      <td>49</td>\n",
       "      <td>Stanisław</td>\n",
       "      <td>Wójcik</td>\n",
       "      <td>None</td>\n",
       "      <td>Ordynacka 10</td>\n",
       "      <td>Warsaw</td>\n",
       "      <td>None</td>\n",
       "      <td>Poland</td>\n",
       "      <td>00-358</td>\n",
       "      <td>+48 22 828 37 39</td>\n",
       "      <td>None</td>\n",
       "      <td>stanisław.wójcik@wp.pl</td>\n",
       "      <td>4</td>\n",
       "    </tr>\n",
       "    <tr>\n",
       "      <th>49</th>\n",
       "      <td>50</td>\n",
       "      <td>Enrique</td>\n",
       "      <td>Muñoz</td>\n",
       "      <td>None</td>\n",
       "      <td>C/ San Bernardo 85</td>\n",
       "      <td>Madrid</td>\n",
       "      <td>None</td>\n",
       "      <td>Spain</td>\n",
       "      <td>28015</td>\n",
       "      <td>+34 914 454 454</td>\n",
       "      <td>None</td>\n",
       "      <td>enrique_munoz@yahoo.es</td>\n",
       "      <td>5</td>\n",
       "    </tr>\n",
       "    <tr>\n",
       "      <th>50</th>\n",
       "      <td>51</td>\n",
       "      <td>Joakim</td>\n",
       "      <td>Johansson</td>\n",
       "      <td>None</td>\n",
       "      <td>Celsiusg. 9</td>\n",
       "      <td>Stockholm</td>\n",
       "      <td>None</td>\n",
       "      <td>Sweden</td>\n",
       "      <td>11230</td>\n",
       "      <td>+46 08-651 52 52</td>\n",
       "      <td>None</td>\n",
       "      <td>joakim.johansson@yahoo.se</td>\n",
       "      <td>5</td>\n",
       "    </tr>\n",
       "    <tr>\n",
       "      <th>51</th>\n",
       "      <td>52</td>\n",
       "      <td>Emma</td>\n",
       "      <td>Jones</td>\n",
       "      <td>None</td>\n",
       "      <td>202 Hoxton Street</td>\n",
       "      <td>London</td>\n",
       "      <td>None</td>\n",
       "      <td>United Kingdom</td>\n",
       "      <td>N1 5LH</td>\n",
       "      <td>+44 020 7707 0707</td>\n",
       "      <td>None</td>\n",
       "      <td>emma_jones@hotmail.com</td>\n",
       "      <td>3</td>\n",
       "    </tr>\n",
       "    <tr>\n",
       "      <th>52</th>\n",
       "      <td>53</td>\n",
       "      <td>Phil</td>\n",
       "      <td>Hughes</td>\n",
       "      <td>None</td>\n",
       "      <td>113 Lupus St</td>\n",
       "      <td>London</td>\n",
       "      <td>None</td>\n",
       "      <td>United Kingdom</td>\n",
       "      <td>SW1V 3EN</td>\n",
       "      <td>+44 020 7976 5722</td>\n",
       "      <td>None</td>\n",
       "      <td>phil.hughes@gmail.com</td>\n",
       "      <td>3</td>\n",
       "    </tr>\n",
       "    <tr>\n",
       "      <th>53</th>\n",
       "      <td>54</td>\n",
       "      <td>Steve</td>\n",
       "      <td>Murray</td>\n",
       "      <td>None</td>\n",
       "      <td>110 Raeburn Pl</td>\n",
       "      <td>Edinburgh</td>\n",
       "      <td>None</td>\n",
       "      <td>United Kingdom</td>\n",
       "      <td>EH4 1HH</td>\n",
       "      <td>+44 0131 315 3300</td>\n",
       "      <td>None</td>\n",
       "      <td>steve.murray@yahoo.uk</td>\n",
       "      <td>5</td>\n",
       "    </tr>\n",
       "    <tr>\n",
       "      <th>54</th>\n",
       "      <td>55</td>\n",
       "      <td>Mark</td>\n",
       "      <td>Taylor</td>\n",
       "      <td>None</td>\n",
       "      <td>421 Bourke Street</td>\n",
       "      <td>Sidney</td>\n",
       "      <td>NSW</td>\n",
       "      <td>Australia</td>\n",
       "      <td>2010</td>\n",
       "      <td>+61 (02) 9332 3633</td>\n",
       "      <td>None</td>\n",
       "      <td>mark.taylor@yahoo.au</td>\n",
       "      <td>4</td>\n",
       "    </tr>\n",
       "    <tr>\n",
       "      <th>55</th>\n",
       "      <td>56</td>\n",
       "      <td>Diego</td>\n",
       "      <td>Gutiérrez</td>\n",
       "      <td>None</td>\n",
       "      <td>307 Macacha Güemes</td>\n",
       "      <td>Buenos Aires</td>\n",
       "      <td>None</td>\n",
       "      <td>Argentina</td>\n",
       "      <td>1106</td>\n",
       "      <td>+54 (0)11 4311 4333</td>\n",
       "      <td>None</td>\n",
       "      <td>diego.gutierrez@yahoo.ar</td>\n",
       "      <td>4</td>\n",
       "    </tr>\n",
       "    <tr>\n",
       "      <th>56</th>\n",
       "      <td>57</td>\n",
       "      <td>Luis</td>\n",
       "      <td>Rojas</td>\n",
       "      <td>None</td>\n",
       "      <td>Calle Lira, 198</td>\n",
       "      <td>Santiago</td>\n",
       "      <td>None</td>\n",
       "      <td>Chile</td>\n",
       "      <td>None</td>\n",
       "      <td>+56 (0)2 635 4444</td>\n",
       "      <td>None</td>\n",
       "      <td>luisrojas@yahoo.cl</td>\n",
       "      <td>5</td>\n",
       "    </tr>\n",
       "    <tr>\n",
       "      <th>57</th>\n",
       "      <td>58</td>\n",
       "      <td>Manoj</td>\n",
       "      <td>Pareek</td>\n",
       "      <td>None</td>\n",
       "      <td>12,Community Centre</td>\n",
       "      <td>Delhi</td>\n",
       "      <td>None</td>\n",
       "      <td>India</td>\n",
       "      <td>110017</td>\n",
       "      <td>+91 0124 39883988</td>\n",
       "      <td>None</td>\n",
       "      <td>manoj.pareek@rediff.com</td>\n",
       "      <td>3</td>\n",
       "    </tr>\n",
       "    <tr>\n",
       "      <th>58</th>\n",
       "      <td>59</td>\n",
       "      <td>Puja</td>\n",
       "      <td>Srivastava</td>\n",
       "      <td>None</td>\n",
       "      <td>3,Raj Bhavan Road</td>\n",
       "      <td>Bangalore</td>\n",
       "      <td>None</td>\n",
       "      <td>India</td>\n",
       "      <td>560001</td>\n",
       "      <td>+91 080 22289999</td>\n",
       "      <td>None</td>\n",
       "      <td>puja_srivastava@yahoo.in</td>\n",
       "      <td>3</td>\n",
       "    </tr>\n",
       "  </tbody>\n",
       "</table>\n",
       "</div>"
      ],
      "text/plain": [
       "    CustomerId  FirstName      LastName  \\\n",
       "0            1       Luís     Gonçalves   \n",
       "1            2     Leonie        Köhler   \n",
       "2            3   François      Tremblay   \n",
       "3            4      Bjørn        Hansen   \n",
       "4            5  František   Wichterlová   \n",
       "5            6     Helena          Holý   \n",
       "6            7     Astrid        Gruber   \n",
       "7            8       Daan       Peeters   \n",
       "8            9       Kara       Nielsen   \n",
       "9           10    Eduardo       Martins   \n",
       "10          11  Alexandre         Rocha   \n",
       "11          12    Roberto       Almeida   \n",
       "12          13   Fernanda         Ramos   \n",
       "13          14       Mark       Philips   \n",
       "14          15   Jennifer      Peterson   \n",
       "15          16      Frank        Harris   \n",
       "16          17       Jack         Smith   \n",
       "17          18   Michelle        Brooks   \n",
       "18          19        Tim         Goyer   \n",
       "19          20        Dan        Miller   \n",
       "20          21      Kathy         Chase   \n",
       "21          22    Heather       Leacock   \n",
       "22          23       John        Gordon   \n",
       "23          24      Frank       Ralston   \n",
       "24          25     Victor       Stevens   \n",
       "25          26    Richard    Cunningham   \n",
       "26          27    Patrick          Gray   \n",
       "27          28      Julia       Barnett   \n",
       "28          29     Robert         Brown   \n",
       "29          30     Edward       Francis   \n",
       "30          31     Martha          Silk   \n",
       "31          32      Aaron      Mitchell   \n",
       "32          33      Ellie      Sullivan   \n",
       "33          34       João     Fernandes   \n",
       "34          35   Madalena       Sampaio   \n",
       "35          36     Hannah     Schneider   \n",
       "36          37       Fynn    Zimmermann   \n",
       "37          38     Niklas      Schröder   \n",
       "38          39    Camille       Bernard   \n",
       "39          40  Dominique      Lefebvre   \n",
       "40          41       Marc        Dubois   \n",
       "41          42      Wyatt        Girard   \n",
       "42          43   Isabelle       Mercier   \n",
       "43          44      Terhi    Hämäläinen   \n",
       "44          45   Ladislav        Kovács   \n",
       "45          46       Hugh      O'Reilly   \n",
       "46          47      Lucas       Mancini   \n",
       "47          48   Johannes  Van der Berg   \n",
       "48          49  Stanisław        Wójcik   \n",
       "49          50    Enrique         Muñoz   \n",
       "50          51     Joakim     Johansson   \n",
       "51          52       Emma         Jones   \n",
       "52          53       Phil        Hughes   \n",
       "53          54      Steve        Murray   \n",
       "54          55       Mark        Taylor   \n",
       "55          56      Diego     Gutiérrez   \n",
       "56          57       Luis         Rojas   \n",
       "57          58      Manoj        Pareek   \n",
       "58          59       Puja    Srivastava   \n",
       "\n",
       "                                             Company  \\\n",
       "0   Embraer - Empresa Brasileira de Aeronáutica S.A.   \n",
       "1                                               None   \n",
       "2                                               None   \n",
       "3                                               None   \n",
       "4                                   JetBrains s.r.o.   \n",
       "5                                               None   \n",
       "6                                               None   \n",
       "7                                               None   \n",
       "8                                               None   \n",
       "9                                   Woodstock Discos   \n",
       "10                              Banco do Brasil S.A.   \n",
       "11                                            Riotur   \n",
       "12                                              None   \n",
       "13                                             Telus   \n",
       "14                                     Rogers Canada   \n",
       "15                                       Google Inc.   \n",
       "16                             Microsoft Corporation   \n",
       "17                                              None   \n",
       "18                                        Apple Inc.   \n",
       "19                                              None   \n",
       "20                                              None   \n",
       "21                                              None   \n",
       "22                                              None   \n",
       "23                                              None   \n",
       "24                                              None   \n",
       "25                                              None   \n",
       "26                                              None   \n",
       "27                                              None   \n",
       "28                                              None   \n",
       "29                                              None   \n",
       "30                                              None   \n",
       "31                                              None   \n",
       "32                                              None   \n",
       "33                                              None   \n",
       "34                                              None   \n",
       "35                                              None   \n",
       "36                                              None   \n",
       "37                                              None   \n",
       "38                                              None   \n",
       "39                                              None   \n",
       "40                                              None   \n",
       "41                                              None   \n",
       "42                                              None   \n",
       "43                                              None   \n",
       "44                                              None   \n",
       "45                                              None   \n",
       "46                                              None   \n",
       "47                                              None   \n",
       "48                                              None   \n",
       "49                                              None   \n",
       "50                                              None   \n",
       "51                                              None   \n",
       "52                                              None   \n",
       "53                                              None   \n",
       "54                                              None   \n",
       "55                                              None   \n",
       "56                                              None   \n",
       "57                                              None   \n",
       "58                                              None   \n",
       "\n",
       "                                     Address                 City   State  \\\n",
       "0            Av. Brigadeiro Faria Lima, 2170  São José dos Campos      SP   \n",
       "1                    Theodor-Heuss-Straße 34            Stuttgart    None   \n",
       "2                          1498 rue Bélanger             Montréal      QC   \n",
       "3                           Ullevålsveien 14                 Oslo    None   \n",
       "4                              Klanova 9/506               Prague    None   \n",
       "5                              Rilská 3174/6               Prague    None   \n",
       "6       Rotenturmstraße 4, 1010 Innere Stadt               Vienne    None   \n",
       "7                            Grétrystraat 63             Brussels    None   \n",
       "8                        Sønder Boulevard 51           Copenhagen    None   \n",
       "9                  Rua Dr. Falcão Filho, 155            São Paulo      SP   \n",
       "10                        Av. Paulista, 2022            São Paulo      SP   \n",
       "11                          Praça Pio X, 119       Rio de Janeiro      RJ   \n",
       "12                              Qe 7 Bloco G             Brasília      DF   \n",
       "13                            8210 111 ST NW             Edmonton      AB   \n",
       "14                       700 W Pender Street            Vancouver      BC   \n",
       "15                 1600 Amphitheatre Parkway        Mountain View      CA   \n",
       "16                           1 Microsoft Way              Redmond      WA   \n",
       "17                              627 Broadway             New York      NY   \n",
       "18                           1 Infinite Loop            Cupertino      CA   \n",
       "19                      541 Del Medio Avenue        Mountain View      CA   \n",
       "20                          801 W 4th Street                 Reno      NV   \n",
       "21                          120 S Orange Ave              Orlando      FL   \n",
       "22                           69 Salem Street               Boston      MA   \n",
       "23                     162 E Superior Street              Chicago      IL   \n",
       "24                     319 N. Frances Street              Madison      WI   \n",
       "25                       2211 W Berry Street           Fort Worth      TX   \n",
       "26                           1033 N Park Ave               Tucson      AZ   \n",
       "27                               302 S 700 E       Salt Lake City      UT   \n",
       "28                    796 Dundas Street West              Toronto      ON   \n",
       "29                          230 Elgin Street               Ottawa      ON   \n",
       "30                     194A Chain Lake Drive              Halifax      NS   \n",
       "31                        696 Osborne Street             Winnipeg      MB   \n",
       "32                            5112 48 Street          Yellowknife      NT   \n",
       "33                        Rua da Assunção 53               Lisbon    None   \n",
       "34  Rua dos Campeões Europeus de Viena, 4350                Porto    None   \n",
       "35                        Tauentzienstraße 8               Berlin    None   \n",
       "36                          Berger Straße 10            Frankfurt    None   \n",
       "37                       Barbarossastraße 19               Berlin    None   \n",
       "38                             4, Rue Milton                Paris    None   \n",
       "39                            8, Rue Hanovre                Paris    None   \n",
       "40                       11, Place Bellecour                 Lyon    None   \n",
       "41                    9, Place Louis Barthou             Bordeaux    None   \n",
       "42                          68, Rue Jouvence                Dijon    None   \n",
       "43                           Porthaninkatu 9             Helsinki    None   \n",
       "44                         Erzsébet krt. 58.             Budapest    None   \n",
       "45                          3 Chatham Street               Dublin  Dublin   \n",
       "46                    Via Degli Scipioni, 43                 Rome      RM   \n",
       "47                     Lijnbaansgracht 120bg            Amsterdam      VV   \n",
       "48                              Ordynacka 10               Warsaw    None   \n",
       "49                        C/ San Bernardo 85               Madrid    None   \n",
       "50                               Celsiusg. 9            Stockholm    None   \n",
       "51                         202 Hoxton Street               London    None   \n",
       "52                              113 Lupus St               London    None   \n",
       "53                            110 Raeburn Pl           Edinburgh     None   \n",
       "54                         421 Bourke Street               Sidney     NSW   \n",
       "55                        307 Macacha Güemes         Buenos Aires    None   \n",
       "56                           Calle Lira, 198             Santiago    None   \n",
       "57                       12,Community Centre                Delhi    None   \n",
       "58                         3,Raj Bhavan Road            Bangalore    None   \n",
       "\n",
       "           Country  PostalCode                Phone                 Fax  \\\n",
       "0           Brazil   12227-000   +55 (12) 3923-5555  +55 (12) 3923-5566   \n",
       "1          Germany       70174     +49 0711 2842222                None   \n",
       "2           Canada     H2G 1A7    +1 (514) 721-4711                None   \n",
       "3           Norway        0171      +47 22 44 22 22                None   \n",
       "4   Czech Republic       14700     +420 2 4172 5555    +420 2 4172 5555   \n",
       "5   Czech Republic       14300     +420 2 4177 0449                None   \n",
       "6          Austria        1010       +43 01 5134505                None   \n",
       "7          Belgium        1000     +32 02 219 03 03                None   \n",
       "8          Denmark        1720       +453 3331 9991                None   \n",
       "9           Brazil   01007-010   +55 (11) 3033-5446  +55 (11) 3033-4564   \n",
       "10          Brazil   01310-200   +55 (11) 3055-3278  +55 (11) 3055-8131   \n",
       "11          Brazil   20040-020   +55 (21) 2271-7000  +55 (21) 2271-7070   \n",
       "12          Brazil   71020-677   +55 (61) 3363-5547  +55 (61) 3363-7855   \n",
       "13          Canada     T6G 2C7    +1 (780) 434-4554   +1 (780) 434-5565   \n",
       "14          Canada     V6C 1G8    +1 (604) 688-2255   +1 (604) 688-8756   \n",
       "15             USA  94043-1351    +1 (650) 253-0000   +1 (650) 253-0000   \n",
       "16             USA  98052-8300    +1 (425) 882-8080   +1 (425) 882-8081   \n",
       "17             USA  10012-2612    +1 (212) 221-3546   +1 (212) 221-4679   \n",
       "18             USA       95014    +1 (408) 996-1010   +1 (408) 996-1011   \n",
       "19             USA   94040-111    +1 (650) 644-3358                None   \n",
       "20             USA       89503    +1 (775) 223-7665                None   \n",
       "21             USA       32801    +1 (407) 999-7788                None   \n",
       "22             USA        2113    +1 (617) 522-1333                None   \n",
       "23             USA       60611    +1 (312) 332-3232                None   \n",
       "24             USA       53703    +1 (608) 257-0597                None   \n",
       "25             USA       76110    +1 (817) 924-7272                None   \n",
       "26             USA       85719    +1 (520) 622-4200                None   \n",
       "27             USA       84102    +1 (801) 531-7272                None   \n",
       "28          Canada     M6J 1V1    +1 (416) 363-8888                None   \n",
       "29          Canada     K2P 1L7    +1 (613) 234-3322                None   \n",
       "30          Canada     B3S 1C5    +1 (902) 450-0450                None   \n",
       "31          Canada     R3L 2B9    +1 (204) 452-6452                None   \n",
       "32          Canada     X1A 1N6    +1 (867) 920-2233                None   \n",
       "33        Portugal        None   +351 (213) 466-111                None   \n",
       "34        Portugal        None   +351 (225) 022-448                None   \n",
       "35         Germany       10789     +49 030 26550280                None   \n",
       "36         Germany       60316     +49 069 40598889                None   \n",
       "37         Germany       10779      +49 030 2141444                None   \n",
       "38          France       75009   +33 01 49 70 65 65                None   \n",
       "39          France       75002   +33 01 47 42 71 71                None   \n",
       "40          France       69002   +33 04 78 30 30 30                None   \n",
       "41          France       33000   +33 05 56 96 96 96                None   \n",
       "42          France       21000   +33 03 80 73 66 99                None   \n",
       "43         Finland       00530     +358 09 870 2000                None   \n",
       "44         Hungary      H-1073                 None                None   \n",
       "45         Ireland        None      +353 01 6792424                None   \n",
       "46           Italy       00192      +39 06 39733434                None   \n",
       "47     Netherlands        1016      +31 020 6223130                None   \n",
       "48          Poland      00-358     +48 22 828 37 39                None   \n",
       "49           Spain       28015      +34 914 454 454                None   \n",
       "50          Sweden       11230     +46 08-651 52 52                None   \n",
       "51  United Kingdom      N1 5LH    +44 020 7707 0707                None   \n",
       "52  United Kingdom    SW1V 3EN    +44 020 7976 5722                None   \n",
       "53  United Kingdom     EH4 1HH    +44 0131 315 3300                None   \n",
       "54       Australia        2010   +61 (02) 9332 3633                None   \n",
       "55       Argentina        1106  +54 (0)11 4311 4333                None   \n",
       "56           Chile        None    +56 (0)2 635 4444                None   \n",
       "57           India      110017    +91 0124 39883988                None   \n",
       "58           India      560001     +91 080 22289999                None   \n",
       "\n",
       "                            Email  SupportRepId  \n",
       "0            luisg@embraer.com.br             3  \n",
       "1           leonekohler@surfeu.de             5  \n",
       "2             ftremblay@gmail.com             3  \n",
       "3           bjorn.hansen@yahoo.no             4  \n",
       "4        frantisekw@jetbrains.com             4  \n",
       "5                 hholy@gmail.com             5  \n",
       "6          astrid.gruber@apple.at             5  \n",
       "7           daan_peeters@apple.be             4  \n",
       "8           kara.nielsen@jubii.dk             4  \n",
       "9        eduardo@woodstock.com.br             4  \n",
       "10               alero@uol.com.br             5  \n",
       "11  roberto.almeida@riotur.gov.br             3  \n",
       "12       fernadaramos4@uol.com.br             4  \n",
       "13             mphilips12@shaw.ca             5  \n",
       "14            jenniferp@rogers.ca             3  \n",
       "15             fharris@google.com             4  \n",
       "16        jacksmith@microsoft.com             5  \n",
       "17              michelleb@aol.com             3  \n",
       "18               tgoyer@apple.com             3  \n",
       "19            dmiller@comcast.com             4  \n",
       "20            kachase@hotmail.com             5  \n",
       "21             hleacock@gmail.com             4  \n",
       "22         johngordon22@yahoo.com             4  \n",
       "23             fralston@gmail.com             3  \n",
       "24             vstevens@yahoo.com             5  \n",
       "25       ricunningham@hotmail.com             4  \n",
       "26           patrick.gray@aol.com             4  \n",
       "27            jubarnett@gmail.com             5  \n",
       "28               robbrown@shaw.ca             3  \n",
       "29            edfrancis@yachoo.ca             3  \n",
       "30           marthasilk@gmail.com             5  \n",
       "31         aaronmitchell@yahoo.ca             4  \n",
       "32         ellie.sullivan@shaw.ca             3  \n",
       "33            jfernandes@yahoo.pt             4  \n",
       "34              masampaio@sapo.pt             4  \n",
       "35      hannah.schneider@yahoo.de             5  \n",
       "36           fzimmermann@yahoo.de             3  \n",
       "37            nschroder@surfeu.de             3  \n",
       "38       camille.bernard@yahoo.fr             4  \n",
       "39    dominiquelefebvre@gmail.com             4  \n",
       "40        marc.dubois@hotmail.com             5  \n",
       "41          wyatt.girard@yahoo.fr             3  \n",
       "42      isabelle_mercier@apple.fr             3  \n",
       "43      terhi.hamalainen@apple.fi             3  \n",
       "44       ladislav_kovacs@apple.hu             3  \n",
       "45           hughoreilly@apple.ie             3  \n",
       "46         lucas.mancini@yahoo.it             5  \n",
       "47        johavanderberg@yahoo.nl             5  \n",
       "48         stanisław.wójcik@wp.pl             4  \n",
       "49         enrique_munoz@yahoo.es             5  \n",
       "50      joakim.johansson@yahoo.se             5  \n",
       "51         emma_jones@hotmail.com             3  \n",
       "52          phil.hughes@gmail.com             3  \n",
       "53          steve.murray@yahoo.uk             5  \n",
       "54           mark.taylor@yahoo.au             4  \n",
       "55       diego.gutierrez@yahoo.ar             4  \n",
       "56             luisrojas@yahoo.cl             5  \n",
       "57        manoj.pareek@rediff.com             3  \n",
       "58       puja_srivastava@yahoo.in             3  "
      ]
     },
     "execution_count": 183,
     "metadata": {},
     "output_type": "execute_result"
    }
   ],
   "source": [
    "customers = pd.read_sql(\"SELECT * from customers\", conn)\n",
    "customers"
   ]
  },
  {
   "cell_type": "code",
   "execution_count": 167,
   "metadata": {},
   "outputs": [
    {
     "data": {
      "text/html": [
       "<div>\n",
       "<style scoped>\n",
       "    .dataframe tbody tr th:only-of-type {\n",
       "        vertical-align: middle;\n",
       "    }\n",
       "\n",
       "    .dataframe tbody tr th {\n",
       "        vertical-align: top;\n",
       "    }\n",
       "\n",
       "    .dataframe thead th {\n",
       "        text-align: right;\n",
       "    }\n",
       "</style>\n",
       "<table border=\"1\" class=\"dataframe\">\n",
       "  <thead>\n",
       "    <tr style=\"text-align: right;\">\n",
       "      <th></th>\n",
       "      <th>FirstName</th>\n",
       "      <th>LastName</th>\n",
       "      <th>Company</th>\n",
       "      <th>Address</th>\n",
       "      <th>City</th>\n",
       "      <th>State</th>\n",
       "      <th>Country</th>\n",
       "      <th>Phone</th>\n",
       "      <th>Email</th>\n",
       "    </tr>\n",
       "  </thead>\n",
       "  <tbody>\n",
       "    <tr>\n",
       "      <th>0</th>\n",
       "      <td>Luís</td>\n",
       "      <td>Gonçalves</td>\n",
       "      <td>Embraer - Empresa Brasileira de Aeronáutica S.A.</td>\n",
       "      <td>Av. Brigadeiro Faria Lima, 2170</td>\n",
       "      <td>São José dos Campos</td>\n",
       "      <td>SP</td>\n",
       "      <td>Brazil</td>\n",
       "      <td>+55 (12) 3923-5555</td>\n",
       "      <td>luisg@embraer.com.br</td>\n",
       "    </tr>\n",
       "    <tr>\n",
       "      <th>1</th>\n",
       "      <td>Leonie</td>\n",
       "      <td>Köhler</td>\n",
       "      <td>None</td>\n",
       "      <td>Theodor-Heuss-Straße 34</td>\n",
       "      <td>Stuttgart</td>\n",
       "      <td>None</td>\n",
       "      <td>Germany</td>\n",
       "      <td>+49 0711 2842222</td>\n",
       "      <td>leonekohler@surfeu.de</td>\n",
       "    </tr>\n",
       "    <tr>\n",
       "      <th>2</th>\n",
       "      <td>François</td>\n",
       "      <td>Tremblay</td>\n",
       "      <td>None</td>\n",
       "      <td>1498 rue Bélanger</td>\n",
       "      <td>Montréal</td>\n",
       "      <td>QC</td>\n",
       "      <td>Canada</td>\n",
       "      <td>+1 (514) 721-4711</td>\n",
       "      <td>ftremblay@gmail.com</td>\n",
       "    </tr>\n",
       "    <tr>\n",
       "      <th>3</th>\n",
       "      <td>Bjørn</td>\n",
       "      <td>Hansen</td>\n",
       "      <td>None</td>\n",
       "      <td>Ullevålsveien 14</td>\n",
       "      <td>Oslo</td>\n",
       "      <td>None</td>\n",
       "      <td>Norway</td>\n",
       "      <td>+47 22 44 22 22</td>\n",
       "      <td>bjorn.hansen@yahoo.no</td>\n",
       "    </tr>\n",
       "    <tr>\n",
       "      <th>4</th>\n",
       "      <td>František</td>\n",
       "      <td>Wichterlová</td>\n",
       "      <td>JetBrains s.r.o.</td>\n",
       "      <td>Klanova 9/506</td>\n",
       "      <td>Prague</td>\n",
       "      <td>None</td>\n",
       "      <td>Czech Republic</td>\n",
       "      <td>+420 2 4172 5555</td>\n",
       "      <td>frantisekw@jetbrains.com</td>\n",
       "    </tr>\n",
       "  </tbody>\n",
       "</table>\n",
       "</div>"
      ],
      "text/plain": [
       "   FirstName     LastName                                           Company  \\\n",
       "0       Luís    Gonçalves  Embraer - Empresa Brasileira de Aeronáutica S.A.   \n",
       "1     Leonie       Köhler                                              None   \n",
       "2   François     Tremblay                                              None   \n",
       "3      Bjørn       Hansen                                              None   \n",
       "4  František  Wichterlová                                  JetBrains s.r.o.   \n",
       "\n",
       "                           Address                 City State         Country  \\\n",
       "0  Av. Brigadeiro Faria Lima, 2170  São José dos Campos    SP          Brazil   \n",
       "1          Theodor-Heuss-Straße 34            Stuttgart  None         Germany   \n",
       "2                1498 rue Bélanger             Montréal    QC          Canada   \n",
       "3                 Ullevålsveien 14                 Oslo  None          Norway   \n",
       "4                    Klanova 9/506               Prague  None  Czech Republic   \n",
       "\n",
       "                Phone                     Email  \n",
       "0  +55 (12) 3923-5555      luisg@embraer.com.br  \n",
       "1    +49 0711 2842222     leonekohler@surfeu.de  \n",
       "2   +1 (514) 721-4711       ftremblay@gmail.com  \n",
       "3     +47 22 44 22 22     bjorn.hansen@yahoo.no  \n",
       "4    +420 2 4172 5555  frantisekw@jetbrains.com  "
      ]
     },
     "execution_count": 167,
     "metadata": {},
     "output_type": "execute_result"
    }
   ],
   "source": [
    "new_customers = customers[[\"FirstName\", \"LastName\", \"Company\", \"Address\", \"City\", \"State\", \"Country\", \"Phone\", \"Email\"]]\n",
    "new_customers.head()"
   ]
  },
  {
   "cell_type": "code",
   "execution_count": null,
   "metadata": {},
   "outputs": [],
   "source": [
    "help(new_customers.to_sql)"
   ]
  },
  {
   "cell_type": "code",
   "execution_count": 180,
   "metadata": {},
   "outputs": [
    {
     "ename": "ValueError",
     "evalue": "Table 'customers' already exists.",
     "output_type": "error",
     "traceback": [
      "\u001b[0;31m---------------------------------------------------------------------------\u001b[0m",
      "\u001b[0;31mValueError\u001b[0m                                Traceback (most recent call last)",
      "\u001b[0;32m<ipython-input-180-2440a5246b6a>\u001b[0m in \u001b[0;36m<module>\u001b[0;34m\u001b[0m\n\u001b[1;32m      1\u001b[0m \u001b[0mnew_db\u001b[0m \u001b[0;34m=\u001b[0m \u001b[0;34m'new_db.db'\u001b[0m\u001b[0;34m\u001b[0m\u001b[0;34m\u001b[0m\u001b[0m\n\u001b[1;32m      2\u001b[0m \u001b[0mconn\u001b[0m \u001b[0;34m=\u001b[0m \u001b[0mconnection\u001b[0m\u001b[0;34m(\u001b[0m\u001b[0mnew_db\u001b[0m\u001b[0;34m)\u001b[0m\u001b[0;34m\u001b[0m\u001b[0;34m\u001b[0m\u001b[0m\n\u001b[0;32m----> 3\u001b[0;31m \u001b[0mnew_customers\u001b[0m\u001b[0;34m.\u001b[0m\u001b[0mto_sql\u001b[0m\u001b[0;34m(\u001b[0m\u001b[0;34m'customers'\u001b[0m\u001b[0;34m,\u001b[0m \u001b[0mconn\u001b[0m\u001b[0;34m)\u001b[0m\u001b[0;34m\u001b[0m\u001b[0;34m\u001b[0m\u001b[0m\n\u001b[0m",
      "\u001b[0;32m~/.pyenv/versions/3.9.1/lib/python3.9/site-packages/pandas/core/generic.py\u001b[0m in \u001b[0;36mto_sql\u001b[0;34m(self, name, con, schema, if_exists, index, index_label, chunksize, dtype, method)\u001b[0m\n\u001b[1;32m   2774\u001b[0m         \u001b[0;32mfrom\u001b[0m \u001b[0mpandas\u001b[0m\u001b[0;34m.\u001b[0m\u001b[0mio\u001b[0m \u001b[0;32mimport\u001b[0m \u001b[0msql\u001b[0m\u001b[0;34m\u001b[0m\u001b[0;34m\u001b[0m\u001b[0m\n\u001b[1;32m   2775\u001b[0m \u001b[0;34m\u001b[0m\u001b[0m\n\u001b[0;32m-> 2776\u001b[0;31m         sql.to_sql(\n\u001b[0m\u001b[1;32m   2777\u001b[0m             \u001b[0mself\u001b[0m\u001b[0;34m,\u001b[0m\u001b[0;34m\u001b[0m\u001b[0;34m\u001b[0m\u001b[0m\n\u001b[1;32m   2778\u001b[0m             \u001b[0mname\u001b[0m\u001b[0;34m,\u001b[0m\u001b[0;34m\u001b[0m\u001b[0;34m\u001b[0m\u001b[0m\n",
      "\u001b[0;32m~/.pyenv/versions/3.9.1/lib/python3.9/site-packages/pandas/io/sql.py\u001b[0m in \u001b[0;36mto_sql\u001b[0;34m(frame, name, con, schema, if_exists, index, index_label, chunksize, dtype, method)\u001b[0m\n\u001b[1;32m    588\u001b[0m         )\n\u001b[1;32m    589\u001b[0m \u001b[0;34m\u001b[0m\u001b[0m\n\u001b[0;32m--> 590\u001b[0;31m     pandas_sql.to_sql(\n\u001b[0m\u001b[1;32m    591\u001b[0m         \u001b[0mframe\u001b[0m\u001b[0;34m,\u001b[0m\u001b[0;34m\u001b[0m\u001b[0;34m\u001b[0m\u001b[0m\n\u001b[1;32m    592\u001b[0m         \u001b[0mname\u001b[0m\u001b[0;34m,\u001b[0m\u001b[0;34m\u001b[0m\u001b[0;34m\u001b[0m\u001b[0m\n",
      "\u001b[0;32m~/.pyenv/versions/3.9.1/lib/python3.9/site-packages/pandas/io/sql.py\u001b[0m in \u001b[0;36mto_sql\u001b[0;34m(self, frame, name, if_exists, index, index_label, schema, chunksize, dtype, method)\u001b[0m\n\u001b[1;32m   1841\u001b[0m             \u001b[0mdtype\u001b[0m\u001b[0;34m=\u001b[0m\u001b[0mdtype\u001b[0m\u001b[0;34m,\u001b[0m\u001b[0;34m\u001b[0m\u001b[0;34m\u001b[0m\u001b[0m\n\u001b[1;32m   1842\u001b[0m         )\n\u001b[0;32m-> 1843\u001b[0;31m         \u001b[0mtable\u001b[0m\u001b[0;34m.\u001b[0m\u001b[0mcreate\u001b[0m\u001b[0;34m(\u001b[0m\u001b[0;34m)\u001b[0m\u001b[0;34m\u001b[0m\u001b[0;34m\u001b[0m\u001b[0m\n\u001b[0m\u001b[1;32m   1844\u001b[0m         \u001b[0mtable\u001b[0m\u001b[0;34m.\u001b[0m\u001b[0minsert\u001b[0m\u001b[0;34m(\u001b[0m\u001b[0mchunksize\u001b[0m\u001b[0;34m,\u001b[0m \u001b[0mmethod\u001b[0m\u001b[0;34m)\u001b[0m\u001b[0;34m\u001b[0m\u001b[0;34m\u001b[0m\u001b[0m\n\u001b[1;32m   1845\u001b[0m \u001b[0;34m\u001b[0m\u001b[0m\n",
      "\u001b[0;32m~/.pyenv/versions/3.9.1/lib/python3.9/site-packages/pandas/io/sql.py\u001b[0m in \u001b[0;36mcreate\u001b[0;34m(self)\u001b[0m\n\u001b[1;32m    722\u001b[0m         \u001b[0;32mif\u001b[0m \u001b[0mself\u001b[0m\u001b[0;34m.\u001b[0m\u001b[0mexists\u001b[0m\u001b[0;34m(\u001b[0m\u001b[0;34m)\u001b[0m\u001b[0;34m:\u001b[0m\u001b[0;34m\u001b[0m\u001b[0;34m\u001b[0m\u001b[0m\n\u001b[1;32m    723\u001b[0m             \u001b[0;32mif\u001b[0m \u001b[0mself\u001b[0m\u001b[0;34m.\u001b[0m\u001b[0mif_exists\u001b[0m \u001b[0;34m==\u001b[0m \u001b[0;34m\"fail\"\u001b[0m\u001b[0;34m:\u001b[0m\u001b[0;34m\u001b[0m\u001b[0;34m\u001b[0m\u001b[0m\n\u001b[0;32m--> 724\u001b[0;31m                 \u001b[0;32mraise\u001b[0m \u001b[0mValueError\u001b[0m\u001b[0;34m(\u001b[0m\u001b[0;34mf\"Table '{self.name}' already exists.\"\u001b[0m\u001b[0;34m)\u001b[0m\u001b[0;34m\u001b[0m\u001b[0;34m\u001b[0m\u001b[0m\n\u001b[0m\u001b[1;32m    725\u001b[0m             \u001b[0;32melif\u001b[0m \u001b[0mself\u001b[0m\u001b[0;34m.\u001b[0m\u001b[0mif_exists\u001b[0m \u001b[0;34m==\u001b[0m \u001b[0;34m\"replace\"\u001b[0m\u001b[0;34m:\u001b[0m\u001b[0;34m\u001b[0m\u001b[0;34m\u001b[0m\u001b[0m\n\u001b[1;32m    726\u001b[0m                 \u001b[0mself\u001b[0m\u001b[0;34m.\u001b[0m\u001b[0mpd_sql\u001b[0m\u001b[0;34m.\u001b[0m\u001b[0mdrop_table\u001b[0m\u001b[0;34m(\u001b[0m\u001b[0mself\u001b[0m\u001b[0;34m.\u001b[0m\u001b[0mname\u001b[0m\u001b[0;34m,\u001b[0m \u001b[0mself\u001b[0m\u001b[0;34m.\u001b[0m\u001b[0mschema\u001b[0m\u001b[0;34m)\u001b[0m\u001b[0;34m\u001b[0m\u001b[0;34m\u001b[0m\u001b[0m\n",
      "\u001b[0;31mValueError\u001b[0m: Table 'customers' already exists."
     ]
    }
   ],
   "source": [
    "new_db = 'new_db.db'\n",
    "conn = connection(new_db)\n",
    "new_customers.to_sql('customers', conn)"
   ]
  },
  {
   "cell_type": "code",
   "execution_count": 179,
   "metadata": {},
   "outputs": [
    {
     "data": {
      "text/plain": [
       "[(0, 'index', 'INTEGER', 0, None, 0),\n",
       " (1, 'FirstName', 'TEXT', 0, None, 0),\n",
       " (2, 'LastName', 'TEXT', 0, None, 0),\n",
       " (3, 'Company', 'TEXT', 0, None, 0),\n",
       " (4, 'Address', 'TEXT', 0, None, 0),\n",
       " (5, 'City', 'TEXT', 0, None, 0),\n",
       " (6, 'State', 'TEXT', 0, None, 0),\n",
       " (7, 'Country', 'TEXT', 0, None, 0),\n",
       " (8, 'Phone', 'TEXT', 0, None, 0),\n",
       " (9, 'Email', 'TEXT', 0, None, 0)]"
      ]
     },
     "execution_count": 179,
     "metadata": {},
     "output_type": "execute_result"
    }
   ],
   "source": [
    "get_cols(new_db, 'customers')"
   ]
  },
  {
   "cell_type": "code",
   "execution_count": 178,
   "metadata": {
    "scrolled": true
   },
   "outputs": [
    {
     "data": {
      "text/plain": [
       "[(0,\n",
       "  'Luís',\n",
       "  'Gonçalves',\n",
       "  'Embraer - Empresa Brasileira de Aeronáutica S.A.',\n",
       "  'Av. Brigadeiro Faria Lima, 2170',\n",
       "  'São José dos Campos',\n",
       "  'SP',\n",
       "  'Brazil',\n",
       "  '+55 (12) 3923-5555',\n",
       "  'luisg@embraer.com.br'),\n",
       " (1,\n",
       "  'Leonie',\n",
       "  'Köhler',\n",
       "  None,\n",
       "  'Theodor-Heuss-Straße 34',\n",
       "  'Stuttgart',\n",
       "  None,\n",
       "  'Germany',\n",
       "  '+49 0711 2842222',\n",
       "  'leonekohler@surfeu.de'),\n",
       " (2,\n",
       "  'François',\n",
       "  'Tremblay',\n",
       "  None,\n",
       "  '1498 rue Bélanger',\n",
       "  'Montréal',\n",
       "  'QC',\n",
       "  'Canada',\n",
       "  '+1 (514) 721-4711',\n",
       "  'ftremblay@gmail.com'),\n",
       " (3,\n",
       "  'Bjørn',\n",
       "  'Hansen',\n",
       "  None,\n",
       "  'Ullevålsveien 14',\n",
       "  'Oslo',\n",
       "  None,\n",
       "  'Norway',\n",
       "  '+47 22 44 22 22',\n",
       "  'bjorn.hansen@yahoo.no'),\n",
       " (4,\n",
       "  'František',\n",
       "  'Wichterlová',\n",
       "  'JetBrains s.r.o.',\n",
       "  'Klanova 9/506',\n",
       "  'Prague',\n",
       "  None,\n",
       "  'Czech Republic',\n",
       "  '+420 2 4172 5555',\n",
       "  'frantisekw@jetbrains.com'),\n",
       " (5,\n",
       "  'Helena',\n",
       "  'Holý',\n",
       "  None,\n",
       "  'Rilská 3174/6',\n",
       "  'Prague',\n",
       "  None,\n",
       "  'Czech Republic',\n",
       "  '+420 2 4177 0449',\n",
       "  'hholy@gmail.com'),\n",
       " (6,\n",
       "  'Astrid',\n",
       "  'Gruber',\n",
       "  None,\n",
       "  'Rotenturmstraße 4, 1010 Innere Stadt',\n",
       "  'Vienne',\n",
       "  None,\n",
       "  'Austria',\n",
       "  '+43 01 5134505',\n",
       "  'astrid.gruber@apple.at'),\n",
       " (7,\n",
       "  'Daan',\n",
       "  'Peeters',\n",
       "  None,\n",
       "  'Grétrystraat 63',\n",
       "  'Brussels',\n",
       "  None,\n",
       "  'Belgium',\n",
       "  '+32 02 219 03 03',\n",
       "  'daan_peeters@apple.be'),\n",
       " (8,\n",
       "  'Kara',\n",
       "  'Nielsen',\n",
       "  None,\n",
       "  'Sønder Boulevard 51',\n",
       "  'Copenhagen',\n",
       "  None,\n",
       "  'Denmark',\n",
       "  '+453 3331 9991',\n",
       "  'kara.nielsen@jubii.dk'),\n",
       " (9,\n",
       "  'Eduardo',\n",
       "  'Martins',\n",
       "  'Woodstock Discos',\n",
       "  'Rua Dr. Falcão Filho, 155',\n",
       "  'São Paulo',\n",
       "  'SP',\n",
       "  'Brazil',\n",
       "  '+55 (11) 3033-5446',\n",
       "  'eduardo@woodstock.com.br'),\n",
       " (10,\n",
       "  'Alexandre',\n",
       "  'Rocha',\n",
       "  'Banco do Brasil S.A.',\n",
       "  'Av. Paulista, 2022',\n",
       "  'São Paulo',\n",
       "  'SP',\n",
       "  'Brazil',\n",
       "  '+55 (11) 3055-3278',\n",
       "  'alero@uol.com.br'),\n",
       " (11,\n",
       "  'Roberto',\n",
       "  'Almeida',\n",
       "  'Riotur',\n",
       "  'Praça Pio X, 119',\n",
       "  'Rio de Janeiro',\n",
       "  'RJ',\n",
       "  'Brazil',\n",
       "  '+55 (21) 2271-7000',\n",
       "  'roberto.almeida@riotur.gov.br'),\n",
       " (12,\n",
       "  'Fernanda',\n",
       "  'Ramos',\n",
       "  None,\n",
       "  'Qe 7 Bloco G',\n",
       "  'Brasília',\n",
       "  'DF',\n",
       "  'Brazil',\n",
       "  '+55 (61) 3363-5547',\n",
       "  'fernadaramos4@uol.com.br'),\n",
       " (13,\n",
       "  'Mark',\n",
       "  'Philips',\n",
       "  'Telus',\n",
       "  '8210 111 ST NW',\n",
       "  'Edmonton',\n",
       "  'AB',\n",
       "  'Canada',\n",
       "  '+1 (780) 434-4554',\n",
       "  'mphilips12@shaw.ca'),\n",
       " (14,\n",
       "  'Jennifer',\n",
       "  'Peterson',\n",
       "  'Rogers Canada',\n",
       "  '700 W Pender Street',\n",
       "  'Vancouver',\n",
       "  'BC',\n",
       "  'Canada',\n",
       "  '+1 (604) 688-2255',\n",
       "  'jenniferp@rogers.ca'),\n",
       " (15,\n",
       "  'Frank',\n",
       "  'Harris',\n",
       "  'Google Inc.',\n",
       "  '1600 Amphitheatre Parkway',\n",
       "  'Mountain View',\n",
       "  'CA',\n",
       "  'USA',\n",
       "  '+1 (650) 253-0000',\n",
       "  'fharris@google.com'),\n",
       " (16,\n",
       "  'Jack',\n",
       "  'Smith',\n",
       "  'Microsoft Corporation',\n",
       "  '1 Microsoft Way',\n",
       "  'Redmond',\n",
       "  'WA',\n",
       "  'USA',\n",
       "  '+1 (425) 882-8080',\n",
       "  'jacksmith@microsoft.com'),\n",
       " (17,\n",
       "  'Michelle',\n",
       "  'Brooks',\n",
       "  None,\n",
       "  '627 Broadway',\n",
       "  'New York',\n",
       "  'NY',\n",
       "  'USA',\n",
       "  '+1 (212) 221-3546',\n",
       "  'michelleb@aol.com'),\n",
       " (18,\n",
       "  'Tim',\n",
       "  'Goyer',\n",
       "  'Apple Inc.',\n",
       "  '1 Infinite Loop',\n",
       "  'Cupertino',\n",
       "  'CA',\n",
       "  'USA',\n",
       "  '+1 (408) 996-1010',\n",
       "  'tgoyer@apple.com'),\n",
       " (19,\n",
       "  'Dan',\n",
       "  'Miller',\n",
       "  None,\n",
       "  '541 Del Medio Avenue',\n",
       "  'Mountain View',\n",
       "  'CA',\n",
       "  'USA',\n",
       "  '+1 (650) 644-3358',\n",
       "  'dmiller@comcast.com'),\n",
       " (20,\n",
       "  'Kathy',\n",
       "  'Chase',\n",
       "  None,\n",
       "  '801 W 4th Street',\n",
       "  'Reno',\n",
       "  'NV',\n",
       "  'USA',\n",
       "  '+1 (775) 223-7665',\n",
       "  'kachase@hotmail.com'),\n",
       " (21,\n",
       "  'Heather',\n",
       "  'Leacock',\n",
       "  None,\n",
       "  '120 S Orange Ave',\n",
       "  'Orlando',\n",
       "  'FL',\n",
       "  'USA',\n",
       "  '+1 (407) 999-7788',\n",
       "  'hleacock@gmail.com'),\n",
       " (22,\n",
       "  'John',\n",
       "  'Gordon',\n",
       "  None,\n",
       "  '69 Salem Street',\n",
       "  'Boston',\n",
       "  'MA',\n",
       "  'USA',\n",
       "  '+1 (617) 522-1333',\n",
       "  'johngordon22@yahoo.com'),\n",
       " (23,\n",
       "  'Frank',\n",
       "  'Ralston',\n",
       "  None,\n",
       "  '162 E Superior Street',\n",
       "  'Chicago',\n",
       "  'IL',\n",
       "  'USA',\n",
       "  '+1 (312) 332-3232',\n",
       "  'fralston@gmail.com'),\n",
       " (24,\n",
       "  'Victor',\n",
       "  'Stevens',\n",
       "  None,\n",
       "  '319 N. Frances Street',\n",
       "  'Madison',\n",
       "  'WI',\n",
       "  'USA',\n",
       "  '+1 (608) 257-0597',\n",
       "  'vstevens@yahoo.com'),\n",
       " (25,\n",
       "  'Richard',\n",
       "  'Cunningham',\n",
       "  None,\n",
       "  '2211 W Berry Street',\n",
       "  'Fort Worth',\n",
       "  'TX',\n",
       "  'USA',\n",
       "  '+1 (817) 924-7272',\n",
       "  'ricunningham@hotmail.com'),\n",
       " (26,\n",
       "  'Patrick',\n",
       "  'Gray',\n",
       "  None,\n",
       "  '1033 N Park Ave',\n",
       "  'Tucson',\n",
       "  'AZ',\n",
       "  'USA',\n",
       "  '+1 (520) 622-4200',\n",
       "  'patrick.gray@aol.com'),\n",
       " (27,\n",
       "  'Julia',\n",
       "  'Barnett',\n",
       "  None,\n",
       "  '302 S 700 E',\n",
       "  'Salt Lake City',\n",
       "  'UT',\n",
       "  'USA',\n",
       "  '+1 (801) 531-7272',\n",
       "  'jubarnett@gmail.com'),\n",
       " (28,\n",
       "  'Robert',\n",
       "  'Brown',\n",
       "  None,\n",
       "  '796 Dundas Street West',\n",
       "  'Toronto',\n",
       "  'ON',\n",
       "  'Canada',\n",
       "  '+1 (416) 363-8888',\n",
       "  'robbrown@shaw.ca'),\n",
       " (29,\n",
       "  'Edward',\n",
       "  'Francis',\n",
       "  None,\n",
       "  '230 Elgin Street',\n",
       "  'Ottawa',\n",
       "  'ON',\n",
       "  'Canada',\n",
       "  '+1 (613) 234-3322',\n",
       "  'edfrancis@yachoo.ca'),\n",
       " (30,\n",
       "  'Martha',\n",
       "  'Silk',\n",
       "  None,\n",
       "  '194A Chain Lake Drive',\n",
       "  'Halifax',\n",
       "  'NS',\n",
       "  'Canada',\n",
       "  '+1 (902) 450-0450',\n",
       "  'marthasilk@gmail.com'),\n",
       " (31,\n",
       "  'Aaron',\n",
       "  'Mitchell',\n",
       "  None,\n",
       "  '696 Osborne Street',\n",
       "  'Winnipeg',\n",
       "  'MB',\n",
       "  'Canada',\n",
       "  '+1 (204) 452-6452',\n",
       "  'aaronmitchell@yahoo.ca'),\n",
       " (32,\n",
       "  'Ellie',\n",
       "  'Sullivan',\n",
       "  None,\n",
       "  '5112 48 Street',\n",
       "  'Yellowknife',\n",
       "  'NT',\n",
       "  'Canada',\n",
       "  '+1 (867) 920-2233',\n",
       "  'ellie.sullivan@shaw.ca'),\n",
       " (33,\n",
       "  'João',\n",
       "  'Fernandes',\n",
       "  None,\n",
       "  'Rua da Assunção 53',\n",
       "  'Lisbon',\n",
       "  None,\n",
       "  'Portugal',\n",
       "  '+351 (213) 466-111',\n",
       "  'jfernandes@yahoo.pt'),\n",
       " (34,\n",
       "  'Madalena',\n",
       "  'Sampaio',\n",
       "  None,\n",
       "  'Rua dos Campeões Europeus de Viena, 4350',\n",
       "  'Porto',\n",
       "  None,\n",
       "  'Portugal',\n",
       "  '+351 (225) 022-448',\n",
       "  'masampaio@sapo.pt'),\n",
       " (35,\n",
       "  'Hannah',\n",
       "  'Schneider',\n",
       "  None,\n",
       "  'Tauentzienstraße 8',\n",
       "  'Berlin',\n",
       "  None,\n",
       "  'Germany',\n",
       "  '+49 030 26550280',\n",
       "  'hannah.schneider@yahoo.de'),\n",
       " (36,\n",
       "  'Fynn',\n",
       "  'Zimmermann',\n",
       "  None,\n",
       "  'Berger Straße 10',\n",
       "  'Frankfurt',\n",
       "  None,\n",
       "  'Germany',\n",
       "  '+49 069 40598889',\n",
       "  'fzimmermann@yahoo.de'),\n",
       " (37,\n",
       "  'Niklas',\n",
       "  'Schröder',\n",
       "  None,\n",
       "  'Barbarossastraße 19',\n",
       "  'Berlin',\n",
       "  None,\n",
       "  'Germany',\n",
       "  '+49 030 2141444',\n",
       "  'nschroder@surfeu.de'),\n",
       " (38,\n",
       "  'Camille',\n",
       "  'Bernard',\n",
       "  None,\n",
       "  '4, Rue Milton',\n",
       "  'Paris',\n",
       "  None,\n",
       "  'France',\n",
       "  '+33 01 49 70 65 65',\n",
       "  'camille.bernard@yahoo.fr'),\n",
       " (39,\n",
       "  'Dominique',\n",
       "  'Lefebvre',\n",
       "  None,\n",
       "  '8, Rue Hanovre',\n",
       "  'Paris',\n",
       "  None,\n",
       "  'France',\n",
       "  '+33 01 47 42 71 71',\n",
       "  'dominiquelefebvre@gmail.com'),\n",
       " (40,\n",
       "  'Marc',\n",
       "  'Dubois',\n",
       "  None,\n",
       "  '11, Place Bellecour',\n",
       "  'Lyon',\n",
       "  None,\n",
       "  'France',\n",
       "  '+33 04 78 30 30 30',\n",
       "  'marc.dubois@hotmail.com'),\n",
       " (41,\n",
       "  'Wyatt',\n",
       "  'Girard',\n",
       "  None,\n",
       "  '9, Place Louis Barthou',\n",
       "  'Bordeaux',\n",
       "  None,\n",
       "  'France',\n",
       "  '+33 05 56 96 96 96',\n",
       "  'wyatt.girard@yahoo.fr'),\n",
       " (42,\n",
       "  'Isabelle',\n",
       "  'Mercier',\n",
       "  None,\n",
       "  '68, Rue Jouvence',\n",
       "  'Dijon',\n",
       "  None,\n",
       "  'France',\n",
       "  '+33 03 80 73 66 99',\n",
       "  'isabelle_mercier@apple.fr'),\n",
       " (43,\n",
       "  'Terhi',\n",
       "  'Hämäläinen',\n",
       "  None,\n",
       "  'Porthaninkatu 9',\n",
       "  'Helsinki',\n",
       "  None,\n",
       "  'Finland',\n",
       "  '+358 09 870 2000',\n",
       "  'terhi.hamalainen@apple.fi'),\n",
       " (44,\n",
       "  'Ladislav',\n",
       "  'Kovács',\n",
       "  None,\n",
       "  'Erzsébet krt. 58.',\n",
       "  'Budapest',\n",
       "  None,\n",
       "  'Hungary',\n",
       "  None,\n",
       "  'ladislav_kovacs@apple.hu'),\n",
       " (45,\n",
       "  'Hugh',\n",
       "  \"O'Reilly\",\n",
       "  None,\n",
       "  '3 Chatham Street',\n",
       "  'Dublin',\n",
       "  'Dublin',\n",
       "  'Ireland',\n",
       "  '+353 01 6792424',\n",
       "  'hughoreilly@apple.ie'),\n",
       " (46,\n",
       "  'Lucas',\n",
       "  'Mancini',\n",
       "  None,\n",
       "  'Via Degli Scipioni, 43',\n",
       "  'Rome',\n",
       "  'RM',\n",
       "  'Italy',\n",
       "  '+39 06 39733434',\n",
       "  'lucas.mancini@yahoo.it'),\n",
       " (47,\n",
       "  'Johannes',\n",
       "  'Van der Berg',\n",
       "  None,\n",
       "  'Lijnbaansgracht 120bg',\n",
       "  'Amsterdam',\n",
       "  'VV',\n",
       "  'Netherlands',\n",
       "  '+31 020 6223130',\n",
       "  'johavanderberg@yahoo.nl'),\n",
       " (48,\n",
       "  'Stanisław',\n",
       "  'Wójcik',\n",
       "  None,\n",
       "  'Ordynacka 10',\n",
       "  'Warsaw',\n",
       "  None,\n",
       "  'Poland',\n",
       "  '+48 22 828 37 39',\n",
       "  'stanisław.wójcik@wp.pl'),\n",
       " (49,\n",
       "  'Enrique',\n",
       "  'Muñoz',\n",
       "  None,\n",
       "  'C/ San Bernardo 85',\n",
       "  'Madrid',\n",
       "  None,\n",
       "  'Spain',\n",
       "  '+34 914 454 454',\n",
       "  'enrique_munoz@yahoo.es'),\n",
       " (50,\n",
       "  'Joakim',\n",
       "  'Johansson',\n",
       "  None,\n",
       "  'Celsiusg. 9',\n",
       "  'Stockholm',\n",
       "  None,\n",
       "  'Sweden',\n",
       "  '+46 08-651 52 52',\n",
       "  'joakim.johansson@yahoo.se'),\n",
       " (51,\n",
       "  'Emma',\n",
       "  'Jones',\n",
       "  None,\n",
       "  '202 Hoxton Street',\n",
       "  'London',\n",
       "  None,\n",
       "  'United Kingdom',\n",
       "  '+44 020 7707 0707',\n",
       "  'emma_jones@hotmail.com'),\n",
       " (52,\n",
       "  'Phil',\n",
       "  'Hughes',\n",
       "  None,\n",
       "  '113 Lupus St',\n",
       "  'London',\n",
       "  None,\n",
       "  'United Kingdom',\n",
       "  '+44 020 7976 5722',\n",
       "  'phil.hughes@gmail.com'),\n",
       " (53,\n",
       "  'Steve',\n",
       "  'Murray',\n",
       "  None,\n",
       "  '110 Raeburn Pl',\n",
       "  'Edinburgh ',\n",
       "  None,\n",
       "  'United Kingdom',\n",
       "  '+44 0131 315 3300',\n",
       "  'steve.murray@yahoo.uk'),\n",
       " (54,\n",
       "  'Mark',\n",
       "  'Taylor',\n",
       "  None,\n",
       "  '421 Bourke Street',\n",
       "  'Sidney',\n",
       "  'NSW',\n",
       "  'Australia',\n",
       "  '+61 (02) 9332 3633',\n",
       "  'mark.taylor@yahoo.au'),\n",
       " (55,\n",
       "  'Diego',\n",
       "  'Gutiérrez',\n",
       "  None,\n",
       "  '307 Macacha Güemes',\n",
       "  'Buenos Aires',\n",
       "  None,\n",
       "  'Argentina',\n",
       "  '+54 (0)11 4311 4333',\n",
       "  'diego.gutierrez@yahoo.ar'),\n",
       " (56,\n",
       "  'Luis',\n",
       "  'Rojas',\n",
       "  None,\n",
       "  'Calle Lira, 198',\n",
       "  'Santiago',\n",
       "  None,\n",
       "  'Chile',\n",
       "  '+56 (0)2 635 4444',\n",
       "  'luisrojas@yahoo.cl'),\n",
       " (57,\n",
       "  'Manoj',\n",
       "  'Pareek',\n",
       "  None,\n",
       "  '12,Community Centre',\n",
       "  'Delhi',\n",
       "  None,\n",
       "  'India',\n",
       "  '+91 0124 39883988',\n",
       "  'manoj.pareek@rediff.com'),\n",
       " (58,\n",
       "  'Puja',\n",
       "  'Srivastava',\n",
       "  None,\n",
       "  '3,Raj Bhavan Road',\n",
       "  'Bangalore',\n",
       "  None,\n",
       "  'India',\n",
       "  '+91 080 22289999',\n",
       "  'puja_srivastava@yahoo.in')]"
      ]
     },
     "execution_count": 178,
     "metadata": {},
     "output_type": "execute_result"
    }
   ],
   "source": [
    "execute(new_db, 'SELECT * from customers')"
   ]
  },
  {
   "cell_type": "code",
   "execution_count": null,
   "metadata": {
    "collapsed": false,
    "jupyter": {
     "outputs_hidden": false
    }
   },
   "outputs": [],
   "source": [
    "%matplotlib inline\n",
    "from matplotlib import pyplot as plt"
   ]
  },
  {
   "cell_type": "markdown",
   "metadata": {},
   "source": [
    "\n",
    "# The Lifecycle of a Matplotlib Plot\n",
    "\n",
    "\n",
    "This tutorial aims to show the beginning, middle, and end of a single\n",
    "visualization using Matplotlib. We'll begin with some raw data and\n",
    "end by saving a figure of a customized visualization. Along the way we try\n",
    "to highlight some neat features and best-practices using Matplotlib.\n",
    "\n",
    "A note on the Object-Oriented API vs. Pyplot\n",
    "============================================\n",
    "\n",
    "Matplotlib has two interfaces. The first is an object-oriented (OO)\n",
    "interface. In this case, we utilize an instance of `axes.Axes`\n",
    "in order to render visualizations on an instance of `figure.Figure`.\n",
    "\n",
    "The second is based on MATLAB and uses a state-based interface. This is\n",
    "encapsulated in the `.pyplot` module. \n",
    "\n",
    "Most of the terms are straightforward but the main thing to remember\n",
    "is that:\n",
    "\n",
    "* The Figure is the final image that may contain 1 or more Axes.\n",
    "* The Axes represent an individual plot (don't confuse this with the word\n",
    "  \"axis\", which refers to the x/y axis of a plot).\n",
    "\n",
    "We call methods that do the plotting directly from the Axes, which gives\n",
    "us much more flexibility and power in customizing our plot.\n",
    "\n",
    "<p>In general, try to use the object-oriented interface over the pyplot\n",
    "   interface.</p>\n",
    "\n",
    "Our data\n",
    "========\n",
    "\n",
    "We'll use the data from the post from which this tutorial was derived.\n",
    "It contains sales information for a number of companies.\n"
   ]
  },
  {
   "cell_type": "code",
   "execution_count": 203,
   "metadata": {
    "collapsed": false,
    "jupyter": {
     "outputs_hidden": false
    }
   },
   "outputs": [],
   "source": [
    "import numpy as np\n",
    "import matplotlib.pyplot as plt\n",
    "\n",
    "\n",
    "data = {'Barton LLC': 109438.50,\n",
    "        'Frami, Hills and Schmidt': 103569.59,\n",
    "        'Fritsch, Russel and Anderson': 112214.71,\n",
    "        'Jerde-Hilpert': 112591.43,\n",
    "        'Keeling LLC': 100934.30,\n",
    "        'Koepp Ltd': 103660.54,\n",
    "        'Kulas Inc': 137351.96,\n",
    "        'Trantow-Barrows': 123381.38,\n",
    "        'White-Trantow': 135841.99,\n",
    "        'Will LLC': 104437.60}\n",
    "group_data = list(data.values())\n",
    "group_names = list(data.keys())\n",
    "group_mean = np.mean(group_data)"
   ]
  },
  {
   "cell_type": "markdown",
   "metadata": {},
   "source": [
    "Getting started\n",
    "===============\n",
    "\n",
    "This data is naturally visualized as a barplot, with one bar per\n",
    "group. To do this with the object-oriented approach, we first generate\n",
    "an instance of :class:`figure.Figure` and\n",
    ":class:`axes.Axes`. The Figure is like a canvas, and the Axes\n",
    "is a part of that canvas on which we will make a particular visualization.\n",
    "\n",
    "<h4>Note</h4><p>Figures can have multiple axes on them.</p></div>\n",
    "\n"
   ]
  },
  {
   "cell_type": "code",
   "execution_count": 186,
   "metadata": {},
   "outputs": [
    {
     "name": "stdout",
     "output_type": "stream",
     "text": [
      "Help on function subplots in module matplotlib.pyplot:\n",
      "\n",
      "subplots(nrows=1, ncols=1, *, sharex=False, sharey=False, squeeze=True, subplot_kw=None, gridspec_kw=None, **fig_kw)\n",
      "    Create a figure and a set of subplots.\n",
      "    \n",
      "    This utility wrapper makes it convenient to create common layouts of\n",
      "    subplots, including the enclosing figure object, in a single call.\n",
      "    \n",
      "    Parameters\n",
      "    ----------\n",
      "    nrows, ncols : int, default: 1\n",
      "        Number of rows/columns of the subplot grid.\n",
      "    \n",
      "    sharex, sharey : bool or {'none', 'all', 'row', 'col'}, default: False\n",
      "        Controls sharing of properties among x (*sharex*) or y (*sharey*)\n",
      "        axes:\n",
      "    \n",
      "        - True or 'all': x- or y-axis will be shared among all subplots.\n",
      "        - False or 'none': each subplot x- or y-axis will be independent.\n",
      "        - 'row': each subplot row will share an x- or y-axis.\n",
      "        - 'col': each subplot column will share an x- or y-axis.\n",
      "    \n",
      "        When subplots have a shared x-axis along a column, only the x tick\n",
      "        labels of the bottom subplot are created. Similarly, when subplots\n",
      "        have a shared y-axis along a row, only the y tick labels of the first\n",
      "        column subplot are created. To later turn other subplots' ticklabels\n",
      "        on, use `~matplotlib.axes.Axes.tick_params`.\n",
      "    \n",
      "    squeeze : bool, default: True\n",
      "        - If True, extra dimensions are squeezed out from the returned\n",
      "          array of `~matplotlib.axes.Axes`:\n",
      "    \n",
      "          - if only one subplot is constructed (nrows=ncols=1), the\n",
      "            resulting single Axes object is returned as a scalar.\n",
      "          - for Nx1 or 1xM subplots, the returned object is a 1D numpy\n",
      "            object array of Axes objects.\n",
      "          - for NxM, subplots with N>1 and M>1 are returned as a 2D array.\n",
      "    \n",
      "        - If False, no squeezing at all is done: the returned Axes object is\n",
      "          always a 2D array containing Axes instances, even if it ends up\n",
      "          being 1x1.\n",
      "    \n",
      "    subplot_kw : dict, optional\n",
      "        Dict with keywords passed to the\n",
      "        `~matplotlib.figure.Figure.add_subplot` call used to create each\n",
      "        subplot.\n",
      "    \n",
      "    gridspec_kw : dict, optional\n",
      "        Dict with keywords passed to the `~matplotlib.gridspec.GridSpec`\n",
      "        constructor used to create the grid the subplots are placed on.\n",
      "    \n",
      "    **fig_kw\n",
      "        All additional keyword arguments are passed to the\n",
      "        `.pyplot.figure` call.\n",
      "    \n",
      "    Returns\n",
      "    -------\n",
      "    fig : `~.figure.Figure`\n",
      "    \n",
      "    ax : `.axes.Axes` or array of Axes\n",
      "        *ax* can be either a single `~matplotlib.axes.Axes` object or an\n",
      "        array of Axes objects if more than one subplot was created.  The\n",
      "        dimensions of the resulting array can be controlled with the squeeze\n",
      "        keyword, see above.\n",
      "    \n",
      "        Typical idioms for handling the return value are::\n",
      "    \n",
      "            # using the variable ax for single a Axes\n",
      "            fig, ax = plt.subplots()\n",
      "    \n",
      "            # using the variable axs for multiple Axes\n",
      "            fig, axs = plt.subplots(2, 2)\n",
      "    \n",
      "            # using tuple unpacking for multiple Axes\n",
      "            fig, (ax1, ax2) = plt.subplot(1, 2)\n",
      "            fig, ((ax1, ax2), (ax3, ax4)) = plt.subplot(2, 2)\n",
      "    \n",
      "        The names ``ax`` and pluralized ``axs`` are preferred over ``axes``\n",
      "        because for the latter it's not clear if it refers to a single\n",
      "        `~.axes.Axes` instance or a collection of these.\n",
      "    \n",
      "    See Also\n",
      "    --------\n",
      "    .pyplot.figure\n",
      "    .pyplot.subplot\n",
      "    .pyplot.axes\n",
      "    .Figure.subplots\n",
      "    .Figure.add_subplot\n",
      "    \n",
      "    Examples\n",
      "    --------\n",
      "    ::\n",
      "    \n",
      "        # First create some toy data:\n",
      "        x = np.linspace(0, 2*np.pi, 400)\n",
      "        y = np.sin(x**2)\n",
      "    \n",
      "        # Create just a figure and only one subplot\n",
      "        fig, ax = plt.subplots()\n",
      "        ax.plot(x, y)\n",
      "        ax.set_title('Simple plot')\n",
      "    \n",
      "        # Create two subplots and unpack the output array immediately\n",
      "        f, (ax1, ax2) = plt.subplots(1, 2, sharey=True)\n",
      "        ax1.plot(x, y)\n",
      "        ax1.set_title('Sharing Y axis')\n",
      "        ax2.scatter(x, y)\n",
      "    \n",
      "        # Create four polar axes and access them through the returned array\n",
      "        fig, axs = plt.subplots(2, 2, subplot_kw=dict(polar=True))\n",
      "        axs[0, 0].plot(x, y)\n",
      "        axs[1, 1].scatter(x, y)\n",
      "    \n",
      "        # Share a X axis with each column of subplots\n",
      "        plt.subplots(2, 2, sharex='col')\n",
      "    \n",
      "        # Share a Y axis with each row of subplots\n",
      "        plt.subplots(2, 2, sharey='row')\n",
      "    \n",
      "        # Share both X and Y axes with all subplots\n",
      "        plt.subplots(2, 2, sharex='all', sharey='all')\n",
      "    \n",
      "        # Note that this is the same as\n",
      "        plt.subplots(2, 2, sharex=True, sharey=True)\n",
      "    \n",
      "        # Create figure number 10 with a single subplot\n",
      "        # and clears it if it already exists.\n",
      "        fig, ax = plt.subplots(num=10, clear=True)\n",
      "\n"
     ]
    }
   ],
   "source": [
    "help(plt.subplots)"
   ]
  },
  {
   "cell_type": "code",
   "execution_count": 192,
   "metadata": {
    "collapsed": false,
    "jupyter": {
     "outputs_hidden": false
    }
   },
   "outputs": [
    {
     "data": {
      "image/png": "[encoded data removed]",
      "text/plain": [
       "<Figure size 432x288 with 1 Axes>"
      ]
     },
     "metadata": {
      "needs_background": "light"
     },
     "output_type": "display_data"
    }
   ],
   "source": [
    "fig, ax = plt.subplots()\n"
   ]
  },
  {
   "cell_type": "markdown",
   "metadata": {},
   "source": [
    "Now that we have an Axes instance, we can plot on top of it.\n",
    "\n"
   ]
  },
  {
   "cell_type": "code",
   "execution_count": 209,
   "metadata": {
    "collapsed": false,
    "jupyter": {
     "outputs_hidden": false
    }
   },
   "outputs": [
    {
     "data": {
      "text/plain": [
       "<BarContainer object of 10 artists>"
      ]
     },
     "execution_count": 209,
     "metadata": {},
     "output_type": "execute_result"
    },
    {
     "data": {
      "image/png": "[encoded data removed]",
      "text/plain": [
       "<Figure size 432x288 with 1 Axes>"
      ]
     },
     "metadata": {
      "needs_background": "light"
     },
     "output_type": "display_data"
    }
   ],
   "source": [
    "fig, ax1 = plt.subplots()\n",
    "ax1.barh(group_names, group_data)"
   ]
  },
  {
   "cell_type": "markdown",
   "metadata": {},
   "source": [
    "Controlling the style\n",
    "=====================\n",
    "\n",
    "There are many styles available in Matplotlib in order to let you tailor\n",
    "your visualization to your needs. To see a list of styles, we can use\n",
    "`.style`.\n",
    "\n"
   ]
  },
  {
   "cell_type": "code",
   "execution_count": 194,
   "metadata": {
    "collapsed": false,
    "jupyter": {
     "outputs_hidden": false
    }
   },
   "outputs": [
    {
     "name": "stdout",
     "output_type": "stream",
     "text": [
      "['Solarize_Light2', '_classic_test_patch', 'bmh', 'classic', 'dark_background', 'fast', 'fivethirtyeight', 'ggplot', 'grayscale', 'seaborn', 'seaborn-bright', 'seaborn-colorblind', 'seaborn-dark', 'seaborn-dark-palette', 'seaborn-darkgrid', 'seaborn-deep', 'seaborn-muted', 'seaborn-notebook', 'seaborn-paper', 'seaborn-pastel', 'seaborn-poster', 'seaborn-talk', 'seaborn-ticks', 'seaborn-white', 'seaborn-whitegrid', 'tableau-colorblind10']\n"
     ]
    }
   ],
   "source": [
    "print(plt.style.available)"
   ]
  },
  {
   "cell_type": "markdown",
   "metadata": {},
   "source": [
    "You can activate a style with the following:\n",
    "\n"
   ]
  },
  {
   "cell_type": "code",
   "execution_count": 210,
   "metadata": {
    "collapsed": false,
    "jupyter": {
     "outputs_hidden": false
    }
   },
   "outputs": [],
   "source": [
    "plt.style.use('fivethirtyeight')"
   ]
  },
  {
   "cell_type": "markdown",
   "metadata": {},
   "source": [
    "Now let's remake the above plot to see how it looks:\n",
    "\n"
   ]
  },
  {
   "cell_type": "code",
   "execution_count": 211,
   "metadata": {
    "collapsed": false,
    "jupyter": {
     "outputs_hidden": false
    }
   },
   "outputs": [
    {
     "data": {
      "text/plain": [
       "<BarContainer object of 10 artists>"
      ]
     },
     "execution_count": 211,
     "metadata": {},
     "output_type": "execute_result"
    },
    {
     "data": {
      "image/png": "[encoded data removed]",
      "text/plain": [
       "<Figure size 432x288 with 1 Axes>"
      ]
     },
     "metadata": {},
     "output_type": "display_data"
    }
   ],
   "source": [
    "fig, ax = plt.subplots()\n",
    "ax.barh(group_names, group_data)"
   ]
  },
  {
   "cell_type": "markdown",
   "metadata": {},
   "source": [
    "The style controls many things, such as color, linewidths, backgrounds,\n",
    "etc.\n",
    "\n",
    "Customizing the plot\n",
    "====================\n",
    "\n",
    "Now we've got a plot with the general look that we want, so let's fine-tune\n",
    "it so that it's ready for print. First let's rotate the labels on the x-axis\n",
    "so that they show up more clearly. We can gain access to these labels\n",
    "with the `axes.Axes.get_xticklabels` method:\n",
    "\n"
   ]
  },
  {
   "cell_type": "code",
   "execution_count": 212,
   "metadata": {
    "collapsed": false,
    "jupyter": {
     "outputs_hidden": false
    }
   },
   "outputs": [
    {
     "data": {
      "image/png": "[encoded data removed]",
      "text/plain": [
       "<Figure size 432x288 with 1 Axes>"
      ]
     },
     "metadata": {},
     "output_type": "display_data"
    }
   ],
   "source": [
    "fig, ax = plt.subplots()\n",
    "ax.barh(group_names, group_data)\n",
    "labels = ax.get_xticklabels()"
   ]
  },
  {
   "cell_type": "markdown",
   "metadata": {},
   "source": [
    "If we'd like to set the property of many items at once, it's useful to use\n",
    "the `pyplot.setp` function. This will take a list (or many lists) of\n",
    "Matplotlib objects, and attempt to set some style element of each one.\n",
    "\n"
   ]
  },
  {
   "cell_type": "code",
   "execution_count": 216,
   "metadata": {
    "collapsed": false,
    "jupyter": {
     "outputs_hidden": false
    }
   },
   "outputs": [
    {
     "data": {
      "text/plain": [
       "[None,\n",
       " None,\n",
       " None,\n",
       " None,\n",
       " None,\n",
       " None,\n",
       " None,\n",
       " None,\n",
       " None,\n",
       " None,\n",
       " None,\n",
       " None,\n",
       " None,\n",
       " None,\n",
       " None,\n",
       " None,\n",
       " None,\n",
       " None]"
      ]
     },
     "execution_count": 216,
     "metadata": {},
     "output_type": "execute_result"
    },
    {
     "data": {
      "image/png": "[encoded data removed]",
      "text/plain": [
       "<Figure size 432x288 with 1 Axes>"
      ]
     },
     "metadata": {},
     "output_type": "display_data"
    }
   ],
   "source": [
    "fig, ax = plt.subplots()\n",
    "ax.barh(group_names, group_data)\n",
    "labels = ax.get_xticklabels()\n",
    "plt.setp(labels, rotation=45, horizontalalignment='right')"
   ]
  },
  {
   "cell_type": "markdown",
   "metadata": {},
   "source": [
    "It looks like this cut off some of the labels on the bottom. We can\n",
    "tell Matplotlib to automatically make room for elements in the figures\n",
    "that we create. To do this we set the ``autolayout`` value of our\n",
    "rcParams. .\n",
    "\n"
   ]
  },
  {
   "cell_type": "code",
   "execution_count": null,
   "metadata": {},
   "outputs": [],
   "source": [
    "help(plt.rcParams)"
   ]
  },
  {
   "cell_type": "code",
   "execution_count": 218,
   "metadata": {
    "collapsed": false,
    "jupyter": {
     "outputs_hidden": false
    }
   },
   "outputs": [
    {
     "data": {
      "text/plain": [
       "[None,\n",
       " None,\n",
       " None,\n",
       " None,\n",
       " None,\n",
       " None,\n",
       " None,\n",
       " None,\n",
       " None,\n",
       " None,\n",
       " None,\n",
       " None,\n",
       " None,\n",
       " None,\n",
       " None,\n",
       " None,\n",
       " None,\n",
       " None]"
      ]
     },
     "execution_count": 218,
     "metadata": {},
     "output_type": "execute_result"
    },
    {
     "data": {
      "image/png": "[encoded data removed]",
      "text/plain": [
       "<Figure size 432x288 with 1 Axes>"
      ]
     },
     "metadata": {},
     "output_type": "display_data"
    }
   ],
   "source": [
    "plt.rcParams.update({'figure.autolayout': True})\n",
    "\n",
    "fig, ax = plt.subplots()\n",
    "ax.barh(group_names, group_data)\n",
    "labels = ax.get_xticklabels()\n",
    "plt.setp(labels, rotation=45, horizontalalignment='right')"
   ]
  },
  {
   "cell_type": "markdown",
   "metadata": {},
   "source": [
    "Next, we add labels to the plot. To do this with the OO interface,\n",
    "we can use the `.Artist.set` method to set properties of this\n",
    "Axes object.\n",
    "\n"
   ]
  },
  {
   "cell_type": "code",
   "execution_count": 221,
   "metadata": {
    "collapsed": false,
    "jupyter": {
     "outputs_hidden": false
    }
   },
   "outputs": [
    {
     "data": {
      "text/plain": [
       "[(-10000.0, 140000.0),\n",
       " Text(0.5, 0, 'Total Revenue'),\n",
       " Text(0, 0.5, 'Company'),\n",
       " Text(0.5, 1.0, 'Company Revenue')]"
      ]
     },
     "execution_count": 221,
     "metadata": {},
     "output_type": "execute_result"
    },
    {
     "data": {
      "image/png": "[encoded data removed]",
      "text/plain": [
       "<Figure size 432x288 with 1 Axes>"
      ]
     },
     "metadata": {},
     "output_type": "display_data"
    }
   ],
   "source": [
    "fig, ax = plt.subplots()\n",
    "ax.barh(group_names, group_data)\n",
    "labels = ax.get_xticklabels()\n",
    "plt.setp(labels, rotation=45, horizontalalignment='right')\n",
    "ax.set(xlim=[-10000, 140000], xlabel='Total Revenue', ylabel='Company',\n",
    "       title='Company Revenue')"
   ]
  },
  {
   "cell_type": "markdown",
   "metadata": {},
   "source": [
    "We can also adjust the size of this plot using the `pyplot.subplots`\n",
    "function. We can do this with the ``figsize`` kwarg.\n",
    "\n",
    "<h4>Note</h4><p>While indexing in NumPy follows the form (row, column), the figsize\n",
    "   kwarg follows the form (width, height). This follows conventions in\n",
    "   visualization, which unfortunately are different from those of linear\n",
    "   algebra.</p></div>\n",
    "\n"
   ]
  },
  {
   "cell_type": "code",
   "execution_count": 224,
   "metadata": {},
   "outputs": [
    {
     "name": "stdout",
     "output_type": "stream",
     "text": [
      "Help on function figure in module matplotlib.pyplot:\n",
      "\n",
      "figure(num=None, figsize=None, dpi=None, facecolor=None, edgecolor=None, frameon=True, FigureClass=<class 'matplotlib.figure.Figure'>, clear=False, **kwargs)\n",
      "    Create a new figure, or activate an existing figure.\n",
      "    \n",
      "    Parameters\n",
      "    ----------\n",
      "    num : int or str, optional\n",
      "        A unique identifier for the figure.\n",
      "    \n",
      "        If a figure with that identifier already exists, this figure is made\n",
      "        active and returned. An integer refers to the ``Figure.number``\n",
      "        attribute, a string refers to the figure label.\n",
      "    \n",
      "        If there is no figure with the identifier or *num* is not given, a new\n",
      "        figure is created, made active and returned.  If *num* is an int, it\n",
      "        will be used for the ``Figure.number`` attribute, otherwise, an\n",
      "        auto-generated integer value is used (starting at 1 and incremented\n",
      "        for each new figure). If *num* is a string, the figure label and the\n",
      "        window title is set to this value.\n",
      "    \n",
      "    figsize : (float, float), default: :rc:`figure.figsize`\n",
      "        Width, height in inches.\n",
      "    \n",
      "    dpi : float, default: :rc:`figure.dpi`\n",
      "        The resolution of the figure in dots-per-inch.\n",
      "    \n",
      "    facecolor : color, default: :rc:`figure.facecolor`\n",
      "        The background color.\n",
      "    \n",
      "    edgecolor : color, default: :rc:`figure.edgecolor`\n",
      "        The border color.\n",
      "    \n",
      "    frameon : bool, default: True\n",
      "        If False, suppress drawing the figure frame.\n",
      "    \n",
      "    FigureClass : subclass of `~matplotlib.figure.Figure`\n",
      "        Optionally use a custom `.Figure` instance.\n",
      "    \n",
      "    clear : bool, default: False\n",
      "        If True and the figure already exists, then it is cleared.\n",
      "    \n",
      "    tight_layout : bool or dict, default: :rc:`figure.autolayout`\n",
      "        If ``False`` use *subplotpars*. If ``True`` adjust subplot\n",
      "        parameters using `.tight_layout` with default padding.\n",
      "        When providing a dict containing the keys ``pad``, ``w_pad``,\n",
      "        ``h_pad``, and ``rect``, the default `.tight_layout` paddings\n",
      "        will be overridden.\n",
      "    \n",
      "    constrained_layout : bool, default: :rc:`figure.constrained_layout.use`\n",
      "        If ``True`` use constrained layout to adjust positioning of plot\n",
      "        elements.  Like ``tight_layout``, but designed to be more\n",
      "        flexible.  See\n",
      "        :doc:`/tutorials/intermediate/constrainedlayout_guide`\n",
      "        for examples.  (Note: does not work with `add_subplot` or\n",
      "        `~.pyplot.subplot2grid`.)\n",
      "    \n",
      "    \n",
      "    **kwargs : optional\n",
      "        See `~.matplotlib.figure.Figure` for other possible arguments.\n",
      "    \n",
      "    Returns\n",
      "    -------\n",
      "    `~matplotlib.figure.Figure`\n",
      "        The `.Figure` instance returned will also be passed to\n",
      "        new_figure_manager in the backends, which allows to hook custom\n",
      "        `.Figure` classes into the pyplot interface. Additional kwargs will be\n",
      "        passed to the `.Figure` init function.\n",
      "    \n",
      "    Notes\n",
      "    -----\n",
      "    If you are creating many figures, make sure you explicitly call\n",
      "    `.pyplot.close` on the figures you are not using, because this will\n",
      "    enable pyplot to properly clean up the memory.\n",
      "    \n",
      "    `~matplotlib.rcParams` defines the default values, which can be modified\n",
      "    in the matplotlibrc file.\n",
      "\n"
     ]
    }
   ],
   "source": [
    "help(plt.figure)"
   ]
  },
  {
   "cell_type": "code",
   "execution_count": 231,
   "metadata": {
    "collapsed": false,
    "jupyter": {
     "outputs_hidden": false
    }
   },
   "outputs": [
    {
     "data": {
      "text/plain": [
       "[(-10000.0, 140000.0),\n",
       " Text(0.5, 0, 'Total Revenue'),\n",
       " Text(0, 0.5, 'Company'),\n",
       " Text(0.5, 1.0, 'Company Revenue')]"
      ]
     },
     "execution_count": 231,
     "metadata": {},
     "output_type": "execute_result"
    },
    {
     "data": {
      "image/png": "[encoded data removed]",
      "text/plain": [
       "<Figure size 1008x360 with 1 Axes>"
      ]
     },
     "metadata": {},
     "output_type": "display_data"
    }
   ],
   "source": [
    "fig, ax = plt.subplots(figsize=(14, 5))\n",
    "ax.barh(group_names, group_data)\n",
    "labels = ax.get_xticklabels()\n",
    "plt.setp(labels, rotation=45, horizontalalignment='right')\n",
    "ax.set(xlim=[-10000, 140000], xlabel='Total Revenue', ylabel='Company',\n",
    "       title='Company Revenue')"
   ]
  },
  {
   "cell_type": "markdown",
   "metadata": {},
   "source": [
    "For labels, we can specify custom formatting guidelines in the form of\n",
    "functions. Below we define a function that takes an integer as input, and\n",
    "returns a string as an output. When used with `.Axis.set_major_formatter` or\n",
    "`.Axis.set_minor_formatter`, they will automatically create and use a\n",
    "`ticker.FuncFormatter` class.\n",
    "\n",
    "For this function, the ``x`` argument is the original tick label and ``pos``\n",
    "is the tick position.  We will only use ``x`` here but both arguments are\n",
    "needed.\n",
    "\n"
   ]
  },
  {
   "cell_type": "code",
   "execution_count": 232,
   "metadata": {
    "collapsed": false,
    "jupyter": {
     "outputs_hidden": false
    }
   },
   "outputs": [],
   "source": [
    "def currency(x, pos):\n",
    "    \"\"\"The two args are the value and tick position\"\"\"\n",
    "    if x >= 1e6:\n",
    "        s = '${:1.1f}M'.format(x*1e-6)\n",
    "    else:\n",
    "        s = '${:1.0f}K'.format(x*1e-3)\n",
    "    return s"
   ]
  },
  {
   "cell_type": "markdown",
   "metadata": {},
   "source": [
    "We can then apply this function to the labels on our plot. To do this,\n",
    "we use the ``xaxis`` attribute of our axes. This lets you perform\n",
    "actions on a specific axis on our plot.\n",
    "\n"
   ]
  },
  {
   "cell_type": "code",
   "execution_count": 238,
   "metadata": {
    "collapsed": false,
    "jupyter": {
     "outputs_hidden": false
    }
   },
   "outputs": [
    {
     "data": {
      "image/png": "[encoded data removed]",
      "text/plain": [
       "<Figure size 1680x600 with 1 Axes>"
      ]
     },
     "metadata": {},
     "output_type": "display_data"
    }
   ],
   "source": [
    "fig, ax = plt.subplots(figsize=(14, 5), dpi=120)\n",
    "ax.barh(group_names, group_data)\n",
    "labels = ax.get_xticklabels()\n",
    "plt.setp(labels, rotation=45, horizontalalignment='right')\n",
    "\n",
    "ax.set(xlim=[-10000, 150000], xlabel='Total Revenue', ylabel='Company',\n",
    "       title='Company Revenue')\n",
    "ax.xaxis.set_major_formatter(currency)"
   ]
  },
  {
   "cell_type": "markdown",
   "metadata": {},
   "source": [
    "Combining multiple visualizations\n",
    "=================================\n",
    "\n",
    "It is possible to draw multiple plot elements on the same instance of\n",
    "`axes.Axes`. To do this we simply need to call another one of\n",
    "the plot methods on that axes object.\n",
    "\n"
   ]
  },
  {
   "cell_type": "code",
   "execution_count": 247,
   "metadata": {
    "collapsed": false,
    "jupyter": {
     "outputs_hidden": false
    }
   },
   "outputs": [
    {
     "data": {
      "image/png": "[encoded data removed]",
      "text/plain": [
       "<Figure size 864x576 with 1 Axes>"
      ]
     },
     "metadata": {},
     "output_type": "display_data"
    }
   ],
   "source": [
    "fig, ax = plt.subplots(figsize=(12, 8))\n",
    "ax.barh(group_names, group_data)\n",
    "labels = ax.get_xticklabels()\n",
    "plt.setp(labels, rotation=45, horizontalalignment='right')\n",
    "\n",
    "# Add a vertical line, here we set the style in the function call\n",
    "ax.axvline(group_mean, ls='--', color='r')\n",
    "\n",
    "# Annotate new companies\n",
    "for group in [3, 5, 8]:\n",
    "    ax.text(145000, group, \"New Company\", fontsize=10,\n",
    "            verticalalignment=\"center\")\n",
    "\n",
    "# Now we move our title up since it's getting a little cramped\n",
    "ax.title.set(y=1.95)\n",
    "\n",
    "ax.set(xlim=[-10000, 140000], xlabel='Total Revenue', ylabel='Company',\n",
    "       title='Company Revenue')\n",
    "ax.xaxis.set_major_formatter(currency)\n",
    "ax.set_xticks([0, 25e3, 50e3, 75e3, 100e3, 125e3])\n",
    "fig.subplots_adjust(right=.1)\n",
    "\n",
    "plt.show()"
   ]
  },
  {
   "cell_type": "code",
   "execution_count": 240,
   "metadata": {},
   "outputs": [
    {
     "data": {
      "text/plain": [
       "250000.0"
      ]
     },
     "execution_count": 240,
     "metadata": {},
     "output_type": "execute_result"
    }
   ],
   "source": []
  },
  {
   "cell_type": "markdown",
   "metadata": {},
   "source": [
    "Saving our plot\n",
    "===============\n",
    "\n",
    "Now that we're happy with the outcome of our plot, we want to save it to\n",
    "disk. There are many file formats we can save to in Matplotlib. To see\n",
    "a list of available options, use:\n",
    "\n"
   ]
  },
  {
   "cell_type": "code",
   "execution_count": 248,
   "metadata": {
    "collapsed": false,
    "jupyter": {
     "outputs_hidden": false
    }
   },
   "outputs": [
    {
     "name": "stdout",
     "output_type": "stream",
     "text": [
      "{'eps': 'Encapsulated Postscript', 'jpg': 'Joint Photographic Experts Group', 'jpeg': 'Joint Photographic Experts Group', 'pdf': 'Portable Document Format', 'pgf': 'PGF code for LaTeX', 'png': 'Portable Network Graphics', 'ps': 'Postscript', 'raw': 'Raw RGBA bitmap', 'rgba': 'Raw RGBA bitmap', 'svg': 'Scalable Vector Graphics', 'svgz': 'Scalable Vector Graphics', 'tif': 'Tagged Image File Format', 'tiff': 'Tagged Image File Format'}\n"
     ]
    }
   ],
   "source": [
    "print(fig.canvas.get_supported_filetypes())"
   ]
  },
  {
   "cell_type": "markdown",
   "metadata": {},
   "source": [
    "We can then use the `figure.Figure.savefig` in order to save the figure\n",
    "to disk. Note that there are several useful flags we show below:\n",
    "\n",
    "* ``transparent=True`` makes the background of the saved figure transparent\n",
    "  if the format supports it.\n",
    "* ``dpi=80`` controls the resolution (dots per square inch) of the output.\n",
    "* ``bbox_inches=\"tight\"`` fits the bounds of the figure to our plot.\n",
    "\n"
   ]
  },
  {
   "cell_type": "code",
   "execution_count": null,
   "metadata": {
    "collapsed": false,
    "jupyter": {
     "outputs_hidden": false
    }
   },
   "outputs": [],
   "source": [
    "# Uncomment this line to save the figure.\n",
    "# fig.savefig('sales.png', transparent=False, dpi=80, bbox_inches=\"tight\")"
   ]
  },
  {
   "cell_type": "markdown",
   "metadata": {},
   "source": [
    "Intro to pyplot\n",
    "===============\n",
    "\n",
    "`matplotlib.pyplot` is a collection of functions\n",
    "that make matplotlib work like MATLAB.\n",
    "Each ``pyplot`` function makes\n",
    "some change to a figure: e.g., creates a figure, creates a plotting area\n",
    "in a figure, plots some lines in a plotting area, decorates the plot\n",
    "with labels, etc.\n",
    "\n",
    "In `matplotlib.pyplot` various states are preserved\n",
    "across function calls, so that it keeps track of things like\n",
    "the current figure and plotting area, and the plotting\n",
    "functions are directed to the current axes (please note that \"axes\" here\n",
    "and in most places in the documentation refers to the *axes*\n",
    "`part of a figure <figure_parts>`\n",
    "and not the strict mathematical term for more than one axis).\n",
    "\n",
    "Generating visualizations with pyplot is very quick:\n",
    "\n"
   ]
  },
  {
   "cell_type": "code",
   "execution_count": 249,
   "metadata": {
    "collapsed": false,
    "jupyter": {
     "outputs_hidden": false
    }
   },
   "outputs": [
    {
     "data": {
      "image/png": "[encoded data removed]",
      "text/plain": [
       "<Figure size 432x288 with 1 Axes>"
      ]
     },
     "metadata": {},
     "output_type": "display_data"
    }
   ],
   "source": [
    "import matplotlib.pyplot as plt\n",
    "plt.plot([1, 2, 3, 4])\n",
    "plt.ylabel('some numbers')\n",
    "plt.show()"
   ]
  },
  {
   "cell_type": "markdown",
   "metadata": {},
   "source": [
    "You may be wondering why the x-axis ranges from 0-3 and the y-axis\n",
    "from 1-4.  If you provide a single list or array to\n",
    "`~.pyplot.plot`, matplotlib assumes it is a\n",
    "sequence of y values, and automatically generates the x values for\n",
    "you.  Since python ranges start with 0, the default x vector has the\n",
    "same length as y but starts with 0.  Hence the x data are\n",
    "``[0, 1, 2, 3]``.\n",
    "\n",
    "`~.pyplot.plot` is a versatile function, and will take an arbitrary number of\n",
    "arguments.  For example, to plot x versus y, you can write:\n",
    "\n"
   ]
  },
  {
   "cell_type": "code",
   "execution_count": 250,
   "metadata": {
    "collapsed": false,
    "jupyter": {
     "outputs_hidden": false
    }
   },
   "outputs": [
    {
     "data": {
      "text/plain": [
       "[<matplotlib.lines.Line2D at 0x789bd78fa9d0>]"
      ]
     },
     "execution_count": 250,
     "metadata": {},
     "output_type": "execute_result"
    },
    {
     "data": {
      "image/png": "[encoded data removed]",
      "text/plain": [
       "<Figure size 432x288 with 1 Axes>"
      ]
     },
     "metadata": {},
     "output_type": "display_data"
    }
   ],
   "source": [
    "plt.plot([1, 2, 3, 4], [1, 4, 9, 16])"
   ]
  },
  {
   "cell_type": "markdown",
   "metadata": {},
   "source": [
    "Formatting the style of your plot\n",
    "---------------------------------\n",
    "\n",
    "For every x, y pair of arguments, there is an optional third argument\n",
    "which is the format string that indicates the color and line type of\n",
    "the plot.  The letters and symbols of the format string are from\n",
    "MATLAB, and you concatenate a color string with a line style string.\n",
    "The default format string is 'b-', which is a solid blue line.  For\n",
    "example, to plot the above with red circles, you would issue\n",
    "\n"
   ]
  },
  {
   "cell_type": "code",
   "execution_count": 251,
   "metadata": {
    "collapsed": false,
    "jupyter": {
     "outputs_hidden": false
    }
   },
   "outputs": [
    {
     "data": {
      "image/png": "[encoded data removed]",
      "text/plain": [
       "<Figure size 432x288 with 1 Axes>"
      ]
     },
     "metadata": {},
     "output_type": "display_data"
    }
   ],
   "source": [
    "plt.plot([1, 2, 3, 4], [1, 4, 9, 16], 'ro')\n",
    "plt.axis([0, 6, 0, 20])\n",
    "plt.show()"
   ]
  },
  {
   "cell_type": "markdown",
   "metadata": {},
   "source": [
    "See the `~.pyplot.plot` documentation for a complete\n",
    "list of line styles and format strings.  The\n",
    "`~.pyplot.axis` function in the example above takes a\n",
    "list of ``[xmin, xmax, ymin, ymax]`` and specifies the viewport of the\n",
    "axes.\n",
    "\n",
    "If matplotlib were limited to working with lists, it would be fairly\n",
    "useless for numeric processing.  Generally, you will use `numpy\n",
    "<http://www.numpy.org>`_ arrays.  In fact, all sequences are\n",
    "converted to numpy arrays internally.  The example below illustrates\n",
    "plotting several lines with different format styles in one function call\n",
    "using arrays.\n",
    "\n"
   ]
  },
  {
   "cell_type": "code",
   "execution_count": 252,
   "metadata": {
    "collapsed": false,
    "jupyter": {
     "outputs_hidden": false
    }
   },
   "outputs": [
    {
     "data": {
      "image/png": "[encoded data removed]",
      "text/plain": [
       "<Figure size 432x288 with 1 Axes>"
      ]
     },
     "metadata": {},
     "output_type": "display_data"
    }
   ],
   "source": [
    "import numpy as np\n",
    "\n",
    "# evenly sampled time at 200ms intervals\n",
    "t = np.arange(0., 5., 0.2)\n",
    "\n",
    "# red dashes, blue squares and green triangles\n",
    "plt.plot(t, t, 'r--', t, t**2, 'bs', t, t**3, 'g^')\n",
    "plt.show()"
   ]
  },
  {
   "cell_type": "markdown",
   "metadata": {},
   "source": [
    "\n",
    "Plotting with keyword strings\n",
    "=============================\n",
    "\n",
    "There are some instances where you have data in a format that lets you\n",
    "access particular variables with strings. For example, with\n",
    "`numpy.recarray` or `pandas.DataFrame`.\n",
    "\n",
    "Matplotlib allows you provide such an object with\n",
    "the ``data`` keyword argument. If provided, then you may generate plots with\n",
    "the strings corresponding to these variables.\n",
    "\n"
   ]
  },
  {
   "cell_type": "code",
   "execution_count": 253,
   "metadata": {
    "collapsed": false,
    "jupyter": {
     "outputs_hidden": false
    }
   },
   "outputs": [
    {
     "data": {
      "image/png": "[encoded data removed]",
      "text/plain": [
       "<Figure size 432x288 with 1 Axes>"
      ]
     },
     "metadata": {},
     "output_type": "display_data"
    }
   ],
   "source": [
    "data = {'a': np.arange(50),\n",
    "        'c': np.random.randint(0, 50, 50),\n",
    "        'd': np.random.randn(50)}\n",
    "data['b'] = data['a'] + 10 * np.random.randn(50)\n",
    "data['d'] = np.abs(data['d']) * 100\n",
    "\n",
    "plt.scatter('a', 'b', c='c', s='d', data=data)\n",
    "plt.xlabel('entry a')\n",
    "plt.ylabel('entry b')\n",
    "plt.show()"
   ]
  },
  {
   "cell_type": "markdown",
   "metadata": {},
   "source": [
    "\n",
    "Plotting with categorical variables\n",
    "===================================\n",
    "\n",
    "It is also possible to create a plot using categorical variables.\n",
    "Matplotlib allows you to pass categorical variables directly to\n",
    "many plotting functions. For example:\n",
    "\n"
   ]
  },
  {
   "cell_type": "code",
   "execution_count": 254,
   "metadata": {
    "collapsed": false,
    "jupyter": {
     "outputs_hidden": false
    }
   },
   "outputs": [
    {
     "data": {
      "image/png": "[encoded data removed]",
      "text/plain": [
       "<Figure size 648x216 with 3 Axes>"
      ]
     },
     "metadata": {},
     "output_type": "display_data"
    }
   ],
   "source": [
    "names = ['group_a', 'group_b', 'group_c']\n",
    "values = [1, 10, 100]\n",
    "\n",
    "plt.figure(figsize=(9, 3))\n",
    "\n",
    "plt.subplot(1,3,1)\n",
    "plt.bar(names, values)\n",
    "plt.subplot(132)\n",
    "plt.scatter(names, values)\n",
    "plt.subplot(133)\n",
    "plt.plot(names, values)\n",
    "plt.suptitle('Categorical Plotting')\n",
    "plt.show()"
   ]
  },
  {
   "cell_type": "markdown",
   "metadata": {},
   "source": [
    "\n",
    "Controlling line properties\n",
    "===========================\n",
    "\n",
    "Lines have many attributes that you can set: linewidth, dash style,\n",
    "antialiased, etc; see `matplotlib.lines.Line2D`.  There are\n",
    "several ways to set line properties\n",
    "\n",
    "* Use keyword args::\n",
    "\n",
    "      plt.plot(x, y, linewidth=2.0)\n",
    "\n",
    "\n",
    "* Use the setter methods of a ``Line2D`` instance.  ``plot`` returns a list\n",
    "  of ``Line2D`` objects; e.g., ``line1, line2 = plot(x1, y1, x2, y2)``.  In the code\n",
    "  below we will suppose that we have only\n",
    "  one line so that the list returned is of length 1.  We use tuple unpacking with\n",
    "  ``line,`` to get the first element of that list::\n",
    "\n",
    "      line, = plt.plot(x, y, '-')\n",
    "      line.set_antialiased(False) # turn off antialiasing\n",
    "\n",
    "* Use `~.pyplot.setp`.  The example below\n",
    "  uses a MATLAB-style function to set multiple properties\n",
    "  on a list of lines.  ``setp`` works transparently with a list of objects\n",
    "  or a single object.  You can either use python keyword arguments or\n",
    "  MATLAB-style string/value pairs::\n",
    "\n",
    "      lines = plt.plot(x1, y1, x2, y2)\n",
    "      # use keyword args\n",
    "      plt.setp(lines, color='r', linewidth=2.0)\n",
    "      # or MATLAB style string value pairs\n",
    "      plt.setp(lines, 'color', 'r', 'linewidth', 2.0)\n",
    "\n",
    "```\n",
    "Here are the available `~.lines.Line2D` properties.\n",
    "\n",
    "======================  ==================================================\n",
    "Property                Value Type\n",
    "======================  ==================================================\n",
    "alpha                   float\n",
    "animated                [True | False]\n",
    "antialiased or aa       [True | False]\n",
    "clip_box                a matplotlib.transform.Bbox instance\n",
    "clip_on                 [True | False]\n",
    "clip_path               a Path instance and a Transform instance, a Patch\n",
    "color or c              any matplotlib color\n",
    "contains                the hit testing function\n",
    "dash_capstyle           [``'butt'`` | ``'round'`` | ``'projecting'``]\n",
    "dash_joinstyle          [``'miter'`` | ``'round'`` | ``'bevel'``]\n",
    "dashes                  sequence of on/off ink in points\n",
    "data                    (np.array xdata, np.array ydata)\n",
    "figure                  a matplotlib.figure.Figure instance\n",
    "label                   any string\n",
    "linestyle or ls         [ ``'-'`` | ``'--'`` | ``'-.'`` | ``':'`` | ``'steps'`` | ...]\n",
    "linewidth or lw         float value in points\n",
    "marker                  [ ``'+'`` | ``','`` | ``'.'`` | ``'1'`` | ``'2'`` | ``'3'`` | ``'4'`` ]\n",
    "markeredgecolor or mec  any matplotlib color\n",
    "markeredgewidth or mew  float value in points\n",
    "markerfacecolor or mfc  any matplotlib color\n",
    "markersize or ms        float\n",
    "markevery               [ None | integer | (startind, stride) ]\n",
    "picker                  used in interactive line selection\n",
    "pickradius              the line pick selection radius\n",
    "solid_capstyle          [``'butt'`` | ``'round'`` | ``'projecting'``]\n",
    "solid_joinstyle         [``'miter'`` | ``'round'`` | ``'bevel'``]\n",
    "transform               a matplotlib.transforms.Transform instance\n",
    "visible                 [True | False]\n",
    "xdata                   np.array\n",
    "ydata                   np.array\n",
    "zorder                  any number\n",
    "======================  ==================================================\n",
    "```\n",
    "\n",
    "To get a list of settable line properties, call the\n",
    "`~.pyplot.setp` function with a line or lines as argument\n",
    "\n",
    "```ipython\n",
    "\n",
    "    In [69]: lines = plt.plot([1, 2, 3])\n",
    "\n",
    "    In [70]: plt.setp(lines)\n",
    "      alpha: float\n",
    "      animated: [True | False]\n",
    "      antialiased or aa: [True | False]\n",
    "      ...snip\n",
    "```\n",
    "\n",
    "\n",
    "Working with multiple figures and axes\n",
    "======================================\n",
    "\n",
    "MATLAB, and :mod:`.pyplot`, have the concept of the current figure\n",
    "and the current axes.  All plotting functions apply to the current\n",
    "axes.  The function `~.pyplot.gca` returns the current axes (a\n",
    "`matplotlib.axes.Axes` instance), and `~.pyplot.gcf` returns the current\n",
    "figure (a `matplotlib.figure.Figure` instance). Normally, you don't have to\n",
    "worry about this, because it is all taken care of behind the scenes.  Below\n",
    "is a script to create two subplots.\n",
    "\n"
   ]
  },
  {
   "cell_type": "code",
   "execution_count": 255,
   "metadata": {
    "collapsed": false,
    "jupyter": {
     "outputs_hidden": false
    }
   },
   "outputs": [
    {
     "data": {
      "image/png": "[encoded data removed]",
      "text/plain": [
       "<Figure size 432x288 with 2 Axes>"
      ]
     },
     "metadata": {},
     "output_type": "display_data"
    }
   ],
   "source": [
    "def f(t):\n",
    "    return np.exp(-t) * np.cos(2*np.pi*t)\n",
    "\n",
    "t1 = np.arange(0.0, 5.0, 0.1)\n",
    "t2 = np.arange(0.0, 5.0, 0.02)\n",
    "\n",
    "plt.figure()\n",
    "plt.subplot(2,1,1)\n",
    "plt.plot(t1, f(t1), 'bo', t2, f(t2), 'k')\n",
    "\n",
    "plt.subplot(2,1,2)\n",
    "plt.plot(t2, np.cos(2*np.pi*t2), 'r--')\n",
    "plt.show()"
   ]
  },
  {
   "cell_type": "markdown",
   "metadata": {},
   "source": [
    "The `~.pyplot.figure` call here is optional because\n",
    "``figure(1)`` will be created by default, just as a ``subplot(111)``\n",
    "will be created by default if you don't manually specify any axes.  The\n",
    "`~.pyplot.subplot` call specifies ``numrows,\n",
    "numcols, plot_number`` where ``plot_number`` ranges from 1 to\n",
    "``numrows*numcols``.  The commas in the ``subplot`` call are\n",
    "optional if ``numrows*numcols<10``.  So ``subplot(211)`` is identical\n",
    "to ``subplot(2, 1, 1)``.\n",
    "\n",
    "You can create an arbitrary number of subplots\n",
    "and axes.  If you want to place an axes manually, i.e., not on a\n",
    "rectangular grid, use `~.pyplot.axes`,\n",
    "which allows you to specify the location as ``axes([left, bottom,\n",
    "width, height])`` where all values are in fractional (0 to 1)\n",
    "coordinates. \n",
    "\n",
    "\n",
    "You can create multiple figures by using multiple\n",
    "`~.pyplot.figure` calls with an increasing figure\n",
    "number.  Of course, each figure can contain as many axes and subplots\n",
    "as your heart desires::\n",
    "\n",
    "    import matplotlib.pyplot as plt\n",
    "    plt.figure(1)                # the first figure\n",
    "    plt.subplot(211)             # the first subplot in the first figure\n",
    "    plt.plot([1, 2, 3])\n",
    "    plt.subplot(212)             # the second subplot in the first figure\n",
    "    plt.plot([4, 5, 6])\n",
    "\n",
    "\n",
    "    plt.figure(2)                # a second figure\n",
    "    plt.plot([4, 5, 6])          # creates a subplot(111) by default\n",
    "\n",
    "    plt.figure(1)                # figure 1 current; subplot(212) still current\n",
    "    plt.subplot(211)             # make subplot(211) in figure1 current\n",
    "    plt.title('Easy as 1, 2, 3') # subplot 211 title\n",
    "\n",
    "You can clear the current figure with `~.pyplot.clf`\n",
    "and the current axes with `~.pyplot.cla`.  If you find\n",
    "it annoying that states (specifically the current image, figure and axes)\n",
    "are being maintained for you behind the scenes, don't despair: this is just a thin\n",
    "stateful wrapper around an object oriented API, which you can use\n",
    "instead (see :doc:`/tutorials/intermediate/artists`)\n",
    "\n",
    "If you are making lots of figures, you need to be aware of one\n",
    "more thing: the memory required for a figure is not completely\n",
    "released until the figure is explicitly closed with\n",
    "`~.pyplot.close`.  Deleting all references to the\n",
    "figure, and/or using the window manager to kill the window in which\n",
    "the figure appears on the screen, is not enough, because pyplot\n",
    "maintains internal references until `~.pyplot.close`\n",
    "is called.\n",
    "\n",
    "\n",
    "Working with text\n",
    "=================\n",
    "\n",
    "`~.pyplot.text` can be used to add text in an arbitrary location, and\n",
    "`~.pyplot.xlabel`, `~.pyplot.ylabel` and `~.pyplot.title` are used to add\n",
    "text in the indicated locations (see :doc:`/tutorials/text/text_intro` for a\n",
    "more detailed example)\n",
    "\n"
   ]
  },
  {
   "cell_type": "code",
   "execution_count": 256,
   "metadata": {
    "collapsed": false,
    "jupyter": {
     "outputs_hidden": false
    }
   },
   "outputs": [
    {
     "data": {
      "image/png": "[encoded data removed]",
      "text/plain": [
       "<Figure size 432x288 with 1 Axes>"
      ]
     },
     "metadata": {},
     "output_type": "display_data"
    }
   ],
   "source": [
    "mu, sigma = 100, 15\n",
    "x = mu + sigma * np.random.randn(10000)\n",
    "\n",
    "# the histogram of the data\n",
    "n, bins, patches = plt.hist(x, 50, density=1, facecolor='g', alpha=0.75)\n",
    "\n",
    "\n",
    "plt.xlabel('Smarts')\n",
    "plt.ylabel('Probability')\n",
    "plt.title('Histogram of IQ')\n",
    "plt.text(60, .025, r'$\\mu=100,\\ \\sigma=15$')\n",
    "plt.axis([40, 160, 0, 0.03])\n",
    "plt.grid(True)\n",
    "plt.show()"
   ]
  },
  {
   "cell_type": "markdown",
   "metadata": {},
   "source": [
    "All of the `~.pyplot.text` functions return a `matplotlib.text.Text`\n",
    "instance.  Just as with with lines above, you can customize the properties by\n",
    "passing keyword arguments into the text functions or using `~.pyplot.setp`::\n",
    "\n",
    "  t = plt.xlabel('my data', fontsize=14, color='red')\n",
    "\n",
    "These properties are covered in more detail in :doc:`/tutorials/text/text_props`.\n",
    "\n",
    "\n",
    "Using mathematical expressions in text\n",
    "--------------------------------------\n",
    "\n",
    "matplotlib accepts TeX equation expressions in any text expression.\n",
    "For example to write the expression $\\sigma_i=15$ in the title,\n",
    "you can write a TeX expression surrounded by dollar signs::\n",
    "\n",
    "    plt.title(r'$\\sigma_i=15$')\n",
    "\n",
    "The ``r`` preceding the title string is important -- it signifies\n",
    "that the string is a *raw* string and not to treat backslashes as\n",
    "python escapes.  matplotlib has a built-in TeX expression parser and\n",
    "layout engine, and ships its own math fonts -- for details see\n",
    ":doc:`/tutorials/text/mathtext`.  Thus you can use mathematical text across platforms\n",
    "without requiring a TeX installation.  For those who have LaTeX and\n",
    "dvipng installed, you can also use LaTeX to format your text and\n",
    "incorporate the output directly into your display figures or saved\n",
    "postscript -- see :doc:`/tutorials/text/usetex`.\n",
    "\n",
    "\n",
    "Annotating text\n",
    "---------------\n",
    "\n",
    "The uses of the basic `~.pyplot.text` function above\n",
    "place text at an arbitrary position on the Axes.  A common use for\n",
    "text is to annotate some feature of the plot, and the\n",
    "`~.pyplot.annotate` method provides helper\n",
    "functionality to make annotations easy.  In an annotation, there are\n",
    "two points to consider: the location being annotated represented by\n",
    "the argument ``xy`` and the location of the text ``xytext``.  Both of\n",
    "these arguments are ``(x, y)`` tuples.\n",
    "\n"
   ]
  },
  {
   "cell_type": "code",
   "execution_count": 260,
   "metadata": {
    "collapsed": false,
    "jupyter": {
     "outputs_hidden": false
    }
   },
   "outputs": [
    {
     "data": {
      "image/png": "[encoded data removed]",
      "text/plain": [
       "<Figure size 432x288 with 1 Axes>"
      ]
     },
     "metadata": {},
     "output_type": "display_data"
    }
   ],
   "source": [
    "ax = plt.subplot(111)\n",
    "\n",
    "t = np.arange(0.0, 5.0, 0.01)\n",
    "s = np.cos(2*np.pi*t)\n",
    "line, = plt.plot(t, s, lw=2)\n",
    "\n",
    "plt.annotate('local max', xy=(2, 1), xytext=(3, 1.5),\n",
    "             arrowprops=dict(facecolor='black', shrink=0.05),\n",
    "             )\n",
    "\n",
    "plt.ylim(-2, 2)\n",
    "plt.show()"
   ]
  },
  {
   "cell_type": "markdown",
   "metadata": {},
   "source": [
    "In this basic example, both the ``xy`` (arrow tip) and ``xytext``\n",
    "locations (text location) are in data coordinates.  There are a\n",
    "variety of other coordinate systems one can choose -- see\n",
    "`annotations-tutorial` and `plotting-guide-annotation` for\n",
    "details.  More examples can be found in\n",
    ":doc:`/gallery/text_labels_and_annotations/annotation_demo`.\n",
    "\n",
    "\n",
    "Logarithmic and other nonlinear axes\n",
    "====================================\n",
    "\n",
    "`matplotlib.pyplot` supports not only linear axis scales, but also\n",
    "logarithmic and logit scales. This is commonly used if data spans many orders\n",
    "of magnitude. Changing the scale of an axis is easy:\n",
    "\n",
    "    plt.xscale('log')\n",
    "\n",
    "An example of four plots with the same data and different scales for the y axis\n",
    "is shown below.\n",
    "\n"
   ]
  },
  {
   "cell_type": "code",
   "execution_count": 258,
   "metadata": {
    "collapsed": false,
    "jupyter": {
     "outputs_hidden": false
    }
   },
   "outputs": [
    {
     "data": {
      "image/png": "[encoded data removed]",
      "text/plain": [
       "<Figure size 432x288 with 4 Axes>"
      ]
     },
     "metadata": {},
     "output_type": "display_data"
    }
   ],
   "source": [
    "# Fixing random state for reproducibility\n",
    "np.random.seed(19680801)\n",
    "\n",
    "# make up some data in the open interval (0, 1)\n",
    "y = np.random.normal(loc=0.5, scale=0.4, size=1000)\n",
    "y = y[(y > 0) & (y < 1)]\n",
    "y.sort()\n",
    "x = np.arange(len(y))\n",
    "\n",
    "# plot with various axes scales\n",
    "plt.figure()\n",
    "\n",
    "# linear\n",
    "plt.subplot(221)\n",
    "plt.plot(x, y)\n",
    "plt.yscale('linear')\n",
    "plt.title('linear')\n",
    "plt.grid(True)\n",
    "\n",
    "# log\n",
    "plt.subplot(222)\n",
    "plt.plot(x, y)\n",
    "plt.yscale('log')\n",
    "plt.title('log')\n",
    "plt.grid(True)\n",
    "\n",
    "# symmetric log\n",
    "plt.subplot(223)\n",
    "plt.plot(x, y - y.mean())\n",
    "plt.yscale('symlog', linthresh=0.01)\n",
    "plt.title('symlog')\n",
    "plt.grid(True)\n",
    "\n",
    "# logit\n",
    "plt.subplot(224)\n",
    "plt.plot(x, y)\n",
    "plt.yscale('logit')\n",
    "plt.title('logit')\n",
    "plt.grid(True)\n",
    "# Adjust the subplot layout, because the logit one may take more space\n",
    "# than usual, due to y-tick labels like \"1 - 10^{-3}\"\n",
    "plt.subplots_adjust(top=0.92, bottom=0.08, left=0.10, right=0.95, hspace=0.25,\n",
    "                    wspace=0.35)\n",
    "\n",
    "plt.show()"
   ]
  },
  {
   "cell_type": "markdown",
   "metadata": {},
   "source": [
    "\n",
    "\n"
   ]
  },
  {
   "cell_type": "code",
   "execution_count": null,
   "metadata": {},
   "outputs": [],
   "source": []
  }
 ],
 "metadata": {
  "kernelspec": {
   "display_name": "Python 3",
   "language": "python",
   "name": "python3"
  },
  "language_info": {
   "codemirror_mode": {
    "name": "ipython",
    "version": 3
   },
   "file_extension": ".py",
   "mimetype": "text/x-python",
   "name": "python",
   "nbconvert_exporter": "python",
   "pygments_lexer": "ipython3",
   "version": "3.9.1"
  }
 },
 "nbformat": 4,
 "nbformat_minor": 4
}
