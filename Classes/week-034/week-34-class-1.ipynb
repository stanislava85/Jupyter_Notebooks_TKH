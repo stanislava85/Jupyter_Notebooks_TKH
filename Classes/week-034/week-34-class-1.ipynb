{
 "cells": [
  {
   "cell_type": "markdown",
   "metadata": {},
   "source": [
    "<div style=\"background: #000;\n",
    "            color: #FFF;\n",
    "            margin: 0px;\n",
    "            margin-bottom: 10px;\n",
    "            padding: 10px 0px 20px 0px;\n",
    "            text-align: center; \n",
    "                \">\n",
    "    <h1>Week 34 Class 1</h1> \n",
    "    <h3>05/24/21</h3>\n",
    "</div>"
   ]
  },
  {
   "cell_type": "markdown",
   "metadata": {},
   "source": [
    "## Objectives for this week:\n",
    "* Review Week\n",
    "\n",
    "## Todays Agenda\n",
    "* Python\n",
    "\n"
   ]
  },
  {
   "cell_type": "markdown",
   "metadata": {},
   "source": [
    "# Interview Questions"
   ]
  },
  {
   "cell_type": "markdown",
   "metadata": {},
   "source": [
    "1. What are the differences between supervised and unsupervised learning?"
   ]
  },
  {
   "cell_type": "markdown",
   "metadata": {},
   "source": [
    "Supervised machine learning is dealing with labeled data, whereas unsupervised machine learning is dealing with data that is not labeled.   Supervised machine learning includes two major processes: classification and regression.\n",
    "\n",
    "The unsupervised machine learning algorithm is used for: exploring the structure of the information; extracting valuable insights; detecting patterns; implementing this into its operation to increase efficiency. Unsupervised learning algorithms apply the following techniques to describe the data: clustering and dimensionality reduction."
   ]
  },
  {
   "cell_type": "markdown",
   "metadata": {},
   "source": [
    "2. What is sampling bias? What might be some ways sampling bias is introduced?"
   ]
  },
  {
   "cell_type": "markdown",
   "metadata": {},
   "source": [
    "It occurs when you do not have a fair or balanced presentation of the required data samples while carrying out a systematic investigation.   \n",
    "When you gather data in a way that some members of the intended population have a lower or higher sampling probability than others, the result is sampling bias.  \n",
    "Sampling bias in research is largely unintentional and it can occur even when you randomly select samples. This does not mean that it cannot be avoided.\n",
    "To reduce sampling bias in research, you should limit your judgment and try to avoid convenience sampling as much as possible. Also, identify your research variables and define your target audience as accurately as possible. "
   ]
  },
  {
   "cell_type": "markdown",
   "metadata": {},
   "source": [
    "3. Explain A/B testing. In what circumstances can you use it?"
   ]
  },
  {
   "cell_type": "markdown",
   "metadata": {},
   "source": [
    "Creating 2 versions of a digital asset to see which one users respond to better. Examples of assets include a landing page, display ad, marketing email, and social post. In an A/B test, half of your audience automatically receives “version A” and half receives “version B” - which is the new/changed version. The performance of each version is based on conversion rate goals such as the percentage of people who click on a link, complete a form, or make a purchase. You can then determine whether changing the experience (from A to B) had a positive, negative, or no effect on visitor behavior."
   ]
  },
  {
   "cell_type": "markdown",
   "metadata": {},
   "source": [
    "4. Explain sensitivity in machine learning models. For some models, such as Logistic Regressions, sensitivity is known as the recall or true positive rate."
   ]
  },
  {
   "cell_type": "markdown",
   "metadata": {},
   "source": [
    "Sensitivity is a measure of the proportion of actual positive cases that got predicted as positive (or true positive).   \n",
    "For example, Sensitivity is a measure of the proportion of people suffering from the disease who got predicted correctly as the ones suffering from the disease."
   ]
  },
  {
   "cell_type": "markdown",
   "metadata": {},
   "source": [
    "5. Explain the difference between overfitting and underfitting."
   ]
  },
  {
   "cell_type": "markdown",
   "metadata": {},
   "source": [
    "Overfitting and Underfitting are the two main problems that occur in machine learning and degrade the performance of the machine learning models.   \n",
    "Overfitting occurs when our machine learning model tries to cover all the data points or more than the required data points present in the given dataset. Because of this, the model starts caching noise and inaccurate values present in the dataset, and all these factors reduce the efficiency and accuracy of the model. The overfitted model has low bias and high variance. The more we train our model, the more chances of occurring the overfitted model.\n",
    "Overfitting is the main problem that occurs in supervised learning. How to avoid the Overfitting in Model: Cross-Validation, Training with more data, Removing features, Early stopping the training, Regularization, Ensembling.   \n",
    "\n",
    "Underfitting occurs when our machine learning model is not able to capture the underlying trend of the data. To avoid the overfitting in the model, the fed of training data can be stopped at an early stage, due to which the model may not learn enough from the training data. As a result, it may fail to find the best fit of the dominant trend in the data. How to avoid underfitting: By increasing the training time of the model, By increasing the number of features.\n",
    "\n"
   ]
  },
  {
   "cell_type": "markdown",
   "metadata": {},
   "source": [
    "6. Why do we clean data?"
   ]
  },
  {
   "cell_type": "markdown",
   "metadata": {},
   "source": [
    "We clean data in order to prepare it for statistical analysis, to predict outcomes by writing a ML model, to better be able to visualize the data and etc. If the data is 'dirty' - not prepped to work with, we cannot do much with it. Like my instructor likes to say \"Garbage in, garbage out\"."
   ]
  },
  {
   "cell_type": "markdown",
   "metadata": {},
   "source": [
    "7. What are outliers and what can we do with them?"
   ]
  },
  {
   "cell_type": "markdown",
   "metadata": {},
   "source": [
    "An outlier is a value or point that differs substantially from the rest of the data. Sometimes outliers might be errors that we want to exclude or an anomaly that we don’t want to include in our analysis. But at other times it can reveal insights into special cases in our data that we may not otherwise notice.   \n",
    "While what we do with outliers is defined by the specifics of the situation, by identifying them we give ourselves the tools to more confidently make decisions with our data."
   ]
  },
  {
   "cell_type": "markdown",
   "metadata": {},
   "source": [
    "8. How do you select the number of clusters for a clustering algorithm?"
   ]
  },
  {
   "cell_type": "markdown",
   "metadata": {},
   "source": [
    "These methods include direct methods and statistical testing methods:\n",
    "\n",
    "Direct methods: consists of optimizing a criterion, such as the within cluster sums of squares or the average silhouette. The corresponding methods are named elbow and silhouette methods, respectively.   \n",
    "Statistical testing methods: consists of comparing evidence against null hypothesis. An example is the gap statistic."
   ]
  },
  {
   "cell_type": "markdown",
   "metadata": {},
   "source": [
    "9. What are the benefits of using python for data science? Explain you answer."
   ]
  },
  {
   "cell_type": "markdown",
   "metadata": {},
   "source": [
    "Python is as simple as it gets - The best part about learning Python is that you can be completely new to programming and yet grasp the basic pretty fast. It is a language that was designed with two things in mind – simplicity and readability.   \n",
    "\n",
    "Data format shouldn’t worry you - Python works with all different data formats. It is possible to directly import SQL tables in your code. You can work with Comma Separated Value documents as well as web sourced JSON. Python request library makes it really easy to import data from various websites and build data sets.   \n",
    "\n",
    "Python has lots of statistical libraries for Data Analysis. Nympy, Pandas, sciPy, matplotlib, Shogun, PyLearn2 and PyMC (machine learning); Bokeh, ggplot, Plotly, prettyplotlib, and seaborn (data visualization and plotting), and csvkit, PyTables, SQLite3 (data formatting and storage), to name a few.   \n",
    "\n",
    "It has been growing in demand. Also, Python has emerged as a very scalable language compared to R and is faster to use than Matlab and Stata.   \n",
    "\n",
    "Python's Community - The growth of Python is due to its ecosystem. Today, an increased number of volunteers are developing Python libraries as Python has extended its reach to the data science community. This helps develop advanced tools and processes in Python."
   ]
  },
  {
   "cell_type": "markdown",
   "metadata": {},
   "source": [
    "10. What are hyperparameters? What is hyperparameter tuning?"
   ]
  },
  {
   "cell_type": "markdown",
   "metadata": {},
   "source": [
    "Machine learning models are different in some way or the other, but what makes them different is nothing but input parameters for the model. These input parameters are named as Hyperparameters. Often, we are not aware of optimal values for hyperparameters which would generate the best model output. So, what we tell the model is to explore and select the optimal model architecture automatically. Hyperparameter tuning is the process of determining the right combination of hyperparameters that allows the model to maximize model performance. Setting the correct combination of hyperparameters is the only way to extract the maximum performance out of models."
   ]
  },
  {
   "cell_type": "markdown",
   "metadata": {},
   "source": [
    "11. Explain what a perceptron is and how it works. "
   ]
  },
  {
   "cell_type": "markdown",
   "metadata": {},
   "source": [
    "A Perceptron is an algorithm for supervised learning of binary classifiers. This algorithm enables neurons to learn and processes elements in the training set one at a time.   \n",
    "There are two types of Perceptrons: Single layer and Multilayer. Single layer Perceptrons can learn only linearly separable patterns. Multilayer Perceptrons or feedforward neural networks with two or more layers have the greater processing power.   \n",
    "\n",
    "The Perceptron algorithm learns the weights for the input signals in order to draw a linear decision boundary.\n",
    "This enables you to distinguish between the two linearly separable classes +1 and -1."
   ]
  },
  {
   "cell_type": "markdown",
   "metadata": {},
   "source": [
    "# Assessment Tuesday, June 1st."
   ]
  },
  {
   "cell_type": "markdown",
   "metadata": {},
   "source": [
    "<div style=\"background: #000;\n",
    "            color: #FFF;\n",
    "            margin: 0px;\n",
    "            padding: 10px 0px 20px 0px;\n",
    "            text-align: center; \n",
    "                \">\n",
    "    <h1>Phase 3 Assessment Topics</h1>\n",
    "</div>"
   ]
  },
  {
   "cell_type": "markdown",
   "metadata": {},
   "source": [
    "# Topics covered by the assessment.\n",
    "\n",
    "\n",
    "**Please refer to Phase 1 Assessment Review and Phase 2 Assessment Review lessons and videos.**\n",
    "\n",
    "**Bolded** topics should be focused on.\n",
    "\n",
    "Topics from this phase:\n",
    "* **A/B Testing**\n",
    "* **Hypothesis and Statistical Testing**\n",
    "* **Unsupervised Learning**\n",
    "  - **Clustering** (including **K-Means clustering**)\n",
    "  - **Dimensionality Reduction** (including Principal Component Analysis)\n",
    "* **Intro to Neural Networks and Perceptrons**\n",
    "\n",
    "### Python\n",
    "* **All material covered by Phase 1**\n",
    "* **Data Structure/Algorithms**\n",
    "  - Linked Lists (and doubly linked lists)\n",
    "  - Stacks\n",
    "  - **Queues** (and python's deque)\n",
    "  - **Binary Trees** \n",
    "    - insert, find, print, delete\n",
    "    - full, complete, perfect binary tree\n",
    "  - **Binary Search** [week 20] \n",
    "  - Binary (XOR, bin, int('',2),  )\n",
    "* Iterators/Generators (next, iter, yield, `__iter__`, `__next__`) \n",
    "* with contextlib.closing [week 19]\n",
    "* Test Driven Development [week 20]\n",
    "* Unit Testing [week 20]\n",
    "* Dataclasses\n",
    "* Typing\n",
    "* Namedtuples\n",
    "* any other python topics we've covered\n",
    "\n",
    "Full list of python topics in `Week-033`'s lessons.\n",
    "\n",
    "<hr />"
   ]
  },
  {
   "cell_type": "markdown",
   "metadata": {},
   "source": [
    "### Numpy\n",
    "* **creating numpy arrays**\n",
    "* **methods** (`zeros`, `ones`, `empty`, `arange`, `linspace`, `sort`, `concatenate`, `reshape`, `ravel`, `expand_dims`, `nonzero`, `vstack`, `hstack`, `hsplit`, `view`, `copy`)\n",
    "* **attributes** (`ndim`, `size`, `shape`, `newaxis`)\n",
    "* **indexing/slicing**\n",
    "* **dealing with axes** \n",
    "* **broadcasting**\n",
    "* **descriptive statistics** (`np.array.mean`, `np.array.median`, `np.array.std`)\n",
    "\n",
    "<hr />"
   ]
  },
  {
   "cell_type": "markdown",
   "metadata": {},
   "source": [
    "### Pandas\n",
    "* **DataFrames**\n",
    "  - **Reading different file types into dataframes**\n",
    "  - **methods** (`describe`, `head`, `tail`, `info`, `dtypes`,  `max`, `loc`, `iloc`, `groupby`, `value_counts`, `count`, `drop_duplicates`, `apply`, `isna`, `isnull`, etc.)  \n",
    "  - **attributes** (`shape`, `columns`) \n",
    "  - **indexing/slicing** (including with conditionals and lists of information).\n",
    "* **Series**\n",
    "  - **Summary statistics** (descriptive statistics) in pandas (max, mean, median, etc) \n",
    "\n",
    "<hr />"
   ]
  },
  {
   "cell_type": "markdown",
   "metadata": {},
   "source": [
    "# SQL \n",
    "\n",
    "* sqlite3 in python\n",
    "  - connect\n",
    "  - cursor\n",
    "  - execute\n",
    "* sql data types\n",
    "* **sql important keywords** (`CREATE`, `SELECT`, `INSERT`, `UPDATE`, `DELETE` and `DROP`)\n",
    "* **sql clause keywords** (`FROM`, `WHERE`, `DISTINCT`, `GROUP BY`, `BETWEEN`, `LIKE`, `IN`)\n",
    "* sql operators (=, >, <, >=, `<>`/`!=`, \n",
    "* **functions** (`MAX`, `MIN`, `AVG`)\n",
    "* primary keys\n",
    "* **joins** (**only** `INNER JOIN`)\n",
    "\n",
    "<hr />"
   ]
  },
  {
   "cell_type": "markdown",
   "metadata": {},
   "source": [
    "### Data Science/Machine Learning\n",
    "* **Statistical Measures** (mean, median, mode, standard deviation, variance)\n",
    "* **Descriptive Statistics** (statistical measures measure previously plus shape, outliers and range)\n",
    "* **What is data narration/storytelling?**\n",
    "* **Types of Data**:\n",
    "    - Ordinal data \n",
    "    - Interval data\n",
    "    - Ratio data\n",
    "    - Discrete\n",
    "    - Continuous\n",
    "    - Cross-sectional\n",
    "    - Time series data\n",
    "* Structured and unstructured data\n",
    "* **Dirty Data** \n",
    "  - Data that is inaccurate, incomplete, inconsistent or in incorrect format\n",
    "  - methods of fixing it\n",
    "* **Data Cleansing** [week 18]\n",
    "  - method of detecting/correcting corrupt or inaccurate data\n",
    "* **Data Wrangling** [week 18]\n",
    "  - method of preparing raw data for analysis\n",
    "* Data Quality [week 18]\n",
    "  - Validity\n",
    "  - Accuracy\n",
    "  - Completeness\n",
    "  - Consistency\n",
    "  - Uniformity\n",
    "* Data Integrity [week 18]\n",
    "* Inferential Statistics \n",
    "  - **What is sampling?**\n",
    "  - Distribution of data \n",
    "    - primarily normal distribution\n",
    "* Data Visualizations\n",
    "  - **Types of charts**\n",
    "    - **line charts**\n",
    "    - **histograms**\n",
    "    - **scatterplots**\n",
    "    - **bar charts**\n",
    "    - **pie charts**\n",
    "    - **box plots**\n",
    "  - Matplotlib\n",
    "    - OO method and pyplot method\n",
    "    - methods (plot, subplot, axis, show, xlabel, ylabel, scatter, title, suptitle, set/setp, grid, text, annotate, xscale/yscale,\n",
    "    - objects (figure, axes)\n",
    "  - Seaborn (heatmap, jointplot) \n",
    "  - Bokeh \n",
    "    - methods\n",
    "    - objects\n",
    "    - creating different types of plots\n",
    "\n",
    "<hr />"
   ]
  },
  {
   "cell_type": "markdown",
   "metadata": {},
   "source": [
    "### Math     \n",
    "* **Probability**\n",
    "  - **Probability**\n",
    "    - **what it is**\n",
    "    - **how to calculate it based on sample size**\n",
    "    - **Range of probability** (`0 <= p(x) <= 1`)\n",
    "  - **Experiment/Trial**\n",
    "  - **Event/Outcome**\n",
    "  - **Sample Space**\n",
    "  - **Factorials**\n",
    "  - **Permutation**\n",
    "  - Combination\n",
    "  - Probability distributions\n",
    "    - Probability Mass Function\n",
    "    - Probability Distribution Function\n",
    "  - **Expected Value**\n",
    "  - Frequentist vs Bayesian perspectives\n",
    "  - Basic Probability problems\n",
    "    - Urn problems. Example: There are 20 balls in an urn (10 white, 5 black, and 5 brown).  If one is chosen at random, what is the probability it is white? [Week 16]\n",
    "  - Conditional Probability\n",
    "* **Linear Algebra**\n",
    "  - Vectors\n",
    "  - **Matrices**\n",
    "    - **adding**\n",
    "    - **subtracting**\n",
    "    - **multiplying/dividing by constant**\n",
    "    - **dot products**\n",
    "    - identity matrices\n",
    "\n",
    "<hr />"
   ]
  },
  {
   "cell_type": "markdown",
   "metadata": {},
   "source": [
    "### Machine Learning\n",
    "* **Types of machine learning**\n",
    "* **Underfitting/Overfitting**\n",
    "* **Bias vs. Variance**\n",
    "* **Supervised Learning**\n",
    "  - **what it is**\n",
    "  - **labeled data**\n",
    "  - **Regression**\n",
    "    - **Linear Regression**\n",
    "      - **Process**\n",
    "      - **Independent/Dependent variables**\n",
    "      - Variance/Covariance/Correlation of variables\n",
    "      - **Coefficients/Intercept**\n",
    "      - Multiple Linear Regression\n",
    "      - **Making predictions with our linear regression**\n",
    "      - **$R^2$** and error calculations\n",
    "  - **Classification**\n",
    "    - **Logistic Regression**\n",
    "    - Splitting testing/training data\n",
    "* Unsupervised Learning\n",
    "  - Clustering\n",
    "* Semi-supervised Learning\n",
    "* Reinforcement Learning"
   ]
  },
  {
   "cell_type": "code",
   "execution_count": null,
   "metadata": {},
   "outputs": [],
   "source": []
  },
  {
   "cell_type": "markdown",
   "metadata": {},
   "source": [
    "# Python \n",
    "  * urllib/requests\n",
    "  * beautifulsoup4\n",
    "  * reading/writing to files\n",
    "  * `JSON` data in python \n",
    "  * more on beautifulsoup/requests\n",
    "  * databases\n",
    "    - `SQL` and relational databases\n",
    "    - SQLite3\n",
    "    - creating db and tables\n",
    "    - `SELECT`, `UPDATE`, `DELETE`, `JOIN`\n",
    "    - SQLAlchemy\n",
    "    - Flask-SQLAlchemy\n",
    "    - NoSQL vs SQL\n",
    "    - database concepts (ACID, CRUD)\n",
    "  * algorithms\n",
    "    - linked lists\n",
    "    - stacks\n",
    "    - binary trees\n",
    "    - binary search\n",
    "  * binary numbers in python\n",
    "  * unit testing and TDD in python\n",
    "  * python typing\n",
    "    - type systems \n",
    "    - dynamic typing vs. static typing\n",
    "    - strongly and weaked typed\n",
    "    - type annotations in python\n",
    "  * namedtuples in python\n",
    "  * dataclasses in python\n",
    "  * perceptron code example"
   ]
  },
  {
   "cell_type": "code",
   "execution_count": null,
   "metadata": {},
   "outputs": [],
   "source": []
  }
 ],
 "metadata": {
  "kernelspec": {
   "display_name": "Python 3",
   "language": "python",
   "name": "python3"
  },
  "language_info": {
   "codemirror_mode": {
    "name": "ipython",
    "version": 3
   },
   "file_extension": ".py",
   "mimetype": "text/x-python",
   "name": "python",
   "nbconvert_exporter": "python",
   "pygments_lexer": "ipython3",
   "version": "3.8.3"
  }
 },
 "nbformat": 4,
 "nbformat_minor": 5
}
