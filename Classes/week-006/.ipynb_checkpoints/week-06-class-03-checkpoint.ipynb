{
 "cells": [
  {
   "cell_type": "markdown",
   "metadata": {},
   "source": [
    "<div style=\"background: #000;\n",
    "            color: #FFF;\n",
    "            margin: 0px;\n",
    "                padding: 10px 0px 20px 0px;\n",
    "            text-align: center; \n",
    "                \">\n",
    "    <h1>Week 6 - Class 3 - 10/21</h1>\n",
    "</div>\n",
    "\n",
    "\n",
    "## Objectives for this week:\n",
    "* Objects, \n",
    "* Class declarations, Attributes, Methods\n",
    "* Self keywords\n",
    "* Object Inheritance, Generating Object Instances\n",
    "* Dot Notation\n",
    "\n",
    "## Todays Agenda\n",
    "* Homework Presentations\n",
    "* Object Inheritance, \n",
    "* Generating Object, Instances"
   ]
  },
  {
   "cell_type": "markdown",
   "metadata": {},
   "source": [
    "# Homework Presentations"
   ]
  },
  {
   "cell_type": "markdown",
   "metadata": {},
   "source": [
    "# Exercise 3\n",
    "\n",
    "If we list all the natural numbers below 10 that are multiples of 3 or 5, we get 3, 5, 6 and 9. The sum of these multiples is 23.\n",
    "\n",
    "Create a function that returns the sum of all the multiples of 3 or 5 below `n` where `n` is the inputted number.\n",
    "\n",
    "e.g. \n",
    "\n",
    "```\n",
    "n=10 -> 23\n",
    "n=25 -> 143\n",
    "n=50 -> 543\n",
    "n=100 -> 2318\n",
    "```"
   ]
  },
  {
   "cell_type": "code",
   "execution_count": null,
   "metadata": {},
   "outputs": [],
   "source": [
    "def sum_of_threes_and_fives(n=100):\n",
    "    pass\n",
    "\n",
    "sum_of_threes_and_fives() "
   ]
  },
  {
   "cell_type": "markdown",
   "metadata": {},
   "source": [
    "This code will allow you to solve problem 1 of the Project Euler problems.\n",
    "\n",
    "https://projecteuler.net/archives"
   ]
  },
  {
   "cell_type": "markdown",
   "metadata": {},
   "source": [
    "# Operator Overloading\n",
    "\n",
    "Certain operators like `==`, `+`, `-`, `*` can be overloaded to be used with user-defined datatypes like classes as well as built-in type like integers\n",
    "\n",
    "`==`  `__eq__`  \n",
    "`+` `__add__`\n",
    "`-` `__sub__`  \n",
    "`*` `__mul__`  \n",
    "`/` `__truediv__`  \n",
    "`//` `__floordiv__`  \n",
    "`%` `__mod__`  \n",
    "`**` `__pow__`  \n",
    "`<`  `__lt__`   \n",
    "`>`  `__gt__`  \n",
    "`<=` `__le__`  \n",
    "`>=` `__ge__`  \n",
    "`!=` `__ne__`"
   ]
  },
  {
   "cell_type": "markdown",
   "metadata": {},
   "source": [
    "# Vector example"
   ]
  },
  {
   "cell_type": "code",
   "execution_count": 1,
   "metadata": {},
   "outputs": [
    {
     "data": {
      "text/plain": [
       "False"
      ]
     },
     "execution_count": 1,
     "metadata": {},
     "output_type": "execute_result"
    }
   ],
   "source": [
    "class Vector:\n",
    "    def __init__(self, x=0, y=0):\n",
    "        self.x = x\n",
    "        self.y = y\n",
    "\n",
    "p = Vector(2,4)\n",
    "q = Vector(2,4)\n",
    "\n",
    "p == q"
   ]
  },
  {
   "cell_type": "code",
   "execution_count": 2,
   "metadata": {},
   "outputs": [
    {
     "data": {
      "text/plain": [
       "True"
      ]
     },
     "execution_count": 2,
     "metadata": {},
     "output_type": "execute_result"
    }
   ],
   "source": [
    "class Vector:\n",
    "    def __init__(self, x=0, y=0):\n",
    "        self.x = x\n",
    "        self.y = y\n",
    "    \n",
    "    def __eq__(self, other):\n",
    "        return self.x == other.x and self.y == other.y\n",
    "    \n",
    "p = Vector(2,4)\n",
    "q = Vector(2,4)\n",
    "\n",
    "p == q"
   ]
  },
  {
   "cell_type": "markdown",
   "metadata": {},
   "source": [
    "#### How do we implement others? (code along)"
   ]
  },
  {
   "cell_type": "code",
   "execution_count": 32,
   "metadata": {},
   "outputs": [
    {
     "name": "stdout",
     "output_type": "stream",
     "text": [
      "Vector x: 7.0 y: 14.0\n"
     ]
    }
   ],
   "source": [
    "class Vector:\n",
    "    def __init__(self, x=0, y=0):\n",
    "        self.x = x\n",
    "        self.y = y\n",
    "    def print_vector(self):\n",
    "        print(f\"x: {x}, y: {y}\")\n",
    "    def __eq__(self, other):\n",
    "        if isinstance(other, Vector):\n",
    "            return self.x == other.x and self.y == other.y\n",
    "    def __add__(self, other):\n",
    "        if isinstance(other, Vector):\n",
    "            return Vector(self.x + other.x,self.y + other.y)\n",
    "    def __mul__(self, scalar):\n",
    "        if isinstance(scalar, (int, float)):\n",
    "            return Vector(self.x * scalar, self.y * scalar)\n",
    "    def __repr__(self):\n",
    "        return f\"Vector({self.x}, {self.y})\"\n",
    "    def __str__(self):\n",
    "        return f\"Vector x: {self.x} y: {self.y}\"   \n",
    "p = Vector(2,4)\n",
    "q = Vector(3,6)\n",
    "print(p * 3.5)"
   ]
  },
  {
   "cell_type": "markdown",
   "metadata": {},
   "source": [
    "# Getters and Setters"
   ]
  },
  {
   "cell_type": "code",
   "execution_count": null,
   "metadata": {},
   "outputs": [],
   "source": [
    "class Point:\n",
    "    def __init__(self, x, y):\n",
    "        self.__x = x\n",
    "        self.__y = y\n",
    "    \n",
    "    def get_x(self):\n",
    "        return self.__x\n",
    "    \n",
    "    def set_x(self, x):\n",
    "        if type(x) == int:\n",
    "            self.__x = x\n",
    "        \n",
    "    def get_y(self):\n",
    "        return self.__y\n",
    "    \n",
    "    def set_y(self, y):\n",
    "        if type(y) == int:\n",
    "            self.__y = y\n",
    "        \n",
    "p = Point(0,1)\n",
    "\n",
    "print(p.get_x())\n",
    "print(p.get_y())\n",
    "print()\n",
    "\n",
    "p.set_x(3)\n",
    "p.set_y(5)\n",
    "\n",
    "print(p.get_x())\n",
    "print(p.get_y())"
   ]
  },
  {
   "cell_type": "markdown",
   "metadata": {},
   "source": [
    "# `@property`\n",
    "\n",
    "Makes a method of `cls` accessible via attribute "
   ]
  },
  {
   "cell_type": "code",
   "execution_count": null,
   "metadata": {},
   "outputs": [],
   "source": [
    "class Person:\n",
    "    def __init__(self, first_name, last_name, age):\n",
    "        self.first_name = first_name\n",
    "        self.last_name = last_name\n",
    "        self.age = age\n",
    "        self.full_name = f\"{self.first_name} {self.last_name}\"       \n",
    "        \n",
    "p = Person('Kamala', 'Harris', 56)\n",
    "p.full_name"
   ]
  },
  {
   "cell_type": "code",
   "execution_count": 1,
   "metadata": {},
   "outputs": [
    {
     "data": {
      "text/plain": [
       "'Kamala Harris'"
      ]
     },
     "execution_count": 1,
     "metadata": {},
     "output_type": "execute_result"
    }
   ],
   "source": [
    "class Person:\n",
    "    def __init__(self, first_name, last_name, age):\n",
    "        self.first_name = first_name\n",
    "        self.last_name = last_name\n",
    "        self.age = age\n",
    "        \n",
    "    @property\n",
    "    def full_name(self):\n",
    "        return f\"{self.first_name} {self.last_name}\"\n",
    "        \n",
    "        \n",
    "p = Person('Kamala', 'Harris', 56)\n",
    "p.full_name"
   ]
  },
  {
   "cell_type": "markdown",
   "metadata": {},
   "source": [
    "# Setters using `@property`"
   ]
  },
  {
   "cell_type": "code",
   "execution_count": 2,
   "metadata": {},
   "outputs": [
    {
     "ename": "AttributeError",
     "evalue": "can't set attribute",
     "output_type": "error",
     "traceback": [
      "\u001b[1;31m---------------------------------------------------------------------------\u001b[0m",
      "\u001b[1;31mAttributeError\u001b[0m                            Traceback (most recent call last)",
      "\u001b[1;32m<ipython-input-2-c4ab2db21ecf>\u001b[0m in \u001b[0;36m<module>\u001b[1;34m\u001b[0m\n\u001b[0;32m     11\u001b[0m \u001b[1;33m\u001b[0m\u001b[0m\n\u001b[0;32m     12\u001b[0m \u001b[0mp\u001b[0m \u001b[1;33m=\u001b[0m \u001b[0mPerson\u001b[0m\u001b[1;33m(\u001b[0m\u001b[1;34m'Kamala'\u001b[0m\u001b[1;33m,\u001b[0m \u001b[1;34m'Harris'\u001b[0m\u001b[1;33m,\u001b[0m \u001b[1;36m56\u001b[0m\u001b[1;33m)\u001b[0m\u001b[1;33m\u001b[0m\u001b[1;33m\u001b[0m\u001b[0m\n\u001b[1;32m---> 13\u001b[1;33m \u001b[0mp\u001b[0m\u001b[1;33m.\u001b[0m\u001b[0mfull_name\u001b[0m \u001b[1;33m=\u001b[0m \u001b[1;34m'Joe Biden'\u001b[0m\u001b[1;33m\u001b[0m\u001b[1;33m\u001b[0m\u001b[0m\n\u001b[0m",
      "\u001b[1;31mAttributeError\u001b[0m: can't set attribute"
     ]
    }
   ],
   "source": [
    "class Person:\n",
    "    def __init__(self, first_name, last_name, age):\n",
    "        self.first_name = first_name\n",
    "        self.last_name = last_name\n",
    "        self.age = age\n",
    "        \n",
    "    @property\n",
    "    def full_name(self):\n",
    "        return f\"{self.first_name} {self.last_name}\"\n",
    "        \n",
    "        \n",
    "p = Person('Kamala', 'Harris', 56)\n",
    "p.full_name = 'Joe Biden'"
   ]
  },
  {
   "cell_type": "code",
   "execution_count": 3,
   "metadata": {},
   "outputs": [
    {
     "data": {
      "text/plain": [
       "'Joe Biden'"
      ]
     },
     "execution_count": 3,
     "metadata": {},
     "output_type": "execute_result"
    }
   ],
   "source": [
    "class Person:\n",
    "    def __init__(self, first_name, last_name, age):\n",
    "        self.first_name = first_name\n",
    "        self.last_name = last_name\n",
    "        self.age = age\n",
    "        \n",
    "    @property\n",
    "    def full_name(self):\n",
    "        return f\"{self.first_name} {self.last_name}\"\n",
    "    \n",
    "    @full_name.setter\n",
    "    def full_name(self, full_name):\n",
    "        self.first_name, self.last_name = full_name.split(' ')\n",
    "        \n",
    "        \n",
    "p = Person('Kamala', 'Harris', 56)\n",
    "p.full_name = 'Joe Biden'\n",
    "p.full_name"
   ]
  },
  {
   "cell_type": "markdown",
   "metadata": {},
   "source": [
    "# Deleters using `@property`"
   ]
  },
  {
   "cell_type": "code",
   "execution_count": 31,
   "metadata": {},
   "outputs": [
    {
     "data": {
      "text/plain": [
       "'None None'"
      ]
     },
     "execution_count": 31,
     "metadata": {},
     "output_type": "execute_result"
    }
   ],
   "source": [
    "class Person:\n",
    "    def __init__(self, first_name, last_name, age):\n",
    "        self.first_name = first_name\n",
    "        self.last_name = last_name\n",
    "        self.age = age\n",
    "        \n",
    "    @property\n",
    "    def full_name(self):\n",
    "        return f\"{self.first_name} {self.last_name}\"\n",
    "    \n",
    "    @full_name.setter\n",
    "    def full_name(self, full_name):\n",
    "        self.first_name, self.last_name = full_name.split(' ')\n",
    "        \n",
    "    @full_name.deleter\n",
    "    def full_name(self):\n",
    "        self.first_name, self.last_name = (None, None)\n",
    "        \n",
    "        \n",
    "p = Person('Kamala', 'Harris', 56)\n",
    "p.full_name = 'Joe Biden'\n",
    "del p.full_name\n",
    "\n",
    "p.full_name"
   ]
  },
  {
   "cell_type": "markdown",
   "metadata": {},
   "source": [
    "Before"
   ]
  },
  {
   "cell_type": "code",
   "execution_count": 29,
   "metadata": {},
   "outputs": [
    {
     "name": "stdout",
     "output_type": "stream",
     "text": [
      "0\n",
      "1\n",
      "\n",
      "3\n",
      "5\n"
     ]
    }
   ],
   "source": [
    "class Point:\n",
    "    def __init__(self, x, y):\n",
    "        self.__x = x\n",
    "        self.__y = y\n",
    "    \n",
    "    def get_x(self):\n",
    "        return self.__x\n",
    "    \n",
    "    def set_x(self, x):\n",
    "        if type(x) == int:\n",
    "            self.__x = x\n",
    "        \n",
    "    def get_y(self):\n",
    "        return self.__y\n",
    "    \n",
    "    def set_y(self, y):\n",
    "        if type(y) == int:\n",
    "            self.__y = y\n",
    "        \n",
    "p = Point(0,1)\n",
    "\n",
    "print(p.get_x())\n",
    "print(p.get_y())\n",
    "print()\n",
    "\n",
    "p.set_x(3)\n",
    "p.set_y(5)\n",
    "\n",
    "print(p.get_x())\n",
    "print(p.get_y())"
   ]
  },
  {
   "cell_type": "markdown",
   "metadata": {},
   "source": [
    "After"
   ]
  },
  {
   "cell_type": "code",
   "execution_count": 30,
   "metadata": {},
   "outputs": [
    {
     "name": "stdout",
     "output_type": "stream",
     "text": [
      "0\n",
      "1\n",
      "\n",
      "3\n",
      "5\n"
     ]
    }
   ],
   "source": [
    "class Point:        \n",
    "    def __init__(self, x, y):\n",
    "        self.__x = x\n",
    "        self.__y = y\n",
    "    \n",
    "    @property\n",
    "    def x(self):\n",
    "        return self.__x\n",
    "    \n",
    "    @x.setter\n",
    "    def x(self, x):\n",
    "        if type(x) == int:\n",
    "            self.__x = x\n",
    "        \n",
    "    @property\n",
    "    def y(self):\n",
    "        return self.__y\n",
    "    \n",
    "    @y.setter\n",
    "    def y(self, y):\n",
    "        if type(y) == int:\n",
    "            self.__y = y\n",
    "        \n",
    "p = Point(0,1)\n",
    "\n",
    "print(p.x)\n",
    "print(p.y)\n",
    "print()\n",
    "\n",
    "p.x = 3\n",
    "p.y = 5\n",
    "\n",
    "print(p.x)\n",
    "print(p.y)\n",
    "     "
   ]
  },
  {
   "cell_type": "markdown",
   "metadata": {},
   "source": [
    "# `@staticmethod`"
   ]
  },
  {
   "cell_type": "code",
   "execution_count": 9,
   "metadata": {},
   "outputs": [
    {
     "ename": "NameError",
     "evalue": "name 'current_year' is not defined",
     "output_type": "error",
     "traceback": [
      "\u001b[1;31m---------------------------------------------------------------------------\u001b[0m",
      "\u001b[1;31mNameError\u001b[0m                                 Traceback (most recent call last)",
      "\u001b[1;32m<ipython-input-9-ae173434a581>\u001b[0m in \u001b[0;36m<module>\u001b[1;34m\u001b[0m\n\u001b[0;32m     16\u001b[0m \u001b[0ms\u001b[0m \u001b[1;33m=\u001b[0m \u001b[0mPerson\u001b[0m\u001b[1;33m(\u001b[0m\u001b[1;34m\"John Doe\"\u001b[0m\u001b[1;33m,\u001b[0m \u001b[1;36m30\u001b[0m\u001b[1;33m)\u001b[0m\u001b[1;33m\u001b[0m\u001b[1;33m\u001b[0m\u001b[0m\n\u001b[0;32m     17\u001b[0m \u001b[1;31m#s.calculate_birth_year()\u001b[0m\u001b[1;33m\u001b[0m\u001b[1;33m\u001b[0m\u001b[1;33m\u001b[0m\u001b[0m\n\u001b[1;32m---> 18\u001b[1;33m \u001b[0mprint\u001b[0m\u001b[1;33m(\u001b[0m\u001b[0ms\u001b[0m\u001b[1;33m.\u001b[0m\u001b[0mcalculate_birth_year\u001b[0m\u001b[1;33m(\u001b[0m\u001b[1;33m)\u001b[0m\u001b[1;33m)\u001b[0m\u001b[1;33m\u001b[0m\u001b[1;33m\u001b[0m\u001b[0m\n\u001b[0m\u001b[0;32m     19\u001b[0m \u001b[0ms\u001b[0m\u001b[1;33m.\u001b[0m\u001b[0mcurrent_year\u001b[0m\u001b[1;33m(\u001b[0m\u001b[1;33m)\u001b[0m\u001b[1;33m\u001b[0m\u001b[1;33m\u001b[0m\u001b[0m\n",
      "\u001b[1;32m<ipython-input-9-ae173434a581>\u001b[0m in \u001b[0;36mcalculate_birth_year\u001b[1;34m(self)\u001b[0m\n\u001b[0;32m      8\u001b[0m \u001b[1;33m\u001b[0m\u001b[0m\n\u001b[0;32m      9\u001b[0m     \u001b[1;32mdef\u001b[0m \u001b[0mcalculate_birth_year\u001b[0m\u001b[1;33m(\u001b[0m\u001b[0mself\u001b[0m\u001b[1;33m)\u001b[0m\u001b[1;33m:\u001b[0m\u001b[1;33m\u001b[0m\u001b[1;33m\u001b[0m\u001b[0m\n\u001b[1;32m---> 10\u001b[1;33m         \u001b[1;32mreturn\u001b[0m \u001b[0mcurrent_year\u001b[0m\u001b[1;33m(\u001b[0m\u001b[1;33m)\u001b[0m \u001b[1;33m-\u001b[0m \u001b[0mself\u001b[0m\u001b[1;33m.\u001b[0m\u001b[0mage\u001b[0m\u001b[1;33m\u001b[0m\u001b[1;33m\u001b[0m\u001b[0m\n\u001b[0m\u001b[0;32m     11\u001b[0m \u001b[1;33m\u001b[0m\u001b[0m\n\u001b[0;32m     12\u001b[0m     \u001b[1;33m@\u001b[0m\u001b[0mstaticmethod\u001b[0m\u001b[1;33m\u001b[0m\u001b[1;33m\u001b[0m\u001b[0m\n",
      "\u001b[1;31mNameError\u001b[0m: name 'current_year' is not defined"
     ]
    }
   ],
   "source": [
    "from datetime import datetime\n",
    "\n",
    "\n",
    "class Person:\n",
    "    def __init__(self, name, age):\n",
    "        self.name = name\n",
    "        self.age = age\n",
    "        \n",
    "    def calculate_birth_year(self):\n",
    "        return current_year() - self.age\n",
    "    \n",
    "    @staticmethod\n",
    "    def current_year():\n",
    "        return datetime.now().year\n",
    "\n",
    "s = Person(\"John Doe\", 30)\n",
    "#s.calculate_birth_year()\n",
    "print(s.calculate_birth_year())\n",
    "s.current_year()  "
   ]
  },
  {
   "cell_type": "code",
   "execution_count": 10,
   "metadata": {},
   "outputs": [
    {
     "name": "stdout",
     "output_type": "stream",
     "text": [
      "1990\n"
     ]
    },
    {
     "data": {
      "text/plain": [
       "2020"
      ]
     },
     "execution_count": 10,
     "metadata": {},
     "output_type": "execute_result"
    }
   ],
   "source": [
    "from datetime import datetime\n",
    "\n",
    "def current_year():\n",
    "    return datetime.now().year\n",
    "\n",
    "class Person:\n",
    "    def __init__(self, name, age):\n",
    "        self.name = name\n",
    "        self.age = age\n",
    "        \n",
    "    def calculate_birth_year(self):\n",
    "        return current_year() - self.age\n",
    "    \n",
    "    @staticmethod    #do not need to pass self because it's static\n",
    "    def current_year():    #static method has nthing to do with the instance\n",
    "        return datetime.now().year\n",
    "    \n",
    "\n",
    "s = Person(\"John Doe\", 30)\n",
    "print(s.calculate_birth_year())\n",
    "s.current_year()      "
   ]
  },
  {
   "cell_type": "markdown",
   "metadata": {},
   "source": [
    "# `@classmethod`"
   ]
  },
  {
   "cell_type": "code",
   "execution_count": 11,
   "metadata": {},
   "outputs": [
    {
     "name": "stdout",
     "output_type": "stream",
     "text": [
      "John\n",
      "Doe\n",
      "John\n",
      "Doe\n"
     ]
    }
   ],
   "source": [
    "class Example:    \n",
    "    def __init__(self, first_name=None, last_name=None):\n",
    "        self.first_name = first_name\n",
    "        self.last_name = last_name\n",
    "        \n",
    "    @classmethod   #adding class instead of self, is what classmethod does\n",
    "    def from_full_name(cls, full_name): # note that it takes argument `cls`\n",
    "        first, last = full_name.split(' ')\n",
    "        return Example(first_name=first, last_name=last)  #returning the Example class\n",
    "#classmethod refers to the class itself instead of the instance\n",
    "    \n",
    "x = Example.from_full_name(\"John Doe\")\n",
    "\n",
    "y = Example(first_name='John', last_name='Doe')\n",
    "\n",
    "print(x.first_name)\n",
    "print(x.last_name)\n",
    "\n",
    "print(y.first_name)\n",
    "print(y.last_name)"
   ]
  },
  {
   "cell_type": "code",
   "execution_count": 35,
   "metadata": {},
   "outputs": [
    {
     "data": {
      "text/plain": [
       "104"
      ]
     },
     "execution_count": 35,
     "metadata": {},
     "output_type": "execute_result"
    }
   ],
   "source": [
    "class Base:\n",
    "    count = int(0)\n",
    "    \n",
    "    def __init__(self):\n",
    "        self._count()\n",
    "    \n",
    "    @classmethod    \n",
    "    def _count(cls):    #classmethod within that instance\n",
    "        cls.count += 1\n",
    "        return cls.count\n",
    "    \n",
    "a = Base()\n",
    "b = Base()\n",
    "c = Base()\n",
    "d = Base()\n",
    "[Base() for i in range(100)]\n",
    "Base.count"
   ]
  },
  {
   "cell_type": "code",
   "execution_count": null,
   "metadata": {},
   "outputs": [],
   "source": [
    "class Employee:\n",
    "    pass\n",
    "\n",
    "empl1 = Employee()"
   ]
  },
  {
   "cell_type": "markdown",
   "metadata": {},
   "source": [
    "# Introduction to inheritance\n",
    "\n",
    "Object inheritance is when you want to create an object that's based off of the structure of another class or you want to create an object that others are based off of.\n",
    "\n",
    "The format for inherited classes are such:\n",
    "```python\n",
    "    class BaseClass:\n",
    "        pass\n",
    "    \n",
    "    class AlternateBaseClass\n",
    "        pass\n",
    "    \n",
    "    class DerivedClass(BaseClass, AlternateBaseclass)\n",
    "        pass\n",
    "```"
   ]
  },
  {
   "cell_type": "code",
   "execution_count": 14,
   "metadata": {},
   "outputs": [
    {
     "name": "stdout",
     "output_type": "stream",
     "text": [
      "hello Anil\n"
     ]
    }
   ],
   "source": [
    "class BaseClass:\n",
    "    greeting = \"hello\"\n",
    "    \n",
    "    def greet(self, name):\n",
    "        print(f\"{self.greeting} {name}\")\n",
    "    \n",
    "b = BaseClass()\n",
    "b.greet('Anil')"
   ]
  },
  {
   "cell_type": "code",
   "execution_count": 16,
   "metadata": {},
   "outputs": [
    {
     "name": "stdout",
     "output_type": "stream",
     "text": [
      "hello Anna\n"
     ]
    }
   ],
   "source": [
    "class DerivedClass(BaseClass):\n",
    "    pass\n",
    "\n",
    "d = DerivedClass()\n",
    "\n",
    "d.greet('Anna')"
   ]
  },
  {
   "cell_type": "code",
   "execution_count": 17,
   "metadata": {},
   "outputs": [],
   "source": [
    "class C:\n",
    "    def __init__(self):\n",
    "        self.string =  \"string\"\n",
    "        self.integer = 42\n",
    "\n",
    "class D(C):\n",
    "    def __init__(self):\n",
    "        self.bools = (True, False)\n",
    "        C.__init__(self)   #need to call the init in the inherited class in order to access the C"
   ]
  },
  {
   "cell_type": "code",
   "execution_count": 19,
   "metadata": {},
   "outputs": [
    {
     "name": "stdout",
     "output_type": "stream",
     "text": [
      "string\n",
      "(True, False)\n"
     ]
    }
   ],
   "source": [
    "objectD = D()\n",
    "print(objectD.string)\n",
    "print(objectD.bools)"
   ]
  },
  {
   "cell_type": "code",
   "execution_count": 20,
   "metadata": {},
   "outputs": [
    {
     "data": {
      "text/plain": [
       "42"
      ]
     },
     "execution_count": 20,
     "metadata": {},
     "output_type": "execute_result"
    }
   ],
   "source": [
    "objectD.integer"
   ]
  },
  {
   "cell_type": "code",
   "execution_count": 21,
   "metadata": {},
   "outputs": [
    {
     "name": "stdout",
     "output_type": "stream",
     "text": [
      "a cat meows\n",
      "a dog barks\n",
      "a cow moos\n"
     ]
    }
   ],
   "source": [
    "class Animal:\n",
    "    def __init__(self, name, type_of_animal=None, sound=None):\n",
    "        self.name = name\n",
    "        self.type = type_of_animal\n",
    "        self.sound = sound\n",
    "        \n",
    "    def make_sound(self):\n",
    "        print(f\"a {self.type} {self.sound}\")\n",
    "    \n",
    "cat = Animal('matilda', 'cat', 'meows')\n",
    "dog = Animal('clifford', 'dog', 'barks')\n",
    "cow = Animal('spot', 'cow', 'moos')\n",
    "cat.make_sound()\n",
    "dog.make_sound()\n",
    "cow.make_sound()\n",
    "        "
   ]
  },
  {
   "cell_type": "code",
   "execution_count": 22,
   "metadata": {},
   "outputs": [
    {
     "name": "stdout",
     "output_type": "stream",
     "text": [
      "a cat meows\n"
     ]
    }
   ],
   "source": [
    "class Cat(Animal):\n",
    "    def __init__(self, name):\n",
    "        Animal.__init__(self, name, type_of_animal='cat', sound='meows')\n",
    "        #add init to inherit the animal class features\n",
    "matilda = Cat('matilda')\n",
    "\n",
    "matilda.make_sound()"
   ]
  },
  {
   "cell_type": "code",
   "execution_count": 1,
   "metadata": {},
   "outputs": [
    {
     "name": "stdout",
     "output_type": "stream",
     "text": [
      "a cat meows\n",
      "a dog barks\n",
      "a cow moos\n"
     ]
    },
    {
     "ename": "AttributeError",
     "evalue": "type object 'Cat' has no attribute 'cat_type'",
     "output_type": "error",
     "traceback": [
      "\u001b[1;31m---------------------------------------------------------------------------\u001b[0m",
      "\u001b[1;31mAttributeError\u001b[0m                            Traceback (most recent call last)",
      "\u001b[1;32m<ipython-input-1-d5d85578f511>\u001b[0m in \u001b[0;36m<module>\u001b[1;34m\u001b[0m\n\u001b[0;32m     22\u001b[0m \u001b[0mmatilda\u001b[0m \u001b[1;33m=\u001b[0m \u001b[0mCat\u001b[0m\u001b[1;33m(\u001b[0m\u001b[1;34m'matilda'\u001b[0m\u001b[1;33m,\u001b[0m \u001b[1;34m'tabby'\u001b[0m\u001b[1;33m,\u001b[0m \u001b[1;36m0\u001b[0m\u001b[1;33m)\u001b[0m\u001b[1;33m\u001b[0m\u001b[1;33m\u001b[0m\u001b[0m\n\u001b[0;32m     23\u001b[0m \u001b[1;33m\u001b[0m\u001b[0m\n\u001b[1;32m---> 24\u001b[1;33m \u001b[0mCat\u001b[0m\u001b[1;33m.\u001b[0m\u001b[0mcat_type\u001b[0m\u001b[1;33m\u001b[0m\u001b[1;33m\u001b[0m\u001b[0m\n\u001b[0m",
      "\u001b[1;31mAttributeError\u001b[0m: type object 'Cat' has no attribute 'cat_type'"
     ]
    }
   ],
   "source": [
    "class Animal:\n",
    "    def __init__(self, name, type_of_animal=None, sound=None):\n",
    "        self.name = name\n",
    "        self.type = type_of_animal\n",
    "        self.sound = sound\n",
    "        \n",
    "    def make_sound(self):\n",
    "        print(f\"a {self.type} {self.sound}\")\n",
    "    \n",
    "cat = Animal('matilda', 'cat', 'meows')\n",
    "dog = Animal('clifford', 'dog', 'barks')\n",
    "cow = Animal('spot', 'cow', 'moos')\n",
    "cat.make_sound()\n",
    "dog.make_sound()\n",
    "cow.make_sound()\n",
    "class Cat(Animal):\n",
    "    def __init__(self, name, cat_type = None, num_of_thumbs=None):\n",
    "        self.cat_type = cat_type\n",
    "        self.num_of_thumbs = num_of_thumbs\n",
    "        Animal.__init__(self, name, type_of_animal='cat', sound='meows')\n",
    "        \n",
    "matilda = Cat('matilda', 'tabby', 0)\n",
    "\n",
    "Cat.cat_type\n"
   ]
  },
  {
   "cell_type": "markdown",
   "metadata": {},
   "source": [
    "#  Special inheritance cases to consider"
   ]
  },
  {
   "cell_type": "code",
   "execution_count": 23,
   "metadata": {},
   "outputs": [
    {
     "data": {
      "text/plain": [
       "('Curtis', 'Jackson')"
      ]
     },
     "execution_count": 23,
     "metadata": {},
     "output_type": "execute_result"
    }
   ],
   "source": [
    "class Parent:\n",
    "    last_name = \"Jackson\"\n",
    "\n",
    "class Child(Parent):\n",
    "    first_name = \"Curtis\"\n",
    "\n",
    "p = Parent()\n",
    "c = Child()\n",
    "\n",
    "c.first_name, c.last_name"
   ]
  },
  {
   "cell_type": "code",
   "execution_count": 24,
   "metadata": {},
   "outputs": [
    {
     "data": {
      "text/plain": [
       "('brown', 'black')"
      ]
     },
     "execution_count": 24,
     "metadata": {},
     "output_type": "execute_result"
    }
   ],
   "source": [
    "class Mother:\n",
    "    eyes = \"brown\"\n",
    "\n",
    "class Father:\n",
    "    hair = \"black\"\n",
    "\n",
    "class Child(Mother, Father):\n",
    "    pass\n",
    "\n",
    "c = Child()\n",
    "c.eyes, c.hair"
   ]
  },
  {
   "cell_type": "code",
   "execution_count": 27,
   "metadata": {},
   "outputs": [
    {
     "data": {
      "text/plain": [
       "('earth', 'earth')"
      ]
     },
     "execution_count": 27,
     "metadata": {},
     "output_type": "execute_result"
    }
   ],
   "source": [
    "class Animal:\n",
    "    planet = \"earth\"\n",
    "\n",
    "class Cat(Animal):\n",
    "    s = True\n",
    "    pass\n",
    "\n",
    "class Dog(Animal):\n",
    "    t = False\n",
    "    pass\n",
    "\n",
    "c = Cat()\n",
    "d = Dog()\n",
    "\n",
    "c.planet, d.planet"
   ]
  },
  {
   "cell_type": "code",
   "execution_count": 26,
   "metadata": {},
   "outputs": [
    {
     "ename": "AttributeError",
     "evalue": "'Dog' object has no attribute 's'",
     "output_type": "error",
     "traceback": [
      "\u001b[1;31m---------------------------------------------------------------------------\u001b[0m",
      "\u001b[1;31mAttributeError\u001b[0m                            Traceback (most recent call last)",
      "\u001b[1;32m<ipython-input-26-fe7661fce724>\u001b[0m in \u001b[0;36m<module>\u001b[1;34m\u001b[0m\n\u001b[1;32m----> 1\u001b[1;33m \u001b[0mc\u001b[0m\u001b[1;33m.\u001b[0m\u001b[0ms\u001b[0m\u001b[1;33m,\u001b[0m \u001b[0md\u001b[0m\u001b[1;33m.\u001b[0m\u001b[0ms\u001b[0m\u001b[1;33m\u001b[0m\u001b[1;33m\u001b[0m\u001b[0m\n\u001b[0m",
      "\u001b[1;31mAttributeError\u001b[0m: 'Dog' object has no attribute 's'"
     ]
    }
   ],
   "source": [
    "c.s, d.s"
   ]
  },
  {
   "cell_type": "code",
   "execution_count": null,
   "metadata": {},
   "outputs": [],
   "source": []
  }
 ],
 "metadata": {
  "kernelspec": {
   "display_name": "Python 3",
   "language": "python",
   "name": "python3"
  },
  "language_info": {
   "codemirror_mode": {
    "name": "ipython",
    "version": 3
   },
   "file_extension": ".py",
   "mimetype": "text/x-python",
   "name": "python",
   "nbconvert_exporter": "python",
   "pygments_lexer": "ipython3",
   "version": "3.8.3"
  }
 },
 "nbformat": 4,
 "nbformat_minor": 4
}
