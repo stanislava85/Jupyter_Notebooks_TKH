{
 "cells": [
  {
   "cell_type": "markdown",
   "metadata": {},
   "source": [
    "<div style=\"background: #000;\n",
    "            color: #FFF;\n",
    "            margin: 0px;\n",
    "                padding: 10px 0px 20px 0px;\n",
    "            text-align: center; \n",
    "                \">\n",
    "    <h1>Week 6 - Class 2 - 10/20</h1>\n",
    "</div>\n",
    "\n",
    "## Objectives for this week:\n",
    "* Objects, \n",
    "* Class declarations, Attributes, Methods\n",
    "* Self keywords\n",
    "* Object Inheritance, Generating Object Instances\n",
    "* Dot Notation\n",
    "\n",
    "## Todays Agenda\n",
    "* Homework Presentations\n",
    "* Dot Notation\n",
    "* More on Generating Object, Instances\n",
    "* More on Class attributes and methods\n",
    "* Dunder methods/attributes\n",
    "* Operator Overloading\n",
    "* Intro to inheritance\n"
   ]
  },
  {
   "cell_type": "markdown",
   "metadata": {},
   "source": [
    "# Homework Presentations"
   ]
  },
  {
   "cell_type": "markdown",
   "metadata": {},
   "source": [
    "# Exercise 2\n",
    "\n",
    "Create the decorator function(s) that wraps the `hello` function in the following html tags.\n",
    "\n",
    "hello() -> `<div><p><b>hello</b></p></div>`\n",
    "\n"
   ]
  },
  {
   "cell_type": "code",
   "execution_count": null,
   "metadata": {},
   "outputs": [],
   "source": []
  },
  {
   "cell_type": "markdown",
   "metadata": {},
   "source": [
    "# Dot Notation\n",
    "\n",
    "Dot notation refers to the use of `.` to reference attributes or methods of an object\n",
    "\n",
    "example:\n",
    "```python\n",
    "    s = Example()\n",
    "    s.arg1\n",
    "    s.method1()\n",
    "```\n",
    "\n",
    "The `.` allows us to access attributes of the object.\n",
    "\n",
    "We've been using this since week 1. \n",
    "\n",
    "examples:\n",
    "\n",
    "```python\n",
    "import string\n",
    "    \n",
    "string.ascii_lowercase\n",
    "```\n",
    "\n",
    "or\n",
    "\n",
    "```python\n",
    "s = list()\n",
    "\n",
    "s.append(3)\n",
    "```\n"
   ]
  },
  {
   "cell_type": "code",
   "execution_count": 1,
   "metadata": {},
   "outputs": [
    {
     "data": {
      "image/jpeg": "[encoded data removed]",
      "text/html": [
       "\n",
       "        <iframe\n",
       "            width=\"600\"\n",
       "            height=\"300\"\n",
       "            src=\"https://www.youtube.com/embed/AsafkCAJpJ0\"\n",
       "            frameborder=\"0\"\n",
       "            allowfullscreen\n",
       "        ></iframe>\n",
       "        "
      ],
      "text/plain": [
       "<IPython.lib.display.YouTubeVideo at 0x1db10ef3940>"
      ]
     },
     "execution_count": 1,
     "metadata": {},
     "output_type": "execute_result"
    }
   ],
   "source": [
    "from IPython.lib.display import YouTubeVideo\n",
    "\n",
    "YouTubeVideo('AsafkCAJpJ0', width=600)"
   ]
  },
  {
   "cell_type": "markdown",
   "metadata": {},
   "source": [
    "# Reading for objects\n",
    "\n",
    "https://docs.python.org/3/tutorial/classes.html  \n",
    "\n",
    "https://www.digitalocean.com/community/tutorials/how-to-construct-classes-and-define-objects-in-python-3  \n",
    "\n",
    "https://www.hackerearth.com/practice/python/object-oriented-programming/classes-and-objects-i/tutorial/  \n",
    "\n",
    "https://www.bitdegree.org/learn/python-class  \n",
    "\n",
    "https://dev.to/codemouse92/dead-simple-python-classes-42f7  \n",
    "\n",
    "https://techsparx.com/software-development/python/classes.html  \n",
    "\n",
    "https://opensource.com/article/19/7/get-modular-python-classes  \n",
    "\n",
    "https://medium.com/better-programming/python-how-object-and-class-attributes-work-8edf4ed9caa4  \n",
    "\n",
    "https://dzone.com/articles/python-class-attributes-vs-instance-attributes  "
   ]
  },
  {
   "cell_type": "markdown",
   "metadata": {},
   "source": [
    "# Generating Objects, Instances"
   ]
  },
  {
   "cell_type": "code",
   "execution_count": 2,
   "metadata": {},
   "outputs": [],
   "source": [
    "class Example1:\n",
    "    def __init__(self, arg1, arg2, kwarg1=True):\n",
    "        self.arg1 = arg1\n",
    "        self.arg2 = arg2\n",
    "        self.kwarg1 = kwarg1\n",
    "        \n",
    "    def method1(self):\n",
    "        return \"method1\""
   ]
  },
  {
   "cell_type": "code",
   "execution_count": 3,
   "metadata": {},
   "outputs": [
    {
     "name": "stdout",
     "output_type": "stream",
     "text": [
      "arg1\n",
      "arg2\n",
      "False\n",
      "method1\n"
     ]
    }
   ],
   "source": [
    "s = Example1(\"arg1\", \"arg2\", kwarg1=False)\n",
    "print(s.arg1)\n",
    "print(s.arg2)\n",
    "print(s.kwarg1)\n",
    "print(s.method1())"
   ]
  },
  {
   "cell_type": "markdown",
   "metadata": {},
   "source": [
    "# Using objects"
   ]
  },
  {
   "cell_type": "code",
   "execution_count": 20,
   "metadata": {},
   "outputs": [
    {
     "ename": "TypeError",
     "evalue": "pick_president() takes 1 positional argument but 2 were given",
     "output_type": "error",
     "traceback": [
      "\u001b[1;31m---------------------------------------------------------------------------\u001b[0m",
      "\u001b[1;31mTypeError\u001b[0m                                 Traceback (most recent call last)",
      "\u001b[1;32m<ipython-input-20-32f5ed6321b8>\u001b[0m in \u001b[0;36m<module>\u001b[1;34m\u001b[0m\n\u001b[0;32m     20\u001b[0m         \u001b[0mprint\u001b[0m\u001b[1;33m(\u001b[0m\u001b[1;36m2020\u001b[0m\u001b[1;33m)\u001b[0m\u001b[1;33m\u001b[0m\u001b[1;33m\u001b[0m\u001b[0m\n\u001b[0;32m     21\u001b[0m \u001b[0mmy_ballot\u001b[0m \u001b[1;33m=\u001b[0m \u001b[0mBallot\u001b[0m\u001b[1;33m(\u001b[0m\u001b[1;33m)\u001b[0m\u001b[1;33m\u001b[0m\u001b[1;33m\u001b[0m\u001b[0m\n\u001b[1;32m---> 22\u001b[1;33m \u001b[0mmy_ballot\u001b[0m\u001b[1;33m.\u001b[0m\u001b[0mpick_president\u001b[0m\u001b[1;33m(\u001b[0m\u001b[1;34m\"my dog\"\u001b[0m\u001b[1;33m)\u001b[0m\u001b[1;33m\u001b[0m\u001b[1;33m\u001b[0m\u001b[0m\n\u001b[0m\u001b[0;32m     23\u001b[0m \u001b[0mmy_ballot\u001b[0m\u001b[1;33m.\u001b[0m\u001b[0mdisplay_choices\u001b[0m\u001b[1;33m(\u001b[0m\u001b[0mmy_ballot\u001b[0m\u001b[1;33m.\u001b[0m\u001b[0mpresidential_choices\u001b[0m\u001b[1;33m)\u001b[0m\u001b[1;33m\u001b[0m\u001b[1;33m\u001b[0m\u001b[0m\n",
      "\u001b[1;31mTypeError\u001b[0m: pick_president() takes 1 positional argument but 2 were given"
     ]
    }
   ],
   "source": [
    "class Ballot:\n",
    "    presidential_choices = {\n",
    "        'A': 'Donald Trump',\n",
    "        'B': 'Joe Biden'\n",
    "    }\n",
    "    def __init__(self, president=None, governor=None,\n",
    "                 senator=None, congressperson=None):\n",
    "        self.president = president\n",
    "        self.governor = governor\n",
    "        self.senator = senator\n",
    "        self.congressperson = congressperson\n",
    "    def pick_president(self):\n",
    "        display_choices(presidential_choices)\n",
    "    def display_choices(self, choices):\n",
    "        for k,v in choices.items():\n",
    "            print(f\"{k}: {v}\")\n",
    "        choice = input(\"Choose A or B\")\n",
    "    @staticmethod\n",
    "    def print_year():\n",
    "        print(2020)\n",
    "        \n",
    "my_ballot = Ballot()\n",
    "my_ballot.pick_president(\"my dog\")\n",
    "my_ballot.display_choices(my_ballot.presidential_choices)"
   ]
  },
  {
   "cell_type": "markdown",
   "metadata": {},
   "source": [
    "# `getattr()`\n",
    "\n",
    "`getattr(object, name[, default])` -> `value`\n",
    "\n",
    "Get a named attribute from an object \n",
    "\n",
    "`getattr(x, 'y')` is equivalent to `x.y` \n",
    "\n",
    "When a default argument is given, it is returned when the attribute doesn't exist; without it, an exception is raised in that case."
   ]
  },
  {
   "cell_type": "code",
   "execution_count": 21,
   "metadata": {},
   "outputs": [
    {
     "name": "stdout",
     "output_type": "stream",
     "text": [
      "war and peace\n",
      "war and peace\n"
     ]
    },
    {
     "data": {
      "text/plain": [
       "True"
      ]
     },
     "execution_count": 21,
     "metadata": {},
     "output_type": "execute_result"
    }
   ],
   "source": [
    "class Book:\n",
    "    title = \"war and peace\"\n",
    "\n",
    "book = Book()\n",
    "\n",
    "print(getattr(book, \"title\"))\n",
    "print(book.title)\n",
    "getattr(book, 'title') == book.title"
   ]
  },
  {
   "cell_type": "code",
   "execution_count": 1,
   "metadata": {},
   "outputs": [],
   "source": [
    "list_of_attrs = [\"title\", \"author\"]\n"
   ]
  },
  {
   "cell_type": "markdown",
   "metadata": {},
   "source": [
    "# `setattr()`\n",
    "\n",
    "Sets the named attribute on the given object to the specified value.\n",
    "\n",
    "The `setattr()` function takes three parameters:\n",
    "* object - object whose attribute is to be set\n",
    "* name - attribute name\n",
    "* value - value given to the attribute\n",
    "\n",
    "\n",
    "`setattr(x, 'y', v)` is equivalent to `x.y = v`"
   ]
  },
  {
   "cell_type": "code",
   "execution_count": 22,
   "metadata": {},
   "outputs": [
    {
     "name": "stdout",
     "output_type": "stream",
     "text": [
      "war and peace\n",
      "war and peace\n"
     ]
    }
   ],
   "source": [
    "class Book:\n",
    "    title = None\n",
    "\n",
    "book_1 = Book()\n",
    "\n",
    "setattr(book_1,\"title\", \"war and peace\")\n",
    "\n",
    "print(book_1.title)\n",
    "print(getattr(book_1, 'title'))"
   ]
  },
  {
   "cell_type": "markdown",
   "metadata": {},
   "source": [
    "# \"Dunder\" Methods/Attributes"
   ]
  },
  {
   "cell_type": "markdown",
   "metadata": {},
   "source": [
    "## `__dict__`\n",
    "\n",
    "This attribute contains a dictionary of the class/object attributes"
   ]
  },
  {
   "cell_type": "code",
   "execution_count": 24,
   "metadata": {},
   "outputs": [
    {
     "name": "stdout",
     "output_type": "stream",
     "text": [
      "{'__module__': '__main__', 'attribute1': 'attribute1 value', '__init__': <function DictExample.__init__ at 0x000001DB13CB9F70>, 'classmethod1': <function DictExample.classmethod1 at 0x000001DB13CB9DC0>, '__dict__': <attribute '__dict__' of 'DictExample' objects>, '__weakref__': <attribute '__weakref__' of 'DictExample' objects>, '__doc__': None}\n"
     ]
    },
    {
     "data": {
      "text/plain": [
       "{'attribute1': 'attr', 'new_attribute': False}"
      ]
     },
     "execution_count": 24,
     "metadata": {},
     "output_type": "execute_result"
    }
   ],
   "source": [
    "class DictExample:\n",
    "    attribute1 = \"attribute1 value\"\n",
    "    \n",
    "    def __init__(self, attr):\n",
    "        self.attribute1 = attr\n",
    "        \n",
    "    def classmethod1(self):\n",
    "        return \"classmethod1 value\"\n",
    "    \n",
    "print(DictExample.__dict__)\n",
    "\n",
    "d = DictExample('attr')\n",
    "d.new_attribute = False\n",
    "d.__dict__"
   ]
  },
  {
   "cell_type": "markdown",
   "metadata": {},
   "source": [
    "## `__getattr__` \n",
    "\n",
    "This method will control how python accesses attributes of your object/class"
   ]
  },
  {
   "cell_type": "code",
   "execution_count": 25,
   "metadata": {},
   "outputs": [
    {
     "name": "stdout",
     "output_type": "stream",
     "text": [
      "war and peace\n",
      "Leo Tolstoy\n"
     ]
    },
    {
     "ename": "AttributeError",
     "evalue": "'Book' object has no attribute 'year'",
     "output_type": "error",
     "traceback": [
      "\u001b[1;31m---------------------------------------------------------------------------\u001b[0m",
      "\u001b[1;31mAttributeError\u001b[0m                            Traceback (most recent call last)",
      "\u001b[1;32m<ipython-input-25-aa9ccbe6d233>\u001b[0m in \u001b[0;36m<module>\u001b[1;34m\u001b[0m\n\u001b[0;32m      8\u001b[0m \u001b[0mprint\u001b[0m\u001b[1;33m(\u001b[0m\u001b[0mbook\u001b[0m\u001b[1;33m.\u001b[0m\u001b[0mtitle\u001b[0m\u001b[1;33m)\u001b[0m\u001b[1;33m\u001b[0m\u001b[1;33m\u001b[0m\u001b[0m\n\u001b[0;32m      9\u001b[0m \u001b[0mprint\u001b[0m\u001b[1;33m(\u001b[0m\u001b[0mbook\u001b[0m\u001b[1;33m.\u001b[0m\u001b[0mauthor\u001b[0m\u001b[1;33m)\u001b[0m\u001b[1;33m\u001b[0m\u001b[1;33m\u001b[0m\u001b[0m\n\u001b[1;32m---> 10\u001b[1;33m \u001b[0mprint\u001b[0m\u001b[1;33m(\u001b[0m\u001b[0mbook\u001b[0m\u001b[1;33m.\u001b[0m\u001b[0myear\u001b[0m\u001b[1;33m)\u001b[0m\u001b[1;33m\u001b[0m\u001b[1;33m\u001b[0m\u001b[0m\n\u001b[0m",
      "\u001b[1;31mAttributeError\u001b[0m: 'Book' object has no attribute 'year'"
     ]
    }
   ],
   "source": [
    "class Book:\n",
    "    def __init__(self, title=None, author=None):\n",
    "        self.title = title\n",
    "        self.author = author\n",
    "        \n",
    "book = Book('war and peace', author = 'Leo Tolstoy')\n",
    "\n",
    "print(book.title)\n",
    "print(book.author)\n",
    "print(book.year)"
   ]
  },
  {
   "cell_type": "code",
   "execution_count": 26,
   "metadata": {},
   "outputs": [
    {
     "name": "stdout",
     "output_type": "stream",
     "text": [
      "war and peace\n",
      "Leo Tolstoy\n",
      "None\n"
     ]
    }
   ],
   "source": [
    "class Book:\n",
    "    def __init__(self, title=None, author=None):\n",
    "        self.title = title\n",
    "        self.author = author\n",
    "    \n",
    "    def __getattr__(self, attr):\n",
    "        if attr not in self.__dict__:\n",
    "            #self.__dict__[attr] = None \n",
    "            #self.attr = None\n",
    "            setattr(self, attr, None)   \n",
    "        else:\n",
    "            return getattr(self, attr)\n",
    "        \n",
    "book = Book('war and peace', author = 'Leo Tolstoy')\n",
    "\n",
    "print(book.title)\n",
    "print(book.author)\n",
    "print(book.year)"
   ]
  },
  {
   "cell_type": "markdown",
   "metadata": {},
   "source": [
    "## `__setattr__`  \n",
    "\n",
    "This method will control how your object sets attributes."
   ]
  },
  {
   "cell_type": "code",
   "execution_count": 27,
   "metadata": {},
   "outputs": [
    {
     "name": "stdout",
     "output_type": "stream",
     "text": [
      "war and peace\n",
      "Leo Tolstoy\n"
     ]
    }
   ],
   "source": [
    "class Book:\n",
    "    def __init__(self, title=None, author=None):\n",
    "        self.title = title\n",
    "        self.author = author\n",
    "        \n",
    "book = Book('war and peace', author = 'Leo Tolstoy')\n",
    "\n",
    "print(book.title)\n",
    "print(book.author)"
   ]
  },
  {
   "cell_type": "code",
   "execution_count": 28,
   "metadata": {},
   "outputs": [
    {
     "name": "stdout",
     "output_type": "stream",
     "text": [
      "War And Peace\n",
      "None\n"
     ]
    }
   ],
   "source": [
    "class Book:\n",
    "    def __init__(self, title=None, author=None):\n",
    "        self.title = title\n",
    "        self.author = author\n",
    "    \n",
    "    def __setattr__(self, attr, value):\n",
    "        if type(value) == str:\n",
    "            #self.attr = value.title()\n",
    "            #setattr(self, attr, value)\n",
    "            self.__dict__[attr] = value.title()\n",
    "        else:\n",
    "            self.__dict__[attr] = None\n",
    "        \n",
    "book = Book('war and peace', author = 3)\n",
    "\n",
    "print(book.title)\n",
    "print(book.author)"
   ]
  },
  {
   "cell_type": "markdown",
   "metadata": {},
   "source": [
    "## `__getitem__`  \n",
    "\n",
    "This method will control how you can access attributes using subscription.  \n",
    "\n",
    "`cls['key']`"
   ]
  },
  {
   "cell_type": "code",
   "execution_count": 33,
   "metadata": {},
   "outputs": [
    {
     "ename": "TypeError",
     "evalue": "'Book' object is not subscriptable",
     "output_type": "error",
     "traceback": [
      "\u001b[1;31m---------------------------------------------------------------------------\u001b[0m",
      "\u001b[1;31mTypeError\u001b[0m                                 Traceback (most recent call last)",
      "\u001b[1;32m<ipython-input-33-da50a0b15cc0>\u001b[0m in \u001b[0;36m<module>\u001b[1;34m\u001b[0m\n\u001b[0;32m      6\u001b[0m \u001b[0mbook\u001b[0m \u001b[1;33m=\u001b[0m \u001b[0mBook\u001b[0m\u001b[1;33m(\u001b[0m\u001b[1;34m'war and peace'\u001b[0m\u001b[1;33m,\u001b[0m \u001b[0mauthor\u001b[0m\u001b[1;33m=\u001b[0m\u001b[1;34m'leo tolstoy'\u001b[0m\u001b[1;33m)\u001b[0m\u001b[1;33m\u001b[0m\u001b[1;33m\u001b[0m\u001b[0m\n\u001b[0;32m      7\u001b[0m \u001b[1;33m\u001b[0m\u001b[0m\n\u001b[1;32m----> 8\u001b[1;33m \u001b[0mbook\u001b[0m\u001b[1;33m[\u001b[0m\u001b[1;34m'title'\u001b[0m\u001b[1;33m]\u001b[0m\u001b[1;33m\u001b[0m\u001b[1;33m\u001b[0m\u001b[0m\n\u001b[0m",
      "\u001b[1;31mTypeError\u001b[0m: 'Book' object is not subscriptable"
     ]
    }
   ],
   "source": [
    "class Book:\n",
    "    def __init__(self, title=None,author=None):\n",
    "        self.title = title\n",
    "        self.author = author\n",
    "    \n",
    "book = Book('war and peace', author='leo tolstoy')\n",
    "\n",
    "book['title']"
   ]
  },
  {
   "cell_type": "code",
   "execution_count": 37,
   "metadata": {},
   "outputs": [
    {
     "data": {
      "text/plain": [
       "2020"
      ]
     },
     "execution_count": 37,
     "metadata": {},
     "output_type": "execute_result"
    }
   ],
   "source": [
    "# make it subscriptable by using __getitem__\n",
    "\n",
    "class Book:\n",
    "    def __init__(self, title=None,author=None):\n",
    "        self.title = title\n",
    "        self.author = author\n",
    "    \n",
    "    def __getitem__(self, attr):\n",
    "        return getattr(self,attr)\n",
    "    \n",
    "book = Book('war and peace', author='leo tolstoy')\n",
    "book.year = 2020\n",
    "book['year']\n",
    "#book['title']"
   ]
  },
  {
   "cell_type": "markdown",
   "metadata": {},
   "source": [
    "## `__setitem__`  \n",
    "\n",
    "This method will control how you can set attributes using item assignment.  \n",
    "\n",
    "e.g. `cls['key'] = 'value'`"
   ]
  },
  {
   "cell_type": "code",
   "execution_count": null,
   "metadata": {},
   "outputs": [],
   "source": [
    "class Book:\n",
    "    def __init__(self, title=None,author=None):\n",
    "        self.title = title\n",
    "        self.author = author\n",
    "    \n",
    "book = Book('war and peace', author='leo tolstoy')\n",
    "\n",
    "book['title'] = 'new book'"
   ]
  },
  {
   "cell_type": "code",
   "execution_count": 38,
   "metadata": {},
   "outputs": [
    {
     "data": {
      "text/plain": [
       "'new book'"
      ]
     },
     "execution_count": 38,
     "metadata": {},
     "output_type": "execute_result"
    }
   ],
   "source": [
    "class Book:\n",
    "    def __init__(self, title=None,author=None):\n",
    "        self.title = title\n",
    "        self.author = author\n",
    "        \n",
    "    def __getitem__(self, key):\n",
    "        return getattr(self,key)\n",
    "    \n",
    "    def __setitem__(self, key, value):\n",
    "        return setattr(self,key, value)\n",
    "    \n",
    "    \n",
    "book = Book('war and peace', author='leo tolstoy')\n",
    "\n",
    "book['title'] = 'new book' #overriding both methods\n",
    "book['title']"
   ]
  },
  {
   "cell_type": "markdown",
   "metadata": {},
   "source": [
    "## `__repr__`  \n",
    "\n",
    "This method controls how your class is presented (like when outputted)"
   ]
  },
  {
   "cell_type": "code",
   "execution_count": 39,
   "metadata": {},
   "outputs": [
    {
     "data": {
      "text/plain": [
       "<__main__.Book at 0x1db131c73d0>"
      ]
     },
     "execution_count": 39,
     "metadata": {},
     "output_type": "execute_result"
    }
   ],
   "source": [
    "#not overriding the dunder method\n",
    "class Book:\n",
    "    def __init__(self, title=None,author=None):\n",
    "        self.title = title\n",
    "        self.author = author\n",
    "    \n",
    "book = Book('war and peace', author='leo tolstoy')\n",
    "\n",
    "book"
   ]
  },
  {
   "cell_type": "code",
   "execution_count": 40,
   "metadata": {},
   "outputs": [
    {
     "data": {
      "text/plain": [
       "Book Class - title: war and peace, author: leo tolstoy"
      ]
     },
     "execution_count": 40,
     "metadata": {},
     "output_type": "execute_result"
    }
   ],
   "source": [
    "class Book:\n",
    "    def __init__(self, title=None,author=None):\n",
    "        self.title = title\n",
    "        self.author = author\n",
    "        \n",
    "    def __repr__(self):   #overriding the dunder method\n",
    "        return f\"Book Class - title: {self.title}, author: {self.author}\"\n",
    "    \n",
    "    \n",
    "    \n",
    "book = Book('war and peace', author='leo tolstoy')\n",
    "\n",
    "book"
   ]
  },
  {
   "cell_type": "markdown",
   "metadata": {},
   "source": [
    "## `__str__`  \n",
    "\n",
    "This method controls how your method is turned into a str (like if printed)."
   ]
  },
  {
   "cell_type": "code",
   "execution_count": 41,
   "metadata": {},
   "outputs": [
    {
     "name": "stdout",
     "output_type": "stream",
     "text": [
      "<__main__.Book object at 0x000001DB13263AC0>\n"
     ]
    }
   ],
   "source": [
    "#not overriding\n",
    "class Book:\n",
    "    def __init__(self, title=None,author=None):\n",
    "        self.title = title\n",
    "        self.author = author\n",
    "    \n",
    "book = Book('war and peace', author='leo tolstoy')\n",
    "\n",
    "print(book)"
   ]
  },
  {
   "cell_type": "code",
   "execution_count": 42,
   "metadata": {},
   "outputs": [
    {
     "name": "stdout",
     "output_type": "stream",
     "text": [
      "book: 'war and peace' by author leo tolstoy\n"
     ]
    }
   ],
   "source": [
    "class Book:\n",
    "    def __init__(self, title=None,author=None):\n",
    "        self.title = title\n",
    "        self.author = author\n",
    "    \n",
    "    def __str__(self):  #overriding the init dunder\n",
    "        return f\"book: '{self.title}' by author {self.author}\"\n",
    "    \n",
    "    \n",
    "book = Book('war and peace', author='leo tolstoy')\n",
    "\n",
    "print(book)"
   ]
  },
  {
   "cell_type": "code",
   "execution_count": 43,
   "metadata": {},
   "outputs": [
    {
     "name": "stdout",
     "output_type": "stream",
     "text": [
      "book: 'war and peace' by author leo tolstoy\n"
     ]
    },
    {
     "data": {
      "text/plain": [
       "Book Class - title: war and peace, author: leo tolstoy"
      ]
     },
     "execution_count": 43,
     "metadata": {},
     "output_type": "execute_result"
    }
   ],
   "source": [
    "class Book:\n",
    "    def __init__(self, title=None,author=None):\n",
    "        self.title = title\n",
    "        self.author = author\n",
    "    \n",
    "    def __str__(self):  #for printing\n",
    "        return f\"book: '{self.title}' by author {self.author}\"\n",
    "    \n",
    "    def __repr__(self):  #for just outputting\n",
    "        return f\"Book Class - title: {self.title}, author: {self.author}\"\n",
    "\n",
    "book = Book('war and peace', author='leo tolstoy')\n",
    "\n",
    "print(book)\n",
    "book "
   ]
  },
  {
   "cell_type": "markdown",
   "metadata": {},
   "source": [
    "## Putting it all together"
   ]
  },
  {
   "cell_type": "code",
   "execution_count": 46,
   "metadata": {},
   "outputs": [
    {
     "data": {
      "text/plain": [
       "'War And Peace'"
      ]
     },
     "execution_count": 46,
     "metadata": {},
     "output_type": "execute_result"
    }
   ],
   "source": [
    "import datetime\n",
    "\n",
    "class Book:\n",
    "    def __init__(self, title=None,author=None, \n",
    "     time_entered = datetime.datetime.now()):\n",
    "        self.title = title\n",
    "        self.author = author\n",
    "        self.time_entered = time_entered\n",
    "    \n",
    "    def __repr__(self):\n",
    "        return f\"{self.title} - {self.author}\"\n",
    "    \n",
    "    def __str__(self):\n",
    "        return f\"Book-{self}\"\n",
    "    \n",
    "    def __setattr__(self, attr, value):\n",
    "        if type(value) == str:\n",
    "            #self.attr = value.capitalize()\n",
    "            #setattr(self, attr, value)\n",
    "            self.__dict__[attr] = value.title()\n",
    "        else:\n",
    "            self.__dict__[attr] = None\n",
    "    \n",
    "    def __getattr__(self, attr):\n",
    "        if attr not in self.__dict__:\n",
    "            #self.__dict__[attr] = None \n",
    "            #self.attr = None\n",
    "            setattr(self, attr, None)   \n",
    "        else:\n",
    "            return getattr(self, attr)\n",
    "    \n",
    "    def __getitem__(self, key):\n",
    "        return getattr(self,key)\n",
    "    \n",
    "    def __setitem__(self,key, value):\n",
    "        return setattr(self,key,value)\n",
    "    \n",
    "catalog = {\n",
    "    'war and peace': 'leo tolstoy', \n",
    "    '1984': 'george orwell', \n",
    "    'brave new world': 'aldous huxley', \n",
    "    'catch-22': 'joseph heller'\n",
    "}\n",
    "\n",
    "books = [Book(title, author) for title, author in catalog.items()]\n",
    "\n",
    "#books[0]['author'] #access the outhor like a dict\n",
    "\n",
    "books[0]['title'] "
   ]
  },
  {
   "cell_type": "code",
   "execution_count": 47,
   "metadata": {},
   "outputs": [
    {
     "data": {
      "text/plain": [
       "'Goodbye'"
      ]
     },
     "execution_count": 47,
     "metadata": {},
     "output_type": "execute_result"
    }
   ],
   "source": [
    "class Example():\n",
    "    def method(self):\n",
    "        return \"Hello\"\n",
    "    def method(self):\n",
    "        return \"Goodbye\"\n",
    "    \n",
    "e = Example()\n",
    "\n",
    "e.method()"
   ]
  },
  {
   "cell_type": "markdown",
   "metadata": {},
   "source": [
    "# Operator Overloading\n",
    "\n",
    "Certain operators like `==`, `+`, `-`, `*` can be overloaded to be used with user-defined datatypes like classes as well as built-in type like integers\n",
    "\n",
    "`==`  `__eq__`  \n",
    "`-` `__sub__`  \n",
    "`*` `__mul__`  \n",
    "`/` `__truediv__`  \n",
    "`//` `__floordiv__`  \n",
    "`%` `__mod__`  \n",
    "`**` `__pow__`  \n",
    "`<`  `__lt__`   \n",
    "`>`  `__gt__`  \n",
    "`<=` `__le__`  \n",
    "`>=` `__ge__`  \n",
    "`!=` `__ne__`"
   ]
  },
  {
   "cell_type": "markdown",
   "metadata": {},
   "source": [
    "# Point example"
   ]
  },
  {
   "cell_type": "code",
   "execution_count": 50,
   "metadata": {},
   "outputs": [
    {
     "data": {
      "text/plain": [
       "True"
      ]
     },
     "execution_count": 50,
     "metadata": {},
     "output_type": "execute_result"
    }
   ],
   "source": [
    "class Floor:\n",
    "    def __init__(self, x=0, y=0):\n",
    "        self.x = x\n",
    "        self.y = y\n",
    "    \n",
    "    #def __eq__(self, other):\n",
    "     #   return self.x == other.x and self.y == other.y\n",
    "    \n",
    "p = Point(2,4)\n",
    "q = Point(2,4)\n",
    "\n",
    "p == q"
   ]
  },
  {
   "cell_type": "markdown",
   "metadata": {},
   "source": [
    "#### How do we implement others? (code along)"
   ]
  },
  {
   "cell_type": "code",
   "execution_count": 48,
   "metadata": {},
   "outputs": [
    {
     "data": {
      "text/plain": [
       "True"
      ]
     },
     "execution_count": 48,
     "metadata": {},
     "output_type": "execute_result"
    }
   ],
   "source": [
    "class Point:\n",
    "    def __init__(self, x=0, y=0):\n",
    "        self.x = x\n",
    "        self.y = y\n",
    "    \n",
    "    def __eq__(self, other):\n",
    "        return self.x == other.x and self.y == other.y\n",
    "    \n",
    "p = Point(2,4)\n",
    "q = Point(2,4)\n",
    "\n",
    "p == q"
   ]
  },
  {
   "cell_type": "code",
   "execution_count": 49,
   "metadata": {},
   "outputs": [
    {
     "data": {
      "text/plain": [
       "True"
      ]
     },
     "execution_count": 49,
     "metadata": {},
     "output_type": "execute_result"
    }
   ],
   "source": [
    "class Point:\n",
    "    def __init__(self, x=0, y=0):\n",
    "        self.x = x\n",
    "        self.y = y\n",
    "    \n",
    "    def __eq__(self, other):\n",
    "        return self.x == other.x and self.y == other.y\n",
    "    \n",
    "p = Point(2,4)\n",
    "q = Point(2,4)\n",
    "\n",
    "p == q"
   ]
  },
  {
   "cell_type": "markdown",
   "metadata": {},
   "source": [
    "# Introduction to inheritance\n",
    "\n",
    "Object inheritance is when you want to create an object that's based off of the structure of another class or you want to create an object that others are based off of.\n",
    "\n",
    "The format for inherited classes are such:\n",
    "```python\n",
    "    class BaseClass:\n",
    "        pass\n",
    "    \n",
    "    class AlternateBaseClass\n",
    "        pass\n",
    "    \n",
    "    class DerivedClass(BaseClass, AlternateBaseclass)\n",
    "        pass\n",
    "```"
   ]
  },
  {
   "cell_type": "code",
   "execution_count": null,
   "metadata": {},
   "outputs": [],
   "source": [
    "class Animal:\n",
    "    def __init__(self, name, type_of_animal=None, sound=None):\n",
    "        self.name = name\n",
    "        self.type = type_of_animal\n",
    "        self.sound = sound\n",
    "        \n",
    "    def make_sound(self):\n",
    "        print(f\"a {self.type} {self.sound}\")\n",
    "    \n",
    "cat = Animal('matilda', 'cat', 'meows')\n",
    "dog = Animal('clifford', 'dog', 'barks')\n",
    "cow = Animal('spot', 'cow', 'moos')\n",
    "cat.make_sound()\n",
    "dog.make_sound()\n",
    "cow.make_sound()\n",
    "        "
   ]
  },
  {
   "cell_type": "code",
   "execution_count": null,
   "metadata": {},
   "outputs": [],
   "source": [
    "class Cat(Animal):\n",
    "    def __init__(self, name):\n",
    "        Animal.__init__(self, name, type_of_animal='cat', sound='meows')\n",
    "        \n",
    "matilda = Cat('matilda')\n",
    "\n",
    "matilda.make_sound()"
   ]
  },
  {
   "cell_type": "code",
   "execution_count": null,
   "metadata": {},
   "outputs": [],
   "source": []
  }
 ],
 "metadata": {
  "kernelspec": {
   "display_name": "Python 3",
   "language": "python",
   "name": "python3"
  },
  "language_info": {
   "codemirror_mode": {
    "name": "ipython",
    "version": 3
   },
   "file_extension": ".py",
   "mimetype": "text/x-python",
   "name": "python",
   "nbconvert_exporter": "python",
   "pygments_lexer": "ipython3",
   "version": "3.8.3"
  }
 },
 "nbformat": 4,
 "nbformat_minor": 4
}
