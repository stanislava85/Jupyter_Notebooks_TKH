{
 "cells": [
  {
   "cell_type": "markdown",
   "metadata": {},
   "source": [
    "<div style=\"background: #000;\n",
    "            color: #FFF;\n",
    "            margin: 0px;\n",
    "                padding: 10px 0px 20px 0px;\n",
    "            text-align: center; \n",
    "                \">\n",
    "    <h1>Week 6 - Class 1 - Lab</h1>\n",
    "</div>\n"
   ]
  },
  {
   "cell_type": "markdown",
   "metadata": {},
   "source": [
    "# Question 1\n",
    "\n",
    "What is a class? What is an object? What is the difference? How can we use objects in python?"
   ]
  },
  {
   "cell_type": "raw",
   "metadata": {},
   "source": [
    "Creating a new class creates a new type of object, allowing new instances of that type to be made."
   ]
  },
  {
   "cell_type": "markdown",
   "metadata": {},
   "source": [
    "# Execise 1\n",
    "\n",
    "Create a class. Show that the class can be used to create an object."
   ]
  },
  {
   "cell_type": "code",
   "execution_count": 2,
   "metadata": {},
   "outputs": [
    {
     "data": {
      "text/plain": [
       "'hi'"
      ]
     },
     "execution_count": 2,
     "metadata": {},
     "output_type": "execute_result"
    }
   ],
   "source": [
    "class Class:\n",
    "    obj = \"hi\"\n",
    "    \n",
    "    def f(self):\n",
    "        return self.obj\n",
    "    \n",
    "ins = Class()\n",
    "ins.obj"
   ]
  },
  {
   "cell_type": "markdown",
   "metadata": {},
   "source": [
    "# Exercise 2\n",
    "\n",
    "Create a class including an `__init__` function that initializes some sort of state when objects are created. Demonstrate that the state is initialized."
   ]
  },
  {
   "cell_type": "code",
   "execution_count": 17,
   "metadata": {},
   "outputs": [
    {
     "name": "stdout",
     "output_type": "stream",
     "text": [
      "Karren\n",
      "JONES\n"
     ]
    }
   ],
   "source": [
    "class People:\n",
    "    def __init__(self, first, last):\n",
    "        self.first = first.capitalize()\n",
    "        self.last = last.upper()\n",
    "    def print_names(self):\n",
    "        print(self.first)\n",
    "        print(self.last)\n",
    "        \n",
    "people_list = People(\"karren\", \"jones\")\n",
    "people_list.print_names()"
   ]
  },
  {
   "cell_type": "markdown",
   "metadata": {},
   "source": [
    "# Exercise 3\n",
    "\n",
    "Building on our point example, add code to alter the class to store three values `x`, `y`, and `z`. Bonus if you're able to implement the distance method for this new class."
   ]
  },
  {
   "cell_type": "code",
   "execution_count": 44,
   "metadata": {},
   "outputs": [
    {
     "name": "stdout",
     "output_type": "stream",
     "text": [
      "x : 2, y: 3, z: 4\n"
     ]
    },
    {
     "data": {
      "text/plain": [
       "7.0710678118654755"
      ]
     },
     "execution_count": 44,
     "metadata": {},
     "output_type": "execute_result"
    }
   ],
   "source": [
    "#whaaaaaatttt\n",
    "\n",
    "class Point:\n",
    "    def __init__(self, x, y, z):\n",
    "        self.x = x\n",
    "        self.y = y\n",
    "        self.z = z\n",
    "        \n",
    "    def print(self):\n",
    "        print(f\"x : {self.x}, y: {self.y}, z: {self.z}\")\n",
    "        \n",
    "\n",
    "    def calculate_distance(self, other_point):\n",
    "        if isinstance(other_point, Point):\n",
    "            return ((other_point.x - self.x)**2 + (other_point.y - self.y)**2 + (other_point.z - self.z)**2)**0.5\n",
    "        else:\n",
    "            print(\"other_point is not a point\")\n",
    "    \n",
    "p = Point(2, 3, 4)\n",
    "q = Point(5, 7, 9)\n",
    "\n",
    "\n",
    "p.print()\n",
    "\n",
    "p.calculate_distance(q)"
   ]
  },
  {
   "cell_type": "markdown",
   "metadata": {},
   "source": [
    "# Exercise 4\n",
    "\n",
    "Create an example of a class that uses either `@staticmethod` or `@classmethod`"
   ]
  },
  {
   "cell_type": "code",
   "execution_count": 3,
   "metadata": {},
   "outputs": [
    {
     "name": "stdout",
     "output_type": "stream",
     "text": [
      "Enter a name \n",
      "joe\n",
      "The correct spelling is:  Joe\n"
     ]
    }
   ],
   "source": [
    "class Name:\n",
    "    @staticmethod\n",
    "    def capital(word):\n",
    "        return word.capitalize()\n",
    "    \n",
    "print(\"Enter a name \")\n",
    "x = input()\n",
    "print(\"The correct spelling is: \", Name.capital(x))"
   ]
  },
  {
   "cell_type": "markdown",
   "metadata": {},
   "source": [
    "# Exercise 5\n",
    "\n",
    "Create an object called `Student` with attributes that store the `first_name`, `last_name`, and `age` of the student. Also create an attribute `hw_grades` that stores hw grades depending on how you think it might be stored. Create methods that prints the full name of the student, adds grades to the attribute`hw_grades` and even calculates the average hw grade. Use additional attributes and methods if needed.\n",
    "\n",
    "Demonstrate that your code works by creating an instance of the class and storing the requisite information."
   ]
  },
  {
   "cell_type": "code",
   "execution_count": 98,
   "metadata": {},
   "outputs": [
    {
     "name": "stdout",
     "output_type": "stream",
     "text": [
      "Matilda Jones\n",
      "[100, 100, 90, 90, 85]\n"
     ]
    },
    {
     "data": {
      "text/plain": [
       "93.0"
      ]
     },
     "execution_count": 98,
     "metadata": {},
     "output_type": "execute_result"
    }
   ],
   "source": [
    "class Student:\n",
    "    def __init__(self, first_name, last_name, age, hw_grades):\n",
    "        self.first_name = first_name\n",
    "        self.last_name = last_name\n",
    "        self.age = age\n",
    "        self.hw_grades = hw_grades\n",
    "        self.new_list = new_list\n",
    "    \n",
    "    def print_name(self):\n",
    "        return f\"{self.first_name} {self.last_name}\"\n",
    "    \n",
    "        \n",
    "    def average_gr(self):\n",
    "        return sum(self.new_list) / len(new_list)\n",
    "        \n",
    "    \n",
    "        \n",
    "student = Student('Matilda', 'Jones', 21, [100, 100])\n",
    "print(student.print_name())\n",
    "\n",
    "student.new_grades = [90, 90, 85]\n",
    "new_list = student.hw_grades + student.new_grades\n",
    "print(new_list)\n",
    "student.average_gr()\n"
   ]
  },
  {
   "cell_type": "code",
   "execution_count": null,
   "metadata": {},
   "outputs": [],
   "source": []
  },
  {
   "cell_type": "code",
   "execution_count": null,
   "metadata": {},
   "outputs": [],
   "source": []
  }
 ],
 "metadata": {
  "kernelspec": {
   "display_name": "Python 3",
   "language": "python",
   "name": "python3"
  },
  "language_info": {
   "codemirror_mode": {
    "name": "ipython",
    "version": 3
   },
   "file_extension": ".py",
   "mimetype": "text/x-python",
   "name": "python",
   "nbconvert_exporter": "python",
   "pygments_lexer": "ipython3",
   "version": "3.8.3"
  }
 },
 "nbformat": 4,
 "nbformat_minor": 4
}
