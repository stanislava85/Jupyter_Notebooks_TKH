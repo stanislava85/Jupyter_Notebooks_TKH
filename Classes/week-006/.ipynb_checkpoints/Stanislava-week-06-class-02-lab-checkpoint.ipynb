{
 "cells": [
  {
   "cell_type": "markdown",
   "metadata": {},
   "source": [
    "<div style=\"background: #000;\n",
    "            color: #FFF;\n",
    "            margin: 0px;\n",
    "                padding: 10px 0px 20px 0px;\n",
    "            text-align: center; \n",
    "                \">\n",
    "    <h1>Week 6 - Class 2 - Lab</h1>\n",
    "</div>\n"
   ]
  },
  {
   "cell_type": "markdown",
   "metadata": {},
   "source": [
    "## Question 1:\n",
    "    \n",
    "Explain one of the dunder methods describing what it does, how it works and why we might need to use it."
   ]
  },
  {
   "cell_type": "raw",
   "metadata": {},
   "source": [
    "__str__\n",
    "It is used for object representation.\n",
    "It is the nicely printable string representation of an object. This is for the enduser, makes the print out appealing."
   ]
  },
  {
   "cell_type": "markdown",
   "metadata": {},
   "source": [
    "## Exercise 1:\n",
    "\n",
    "Create a class called `Employee`, add in attributes and methods you think would be associated with an employee. Use at least 2 attributes and 2 methods (not including the `__init__` method you'll create as well)."
   ]
  },
  {
   "cell_type": "code",
   "execution_count": 2,
   "metadata": {},
   "outputs": [
    {
     "name": "stdout",
     "output_type": "stream",
     "text": [
      "None\n",
      "Doe\n"
     ]
    }
   ],
   "source": [
    "class Employee:\n",
    "    \n",
    "    def __init__(self, first_name=None, last_name=None):\n",
    "        self.first_name = first_name\n",
    "        self.last_name = last_name\n",
    "        \n",
    "    def __getattr__(self, attr):\n",
    "        if attr not in self.__dict__:  \n",
    "            self.__dict__[attr] = None  \n",
    "        else:\n",
    "            return getattr(self, attr)\n",
    "    def __setattr__(self, attr, value):\n",
    "        if type(value) == str:        \n",
    "            self.__dict__[attr] = value.title()\n",
    "        else:\n",
    "            self.__dict__[attr] = None \n",
    "        \n",
    "b = Employee(\"John\", last_name = \"doe\" )\n",
    "print(b.age)\n",
    "print(b.last_name)\n"
   ]
  },
  {
   "cell_type": "markdown",
   "metadata": {},
   "source": [
    "## Exercise 2:\n",
    "\n",
    "Create a class called `Paper` with the `content`, `length`, `width`, `margin`, `print_layout` (landscape or portrait) and `doublesided` (boolean value) as attributes. Provide methods that allow us to change those attributes."
   ]
  },
  {
   "cell_type": "code",
   "execution_count": 1,
   "metadata": {},
   "outputs": [
    {
     "name": "stdout",
     "output_type": "stream",
     "text": [
      "None\n",
      "7\n",
      "portrait\n",
      "landscape\n",
      "False\n",
      "True\n"
     ]
    }
   ],
   "source": [
    "class Paper1:\n",
    "    def __init__(self, content=None, length=None, width=None, margin=None, print_layout=\"portrait\", doublesided=False):\n",
    "        self.content = content\n",
    "        self.length = length\n",
    "        self.width = width\n",
    "        self.margin = margin\n",
    "        self.print_layout = print_layout\n",
    "        self.doublesided = doublesided\n",
    "    \n",
    "    def get_length(self):\n",
    "        return self.length\n",
    "    \n",
    "    def set_length(self, new_length):\n",
    "        if type(new_length) == int:\n",
    "            self.length = new_length\n",
    "            \n",
    "    def get_print_layout(self):\n",
    "        return self.print_layout\n",
    "    \n",
    "    def set_print_layout(self, new_print_layout):\n",
    "        if type(new_print_layout) == str:\n",
    "            self.print_layout = new_print_layout\n",
    "        \n",
    "    def get_doublesided(self):\n",
    "        return self.doublesided\n",
    "    \n",
    "    def set_doublesided(self, new_doublesided):\n",
    "        if type(new_doublesided) == bool:\n",
    "            self.doublesided = new_doublesided\n",
    "            \n",
    "    \n",
    "        \n",
    "\n",
    "x = Paper1() \n",
    "print(x.length)\n",
    "x.set_length(7)\n",
    "print(x.length)\n",
    "print(x.print_layout)\n",
    "x.set_print_layout('landscape')\n",
    "print(x.print_layout)\n",
    "print(x.doublesided)\n",
    "x.set_doublesided(True)\n",
    "print(x.doublesided)"
   ]
  },
  {
   "cell_type": "markdown",
   "metadata": {},
   "source": [
    "## Exercise 3\n",
    "\n",
    "Create a class called `Printer` that implements a queue. You should be able to store `Paper` objects in this queue so provide methods that add instances of `Paper` to the `Printer`'s queue and a toy method that \"prints\" `n` amount of \"jobs\" from the queue at a time. Demonstrate that this code works."
   ]
  },
  {
   "cell_type": "code",
   "execution_count": null,
   "metadata": {},
   "outputs": [],
   "source": []
  },
  {
   "cell_type": "code",
   "execution_count": 15,
   "metadata": {},
   "outputs": [
    {
     "name": "stdout",
     "output_type": "stream",
     "text": [
      "[<__main__.Paper1 object at 0x000001CA28366790>]\n",
      "The paper printout is, content: None, print layout: portrait.\n",
      "[<__main__.Paper1 object at 0x000001CA28366790>, <__main__.Paper1 object at 0x000001CA2969CCD0>]\n",
      "The paper printout is, content: None, print layout: portrait.\n",
      "The paper printout is, content: None, print layout: portrait.\n",
      "The paper printout is, content: None, print layout: portrait.\n"
     ]
    }
   ],
   "source": [
    "class Printer():\n",
    "    def __init__(self, queue = []):  #saving the list of jobs in a queue\n",
    "        self.queue = queue\n",
    "        \n",
    "    def adding_paper(self, paper):  #adding new paper/jobs\n",
    "        self.queue.append(paper)\n",
    "\n",
    "    def print_jobs(self):  #printing jobs\n",
    "        print(f\"The paper printout is, content: {self.queue[0].content}, print layout: {self.queue[0].print_layout}.\")\n",
    "        \n",
    "    def amount_of_jobs(self, n):   #printing n amount of jobs\n",
    "        for i in range(n):\n",
    "            self.print_jobs()\n",
    "        \n",
    "printer = Printer()\n",
    "page_1 = Paper1()\n",
    "page_2 = Paper1()\n",
    "printer.adding_paper(page_1)\n",
    "print(printer.queue)\n",
    "printer.print_jobs()\n",
    "printer.adding_paper(page_2)\n",
    "print(printer.queue)\n",
    "printer.amount_of_jobs(3)"
   ]
  },
  {
   "cell_type": "markdown",
   "metadata": {},
   "source": [
    "## Exercise 4:\n",
    "    \n",
    "Create a class called `Square` that overloads the addition operator by adding the area of two squares. You will need at least an attribute for length, a method for calculating area and the overloaded `+` operator method.\n",
    "\n",
    "e.g. `Square(3) + Square(4) == 25`"
   ]
  },
  {
   "cell_type": "code",
   "execution_count": 51,
   "metadata": {},
   "outputs": [
    {
     "name": "stdout",
     "output_type": "stream",
     "text": [
      "9\n",
      "The sum of the areas of the two squares is 25.\n",
      "25\n"
     ]
    }
   ],
   "source": [
    "class Square:\n",
    "    def __init__(self, side_length):\n",
    "        self.side_length = side_length      \n",
    "    \n",
    "    def calc_area(self):\n",
    "        print(self.side_length * self.side_length)\n",
    "        return self.side_length * self.side_length\n",
    "    \n",
    "    def __add__(self, other):\n",
    "        if isinstance(other, Square):\n",
    "            print(f'The sum of the areas of the two squares is {(self.side_length * self.side_length) + (other.side_length * other.side_length)}.')\n",
    "            return (self.side_length * self.side_length) + (other.side_length * other.side_length)\n",
    "        else:\n",
    "            print(\"other point is not a point\")\n",
    "\n",
    "    \n",
    "square_1 = Square(3)\n",
    "square_2 = Square(4)\n",
    "square_1.calc_area()\n",
    "print(square_1 + square_2)"
   ]
  },
  {
   "cell_type": "code",
   "execution_count": null,
   "metadata": {},
   "outputs": [],
   "source": []
  }
 ],
 "metadata": {
  "kernelspec": {
   "display_name": "Python 3",
   "language": "python",
   "name": "python3"
  },
  "language_info": {
   "codemirror_mode": {
    "name": "ipython",
    "version": 3
   },
   "file_extension": ".py",
   "mimetype": "text/x-python",
   "name": "python",
   "nbconvert_exporter": "python",
   "pygments_lexer": "ipython3",
   "version": "3.8.3"
  }
 },
 "nbformat": 4,
 "nbformat_minor": 4
}
