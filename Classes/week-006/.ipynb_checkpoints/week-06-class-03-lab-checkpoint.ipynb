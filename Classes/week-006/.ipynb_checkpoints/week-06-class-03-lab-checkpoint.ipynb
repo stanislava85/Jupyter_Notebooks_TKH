{
 "cells": [
  {
   "cell_type": "markdown",
   "metadata": {},
   "source": [
    "<div style=\"background: #000;\n",
    "            color: #FFF;\n",
    "            margin: 0px;\n",
    "                padding: 10px 0px 20px 0px;\n",
    "            text-align: center; \n",
    "                \">\n",
    "    <h1>Lab</h1>\n",
    "</div>\n"
   ]
  },
  {
   "cell_type": "markdown",
   "metadata": {},
   "source": [
    "# Question 1\n",
    "\n",
    "What is object inheritance? What does it mean for a class instance to inherit another? How can this be useful in our programming?"
   ]
  },
  {
   "cell_type": "raw",
   "metadata": {},
   "source": [
    "When an object/class inherits from another class it could actually access the features/specs of that class and apply them to the object/class. \n",
    "Inheritance is useful in programming because less code could be written and avoid repeating the same lines of code. Instead od rewriting code for a class/object that will have same features we could se t it to inherit them from the other class."
   ]
  },
  {
   "cell_type": "markdown",
   "metadata": {},
   "source": [
    "# Exercise 1\n",
    "\n",
    "Create a class that uses `@property` with the associated `setter` and `deleter` methods."
   ]
  },
  {
   "cell_type": "code",
   "execution_count": 14,
   "metadata": {},
   "outputs": [
    {
     "data": {
      "text/plain": [
       "'None None'"
      ]
     },
     "execution_count": 14,
     "metadata": {},
     "output_type": "execute_result"
    }
   ],
   "source": [
    "class Person:\n",
    "    def __init__(self, house, street, borough):\n",
    "        self.house = house\n",
    "        self.street = street\n",
    "        self.borough = borough\n",
    "        \n",
    "    @property\n",
    "    def address(self):\n",
    "        return f\"{self.house} {self.street}\"\n",
    "    \n",
    "    @address.setter\n",
    "    def address(self, address):\n",
    "        self.house, self.street = address.split(' ')\n",
    "        \n",
    "    @address.deleter\n",
    "    def address(self):\n",
    "        self.house, self.street = (None, None)\n",
    "        \n",
    "        \n",
    "x = Person(65, 'Booth', 'Queens')\n",
    "x.address = '32 Alderton'\n",
    "del x.address\n",
    "\n",
    "x.address"
   ]
  },
  {
   "cell_type": "markdown",
   "metadata": {},
   "source": [
    "# Exercise 2\n",
    "\n",
    "Using the following class, overload the `+` operator so when the two instances are added, the salaries are added and the sum is outputted. Also override the `__repr__` method so you can output a string that will create the same exact class (`\"Employee(**insert correct values here**)\"`)"
   ]
  },
  {
   "cell_type": "code",
   "execution_count": 130,
   "metadata": {},
   "outputs": [
    {
     "name": "stdout",
     "output_type": "stream",
     "text": [
      "Employee: Kamala makes 166000\n",
      "Employee: Joe makes 250000\n"
     ]
    },
    {
     "data": {
      "text/plain": [
       "'Total is: 416000'"
      ]
     },
     "execution_count": 130,
     "metadata": {},
     "output_type": "execute_result"
    }
   ],
   "source": [
    "class Employee:\n",
    "    def __init__(self, name, age, salary):\n",
    "        self.name = name\n",
    "        self.age = age\n",
    "        self.salary = salary\n",
    "        \n",
    "    # fix this code:\n",
    "    def __add__(self, other):\n",
    "        if isinstance(other, Employee):\n",
    "            return f\"Total is: {self.salary + other.salary}\"\n",
    "    \n",
    "    # fix this code:\n",
    "    \n",
    "    def __repr__(self):\n",
    "        return f\"Employee({self.name} makes {self.salary})\"\n",
    "    \n",
    "    def __str__(self):\n",
    "        return f\"Employee: {self.name} makes {self.salary}\" \n",
    "    \n",
    "empl1 = Employee('Kamala', 55, 166000)\n",
    "empl2 = Employee('Joe', 77, 250000)\n",
    "\n",
    "print(empl1)\n",
    "print(empl2)\n",
    "empl1 + empl2"
   ]
  },
  {
   "cell_type": "markdown",
   "metadata": {},
   "source": [
    "# Exercise 3:\n",
    "\n",
    "Create a class called `Store`, create an attribute called `inventory` that holds the product name as key and an int representing the count/number of that product as the value. \n",
    "\n",
    "Create a method that decrements from the product's count each time a specific product is purchased. Create a least one addtional method to help your class simulate a store (e.g. a method that lists the products for sale could be one). Also consider how you might want to add products to the store via the `__init__` method and later when the instance has already been created.\n",
    "\n",
    "When you're finished, create an instance of `Store` and demonstrate that your methods/code work. Bonus points for addtional methods/functionality."
   ]
  },
  {
   "cell_type": "code",
   "execution_count": 128,
   "metadata": {},
   "outputs": [
    {
     "data": {
      "text/plain": [
       "0"
      ]
     },
     "execution_count": 128,
     "metadata": {},
     "output_type": "execute_result"
    }
   ],
   "source": [
    "class Store:\n",
    "\n",
    "    inventory = {\n",
    "    'shirts': 300, \n",
    "    'jeans': 200, \n",
    "    'jackets': 100, \n",
    "    'skirts': 50\n",
    "}\n",
    "    \n",
    "    count = int(0)\n",
    "    \n",
    "    def __init__(self, product_name = None, number= 0):\n",
    "        self.product_name = product_name\n",
    "        self.number = number\n",
    "        self._count()\n",
    "        \n",
    "        \n",
    "    def _count(cls):    #classmethod within that instance\n",
    "        for k,v in inventory.items():\n",
    "            cls.count = cls.count -1\n",
    "            return cls.count\n",
    "        \n",
    "        \n",
    "    def __repr__(self):\n",
    "        return f\"{self.product_name} - {self.number}\"\n",
    "    \n",
    "    def __str__(self):\n",
    "        return f\"Store-{self.product_name} - {self.number}\"\n",
    "        \n",
    "        \n",
    "    \n",
    "#stuff = [Store(product_name, number) for product_name, number in inventory.items()]    \n",
    "\n",
    "a = Store\n",
    "a._count\n",
    "#b = a.number\n",
    "#print(b)\n",
    "#[Store() for i in range(b)]\n",
    "Store.count\n",
    "#print(stuff)"
   ]
  },
  {
   "cell_type": "markdown",
   "metadata": {},
   "source": [
    "# Exercise 4:\n",
    "\n",
    "Create two classes. One that acts as a parent class and the other that acts as a child class that inherits from the parent. Create a method of the child class that uses attributes from the parent class. Demonstrate your code works by creating an instance of the child class and showing that the method works."
   ]
  },
  {
   "cell_type": "code",
   "execution_count": 121,
   "metadata": {},
   "outputs": [
    {
     "data": {
      "text/plain": [
       "<bound method Student.teacher_lessons of Melo learned manners and science from Prof. Lopez>"
      ]
     },
     "execution_count": 121,
     "metadata": {},
     "output_type": "execute_result"
    }
   ],
   "source": [
    "class Teacher:\n",
    "        name_teacher = \"Prof. Lopez\"\n",
    "        knowledge = \"science\"\n",
    "        etiquette = \"manners\"\n",
    "class Student(Teacher):\n",
    "    def __init__(self,name_student= \"Melo\"):\n",
    "        self.name_student = name_student\n",
    "        \n",
    "    def teacher_lessons(self):\n",
    "        print(f\"{self.name_student} learned {self.etiquette} and {self.knowledge} from {self.name_teacher}\")\n",
    "        \n",
    "    def __repr__(self):\n",
    "        return f\"{self.name_student} learned {self.etiquette} and {self.knowledge} from {self.name_teacher}\"\n",
    "    \n",
    "    def __str__(self):\n",
    "        return f\"{self.name_student} learned {self.etiquette} and {self.knowledge} from {self.name_teacher}\"\n",
    "new_student = Student()\n",
    "new_student.teacher_lessons"
   ]
  },
  {
   "cell_type": "code",
   "execution_count": null,
   "metadata": {},
   "outputs": [],
   "source": []
  }
 ],
 "metadata": {
  "kernelspec": {
   "display_name": "Python 3",
   "language": "python",
   "name": "python3"
  },
  "language_info": {
   "codemirror_mode": {
    "name": "ipython",
    "version": 3
   },
   "file_extension": ".py",
   "mimetype": "text/x-python",
   "name": "python",
   "nbconvert_exporter": "python",
   "pygments_lexer": "ipython3",
   "version": "3.8.3"
  }
 },
 "nbformat": 4,
 "nbformat_minor": 4
}
