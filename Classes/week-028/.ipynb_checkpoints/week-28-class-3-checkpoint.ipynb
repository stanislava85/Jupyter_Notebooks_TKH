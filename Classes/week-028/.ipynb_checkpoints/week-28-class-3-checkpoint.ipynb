{
 "cells": [
  {
   "cell_type": "markdown",
   "id": "statistical-hands",
   "metadata": {},
   "source": [
    "<div style=\"background: #000;\n",
    "            color: #FFF;\n",
    "            margin: 0px;\n",
    "            padding: 10px 0px 20px 0px;\n",
    "            text-align: center; \n",
    "                \">\n",
    "    <h1 >Week 28 Class 3 04/14\n",
    "    </h1>\n",
    "</div>\n",
    "\n",
    "## Objectives for this week:\n",
    "* Continuing our data science journey.\n",
    "\n",
    "## Todays Agenda\n",
    "* Practice Exercises\n",
    "* Algorithms\n",
    "* git\n",
    "* Docker\n",
    "* Hypothesis Testing\n",
    "* Django"
   ]
  },
  {
   "cell_type": "markdown",
   "id": "missing-tonight",
   "metadata": {},
   "source": [
    "<div style=\"background: #000;\n",
    "            color: #FFF;\n",
    "            margin: 0px;\n",
    "            padding: 10px 0px 20px 0px;\n",
    "            text-align: center; \n",
    "                \">\n",
    "    <h1 >Exercise</h1>\n",
    "</div>"
   ]
  },
  {
   "cell_type": "markdown",
   "id": "nuclear-outside",
   "metadata": {},
   "source": [
    "# Exercise 1\n",
    "\n",
    "Given an array of integers nums, sort the array in increasing order based on the frequency of the values. If multiple values have the same frequency, sort them in decreasing order.\n",
    "\n",
    "Return the sorted array.\n",
    "\n",
    " \n",
    "\n",
    "**Example 1:**\n",
    "\n",
    "Input: nums = [1,1,2,2,2,3]  \n",
    "Output: [3,1,1,2,2,2]  \n",
    "Explanation: '3' has a frequency of 1, '1' has a frequency of 2, and '2' has a frequency of 3.  \n",
    "\n",
    "**Example 2:**\n",
    "\n",
    "Input: nums = [2,3,1,3,2]  \n",
    "Output: [1,3,3,2,2]  \n",
    "Explanation: '2' and '3' both have a frequency of 2, so they are sorted in decreasing order.  \n",
    "\n",
    "**Example 3:**\n",
    "\n",
    "Input: nums = [-1,1,-6,4,5,-6,1,4,1]  \n",
    "Output: [5,-1,4,4,-6,-6,1,1,1]  \n",
    "\n",
    " \n",
    "\n",
    "**Constraints:**  \n",
    "\n",
    "    1 <= nums.length <= 100  \n",
    "    -100 <= nums[i] <= 100  \n",
    "\n"
   ]
  },
  {
   "cell_type": "code",
   "execution_count": 6,
   "id": "accompanied-vault",
   "metadata": {},
   "outputs": [
    {
     "name": "stdout",
     "output_type": "stream",
     "text": [
      "solution is correct\n"
     ]
    }
   ],
   "source": [
    "from typing import List\n",
    "from collections import Counter\n",
    "\n",
    "def exercise_1(nums: List[int] =[1,1,2,2,2,3]) -> List[int]:\n",
    "    pass\n",
    "\n",
    "try:\n",
    "    assert(exercise_1() == [3,1,1,2,2,2])\n",
    "    assert(exercise_1([2,3,1,3,2]) == [1,3,3,2,2])\n",
    "    assert(exercise_1([-1,1,-6,4,5,-6,1,4,1]) == [5,-1,4,4,-6,-6,1,1,1])\n",
    "    print(\"solution is correct\")\n",
    "except AssertionError:\n",
    "    print(\"solution is incorrect\")\n",
    "    "
   ]
  },
  {
   "cell_type": "markdown",
   "id": "welcome-toddler",
   "metadata": {},
   "source": [
    "# Exercise 2\n",
    "\n",
    "Given a positive integer num, output its complement number. The complement strategy is to flip the bits of its binary representation.\n",
    "\n",
    "**Example 1:**\n",
    "\n",
    "Input: num = 5  \n",
    "Output: 2  \n",
    "Explanation: The binary representation of 5 is 101 (no leading zero bits), and its complement is 010. So you need to output 2.  \n",
    "\n",
    "**Example 2:**\n",
    "\n",
    "Input: num = 1  \n",
    "Output: 0  \n",
    "Explanation: The binary representation of 1 is 1 (no leading zero bits), and its complement is 0. So you need to output 0.  \n",
    "\n",
    " \n",
    "\n",
    "**Constraints:**\n",
    "\n",
    "    The given integer num is guaranteed to fit within the range of a 32-bit signed integer.\n",
    "    num >= 1\n",
    "    You could assume no leading zero bit in the integer’s binary representation.\n",
    "    This question is the same as 1009: https://leetcode.com/problems/complement-of-base-10-integer/\n"
   ]
  },
  {
   "cell_type": "code",
   "execution_count": 1,
   "id": "developing-lottery",
   "metadata": {},
   "outputs": [
    {
     "name": "stdout",
     "output_type": "stream",
     "text": [
      "solution is incorrect\n"
     ]
    }
   ],
   "source": [
    "from math import floor, log\n",
    "\n",
    "def exercise_2(num: int = 5) -> int:\n",
    "    pass\n",
    "\n",
    "try:\n",
    "    assert(exercise_2() == 2)\n",
    "    assert(exercise_2(1) == 0)\n",
    "    assert(exercise_2(2) == 1)\n",
    "    assert(exercise_2(3) == 0)\n",
    "    assert(exercise_2(4) == 3)\n",
    "    print(\"solution is correct\")\n",
    "except AssertionError:\n",
    "    print(\"solution is incorrect\")"
   ]
  },
  {
   "cell_type": "markdown",
   "id": "restricted-census",
   "metadata": {},
   "source": [
    "# Exercise 3\n",
    "\n",
    "Alice and Bob take turns playing a game, with Alice starting first.\n",
    "\n",
    "Initially, there is a number `n` on the chalkboard. On each player's turn, that player makes a move consisting of:\n",
    "* Choosing any `x` with `0 < x < n` and `n % x == 0`.\n",
    "* Replacing the number `n` on the chalkboard with `n - x`.\n",
    "\n",
    "Also, if a player cannot make a move, they lose the game.\n",
    "\n",
    "Return true if and only if Alice wins the game, assuming both players play optimally.\n",
    "\n",
    "**Example 1:**\n",
    "\n",
    "Input: n = 2  \n",
    "Output: True  \n",
    "Explanation: Alice chooses 1, and Bob has no more moves.  \n",
    "\n",
    "**Example 2:**\n",
    "\n",
    "Input: n = 3  \n",
    "Output: False  \n",
    "Explanation: Alice chooses 1, Bob chooses 1, and Alice has no more moves.  \n",
    "\n",
    "**Constraints:**\n",
    "\n",
    "    1 <= n <= 1000\n"
   ]
  },
  {
   "cell_type": "code",
   "execution_count": 2,
   "id": "ongoing-affiliation",
   "metadata": {},
   "outputs": [
    {
     "name": "stdout",
     "output_type": "stream",
     "text": [
      "solution is incorrect\n"
     ]
    }
   ],
   "source": [
    "def exercise_3(n: int = 2) -> bool:\n",
    "    pass\n",
    "\n",
    "try:\n",
    "    assert(exercise_3() == True)\n",
    "    assert(exercise_3(3) == False)\n",
    "    assert(exercise_3(4) == True)\n",
    "    assert(exercise_3(6) == True)\n",
    "    print(\"solution is correct\")\n",
    "except AssertionError:\n",
    "    print(\"solution is incorrect\")"
   ]
  },
  {
   "cell_type": "markdown",
   "id": "insured-algebra",
   "metadata": {},
   "source": [
    "<div style=\"background: #000;\n",
    "            color: #FFF;\n",
    "            margin: 0px;\n",
    "            margin-bottom: 10px;\n",
    "            padding: 10px 0px 20px 0px;\n",
    "            text-align: center; \n",
    "                \">\n",
    "    <h1>Algorithms: Introduction to Graphs</h1>\n",
    "</div>"
   ]
  },
  {
   "attachments": {
    "graph.png": {
     "image/png": "[encoded data removed]"
    }
   },
   "cell_type": "markdown",
   "id": "present-ozone",
   "metadata": {},
   "source": [
    "What are Graphs?\n",
    "==\n",
    "\n",
    "Graphs are a more general structure than the trees, in fact you can think of a tree as a special kind of graph. Graphs can be used to represent many interesting things about our world, including systems of roads, airline flights from city to city or how the Internet is connected.\n",
    "\n",
    "\n",
    "They built of two major components, Verticies(sometimes referred to as Nodes) and Edges. \n",
    "\n",
    "Vertices\n",
    "==\n",
    "\n",
    "Vertices are entities in a graph. Every vertex has a value associated with it. For example, if we represent a list of cities using a graph, the vertices would represent the cities.\n",
    "\n",
    "Edges\n",
    "==\n",
    "Edges represent the relationship between the vertices in the graph. Edges may or may not have a value associated with them. For example, if we represent a list of cities using a graph, the edges would represent the path between the cities.\n",
    "\n",
    "![graph.png](attachment:graph.png)"
   ]
  },
  {
   "cell_type": "markdown",
   "id": "usual-stanford",
   "metadata": {},
   "source": [
    "Why Use a Graph\n",
    "==\n",
    "\n",
    "* To visualize organized data.\n",
    "* Social Networks use graphs to represent different users as vertices and edges to represent the connections between them.\n",
    "* In a mapping application, graphs are used to represent places and the path (distance) between them.\n",
    "* Directed Graphs are used in Google’s Page Ranking Algorithm.|\n"
   ]
  },
  {
   "attachments": {
    "undirected-graph.png": {
     "image/png": "[encoded data removed]"
    }
   },
   "cell_type": "markdown",
   "id": "equal-power",
   "metadata": {},
   "source": [
    "Undirected Graphs\n",
    "==\n",
    "\n",
    "In an undirected graph, the edges have no path or direction. If there is a path from vertex X to vertex Y, then there is a path from vertex Y to vertex X. Edge (X, Y) represents the edge connecting vertex X to vertex Y.\n",
    "![undirected-graph.png](attachment:undirected-graph.png)"
   ]
  },
  {
   "attachments": {
    "directed-graph.png": {
     "image/png": "[encoded data removed]"
    }
   },
   "cell_type": "markdown",
   "id": "amber-chess",
   "metadata": {},
   "source": [
    "Directed Graphs\n",
    "==\n",
    "\n",
    "In a directed graph or digraph, the edges have an orientation. If there is a path from vertex X to vertex Y, then there isn’t necessarily a path from vertex Y to vertex X.\n",
    "![directed-graph.png](attachment:directed-graph.png)"
   ]
  },
  {
   "attachments": {
    "undirected-graph.png": {
     "image/png": "[encoded data removed]"
    }
   },
   "cell_type": "markdown",
   "id": "democratic-broadway",
   "metadata": {},
   "source": [
    "Let's implement an Undirected Graph\n",
    "==\n",
    "\n",
    "A simple way is to utilize dictionaries and lists\n",
    "\n",
    "```\n",
    "{\n",
    "    1:[2,3],\n",
    "    2:[1,3],\n",
    "    3:[1,2,4],\n",
    "    4:[3]\n",
    "}\n",
    "```\n",
    "\n",
    "That can represent this graph\n",
    "![undirected-graph.png](attachment:undirected-graph.png)"
   ]
  },
  {
   "cell_type": "code",
   "execution_count": null,
   "id": "surgical-rental",
   "metadata": {},
   "outputs": [],
   "source": [
    "#Let's implement a Class for our Graph\n",
    "class Graph:\n",
    "    \n",
    "    graph_dict={}\n",
    "    \n",
    "    def addEdge(self,node,neighbour):  \n",
    "        if node not in self.graph_dict:\n",
    "            self.graph_dict[node]=[neighbour]\n",
    "        else:\n",
    "            self.graph_dict[node].append(neighbour)\n",
    "            \n",
    "    def show_edges(self):\n",
    "        for node in self.graph_dict:\n",
    "            for neighbour in self.graph_dict[node]:\n",
    "                print(\"(\",node,\", \",neighbour,\")\")\n",
    "            \n",
    "g= Graph()\n",
    "g.addEdge('1', '2')\n",
    "g.addEdge('1', '3')\n",
    "g.addEdge('2', '3')\n",
    "g.addEdge('2', '1')\n",
    "g.addEdge('3', '1')\n",
    "g.addEdge('3', '2')\n",
    "g.addEdge('3', '4')\n",
    "g.addEdge('4', '3')\n",
    "print(g.graph_dict)\n",
    "g.show_edges()"
   ]
  },
  {
   "cell_type": "code",
   "execution_count": null,
   "id": "strong-sampling",
   "metadata": {},
   "outputs": [],
   "source": [
    "#Let's find a path from 2 nodes \n",
    "#Let's implement a Class for our Graph\n",
    "class Graph:\n",
    "    \n",
    "    graph_dict={}\n",
    "    \n",
    "    def addEdge(self,node,neighbour):  \n",
    "        if node not in self.graph_dict:\n",
    "            self.graph_dict[node]=[neighbour]\n",
    "        else:\n",
    "            self.graph_dict[node].append(neighbour)\n",
    "            \n",
    "    def show_edges(self):\n",
    "        for node in self.graph_dict:\n",
    "            for neighbour in self.graph_dict[node]:\n",
    "                print(\"(\",node,\", \",neighbour,\")\")\n",
    "    \n",
    "    def find_path(self,start,end,path=[]):\n",
    "        path = path + [start]    \n",
    "        if start==end:\n",
    "            return path\n",
    "        for node in self.graph_dict[start]:\n",
    "            if node not in path:\n",
    "                newPath=self.find_path(node,end,path)\n",
    "                if newPath:\n",
    "                    return newPath\n",
    "                return None\n",
    "            \n",
    "g= Graph()\n",
    "g.addEdge('1', '2')\n",
    "g.addEdge('1', '3')\n",
    "g.addEdge('2', '3')\n",
    "g.addEdge('2', '1')\n",
    "g.addEdge('3', '1')\n",
    "g.addEdge('3', '2')\n",
    "g.addEdge('3', '4')\n",
    "g.addEdge('4', '3')\n",
    "print(g.find_path('4', '1'))"
   ]
  },
  {
   "cell_type": "markdown",
   "id": "micro-hayes",
   "metadata": {},
   "source": [
    "<div style=\"background: #000;\n",
    "            color: #FFF;\n",
    "            margin: 0px;\n",
    "            padding: 10px 0px 20px 0px;\n",
    "            text-align: center; \n",
    "                \">\n",
    "    <h1>Docker</h1>\n",
    "</div>"
   ]
  },
  {
   "cell_type": "markdown",
   "id": "consolidated-headquarters",
   "metadata": {},
   "source": [
    "Follow the following to install docker:\n",
    "\n",
    "https://docs.docker.com/get-docker/\n",
    "\n"
   ]
  },
  {
   "cell_type": "code",
   "execution_count": 1,
   "id": "accomplished-young",
   "metadata": {},
   "outputs": [
    {
     "name": "stdout",
     "output_type": "stream",
     "text": [
      "\n",
      "Hello from Docker!\n",
      "This message shows that your installation appears to be working correctly.\n",
      "\n",
      "To generate this message, Docker took the following steps:\n",
      " 1. The Docker client contacted the Docker daemon.\n",
      " 2. The Docker daemon pulled the \"hello-world\" image from the Docker Hub.\n",
      "    (amd64)\n",
      " 3. The Docker daemon created a new container from that image which runs the\n",
      "    executable that produces the output you are currently reading.\n",
      " 4. The Docker daemon streamed that output to the Docker client, which sent it\n",
      "    to your terminal.\n",
      "\n",
      "To try something more ambitious, you can run an Ubuntu container with:\n",
      " $ docker run -it ubuntu bash\n",
      "\n",
      "Share images, automate workflows, and more with a free Docker ID:\n",
      " https://hub.docker.com/\n",
      "\n",
      "For more examples and ideas, visit:\n",
      " https://docs.docker.com/get-started/\n",
      "\n"
     ]
    }
   ],
   "source": [
    "!docker run hello-world"
   ]
  },
  {
   "cell_type": "markdown",
   "id": "forced-update",
   "metadata": {},
   "source": [
    "If you've gotten this to work, try this in your terminal:\n",
    "\n",
    "```bash\n",
    "$ docker run -it ubuntu bash\n",
    "\n",
    "```"
   ]
  },
  {
   "cell_type": "markdown",
   "id": "front-solution",
   "metadata": {},
   "source": [
    "<div style=\"background: #000;\n",
    "            color: #FFF;\n",
    "            margin: 0px;\n",
    "            padding: 10px 0px 20px 0px;\n",
    "            text-align: center; \n",
    "                \">\n",
    "    <h1>Django</h1>\n",
    "</div>"
   ]
  },
  {
   "cell_type": "markdown",
   "id": "close-terrorism",
   "metadata": {},
   "source": [
    "\"Django (/ˈdʒæŋɡoʊ/ **JANG-goh**; sometimes stylized as django) is a Python-based free and open-source web framework that follows the model-template-views (MTV) architectural pattern. It is maintained by the Django Software Foundation (DSF), an American independent organization established as a 501(c)(3) non-profit.\"\n",
    "\n",
    "source: [wiki](https://en.wikipedia.org/wiki/Django_(web_framework))"
   ]
  },
  {
   "cell_type": "markdown",
   "id": "immediate-punch",
   "metadata": {},
   "source": [
    "**Django was invented to meet fast-moving newsroom deadlines, while satisfying the tough requirements of experienced Web developers.**\n",
    "\n",
    "## Why Django?\n",
    "\n",
    "With Django, you can take Web applications from concept to launch in a matter of hours. Django takes care of much of the hassle of Web development, so you can focus on writing your app without needing to reinvent the wheel. It’s free and open source.\n",
    "* Ridiculously fast - Django was designed to help developers take applications from concept to completion as quickly as possible.\n",
    "* Fully loaded - Django includes dozens of extras you can use to handle common Web development tasks. Django takes care of user authentication, content administration, site maps, RSS feeds, and many more tasks — right out of the box.\n",
    "* Reassuringly secure - Django takes security seriously and helps developers avoid many common security mistakes, such as SQL injection, cross-site scripting, cross-site request forgery and clickjacking. Its user authentication system provides a secure way to manage user accounts and passwords.\n",
    "* Exceedingly scalable - Some of the busiest sites on the planet use Django’s ability to quickly and flexibly scale to meet the heaviest traffic demands.\n",
    "* Incredibly versatile - Companies, organizations and governments have used Django to build all sorts of things — from content management systems to social networks to scientific computing platforms.\n"
   ]
  },
  {
   "cell_type": "markdown",
   "id": "designing-richardson",
   "metadata": {},
   "source": [
    "## Installing django"
   ]
  },
  {
   "cell_type": "code",
   "execution_count": 2,
   "id": "identified-westminster",
   "metadata": {},
   "outputs": [
    {
     "name": "stdout",
     "output_type": "stream",
     "text": [
      "Requirement already satisfied: django in /home/user/.pyenv/versions/3.9.1/lib/python3.9/site-packages (3.2)\n",
      "Requirement already satisfied: sqlparse>=0.2.2 in /home/user/.pyenv/versions/3.9.1/lib/python3.9/site-packages (from django) (0.4.1)\n",
      "Requirement already satisfied: pytz in /home/user/.pyenv/versions/3.9.1/lib/python3.9/site-packages (from django) (2021.1)\n",
      "Requirement already satisfied: asgiref<4,>=3.3.2 in /home/user/.pyenv/versions/3.9.1/lib/python3.9/site-packages (from django) (3.3.4)\n"
     ]
    }
   ],
   "source": [
    "!pip install django"
   ]
  },
  {
   "cell_type": "code",
   "execution_count": 3,
   "id": "aware-domestic",
   "metadata": {},
   "outputs": [
    {
     "data": {
      "text/plain": [
       "'3.2'"
      ]
     },
     "execution_count": 3,
     "metadata": {},
     "output_type": "execute_result"
    }
   ],
   "source": [
    "import django\n",
    "django.get_version()"
   ]
  },
  {
   "cell_type": "markdown",
   "id": "tribal-aaron",
   "metadata": {},
   "source": [
    "## Writing your first Django app\n",
    "(adapted from https://docs.djangoproject.com/en/3.2/intro/tutorial01/)\n",
    "\n",
    "Throughout this tutorial, we’ll walk you through the creation of a basic poll application.\n",
    "\n",
    "It’ll consist of two parts:\n",
    "* A public site that lets people view polls and vote in them.\n",
    "* An admin site that lets you add, change, and delete polls.\n",
    "\n",
    "### Creating a project\n",
    "\n",
    "If this is your first time using Django, you’ll have to take care of some initial setup. Namely, you’ll need to auto-generate some code that establishes a Django project – a collection of settings for an instance of Django, including database configuration, Django-specific options and application-specific settings.\n",
    "\n",
    "From the command line, `cd` into a directory where you’d like to store your code, then run the following command:\n",
    "\n",
    "```\n",
    "$ django-admin startproject mysite\n",
    "```\n",
    "\n",
    "Let's look at what startproject created:\n",
    "```\n",
    "mysite/\n",
    "    manage.py\n",
    "    mysite/\n",
    "        __init__.py\n",
    "        settings.py\n",
    "        urls.py\n",
    "        asgi.py\n",
    "        wsgi.py\n",
    "```\n",
    "These files are:\n",
    "* The outer `mysite/` root directory is a container for your project. Its name doesn’t matter to Django; you can rename it to anything you like.\n",
    "* **manage.py**: A command-line utility that lets you interact with this Django project in various ways. You can read all the details about manage.py in django-admin and manage.py.\n",
    "* The inner **mysite/** directory is the actual Python package for your project. Its name is the Python package name you’ll need to use to import anything inside it (e.g. `mysite.urls`).\n",
    "* **mysite/__init__.py**: An empty file that tells Python that this directory should be considered a Python package. If you’re a Python beginner, read more about packages in the official Python docs.\n",
    "* **mysite/settings.py**: Settings/configuration for this Django project. Django settings will tell you all about how settings work.\n",
    "* **mysite/urls.py**: The URL declarations for this Django project; a “table of contents” of your Django-powered site. You can read more about URLs in URL dispatcher.\n",
    "* **mysite/asgi.py**: An entry-point for ASGI-compatible web servers to serve your project. See How to deploy with ASGI for more details.\n",
    "* **mysite/wsgi.py**: An entry-point for WSGI-compatible web servers to serve your project. See How to deploy with WSGI for more details.\n",
    "\n",
    "## The development server¶\n",
    "\n",
    "Let’s verify your Django project works. Change into the outer mysite directory, if you haven’t already, and run the following commands:\n",
    "\n",
    "```bash\n",
    "python manage.py runserver\n",
    "```\n",
    "\n",
    "You'll see a page provided by Django as we have not set up a homepage yet. Let's try doing that.\n",
    "\n",
    "## Creating our first view\n",
    "\n",
    "Let's write the first view. Create a file called `views.py` in the `mysite` directory ( `mysite/views.py`) and add the following code:\n",
    "\n",
    "```python\n",
    "from django.http import HttpResponse\n",
    "\n",
    "def index(request):\n",
    "    return HttpResponse('Hello World')\n",
    "\n",
    "```\n",
    "\n",
    "We must also adjust the `urls.py` file as that is where our routing is handled. We need to add a route for our new view. In `urls.py`, change it to the following:\n",
    "\n",
    "```python\n",
    "from django.contrib import admin\n",
    "from django.urls import path\n",
    "from . import views\n",
    "\n",
    "urlpatterns = [\n",
    "    path('', views.index, name='index'),\n",
    "    path('admin/', admin.site.urls),\n",
    "]\n",
    "```\n",
    "\n",
    "Then try visiting your homepage.\n"
   ]
  },
  {
   "cell_type": "markdown",
   "id": "sharp-family",
   "metadata": {},
   "source": [
    "<div style=\"background: #000;\n",
    "            color: #FFF;\n",
    "            margin: 0px;\n",
    "            padding: 10px 0px 20px 0px;\n",
    "            text-align: center; \n",
    "                \">\n",
    "    <h1>Lab</h1>\n",
    "</div>"
   ]
  },
  {
   "cell_type": "markdown",
   "id": "endangered-waters",
   "metadata": {},
   "source": [
    "\n",
    "\n",
    "In a directory of your choosing, create a django application using the following:\n",
    "\n",
    "```bash\n",
    "$ django-admin startproject data-pipeline\n",
    "```\n",
    "\n",
    "Change into that directory and continue your setup.\n",
    "\n",
    "### First we need to set up a git repo.\n",
    "\n",
    "You'll set up the django application as your working directory but you'll also need to set up a remote repository on github. Create a blank (no README file or anything) project on github and then continue with the next steps.\n",
    "\n",
    "Steps and expected outputs:\n",
    "\n",
    "```bash\n",
    "$ git init\n",
    "Initialized empty Git repository in /home/user/username/dir1/data-pipeline/.git/\n",
    "$ git status\n",
    "On branch master                                     \n",
    "                                                          \n",
    "No commits yet                                                                                                          \n",
    "                                                  \n",
    "Untracked files:                                  \n",
    "  (use \"git add <file>...\" to include in what will be committed)                                                        \n",
    "                                                          \n",
    "        manage.py                                         \n",
    "        project1/                                             \n",
    "                                                         \n",
    "nothing added to commit but untracked files present (use \"git add\" to track)   \n",
    "\n",
    "$ git add * \n",
    "$ git status \n",
    "On branch master                                          \n",
    "                                                \n",
    "No commits yet                                  \n",
    "                                                  \n",
    "Changes to be committed:                                                                                                \n",
    "  (use \"git rm --cached <file>...\" to unstage)            \n",
    "                                                \n",
    "        new file:   manage.py                   \n",
    "        new file:   data-pipeline/__init__.py\n",
    "        new file:   data-pipeline/asgi.py      \n",
    "        new file:   data-pipeline/settings.py   \n",
    "        new file:   data-pipeline/urls.py              \n",
    "        new file:   data-pipeline/wsgi.py                     \n",
    " \n",
    "$ git commit -m \"first commit\"\n",
    "[master (root-commit) 4cd0feb] first commit\n",
    " 6 files changed, 200 insertions(+)\n",
    " create mode 100755 manage.py\n",
    " create mode 100644 project1/__init__.py\n",
    " create mode 100644 project1/asgi.py\n",
    " create mode 100644 project1/settings.py\n",
    " create mode 100644 project1/urls.py\n",
    " create mode 100644 project1/wsgi.py\n",
    "$ git status\n",
    "On branch master\n",
    "nothing to commit, working tree clean\n",
    "$ git branch -M main\n",
    "$ git remote add origin https://github.com/<your github username>/<repository you created on github>.git\n",
    "$ git push origin main\n",
    "Username for 'https://github.com': \n",
    "Password for 'https://<github username>@github.com':\n",
    "Enumerating objects: 9, done.\n",
    "Counting objects: 100% (9/9), done.\n",
    "Delta compression using up to 2 threads\n",
    "Compressing objects: 100% (8/8), done.\n",
    "Writing objects: 100% (9/9), 2.69 KiB | 2.69 MiB/s, done.\n",
    "Total 9 (delta 1), reused 0 (delta 0)\n",
    "remote: Resolving deltas: 100% (1/1), done.\n",
    "To https://github.com/<github username>/<repo name>.git\n",
    " * [new branch]      main -> main\n",
    "Branch 'main' set up to track remote branch 'main' from 'origin'.\n",
    "\n",
    "```\n",
    "### Then you'll need to create a number of other files (you'll be committing them to this repo). In order to do so we need to set up some folders.\n",
    "\n",
    "Set up the following folders:\n",
    "* `/datasets` - where you'll store data files (json, csv, etc.) \n",
    "* `/notebooks` - where you'll store jupyter notebooks\n",
    "* `/scripts` - where you'll store python scripts for automated stuff\n",
    "* `/vizualizations` - where you'll store image files of different charts\n",
    "\n",
    "\n",
    "so your file structure looks as follows:\n",
    "\n",
    "```\n",
    "/data-pipeline\n",
    "/data\n",
    "/notebooks\n",
    "/scripts\n",
    "/vizualizations\n",
    "manage.py\n",
    ".git\n",
    "```\n",
    "\n",
    "### Now we need to populate some of these folders. \n",
    "\n",
    "We will be working on our final project the entire phase (in addition to smaller weekly projects and other assignments). Our data pipeline will eventually pull the data we need for our work, process it according to our needs, store it into an sql database and allow for our analysis to be viewable via web application. \n",
    "\n",
    "For us to do all of this, we need a research topic, some data and some initial fact finding to figure out what we'd like to work on. That is what you will be working on. \n",
    "\n",
    "### Your tasks for this lab:\n",
    "\n",
    "1. Create a jupyter notebook stored in `/notebooks` for your initial work. In it, start to document your process. Include some of the following:\n",
    "* the topic you would like to focus on\n",
    "* some initial data you found that could work for your analysis\n",
    "* initial exploratory data analysis to see if data gathered is viable\n",
    "* outside information that could be useful to your process (charts, articles, links that are relevant to your topic.\n",
    "2. Find some initial data pertaining to your topic and store the files in the `/data` folder.\n",
    "3. If you would like to scrape data, find some source that could potentially be scraped and begin inspecting it for ways to obtain it. It might be beneficial to do this in a jupyter notebook initially and then once you have some working code, place it into a `*.py` file in `/scripts`.\n",
    "4. Create a `README.md` file containing information about your project. Keep it simple. We'll continue to add to this over time. \n",
    "5. An initial view in your django application (we'll learn templating next week but feel free to work ahead)\n",
    "\n",
    "Minimum requirements for lab grade are:\n",
    "* a github link to your repo with commits\n",
    "* a `*.ipynb` file in `/notebooks` with your initial work (see above bulletpoints)\n",
    "* a potential or relevant dataset in `/data`\n",
    "* a `README.md` file\n",
    "\n",
    "Commit your changes to the your repo at the end of class time and submit a link to google classroom. You have until Sunday to add further commits."
   ]
  },
  {
   "cell_type": "code",
   "execution_count": null,
   "id": "undefined-storage",
   "metadata": {},
   "outputs": [],
   "source": []
  }
 ],
 "metadata": {
  "kernelspec": {
   "display_name": "Python 3",
   "language": "python",
   "name": "python3"
  },
  "language_info": {
   "codemirror_mode": {
    "name": "ipython",
    "version": 3
   },
   "file_extension": ".py",
   "mimetype": "text/x-python",
   "name": "python",
   "nbconvert_exporter": "python",
   "pygments_lexer": "ipython3",
   "version": "3.9.1"
  }
 },
 "nbformat": 4,
 "nbformat_minor": 5
}
