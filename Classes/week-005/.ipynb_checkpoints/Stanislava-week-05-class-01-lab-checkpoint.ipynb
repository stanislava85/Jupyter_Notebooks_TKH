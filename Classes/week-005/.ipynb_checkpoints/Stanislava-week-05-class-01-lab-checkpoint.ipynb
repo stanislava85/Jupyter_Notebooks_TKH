{
 "cells": [
  {
   "cell_type": "markdown",
   "metadata": {},
   "source": [
    "<div style=\"background: #000;\n",
    "            color: #FFF;\n",
    "            margin: 0px;\n",
    "                padding: 10px 0px 20px 0px;\n",
    "            text-align: center; \n",
    "                \">\n",
    "    <h1>Week 5 - Class 1 - Lab</h1>\n",
    "</div>"
   ]
  },
  {
   "cell_type": "markdown",
   "metadata": {},
   "source": [
    "# Question 1:\n",
    "\n",
    "What are signs you should use a recursive function?<br>\n",
    "When i need to count back / return one element less, until a condition is met.\n",
    "\n",
    "\n",
    "What happens when you do a recursive function call in a return statement?<br>\n",
    "It calls the function of the updated variable. Each time we return the recursive function, insed of doing the calculations again, it will look at the previous saved output of the updated variable.\n",
    "\n",
    "Walk us through how recursive functions work in your answer.\n"
   ]
  },
  {
   "cell_type": "code",
   "execution_count": null,
   "metadata": {},
   "outputs": [],
   "source": [
    "def recursive_function(n): \n",
    "    if n == 1:\n",
    "        print(n)\n",
    "        return 1\n",
    "    print(n)\n",
    "    return recursive_function(n-1)\n",
    "    \n",
    "recursive_function(3)"
   ]
  },
  {
   "cell_type": "markdown",
   "metadata": {},
   "source": [
    "1. we define the rec func of n (where we set the condition, that if n is 1 we will exit the func, if n is not 1 we call the same func minus 1 each time, until we reach 1)\n",
    "2. we call the rec func of 4\n",
    "3. python sets n to be 4\n",
    "4. checks that 4 in not 1, then continues\n",
    "5. and returns the rec func -1, so it returns an updated value/variable of 3, saves the output\n",
    "6. now n is 3, and 3 is not 1, so it continues to call the rec func -1 and returns 2, an updated output\n",
    "7. now that n is 2, and it is not equal to 1, python calls the rec func -1 again, and saves the updated value of 1\n",
    "8. now that n is 1, and 1 is equal to 1 (our 1st condition), we can exit the loop and return the last value of 1"
   ]
  },
  {
   "cell_type": "markdown",
   "metadata": {},
   "source": [
    "# Exercise 1:\n",
    "\n",
    "Create a function that executes in constant time. Then create a function that executes in linear time. Curry the two functions to produce an output."
   ]
  },
  {
   "cell_type": "code",
   "execution_count": 124,
   "metadata": {},
   "outputs": [
    {
     "data": {
      "text/plain": [
       "'Even'"
      ]
     },
     "execution_count": 124,
     "metadata": {},
     "output_type": "execute_result"
    }
   ],
   "source": [
    "# O(1) Constant algorithms do not scale with the input size, they are constant no matter how big the input\n",
    "\n",
    "def odd_even(num):\n",
    "    if num % 2 == 0:\n",
    "        return \"Even\" \n",
    "    else:\n",
    "        return \"Odd\"\n",
    "\n",
    "odd_even(8)    "
   ]
  },
  {
   "cell_type": "code",
   "execution_count": 125,
   "metadata": {},
   "outputs": [
    {
     "name": "stdout",
     "output_type": "stream",
     "text": [
      "1\n",
      "2\n",
      "3\n",
      "4\n"
     ]
    }
   ],
   "source": [
    "# O(n) As the size of the input, N, grows our algorithm's run time scales exactly with the size of the input\n",
    "#every single element from the input is visited exactly once, O(n) times\n",
    "\n",
    "def list_func(lst):\n",
    "    for i in lst:\n",
    "        print(i)\n",
    "        \n",
    "list_func([1, 2, 3, 4])        "
   ]
  },
  {
   "cell_type": "code",
   "execution_count": 126,
   "metadata": {},
   "outputs": [
    {
     "name": "stdout",
     "output_type": "stream",
     "text": [
      "O\n",
      "d\n",
      "d\n"
     ]
    }
   ],
   "source": [
    "def curry_func(num):\n",
    "    return list_func(odd_even(num))\n",
    "\n",
    "curry_func(9)"
   ]
  },
  {
   "cell_type": "markdown",
   "metadata": {},
   "source": [
    "# Exercise 2:\n",
    "\n",
    "Create a function using the following function that will take your choice of the following and input:\n",
    "\n",
    "\"R\" (rock), \"P\" (paper), or \"S\" (scissors) \n",
    "\n",
    "and return whether or not you beat the computer.\n"
   ]
  },
  {
   "cell_type": "code",
   "execution_count": 7,
   "metadata": {},
   "outputs": [
    {
     "data": {
      "text/plain": [
       "(1, 'paper')"
      ]
     },
     "execution_count": 7,
     "metadata": {},
     "output_type": "execute_result"
    }
   ],
   "source": [
    "import random\n",
    "def computers_turn():\n",
    "    choices = {\n",
    "        0: 'rock',\n",
    "        1: 'paper',\n",
    "        2: 'scissors',\n",
    "    }\n",
    "    turn = random.randint(0,2)\n",
    "    return (turn, choices[turn])\n",
    "\n",
    "\n",
    "computers_turn()"
   ]
  },
  {
   "cell_type": "code",
   "execution_count": 9,
   "metadata": {},
   "outputs": [
    {
     "name": "stdout",
     "output_type": "stream",
     "text": [
      "Please select R for rock, P for paper, or S for scissors: S\n",
      "computer's  choice is: (0, 'rock')\n",
      "user's choice is: (2, 'scissors')\n"
     ]
    },
    {
     "data": {
      "text/plain": [
       "'the computer wins'"
      ]
     },
     "execution_count": 9,
     "metadata": {},
     "output_type": "execute_result"
    }
   ],
   "source": [
    "#need to finish working on this\n",
    "\n",
    "def win_or_not():\n",
    "    user_input = input(\"Please select R for rock, P for paper, or S for scissors: \")\n",
    "    choices = {\n",
    "        \"R\": (0, 'rock'),\n",
    "        \"P\": (1, 'paper'),\n",
    "        \"S\": (2, 'scissors'),\n",
    "    }\n",
    "\n",
    "    computer_choice = computers_turn()\n",
    "    user_choice = choices[user_input]\n",
    "    print(f\"computer's  choice is: {computer_choice}\")\n",
    "    print(f\"user's choice is: {user_choice}\")\n",
    "        \n",
    "    if computer_choice == user_choice:\n",
    "        return \"Draw!\"\n",
    "    elif (user_choice[0] - computer_choice[0]) % 3 == 1:\n",
    "        return \"the user wins\"\n",
    "    elif (user_choice[0] - computer_choice[0]) % 3 == 2:\n",
    "        return \"the computer wins\"\n",
    "    else:\n",
    "        return \"fail\"\n",
    "\n",
    "\n",
    "win_or_not()"
   ]
  },
  {
   "cell_type": "markdown",
   "metadata": {},
   "source": [
    "# Exercise 3:\n",
    "\n",
    "Create a function that takes a string, converts it to upper, sorts it and then take the `ord()` of each element of the string and adds it to a list. Output the final list.\n",
    "\n",
    "Once your function runs, optimize it to make it more efficient. "
   ]
  },
  {
   "cell_type": "code",
   "execution_count": 11,
   "metadata": {},
   "outputs": [
    {
     "name": "stdout",
     "output_type": "stream",
     "text": [
      "ABHJRZ\n",
      "['65', '66', '72', '74', '82', '90']\n"
     ]
    }
   ],
   "source": [
    "def func_sort(x):\n",
    "    list_1 = []\n",
    "    x =''.join(sorted(x.upper()))\n",
    "    print(x)\n",
    "   \n",
    "    for elem in range(0, len(x)):\n",
    "        #new_list= ord(x[elem])\n",
    "        #print(new_list)\n",
    "        #print(type(new_list))\n",
    "        list_1.append(str(ord(x[elem])))\n",
    "    print(list_1)\n",
    "    \n",
    "func_sort('zjhabr')\n"
   ]
  },
  {
   "cell_type": "code",
   "execution_count": null,
   "metadata": {},
   "outputs": [],
   "source": []
  },
  {
   "cell_type": "markdown",
   "metadata": {},
   "source": [
    "# Exercise 4:\n",
    "\n",
    "Create a recursive function that computers the powers of a number using the following equation:\n",
    "\n",
    "   $$ x^{n} = x * x^{n-1} $$ "
   ]
  },
  {
   "cell_type": "code",
   "execution_count": 9,
   "metadata": {},
   "outputs": [
    {
     "data": {
      "text/plain": [
       "64"
      ]
     },
     "execution_count": 9,
     "metadata": {},
     "output_type": "execute_result"
    }
   ],
   "source": [
    "def func_1(a, b):\n",
    "    if b == 0:\n",
    "        return 1\n",
    "    else:\n",
    "        return a * func_1(a, b-1)\n",
    "    \n",
    "func_1(4, 3)"
   ]
  },
  {
   "cell_type": "markdown",
   "metadata": {},
   "source": [
    "# Bonus: \n",
    "\n",
    "Find a lab exercise solution that you previously submitted that you can optimize, make a function out of the solution and make it more efficient."
   ]
  },
  {
   "cell_type": "code",
   "execution_count": null,
   "metadata": {},
   "outputs": [],
   "source": []
  }
 ],
 "metadata": {
  "kernelspec": {
   "display_name": "Python 3",
   "language": "python",
   "name": "python3"
  },
  "language_info": {
   "codemirror_mode": {
    "name": "ipython",
    "version": 3
   },
   "file_extension": ".py",
   "mimetype": "text/x-python",
   "name": "python",
   "nbconvert_exporter": "python",
   "pygments_lexer": "ipython3",
   "version": "3.8.3"
  }
 },
 "nbformat": 4,
 "nbformat_minor": 4
}
