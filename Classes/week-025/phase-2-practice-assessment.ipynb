{
 "cells": [
  {
   "cell_type": "markdown",
   "metadata": {},
   "source": [
    "<div style=\"background: #000;\n",
    "            color: #FFF;\n",
    "            margin: 0px;\n",
    "            padding: 10px 0px 20px 0px;\n",
    "            text-align: center; \n",
    "                \">\n",
    "    <h1>Phase 2 Practice Assessment</h1>\n",
    "</div>"
   ]
  },
  {
   "cell_type": "code",
   "execution_count": null,
   "metadata": {},
   "outputs": [],
   "source": [
    "import pandas as pd\n",
    "import numpy as np\n",
    "import matplotlib.pyplot as plt\n",
    "import seaborn as sns"
   ]
  },
  {
   "cell_type": "markdown",
   "metadata": {},
   "source": [
    "# Multiple Choice Questions \n",
    "\n",
    "**[5% each; 25% total]**\n",
    "\n",
    "**1. What is a main benefit of test-driven development?**\n",
    "\n",
    "**a.** Less money needed  \n",
    "**b.** More fun   \n",
    "**c.** Slower development  \n",
    "**d.** Fewer bugs to deal with  "
   ]
  },
  {
   "cell_type": "raw",
   "metadata": {},
   "source": [
    "d."
   ]
  },
  {
   "cell_type": "markdown",
   "metadata": {},
   "source": [
    "**2. What would we use to calculate the number of ways we could arrange 20 students into a 5 person committee if we didn't care about committees having the same 5 members?**\n",
    "\n",
    "**a.** Factorial  \n",
    "**b.** Permutation  \n",
    "**c.** Combination  \n",
    "**d.** Probability Mass Function  "
   ]
  },
  {
   "cell_type": "raw",
   "metadata": {},
   "source": [
    "d. permutations /// whereas combinations care about duplicates"
   ]
  },
  {
   "cell_type": "markdown",
   "metadata": {},
   "source": [
    "**3. What is the set of possible outcomes for a random variable called?**\n",
    "\n",
    "**a.** Event Space  \n",
    "**b.** Experiment    \n",
    "**c.** Sample Space   \n",
    "**d.** Probability Distribution  "
   ]
  },
  {
   "cell_type": "raw",
   "metadata": {},
   "source": [
    "a. prob of event = amount of occurances / total sample space"
   ]
  },
  {
   "cell_type": "markdown",
   "metadata": {},
   "source": [
    "**4. Multiplying a matrix by its inverse results in what type of matrix**\n",
    "\n",
    "**a.** Square Matrix  \n",
    "**b.** The Matrix Trilogy  \n",
    "**c.** Zero Matrix  \n",
    "**d.** Identity Matrix  "
   ]
  },
  {
   "cell_type": "raw",
   "metadata": {},
   "source": [
    "d. "
   ]
  },
  {
   "cell_type": "markdown",
   "metadata": {},
   "source": [
    "**5. What's a consequence of underfitting?**\n",
    "\n",
    "**a.** Incorrect predictions   \n",
    "**b.** High bias  \n",
    "**c.** Getting fired    \n",
    "**d.** High variance  "
   ]
  },
  {
   "cell_type": "raw",
   "metadata": {},
   "source": [
    "a. and b. - high bias"
   ]
  },
  {
   "cell_type": "markdown",
   "metadata": {},
   "source": [
    "# Python \n",
    "\n",
    "**[5% each; 25% total]** \n",
    "\n",
    "\n",
    "**1. Implement a binary tree in a python class that has the four methods we've covered.**"
   ]
  },
  {
   "cell_type": "code",
   "execution_count": 1,
   "metadata": {},
   "outputs": [
    {
     "name": "stdout",
     "output_type": "stream",
     "text": [
      "2\n",
      "3\n",
      "6\n",
      "7\n",
      "8\n",
      "9\n",
      "12\n",
      "13\n",
      "15\n",
      "16\n",
      "20\n"
     ]
    }
   ],
   "source": [
    "class BinaryTree:\n",
    "    def __init__(self, data):\n",
    "        self.left = None\n",
    "        self.right = None\n",
    "        self.data = data\n",
    "        \n",
    "    def insert(self, data):\n",
    "        if self.data:\n",
    "            if data < self.data:\n",
    "                if self.left is None:\n",
    "                    self.left = BinaryTree(data)\n",
    "                else:\n",
    "                    self.left.insert(data)\n",
    "            elif data > self.data:\n",
    "                if self.right is None:\n",
    "                    self.right = BinaryTree(data)\n",
    "                else:\n",
    "                    self.right.insert(data)\n",
    "            else:\n",
    "                print(\"duplicate, cannot be added\")\n",
    "        else:\n",
    "            self.data = data\n",
    "            \n",
    "    def find(self, val):\n",
    "        if val < self.data:\n",
    "            if self.left is None:\n",
    "                return f\"{val} not found\"\n",
    "            return self.left.find(val)\n",
    "        elif val > self.data:\n",
    "            if self.right is None:\n",
    "                return f\"{val} not found\"\n",
    "            return self.right.find(val)\n",
    "        else:\n",
    "            return f\"{val} found\"\n",
    "            \n",
    "    def print(self):\n",
    "        if self.left:\n",
    "            self.left.print()\n",
    "        print(self.data)\n",
    "        if self.right:\n",
    "            self.right.print()\n",
    "            \n",
    "tree = BinaryTree(12)\n",
    "tree.insert(6)\n",
    "tree.insert(2)\n",
    "tree.insert(3)\n",
    "tree.insert(8)\n",
    "tree.insert(7)\n",
    "tree.insert(9)\n",
    "tree.insert(16)\n",
    "tree.insert(13)\n",
    "tree.insert(15)\n",
    "tree.insert(20)\n",
    "\n",
    "tree.print()"
   ]
  },
  {
   "cell_type": "markdown",
   "metadata": {},
   "source": [
    "**2. Create a generator function that yields a power of 2 every time it's used. Demonstrate that it works.**"
   ]
  },
  {
   "cell_type": "code",
   "execution_count": 10,
   "metadata": {},
   "outputs": [],
   "source": [
    "my_list = [1, 3, 6, 10]"
   ]
  },
  {
   "cell_type": "code",
   "execution_count": 11,
   "metadata": {},
   "outputs": [],
   "source": [
    "def generator(my_list):\n",
    "\n",
    "    a = (x**2 for x in my_list)\n"
   ]
  },
  {
   "cell_type": "code",
   "execution_count": 13,
   "metadata": {},
   "outputs": [
    {
     "data": {
      "text/plain": [
       "36"
      ]
     },
     "execution_count": 13,
     "metadata": {},
     "output_type": "execute_result"
    }
   ],
   "source": [
    "next(a)"
   ]
  },
  {
   "cell_type": "markdown",
   "metadata": {},
   "source": [
    "**3. Convert the numbers 718 and 917 into binary values and then XOR them.**"
   ]
  },
  {
   "cell_type": "code",
   "execution_count": 17,
   "metadata": {},
   "outputs": [
    {
     "name": "stdout",
     "output_type": "stream",
     "text": [
      "0b1011001110\n",
      "0b1110010101\n",
      "<class 'str'>\n"
     ]
    }
   ],
   "source": [
    "a = bin(718)\n",
    "print(a)\n",
    "b = bin(917)\n",
    "print(b)\n",
    "print(type(b))"
   ]
  },
  {
   "cell_type": "code",
   "execution_count": 19,
   "metadata": {},
   "outputs": [
    {
     "name": "stdout",
     "output_type": "stream",
     "text": [
      "000101011011\n"
     ]
    }
   ],
   "source": [
    "c = ''.join('0' if i == j else '1' for i, j in zip(a,b))  #they are  the same lenght so it'll work\n",
    "print(c)"
   ]
  },
  {
   "cell_type": "markdown",
   "metadata": {},
   "source": [
    "**4. Create a dataclass that has the following attributes: name, age, grade and course.**"
   ]
  },
  {
   "cell_type": "code",
   "execution_count": 7,
   "metadata": {},
   "outputs": [],
   "source": [
    "from dataclasses import dataclass\n",
    "\n",
    "#No need for an init method\n",
    "@dataclass\n",
    "class Data:\n",
    "    name: str  #must use type annotations \n",
    "    age: int\n",
    "    grade: int \n",
    "    course: str\n",
    "    "
   ]
  },
  {
   "cell_type": "code",
   "execution_count": 8,
   "metadata": {},
   "outputs": [
    {
     "name": "stdout",
     "output_type": "stream",
     "text": [
      "Jane\n",
      "Data(name='Jane', age=15, grade=8, course='math')\n"
     ]
    }
   ],
   "source": [
    "a = Data(\"Jane\", 15, 8, \"math\")\n",
    "print(a.name)\n",
    "print(a)"
   ]
  },
  {
   "cell_type": "markdown",
   "metadata": {},
   "source": [
    "**5. Convert the following formula into a python function. Then use it to calculate the the standard deviation of the list.**\n",
    "\n",
    "$$ \\sigma = \\sqrt{\\frac{1}{N}\\sum_{i=1}^{N}(x_i - \\mu)^{2}}$$"
   ]
  },
  {
   "cell_type": "code",
   "execution_count": 34,
   "metadata": {},
   "outputs": [],
   "source": [
    "l = [10, 12, 23, 23, 16, 23, 21, 16]\n"
   ]
  },
  {
   "cell_type": "code",
   "execution_count": 35,
   "metadata": {},
   "outputs": [],
   "source": [
    "def stand_dev(l):\n",
    "    mu = sum(i for i in l)/len(l)\n",
    "    s = ((1/N * sum((x[i]-mu)**2))**0.5) for i in l\n",
    "    return s"
   ]
  },
  {
   "cell_type": "markdown",
   "metadata": {},
   "source": [
    "# Machine Learning Questions \n",
    "\n",
    "**1. Why would we not want a macine learning model to perfectly fit the data we used to train it?**"
   ]
  },
  {
   "cell_type": "raw",
   "metadata": {},
   "source": [
    "overfitting - it will work good for the current data but the predictions will not be accurate if we plug in new data!"
   ]
  },
  {
   "cell_type": "markdown",
   "metadata": {},
   "source": [
    "**2. What assumption must we make in order to do a linear regressions? Why do we make this assumption?**"
   ]
  },
  {
   "cell_type": "raw",
   "metadata": {},
   "source": [
    "We assume that the relationship btween the 2 variables is linear, meaning that as one grows the other also grows, or vise versa. I would usually check that by looking at the correlation (corr()), the closer to 1, the better. Also, I would plot a scattered plot, to see if there is a linear relationship."
   ]
  },
  {
   "cell_type": "markdown",
   "metadata": {},
   "source": [
    "**3. Explain what variance is and why increasing the complexity of our model causes it. What sacrifice might we make by lowering the complexity of our model?**"
   ]
  },
  {
   "cell_type": "raw",
   "metadata": {},
   "source": [
    "Variance - is the machine learning algorithm's ability to learn random things unrelated to the real signals. The variance measures how far a set of numbers are spread out from their average value. Everytime we increase the complexity of our code, the variance also increases, that's because the results also include noise and outliers and our machine learning algorithm can pick up on things we don't want it to. By lowering the complexity of our code (decreasing the features), the variance will decrease but we would increase the Bias."
   ]
  },
  {
   "cell_type": "markdown",
   "metadata": {},
   "source": [
    "# Numpy\n",
    "\n",
    "**This section is worth 12.5%**\n",
    "\n",
    "**1. Create an array of array of numbers from 1 to 100. Then use that array to get the results of the following formula for all of those values.**\n",
    "\n",
    "$$ y = x^{2}-x-6$$"
   ]
  },
  {
   "cell_type": "code",
   "execution_count": 11,
   "metadata": {},
   "outputs": [
    {
     "name": "stdout",
     "output_type": "stream",
     "text": [
      "-6\n",
      "-4\n",
      "0\n",
      "6\n",
      "14\n",
      "24\n",
      "36\n",
      "50\n",
      "66\n",
      "84\n",
      "104\n",
      "126\n",
      "150\n",
      "176\n",
      "204\n",
      "234\n",
      "266\n",
      "300\n",
      "336\n",
      "374\n",
      "414\n",
      "456\n",
      "500\n",
      "546\n",
      "594\n",
      "644\n",
      "696\n",
      "750\n",
      "806\n",
      "864\n",
      "924\n",
      "986\n",
      "1050\n",
      "1116\n",
      "1184\n",
      "1254\n",
      "1326\n",
      "1400\n",
      "1476\n",
      "1554\n",
      "1634\n",
      "1716\n",
      "1800\n",
      "1886\n",
      "1974\n",
      "2064\n",
      "2156\n",
      "2250\n",
      "2346\n",
      "2444\n",
      "2544\n",
      "2646\n",
      "2750\n",
      "2856\n",
      "2964\n",
      "3074\n",
      "3186\n",
      "3300\n",
      "3416\n",
      "3534\n",
      "3654\n",
      "3776\n",
      "3900\n",
      "4026\n",
      "4154\n",
      "4284\n",
      "4416\n",
      "4550\n",
      "4686\n",
      "4824\n",
      "4964\n",
      "5106\n",
      "5250\n",
      "5396\n",
      "5544\n",
      "5694\n",
      "5846\n",
      "6000\n",
      "6156\n",
      "6314\n",
      "6474\n",
      "6636\n",
      "6800\n",
      "6966\n",
      "7134\n",
      "7304\n",
      "7476\n",
      "7650\n",
      "7826\n",
      "8004\n",
      "8184\n",
      "8366\n",
      "8550\n",
      "8736\n",
      "8924\n",
      "9114\n",
      "9306\n",
      "9500\n",
      "9696\n",
      "9894\n"
     ]
    }
   ],
   "source": [
    "import numpy as np\n",
    "\n",
    "a = np.arange(1,101)\n",
    "a\n",
    "for i in a:\n",
    "    y = i**2 -i - 6\n",
    "    print(y)"
   ]
  },
  {
   "cell_type": "markdown",
   "metadata": {},
   "source": [
    "**2. Create two arrays containing the following matrices. Then prove they are inverses.**\n",
    "\n",
    "$$ A = \\begin{bmatrix}\n",
    "5&2\\\\\n",
    "-7&-3\\\\\n",
    "\\end{bmatrix}$$\n",
    "\n",
    "$$ B = \\begin{bmatrix}\n",
    "3&2\\\\\n",
    "-7&-5\\\\\n",
    "\\end{bmatrix}$$"
   ]
  },
  {
   "cell_type": "code",
   "execution_count": 27,
   "metadata": {},
   "outputs": [
    {
     "name": "stdout",
     "output_type": "stream",
     "text": [
      "[[ 5  2]\n",
      " [-7 -3]]\n",
      "[[ 3  2]\n",
      " [-7 -5]]\n"
     ]
    }
   ],
   "source": [
    "a=np.array([[5,2],[-7,-3]])\n",
    "b=np.array([[3,2],[-7, -5]])\n",
    "print(a)\n",
    "print(b)"
   ]
  },
  {
   "cell_type": "code",
   "execution_count": 32,
   "metadata": {},
   "outputs": [
    {
     "name": "stdout",
     "output_type": "stream",
     "text": [
      "[[ 3.  2.]\n",
      " [-7. -5.]]\n"
     ]
    }
   ],
   "source": [
    "ainv = np.linalg.inv(a)  #the inverse of a\n",
    "print(ainv) #we see that the invrse of a looks like b"
   ]
  },
  {
   "cell_type": "markdown",
   "metadata": {},
   "source": [
    "**3. Create an array using the following matrix so we have the values from the odd rows of the even columns.**\n",
    "\n",
    "Odd rows meaning rows with odd indices. Even columns meaning columns with even indices."
   ]
  },
  {
   "cell_type": "code",
   "execution_count": null,
   "metadata": {},
   "outputs": [],
   "source": [
    "a = np.array([[1,2,3,4,5,6,7],[8,9,10,11,12,13,14],[15,16,17,18,19,20,21]])\n",
    "a"
   ]
  },
  {
   "cell_type": "code",
   "execution_count": null,
   "metadata": {},
   "outputs": [],
   "source": []
  },
  {
   "cell_type": "markdown",
   "metadata": {},
   "source": [
    "**4. Create a square matrix containing the first 9 values of the following function. Reverse it and then flatten it. Show all of your code.**\n",
    "\n",
    "$$ y = |x|$$\n"
   ]
  },
  {
   "cell_type": "code",
   "execution_count": null,
   "metadata": {},
   "outputs": [],
   "source": []
  },
  {
   "cell_type": "markdown",
   "metadata": {},
   "source": [
    "**5. Create a sqaure numpy array of random numbers. Sort the array and then concatenate it with a similar sized matrix of zeros. Then compute the mean. Show all work.**"
   ]
  },
  {
   "cell_type": "code",
   "execution_count": null,
   "metadata": {},
   "outputs": [],
   "source": []
  },
  {
   "cell_type": "markdown",
   "metadata": {},
   "source": [
    "# Pandas \n",
    "\n",
    "**This section is worth 12.5%**\n",
    "\n",
    "The questions for this section use the dataframe below:"
   ]
  },
  {
   "cell_type": "code",
   "execution_count": null,
   "metadata": {},
   "outputs": [],
   "source": [
    "df = pd.DataFrame([\n",
    "[\"alice\", 9, 50, np.nan,75],\n",
    "[\"bob\", 5, 75, np.nan, 65],\n",
    "[\"carol\", 8, 90, np.nan, 90],\n",
    "[\"dave\", 8, 85, 90, 85],\n",
    "[\"erica\", 9, 95, 100, 95],\n",
    "[\"frank\", 0, 30, 60, 30],\n",
    "[\"gina\", 10,85, 100, np.nan],\n",
    "[\"hector\", 10, 95, np.nan, 95],\n",
    "[\"ivan\", 9,85, 90, np.nan],\n",
    "[\"john\", 5,70, 80, np.nan]\n",
    "], columns=['student', 'hws completed', 'test average', 'project grade', 'final score'])\n",
    "\n",
    "df"
   ]
  },
  {
   "cell_type": "markdown",
   "metadata": {},
   "source": [
    "**1. Fix the `\"hws completed\"` column by turning the number of hws completed into a percentage. There were 10 hws in the semester and students got 100% on each hw they completed.**"
   ]
  },
  {
   "cell_type": "code",
   "execution_count": null,
   "metadata": {},
   "outputs": [],
   "source": []
  },
  {
   "cell_type": "markdown",
   "metadata": {},
   "source": [
    "**2. Fix the missing values in the column `\"project grade\"` using the following formula**.\n",
    "\n",
    "$$ \\textbf{final grade} = \\frac{\\textbf{hw grade} + \\textbf{test grade} + \\textbf{project grade}}{3} $$"
   ]
  },
  {
   "cell_type": "code",
   "execution_count": null,
   "metadata": {},
   "outputs": [],
   "source": []
  },
  {
   "cell_type": "markdown",
   "metadata": {},
   "source": [
    "**3. Fix the missing values in the column `\"final grade\"` using the formula from the previous exercise.**"
   ]
  },
  {
   "cell_type": "code",
   "execution_count": null,
   "metadata": {},
   "outputs": [],
   "source": []
  },
  {
   "cell_type": "markdown",
   "metadata": {},
   "source": [
    "**4. Filter our dataframe and output the top 3 students by final grade.**"
   ]
  },
  {
   "cell_type": "code",
   "execution_count": null,
   "metadata": {},
   "outputs": [],
   "source": []
  },
  {
   "cell_type": "markdown",
   "metadata": {},
   "source": [
    "**5. Calculate the average grade for each of our four columns.**"
   ]
  },
  {
   "cell_type": "code",
   "execution_count": null,
   "metadata": {},
   "outputs": [],
   "source": []
  },
  {
   "cell_type": "markdown",
   "metadata": {},
   "source": [
    "# SQL \n",
    "\n",
    "Carol just received a job offer for a position as data scientist paying \\$140,000. Given the following sql database, update her information to reflect this new position."
   ]
  },
  {
   "cell_type": "code",
   "execution_count": 16,
   "metadata": {},
   "outputs": [],
   "source": [
    "# run this cell to set up your sqlite3 db.\n",
    "import sqlite3\n",
    "\n",
    "sql_commands = \\\n",
    "\"\"\"\n",
    "DROP TABLE IF EXISTS employees;\n",
    "\n",
    "CREATE TABLE employees (\n",
    " id INTEGER PRIMARY KEY,\n",
    " name TEXT NOT NULL,\n",
    " position TEXT NOT NULL,\n",
    " salary INTEGER NOT NULL\n",
    ");\n",
    "\n",
    "INSERT INTO employees \n",
    "(name, position, salary)\n",
    "VALUES \n",
    "('Alice', 'software engineer', 120000),\n",
    "('Bob', 'web developer',  80000),\n",
    "('Carol', 'intern', 10000);\n",
    "\"\"\"\n",
    "\n",
    "db = sqlite3.connect('employees.db')\n",
    "cursor = db.cursor()\n",
    "cursor.executescript(sql_commands)\n",
    "db.commit()\n",
    "db.close()"
   ]
  },
  {
   "cell_type": "code",
   "execution_count": 17,
   "metadata": {},
   "outputs": [],
   "source": [
    "# use this function for your answers.\n",
    "def with_conn(statement):\n",
    "    conn = sqlite3.connect('employees.db')\n",
    "    with conn:\n",
    "        cur = conn.cursor()\n",
    "        cur.execute(statement)\n",
    "        result = cur.fetchall()\n",
    "        return result "
   ]
  },
  {
   "cell_type": "code",
   "execution_count": 18,
   "metadata": {},
   "outputs": [
    {
     "data": {
      "text/plain": [
       "[(1, 'Alice', 'software engineer', 120000),\n",
       " (2, 'Bob', 'web developer', 80000),\n",
       " (3, 'Carol', 'intern', 10000)]"
      ]
     },
     "execution_count": 18,
     "metadata": {},
     "output_type": "execute_result"
    }
   ],
   "source": [
    "with_conn(\"SELECT * FROM employees;\")"
   ]
  },
  {
   "cell_type": "code",
   "execution_count": 23,
   "metadata": {},
   "outputs": [
    {
     "data": {
      "text/plain": [
       "[]"
      ]
     },
     "execution_count": 23,
     "metadata": {},
     "output_type": "execute_result"
    }
   ],
   "source": [
    "with_conn('UPDATE employees SET position=\"data scientist\", salary=140000 WHERE id = 3;')"
   ]
  },
  {
   "cell_type": "code",
   "execution_count": 24,
   "metadata": {},
   "outputs": [
    {
     "data": {
      "text/plain": [
       "[(1, 'Alice', 'software engineer', 120000),\n",
       " (2, 'Bob', 'web developer', 80000),\n",
       " (3, 'Carol', 'data scientist', 140000)]"
      ]
     },
     "execution_count": 24,
     "metadata": {},
     "output_type": "execute_result"
    }
   ],
   "source": [
    "with_conn(\"SELECT * FROM employees;\")"
   ]
  },
  {
   "cell_type": "markdown",
   "metadata": {},
   "source": [
    "# Matplotlib \n",
    "**This section is worth 5%**\n",
    "\n",
    "Using the following dataset, create a chart of the data using the right chart to convey the information. Make sure your chart is professional looking, utilizing axis labeling and a proper title. "
   ]
  },
  {
   "cell_type": "code",
   "execution_count": null,
   "metadata": {},
   "outputs": [],
   "source": [
    "df = pd.DataFrame([['alice',3.4,2016, '1LdRcdxfbSnmCYYNdeYpUnztiYzVfBEQeC'],['bob',0.4555, 2018,'12ib7dApVFvg82TXKycWBNpN8kFyiAN1dr'], ['carol', 5.42482302, 2015, '1LdRcdxfbSnmCYYNdeYpUnztiYzVfBEQeC'], ['davin',20.25, 2013,'3ETUmNhL2JuCFFVNSpk8Bqx2eorxyP9FVh'], ['eric',0.05,2021, '1LdRcdxfbSnmCYYNdeYpUnztiYzVfBEQeC']], columns=['name', 'bitcoins', 'year started', 'public key'])\n",
    "df.head()"
   ]
  },
  {
   "cell_type": "code",
   "execution_count": null,
   "metadata": {},
   "outputs": [],
   "source": []
  }
 ],
 "metadata": {
  "kernelspec": {
   "display_name": "Python 3",
   "language": "python",
   "name": "python3"
  },
  "language_info": {
   "codemirror_mode": {
    "name": "ipython",
    "version": 3
   },
   "file_extension": ".py",
   "mimetype": "text/x-python",
   "name": "python",
   "nbconvert_exporter": "python",
   "pygments_lexer": "ipython3",
   "version": "3.8.3"
  }
 },
 "nbformat": 4,
 "nbformat_minor": 5
}
