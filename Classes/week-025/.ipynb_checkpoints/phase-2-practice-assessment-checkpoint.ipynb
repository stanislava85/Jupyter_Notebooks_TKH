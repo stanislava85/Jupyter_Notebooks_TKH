{
 "cells": [
  {
   "cell_type": "markdown",
   "metadata": {},
   "source": [
    "<div style=\"background: #000;\n",
    "            color: #FFF;\n",
    "            margin: 0px;\n",
    "            padding: 10px 0px 20px 0px;\n",
    "            text-align: center; \n",
    "                \">\n",
    "    <h1>Phase 2 Practice Assessment</h1>\n",
    "</div>"
   ]
  },
  {
   "cell_type": "code",
   "execution_count": 48,
   "metadata": {},
   "outputs": [],
   "source": [
    "import pandas as pd\n",
    "import numpy as np\n",
    "import matplotlib.pyplot as plt\n",
    "import seaborn as sns"
   ]
  },
  {
   "cell_type": "markdown",
   "metadata": {},
   "source": [
    "# Multiple Choice Questions \n",
    "\n",
    "**[5% each; 25% total]**\n",
    "\n",
    "**1. What is a main benefit of test-driven development?**\n",
    "\n",
    "**a.** Less money needed  \n",
    "**b.** More fun   \n",
    "**c.** Slower development  \n",
    "**d.** Fewer bugs to deal with  "
   ]
  },
  {
   "cell_type": "raw",
   "metadata": {},
   "source": [
    "d."
   ]
  },
  {
   "cell_type": "markdown",
   "metadata": {},
   "source": [
    "**2. What would we use to calculate the number of ways we could arrange 20 students into a 5 person committee if we didn't care about committees having the same 5 members?**\n",
    "\n",
    "**a.** Factorial  \n",
    "**b.** Permutation  \n",
    "**c.** Combination  \n",
    "**d.** Probability Mass Function  "
   ]
  },
  {
   "cell_type": "raw",
   "metadata": {},
   "source": [
    "c. combinations - the order doesn't matter (in permutations it matters)"
   ]
  },
  {
   "cell_type": "markdown",
   "metadata": {},
   "source": [
    "**3. What is the set of possible outcomes for a random variable called?**\n",
    "\n",
    "**a.** Event Space  \n",
    "**b.** Experiment    \n",
    "**c.** Sample Space   \n",
    "**d.** Probability Distribution  "
   ]
  },
  {
   "cell_type": "raw",
   "metadata": {},
   "source": [
    "c. sample space (all possible outcomes)\n",
    "\n",
    "prob of event = amount of occurances / total sample space"
   ]
  },
  {
   "cell_type": "markdown",
   "metadata": {},
   "source": [
    "**4. Multiplying a matrix by its inverse results in what type of matrix**\n",
    "\n",
    "**a.** Square Matrix  \n",
    "**b.** The Matrix Trilogy  \n",
    "**c.** Zero Matrix  \n",
    "**d.** Identity Matrix  "
   ]
  },
  {
   "cell_type": "raw",
   "metadata": {},
   "source": [
    "d. "
   ]
  },
  {
   "cell_type": "markdown",
   "metadata": {},
   "source": [
    "**5. What's a consequence of underfitting?**\n",
    "\n",
    "**a.** Incorrect predictions   \n",
    "**b.** High bias  \n",
    "**c.** Getting fired    \n",
    "**d.** High variance  "
   ]
  },
  {
   "cell_type": "raw",
   "metadata": {},
   "source": [
    " a. incorrect predictions"
   ]
  },
  {
   "cell_type": "markdown",
   "metadata": {},
   "source": [
    "# Python \n",
    "\n",
    "**[5% each; 25% total]** \n",
    "\n",
    "\n",
    "**1. Implement a binary tree in a python class that has the four methods we've covered.**"
   ]
  },
  {
   "cell_type": "code",
   "execution_count": 1,
   "metadata": {},
   "outputs": [
    {
     "name": "stdout",
     "output_type": "stream",
     "text": [
      "2\n",
      "3\n",
      "6\n",
      "7\n",
      "8\n",
      "9\n",
      "12\n",
      "13\n",
      "15\n",
      "16\n",
      "20\n"
     ]
    }
   ],
   "source": [
    "class BinaryTree:\n",
    "    def __init__(self, data):\n",
    "        self.left = None\n",
    "        self.right = None\n",
    "        self.data = data\n",
    "        \n",
    "    def insert(self, data):\n",
    "        if self.data:\n",
    "            if data < self.data:\n",
    "                if self.left is None:\n",
    "                    self.left = BinaryTree(data)\n",
    "                else:\n",
    "                    self.left.insert(data)\n",
    "            elif data > self.data:\n",
    "                if self.right is None:\n",
    "                    self.right = BinaryTree(data)\n",
    "                else:\n",
    "                    self.right.insert(data)\n",
    "            else:\n",
    "                print(\"duplicate, cannot be added\")\n",
    "        else:\n",
    "            self.data = data\n",
    "            \n",
    "    def find(self, val):\n",
    "        if val < self.data:\n",
    "            if self.left is None:\n",
    "                return f\"{val} not found\"\n",
    "            return self.left.find(val)\n",
    "        elif val > self.data:\n",
    "            if self.right is None:\n",
    "                return f\"{val} not found\"\n",
    "            return self.right.find(val)\n",
    "        else:\n",
    "            return f\"{val} found\"\n",
    "            \n",
    "    def print(self):\n",
    "        if self.left:\n",
    "            self.left.print()\n",
    "        print(self.data)\n",
    "        if self.right:\n",
    "            self.right.print()\n",
    "            \n",
    "tree = BinaryTree(12)\n",
    "tree.insert(6)\n",
    "tree.insert(2)\n",
    "tree.insert(3)\n",
    "tree.insert(8)\n",
    "tree.insert(7)\n",
    "tree.insert(9)\n",
    "tree.insert(16)\n",
    "tree.insert(13)\n",
    "tree.insert(15)\n",
    "tree.insert(20)\n",
    "\n",
    "#tree.find(30)\n",
    "tree.print()"
   ]
  },
  {
   "cell_type": "markdown",
   "metadata": {},
   "source": [
    "**2. Create a generator function that yields a power of 2 every time it's used. Demonstrate that it works.**"
   ]
  },
  {
   "cell_type": "code",
   "execution_count": 17,
   "metadata": {},
   "outputs": [],
   "source": [
    "def generator(n):\n",
    "    for x in range(0,n):\n",
    "        yield 2**x\n"
   ]
  },
  {
   "cell_type": "code",
   "execution_count": 21,
   "metadata": {},
   "outputs": [],
   "source": [
    "a = generator(6)\n"
   ]
  },
  {
   "cell_type": "code",
   "execution_count": 24,
   "metadata": {},
   "outputs": [
    {
     "data": {
      "text/plain": [
       "4"
      ]
     },
     "execution_count": 24,
     "metadata": {},
     "output_type": "execute_result"
    }
   ],
   "source": [
    "next(a) #ran it 3 times "
   ]
  },
  {
   "cell_type": "raw",
   "metadata": {},
   "source": [
    "**3. Convert the numbers 718 and 917 into binary values and then XOR them.**"
   ]
  },
  {
   "cell_type": "code",
   "execution_count": 38,
   "metadata": {},
   "outputs": [
    {
     "data": {
      "text/plain": [
       "347"
      ]
     },
     "execution_count": 38,
     "metadata": {},
     "output_type": "execute_result"
    }
   ],
   "source": [
    "718 ^ 917"
   ]
  },
  {
   "cell_type": "code",
   "execution_count": 39,
   "metadata": {},
   "outputs": [
    {
     "name": "stdout",
     "output_type": "stream",
     "text": [
      "0b1011001110\n",
      "0b1110010101\n",
      "<class 'str'>\n"
     ]
    }
   ],
   "source": [
    "a = bin(718)\n",
    "print(a)\n",
    "b = bin(917)\n",
    "print(b)\n",
    "print(type(b))"
   ]
  },
  {
   "cell_type": "code",
   "execution_count": 40,
   "metadata": {},
   "outputs": [],
   "source": [
    "a = a[2:]\n",
    "b = b[2:]"
   ]
  },
  {
   "cell_type": "code",
   "execution_count": 41,
   "metadata": {},
   "outputs": [
    {
     "name": "stdout",
     "output_type": "stream",
     "text": [
      "1011001110\n"
     ]
    }
   ],
   "source": [
    "print(a)"
   ]
  },
  {
   "cell_type": "code",
   "execution_count": 42,
   "metadata": {},
   "outputs": [
    {
     "name": "stdout",
     "output_type": "stream",
     "text": [
      "1110010101\n"
     ]
    }
   ],
   "source": [
    "print(b)"
   ]
  },
  {
   "cell_type": "code",
   "execution_count": 37,
   "metadata": {},
   "outputs": [
    {
     "data": {
      "text/plain": [
       "2120994787"
      ]
     },
     "execution_count": 37,
     "metadata": {},
     "output_type": "execute_result"
    }
   ],
   "source": [
    "int(a) ^ int(b)"
   ]
  },
  {
   "cell_type": "code",
   "execution_count": null,
   "metadata": {},
   "outputs": [],
   "source": [
    "#or do"
   ]
  },
  {
   "cell_type": "code",
   "execution_count": 43,
   "metadata": {},
   "outputs": [
    {
     "name": "stdout",
     "output_type": "stream",
     "text": [
      "0101011011\n"
     ]
    }
   ],
   "source": [
    "c = ''.join('0' if i == j else '1' for i, j in zip(a,b))  #they are  the same lenght so it'll work\n",
    "print(c)"
   ]
  },
  {
   "cell_type": "code",
   "execution_count": 45,
   "metadata": {},
   "outputs": [
    {
     "data": {
      "text/plain": [
       "347"
      ]
     },
     "execution_count": 45,
     "metadata": {},
     "output_type": "execute_result"
    }
   ],
   "source": [
    "int('0101011011', 2)"
   ]
  },
  {
   "cell_type": "markdown",
   "metadata": {},
   "source": [
    "**4. Create a dataclass that has the following attributes: name, age, grade and course.**"
   ]
  },
  {
   "cell_type": "code",
   "execution_count": 49,
   "metadata": {},
   "outputs": [],
   "source": [
    "from dataclasses import dataclass\n",
    "\n",
    "#No need for an init method\n",
    "@dataclass\n",
    "class Data:\n",
    "    name: str  #must use type annotations \n",
    "    age: int\n",
    "    grade: int \n",
    "    course: str\n",
    "    "
   ]
  },
  {
   "cell_type": "code",
   "execution_count": 50,
   "metadata": {},
   "outputs": [
    {
     "name": "stdout",
     "output_type": "stream",
     "text": [
      "Jane\n",
      "Data(name='Jane', age=15, grade=8, course='math')\n"
     ]
    }
   ],
   "source": [
    "a = Data(\"Jane\", 15, 8, \"math\")\n",
    "print(a.name)\n",
    "print(a)"
   ]
  },
  {
   "cell_type": "markdown",
   "metadata": {},
   "source": [
    "**5. Convert the following formula into a python function. Then use it to calculate the the standard deviation of the list.**\n",
    "\n",
    "$$ \\sigma = \\sqrt{\\frac{1}{N}\\sum_{i=1}^{N}(x_i - \\mu)^{2}}$$"
   ]
  },
  {
   "cell_type": "code",
   "execution_count": 51,
   "metadata": {},
   "outputs": [],
   "source": [
    "l = [10, 12, 23, 23, 16, 23, 21, 16]\n"
   ]
  },
  {
   "cell_type": "code",
   "execution_count": 52,
   "metadata": {},
   "outputs": [
    {
     "data": {
      "text/plain": [
       "True"
      ]
     },
     "execution_count": 52,
     "metadata": {},
     "output_type": "execute_result"
    }
   ],
   "source": [
    "def std_dev(l=l):\n",
    "    length = len(l)\n",
    "    mean = sum(l)/length\n",
    "    summation = 0\n",
    "    for i in l:\n",
    "        summation += (i - mean)**2\n",
    "    return (summation/length)**0.5\n",
    "\n",
    "std_dev() == np.std(l)"
   ]
  },
  {
   "cell_type": "markdown",
   "metadata": {},
   "source": [
    "# Machine Learning Questions \n",
    "\n",
    "**1. Why would we not want a macine learning model to perfectly fit the data we used to train it?**"
   ]
  },
  {
   "cell_type": "raw",
   "metadata": {},
   "source": [
    "overfitting - it will work good for the current data but the predictions will not be accurate if we plug in new data!"
   ]
  },
  {
   "cell_type": "markdown",
   "metadata": {},
   "source": [
    "**2. What assumption must we make in order to do a linear regressions? Why do we make this assumption?**"
   ]
  },
  {
   "cell_type": "raw",
   "metadata": {},
   "source": [
    "We assume that the relationship btween the 2 variables is linear, meaning that as one grows the other also grows, or vise versa. I would usually check that by looking at the correlation (corr()), the closer to 1, the better. Also, I would plot a scattered plot, to see if there is a linear relationship."
   ]
  },
  {
   "cell_type": "markdown",
   "metadata": {},
   "source": [
    "**3. Explain what variance is and why increasing the complexity of our model causes it. What sacrifice might we make by lowering the complexity of our model?**"
   ]
  },
  {
   "cell_type": "raw",
   "metadata": {},
   "source": [
    "Variance - is the machine learning algorithm's ability to learn random things unrelated to the real signals. The variance measures how far a set of numbers are spread out from their average value. Everytime we increase the complexity of our code, the variance also increases, that's because the results also include noise and outliers and our machine learning algorithm can pick up on things we don't want it to. By lowering the complexity of our code (decreasing the features), the variance will decrease but we would increase the Bias.\n",
    "The sacrifice we make by lowering the complexity of our model is that by doing so, we lower the amount of information the model can use. If we do not give it enough information (by decreasing complexity), our machine learning algorithm can't learn effectively and our model won't give the correct outputs. This causes higher errors as well."
   ]
  },
  {
   "cell_type": "markdown",
   "metadata": {},
   "source": [
    "# Numpy\n",
    "\n",
    "**This section is worth 12.5%**\n",
    "\n",
    "**1. Create an array of array of numbers from 1 to 100. Then use that array to get the results of the following formula for all of those values.**\n",
    "\n",
    "$$ y = x^{2}-x-6$$"
   ]
  },
  {
   "cell_type": "code",
   "execution_count": 55,
   "metadata": {},
   "outputs": [
    {
     "name": "stdout",
     "output_type": "stream",
     "text": [
      "-6\n",
      "-4\n",
      "0\n",
      "6\n",
      "14\n",
      "24\n",
      "36\n",
      "50\n",
      "66\n",
      "84\n",
      "104\n",
      "126\n",
      "150\n",
      "176\n",
      "204\n",
      "234\n",
      "266\n",
      "300\n",
      "336\n",
      "374\n",
      "414\n",
      "456\n",
      "500\n",
      "546\n",
      "594\n",
      "644\n",
      "696\n",
      "750\n",
      "806\n",
      "864\n",
      "924\n",
      "986\n",
      "1050\n",
      "1116\n",
      "1184\n",
      "1254\n",
      "1326\n",
      "1400\n",
      "1476\n",
      "1554\n",
      "1634\n",
      "1716\n",
      "1800\n",
      "1886\n",
      "1974\n",
      "2064\n",
      "2156\n",
      "2250\n",
      "2346\n",
      "2444\n",
      "2544\n",
      "2646\n",
      "2750\n",
      "2856\n",
      "2964\n",
      "3074\n",
      "3186\n",
      "3300\n",
      "3416\n",
      "3534\n",
      "3654\n",
      "3776\n",
      "3900\n",
      "4026\n",
      "4154\n",
      "4284\n",
      "4416\n",
      "4550\n",
      "4686\n",
      "4824\n",
      "4964\n",
      "5106\n",
      "5250\n",
      "5396\n",
      "5544\n",
      "5694\n",
      "5846\n",
      "6000\n",
      "6156\n",
      "6314\n",
      "6474\n",
      "6636\n",
      "6800\n",
      "6966\n",
      "7134\n",
      "7304\n",
      "7476\n",
      "7650\n",
      "7826\n",
      "8004\n",
      "8184\n",
      "8366\n",
      "8550\n",
      "8736\n",
      "8924\n",
      "9114\n",
      "9306\n",
      "9500\n",
      "9696\n",
      "9894\n"
     ]
    }
   ],
   "source": [
    "import numpy as np\n",
    "\n",
    "a = np.arange(1,101)\n",
    "a\n",
    "for i in a:    \n",
    "    y = i**2 -i - 6\n",
    "    print(y)"
   ]
  },
  {
   "cell_type": "markdown",
   "metadata": {},
   "source": [
    "**2. Create two arrays containing the following matrices. Then prove they are inverses.**\n",
    "\n",
    "$$ A = \\begin{bmatrix}\n",
    "5&2\\\\\n",
    "-7&-3\\\\\n",
    "\\end{bmatrix}$$\n",
    "\n",
    "$$ B = \\begin{bmatrix}\n",
    "3&2\\\\\n",
    "-7&-5\\\\\n",
    "\\end{bmatrix}$$"
   ]
  },
  {
   "cell_type": "code",
   "execution_count": 57,
   "metadata": {},
   "outputs": [
    {
     "name": "stdout",
     "output_type": "stream",
     "text": [
      "[[ 5  2]\n",
      " [-7 -3]]\n",
      "[[ 3  2]\n",
      " [-7 -5]]\n"
     ]
    }
   ],
   "source": [
    "a=np.array([[5,2],[-7,-3]])\n",
    "b=np.array([[3,2],[-7, -5]])\n",
    "print(a)\n",
    "print(b)"
   ]
  },
  {
   "cell_type": "code",
   "execution_count": 32,
   "metadata": {},
   "outputs": [
    {
     "name": "stdout",
     "output_type": "stream",
     "text": [
      "[[ 3.  2.]\n",
      " [-7. -5.]]\n"
     ]
    }
   ],
   "source": [
    "ainv = np.linalg.inv(a)  #the inverse of a\n",
    "print(ainv) #we see that the invrse of a looks like b"
   ]
  },
  {
   "cell_type": "code",
   "execution_count": 59,
   "metadata": {},
   "outputs": [],
   "source": [
    "# or do:\n",
    "# A dot B gives a 2x2 identity matrix\n",
    "# because A dot A' == I\n",
    "# meaning A dot with its inverse equals the identity matrix\n",
    "a.dot(b)\n",
    "\n",
    "assert((a.dot(b) == np.eye(2)).all())"
   ]
  },
  {
   "cell_type": "markdown",
   "metadata": {},
   "source": [
    "**3. Create an array using the following matrix so we have the values from the odd rows of the even columns.**\n",
    "\n",
    "Odd rows meaning rows with odd indices. Even columns meaning columns with even indices."
   ]
  },
  {
   "cell_type": "code",
   "execution_count": 59,
   "metadata": {},
   "outputs": [
    {
     "data": {
      "text/plain": [
       "array([[ 1,  2,  3,  4,  5,  6,  7],\n",
       "       [ 8,  9, 10, 11, 12, 13, 14],\n",
       "       [15, 16, 17, 18, 19, 20, 21]])"
      ]
     },
     "execution_count": 59,
     "metadata": {},
     "output_type": "execute_result"
    }
   ],
   "source": [
    "a = np.array([[1,2,3,4,5,6,7],[8,9,10,11,12,13,14],[15,16,17,18,19,20,21]])\n",
    "a\n",
    "\n",
    "#odd rows by index = 1\n",
    "#even columns by index = 0, 2, 4, 6"
   ]
  },
  {
   "cell_type": "code",
   "execution_count": 65,
   "metadata": {},
   "outputs": [
    {
     "name": "stdout",
     "output_type": "stream",
     "text": [
      "[ 8 10 12 14]\n"
     ]
    }
   ],
   "source": [
    "print(a[[1],[0,2,4,6]])  #the values inthe first square brackets is the rows we want, the values in the second list/square brackets are the columns\n"
   ]
  },
  {
   "cell_type": "markdown",
   "metadata": {},
   "source": [
    "**4. Create a square matrix containing the first 9 values of the following function. Reverse it and then flatten it. Show all of your code.**\n",
    "\n",
    "$$ y = |x|$$\n"
   ]
  },
  {
   "cell_type": "code",
   "execution_count": 63,
   "metadata": {},
   "outputs": [
    {
     "data": {
      "text/plain": [
       "array([[0, 1, 2],\n",
       "       [3, 4, 5],\n",
       "       [6, 7, 8]])"
      ]
     },
     "execution_count": 63,
     "metadata": {},
     "output_type": "execute_result"
    }
   ],
   "source": [
    "d = np.arange(9).reshape(3,3)\n",
    "d"
   ]
  },
  {
   "cell_type": "code",
   "execution_count": 66,
   "metadata": {},
   "outputs": [
    {
     "data": {
      "text/plain": [
       "array([8, 7, 6, 5, 4, 3, 2, 1, 0])"
      ]
     },
     "execution_count": 66,
     "metadata": {},
     "output_type": "execute_result"
    }
   ],
   "source": [
    "d[::-1,::-1].flatten()"
   ]
  },
  {
   "cell_type": "markdown",
   "metadata": {},
   "source": [
    "**5. Create a sqaure numpy array of random numbers. Sort the array and then concatenate it with a similar sized matrix of zeros. Then compute the mean. Show all work.**"
   ]
  },
  {
   "cell_type": "code",
   "execution_count": 67,
   "metadata": {},
   "outputs": [
    {
     "data": {
      "text/plain": [
       "array([[0.82181862, 0.7582744 , 0.12884338, 0.94502737],\n",
       "       [0.39772244, 0.99726226, 0.0180832 , 0.62420479],\n",
       "       [0.05158735, 0.8991271 , 0.1588465 , 0.40823324],\n",
       "       [0.4357948 , 0.58365246, 0.40348965, 0.21907779]])"
      ]
     },
     "execution_count": 67,
     "metadata": {},
     "output_type": "execute_result"
    }
   ],
   "source": [
    "s = np.random.rand(4,4)\n",
    "s"
   ]
  },
  {
   "cell_type": "code",
   "execution_count": 68,
   "metadata": {},
   "outputs": [],
   "source": [
    "s1 = np.sort(s)"
   ]
  },
  {
   "cell_type": "code",
   "execution_count": 69,
   "metadata": {},
   "outputs": [
    {
     "data": {
      "text/plain": [
       "array([[0.12884338, 0.7582744 , 0.82181862, 0.94502737],\n",
       "       [0.0180832 , 0.39772244, 0.62420479, 0.99726226],\n",
       "       [0.05158735, 0.1588465 , 0.40823324, 0.8991271 ],\n",
       "       [0.21907779, 0.40348965, 0.4357948 , 0.58365246]])"
      ]
     },
     "execution_count": 69,
     "metadata": {},
     "output_type": "execute_result"
    }
   ],
   "source": [
    "s1"
   ]
  },
  {
   "cell_type": "code",
   "execution_count": 70,
   "metadata": {},
   "outputs": [
    {
     "data": {
      "text/plain": [
       "array([[0., 0., 0., 0.],\n",
       "       [0., 0., 0., 0.],\n",
       "       [0., 0., 0., 0.],\n",
       "       [0., 0., 0., 0.]])"
      ]
     },
     "execution_count": 70,
     "metadata": {},
     "output_type": "execute_result"
    }
   ],
   "source": [
    "m = np.zeros((4,4))\n",
    "m"
   ]
  },
  {
   "cell_type": "code",
   "execution_count": 71,
   "metadata": {},
   "outputs": [
    {
     "data": {
      "text/plain": [
       "array([[0.12884338, 0.7582744 , 0.82181862, 0.94502737],\n",
       "       [0.0180832 , 0.39772244, 0.62420479, 0.99726226],\n",
       "       [0.05158735, 0.1588465 , 0.40823324, 0.8991271 ],\n",
       "       [0.21907779, 0.40348965, 0.4357948 , 0.58365246],\n",
       "       [0.        , 0.        , 0.        , 0.        ],\n",
       "       [0.        , 0.        , 0.        , 0.        ],\n",
       "       [0.        , 0.        , 0.        , 0.        ],\n",
       "       [0.        , 0.        , 0.        , 0.        ]])"
      ]
     },
     "execution_count": 71,
     "metadata": {},
     "output_type": "execute_result"
    }
   ],
   "source": [
    "s1m = np.concatenate((s1, m), axis=0)\n",
    "s1m"
   ]
  },
  {
   "cell_type": "code",
   "execution_count": 72,
   "metadata": {},
   "outputs": [
    {
     "data": {
      "text/plain": [
       "0.24534516735039683"
      ]
     },
     "execution_count": 72,
     "metadata": {},
     "output_type": "execute_result"
    }
   ],
   "source": [
    "s1m.mean()"
   ]
  },
  {
   "cell_type": "markdown",
   "metadata": {},
   "source": [
    "# Pandas \n",
    "\n",
    "**This section is worth 12.5%**\n",
    "\n",
    "The questions for this section use the dataframe below:"
   ]
  },
  {
   "cell_type": "code",
   "execution_count": 80,
   "metadata": {},
   "outputs": [
    {
     "data": {
      "text/html": [
       "<div>\n",
       "<style scoped>\n",
       "    .dataframe tbody tr th:only-of-type {\n",
       "        vertical-align: middle;\n",
       "    }\n",
       "\n",
       "    .dataframe tbody tr th {\n",
       "        vertical-align: top;\n",
       "    }\n",
       "\n",
       "    .dataframe thead th {\n",
       "        text-align: right;\n",
       "    }\n",
       "</style>\n",
       "<table border=\"1\" class=\"dataframe\">\n",
       "  <thead>\n",
       "    <tr style=\"text-align: right;\">\n",
       "      <th></th>\n",
       "      <th>student</th>\n",
       "      <th>hws completed</th>\n",
       "      <th>test grade</th>\n",
       "      <th>project grade</th>\n",
       "      <th>final grade</th>\n",
       "    </tr>\n",
       "  </thead>\n",
       "  <tbody>\n",
       "    <tr>\n",
       "      <th>0</th>\n",
       "      <td>alice</td>\n",
       "      <td>9</td>\n",
       "      <td>50</td>\n",
       "      <td>NaN</td>\n",
       "      <td>75.0</td>\n",
       "    </tr>\n",
       "    <tr>\n",
       "      <th>1</th>\n",
       "      <td>bob</td>\n",
       "      <td>5</td>\n",
       "      <td>75</td>\n",
       "      <td>NaN</td>\n",
       "      <td>65.0</td>\n",
       "    </tr>\n",
       "    <tr>\n",
       "      <th>2</th>\n",
       "      <td>carol</td>\n",
       "      <td>8</td>\n",
       "      <td>90</td>\n",
       "      <td>NaN</td>\n",
       "      <td>90.0</td>\n",
       "    </tr>\n",
       "    <tr>\n",
       "      <th>3</th>\n",
       "      <td>dave</td>\n",
       "      <td>8</td>\n",
       "      <td>85</td>\n",
       "      <td>90.0</td>\n",
       "      <td>85.0</td>\n",
       "    </tr>\n",
       "    <tr>\n",
       "      <th>4</th>\n",
       "      <td>erica</td>\n",
       "      <td>9</td>\n",
       "      <td>95</td>\n",
       "      <td>100.0</td>\n",
       "      <td>95.0</td>\n",
       "    </tr>\n",
       "    <tr>\n",
       "      <th>5</th>\n",
       "      <td>frank</td>\n",
       "      <td>0</td>\n",
       "      <td>30</td>\n",
       "      <td>60.0</td>\n",
       "      <td>30.0</td>\n",
       "    </tr>\n",
       "    <tr>\n",
       "      <th>6</th>\n",
       "      <td>gina</td>\n",
       "      <td>10</td>\n",
       "      <td>85</td>\n",
       "      <td>100.0</td>\n",
       "      <td>NaN</td>\n",
       "    </tr>\n",
       "    <tr>\n",
       "      <th>7</th>\n",
       "      <td>hector</td>\n",
       "      <td>10</td>\n",
       "      <td>95</td>\n",
       "      <td>NaN</td>\n",
       "      <td>95.0</td>\n",
       "    </tr>\n",
       "    <tr>\n",
       "      <th>8</th>\n",
       "      <td>ivan</td>\n",
       "      <td>9</td>\n",
       "      <td>85</td>\n",
       "      <td>90.0</td>\n",
       "      <td>NaN</td>\n",
       "    </tr>\n",
       "    <tr>\n",
       "      <th>9</th>\n",
       "      <td>john</td>\n",
       "      <td>5</td>\n",
       "      <td>70</td>\n",
       "      <td>80.0</td>\n",
       "      <td>NaN</td>\n",
       "    </tr>\n",
       "  </tbody>\n",
       "</table>\n",
       "</div>"
      ],
      "text/plain": [
       "  student  hws completed  test grade  project grade  final grade\n",
       "0   alice              9          50            NaN         75.0\n",
       "1     bob              5          75            NaN         65.0\n",
       "2   carol              8          90            NaN         90.0\n",
       "3    dave              8          85           90.0         85.0\n",
       "4   erica              9          95          100.0         95.0\n",
       "5   frank              0          30           60.0         30.0\n",
       "6    gina             10          85          100.0          NaN\n",
       "7  hector             10          95            NaN         95.0\n",
       "8    ivan              9          85           90.0          NaN\n",
       "9    john              5          70           80.0          NaN"
      ]
     },
     "execution_count": 80,
     "metadata": {},
     "output_type": "execute_result"
    }
   ],
   "source": [
    "df = pd.DataFrame([\n",
    "[\"alice\", 9, 50, np.nan,75],\n",
    "[\"bob\", 5, 75, np.nan, 65],\n",
    "[\"carol\", 8, 90, np.nan, 90],\n",
    "[\"dave\", 8, 85, 90, 85],\n",
    "[\"erica\", 9, 95, 100, 95],\n",
    "[\"frank\", 0, 30, 60, 30],\n",
    "[\"gina\", 10,85, 100, np.nan],\n",
    "[\"hector\", 10, 95, np.nan, 95],\n",
    "[\"ivan\", 9,85, 90, np.nan],\n",
    "[\"john\", 5,70, 80, np.nan]\n",
    "], columns=['student', 'hws completed', 'test grade', 'project grade', 'final grade'])\n",
    "\n",
    "df"
   ]
  },
  {
   "cell_type": "markdown",
   "metadata": {},
   "source": [
    "**1. Fix the `\"hws completed\"` column by turning the number of hws completed into a percentage (and optionally changing the column name to \"hw grade\" since it now represents the hw grade after fixing) .There were 10 hws in the semester and students got 100% on each hw they completed.**"
   ]
  },
  {
   "cell_type": "code",
   "execution_count": 81,
   "metadata": {},
   "outputs": [],
   "source": [
    "df[\"hws completed\"] = ((df[\"hws completed\"] /10) *100)"
   ]
  },
  {
   "cell_type": "code",
   "execution_count": 82,
   "metadata": {},
   "outputs": [
    {
     "data": {
      "text/html": [
       "<div>\n",
       "<style scoped>\n",
       "    .dataframe tbody tr th:only-of-type {\n",
       "        vertical-align: middle;\n",
       "    }\n",
       "\n",
       "    .dataframe tbody tr th {\n",
       "        vertical-align: top;\n",
       "    }\n",
       "\n",
       "    .dataframe thead th {\n",
       "        text-align: right;\n",
       "    }\n",
       "</style>\n",
       "<table border=\"1\" class=\"dataframe\">\n",
       "  <thead>\n",
       "    <tr style=\"text-align: right;\">\n",
       "      <th></th>\n",
       "      <th>student</th>\n",
       "      <th>hw grade</th>\n",
       "      <th>test grade</th>\n",
       "      <th>project grade</th>\n",
       "      <th>final grade</th>\n",
       "    </tr>\n",
       "  </thead>\n",
       "  <tbody>\n",
       "    <tr>\n",
       "      <th>0</th>\n",
       "      <td>alice</td>\n",
       "      <td>90.0</td>\n",
       "      <td>50</td>\n",
       "      <td>NaN</td>\n",
       "      <td>75.0</td>\n",
       "    </tr>\n",
       "    <tr>\n",
       "      <th>1</th>\n",
       "      <td>bob</td>\n",
       "      <td>50.0</td>\n",
       "      <td>75</td>\n",
       "      <td>NaN</td>\n",
       "      <td>65.0</td>\n",
       "    </tr>\n",
       "    <tr>\n",
       "      <th>2</th>\n",
       "      <td>carol</td>\n",
       "      <td>80.0</td>\n",
       "      <td>90</td>\n",
       "      <td>NaN</td>\n",
       "      <td>90.0</td>\n",
       "    </tr>\n",
       "    <tr>\n",
       "      <th>3</th>\n",
       "      <td>dave</td>\n",
       "      <td>80.0</td>\n",
       "      <td>85</td>\n",
       "      <td>90.0</td>\n",
       "      <td>85.0</td>\n",
       "    </tr>\n",
       "    <tr>\n",
       "      <th>4</th>\n",
       "      <td>erica</td>\n",
       "      <td>90.0</td>\n",
       "      <td>95</td>\n",
       "      <td>100.0</td>\n",
       "      <td>95.0</td>\n",
       "    </tr>\n",
       "    <tr>\n",
       "      <th>5</th>\n",
       "      <td>frank</td>\n",
       "      <td>0.0</td>\n",
       "      <td>30</td>\n",
       "      <td>60.0</td>\n",
       "      <td>30.0</td>\n",
       "    </tr>\n",
       "    <tr>\n",
       "      <th>6</th>\n",
       "      <td>gina</td>\n",
       "      <td>100.0</td>\n",
       "      <td>85</td>\n",
       "      <td>100.0</td>\n",
       "      <td>NaN</td>\n",
       "    </tr>\n",
       "    <tr>\n",
       "      <th>7</th>\n",
       "      <td>hector</td>\n",
       "      <td>100.0</td>\n",
       "      <td>95</td>\n",
       "      <td>NaN</td>\n",
       "      <td>95.0</td>\n",
       "    </tr>\n",
       "    <tr>\n",
       "      <th>8</th>\n",
       "      <td>ivan</td>\n",
       "      <td>90.0</td>\n",
       "      <td>85</td>\n",
       "      <td>90.0</td>\n",
       "      <td>NaN</td>\n",
       "    </tr>\n",
       "    <tr>\n",
       "      <th>9</th>\n",
       "      <td>john</td>\n",
       "      <td>50.0</td>\n",
       "      <td>70</td>\n",
       "      <td>80.0</td>\n",
       "      <td>NaN</td>\n",
       "    </tr>\n",
       "  </tbody>\n",
       "</table>\n",
       "</div>"
      ],
      "text/plain": [
       "  student  hw grade  test grade  project grade  final grade\n",
       "0   alice      90.0          50            NaN         75.0\n",
       "1     bob      50.0          75            NaN         65.0\n",
       "2   carol      80.0          90            NaN         90.0\n",
       "3    dave      80.0          85           90.0         85.0\n",
       "4   erica      90.0          95          100.0         95.0\n",
       "5   frank       0.0          30           60.0         30.0\n",
       "6    gina     100.0          85          100.0          NaN\n",
       "7  hector     100.0          95            NaN         95.0\n",
       "8    ivan      90.0          85           90.0          NaN\n",
       "9    john      50.0          70           80.0          NaN"
      ]
     },
     "execution_count": 82,
     "metadata": {},
     "output_type": "execute_result"
    }
   ],
   "source": [
    "df.rename(columns={\"hws completed\": \"hw grade\"}, inplace=True)  \n",
    "df"
   ]
  },
  {
   "cell_type": "markdown",
   "metadata": {},
   "source": [
    "**2. Fix the missing values in the column `\"project grade\"` using the following formula**.\n",
    "\n",
    "$$ \\textbf{final grade} = \\frac{\\textbf{hw grade} + \\textbf{test grade} + \\textbf{project grade}}{3} $$"
   ]
  },
  {
   "cell_type": "code",
   "execution_count": 83,
   "metadata": {},
   "outputs": [
    {
     "data": {
      "text/html": [
       "<div>\n",
       "<style scoped>\n",
       "    .dataframe tbody tr th:only-of-type {\n",
       "        vertical-align: middle;\n",
       "    }\n",
       "\n",
       "    .dataframe tbody tr th {\n",
       "        vertical-align: top;\n",
       "    }\n",
       "\n",
       "    .dataframe thead th {\n",
       "        text-align: right;\n",
       "    }\n",
       "</style>\n",
       "<table border=\"1\" class=\"dataframe\">\n",
       "  <thead>\n",
       "    <tr style=\"text-align: right;\">\n",
       "      <th></th>\n",
       "      <th>student</th>\n",
       "      <th>hw grade</th>\n",
       "      <th>test grade</th>\n",
       "      <th>project grade</th>\n",
       "      <th>final grade</th>\n",
       "    </tr>\n",
       "  </thead>\n",
       "  <tbody>\n",
       "    <tr>\n",
       "      <th>0</th>\n",
       "      <td>alice</td>\n",
       "      <td>90.0</td>\n",
       "      <td>50</td>\n",
       "      <td>85.0</td>\n",
       "      <td>75.0</td>\n",
       "    </tr>\n",
       "    <tr>\n",
       "      <th>1</th>\n",
       "      <td>bob</td>\n",
       "      <td>50.0</td>\n",
       "      <td>75</td>\n",
       "      <td>70.0</td>\n",
       "      <td>65.0</td>\n",
       "    </tr>\n",
       "    <tr>\n",
       "      <th>2</th>\n",
       "      <td>carol</td>\n",
       "      <td>80.0</td>\n",
       "      <td>90</td>\n",
       "      <td>100.0</td>\n",
       "      <td>90.0</td>\n",
       "    </tr>\n",
       "    <tr>\n",
       "      <th>3</th>\n",
       "      <td>dave</td>\n",
       "      <td>80.0</td>\n",
       "      <td>85</td>\n",
       "      <td>90.0</td>\n",
       "      <td>85.0</td>\n",
       "    </tr>\n",
       "    <tr>\n",
       "      <th>4</th>\n",
       "      <td>erica</td>\n",
       "      <td>90.0</td>\n",
       "      <td>95</td>\n",
       "      <td>100.0</td>\n",
       "      <td>95.0</td>\n",
       "    </tr>\n",
       "    <tr>\n",
       "      <th>5</th>\n",
       "      <td>frank</td>\n",
       "      <td>0.0</td>\n",
       "      <td>30</td>\n",
       "      <td>60.0</td>\n",
       "      <td>30.0</td>\n",
       "    </tr>\n",
       "    <tr>\n",
       "      <th>6</th>\n",
       "      <td>gina</td>\n",
       "      <td>100.0</td>\n",
       "      <td>85</td>\n",
       "      <td>100.0</td>\n",
       "      <td>NaN</td>\n",
       "    </tr>\n",
       "    <tr>\n",
       "      <th>7</th>\n",
       "      <td>hector</td>\n",
       "      <td>100.0</td>\n",
       "      <td>95</td>\n",
       "      <td>90.0</td>\n",
       "      <td>95.0</td>\n",
       "    </tr>\n",
       "    <tr>\n",
       "      <th>8</th>\n",
       "      <td>ivan</td>\n",
       "      <td>90.0</td>\n",
       "      <td>85</td>\n",
       "      <td>90.0</td>\n",
       "      <td>NaN</td>\n",
       "    </tr>\n",
       "    <tr>\n",
       "      <th>9</th>\n",
       "      <td>john</td>\n",
       "      <td>50.0</td>\n",
       "      <td>70</td>\n",
       "      <td>80.0</td>\n",
       "      <td>NaN</td>\n",
       "    </tr>\n",
       "  </tbody>\n",
       "</table>\n",
       "</div>"
      ],
      "text/plain": [
       "  student  hw grade  test grade  project grade  final grade\n",
       "0   alice      90.0          50           85.0         75.0\n",
       "1     bob      50.0          75           70.0         65.0\n",
       "2   carol      80.0          90          100.0         90.0\n",
       "3    dave      80.0          85           90.0         85.0\n",
       "4   erica      90.0          95          100.0         95.0\n",
       "5   frank       0.0          30           60.0         30.0\n",
       "6    gina     100.0          85          100.0          NaN\n",
       "7  hector     100.0          95           90.0         95.0\n",
       "8    ivan      90.0          85           90.0          NaN\n",
       "9    john      50.0          70           80.0          NaN"
      ]
     },
     "execution_count": 83,
     "metadata": {},
     "output_type": "execute_result"
    }
   ],
   "source": [
    "df[\"project grade\"] = df[\"project grade\"].fillna((3 *df['final grade']) - df['hw grade'] - df['test grade'])\n",
    "df"
   ]
  },
  {
   "cell_type": "markdown",
   "metadata": {},
   "source": [
    "**3. Fix the missing values in the column `\"final grade\"` using the formula from the previous exercise.**"
   ]
  },
  {
   "cell_type": "code",
   "execution_count": 84,
   "metadata": {},
   "outputs": [
    {
     "data": {
      "text/html": [
       "<div>\n",
       "<style scoped>\n",
       "    .dataframe tbody tr th:only-of-type {\n",
       "        vertical-align: middle;\n",
       "    }\n",
       "\n",
       "    .dataframe tbody tr th {\n",
       "        vertical-align: top;\n",
       "    }\n",
       "\n",
       "    .dataframe thead th {\n",
       "        text-align: right;\n",
       "    }\n",
       "</style>\n",
       "<table border=\"1\" class=\"dataframe\">\n",
       "  <thead>\n",
       "    <tr style=\"text-align: right;\">\n",
       "      <th></th>\n",
       "      <th>student</th>\n",
       "      <th>hw grade</th>\n",
       "      <th>test grade</th>\n",
       "      <th>project grade</th>\n",
       "      <th>final grade</th>\n",
       "    </tr>\n",
       "  </thead>\n",
       "  <tbody>\n",
       "    <tr>\n",
       "      <th>0</th>\n",
       "      <td>alice</td>\n",
       "      <td>90.0</td>\n",
       "      <td>50</td>\n",
       "      <td>85.0</td>\n",
       "      <td>75.000000</td>\n",
       "    </tr>\n",
       "    <tr>\n",
       "      <th>1</th>\n",
       "      <td>bob</td>\n",
       "      <td>50.0</td>\n",
       "      <td>75</td>\n",
       "      <td>70.0</td>\n",
       "      <td>65.000000</td>\n",
       "    </tr>\n",
       "    <tr>\n",
       "      <th>2</th>\n",
       "      <td>carol</td>\n",
       "      <td>80.0</td>\n",
       "      <td>90</td>\n",
       "      <td>100.0</td>\n",
       "      <td>90.000000</td>\n",
       "    </tr>\n",
       "    <tr>\n",
       "      <th>3</th>\n",
       "      <td>dave</td>\n",
       "      <td>80.0</td>\n",
       "      <td>85</td>\n",
       "      <td>90.0</td>\n",
       "      <td>85.000000</td>\n",
       "    </tr>\n",
       "    <tr>\n",
       "      <th>4</th>\n",
       "      <td>erica</td>\n",
       "      <td>90.0</td>\n",
       "      <td>95</td>\n",
       "      <td>100.0</td>\n",
       "      <td>95.000000</td>\n",
       "    </tr>\n",
       "    <tr>\n",
       "      <th>5</th>\n",
       "      <td>frank</td>\n",
       "      <td>0.0</td>\n",
       "      <td>30</td>\n",
       "      <td>60.0</td>\n",
       "      <td>30.000000</td>\n",
       "    </tr>\n",
       "    <tr>\n",
       "      <th>6</th>\n",
       "      <td>gina</td>\n",
       "      <td>100.0</td>\n",
       "      <td>85</td>\n",
       "      <td>100.0</td>\n",
       "      <td>95.000000</td>\n",
       "    </tr>\n",
       "    <tr>\n",
       "      <th>7</th>\n",
       "      <td>hector</td>\n",
       "      <td>100.0</td>\n",
       "      <td>95</td>\n",
       "      <td>90.0</td>\n",
       "      <td>95.000000</td>\n",
       "    </tr>\n",
       "    <tr>\n",
       "      <th>8</th>\n",
       "      <td>ivan</td>\n",
       "      <td>90.0</td>\n",
       "      <td>85</td>\n",
       "      <td>90.0</td>\n",
       "      <td>88.333333</td>\n",
       "    </tr>\n",
       "    <tr>\n",
       "      <th>9</th>\n",
       "      <td>john</td>\n",
       "      <td>50.0</td>\n",
       "      <td>70</td>\n",
       "      <td>80.0</td>\n",
       "      <td>66.666667</td>\n",
       "    </tr>\n",
       "  </tbody>\n",
       "</table>\n",
       "</div>"
      ],
      "text/plain": [
       "  student  hw grade  test grade  project grade  final grade\n",
       "0   alice      90.0          50           85.0    75.000000\n",
       "1     bob      50.0          75           70.0    65.000000\n",
       "2   carol      80.0          90          100.0    90.000000\n",
       "3    dave      80.0          85           90.0    85.000000\n",
       "4   erica      90.0          95          100.0    95.000000\n",
       "5   frank       0.0          30           60.0    30.000000\n",
       "6    gina     100.0          85          100.0    95.000000\n",
       "7  hector     100.0          95           90.0    95.000000\n",
       "8    ivan      90.0          85           90.0    88.333333\n",
       "9    john      50.0          70           80.0    66.666667"
      ]
     },
     "execution_count": 84,
     "metadata": {},
     "output_type": "execute_result"
    }
   ],
   "source": [
    "df[\"final grade\"] = df[\"final grade\"].fillna((df['hw grade'] + df['test grade'] + df['project grade']) /3)\n",
    "df"
   ]
  },
  {
   "cell_type": "markdown",
   "metadata": {},
   "source": [
    "**4. Filter our dataframe and output the top 3 students by final grade.**"
   ]
  },
  {
   "cell_type": "code",
   "execution_count": 85,
   "metadata": {},
   "outputs": [
    {
     "data": {
      "text/html": [
       "<div>\n",
       "<style scoped>\n",
       "    .dataframe tbody tr th:only-of-type {\n",
       "        vertical-align: middle;\n",
       "    }\n",
       "\n",
       "    .dataframe tbody tr th {\n",
       "        vertical-align: top;\n",
       "    }\n",
       "\n",
       "    .dataframe thead th {\n",
       "        text-align: right;\n",
       "    }\n",
       "</style>\n",
       "<table border=\"1\" class=\"dataframe\">\n",
       "  <thead>\n",
       "    <tr style=\"text-align: right;\">\n",
       "      <th></th>\n",
       "      <th>student</th>\n",
       "      <th>hw grade</th>\n",
       "      <th>test grade</th>\n",
       "      <th>project grade</th>\n",
       "      <th>final grade</th>\n",
       "    </tr>\n",
       "  </thead>\n",
       "  <tbody>\n",
       "    <tr>\n",
       "      <th>4</th>\n",
       "      <td>erica</td>\n",
       "      <td>90.0</td>\n",
       "      <td>95</td>\n",
       "      <td>100.0</td>\n",
       "      <td>95.0</td>\n",
       "    </tr>\n",
       "    <tr>\n",
       "      <th>6</th>\n",
       "      <td>gina</td>\n",
       "      <td>100.0</td>\n",
       "      <td>85</td>\n",
       "      <td>100.0</td>\n",
       "      <td>95.0</td>\n",
       "    </tr>\n",
       "    <tr>\n",
       "      <th>7</th>\n",
       "      <td>hector</td>\n",
       "      <td>100.0</td>\n",
       "      <td>95</td>\n",
       "      <td>90.0</td>\n",
       "      <td>95.0</td>\n",
       "    </tr>\n",
       "  </tbody>\n",
       "</table>\n",
       "</div>"
      ],
      "text/plain": [
       "  student  hw grade  test grade  project grade  final grade\n",
       "4   erica      90.0          95          100.0         95.0\n",
       "6    gina     100.0          85          100.0         95.0\n",
       "7  hector     100.0          95           90.0         95.0"
      ]
     },
     "execution_count": 85,
     "metadata": {},
     "output_type": "execute_result"
    }
   ],
   "source": [
    "df.sort_values(by=['final grade'], ascending=False).head(3)"
   ]
  },
  {
   "cell_type": "markdown",
   "metadata": {},
   "source": [
    "**5. Calculate the average grade for each of our four columns.**"
   ]
  },
  {
   "cell_type": "code",
   "execution_count": 86,
   "metadata": {},
   "outputs": [
    {
     "data": {
      "text/plain": [
       "73.0"
      ]
     },
     "execution_count": 86,
     "metadata": {},
     "output_type": "execute_result"
    }
   ],
   "source": [
    "df['hw grade'].mean()"
   ]
  },
  {
   "cell_type": "code",
   "execution_count": 87,
   "metadata": {},
   "outputs": [
    {
     "data": {
      "text/plain": [
       "76.0"
      ]
     },
     "execution_count": 87,
     "metadata": {},
     "output_type": "execute_result"
    }
   ],
   "source": [
    "df['test grade'].mean()"
   ]
  },
  {
   "cell_type": "code",
   "execution_count": 88,
   "metadata": {},
   "outputs": [
    {
     "data": {
      "text/plain": [
       "86.5"
      ]
     },
     "execution_count": 88,
     "metadata": {},
     "output_type": "execute_result"
    }
   ],
   "source": [
    "df['project grade'].mean()"
   ]
  },
  {
   "cell_type": "code",
   "execution_count": 89,
   "metadata": {},
   "outputs": [
    {
     "data": {
      "text/plain": [
       "78.5"
      ]
     },
     "execution_count": 89,
     "metadata": {},
     "output_type": "execute_result"
    }
   ],
   "source": [
    "df['final grade'].mean()"
   ]
  },
  {
   "cell_type": "code",
   "execution_count": null,
   "metadata": {},
   "outputs": [],
   "source": [
    "# #or do:\n",
    "# for i in ['hw grade', 'test grade', 'project grade', 'final grade']:\n",
    "#     print(f\"{i} average: {np.mean(df[i])}\")"
   ]
  },
  {
   "cell_type": "markdown",
   "metadata": {},
   "source": [
    "# SQL \n",
    "\n",
    "Carol just received a job offer for a position as data scientist paying \\$140,000. Given the following sql database, update her information to reflect this new position."
   ]
  },
  {
   "cell_type": "code",
   "execution_count": 16,
   "metadata": {},
   "outputs": [],
   "source": [
    "# run this cell to set up your sqlite3 db.\n",
    "import sqlite3\n",
    "\n",
    "sql_commands = \\\n",
    "\"\"\"\n",
    "DROP TABLE IF EXISTS employees;\n",
    "\n",
    "CREATE TABLE employees (\n",
    " id INTEGER PRIMARY KEY,\n",
    " name TEXT NOT NULL,\n",
    " position TEXT NOT NULL,\n",
    " salary INTEGER NOT NULL\n",
    ");\n",
    "\n",
    "INSERT INTO employees \n",
    "(name, position, salary)\n",
    "VALUES \n",
    "('Alice', 'software engineer', 120000),\n",
    "('Bob', 'web developer',  80000),\n",
    "('Carol', 'intern', 10000);\n",
    "\"\"\"\n",
    "\n",
    "db = sqlite3.connect('employees.db')\n",
    "cursor = db.cursor()\n",
    "cursor.executescript(sql_commands)\n",
    "db.commit()\n",
    "db.close()"
   ]
  },
  {
   "cell_type": "code",
   "execution_count": 17,
   "metadata": {},
   "outputs": [],
   "source": [
    "# use this function for your answers.\n",
    "def with_conn(statement):\n",
    "    conn = sqlite3.connect('employees.db')\n",
    "    with conn:\n",
    "        cur = conn.cursor()\n",
    "        cur.execute(statement)\n",
    "        result = cur.fetchall()\n",
    "        return result "
   ]
  },
  {
   "cell_type": "code",
   "execution_count": 18,
   "metadata": {},
   "outputs": [
    {
     "data": {
      "text/plain": [
       "[(1, 'Alice', 'software engineer', 120000),\n",
       " (2, 'Bob', 'web developer', 80000),\n",
       " (3, 'Carol', 'intern', 10000)]"
      ]
     },
     "execution_count": 18,
     "metadata": {},
     "output_type": "execute_result"
    }
   ],
   "source": [
    "with_conn(\"SELECT * FROM employees;\")"
   ]
  },
  {
   "cell_type": "code",
   "execution_count": 23,
   "metadata": {},
   "outputs": [
    {
     "data": {
      "text/plain": [
       "[]"
      ]
     },
     "execution_count": 23,
     "metadata": {},
     "output_type": "execute_result"
    }
   ],
   "source": [
    "with_conn('UPDATE employees SET position=\"data scientist\", salary=140000 WHERE id = 3;')"
   ]
  },
  {
   "cell_type": "code",
   "execution_count": 24,
   "metadata": {},
   "outputs": [
    {
     "data": {
      "text/plain": [
       "[(1, 'Alice', 'software engineer', 120000),\n",
       " (2, 'Bob', 'web developer', 80000),\n",
       " (3, 'Carol', 'data scientist', 140000)]"
      ]
     },
     "execution_count": 24,
     "metadata": {},
     "output_type": "execute_result"
    }
   ],
   "source": [
    "with_conn(\"SELECT * FROM employees;\")"
   ]
  },
  {
   "cell_type": "markdown",
   "metadata": {},
   "source": [
    "# Matplotlib \n",
    "**This section is worth 5%**\n",
    "\n",
    "Using the following dataset, create a chart of the data using the right chart to convey the information. Make sure your chart is professional looking, utilizing axis labeling and a proper title. "
   ]
  },
  {
   "cell_type": "code",
   "execution_count": 92,
   "metadata": {},
   "outputs": [
    {
     "data": {
      "text/html": [
       "<div>\n",
       "<style scoped>\n",
       "    .dataframe tbody tr th:only-of-type {\n",
       "        vertical-align: middle;\n",
       "    }\n",
       "\n",
       "    .dataframe tbody tr th {\n",
       "        vertical-align: top;\n",
       "    }\n",
       "\n",
       "    .dataframe thead th {\n",
       "        text-align: right;\n",
       "    }\n",
       "</style>\n",
       "<table border=\"1\" class=\"dataframe\">\n",
       "  <thead>\n",
       "    <tr style=\"text-align: right;\">\n",
       "      <th></th>\n",
       "      <th>name</th>\n",
       "      <th>bitcoins</th>\n",
       "      <th>year started</th>\n",
       "      <th>public key</th>\n",
       "    </tr>\n",
       "  </thead>\n",
       "  <tbody>\n",
       "    <tr>\n",
       "      <th>0</th>\n",
       "      <td>alice</td>\n",
       "      <td>3.400000</td>\n",
       "      <td>2016</td>\n",
       "      <td>1LdRcdxfbSnmCYYNdeYpUnztiYzVfBEQeC</td>\n",
       "    </tr>\n",
       "    <tr>\n",
       "      <th>1</th>\n",
       "      <td>bob</td>\n",
       "      <td>0.455500</td>\n",
       "      <td>2018</td>\n",
       "      <td>12ib7dApVFvg82TXKycWBNpN8kFyiAN1dr</td>\n",
       "    </tr>\n",
       "    <tr>\n",
       "      <th>2</th>\n",
       "      <td>carol</td>\n",
       "      <td>5.424823</td>\n",
       "      <td>2015</td>\n",
       "      <td>1LdRcdxfbSnmCYYNdeYpUnztiYzVfBEQeC</td>\n",
       "    </tr>\n",
       "    <tr>\n",
       "      <th>3</th>\n",
       "      <td>davin</td>\n",
       "      <td>20.250000</td>\n",
       "      <td>2013</td>\n",
       "      <td>3ETUmNhL2JuCFFVNSpk8Bqx2eorxyP9FVh</td>\n",
       "    </tr>\n",
       "    <tr>\n",
       "      <th>4</th>\n",
       "      <td>eric</td>\n",
       "      <td>0.050000</td>\n",
       "      <td>2021</td>\n",
       "      <td>1LdRcdxfbSnmCYYNdeYpUnztiYzVfBEQeC</td>\n",
       "    </tr>\n",
       "  </tbody>\n",
       "</table>\n",
       "</div>"
      ],
      "text/plain": [
       "    name   bitcoins  year started                          public key\n",
       "0  alice   3.400000          2016  1LdRcdxfbSnmCYYNdeYpUnztiYzVfBEQeC\n",
       "1    bob   0.455500          2018  12ib7dApVFvg82TXKycWBNpN8kFyiAN1dr\n",
       "2  carol   5.424823          2015  1LdRcdxfbSnmCYYNdeYpUnztiYzVfBEQeC\n",
       "3  davin  20.250000          2013  3ETUmNhL2JuCFFVNSpk8Bqx2eorxyP9FVh\n",
       "4   eric   0.050000          2021  1LdRcdxfbSnmCYYNdeYpUnztiYzVfBEQeC"
      ]
     },
     "execution_count": 92,
     "metadata": {},
     "output_type": "execute_result"
    }
   ],
   "source": [
    "df = pd.DataFrame([['alice',3.4,2016, '1LdRcdxfbSnmCYYNdeYpUnztiYzVfBEQeC'],['bob',0.4555, 2018,'12ib7dApVFvg82TXKycWBNpN8kFyiAN1dr'], ['carol', 5.42482302, 2015, '1LdRcdxfbSnmCYYNdeYpUnztiYzVfBEQeC'], ['davin',20.25, 2013,'3ETUmNhL2JuCFFVNSpk8Bqx2eorxyP9FVh'], ['eric',0.05,2021, '1LdRcdxfbSnmCYYNdeYpUnztiYzVfBEQeC']], columns=['name', 'bitcoins', 'year started', 'public key'])\n",
    "df.head()"
   ]
  },
  {
   "cell_type": "code",
   "execution_count": 230,
   "metadata": {},
   "outputs": [],
   "source": [
    "# dates = tuple([i for i in df[\"year started\"].value_counts().keys()])\n",
    "# values = df['bitcoins']"
   ]
  },
  {
   "cell_type": "code",
   "execution_count": 120,
   "metadata": {},
   "outputs": [
    {
     "data": {
      "text/plain": [
       "bitcoins           2.332581\n",
       "year started    2017.500000\n",
       "dtype: float64"
      ]
     },
     "execution_count": 120,
     "metadata": {},
     "output_type": "execute_result"
    }
   ],
   "source": [
    "# bit_mean = np.mean(df[df[\"bitcoins\"] < 20])\n",
    "# bit_mean"
   ]
  },
  {
   "cell_type": "code",
   "execution_count": 131,
   "metadata": {},
   "outputs": [
    {
     "data": {
      "text/plain": [
       "0    alice\n",
       "1      bob\n",
       "2    carol\n",
       "4     eric\n",
       "Name: name, dtype: object"
      ]
     },
     "execution_count": 131,
     "metadata": {},
     "output_type": "execute_result"
    }
   ],
   "source": [
    "labels=df[df[\"bitcoins\"] < 20][\"name\"]   #without David\n",
    "labels"
   ]
  },
  {
   "cell_type": "code",
   "execution_count": 107,
   "metadata": {},
   "outputs": [
    {
     "data": {
      "text/plain": [
       "0    3.400000\n",
       "1    0.455500\n",
       "2    5.424823\n",
       "4    0.050000\n",
       "Name: bitcoins, dtype: float64"
      ]
     },
     "execution_count": 107,
     "metadata": {},
     "output_type": "execute_result"
    }
   ],
   "source": [
    "sizes= df[df['bitcoins']<20]['bitcoins']  #Excluding David because he has too many and the distribution looks weird\n",
    "sizes"
   ]
  },
  {
   "cell_type": "code",
   "execution_count": 112,
   "metadata": {},
   "outputs": [
    {
     "data": {
      "text/plain": [
       "0    alice\n",
       "1      bob\n",
       "2    carol\n",
       "4     eric\n",
       "Name: name, dtype: object"
      ]
     },
     "execution_count": 112,
     "metadata": {},
     "output_type": "execute_result"
    }
   ],
   "source": [
    "labels=df[df[\"bitcoins\"] < 20][\"name\"]   #without David\n",
    "labels"
   ]
  },
  {
   "cell_type": "code",
   "execution_count": 113,
   "metadata": {},
   "outputs": [
    {
     "data": {
      "image/png": "[encoded data removed]",
      "text/plain": [
       "<Figure size 432x288 with 1 Axes>"
      ]
     },
     "metadata": {},
     "output_type": "display_data"
    }
   ],
   "source": [
    "explode = (0, 0, 0, 0)   #tuple holding values, how far the pie pieces are\n",
    "#the number or args in explode has to match the number of label values\n",
    "\n",
    "fig, ax = plt.subplots()\n",
    "ax.pie(sizes, explode=explode, labels=labels, autopct='%1.1f%%', shadow=True, startangle=90)  \n",
    "#sizes - passing the %s; #explode- the space #labels #python str formatting; #shadow #startangle- to rotate pie, by default is 0\n",
    "ax.axis('equal')  #puts it in the center\n",
    "ax.set(title='How Many Bitcoins Do They Have /Excluding David/')\n",
    "ax.legend()\n",
    "plt.show()"
   ]
  },
  {
   "cell_type": "code",
   "execution_count": null,
   "metadata": {},
   "outputs": [],
   "source": []
  }
 ],
 "metadata": {
  "kernelspec": {
   "display_name": "Python 3",
   "language": "python",
   "name": "python3"
  },
  "language_info": {
   "codemirror_mode": {
    "name": "ipython",
    "version": 3
   },
   "file_extension": ".py",
   "mimetype": "text/x-python",
   "name": "python",
   "nbconvert_exporter": "python",
   "pygments_lexer": "ipython3",
   "version": "3.8.3"
  }
 },
 "nbformat": 4,
 "nbformat_minor": 5
}
